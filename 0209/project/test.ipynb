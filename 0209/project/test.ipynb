{
 "cells": [
  {
   "cell_type": "code",
   "execution_count": 5,
   "metadata": {},
   "outputs": [
    {
     "data": {
      "text/plain": [
       "tensor([[[ 2.1748,  0.6858, -0.1742, -2.4586,  0.3183],\n",
       "         [-0.5036,  1.0337, -0.9911, -0.6379,  0.5337]],\n",
       "\n",
       "        [[ 0.5633,  1.0901,  0.6712,  0.5705,  1.0497],\n",
       "         [ 1.1368,  1.2007, -0.2224,  0.8932, -0.9019]]])"
      ]
     },
     "execution_count": 5,
     "metadata": {},
     "output_type": "execute_result"
    }
   ],
   "source": [
    "import torch\n",
    "import torch.nn as nn\n",
    "\n",
    "# 創建一個 Conv1d 層\n",
    "# in_channels=1: 輸入通道數為 1\n",
    "# out_channels=1: 輸出通道數為 1\n",
    "# kernel_size=3: 卷積核大小為 3\n",
    "conv1d = nn.Conv1d(in_channels=2, out_channels=2, kernel_size=3, padding=1, stride=1)\n",
    "\n",
    "# 創建一個隨機數據作為輸入\n",
    "# (batch_size=1, channels=1, length=10)\n",
    "input_data = torch.randn(2, 2, 5)\n",
    "\n",
    "# 將輸入數據通過 Conv1d 層\n",
    "output_data = conv1d(input_data)\n",
    "\n",
    "input_data, output_data, conv1d.weight.data, conv1d.bias.data\n",
    "\n"
   ]
  },
  {
   "cell_type": "code",
   "execution_count": 11,
   "metadata": {},
   "outputs": [
    {
     "name": "stdout",
     "output_type": "stream",
     "text": [
      "input_data: \n",
      " tensor([[[ 2.1748,  0.6858, -0.1742, -2.4586,  0.3183],\n",
      "         [-0.5036,  1.0337, -0.9911, -0.6379,  0.5337]],\n",
      "\n",
      "        [[ 0.5633,  1.0901,  0.6712,  0.5705,  1.0497],\n",
      "         [ 1.1368,  1.2007, -0.2224,  0.8932, -0.9019]]]) \n",
      "\n",
      "output_data: \n",
      " tensor([[[ 0.8462,  0.8953, -0.0970,  0.1382,  0.6288],\n",
      "         [-0.7393, -1.0093, -0.8678,  1.2026,  1.0398]],\n",
      "\n",
      "        [[ 1.1388,  0.4108,  0.2892,  0.3494, -0.0661],\n",
      "         [ 0.1889, -0.6460, -0.7982, -0.3143, -0.9407]]],\n",
      "       grad_fn=<ConvolutionBackward0>) \n",
      "\n",
      "conv1d.weight.data: \n",
      " tensor([[[ 0.0905,  0.1911, -0.2181],\n",
      "         [-0.3692,  0.3786,  0.4044]],\n",
      "\n",
      "        [[-0.3941, -0.3882,  0.0995],\n",
      "         [-0.1894,  0.1484,  0.1131]]]) \n",
      "\n",
      "conv1d.bias.data: \n",
      " tensor([ 0.3529, -0.0055]) \n",
      "\n"
     ]
    },
    {
     "ename": "",
     "evalue": "",
     "output_type": "error",
     "traceback": [
      "\u001b[1;31mThe Kernel crashed while executing code in the the current cell or a previous cell. Please review the code in the cell(s) to identify a possible cause of the failure. Click <a href='https://aka.ms/vscodeJupyterKernelCrash'>here</a> for more info. View Jupyter <a href='command:jupyter.viewOutput'>log</a> for further details."
     ]
    }
   ],
   "source": [
    "print('input_data: \\n', input_data, '\\n')\n",
    "print('output_data: \\n', output_data, '\\n')\n",
    "print('conv1d.weight.data: \\n', conv1d.weight.data, '\\n')\n",
    "print('conv1d.bias.data: \\n', conv1d.bias.data, '\\n')\n"
   ]
  }
 ],
 "metadata": {
  "kernelspec": {
   "display_name": "myenv",
   "language": "python",
   "name": "python3"
  },
  "language_info": {
   "codemirror_mode": {
    "name": "ipython",
    "version": 3
   },
   "file_extension": ".py",
   "mimetype": "text/x-python",
   "name": "python",
   "nbconvert_exporter": "python",
   "pygments_lexer": "ipython3",
   "version": "3.10.7"
  }
 },
 "nbformat": 4,
 "nbformat_minor": 2
}
