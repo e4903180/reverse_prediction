{
 "cells": [
  {
   "cell_type": "code",
   "execution_count": 1,
   "metadata": {},
   "outputs": [],
   "source": [
    "import json\n",
    "from preprocessor.preprocessor_pytorch import Preprocessor\n",
    "from model.model_pytorch import Model\n",
    "from postprocessor.postprocessor import Postprocesser\n",
    "from evaluator.evaluator_pytorch import Evaluator\n",
    "import numpy as np\n",
    "import pandas as pd\n",
    "import tensorflow as tf\n",
    "import random\n",
    "import torch\n",
    "import torch.nn as nn\n",
    "import torch.nn.functional as F\n",
    "import tqdm\n",
    "import os\n",
    "import time\n",
    "\n",
    "\n",
    "def set_seed(seed_value):\n",
    "    np.random.seed(seed_value)\n",
    "    tf.random.set_seed(seed_value)\n",
    "    random.seed(seed_value)\n",
    "    torch.manual_seed(seed_value)\n",
    "set_seed(42)\n",
    "\n",
    "with open('parameters.json', 'r') as file:\n",
    "    params = json.load(file)\n"
   ]
  },
  {
   "cell_type": "code",
   "execution_count": 2,
   "metadata": {},
   "outputs": [],
   "source": [
    "import os\n",
    "current_dir = 'test'\n",
    "\n",
    "os.makedirs(os.path.join(current_dir, 'plots'), exist_ok=True)\n",
    "os.makedirs(os.path.join(current_dir, 'models'), exist_ok=True)\n",
    "os.makedirs(os.path.join(current_dir, 'reports'), exist_ok=True)\n",
    "os.makedirs(os.path.join(current_dir, 'data'), exist_ok=True)"
   ]
  },
  {
   "cell_type": "code",
   "execution_count": 3,
   "metadata": {},
   "outputs": [
    {
     "name": "stdout",
     "output_type": "stream",
     "text": [
      "[*********************100%***********************]  1 of 1 completed\n"
     ]
    },
    {
     "name": "stderr",
     "output_type": "stream",
     "text": [
      "c:\\Users\\e4903\\Desktop\\code\\2023_hw\\reverse_prediction\\0212\\project\\preprocessor\\preprocessor_pytorch.py:56: SettingWithCopyWarning: \n",
      "A value is trying to be set on a copy of a slice from a DataFrame\n",
      "\n",
      "See the caveats in the documentation: https://pandas.pydata.org/pandas-docs/stable/user_guide/indexing.html#returning-a-view-versus-a-copy\n",
      "  data['Trend'].iloc[i:i + trend_days] = 0 # up trend\n",
      "c:\\Users\\e4903\\Desktop\\code\\2023_hw\\reverse_prediction\\0212\\project\\preprocessor\\preprocessor_pytorch.py:58: SettingWithCopyWarning: \n",
      "A value is trying to be set on a copy of a slice from a DataFrame\n",
      "\n",
      "See the caveats in the documentation: https://pandas.pydata.org/pandas-docs/stable/user_guide/indexing.html#returning-a-view-versus-a-copy\n",
      "  data['Trend'].iloc[i:i + trend_days] = 1 # down trend\n"
     ]
    },
    {
     "name": "stdout",
     "output_type": "stream",
     "text": [
      "[*********************100%***********************]  1 of 1 completed\n",
      "[*********************100%***********************]  1 of 1 completed\n",
      "[*********************100%***********************]  1 of 1 completed\n",
      "[*********************100%***********************]  1 of 1 completed\n",
      "[*********************100%***********************]  1 of 1 completed\n"
     ]
    },
    {
     "name": "stderr",
     "output_type": "stream",
     "text": [
      "c:\\Users\\e4903\\Desktop\\code\\2023_hw\\reverse_prediction\\0212\\project\\preprocessor\\preprocessor_pytorch.py:56: SettingWithCopyWarning: \n",
      "A value is trying to be set on a copy of a slice from a DataFrame\n",
      "\n",
      "See the caveats in the documentation: https://pandas.pydata.org/pandas-docs/stable/user_guide/indexing.html#returning-a-view-versus-a-copy\n",
      "  data['Trend'].iloc[i:i + trend_days] = 0 # up trend\n",
      "c:\\Users\\e4903\\Desktop\\code\\2023_hw\\reverse_prediction\\0212\\project\\preprocessor\\preprocessor_pytorch.py:58: SettingWithCopyWarning: \n",
      "A value is trying to be set on a copy of a slice from a DataFrame\n",
      "\n",
      "See the caveats in the documentation: https://pandas.pydata.org/pandas-docs/stable/user_guide/indexing.html#returning-a-view-versus-a-copy\n",
      "  data['Trend'].iloc[i:i + trend_days] = 1 # down trend\n"
     ]
    },
    {
     "name": "stdout",
     "output_type": "stream",
     "text": [
      "[*********************100%***********************]  1 of 1 completed\n",
      "[*********************100%***********************]  1 of 1 completed\n",
      "[*********************100%***********************]  1 of 1 completed\n",
      "[*********************100%***********************]  1 of 1 completed\n",
      "[*********************100%***********************]  1 of 1 completed\n"
     ]
    },
    {
     "name": "stderr",
     "output_type": "stream",
     "text": [
      "c:\\Users\\e4903\\Desktop\\code\\2023_hw\\reverse_prediction\\0212\\project\\preprocessor\\preprocessor_pytorch.py:56: SettingWithCopyWarning: \n",
      "A value is trying to be set on a copy of a slice from a DataFrame\n",
      "\n",
      "See the caveats in the documentation: https://pandas.pydata.org/pandas-docs/stable/user_guide/indexing.html#returning-a-view-versus-a-copy\n",
      "  data['Trend'].iloc[i:i + trend_days] = 0 # up trend\n",
      "c:\\Users\\e4903\\Desktop\\code\\2023_hw\\reverse_prediction\\0212\\project\\preprocessor\\preprocessor_pytorch.py:58: SettingWithCopyWarning: \n",
      "A value is trying to be set on a copy of a slice from a DataFrame\n",
      "\n",
      "See the caveats in the documentation: https://pandas.pydata.org/pandas-docs/stable/user_guide/indexing.html#returning-a-view-versus-a-copy\n",
      "  data['Trend'].iloc[i:i + trend_days] = 1 # down trend\n"
     ]
    },
    {
     "name": "stdout",
     "output_type": "stream",
     "text": [
      "[*********************100%***********************]  1 of 1 completed\n",
      "[*********************100%***********************]  1 of 1 completed\n",
      "[*********************100%***********************]  1 of 1 completed\n",
      "[*********************100%***********************]  1 of 1 completed\n",
      "[*********************100%***********************]  1 of 1 completed\n"
     ]
    },
    {
     "name": "stderr",
     "output_type": "stream",
     "text": [
      "c:\\Users\\e4903\\Desktop\\code\\2023_hw\\reverse_prediction\\0212\\project\\preprocessor\\preprocessor_pytorch.py:56: SettingWithCopyWarning: \n",
      "A value is trying to be set on a copy of a slice from a DataFrame\n",
      "\n",
      "See the caveats in the documentation: https://pandas.pydata.org/pandas-docs/stable/user_guide/indexing.html#returning-a-view-versus-a-copy\n",
      "  data['Trend'].iloc[i:i + trend_days] = 0 # up trend\n",
      "c:\\Users\\e4903\\Desktop\\code\\2023_hw\\reverse_prediction\\0212\\project\\preprocessor\\preprocessor_pytorch.py:58: SettingWithCopyWarning: \n",
      "A value is trying to be set on a copy of a slice from a DataFrame\n",
      "\n",
      "See the caveats in the documentation: https://pandas.pydata.org/pandas-docs/stable/user_guide/indexing.html#returning-a-view-versus-a-copy\n",
      "  data['Trend'].iloc[i:i + trend_days] = 1 # down trend\n"
     ]
    },
    {
     "name": "stdout",
     "output_type": "stream",
     "text": [
      "[*********************100%***********************]  1 of 1 completed\n",
      "[*********************100%***********************]  1 of 1 completed\n",
      "[*********************100%***********************]  1 of 1 completed\n",
      "[*********************100%***********************]  1 of 1 completed\n"
     ]
    },
    {
     "name": "stderr",
     "output_type": "stream",
     "text": [
      "100%|██████████| 429/429 [00:00<00:00, 24999.39it/s]\n"
     ]
    },
    {
     "name": "stdout",
     "output_type": "stream",
     "text": [
      "Training set shape: torch.Size([1372, 33, 32])\n",
      "Validation set shape: torch.Size([344, 33, 32])\n"
     ]
    }
   ],
   "source": [
    "preprocessor = Preprocessor(params)\n",
    "X_train, y_train, X_val, y_val, X_test, y_test, train_dates, test_dates, X_newest, x_newest_date, SP500 = preprocessor.get_multiple_data()\n"
   ]
  },
  {
   "cell_type": "code",
   "execution_count": 4,
   "metadata": {},
   "outputs": [],
   "source": [
    "start_time = time.time()"
   ]
  },
  {
   "cell_type": "code",
   "execution_count": 5,
   "metadata": {},
   "outputs": [
    {
     "name": "stderr",
     "output_type": "stream",
     "text": [
      "c:\\Users\\e4903\\Desktop\\code\\myenv\\lib\\site-packages\\torch\\nn\\modules\\rnn.py:67: UserWarning: dropout option adds dropout after all but last recurrent layer, so non-zero dropout expects num_layers greater than 1, but got dropout=0.2 and num_layers=1\n",
      "  warnings.warn(\"dropout option adds dropout after all but last \"\n",
      " 18%|█▊        | 182/1000 [00:18<01:21, 10.09it/s]\n"
     ]
    }
   ],
   "source": [
    "model_wrapper = Model(params=params)\n",
    "model, history, y_preds, online_training_losses, online_training_acc = \\\n",
    "    model_wrapper.run(X_train, y_train, X_test, y_test, X_val, y_val, current_dir)\n"
   ]
  },
  {
   "cell_type": "code",
   "execution_count": 6,
   "metadata": {},
   "outputs": [
    {
     "name": "stdout",
     "output_type": "stream",
     "text": [
      "Execution time: 170.60193634033203 seconds\n"
     ]
    }
   ],
   "source": [
    "end_time = time.time()\n",
    "execution_time = end_time - start_time\n",
    "print(f\"Execution time: {execution_time} seconds\")\n"
   ]
  },
  {
   "cell_type": "code",
   "execution_count": 7,
   "metadata": {},
   "outputs": [],
   "source": [
    "y_preds = torch.tensor(y_preds, dtype=torch.float32)\n",
    "y_preds = preprocessor.change_values_after_first_reverse_point(y_preds)\n"
   ]
  },
  {
   "cell_type": "code",
   "execution_count": null,
   "metadata": {},
   "outputs": [],
   "source": [
    "params['filter'] = 10"
   ]
  },
  {
   "cell_type": "code",
   "execution_count": 8,
   "metadata": {},
   "outputs": [],
   "source": [
    "postprocessor = Postprocesser()\n",
    "X_train, X_test, X_newest, y_train, y_test, y_preds = \\\n",
    "    postprocessor.check_shape(X_train, X_test, X_newest, y_train, y_test, y_preds, reshape=params['model_params'][params['model_type']]['reshape'])\n",
    "test_trade_signals = postprocessor.process_signals(y_test, test_dates, False)\n",
    "pred_trade_signals = postprocessor.process_signals(y_preds, test_dates, params['filter'])\n"
   ]
  },
  {
   "cell_type": "code",
   "execution_count": 9,
   "metadata": {},
   "outputs": [
    {
     "name": "stderr",
     "output_type": "stream",
     "text": [
      "c:\\Users\\e4903\\Desktop\\code\\2023_hw\\reverse_prediction\\0212\\project\\evaluator\\evaluator_pytorch.py:197: UserWarning: Boolean Series key will be reindexed to match DataFrame index.\n",
      "  buy_signals = trade_signals.loc[x_start:x_stop][(trade_signals['Signal'] == 'Buy') | (trade_signals['Signal'] == 'Buy (first)')]\n",
      "c:\\Users\\e4903\\Desktop\\code\\2023_hw\\reverse_prediction\\0212\\project\\evaluator\\evaluator_pytorch.py:202: UserWarning: Boolean Series key will be reindexed to match DataFrame index.\n",
      "  sell_signals = trade_signals.loc[x_start:x_stop][(trade_signals['Signal'] == 'Sell') | (trade_signals['Signal'] == 'Sell (first)')]\n",
      "No artists with labels found to put in legend.  Note that artists whose label start with an underscore are ignored when legend() is called with no argument.\n",
      "c:\\Users\\e4903\\Desktop\\code\\2023_hw\\reverse_prediction\\0212\\project\\evaluator\\evaluator_pytorch.py:197: UserWarning: Boolean Series key will be reindexed to match DataFrame index.\n",
      "  buy_signals = trade_signals.loc[x_start:x_stop][(trade_signals['Signal'] == 'Buy') | (trade_signals['Signal'] == 'Buy (first)')]\n",
      "c:\\Users\\e4903\\Desktop\\code\\2023_hw\\reverse_prediction\\0212\\project\\evaluator\\evaluator_pytorch.py:202: UserWarning: Boolean Series key will be reindexed to match DataFrame index.\n",
      "  sell_signals = trade_signals.loc[x_start:x_stop][(trade_signals['Signal'] == 'Sell') | (trade_signals['Signal'] == 'Sell (first)')]\n",
      "No artists with labels found to put in legend.  Note that artists whose label start with an underscore are ignored when legend() is called with no argument.\n"
     ]
    }
   ],
   "source": [
    "evaluator = Evaluator(params=params)\n",
    "evaluator.generate_report(model, y_test, y_preds, history, \n",
    "                        online_training_acc, online_training_losses,\n",
    "                        SP500, pred_trade_signals, test_trade_signals, execution_time, current_dir, x_start=0, x_stop=300)"
   ]
  },
  {
   "cell_type": "code",
   "execution_count": 10,
   "metadata": {},
   "outputs": [],
   "source": [
    "import pickle\n",
    "\n",
    "# Define the file path\n",
    "file_path = 'data.pkl'\n",
    "\n",
    "# Create a dictionary to store the variables\n",
    "data = {\n",
    "    'X_train': X_train,\n",
    "    'X_test': X_test,\n",
    "    'X_newest': X_newest,\n",
    "    'y_train': y_train,\n",
    "    'y_test': y_test,\n",
    "    'y_preds': y_preds\n",
    "}\n",
    "\n",
    "# Save the variables as a file\n",
    "with open(file_path, 'wb') as file:\n",
    "    pickle.dump(data, file)\n"
   ]
  }
 ],
 "metadata": {
  "kernelspec": {
   "display_name": "myenv",
   "language": "python",
   "name": "python3"
  },
  "language_info": {
   "codemirror_mode": {
    "name": "ipython",
    "version": 3
   },
   "file_extension": ".py",
   "mimetype": "text/x-python",
   "name": "python",
   "nbconvert_exporter": "python",
   "pygments_lexer": "ipython3",
   "version": "3.10.7"
  }
 },
 "nbformat": 4,
 "nbformat_minor": 2
}
