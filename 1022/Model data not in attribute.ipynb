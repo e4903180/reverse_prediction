{
 "cells": [
  {
   "cell_type": "code",
   "execution_count": 1,
   "metadata": {},
   "outputs": [],
   "source": [
    "import yfinance as yf\n",
    "import numpy as np\n",
    "import pandas as pd\n",
    "from scipy.signal import argrelextrema\n",
    "import talib\n",
    "from abc import ABC, abstractmethod\n",
    "from sklearn.preprocessing import StandardScaler, MinMaxScaler"
   ]
  },
  {
   "cell_type": "code",
   "execution_count": null,
   "metadata": {},
   "outputs": [
    {
     "name": "stdout",
     "output_type": "stream",
     "text": [
      "[*********************100%***********************]  1 of 1 completed\n"
     ]
    }
   ],
   "source": [
    "class FeatureBase(ABC):\n",
    "    \"\"\"\n",
    "    Abstract base class for all features.\n",
    "    \"\"\"\n",
    "    @abstractmethod\n",
    "    def compute(self, data=None, *args, **kwargs):\n",
    "        \"\"\"\n",
    "        Abstract method to compute the feature value for the given data.\n",
    "        \"\"\"\n",
    "        pass\n",
    "\n",
    "\n",
    "# TODO: there's some wrong in calculate trend ways, add a new method that can split data by date\n",
    "class IndicatorTrend(FeatureBase):\n",
    "    \"\"\"\n",
    "    Indicator to calculate the trend based on various methods.\n",
    "    \"\"\"\n",
    "    def compute(self, data, *args, **kwargs):\n",
    "        \"\"\"\n",
    "        Compute the trend for the given data using the specified method.\n",
    "\n",
    "        Parameters:\n",
    "        - data: DataFrame containing the data.\n",
    "        - method: Method for trend calculation (e.g., 'MA', 'LocalExtrema').\n",
    "        - ma_days: Number of days for moving average.\n",
    "        - oder_days: Number of days for order.\n",
    "        - trend_days: Number of days to determine the trend.\n",
    "\n",
    "        Returns:\n",
    "        - DataFrame with trend values.\n",
    "        \"\"\"\n",
    "        method = kwargs.get('method', 'MA')\n",
    "        ma_days = kwargs.get('ma_days', 20)\n",
    "        oder_days = kwargs.get('oder_days', 20)\n",
    "        trend_days = kwargs.get('trend_days', 5)\n",
    "\n",
    "        if method == 'MA':\n",
    "            return self.calculate_trend_MA(data, ma_days=ma_days, trend_days=trend_days)\n",
    "        elif method == 'LocalExtrema':\n",
    "            return self.calculate_trend_LocalExtrema(data, oder_days=oder_days)\n",
    "        else:\n",
    "            raise ValueError(f\"Invalid trend calculation method: {method}\")\n",
    "\n",
    "    def calculate_trend_MA(self, data, ma_days=20, trend_days=5):\n",
    "        \"\"\"\n",
    "        Calculate trend using Moving Average method.\n",
    "\n",
    "        Parameters:\n",
    "        - data: DataFrame containing the data.\n",
    "        - ma_days: Number of days for moving average.\n",
    "        - trend_days: Number of days to determine the trend.\n",
    "\n",
    "        Returns:\n",
    "        - DataFrame with trend values.\n",
    "        \"\"\"\n",
    "        data['MA'] = data['Close'].rolling(window=ma_days).mean()\n",
    "        data['Trend'] = np.nan\n",
    "        n = len(data)\n",
    "\n",
    "        for i in range(n - trend_days + 1):\n",
    "            if all(data['MA'].iloc[i + j] < data['MA'].iloc[i + j + 1] for j in range(trend_days - 1)):\n",
    "                data['Trend'].iloc[i:i + trend_days] = 0\n",
    "            elif all(data['MA'].iloc[i + j] > data['MA'].iloc[i + j + 1] for j in range(trend_days - 1)):\n",
    "                data['Trend'].iloc[i:i + trend_days] = 1\n",
    "        data['Trend'].fillna(method='ffill', inplace=True)\n",
    "        return data.drop(columns=['MA'])\n",
    "\n",
    "    def calculate_trend_LocalExtrema(self, data, oder_days=20):\n",
    "        \"\"\"\n",
    "        Calculate trend using Local Extrema method.\n",
    "\n",
    "        Parameters:\n",
    "        - data: DataFrame containing the data.\n",
    "        - oder_days: Number of days for order.\n",
    "\n",
    "        Returns:\n",
    "        - DataFrame with trend values.\n",
    "        \"\"\"\n",
    "        local_max_indices = argrelextrema(\n",
    "            data['Close'].values, np.greater_equal, order=oder_days)[0]\n",
    "        local_min_indices = argrelextrema(\n",
    "            data['Close'].values, np.less_equal, order=oder_days)[0]\n",
    "        data['Local Max'] = data.iloc[local_max_indices]['Close']\n",
    "        data['Local Min'] = data.iloc[local_min_indices]['Close']\n",
    "        data['Trend'] = np.nan\n",
    "        prev_idx = None\n",
    "        prev_trend = None\n",
    "        prev_type = None\n",
    "\n",
    "        for idx in sorted(np.concatenate([local_max_indices, local_min_indices])):\n",
    "            if idx in local_max_indices:\n",
    "                current_type = \"max\"\n",
    "            else:\n",
    "                current_type = \"min\"\n",
    "\n",
    "            if prev_trend is None:\n",
    "                if current_type == \"max\":\n",
    "                    prev_trend = 1\n",
    "                else:\n",
    "                    prev_trend = 0\n",
    "            else:\n",
    "                if prev_type == \"max\" and current_type == \"min\":\n",
    "                    data.loc[prev_idx:idx, 'Trend'] = 1\n",
    "                    prev_trend = 1\n",
    "                elif prev_type == \"min\" and current_type == \"max\":\n",
    "                    data.loc[prev_idx:idx, 'Trend'] = 0\n",
    "                    prev_trend = 0\n",
    "                else:\n",
    "                    if current_type == \"max\":\n",
    "                        data.loc[prev_idx:idx, 'Trend'] = 0\n",
    "                        prev_trend = 0\n",
    "                    else:\n",
    "                        data.loc[prev_idx:idx, 'Trend'] = 1\n",
    "                        prev_trend = 1\n",
    "\n",
    "            prev_idx = idx\n",
    "            prev_type = current_type\n",
    "        data['Trend'].fillna(method='ffill', inplace=True)\n",
    "        return data.drop(columns=['Local Max', 'Local Min'])\n",
    "\n",
    "\n",
    "class IndicatorMACD(FeatureBase):\n",
    "    \"\"\"\n",
    "    Indicator to calculate the Moving Average Convergence Divergence (MACD).\n",
    "    \"\"\"\n",
    "\n",
    "    def compute(self, data, *args, **kwargs):\n",
    "        fastperiod = kwargs.get('fastperiod', 5)\n",
    "        slowperiod = kwargs.get('slowperiod', 10)\n",
    "        signalperiod = kwargs.get('signalperiod', 9)\n",
    "        data['MACD'], _, _ = talib.MACD(\n",
    "            data['Close'], fastperiod=fastperiod, slowperiod=slowperiod, signalperiod=signalperiod)\n",
    "        return data\n",
    "\n",
    "\n",
    "class IndicatorROC(FeatureBase):\n",
    "    def compute(self, data, *args, **kwargs):\n",
    "        trend_days = kwargs.get('trend_days', 5)\n",
    "        data['ROC'] = talib.ROC(data['Close'], timeperiod=trend_days)\n",
    "        return data\n",
    "\n",
    "\n",
    "class IndicatorStochasticOscillator(FeatureBase):\n",
    "    def compute(self, data, *args, **kwargs):\n",
    "        trend_days = kwargs.get('trend_days', 5)\n",
    "        data['StoK'], data['StoD'] = talib.STOCH(\n",
    "            data['High'], data['Low'], data['Close'], fastk_period=trend_days, slowk_period=3, slowd_period=3)\n",
    "        return data\n",
    "\n",
    "\n",
    "class IndicatorCCI(FeatureBase):\n",
    "    def compute(self, data, *args, **kwargs):\n",
    "        timeperiod = kwargs.get('timeperiod', 14)\n",
    "        data['CCI'] = talib.CCI(data['High'], data['Low'],\n",
    "                                data['Close'], timeperiod=timeperiod)\n",
    "        return data\n",
    "\n",
    "\n",
    "class IndicatorRSI(FeatureBase):\n",
    "    def compute(self, data, *args, **kwargs):\n",
    "        timeperiod = kwargs.get('timeperiod', 14)\n",
    "        data['RSI'] = talib.RSI(data['Close'], timeperiod=timeperiod)\n",
    "        return data\n",
    "\n",
    "\n",
    "class IndicatorVMA(FeatureBase):\n",
    "    def compute(self, data, *args, **kwargs):\n",
    "        timeperiod = kwargs.get('timeperiod', 20)\n",
    "        data['VMA'] = talib.MA(data['Volume'], timeperiod=timeperiod)\n",
    "        return data\n",
    "\n",
    "\n",
    "class IndicatorPctChange(FeatureBase):\n",
    "    def compute(self, data, *args, **kwargs):\n",
    "        data['pctChange'] = data['Close'].pct_change() * 100\n",
    "        return data\n",
    "\n",
    "\n",
    "class TreasuryYieldThreeMonth(FeatureBase):\n",
    "    def compute(self, data, *args, **kwargs):\n",
    "        start_date = kwargs.get('start_date')\n",
    "        end_date = kwargs.get('end_date')\n",
    "        three_month_treasury_yield = yf.download(\n",
    "            \"^IRX\", start_date, end_date)[\"Close\"]\n",
    "        data['3M Treasury Yield'] = three_month_treasury_yield\n",
    "        return data\n",
    "\n",
    "\n",
    "class TreasuryYieldFiveYear(FeatureBase):\n",
    "    def compute(self, data, *args, **kwargs):\n",
    "        start_date = kwargs.get('start_date')\n",
    "        end_date = kwargs.get('end_date')\n",
    "        five_year_treasury_yield = yf.download(\n",
    "            \"^FVX\", start_date, end_date)[\"Close\"]\n",
    "        data['5Y Treasury Yield'] = five_year_treasury_yield\n",
    "        return data\n",
    "\n",
    "\n",
    "class TreasuryYieldTenYear(FeatureBase):\n",
    "    def compute(self, data, *args, **kwargs):\n",
    "        start_date = kwargs.get('start_date')\n",
    "        end_date = kwargs.get('end_date')\n",
    "        ten_year_treasury_yield = yf.download(\n",
    "            \"^TNX\", start_date, end_date)[\"Close\"]\n",
    "        data['10Y Treasury Yield'] = ten_year_treasury_yield\n",
    "        return data\n",
    "\n",
    "\n",
    "class TreasuryYieldThirtyYear(FeatureBase):\n",
    "    def compute(self, data, *args, **kwargs):\n",
    "        start_date = kwargs.get('start_date')\n",
    "        end_date = kwargs.get('end_date')\n",
    "        thirty_year_treasury_yield = yf.download(\n",
    "            \"^TYX\", start_date, end_date)[\"Close\"]\n",
    "        data['30Y Treasury Yield'] = thirty_year_treasury_yield\n",
    "        return data\n",
    "# Add other features here as needed\n",
    "\n",
    "\n",
    "class FeatureFactory:\n",
    "    \"\"\"\n",
    "    Factory class dedicated to creating various technical features.\n",
    "    \"\"\"\n",
    "    @staticmethod\n",
    "    def get_feature(feature_type):\n",
    "        \"\"\"\n",
    "        Retrieve the desired feature based on the specified type.\n",
    "\n",
    "        Parameters:\n",
    "        - feature_type: Type of feature (e.g., 'Trend', 'MACD').\n",
    "\n",
    "        Returns:\n",
    "        - Feaature object corresponding to the specified type.\n",
    "\n",
    "        Raises:\n",
    "        - ValueError: If the provided feature type is not supported.\n",
    "        \"\"\"\n",
    "        features = {\n",
    "            \"Trend\": IndicatorTrend,\n",
    "            \"MACD\": IndicatorMACD,\n",
    "            \"ROC\": IndicatorROC,\n",
    "            \"Stochastic Oscillator\": IndicatorStochasticOscillator,\n",
    "            \"CCI\": IndicatorCCI,\n",
    "            \"RSI\": IndicatorRSI,\n",
    "            \"VMA\": IndicatorVMA,\n",
    "            \"PctChange\": IndicatorPctChange,\n",
    "            \"3M Treasury Yield\": TreasuryYieldThreeMonth,\n",
    "            \"5Y Treasury Yield\": TreasuryYieldFiveYear,\n",
    "            \"10Y Treasury Yield\": TreasuryYieldTenYear,\n",
    "            \"30Y Treasury Yield\": TreasuryYieldThirtyYear,\n",
    "            # Add other features here as needed\n",
    "        }\n",
    "        feature = features.get(feature_type)\n",
    "        if feature is None:\n",
    "            raise ValueError(f\"Invalid feature type: {feature_type}\")\n",
    "        return feature()\n",
    "\n",
    "\n",
    "class CleanerBase(ABC):\n",
    "    \"\"\"Abstract base class for data processors.\"\"\"\n",
    "    @abstractmethod\n",
    "    def check(self, data):\n",
    "        \"\"\"Method to check the data for issues.\"\"\"\n",
    "        pass\n",
    "\n",
    "    @abstractmethod\n",
    "    def clean(self, data):\n",
    "        \"\"\"Method to clean the data from identified issues.\"\"\"\n",
    "        pass\n",
    "\n",
    "\n",
    "class CleanerMissingValue(CleanerBase):\n",
    "    \"\"\"Concrete class for checking and handling missing data.\"\"\"\n",
    "    def check(self, data):\n",
    "        \"\"\"Check for missing data in the dataframe.\"\"\"\n",
    "        return data.isnull().sum()\n",
    "\n",
    "    def clean(self, data, strategy='auto'):\n",
    "        \"\"\"Handle missing data based on the chosen strategy.\"\"\"\n",
    "        if strategy == 'auto':\n",
    "            while data.iloc[0].isnull().any():\n",
    "                data = data.iloc[1:]\n",
    "            data.fillna(method='ffill', inplace=True)\n",
    "\n",
    "        elif strategy == 'drop':\n",
    "            data.dropna(inplace=True)\n",
    "\n",
    "        elif strategy == 'fillna':\n",
    "            data.fillna(method='ffill', inplace=True)\n",
    "\n",
    "        elif strategy == 'none':\n",
    "            pass\n",
    "\n",
    "        else:\n",
    "            raise ValueError(\"Invalid strategy provided.\")\n",
    "\n",
    "        return data\n",
    "\n",
    "\n",
    "class ProcessorFactory:\n",
    "    \"\"\"Factory class to create data processors.\"\"\"\n",
    "    @staticmethod\n",
    "    def get_cleaner(clean_type, *args, **kwargs):\n",
    "        \"\"\"Create a data processor based on the provided type.\"\"\"\n",
    "        if clean_type == \"MissingData\":\n",
    "            return CleanerMissingValue(*args, **kwargs)\n",
    "        else:\n",
    "            raise ValueError(f\"Processor type {clean_type} not recognized.\")\n",
    "\n",
    "    @staticmethod\n",
    "    def get_standardize_method(data, method='StandardScaler'):\n",
    "        \"\"\"Standardize the data using the specified method.\"\"\"\n",
    "        if method == 'StandardScaler':\n",
    "            scaler = StandardScaler()\n",
    "        elif method == 'MinMaxScaler':\n",
    "            scaler = MinMaxScaler()\n",
    "        else:\n",
    "            raise ValueError(f\"Invalid scaler method: {method}.\")\n",
    "        return scaler.fit_transform(data)\n",
    "\n",
    "    @staticmethod\n",
    "    def standardize_and_split_data(data, split_ratio=0.7, target_col=\"Trend\", feature_cols=None):\n",
    "        \"\"\"Standardize the data and split it into training and testing sets.\"\"\"\n",
    "        if not feature_cols:\n",
    "            feature_cols = data.columns.to_list()\n",
    "        x_data = data[feature_cols]\n",
    "\n",
    "        # Generate the one-hot encoding\n",
    "        y_data = pd.get_dummies(data[target_col], prefix='Trend')\n",
    "\n",
    "        # Check if the split index is valid\n",
    "        split_idx = int(len(x_data) * split_ratio)\n",
    "        if split_idx < 1 or split_idx >= len(x_data):\n",
    "            raise ValueError(\n",
    "                \"Invalid split ratio leading to incorrect data partitioning.\")\n",
    "\n",
    "        X_test = x_data.iloc[split_idx:]\n",
    "        y_test = y_data.iloc[split_idx:]\n",
    "        X_train = x_data.iloc[:split_idx]\n",
    "        y_train = y_data.iloc[:split_idx]\n",
    "\n",
    "        return X_train, y_train, X_test, y_test\n",
    "\n",
    "    @staticmethod\n",
    "    def prepare_multistep_data(x_data, y_data, look_back, predict_steps, slide_steps=1):\n",
    "        \"\"\"\n",
    "        Prepare the data for multi-step prediction and apply standardization within each sliding window.\n",
    "        \"\"\"\n",
    "        x_date = []\n",
    "        y_date = []\n",
    "        x_data_multistep = []\n",
    "        y_data_multistep = []\n",
    "\n",
    "        for i in range(0, len(x_data) - look_back - predict_steps + 1, slide_steps):\n",
    "            x_date.append(x_data.index[i:i + look_back])\n",
    "\n",
    "            y_date.append(\n",
    "                x_data.index[i + look_back:i + look_back + predict_steps])\n",
    "\n",
    "            x_window = x_data.iloc[i:i + look_back].values\n",
    "            y_window = y_data.iloc[i + look_back:i +\n",
    "                                   look_back + predict_steps].values\n",
    "\n",
    "            x_window_standardized = ProcessorFactory.get_standardize_method(\n",
    "                x_window)\n",
    "\n",
    "            x_data_multistep.append(x_window_standardized)\n",
    "            y_data_multistep.append(y_window)\n",
    "\n",
    "        return np.array(x_data_multistep), np.array(y_data_multistep), np.array(x_date), np.array(y_date)\n",
    "\n",
    "\n",
    "class Preprocessor:\n",
    "    \"\"\"\n",
    "    Fetching, processing, and preparing model data.\n",
    "    \"\"\"\n",
    "    def __init__(self, data=None, start_date=None, end_date=None):\n",
    "        self.data = data\n",
    "        self.start_date = start_date\n",
    "        self.end_date = end_date\n",
    "        self.trend_method = \"MA\"\n",
    "        self.features = []\n",
    "        self.processors = []\n",
    "\n",
    "    def set_seed(self, seed_value=42):\n",
    "        \"\"\"Set seed for reproducibility.\"\"\"\n",
    "        np.random.seed(seed_value)\n",
    "\n",
    "    def fetch_stock_data(self, stock_symbol, start_date=None, end_date=None):\n",
    "        \"\"\"Fetch stock data from Yahoo Finance.\"\"\"\n",
    "        if start_date:\n",
    "            self.start_date = start_date\n",
    "        if end_date:\n",
    "            self.end_date = end_date\n",
    "        return yf.download(stock_symbol, start=self.start_date, end=self.end_date)\n",
    "\n",
    "    def add_feature(self, feature_type, *args, **kwargs):\n",
    "        feature = FeatureFactory.get_feature(feature_type)\n",
    "        self.data = feature.compute(self.data, *args, **kwargs)\n",
    "\n",
    "    def add_data_cleaner(self, clean_type='MissingData', strategy='drop'):\n",
    "        \"\"\"Method to check and clean the data using a specific processor.\"\"\"\n",
    "        processor = ProcessorFactory.get_cleaner(clean_type)\n",
    "        issues = processor.check(self.data)\n",
    "        self.data = processor.clean(self.data, strategy=strategy)\n",
    "        return issues\n",
    "\n",
    "    def process_data(self, split_ratio=0.7, target_col=\"Trend\", feature_cols=None, look_back=64, predict_steps=16, train_slide_steps=1, test_slide_steps=16):\n",
    "        \"\"\"\n",
    "        Use ProcessorFactory to standardize and split the data, and prepare it for multi-step prediction if required.\n",
    "        \"\"\"\n",
    "        X_train, y_train, X_test, y_test = ProcessorFactory.standardize_and_split_data(\n",
    "            self.data, split_ratio, target_col, feature_cols)\n",
    "\n",
    "        if look_back and predict_steps:\n",
    "            X_train, y_train, train_dates, _ = ProcessorFactory.prepare_multistep_data(\n",
    "                X_train, y_train, look_back, predict_steps, train_slide_steps)\n",
    "            X_test, y_test, _, test_dates = ProcessorFactory.prepare_multistep_data(\n",
    "                X_test, y_test, look_back, predict_steps, test_slide_steps)\n",
    "            return X_train, y_train, X_test, y_test, train_dates, test_dates\n",
    "        else:\n",
    "            raise ValueError(\"Invalid look_back or predict_steps provided for data preparation.\")\n",
    "\n",
    "model_data = Preprocessor()\n",
    "model_data.set_seed(42)\n",
    "start_date = \"2001-01-01\"\n",
    "stop_date = \"2021-01-01\"\n",
    "stock_symbol = \"^GSPC\"\n",
    "model_data.data = model_data.fetch_stock_data(\n",
    "    stock_symbol, start_date, stop_date)"
   ]
  },
  {
   "cell_type": "code",
   "execution_count": null,
   "metadata": {},
   "outputs": [
    {
     "name": "stderr",
     "output_type": "stream",
     "text": [
      "C:\\Users\\e4903\\AppData\\Local\\Temp\\ipykernel_5592\\3401904197.py:62: SettingWithCopyWarning: \n",
      "A value is trying to be set on a copy of a slice from a DataFrame\n",
      "\n",
      "See the caveats in the documentation: https://pandas.pydata.org/pandas-docs/stable/user_guide/indexing.html#returning-a-view-versus-a-copy\n",
      "  data['Trend'].iloc[i:i + trend_days] = 0\n",
      "C:\\Users\\e4903\\AppData\\Local\\Temp\\ipykernel_5592\\3401904197.py:64: SettingWithCopyWarning: \n",
      "A value is trying to be set on a copy of a slice from a DataFrame\n",
      "\n",
      "See the caveats in the documentation: https://pandas.pydata.org/pandas-docs/stable/user_guide/indexing.html#returning-a-view-versus-a-copy\n",
      "  data['Trend'].iloc[i:i + trend_days] = 1\n"
     ]
    },
    {
     "name": "stdout",
     "output_type": "stream",
     "text": [
      "[*********************100%***********************]  1 of 1 completed\n",
      "[*********************100%***********************]  1 of 1 completed\n",
      "[*********************100%***********************]  1 of 1 completed\n",
      "[*********************100%***********************]  1 of 1 completed\n"
     ]
    }
   ],
   "source": [
    "features = [\n",
    "    {\"type\": \"Trend\", \"method\": \"MA\", \"oder_days\": 20,\n",
    "        \"ma_days\": 20, \"trend_days\": 5},\n",
    "    {\"type\": \"MACD\", \"fastperiod\": 5, \"slowperiod\": 10, \"signalperiod\": 9},\n",
    "    {\"type\": \"ROC\", \"trend_days\": 5},\n",
    "    {\"type\": \"Stochastic Oscillator\", \"trend_days\": 5},\n",
    "    {\"type\": \"CCI\", \"timeperiod\": 14},\n",
    "    {\"type\": \"RSI\", \"timeperiod\": 14},\n",
    "    {\"type\": \"VMA\", \"timeperiod\": 20},\n",
    "    {\"type\": \"PctChange\"},\n",
    "    {\"type\": \"3M Treasury Yield\", \"start_date\": \"2001-01-01\", \"end_date\": \"2021-01-01\"},\n",
    "    {\"type\": \"5Y Treasury Yield\", \"start_date\": \"2001-01-01\", \"end_date\": \"2021-01-01\"},\n",
    "    {\"type\": \"10Y Treasury Yield\", \"start_date\": \"2001-01-01\", \"end_date\": \"2021-01-01\"},\n",
    "    {\"type\": \"30Y Treasury Yield\", \"start_date\": \"2001-01-01\", \"end_date\": \"2021-01-01\"},\n",
    "]  # Add other features here as needed\n",
    "\n",
    "for feature_params in features:\n",
    "    feature_type = feature_params[\"type\"]\n",
    "    model_data.add_feature(feature_type, **feature_params)"
   ]
  },
  {
   "cell_type": "code",
   "execution_count": null,
   "metadata": {},
   "outputs": [],
   "source": [
    "issues_detected = model_data.add_data_cleaner(\"MissingData\", strategy='auto')\n"
   ]
  },
  {
   "cell_type": "code",
   "execution_count": null,
   "metadata": {},
   "outputs": [
    {
     "data": {
      "text/plain": [
       "((3430, 64, 19), (3430, 16, 2), (90, 64, 19), (90, 16, 2))"
      ]
     },
     "execution_count": 20,
     "metadata": {},
     "output_type": "execute_result"
    }
   ],
   "source": [
    "split_ratio = 0.7\n",
    "target_col = \"Trend\"\n",
    "feature_cols = None  # None means use all columns\n",
    "# feature_cols = ['Close']\n",
    "look_back = 64  # number of previous days' data to consider\n",
    "predict_steps = 16  # number of days to predict in the future\n",
    "slide_steps = 1  # sliding window step size\n",
    "\n",
    "X_train, y_train, X_test, y_test, train_dates, test_dates = model_data.process_data(split_ratio=0.7, target_col=\"Trend\", feature_cols=feature_cols, look_back=look_back,\n",
    "                        predict_steps=predict_steps, train_slide_steps=1, test_slide_steps=predict_steps)\n",
    "\n",
    "X_train.shape, y_train.shape, X_test.shape, y_test.shape"
   ]
  },
  {
   "cell_type": "code",
   "execution_count": null,
   "metadata": {},
   "outputs": [],
   "source": [
    "import numpy as np\n",
    "import pandas as pd\n",
    "from keras.models import Sequential\n",
    "from keras.layers import Dense, LSTM, Conv1D, MaxPooling1D, Flatten, Reshape\n",
    "import matplotlib.pyplot as plt\n",
    "from sklearn.preprocessing import StandardScaler\n",
    "from sklearn.preprocessing import MinMaxScaler\n",
    "import yfinance as yf\n",
    "from scipy.signal import argrelextrema"
   ]
  },
  {
   "cell_type": "code",
   "execution_count": null,
   "metadata": {},
   "outputs": [],
   "source": [
    "import numpy as np\n",
    "import tensorflow as tf\n",
    "import random\n",
    "\n",
    "def set_seed(seed_value):\n",
    "    np.random.seed(seed_value)\n",
    "    tf.random.set_seed(seed_value)\n",
    "    random.seed(seed_value)\n",
    "set_seed(42)"
   ]
  },
  {
   "cell_type": "code",
   "execution_count": null,
   "metadata": {},
   "outputs": [],
   "source": [
    "from kerastuner import RandomSearch\n",
    "from keras.models import Sequential\n",
    "from keras.layers import LSTM, Dense, RepeatVector, TimeDistributed, Conv1D, MaxPooling1D, Dropout, BatchNormalization, Activation\n",
    "from keras.optimizers import Adam\n",
    "from keras import regularizers\n",
    "from keras import metrics\n",
    "\n",
    "params = {\n",
    "        'conv_1_filter': 32,\n",
    "        'conv_1_kernel': 4,\n",
    "        'conv_1_l2': 0.00016475815766673417,\n",
    "        'dropout_1': 0.2,\n",
    "        'conv_2_filter': 96,\n",
    "        'conv_2_kernel': 2,\n",
    "        'dropout_2': 0.2,\n",
    "        'lstm_1_units': 128,\n",
    "        'lstm_1_l2': 0.0002788818914602332,\n",
    "        'dropout_3': 0.2,\n",
    "        'lstm_2_units': 64,\n",
    "        'dropout_4': 0.1,\n",
    "        'learning_rate': 0.001\n",
    "    }\n",
    "\n",
    "def build_model():\n",
    "    # Parameters from the provided dictionary\n",
    "\n",
    "    model = Sequential()\n",
    "    \n",
    "    # Encoder\n",
    "    model.add(Conv1D(filters=params['conv_1_filter'],\n",
    "                     kernel_size=params['conv_1_kernel'],\n",
    "                     activation=None,\n",
    "                     padding='same',\n",
    "                     kernel_regularizer=regularizers.l2(params['conv_1_l2']),\n",
    "                     input_shape=(look_back, X_train.shape[-1])))\n",
    "    model.add(BatchNormalization())\n",
    "    model.add(Activation('relu'))\n",
    "    model.add(Dropout(params['dropout_1']))\n",
    "    model.add(MaxPooling1D(pool_size=2))\n",
    "    \n",
    "    model.add(Conv1D(filters=params['conv_2_filter'],\n",
    "                     kernel_size=params['conv_2_kernel'],\n",
    "                     activation=None))\n",
    "    model.add(BatchNormalization())\n",
    "    model.add(Activation('relu'))\n",
    "    model.add(Dropout(params['dropout_2']))\n",
    "    model.add(MaxPooling1D(pool_size=2))\n",
    "    \n",
    "    model.add(LSTM(units=params['lstm_1_units'],\n",
    "                   activation=None,\n",
    "                   return_sequences=False,\n",
    "                   kernel_regularizer=regularizers.l2(params['lstm_1_l2'])))\n",
    "    model.add(BatchNormalization())\n",
    "    model.add(Activation('tanh'))\n",
    "    model.add(Dropout(params['dropout_3']))\n",
    "    \n",
    "    # Set the desired output sequence length using RepeatVector\n",
    "    model.add(RepeatVector(predict_steps))\n",
    "    \n",
    "    # Decoder\n",
    "    model.add(LSTM(units=params['lstm_2_units'],\n",
    "                   activation=None,\n",
    "                   return_sequences=True))\n",
    "    model.add(BatchNormalization())\n",
    "    model.add(Activation('tanh'))\n",
    "    model.add(Dropout(params['dropout_4']))\n",
    "    model.add(TimeDistributed(Dense(2, activation='softmax')))\n",
    "    \n",
    "    optimizer = Adam(learning_rate=params['learning_rate'])\n",
    "    model.compile(optimizer=optimizer,\n",
    "                  loss='binary_crossentropy',\n",
    "                  metrics=[metrics.BinaryAccuracy()])\n",
    "    model.summary()\n",
    "    \n",
    "    return model\n"
   ]
  },
  {
   "cell_type": "code",
   "execution_count": null,
   "metadata": {},
   "outputs": [
    {
     "name": "stdout",
     "output_type": "stream",
     "text": [
      "Model: \"sequential_1\"\n",
      "_________________________________________________________________\n",
      " Layer (type)                Output Shape              Param #   \n",
      "=================================================================\n",
      " conv1d_2 (Conv1D)           (None, 64, 32)            2464      \n",
      "                                                                 \n",
      " batch_normalization_4 (Batc  (None, 64, 32)           128       \n",
      " hNormalization)                                                 \n",
      "                                                                 \n",
      " activation_4 (Activation)   (None, 64, 32)            0         \n",
      "                                                                 \n",
      " dropout_4 (Dropout)         (None, 64, 32)            0         \n",
      "                                                                 \n",
      " max_pooling1d_2 (MaxPooling  (None, 32, 32)           0         \n",
      " 1D)                                                             \n",
      "                                                                 \n",
      " conv1d_3 (Conv1D)           (None, 31, 96)            6240      \n",
      "                                                                 \n",
      " batch_normalization_5 (Batc  (None, 31, 96)           384       \n",
      " hNormalization)                                                 \n",
      "                                                                 \n",
      " activation_5 (Activation)   (None, 31, 96)            0         \n",
      "                                                                 \n",
      " dropout_5 (Dropout)         (None, 31, 96)            0         \n",
      "                                                                 \n",
      " max_pooling1d_3 (MaxPooling  (None, 15, 96)           0         \n",
      " 1D)                                                             \n",
      "                                                                 \n",
      " lstm_2 (LSTM)               (None, 128)               115200    \n",
      "                                                                 \n",
      " batch_normalization_6 (Batc  (None, 128)              512       \n",
      " hNormalization)                                                 \n",
      "                                                                 \n",
      " activation_6 (Activation)   (None, 128)               0         \n",
      "                                                                 \n",
      " dropout_6 (Dropout)         (None, 128)               0         \n",
      "                                                                 \n",
      " repeat_vector_1 (RepeatVect  (None, 16, 128)          0         \n",
      " or)                                                             \n",
      "                                                                 \n",
      " lstm_3 (LSTM)               (None, 16, 64)            49408     \n",
      "                                                                 \n",
      " batch_normalization_7 (Batc  (None, 16, 64)           256       \n",
      " hNormalization)                                                 \n",
      "                                                                 \n",
      " activation_7 (Activation)   (None, 16, 64)            0         \n",
      "                                                                 \n",
      " dropout_7 (Dropout)         (None, 16, 64)            0         \n",
      "                                                                 \n",
      " time_distributed_1 (TimeDis  (None, 16, 2)            130       \n",
      " tributed)                                                       \n",
      "                                                                 \n",
      "=================================================================\n",
      "Total params: 174,722\n",
      "Trainable params: 174,082\n",
      "Non-trainable params: 640\n",
      "_________________________________________________________________\n",
      "Epoch 1/1000\n",
      "54/54 - 8s - loss: 0.5743 - binary_accuracy: 0.7476 - val_loss: 0.7160 - val_binary_accuracy: 0.6139 - 8s/epoch - 142ms/step\n",
      "Epoch 2/1000\n",
      "54/54 - 3s - loss: 0.4099 - binary_accuracy: 0.8382 - val_loss: 0.6305 - val_binary_accuracy: 0.6875 - 3s/epoch - 59ms/step\n",
      "Epoch 3/1000\n",
      "54/54 - 3s - loss: 0.3463 - binary_accuracy: 0.8730 - val_loss: 0.6997 - val_binary_accuracy: 0.6507 - 3s/epoch - 61ms/step\n",
      "Epoch 4/1000\n",
      "54/54 - 3s - loss: 0.2856 - binary_accuracy: 0.8987 - val_loss: 0.6919 - val_binary_accuracy: 0.6722 - 3s/epoch - 63ms/step\n",
      "Epoch 5/1000\n",
      "54/54 - 4s - loss: 0.2587 - binary_accuracy: 0.9113 - val_loss: 0.7559 - val_binary_accuracy: 0.6931 - 4s/epoch - 67ms/step\n",
      "Epoch 6/1000\n",
      "54/54 - 3s - loss: 0.2416 - binary_accuracy: 0.9180 - val_loss: 0.7627 - val_binary_accuracy: 0.6792 - 3s/epoch - 62ms/step\n",
      "Epoch 7/1000\n",
      "54/54 - 3s - loss: 0.2193 - binary_accuracy: 0.9273 - val_loss: 0.8221 - val_binary_accuracy: 0.6736 - 3s/epoch - 62ms/step\n",
      "Epoch 8/1000\n",
      "54/54 - 3s - loss: 0.2039 - binary_accuracy: 0.9328 - val_loss: 1.0201 - val_binary_accuracy: 0.6618 - 3s/epoch - 64ms/step\n",
      "Epoch 9/1000\n",
      "54/54 - 4s - loss: 0.2030 - binary_accuracy: 0.9323 - val_loss: 0.9611 - val_binary_accuracy: 0.6903 - 4s/epoch - 66ms/step\n",
      "Epoch 10/1000\n",
      "54/54 - 3s - loss: 0.1869 - binary_accuracy: 0.9397 - val_loss: 1.0012 - val_binary_accuracy: 0.6694 - 3s/epoch - 61ms/step\n"
     ]
    },
    {
     "data": {
      "image/png": "[encoded data removed]",
      "text/plain": [
       "<Figure size 1200x400 with 2 Axes>"
      ]
     },
     "metadata": {},
     "output_type": "display_data"
    }
   ],
   "source": [
    "from keras.callbacks import EarlyStopping\n",
    "\n",
    "# Build the model with the optimal hyperparameters\n",
    "best_model = build_model()\n",
    "\n",
    "# Compile the model with the optimal learning rate\n",
    "best_model.compile(optimizer=Adam(learning_rate=params['learning_rate']), loss='binary_crossentropy', metrics=[metrics.BinaryAccuracy()])\n",
    "\n",
    "# Initialize EarlyStopping callback\n",
    "early_stopping = EarlyStopping(monitor='val_binary_accuracy', patience=5, restore_best_weights=True)\n",
    "\n",
    "# Train the model\n",
    "history = best_model.fit(\n",
    "    X_train, y_train,\n",
    "    epochs=1000,\n",
    "    batch_size=64,\n",
    "    validation_data=(X_test, y_test),\n",
    "    callbacks=[early_stopping],  # Add early_stopping to callbacks\n",
    "    verbose=2\n",
    ")\n",
    "\n",
    "# Function to plot training curves\n",
    "def plot_training_curves(history):\n",
    "    # Plot training & validation accuracy values\n",
    "    plt.figure(figsize=(12, 4))\n",
    "    plt.subplot(1, 2, 1)\n",
    "    plt.plot(history.history['binary_accuracy'])\n",
    "    plt.plot(history.history['val_binary_accuracy'])\n",
    "    plt.title('Model binary_accuracy')\n",
    "    plt.ylabel('Accuracy')\n",
    "    plt.xlabel('Epoch')\n",
    "    plt.legend(['Train', 'Test'], loc='upper left')\n",
    "\n",
    "    # Plot training & validation loss values\n",
    "    plt.subplot(1, 2, 2)\n",
    "    plt.plot(history.history['loss'])\n",
    "    plt.plot(history.history['val_loss'])\n",
    "    plt.title('Model loss')\n",
    "    plt.ylabel('Loss')\n",
    "    plt.xlabel('Epoch')\n",
    "    plt.legend(['Train', 'Test'], loc='upper left')\n",
    "    plt.show()\n",
    "\n",
    "# Plot the training curves\n",
    "plot_training_curves(history)\n"
   ]
  },
  {
   "cell_type": "code",
   "execution_count": null,
   "metadata": {},
   "outputs": [
    {
     "name": "stderr",
     "output_type": "stream",
     "text": [
      "  0%|          | 0/90 [00:00<?, ?it/s]"
     ]
    },
    {
     "name": "stdout",
     "output_type": "stream",
     "text": [
      "1/1 [==============================] - 0s 472ms/step\n",
      "108/108 - 4s - loss: 0.3038 - binary_accuracy: 0.8916 - val_loss: 0.3301 - val_binary_accuracy: 0.8750 - 4s/epoch - 36ms/step\n"
     ]
    },
    {
     "name": "stderr",
     "output_type": "stream",
     "text": [
      "  1%|          | 1/90 [00:04<06:41,  4.51s/it]"
     ]
    },
    {
     "name": "stdout",
     "output_type": "stream",
     "text": [
      "1/1 [==============================] - 0s 30ms/step\n",
      "108/108 - 4s - loss: 0.2719 - binary_accuracy: 0.9046 - val_loss: 0.1978 - val_binary_accuracy: 1.0000 - 4s/epoch - 36ms/step\n"
     ]
    },
    {
     "name": "stderr",
     "output_type": "stream",
     "text": [
      "  2%|▏         | 2/90 [00:08<06:14,  4.25s/it]"
     ]
    },
    {
     "name": "stdout",
     "output_type": "stream",
     "text": [
      "1/1 [==============================] - 0s 25ms/step\n",
      "108/108 - 4s - loss: 0.2419 - binary_accuracy: 0.9178 - val_loss: 1.1079 - val_binary_accuracy: 0.4375 - 4s/epoch - 36ms/step\n"
     ]
    },
    {
     "name": "stderr",
     "output_type": "stream",
     "text": [
      "  3%|▎         | 3/90 [00:12<06:00,  4.15s/it]"
     ]
    },
    {
     "name": "stdout",
     "output_type": "stream",
     "text": [
      "1/1 [==============================] - 0s 23ms/step\n",
      "108/108 - 4s - loss: 0.2197 - binary_accuracy: 0.9269 - val_loss: 2.1099 - val_binary_accuracy: 0.3125 - 4s/epoch - 36ms/step\n"
     ]
    },
    {
     "name": "stderr",
     "output_type": "stream",
     "text": [
      "  4%|▍         | 4/90 [00:16<05:54,  4.12s/it]"
     ]
    },
    {
     "name": "stdout",
     "output_type": "stream",
     "text": [
      "1/1 [==============================] - 0s 21ms/step\n",
      "108/108 - 4s - loss: 0.2064 - binary_accuracy: 0.9322 - val_loss: 0.7645 - val_binary_accuracy: 0.6875 - 4s/epoch - 36ms/step\n"
     ]
    },
    {
     "name": "stderr",
     "output_type": "stream",
     "text": [
      "  6%|▌         | 5/90 [00:20<05:48,  4.10s/it]"
     ]
    },
    {
     "name": "stdout",
     "output_type": "stream",
     "text": [
      "1/1 [==============================] - 0s 29ms/step\n",
      "108/108 - 4s - loss: 0.1981 - binary_accuracy: 0.9337 - val_loss: 0.2061 - val_binary_accuracy: 1.0000 - 4s/epoch - 36ms/step\n"
     ]
    },
    {
     "name": "stderr",
     "output_type": "stream",
     "text": [
      "  7%|▋         | 6/90 [00:24<05:44,  4.10s/it]"
     ]
    },
    {
     "name": "stdout",
     "output_type": "stream",
     "text": [
      "1/1 [==============================] - 0s 26ms/step\n",
      "108/108 - 4s - loss: 0.1844 - binary_accuracy: 0.9412 - val_loss: 0.0942 - val_binary_accuracy: 1.0000 - 4s/epoch - 36ms/step\n"
     ]
    },
    {
     "name": "stderr",
     "output_type": "stream",
     "text": [
      "  8%|▊         | 7/90 [00:28<05:38,  4.08s/it]"
     ]
    },
    {
     "name": "stdout",
     "output_type": "stream",
     "text": [
      "1/1 [==============================] - 0s 30ms/step\n",
      "108/108 - 4s - loss: 0.1792 - binary_accuracy: 0.9421 - val_loss: 0.6252 - val_binary_accuracy: 0.6875 - 4s/epoch - 37ms/step\n"
     ]
    },
    {
     "name": "stderr",
     "output_type": "stream",
     "text": [
      "  9%|▉         | 8/90 [00:32<05:34,  4.08s/it]"
     ]
    },
    {
     "name": "stdout",
     "output_type": "stream",
     "text": [
      "1/1 [==============================] - 0s 20ms/step\n",
      "108/108 - 4s - loss: 0.1596 - binary_accuracy: 0.9492 - val_loss: 0.0689 - val_binary_accuracy: 1.0000 - 4s/epoch - 36ms/step\n"
     ]
    },
    {
     "name": "stderr",
     "output_type": "stream",
     "text": [
      " 10%|█         | 9/90 [00:37<05:29,  4.07s/it]"
     ]
    },
    {
     "name": "stdout",
     "output_type": "stream",
     "text": [
      "1/1 [==============================] - 0s 26ms/step\n",
      "108/108 - 4s - loss: 0.1480 - binary_accuracy: 0.9523 - val_loss: 0.1858 - val_binary_accuracy: 0.8750 - 4s/epoch - 36ms/step\n"
     ]
    },
    {
     "name": "stderr",
     "output_type": "stream",
     "text": [
      " 11%|█         | 10/90 [00:41<05:25,  4.07s/it]"
     ]
    },
    {
     "name": "stdout",
     "output_type": "stream",
     "text": [
      "1/1 [==============================] - 0s 33ms/step\n",
      "108/108 - 4s - loss: 0.1516 - binary_accuracy: 0.9501 - val_loss: 0.1968 - val_binary_accuracy: 1.0000 - 4s/epoch - 36ms/step\n"
     ]
    },
    {
     "name": "stderr",
     "output_type": "stream",
     "text": [
      " 12%|█▏        | 11/90 [00:45<05:21,  4.07s/it]"
     ]
    },
    {
     "name": "stdout",
     "output_type": "stream",
     "text": [
      "1/1 [==============================] - 0s 26ms/step\n",
      "108/108 - 4s - loss: 0.1538 - binary_accuracy: 0.9510 - val_loss: 0.0422 - val_binary_accuracy: 1.0000 - 4s/epoch - 36ms/step\n"
     ]
    },
    {
     "name": "stderr",
     "output_type": "stream",
     "text": [
      " 13%|█▎        | 12/90 [00:49<05:16,  4.06s/it]"
     ]
    },
    {
     "name": "stdout",
     "output_type": "stream",
     "text": [
      "1/1 [==============================] - 0s 21ms/step\n",
      "108/108 - 4s - loss: 0.1361 - binary_accuracy: 0.9576 - val_loss: 0.5440 - val_binary_accuracy: 0.7500 - 4s/epoch - 36ms/step\n"
     ]
    },
    {
     "name": "stderr",
     "output_type": "stream",
     "text": [
      " 14%|█▍        | 13/90 [00:53<05:12,  4.05s/it]"
     ]
    },
    {
     "name": "stdout",
     "output_type": "stream",
     "text": [
      "1/1 [==============================] - 0s 29ms/step\n",
      "108/108 - 4s - loss: 0.1346 - binary_accuracy: 0.9577 - val_loss: 0.1872 - val_binary_accuracy: 0.9375 - 4s/epoch - 36ms/step\n"
     ]
    },
    {
     "name": "stderr",
     "output_type": "stream",
     "text": [
      " 16%|█▌        | 14/90 [00:57<05:08,  4.06s/it]"
     ]
    },
    {
     "name": "stdout",
     "output_type": "stream",
     "text": [
      "1/1 [==============================] - 0s 29ms/step\n",
      "108/108 - 4s - loss: 0.1235 - binary_accuracy: 0.9617 - val_loss: 0.0333 - val_binary_accuracy: 1.0000 - 4s/epoch - 37ms/step\n"
     ]
    },
    {
     "name": "stderr",
     "output_type": "stream",
     "text": [
      " 17%|█▋        | 15/90 [01:01<05:06,  4.09s/it]"
     ]
    },
    {
     "name": "stdout",
     "output_type": "stream",
     "text": [
      "1/1 [==============================] - 0s 22ms/step\n",
      "108/108 - 4s - loss: 0.1271 - binary_accuracy: 0.9600 - val_loss: 0.3183 - val_binary_accuracy: 0.8125 - 4s/epoch - 37ms/step\n"
     ]
    },
    {
     "name": "stderr",
     "output_type": "stream",
     "text": [
      " 18%|█▊        | 16/90 [01:05<05:03,  4.10s/it]"
     ]
    },
    {
     "name": "stdout",
     "output_type": "stream",
     "text": [
      "1/1 [==============================] - 0s 18ms/step\n",
      "108/108 - 4s - loss: 0.1195 - binary_accuracy: 0.9624 - val_loss: 0.8141 - val_binary_accuracy: 0.8125 - 4s/epoch - 36ms/step\n"
     ]
    },
    {
     "name": "stderr",
     "output_type": "stream",
     "text": [
      " 19%|█▉        | 17/90 [01:09<04:58,  4.09s/it]"
     ]
    },
    {
     "name": "stdout",
     "output_type": "stream",
     "text": [
      "1/1 [==============================] - 0s 20ms/step\n",
      "108/108 - 4s - loss: 0.1198 - binary_accuracy: 0.9629 - val_loss: 0.7444 - val_binary_accuracy: 0.5000 - 4s/epoch - 37ms/step\n"
     ]
    },
    {
     "name": "stderr",
     "output_type": "stream",
     "text": [
      " 20%|██        | 18/90 [01:13<04:55,  4.11s/it]"
     ]
    },
    {
     "name": "stdout",
     "output_type": "stream",
     "text": [
      "1/1 [==============================] - 0s 30ms/step\n",
      "108/108 - 4s - loss: 0.1135 - binary_accuracy: 0.9652 - val_loss: 0.2827 - val_binary_accuracy: 0.8750 - 4s/epoch - 36ms/step\n"
     ]
    },
    {
     "name": "stderr",
     "output_type": "stream",
     "text": [
      " 21%|██        | 19/90 [01:17<04:51,  4.10s/it]"
     ]
    },
    {
     "name": "stdout",
     "output_type": "stream",
     "text": [
      "1/1 [==============================] - 0s 20ms/step\n",
      "108/108 - 4s - loss: 0.1129 - binary_accuracy: 0.9654 - val_loss: 0.8674 - val_binary_accuracy: 0.6875 - 4s/epoch - 37ms/step\n"
     ]
    },
    {
     "name": "stderr",
     "output_type": "stream",
     "text": [
      " 22%|██▏       | 20/90 [01:22<04:47,  4.11s/it]"
     ]
    },
    {
     "name": "stdout",
     "output_type": "stream",
     "text": [
      "1/1 [==============================] - 0s 24ms/step\n",
      "108/108 - 4s - loss: 0.1078 - binary_accuracy: 0.9662 - val_loss: 0.0328 - val_binary_accuracy: 1.0000 - 4s/epoch - 36ms/step\n"
     ]
    },
    {
     "name": "stderr",
     "output_type": "stream",
     "text": [
      " 23%|██▎       | 21/90 [01:26<04:42,  4.10s/it]"
     ]
    },
    {
     "name": "stdout",
     "output_type": "stream",
     "text": [
      "1/1 [==============================] - 0s 30ms/step\n",
      "108/108 - 4s - loss: 0.1004 - binary_accuracy: 0.9691 - val_loss: 0.1787 - val_binary_accuracy: 1.0000 - 4s/epoch - 37ms/step\n"
     ]
    },
    {
     "name": "stderr",
     "output_type": "stream",
     "text": [
      " 24%|██▍       | 22/90 [01:30<04:39,  4.11s/it]"
     ]
    },
    {
     "name": "stdout",
     "output_type": "stream",
     "text": [
      "1/1 [==============================] - 0s 19ms/step\n",
      "108/108 - 4s - loss: 0.1021 - binary_accuracy: 0.9687 - val_loss: 0.1358 - val_binary_accuracy: 0.9375 - 4s/epoch - 37ms/step\n"
     ]
    },
    {
     "name": "stderr",
     "output_type": "stream",
     "text": [
      " 26%|██▌       | 23/90 [01:34<04:36,  4.13s/it]"
     ]
    },
    {
     "name": "stdout",
     "output_type": "stream",
     "text": [
      "1/1 [==============================] - 0s 28ms/step\n",
      "108/108 - 4s - loss: 0.1016 - binary_accuracy: 0.9679 - val_loss: 0.4467 - val_binary_accuracy: 0.8125 - 4s/epoch - 36ms/step\n"
     ]
    },
    {
     "name": "stderr",
     "output_type": "stream",
     "text": [
      " 27%|██▋       | 24/90 [01:38<04:31,  4.12s/it]"
     ]
    },
    {
     "name": "stdout",
     "output_type": "stream",
     "text": [
      "1/1 [==============================] - 0s 21ms/step\n",
      "108/108 - 4s - loss: 0.0978 - binary_accuracy: 0.9704 - val_loss: 0.3505 - val_binary_accuracy: 0.8125 - 4s/epoch - 37ms/step\n"
     ]
    },
    {
     "name": "stderr",
     "output_type": "stream",
     "text": [
      " 28%|██▊       | 25/90 [01:42<04:27,  4.12s/it]"
     ]
    },
    {
     "name": "stdout",
     "output_type": "stream",
     "text": [
      "1/1 [==============================] - 0s 20ms/step\n",
      "108/108 - 4s - loss: 0.0922 - binary_accuracy: 0.9712 - val_loss: 0.1550 - val_binary_accuracy: 0.9375 - 4s/epoch - 37ms/step\n"
     ]
    },
    {
     "name": "stderr",
     "output_type": "stream",
     "text": [
      " 29%|██▉       | 26/90 [01:46<04:24,  4.13s/it]"
     ]
    },
    {
     "name": "stdout",
     "output_type": "stream",
     "text": [
      "1/1 [==============================] - 0s 31ms/step\n",
      "109/109 - 4s - loss: 0.1080 - binary_accuracy: 0.9651 - val_loss: 0.0400 - val_binary_accuracy: 1.0000 - 4s/epoch - 36ms/step\n"
     ]
    },
    {
     "name": "stderr",
     "output_type": "stream",
     "text": [
      " 30%|███       | 27/90 [01:50<04:19,  4.12s/it]"
     ]
    },
    {
     "name": "stdout",
     "output_type": "stream",
     "text": [
      "1/1 [==============================] - 0s 19ms/step\n",
      "109/109 - 4s - loss: 0.0932 - binary_accuracy: 0.9714 - val_loss: 0.0260 - val_binary_accuracy: 1.0000 - 4s/epoch - 36ms/step\n"
     ]
    },
    {
     "name": "stderr",
     "output_type": "stream",
     "text": [
      " 31%|███       | 28/90 [01:55<04:16,  4.13s/it]"
     ]
    },
    {
     "name": "stdout",
     "output_type": "stream",
     "text": [
      "1/1 [==============================] - 0s 32ms/step\n",
      "109/109 - 4s - loss: 0.0921 - binary_accuracy: 0.9719 - val_loss: 0.2802 - val_binary_accuracy: 0.8750 - 4s/epoch - 36ms/step\n"
     ]
    },
    {
     "name": "stderr",
     "output_type": "stream",
     "text": [
      " 32%|███▏      | 29/90 [01:59<04:12,  4.13s/it]"
     ]
    },
    {
     "name": "stdout",
     "output_type": "stream",
     "text": [
      "1/1 [==============================] - 0s 31ms/step\n",
      "109/109 - 4s - loss: 0.1461 - binary_accuracy: 0.9522 - val_loss: 0.1156 - val_binary_accuracy: 1.0000 - 4s/epoch - 37ms/step\n"
     ]
    },
    {
     "name": "stderr",
     "output_type": "stream",
     "text": [
      " 33%|███▎      | 30/90 [02:03<04:08,  4.15s/it]"
     ]
    },
    {
     "name": "stdout",
     "output_type": "stream",
     "text": [
      "1/1 [==============================] - 0s 30ms/step\n",
      "109/109 - 4s - loss: 0.1042 - binary_accuracy: 0.9688 - val_loss: 0.5729 - val_binary_accuracy: 0.6875 - 4s/epoch - 36ms/step\n"
     ]
    },
    {
     "name": "stderr",
     "output_type": "stream",
     "text": [
      " 34%|███▍      | 31/90 [02:07<04:03,  4.13s/it]"
     ]
    },
    {
     "name": "stdout",
     "output_type": "stream",
     "text": [
      "1/1 [==============================] - 0s 20ms/step\n",
      "109/109 - 4s - loss: 0.1009 - binary_accuracy: 0.9691 - val_loss: 1.0429 - val_binary_accuracy: 0.6250 - 4s/epoch - 37ms/step\n"
     ]
    },
    {
     "name": "stderr",
     "output_type": "stream",
     "text": [
      " 36%|███▌      | 32/90 [02:11<03:59,  4.13s/it]"
     ]
    },
    {
     "name": "stdout",
     "output_type": "stream",
     "text": [
      "1/1 [==============================] - 0s 23ms/step\n",
      "109/109 - 4s - loss: 0.1118 - binary_accuracy: 0.9659 - val_loss: 0.0667 - val_binary_accuracy: 1.0000 - 4s/epoch - 36ms/step\n"
     ]
    },
    {
     "name": "stderr",
     "output_type": "stream",
     "text": [
      " 37%|███▋      | 33/90 [02:15<03:54,  4.12s/it]"
     ]
    },
    {
     "name": "stdout",
     "output_type": "stream",
     "text": [
      "1/1 [==============================] - 0s 25ms/step\n",
      "109/109 - 4s - loss: 0.0907 - binary_accuracy: 0.9731 - val_loss: 0.0792 - val_binary_accuracy: 1.0000 - 4s/epoch - 36ms/step\n"
     ]
    },
    {
     "name": "stderr",
     "output_type": "stream",
     "text": [
      " 38%|███▊      | 34/90 [02:19<03:50,  4.12s/it]"
     ]
    },
    {
     "name": "stdout",
     "output_type": "stream",
     "text": [
      "1/1 [==============================] - 0s 26ms/step\n",
      "109/109 - 4s - loss: 0.0904 - binary_accuracy: 0.9729 - val_loss: 0.2243 - val_binary_accuracy: 0.9375 - 4s/epoch - 37ms/step\n"
     ]
    },
    {
     "name": "stderr",
     "output_type": "stream",
     "text": [
      " 39%|███▉      | 35/90 [02:23<03:46,  4.12s/it]"
     ]
    },
    {
     "name": "stdout",
     "output_type": "stream",
     "text": [
      "1/1 [==============================] - 0s 24ms/step\n",
      "109/109 - 4s - loss: 0.0833 - binary_accuracy: 0.9758 - val_loss: 0.7798 - val_binary_accuracy: 0.8125 - 4s/epoch - 36ms/step\n"
     ]
    },
    {
     "name": "stderr",
     "output_type": "stream",
     "text": [
      " 40%|████      | 36/90 [02:28<03:42,  4.11s/it]"
     ]
    },
    {
     "name": "stdout",
     "output_type": "stream",
     "text": [
      "1/1 [==============================] - 0s 24ms/step\n",
      "109/109 - 4s - loss: 0.0791 - binary_accuracy: 0.9770 - val_loss: 0.1080 - val_binary_accuracy: 0.9375 - 4s/epoch - 37ms/step\n"
     ]
    },
    {
     "name": "stderr",
     "output_type": "stream",
     "text": [
      " 41%|████      | 37/90 [02:32<03:38,  4.13s/it]"
     ]
    },
    {
     "name": "stdout",
     "output_type": "stream",
     "text": [
      "1/1 [==============================] - 0s 25ms/step\n",
      "109/109 - 4s - loss: 0.0780 - binary_accuracy: 0.9778 - val_loss: 0.2490 - val_binary_accuracy: 0.8750 - 4s/epoch - 36ms/step\n"
     ]
    },
    {
     "name": "stderr",
     "output_type": "stream",
     "text": [
      " 42%|████▏     | 38/90 [02:36<03:34,  4.12s/it]"
     ]
    },
    {
     "name": "stdout",
     "output_type": "stream",
     "text": [
      "1/1 [==============================] - 0s 21ms/step\n",
      "109/109 - 4s - loss: 0.0742 - binary_accuracy: 0.9786 - val_loss: 0.0253 - val_binary_accuracy: 1.0000 - 4s/epoch - 36ms/step\n"
     ]
    },
    {
     "name": "stderr",
     "output_type": "stream",
     "text": [
      " 43%|████▎     | 39/90 [02:40<03:29,  4.12s/it]"
     ]
    },
    {
     "name": "stdout",
     "output_type": "stream",
     "text": [
      "1/1 [==============================] - 0s 30ms/step\n",
      "109/109 - 4s - loss: 0.0776 - binary_accuracy: 0.9773 - val_loss: 0.0317 - val_binary_accuracy: 1.0000 - 4s/epoch - 36ms/step\n"
     ]
    },
    {
     "name": "stderr",
     "output_type": "stream",
     "text": [
      " 44%|████▍     | 40/90 [02:44<03:25,  4.12s/it]"
     ]
    },
    {
     "name": "stdout",
     "output_type": "stream",
     "text": [
      "1/1 [==============================] - 0s 38ms/step\n",
      "109/109 - 4s - loss: 0.0742 - binary_accuracy: 0.9781 - val_loss: 0.0216 - val_binary_accuracy: 1.0000 - 4s/epoch - 36ms/step\n"
     ]
    },
    {
     "name": "stderr",
     "output_type": "stream",
     "text": [
      " 46%|████▌     | 41/90 [02:48<03:22,  4.14s/it]"
     ]
    },
    {
     "name": "stdout",
     "output_type": "stream",
     "text": [
      "1/1 [==============================] - 0s 25ms/step\n",
      "109/109 - 4s - loss: 0.0696 - binary_accuracy: 0.9794 - val_loss: 0.0211 - val_binary_accuracy: 1.0000 - 4s/epoch - 37ms/step\n"
     ]
    },
    {
     "name": "stderr",
     "output_type": "stream",
     "text": [
      " 47%|████▋     | 42/90 [02:52<03:18,  4.14s/it]"
     ]
    },
    {
     "name": "stdout",
     "output_type": "stream",
     "text": [
      "1/1 [==============================] - 0s 30ms/step\n",
      "109/109 - 4s - loss: 0.0725 - binary_accuracy: 0.9786 - val_loss: 0.0205 - val_binary_accuracy: 1.0000 - 4s/epoch - 37ms/step\n"
     ]
    },
    {
     "name": "stderr",
     "output_type": "stream",
     "text": [
      " 48%|████▊     | 43/90 [02:57<03:15,  4.17s/it]"
     ]
    },
    {
     "name": "stdout",
     "output_type": "stream",
     "text": [
      "1/1 [==============================] - 0s 23ms/step\n",
      "109/109 - 4s - loss: 0.0706 - binary_accuracy: 0.9787 - val_loss: 0.0235 - val_binary_accuracy: 1.0000 - 4s/epoch - 37ms/step\n"
     ]
    },
    {
     "name": "stderr",
     "output_type": "stream",
     "text": [
      " 49%|████▉     | 44/90 [03:01<03:11,  4.17s/it]"
     ]
    },
    {
     "name": "stdout",
     "output_type": "stream",
     "text": [
      "1/1 [==============================] - 0s 39ms/step\n",
      "109/109 - 4s - loss: 0.0668 - binary_accuracy: 0.9800 - val_loss: 2.1082 - val_binary_accuracy: 0.6250 - 4s/epoch - 36ms/step\n"
     ]
    },
    {
     "name": "stderr",
     "output_type": "stream",
     "text": [
      " 50%|█████     | 45/90 [03:05<03:07,  4.17s/it]"
     ]
    },
    {
     "name": "stdout",
     "output_type": "stream",
     "text": [
      "1/1 [==============================] - 0s 26ms/step\n",
      "109/109 - 4s - loss: 0.0789 - binary_accuracy: 0.9757 - val_loss: 0.1210 - val_binary_accuracy: 0.9375 - 4s/epoch - 36ms/step\n"
     ]
    },
    {
     "name": "stderr",
     "output_type": "stream",
     "text": [
      " 51%|█████     | 46/90 [03:09<03:02,  4.15s/it]"
     ]
    },
    {
     "name": "stdout",
     "output_type": "stream",
     "text": [
      "1/1 [==============================] - 0s 20ms/step\n",
      "109/109 - 4s - loss: 0.0826 - binary_accuracy: 0.9751 - val_loss: 0.8311 - val_binary_accuracy: 0.5000 - 4s/epoch - 36ms/step\n"
     ]
    },
    {
     "name": "stderr",
     "output_type": "stream",
     "text": [
      " 52%|█████▏    | 47/90 [03:13<02:57,  4.14s/it]"
     ]
    },
    {
     "name": "stdout",
     "output_type": "stream",
     "text": [
      "1/1 [==============================] - 0s 29ms/step\n",
      "109/109 - 4s - loss: 0.0711 - binary_accuracy: 0.9787 - val_loss: 1.0005 - val_binary_accuracy: 0.6875 - 4s/epoch - 36ms/step\n"
     ]
    },
    {
     "name": "stderr",
     "output_type": "stream",
     "text": [
      " 53%|█████▎    | 48/90 [03:17<02:53,  4.14s/it]"
     ]
    },
    {
     "name": "stdout",
     "output_type": "stream",
     "text": [
      "1/1 [==============================] - 0s 24ms/step\n",
      "109/109 - 4s - loss: 0.0689 - binary_accuracy: 0.9792 - val_loss: 0.0764 - val_binary_accuracy: 1.0000 - 4s/epoch - 36ms/step\n"
     ]
    },
    {
     "name": "stderr",
     "output_type": "stream",
     "text": [
      " 54%|█████▍    | 49/90 [03:21<02:49,  4.13s/it]"
     ]
    },
    {
     "name": "stdout",
     "output_type": "stream",
     "text": [
      "1/1 [==============================] - 0s 25ms/step\n",
      "109/109 - 4s - loss: 0.0681 - binary_accuracy: 0.9796 - val_loss: 0.0608 - val_binary_accuracy: 1.0000 - 4s/epoch - 38ms/step\n"
     ]
    },
    {
     "name": "stderr",
     "output_type": "stream",
     "text": [
      " 56%|█████▌    | 50/90 [03:26<02:46,  4.17s/it]"
     ]
    },
    {
     "name": "stdout",
     "output_type": "stream",
     "text": [
      "1/1 [==============================] - 0s 38ms/step\n",
      "109/109 - 4s - loss: 0.0763 - binary_accuracy: 0.9773 - val_loss: 1.9028 - val_binary_accuracy: 0.5000 - 4s/epoch - 37ms/step\n"
     ]
    },
    {
     "name": "stderr",
     "output_type": "stream",
     "text": [
      " 57%|█████▋    | 51/90 [03:30<02:44,  4.21s/it]"
     ]
    },
    {
     "name": "stdout",
     "output_type": "stream",
     "text": [
      "1/1 [==============================] - 0s 29ms/step\n",
      "109/109 - 4s - loss: 0.0859 - binary_accuracy: 0.9737 - val_loss: 0.0294 - val_binary_accuracy: 1.0000 - 4s/epoch - 39ms/step\n"
     ]
    },
    {
     "name": "stderr",
     "output_type": "stream",
     "text": [
      " 58%|█████▊    | 52/90 [03:34<02:43,  4.29s/it]"
     ]
    },
    {
     "name": "stdout",
     "output_type": "stream",
     "text": [
      "1/1 [==============================] - 0s 26ms/step\n",
      "109/109 - 4s - loss: 0.0697 - binary_accuracy: 0.9800 - val_loss: 0.0461 - val_binary_accuracy: 1.0000 - 4s/epoch - 37ms/step\n"
     ]
    },
    {
     "name": "stderr",
     "output_type": "stream",
     "text": [
      " 59%|█████▉    | 53/90 [03:39<02:38,  4.28s/it]"
     ]
    },
    {
     "name": "stdout",
     "output_type": "stream",
     "text": [
      "1/1 [==============================] - 0s 50ms/step\n",
      "109/109 - 4s - loss: 0.0704 - binary_accuracy: 0.9790 - val_loss: 0.0968 - val_binary_accuracy: 1.0000 - 4s/epoch - 37ms/step\n"
     ]
    },
    {
     "name": "stderr",
     "output_type": "stream",
     "text": [
      " 60%|██████    | 54/90 [03:43<02:33,  4.26s/it]"
     ]
    },
    {
     "name": "stdout",
     "output_type": "stream",
     "text": [
      "1/1 [==============================] - 0s 22ms/step\n",
      "109/109 - 4s - loss: 0.0653 - binary_accuracy: 0.9809 - val_loss: 0.6439 - val_binary_accuracy: 0.8125 - 4s/epoch - 36ms/step\n"
     ]
    },
    {
     "name": "stderr",
     "output_type": "stream",
     "text": [
      " 61%|██████    | 55/90 [03:47<02:27,  4.23s/it]"
     ]
    },
    {
     "name": "stdout",
     "output_type": "stream",
     "text": [
      "1/1 [==============================] - 0s 31ms/step\n",
      "109/109 - 4s - loss: 0.0627 - binary_accuracy: 0.9813 - val_loss: 0.5781 - val_binary_accuracy: 0.8125 - 4s/epoch - 37ms/step\n"
     ]
    },
    {
     "name": "stderr",
     "output_type": "stream",
     "text": [
      " 62%|██████▏   | 56/90 [03:51<02:23,  4.21s/it]"
     ]
    },
    {
     "name": "stdout",
     "output_type": "stream",
     "text": [
      "1/1 [==============================] - 0s 21ms/step\n",
      "109/109 - 4s - loss: 0.0632 - binary_accuracy: 0.9812 - val_loss: 0.1550 - val_binary_accuracy: 0.9375 - 4s/epoch - 37ms/step\n"
     ]
    },
    {
     "name": "stderr",
     "output_type": "stream",
     "text": [
      " 63%|██████▎   | 57/90 [03:55<02:18,  4.19s/it]"
     ]
    },
    {
     "name": "stdout",
     "output_type": "stream",
     "text": [
      "1/1 [==============================] - 0s 40ms/step\n",
      "109/109 - 4s - loss: 0.0668 - binary_accuracy: 0.9800 - val_loss: 1.7221 - val_binary_accuracy: 0.6875 - 4s/epoch - 37ms/step\n"
     ]
    },
    {
     "name": "stderr",
     "output_type": "stream",
     "text": [
      " 64%|██████▍   | 58/90 [04:00<02:14,  4.21s/it]"
     ]
    },
    {
     "name": "stdout",
     "output_type": "stream",
     "text": [
      "1/1 [==============================] - 0s 29ms/step\n",
      "110/110 - 4s - loss: 0.0676 - binary_accuracy: 0.9798 - val_loss: 0.3754 - val_binary_accuracy: 0.9375 - 4s/epoch - 39ms/step\n"
     ]
    },
    {
     "name": "stderr",
     "output_type": "stream",
     "text": [
      " 66%|██████▌   | 59/90 [04:04<02:12,  4.27s/it]"
     ]
    },
    {
     "name": "stdout",
     "output_type": "stream",
     "text": [
      "1/1 [==============================] - 0s 40ms/step\n",
      "110/110 - 4s - loss: 0.0760 - binary_accuracy: 0.9770 - val_loss: 0.2813 - val_binary_accuracy: 0.8750 - 4s/epoch - 36ms/step\n"
     ]
    },
    {
     "name": "stderr",
     "output_type": "stream",
     "text": [
      " 67%|██████▋   | 60/90 [04:08<02:07,  4.26s/it]"
     ]
    },
    {
     "name": "stdout",
     "output_type": "stream",
     "text": [
      "1/1 [==============================] - 0s 27ms/step\n",
      "110/110 - 4s - loss: 0.0912 - binary_accuracy: 0.9713 - val_loss: 0.0231 - val_binary_accuracy: 1.0000 - 4s/epoch - 36ms/step\n"
     ]
    },
    {
     "name": "stderr",
     "output_type": "stream",
     "text": [
      " 68%|██████▊   | 61/90 [04:12<02:02,  4.22s/it]"
     ]
    },
    {
     "name": "stdout",
     "output_type": "stream",
     "text": [
      "1/1 [==============================] - 0s 24ms/step\n",
      "110/110 - 4s - loss: 0.0973 - binary_accuracy: 0.9708 - val_loss: 0.1272 - val_binary_accuracy: 1.0000 - 4s/epoch - 37ms/step\n"
     ]
    },
    {
     "name": "stderr",
     "output_type": "stream",
     "text": [
      " 69%|██████▉   | 62/90 [04:17<01:57,  4.21s/it]"
     ]
    },
    {
     "name": "stdout",
     "output_type": "stream",
     "text": [
      "1/1 [==============================] - 0s 37ms/step\n",
      "110/110 - 4s - loss: 0.0658 - binary_accuracy: 0.9818 - val_loss: 0.0246 - val_binary_accuracy: 1.0000 - 4s/epoch - 36ms/step\n"
     ]
    },
    {
     "name": "stderr",
     "output_type": "stream",
     "text": [
      " 70%|███████   | 63/90 [04:21<01:53,  4.20s/it]"
     ]
    },
    {
     "name": "stdout",
     "output_type": "stream",
     "text": [
      "1/1 [==============================] - 0s 23ms/step\n",
      "110/110 - 4s - loss: 0.0651 - binary_accuracy: 0.9821 - val_loss: 0.7043 - val_binary_accuracy: 0.8750 - 4s/epoch - 36ms/step\n"
     ]
    },
    {
     "name": "stderr",
     "output_type": "stream",
     "text": [
      " 71%|███████   | 64/90 [04:25<01:48,  4.17s/it]"
     ]
    },
    {
     "name": "stdout",
     "output_type": "stream",
     "text": [
      "1/1 [==============================] - 0s 21ms/step\n",
      "110/110 - 4s - loss: 0.1055 - binary_accuracy: 0.9678 - val_loss: 5.3478 - val_binary_accuracy: 0.0000e+00 - 4s/epoch - 36ms/step\n"
     ]
    },
    {
     "name": "stderr",
     "output_type": "stream",
     "text": [
      " 72%|███████▏  | 65/90 [04:29<01:43,  4.14s/it]"
     ]
    },
    {
     "name": "stdout",
     "output_type": "stream",
     "text": [
      "1/1 [==============================] - 0s 23ms/step\n",
      "110/110 - 4s - loss: 0.0697 - binary_accuracy: 0.9814 - val_loss: 1.1723 - val_binary_accuracy: 0.1250 - 4s/epoch - 38ms/step\n"
     ]
    },
    {
     "name": "stderr",
     "output_type": "stream",
     "text": [
      " 73%|███████▎  | 66/90 [04:33<01:40,  4.20s/it]"
     ]
    },
    {
     "name": "stdout",
     "output_type": "stream",
     "text": [
      "1/1 [==============================] - 0s 45ms/step\n",
      "110/110 - 4s - loss: 0.0614 - binary_accuracy: 0.9837 - val_loss: 0.0215 - val_binary_accuracy: 1.0000 - 4s/epoch - 40ms/step\n"
     ]
    },
    {
     "name": "stderr",
     "output_type": "stream",
     "text": [
      " 74%|███████▍  | 67/90 [04:38<01:39,  4.34s/it]"
     ]
    },
    {
     "name": "stdout",
     "output_type": "stream",
     "text": [
      "1/1 [==============================] - 0s 43ms/step\n",
      "110/110 - 4s - loss: 0.0609 - binary_accuracy: 0.9834 - val_loss: 1.4597 - val_binary_accuracy: 0.5000 - 4s/epoch - 35ms/step\n"
     ]
    },
    {
     "name": "stderr",
     "output_type": "stream",
     "text": [
      " 76%|███████▌  | 68/90 [04:42<01:33,  4.26s/it]"
     ]
    },
    {
     "name": "stdout",
     "output_type": "stream",
     "text": [
      "1/1 [==============================] - 0s 22ms/step\n",
      "110/110 - 4s - loss: 0.0580 - binary_accuracy: 0.9841 - val_loss: 0.6150 - val_binary_accuracy: 0.6875 - 4s/epoch - 36ms/step\n"
     ]
    },
    {
     "name": "stderr",
     "output_type": "stream",
     "text": [
      " 77%|███████▋  | 69/90 [04:46<01:28,  4.20s/it]"
     ]
    },
    {
     "name": "stdout",
     "output_type": "stream",
     "text": [
      "1/1 [==============================] - 0s 25ms/step\n",
      "110/110 - 4s - loss: 0.0643 - binary_accuracy: 0.9814 - val_loss: 0.0267 - val_binary_accuracy: 1.0000 - 4s/epoch - 36ms/step\n"
     ]
    },
    {
     "name": "stderr",
     "output_type": "stream",
     "text": [
      " 78%|███████▊  | 70/90 [04:50<01:23,  4.17s/it]"
     ]
    },
    {
     "name": "stdout",
     "output_type": "stream",
     "text": [
      "1/1 [==============================] - 0s 20ms/step\n",
      "110/110 - 4s - loss: 0.0568 - binary_accuracy: 0.9848 - val_loss: 0.3904 - val_binary_accuracy: 0.8750 - 4s/epoch - 37ms/step\n"
     ]
    },
    {
     "name": "stderr",
     "output_type": "stream",
     "text": [
      " 79%|███████▉  | 71/90 [04:54<01:19,  4.18s/it]"
     ]
    },
    {
     "name": "stdout",
     "output_type": "stream",
     "text": [
      "1/1 [==============================] - 0s 26ms/step\n",
      "110/110 - 4s - loss: 0.0620 - binary_accuracy: 0.9817 - val_loss: 0.2082 - val_binary_accuracy: 0.8750 - 4s/epoch - 36ms/step\n"
     ]
    },
    {
     "name": "stderr",
     "output_type": "stream",
     "text": [
      " 80%|████████  | 72/90 [04:58<01:14,  4.16s/it]"
     ]
    },
    {
     "name": "stdout",
     "output_type": "stream",
     "text": [
      "1/1 [==============================] - 0s 25ms/step\n",
      "110/110 - 4s - loss: 0.0551 - binary_accuracy: 0.9845 - val_loss: 0.0232 - val_binary_accuracy: 1.0000 - 4s/epoch - 35ms/step\n"
     ]
    },
    {
     "name": "stderr",
     "output_type": "stream",
     "text": [
      " 81%|████████  | 73/90 [05:02<01:09,  4.11s/it]"
     ]
    },
    {
     "name": "stdout",
     "output_type": "stream",
     "text": [
      "1/1 [==============================] - 0s 23ms/step\n",
      "110/110 - 4s - loss: 0.0622 - binary_accuracy: 0.9824 - val_loss: 0.0202 - val_binary_accuracy: 1.0000 - 4s/epoch - 35ms/step\n"
     ]
    },
    {
     "name": "stderr",
     "output_type": "stream",
     "text": [
      " 82%|████████▏ | 74/90 [05:06<01:05,  4.09s/it]"
     ]
    },
    {
     "name": "stdout",
     "output_type": "stream",
     "text": [
      "1/1 [==============================] - 0s 26ms/step\n",
      "110/110 - 4s - loss: 0.0582 - binary_accuracy: 0.9833 - val_loss: 0.3948 - val_binary_accuracy: 0.8750 - 4s/epoch - 36ms/step\n"
     ]
    },
    {
     "name": "stderr",
     "output_type": "stream",
     "text": [
      " 83%|████████▎ | 75/90 [05:11<01:01,  4.08s/it]"
     ]
    },
    {
     "name": "stdout",
     "output_type": "stream",
     "text": [
      "1/1 [==============================] - 0s 20ms/step\n",
      "110/110 - 4s - loss: 0.0514 - binary_accuracy: 0.9858 - val_loss: 0.0452 - val_binary_accuracy: 1.0000 - 4s/epoch - 37ms/step\n"
     ]
    },
    {
     "name": "stderr",
     "output_type": "stream",
     "text": [
      " 84%|████████▍ | 76/90 [05:15<00:57,  4.12s/it]"
     ]
    },
    {
     "name": "stdout",
     "output_type": "stream",
     "text": [
      "1/1 [==============================] - 0s 26ms/step\n",
      "110/110 - 4s - loss: 0.0496 - binary_accuracy: 0.9864 - val_loss: 1.5199 - val_binary_accuracy: 0.1875 - 4s/epoch - 36ms/step\n"
     ]
    },
    {
     "name": "stderr",
     "output_type": "stream",
     "text": [
      " 86%|████████▌ | 77/90 [05:19<00:53,  4.12s/it]"
     ]
    },
    {
     "name": "stdout",
     "output_type": "stream",
     "text": [
      "1/1 [==============================] - 0s 18ms/step\n",
      "110/110 - 4s - loss: 0.0630 - binary_accuracy: 0.9810 - val_loss: 1.5034 - val_binary_accuracy: 0.6875 - 4s/epoch - 35ms/step\n"
     ]
    },
    {
     "name": "stderr",
     "output_type": "stream",
     "text": [
      " 87%|████████▋ | 78/90 [05:23<00:48,  4.07s/it]"
     ]
    },
    {
     "name": "stdout",
     "output_type": "stream",
     "text": [
      "1/1 [==============================] - 0s 22ms/step\n",
      "110/110 - 4s - loss: 0.0595 - binary_accuracy: 0.9823 - val_loss: 0.1023 - val_binary_accuracy: 0.9375 - 4s/epoch - 35ms/step\n"
     ]
    },
    {
     "name": "stderr",
     "output_type": "stream",
     "text": [
      " 88%|████████▊ | 79/90 [05:27<00:44,  4.05s/it]"
     ]
    },
    {
     "name": "stdout",
     "output_type": "stream",
     "text": [
      "1/1 [==============================] - 0s 22ms/step\n",
      "110/110 - 4s - loss: 0.0704 - binary_accuracy: 0.9790 - val_loss: 2.8037 - val_binary_accuracy: 0.3125 - 4s/epoch - 36ms/step\n"
     ]
    },
    {
     "name": "stderr",
     "output_type": "stream",
     "text": [
      " 89%|████████▉ | 80/90 [05:31<00:40,  4.06s/it]"
     ]
    },
    {
     "name": "stdout",
     "output_type": "stream",
     "text": [
      "1/1 [==============================] - 0s 17ms/step\n",
      "110/110 - 4s - loss: 0.0620 - binary_accuracy: 0.9824 - val_loss: 0.5259 - val_binary_accuracy: 0.8125 - 4s/epoch - 36ms/step\n"
     ]
    },
    {
     "name": "stderr",
     "output_type": "stream",
     "text": [
      " 90%|█████████ | 81/90 [05:35<00:36,  4.06s/it]"
     ]
    },
    {
     "name": "stdout",
     "output_type": "stream",
     "text": [
      "1/1 [==============================] - 0s 24ms/step\n",
      "110/110 - 4s - loss: 0.0607 - binary_accuracy: 0.9822 - val_loss: 0.0762 - val_binary_accuracy: 1.0000 - 4s/epoch - 35ms/step\n"
     ]
    },
    {
     "name": "stderr",
     "output_type": "stream",
     "text": [
      " 91%|█████████ | 82/90 [05:39<00:32,  4.06s/it]"
     ]
    },
    {
     "name": "stdout",
     "output_type": "stream",
     "text": [
      "1/1 [==============================] - 0s 24ms/step\n",
      "110/110 - 4s - loss: 0.0655 - binary_accuracy: 0.9812 - val_loss: 2.1517 - val_binary_accuracy: 0.2500 - 4s/epoch - 35ms/step\n"
     ]
    },
    {
     "name": "stderr",
     "output_type": "stream",
     "text": [
      " 92%|█████████▏| 83/90 [05:43<00:28,  4.05s/it]"
     ]
    },
    {
     "name": "stdout",
     "output_type": "stream",
     "text": [
      "1/1 [==============================] - 0s 14ms/step\n",
      "110/110 - 4s - loss: 0.0793 - binary_accuracy: 0.9774 - val_loss: 0.0199 - val_binary_accuracy: 1.0000 - 4s/epoch - 37ms/step\n"
     ]
    },
    {
     "name": "stderr",
     "output_type": "stream",
     "text": [
      " 93%|█████████▎| 84/90 [05:47<00:24,  4.09s/it]"
     ]
    },
    {
     "name": "stdout",
     "output_type": "stream",
     "text": [
      "1/1 [==============================] - 0s 23ms/step\n",
      "110/110 - 4s - loss: 0.0545 - binary_accuracy: 0.9856 - val_loss: 0.0196 - val_binary_accuracy: 1.0000 - 4s/epoch - 36ms/step\n"
     ]
    },
    {
     "name": "stderr",
     "output_type": "stream",
     "text": [
      " 94%|█████████▍| 85/90 [05:51<00:20,  4.08s/it]"
     ]
    },
    {
     "name": "stdout",
     "output_type": "stream",
     "text": [
      "1/1 [==============================] - 0s 26ms/step\n",
      "110/110 - 4s - loss: 0.0557 - binary_accuracy: 0.9847 - val_loss: 1.3733 - val_binary_accuracy: 0.6875 - 4s/epoch - 35ms/step\n"
     ]
    },
    {
     "name": "stderr",
     "output_type": "stream",
     "text": [
      " 96%|█████████▌| 86/90 [05:55<00:16,  4.06s/it]"
     ]
    },
    {
     "name": "stdout",
     "output_type": "stream",
     "text": [
      "1/1 [==============================] - 0s 28ms/step\n",
      "110/110 - 4s - loss: 0.0563 - binary_accuracy: 0.9843 - val_loss: 0.1472 - val_binary_accuracy: 1.0000 - 4s/epoch - 36ms/step\n"
     ]
    },
    {
     "name": "stderr",
     "output_type": "stream",
     "text": [
      " 97%|█████████▋| 87/90 [05:59<00:12,  4.08s/it]"
     ]
    },
    {
     "name": "stdout",
     "output_type": "stream",
     "text": [
      "1/1 [==============================] - 0s 27ms/step\n",
      "110/110 - 4s - loss: 0.0526 - binary_accuracy: 0.9851 - val_loss: 2.3537 - val_binary_accuracy: 0.2500 - 4s/epoch - 35ms/step\n"
     ]
    },
    {
     "name": "stderr",
     "output_type": "stream",
     "text": [
      " 98%|█████████▊| 88/90 [06:03<00:08,  4.07s/it]"
     ]
    },
    {
     "name": "stdout",
     "output_type": "stream",
     "text": [
      "1/1 [==============================] - 0s 23ms/step\n",
      "110/110 - 4s - loss: 0.0515 - binary_accuracy: 0.9860 - val_loss: 0.0362 - val_binary_accuracy: 1.0000 - 4s/epoch - 36ms/step\n"
     ]
    },
    {
     "name": "stderr",
     "output_type": "stream",
     "text": [
      " 99%|█████████▉| 89/90 [06:08<00:04,  4.07s/it]"
     ]
    },
    {
     "name": "stdout",
     "output_type": "stream",
     "text": [
      "1/1 [==============================] - 0s 24ms/step\n",
      "110/110 - 4s - loss: 0.0526 - binary_accuracy: 0.9855 - val_loss: 0.0159 - val_binary_accuracy: 1.0000 - 4s/epoch - 37ms/step\n"
     ]
    },
    {
     "name": "stderr",
     "output_type": "stream",
     "text": [
      "100%|██████████| 90/90 [06:12<00:00,  4.14s/it]\n"
     ]
    },
    {
     "data": {
      "text/plain": [
       "(0.6116192709278694,\n",
       " 0.5861441798941799,\n",
       " 0.6909722222222222,\n",
       " 0.5898551884150731)"
      ]
     },
     "execution_count": 25,
     "metadata": {},
     "output_type": "execute_result"
    }
   ],
   "source": [
    "from keras.models import load_model\n",
    "from sklearn.metrics import precision_score, recall_score, accuracy_score, f1_score\n",
    "from tqdm import tqdm\n",
    "\n",
    "# Assuming best_model is loaded from the notebook\n",
    "# best_model = load_model('final_model_0908_seq2seq_2.h5')\n",
    "\n",
    "# Step 1: Initially train the model on X_train and y_train\n",
    "# Assuming this has been done in the notebook\n",
    "\n",
    "# Step 2: Online learning with x_test\n",
    "y_preds = []\n",
    "training_losses = []\n",
    "training_acc = []\n",
    "val_losses = []\n",
    "val_acc = []\n",
    "for i in tqdm(range(len(X_test))):\n",
    "    # Predict the next instance\n",
    "    y_pred = best_model.predict(X_test[i:i+1])\n",
    "    y_preds.append(y_pred[0])\n",
    "    \n",
    "    # Add the instance and its actual result to the training dataset\n",
    "    X_train = np.append(X_train, X_test[i:i+1], axis=0)\n",
    "    y_train = np.append(y_train, y_test[i:i+1], axis=0)\n",
    "    \n",
    "    # Retrain the model on this updated dataset\n",
    "    history_slide = best_model.fit(X_train, y_train, validation_data=(X_test[i:i+1], y_test[i:i+1]), epochs=1, verbose=2)\n",
    "    training_losses.append(history_slide.history['loss'][0])\n",
    "    training_acc.append(history_slide.history['binary_accuracy'][0])\n",
    "    val_losses.append(history_slide.history['val_loss'][0])\n",
    "    val_acc.append(history_slide.history['val_binary_accuracy'][0])\n",
    "\n",
    "# Convert predictions to numpy array\n",
    "y_preds = np.array(y_preds)\n",
    "\n",
    "# Step 3: Evaluate the model\n",
    "# Flatten the 3D tensors for evaluation\n",
    "y_test_flat = np.argmax(y_test.reshape(-1, y_test.shape[-1]), axis=1)\n",
    "y_preds_flat = np.argmax(y_preds.reshape(-1, y_preds.shape[-1]), axis=1)\n",
    "\n",
    "# Calculate evaluation metrics\n",
    "precision = precision_score(y_test_flat, y_preds_flat, average='macro')\n",
    "recall = recall_score(y_test_flat, y_preds_flat, average='macro')\n",
    "accuracy = accuracy_score(y_test_flat, y_preds_flat)\n",
    "f1 = f1_score(y_test_flat, y_preds_flat, average='macro')\n",
    "\n",
    "precision, recall, accuracy, f1\n"
   ]
  },
  {
   "cell_type": "code",
   "execution_count": null,
   "metadata": {},
   "outputs": [
    {
     "data": {
      "image/png": "[encoded data removed]",
      "text/plain": [
       "<Figure size 1200x400 with 2 Axes>"
      ]
     },
     "metadata": {},
     "output_type": "display_data"
    }
   ],
   "source": [
    "plt.figure(figsize=(12, 4))\n",
    "plt.subplot(1, 2, 1)\n",
    "plt.plot(training_acc)\n",
    "plt.plot(val_acc)\n",
    "plt.title('Model binary_accuracy')\n",
    "plt.ylabel('Accuracy')\n",
    "plt.xlabel('Epoch')\n",
    "plt.legend(['Train', 'Test'], loc='upper left')\n",
    "\n",
    "# Plot training & validation loss values\n",
    "plt.subplot(1, 2, 2)\n",
    "plt.plot(training_losses)\n",
    "plt.plot(val_losses)\n",
    "plt.title('Model loss')\n",
    "plt.ylabel('Loss')\n",
    "plt.xlabel('Epoch')\n",
    "plt.legend(['Train', 'Test'], loc='upper left')\n",
    "plt.show()"
   ]
  },
  {
   "cell_type": "code",
   "execution_count": null,
   "metadata": {},
   "outputs": [
    {
     "name": "stdout",
     "output_type": "stream",
     "text": [
      "Average Precision: 0.6222733591785848\n",
      "Average Recall: 0.5853226867331284\n",
      "Average Accuracy: 0.6909722222222222\n",
      "Average F1 Score: 0.5906989805116196\n"
     ]
    }
   ],
   "source": [
    "from sklearn.metrics import precision_score, recall_score, accuracy_score, f1_score\n",
    "\n",
    "# 初始化指標\n",
    "total_precision = 0\n",
    "total_recall = 0\n",
    "total_accuracy = 0\n",
    "total_f1 = 0\n",
    "num_steps = y_test.shape[1]\n",
    "\n",
    "# 針對每個時間步計算指標\n",
    "for step in range(num_steps):\n",
    "    y_true_step = np.argmax(y_test[:, step, :], axis=1)\n",
    "    y_pred_step = np.argmax(y_preds[:, step, :], axis=1)\n",
    "    \n",
    "    total_precision += precision_score(y_true_step, y_pred_step, average='macro')\n",
    "    total_recall += recall_score(y_true_step, y_pred_step, average='macro')\n",
    "    total_accuracy += accuracy_score(y_true_step, y_pred_step)\n",
    "    total_f1 += f1_score(y_true_step, y_pred_step, average='macro')\n",
    "\n",
    "# 取平均值\n",
    "avg_precision = total_precision / num_steps\n",
    "avg_recall = total_recall / num_steps\n",
    "avg_accuracy = total_accuracy / num_steps\n",
    "avg_f1 = total_f1 / num_steps\n",
    "\n",
    "# 顯示結果\n",
    "print(f'Average Precision: {avg_precision}')\n",
    "print(f'Average Recall: {avg_recall}')\n",
    "print(f'Average Accuracy: {avg_accuracy}')\n",
    "print(f'Average F1 Score: {avg_f1}')\n"
   ]
  }
 ],
 "metadata": {
  "kernelspec": {
   "display_name": "myenv",
   "language": "python",
   "name": "python3"
  },
  "language_info": {
   "codemirror_mode": {
    "name": "ipython",
    "version": 3
   },
   "file_extension": ".py",
   "mimetype": "text/x-python",
   "name": "python",
   "nbconvert_exporter": "python",
   "pygments_lexer": "ipython3",
   "version": "3.10.7"
  }
 },
 "nbformat": 4,
 "nbformat_minor": 2
}
