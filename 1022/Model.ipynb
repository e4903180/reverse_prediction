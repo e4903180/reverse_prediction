{
 "cells": [
  {
   "cell_type": "code",
   "execution_count": 47,
   "metadata": {},
   "outputs": [],
   "source": [
    "import yfinance as yf\n",
    "import numpy as np\n",
    "import pandas as pd\n",
    "from scipy.signal import argrelextrema\n",
    "import talib\n",
    "from abc import ABC, abstractmethod\n",
    "from sklearn.preprocessing import StandardScaler, MinMaxScaler"
   ]
  },
  {
   "cell_type": "code",
   "execution_count": 48,
   "metadata": {},
   "outputs": [
    {
     "name": "stdout",
     "output_type": "stream",
     "text": [
      "[*********************100%***********************]  1 of 1 completed\n"
     ]
    }
   ],
   "source": [
    "class FeatureBase(ABC):\n",
    "    \"\"\"\n",
    "    Abstract base class for all features.\n",
    "    \"\"\"\n",
    "    @abstractmethod\n",
    "    def compute(self, data=None, *args, **kwargs):\n",
    "        \"\"\"\n",
    "        Abstract method to compute the feature value for the given data.\n",
    "        \"\"\"\n",
    "        pass\n",
    "\n",
    "\n",
    "# TODO: there's some wrong in calculate trend ways, add a new method that can split data by date\n",
    "class IndicatorTrend(FeatureBase):\n",
    "    \"\"\"\n",
    "    Indicator to calculate the trend based on various methods.\n",
    "    \"\"\"\n",
    "    def compute(self, data, *args, **kwargs):\n",
    "        \"\"\"\n",
    "        Compute the trend for the given data using the specified method.\n",
    "\n",
    "        Parameters:\n",
    "        - data: DataFrame containing the data.\n",
    "        - method: Method for trend calculation (e.g., 'MA', 'LocalExtrema').\n",
    "        - ma_days: Number of days for moving average.\n",
    "        - oder_days: Number of days for order.\n",
    "        - trend_days: Number of days to determine the trend.\n",
    "\n",
    "        Returns:\n",
    "        - DataFrame with trend values.\n",
    "        \"\"\"\n",
    "        method = kwargs.get('method', 'MA')\n",
    "        ma_days = kwargs.get('ma_days', 20)\n",
    "        oder_days = kwargs.get('oder_days', 20)\n",
    "        trend_days = kwargs.get('trend_days', 5)\n",
    "\n",
    "        if method == 'MA':\n",
    "            return self.calculate_trend_MA(data, ma_days=ma_days, trend_days=trend_days)\n",
    "        elif method == 'LocalExtrema':\n",
    "            return self.calculate_trend_LocalExtrema(data, oder_days=oder_days)\n",
    "        else:\n",
    "            raise ValueError(f\"Invalid trend calculation method: {method}\")\n",
    "\n",
    "    def calculate_trend_MA(self, data, ma_days=20, trend_days=5):\n",
    "        \"\"\"\n",
    "        Calculate trend using Moving Average method.\n",
    "\n",
    "        Parameters:\n",
    "        - data: DataFrame containing the data.\n",
    "        - ma_days: Number of days for moving average.\n",
    "        - trend_days: Number of days to determine the trend.\n",
    "\n",
    "        Returns:\n",
    "        - DataFrame with trend values.\n",
    "        \"\"\"\n",
    "        data['MA'] = data['Close'].rolling(window=ma_days).mean()\n",
    "        data['Trend'] = np.nan\n",
    "        n = len(data)\n",
    "\n",
    "        for i in range(n - trend_days + 1):\n",
    "            if all(data['MA'].iloc[i + j] < data['MA'].iloc[i + j + 1] for j in range(trend_days - 1)):\n",
    "                data['Trend'].iloc[i:i + trend_days] = 0\n",
    "            elif all(data['MA'].iloc[i + j] > data['MA'].iloc[i + j + 1] for j in range(trend_days - 1)):\n",
    "                data['Trend'].iloc[i:i + trend_days] = 1\n",
    "        data['Trend'].fillna(method='ffill', inplace=True)\n",
    "        return data.drop(columns=['MA'])\n",
    "\n",
    "    def calculate_trend_LocalExtrema(self, data, oder_days=20):\n",
    "        \"\"\"\n",
    "        Calculate trend using Local Extrema method.\n",
    "\n",
    "        Parameters:\n",
    "        - data: DataFrame containing the data.\n",
    "        - oder_days: Number of days for order.\n",
    "\n",
    "        Returns:\n",
    "        - DataFrame with trend values.\n",
    "        \"\"\"\n",
    "        local_max_indices = argrelextrema(\n",
    "            data['Close'].values, np.greater_equal, order=oder_days)[0]\n",
    "        local_min_indices = argrelextrema(\n",
    "            data['Close'].values, np.less_equal, order=oder_days)[0]\n",
    "        data['Local Max'] = data.iloc[local_max_indices]['Close']\n",
    "        data['Local Min'] = data.iloc[local_min_indices]['Close']\n",
    "        data['Trend'] = np.nan\n",
    "        prev_idx = None\n",
    "        prev_trend = None\n",
    "        prev_type = None\n",
    "\n",
    "        for idx in sorted(np.concatenate([local_max_indices, local_min_indices])):\n",
    "            if idx in local_max_indices:\n",
    "                current_type = \"max\"\n",
    "            else:\n",
    "                current_type = \"min\"\n",
    "\n",
    "            if prev_trend is None:\n",
    "                if current_type == \"max\":\n",
    "                    prev_trend = 1\n",
    "                else:\n",
    "                    prev_trend = 0\n",
    "            else:\n",
    "                if prev_type == \"max\" and current_type == \"min\":\n",
    "                    data.loc[prev_idx:idx, 'Trend'] = 1\n",
    "                    prev_trend = 1\n",
    "                elif prev_type == \"min\" and current_type == \"max\":\n",
    "                    data.loc[prev_idx:idx, 'Trend'] = 0\n",
    "                    prev_trend = 0\n",
    "                else:\n",
    "                    if current_type == \"max\":\n",
    "                        data.loc[prev_idx:idx, 'Trend'] = 0\n",
    "                        prev_trend = 0\n",
    "                    else:\n",
    "                        data.loc[prev_idx:idx, 'Trend'] = 1\n",
    "                        prev_trend = 1\n",
    "\n",
    "            prev_idx = idx\n",
    "            prev_type = current_type\n",
    "        data['Trend'].fillna(method='ffill', inplace=True)\n",
    "        return data.drop(columns=['Local Max', 'Local Min'])\n",
    "\n",
    "\n",
    "class IndicatorMACD(FeatureBase):\n",
    "    \"\"\"\n",
    "    Indicator to calculate the Moving Average Convergence Divergence (MACD).\n",
    "    \"\"\"\n",
    "\n",
    "    def compute(self, data, *args, **kwargs):\n",
    "        fastperiod = kwargs.get('fastperiod', 5)\n",
    "        slowperiod = kwargs.get('slowperiod', 10)\n",
    "        signalperiod = kwargs.get('signalperiod', 9)\n",
    "        data['MACD'], _, _ = talib.MACD(\n",
    "            data['Close'], fastperiod=fastperiod, slowperiod=slowperiod, signalperiod=signalperiod)\n",
    "        return data\n",
    "\n",
    "\n",
    "class IndicatorROC(FeatureBase):\n",
    "    def compute(self, data, *args, **kwargs):\n",
    "        trend_days = kwargs.get('trend_days', 5)\n",
    "        data['ROC'] = talib.ROC(data['Close'], timeperiod=trend_days)\n",
    "        return data\n",
    "\n",
    "\n",
    "class IndicatorStochasticOscillator(FeatureBase):\n",
    "    def compute(self, data, *args, **kwargs):\n",
    "        trend_days = kwargs.get('trend_days', 5)\n",
    "        data['StoK'], data['StoD'] = talib.STOCH(\n",
    "            data['High'], data['Low'], data['Close'], fastk_period=trend_days, slowk_period=3, slowd_period=3)\n",
    "        return data\n",
    "\n",
    "\n",
    "class IndicatorCCI(FeatureBase):\n",
    "    def compute(self, data, *args, **kwargs):\n",
    "        timeperiod = kwargs.get('timeperiod', 14)\n",
    "        data['CCI'] = talib.CCI(data['High'], data['Low'],\n",
    "                                data['Close'], timeperiod=timeperiod)\n",
    "        return data\n",
    "\n",
    "\n",
    "class IndicatorRSI(FeatureBase):\n",
    "    def compute(self, data, *args, **kwargs):\n",
    "        timeperiod = kwargs.get('timeperiod', 14)\n",
    "        data['RSI'] = talib.RSI(data['Close'], timeperiod=timeperiod)\n",
    "        return data\n",
    "\n",
    "\n",
    "class IndicatorVMA(FeatureBase):\n",
    "    def compute(self, data, *args, **kwargs):\n",
    "        timeperiod = kwargs.get('timeperiod', 20)\n",
    "        data['VMA'] = talib.MA(data['Volume'], timeperiod=timeperiod)\n",
    "        return data\n",
    "\n",
    "\n",
    "class IndicatorPctChange(FeatureBase):\n",
    "    def compute(self, data, *args, **kwargs):\n",
    "        data['pctChange'] = data['Close'].pct_change() * 100\n",
    "        return data\n",
    "\n",
    "\n",
    "class TreasuryYieldThreeMonth(FeatureBase):\n",
    "    def compute(self, data, *args, **kwargs):\n",
    "        start_date = kwargs.get('start_date')\n",
    "        end_date = kwargs.get('end_date')\n",
    "        three_month_treasury_yield = yf.download(\n",
    "            \"^IRX\", start_date, end_date)[\"Close\"]\n",
    "        data['3M Treasury Yield'] = three_month_treasury_yield\n",
    "        return data\n",
    "\n",
    "\n",
    "class TreasuryYieldFiveYear(FeatureBase):\n",
    "    def compute(self, data, *args, **kwargs):\n",
    "        start_date = kwargs.get('start_date')\n",
    "        end_date = kwargs.get('end_date')\n",
    "        five_year_treasury_yield = yf.download(\n",
    "            \"^FVX\", start_date, end_date)[\"Close\"]\n",
    "        data['5Y Treasury Yield'] = five_year_treasury_yield\n",
    "        return data\n",
    "\n",
    "\n",
    "class TreasuryYieldTenYear(FeatureBase):\n",
    "    def compute(self, data, *args, **kwargs):\n",
    "        start_date = kwargs.get('start_date')\n",
    "        end_date = kwargs.get('end_date')\n",
    "        ten_year_treasury_yield = yf.download(\n",
    "            \"^TNX\", start_date, end_date)[\"Close\"]\n",
    "        data['10Y Treasury Yield'] = ten_year_treasury_yield\n",
    "        return data\n",
    "\n",
    "\n",
    "class TreasuryYieldThirtyYear(FeatureBase):\n",
    "    def compute(self, data, *args, **kwargs):\n",
    "        start_date = kwargs.get('start_date')\n",
    "        end_date = kwargs.get('end_date')\n",
    "        thirty_year_treasury_yield = yf.download(\n",
    "            \"^TYX\", start_date, end_date)[\"Close\"]\n",
    "        data['30Y Treasury Yield'] = thirty_year_treasury_yield\n",
    "        return data\n",
    "# Add other features here as needed\n",
    "\n",
    "\n",
    "class FeatureFactory:\n",
    "    \"\"\"\n",
    "    Factory class dedicated to creating various technical features.\n",
    "    \"\"\"\n",
    "    @staticmethod\n",
    "    def get_feature(feature_type):\n",
    "        \"\"\"\n",
    "        Retrieve the desired feature based on the specified type.\n",
    "\n",
    "        Parameters:\n",
    "        - feature_type: Type of feature (e.g., 'Trend', 'MACD').\n",
    "\n",
    "        Returns:\n",
    "        - Feaature object corresponding to the specified type.\n",
    "\n",
    "        Raises:\n",
    "        - ValueError: If the provided feature type is not supported.\n",
    "        \"\"\"\n",
    "        features = {\n",
    "            \"Trend\": IndicatorTrend,\n",
    "            \"MACD\": IndicatorMACD,\n",
    "            \"ROC\": IndicatorROC,\n",
    "            \"Stochastic Oscillator\": IndicatorStochasticOscillator,\n",
    "            \"CCI\": IndicatorCCI,\n",
    "            \"RSI\": IndicatorRSI,\n",
    "            \"VMA\": IndicatorVMA,\n",
    "            \"PctChange\": IndicatorPctChange,\n",
    "            \"3M Treasury Yield\": TreasuryYieldThreeMonth,\n",
    "            \"5Y Treasury Yield\": TreasuryYieldFiveYear,\n",
    "            \"10Y Treasury Yield\": TreasuryYieldTenYear,\n",
    "            \"30Y Treasury Yield\": TreasuryYieldThirtyYear,\n",
    "            # Add other features here as needed\n",
    "        }\n",
    "        feature = features.get(feature_type)\n",
    "        if feature is None:\n",
    "            raise ValueError(f\"Invalid feature type: {feature_type}\")\n",
    "        return feature()\n",
    "\n",
    "\n",
    "class CleanerBase(ABC):\n",
    "    \"\"\"Abstract base class for data processors.\"\"\"\n",
    "    @abstractmethod\n",
    "    def check(self, data):\n",
    "        \"\"\"Method to check the data for issues.\"\"\"\n",
    "        pass\n",
    "\n",
    "    @abstractmethod\n",
    "    def clean(self, data):\n",
    "        \"\"\"Method to clean the data from identified issues.\"\"\"\n",
    "        pass\n",
    "\n",
    "\n",
    "class CleanerMissingValue(CleanerBase):\n",
    "    \"\"\"Concrete class for checking and handling missing data.\"\"\"\n",
    "    def check(self, data):\n",
    "        \"\"\"Check for missing data in the dataframe.\"\"\"\n",
    "        return data.isnull().sum()\n",
    "\n",
    "    def clean(self, data, strategy='auto'):\n",
    "        \"\"\"Handle missing data based on the chosen strategy.\"\"\"\n",
    "        if strategy == 'auto':\n",
    "            while data.iloc[0].isnull().any():\n",
    "                data = data.iloc[1:]\n",
    "            data.fillna(method='ffill', inplace=True)\n",
    "\n",
    "        elif strategy == 'drop':\n",
    "            data.dropna(inplace=True)\n",
    "\n",
    "        elif strategy == 'fillna':\n",
    "            data.fillna(method='ffill', inplace=True)\n",
    "\n",
    "        elif strategy == 'none':\n",
    "            pass\n",
    "\n",
    "        else:\n",
    "            raise ValueError(\"Invalid strategy provided.\")\n",
    "\n",
    "        return data\n",
    "\n",
    "\n",
    "class ProcessorFactory:\n",
    "    \"\"\"Factory class to creat data processors.\"\"\"\n",
    "    @staticmethod\n",
    "    def get_cleaner(clean_type, *args, **kwargs):\n",
    "        \"\"\"creat a data processor based on the provided type.\"\"\"\n",
    "        if clean_type == \"MissingData\":\n",
    "            return CleanerMissingValue(*args, **kwargs)\n",
    "        else:\n",
    "            raise ValueError(f\"Processor type {clean_type} not recognized.\")\n",
    "\n",
    "    @staticmethod\n",
    "    def get_standardize_method(data, method='StandardScaler'):\n",
    "        \"\"\"Standardize the data using the specified method.\"\"\"\n",
    "        if method == 'StandardScaler':\n",
    "            scaler = StandardScaler()\n",
    "        elif method == 'MinMaxScaler':\n",
    "            scaler = MinMaxScaler()\n",
    "        else:\n",
    "            raise ValueError(f\"Invalid scaler method: {method}.\")\n",
    "        return scaler.fit_transform(data)\n",
    "\n",
    "    @staticmethod\n",
    "    def standardize_and_split_data(data, split_ratio=0.7, target_col=\"Trend\", feature_cols=None):\n",
    "        \"\"\"Standardize the data and split it into training and testing sets.\"\"\"\n",
    "        if not feature_cols:\n",
    "            feature_cols = data.columns.to_list()\n",
    "        x_data = data[feature_cols]\n",
    "\n",
    "        # Generate the one-hot encoding\n",
    "        y_data = pd.get_dummies(data[target_col], prefix='Trend')\n",
    "\n",
    "        # Check if the split index is valid\n",
    "        split_idx = int(len(x_data) * split_ratio)\n",
    "        if split_idx < 1 or split_idx >= len(x_data):\n",
    "            raise ValueError(\n",
    "                \"Invalid split ratio leading to incorrect data partitioning.\")\n",
    "\n",
    "        X_test = x_data.iloc[split_idx:]\n",
    "        y_test = y_data.iloc[split_idx:]\n",
    "        X_train = x_data.iloc[:split_idx]\n",
    "        y_train = y_data.iloc[:split_idx]\n",
    "\n",
    "        return X_train, y_train, X_test, y_test\n",
    "\n",
    "    @staticmethod\n",
    "    def prepare_multistep_data(x_data, y_data, look_back, predict_steps, slide_steps=1):\n",
    "        \"\"\"\n",
    "        Prepare the data for multi-step prediction and apply standardization within each sliding window.\n",
    "        \"\"\"\n",
    "        x_date = []\n",
    "        y_date = []\n",
    "        x_data_multistep = []\n",
    "        y_data_multistep = []\n",
    "\n",
    "        for i in range(0, len(x_data) - look_back - predict_steps + 1, slide_steps):\n",
    "            x_date.append(x_data.index[i:i + look_back])\n",
    "\n",
    "            y_date.append(\n",
    "                x_data.index[i + look_back:i + look_back + predict_steps])\n",
    "\n",
    "            x_window = x_data.iloc[i:i + look_back].values\n",
    "            y_window = y_data.iloc[i + look_back:i +\n",
    "                                   look_back + predict_steps].values\n",
    "\n",
    "            x_window_standardized = ProcessorFactory.get_standardize_method(\n",
    "                x_window)\n",
    "\n",
    "            x_data_multistep.append(x_window_standardized)\n",
    "            y_data_multistep.append(y_window)\n",
    "\n",
    "        return np.array(x_data_multistep), np.array(y_data_multistep), np.array(x_date), np.array(y_date)\n",
    "\n",
    "\n",
    "class Preprocessor:\n",
    "    \"\"\"\n",
    "    Fetching, processing, and preparing model data.\n",
    "    \"\"\"\n",
    "    def __init__(self, data=None, start_date=None, end_date=None):\n",
    "        # self.data = data\n",
    "        self.start_date = start_date\n",
    "        self.end_date = end_date\n",
    "        self.trend_method = \"MA\"\n",
    "        self.features = []\n",
    "        self.processors = []\n",
    "\n",
    "    def set_seed(self, seed_value=42):\n",
    "        \"\"\"Set seed for reproducibility.\"\"\"\n",
    "        np.random.seed(seed_value)\n",
    "\n",
    "    def fetch_stock_data(self, stock_symbol, start_date=None, end_date=None):\n",
    "        \"\"\"Fetch stock data from Yahoo Finance.\"\"\"\n",
    "        if start_date:\n",
    "            self.start_date = start_date\n",
    "        if end_date:\n",
    "            self.end_date = end_date\n",
    "        return yf.download(stock_symbol, start=self.start_date, end=self.end_date)\n",
    "\n",
    "    def add_feature(self, feature_type, *args, **kwargs):\n",
    "        feature = FeatureFactory.get_feature(feature_type)\n",
    "        self.data = feature.compute(self.data, *args, **kwargs)\n",
    "\n",
    "    def add_data_cleaner(self, clean_type='MissingData', strategy='drop'):\n",
    "        \"\"\"Method to check and clean the data using a specific processor.\"\"\"\n",
    "        processor = ProcessorFactory.get_cleaner(clean_type)\n",
    "        issues = processor.check(self.data)\n",
    "        self.data = processor.clean(self.data, strategy=strategy)\n",
    "        return issues\n",
    "\n",
    "    def process_data(self, split_ratio=0.7, target_col=\"Trend\", feature_cols=None, look_back=64, predict_steps=16, train_slide_steps=1, test_slide_steps=16):\n",
    "        \"\"\"\n",
    "        Use ProcessorFactory to standardize and split the data, and prepare it for multi-step prediction if required.\n",
    "        \"\"\"\n",
    "        X_train, y_train, X_test, y_test = ProcessorFactory.standardize_and_split_data(\n",
    "            self.data, split_ratio, target_col, feature_cols)\n",
    "\n",
    "        if look_back and predict_steps:\n",
    "            X_train, y_train, train_dates, _ = ProcessorFactory.prepare_multistep_data(\n",
    "                X_train, y_train, look_back, predict_steps, train_slide_steps)\n",
    "            X_test, y_test, _, test_dates = ProcessorFactory.prepare_multistep_data(\n",
    "                X_test, y_test, look_back, predict_steps, test_slide_steps)\n",
    "            return X_train, y_train, X_test, y_test, train_dates, test_dates\n",
    "        else:\n",
    "            raise ValueError(\"Invalid look_back or predict_steps provided for data preparation.\")\n",
    "\n",
    "model_data = Preprocessor()\n",
    "model_data.set_seed(42)\n",
    "start_date = \"2001-01-01\"\n",
    "stop_date = \"2021-01-01\"\n",
    "stock_symbol = \"^GSPC\"\n",
    "model_data.data = model_data.fetch_stock_data(\n",
    "    stock_symbol, start_date, stop_date)"
   ]
  },
  {
   "cell_type": "code",
   "execution_count": 49,
   "metadata": {},
   "outputs": [
    {
     "name": "stderr",
     "output_type": "stream",
     "text": [
      "C:\\Users\\e4903\\AppData\\Local\\Temp\\ipykernel_7716\\1196187592.py:62: SettingWithCopyWarning: \n",
      "A value is trying to be set on a copy of a slice from a DataFrame\n",
      "\n",
      "See the caveats in the documentation: https://pandas.pydata.org/pandas-docs/stable/user_guide/indexing.html#returning-a-view-versus-a-copy\n",
      "  data['Trend'].iloc[i:i + trend_days] = 0\n",
      "C:\\Users\\e4903\\AppData\\Local\\Temp\\ipykernel_7716\\1196187592.py:64: SettingWithCopyWarning: \n",
      "A value is trying to be set on a copy of a slice from a DataFrame\n",
      "\n",
      "See the caveats in the documentation: https://pandas.pydata.org/pandas-docs/stable/user_guide/indexing.html#returning-a-view-versus-a-copy\n",
      "  data['Trend'].iloc[i:i + trend_days] = 1\n"
     ]
    },
    {
     "name": "stdout",
     "output_type": "stream",
     "text": [
      "[*********************100%***********************]  1 of 1 completed\n",
      "[*********************100%***********************]  1 of 1 completed\n",
      "[*********************100%***********************]  1 of 1 completed\n",
      "[*********************100%***********************]  1 of 1 completed\n"
     ]
    }
   ],
   "source": [
    "features = [\n",
    "    {\"type\": \"Trend\", \"method\": \"MA\", \"oder_days\": 20,\n",
    "        \"ma_days\": 20, \"trend_days\": 5},\n",
    "    {\"type\": \"MACD\", \"fastperiod\": 5, \"slowperiod\": 10, \"signalperiod\": 9},\n",
    "    {\"type\": \"ROC\", \"trend_days\": 5},\n",
    "    {\"type\": \"Stochastic Oscillator\", \"trend_days\": 5},\n",
    "    {\"type\": \"CCI\", \"timeperiod\": 14},\n",
    "    {\"type\": \"RSI\", \"timeperiod\": 14},\n",
    "    {\"type\": \"VMA\", \"timeperiod\": 20},\n",
    "    {\"type\": \"PctChange\"},\n",
    "    {\"type\": \"3M Treasury Yield\", \"start_date\": \"2001-01-01\", \"end_date\": \"2021-01-01\"},\n",
    "    {\"type\": \"5Y Treasury Yield\", \"start_date\": \"2001-01-01\", \"end_date\": \"2021-01-01\"},\n",
    "    {\"type\": \"10Y Treasury Yield\", \"start_date\": \"2001-01-01\", \"end_date\": \"2021-01-01\"},\n",
    "    {\"type\": \"30Y Treasury Yield\", \"start_date\": \"2001-01-01\", \"end_date\": \"2021-01-01\"},\n",
    "]  # Add other features here as needed\n",
    "\n",
    "for feature_params in features:\n",
    "    feature_type = feature_params[\"type\"]\n",
    "    model_data.add_feature(feature_type, **feature_params)"
   ]
  },
  {
   "cell_type": "code",
   "execution_count": 50,
   "metadata": {},
   "outputs": [],
   "source": [
    "issues_detected = model_data.add_data_cleaner(\"MissingData\", strategy='auto')\n"
   ]
  },
  {
   "cell_type": "code",
   "execution_count": 51,
   "metadata": {},
   "outputs": [
    {
     "data": {
      "text/plain": [
       "((3430, 64, 19), (3430, 16, 2), (90, 64, 19), (90, 16, 2))"
      ]
     },
     "execution_count": 51,
     "metadata": {},
     "output_type": "execute_result"
    }
   ],
   "source": [
    "split_ratio = 0.7\n",
    "target_col = \"Trend\"\n",
    "feature_cols = None  # None means use all columns\n",
    "# feature_cols = ['Trend']\n",
    "look_back = 64  # number of previous days' data to consider\n",
    "predict_steps = 16  # number of days to predict in the future\n",
    "slide_steps = 1  # sliding window step size\n",
    "\n",
    "X_train, y_train, X_test, y_test, train_dates, test_dates = model_data.process_data(split_ratio=0.7, target_col=\"Trend\", feature_cols=feature_cols, look_back=look_back,\n",
    "                        predict_steps=predict_steps, train_slide_steps=1, test_slide_steps=predict_steps)\n",
    "\n",
    "X_train.shape, y_train.shape, X_test.shape, y_test.shape"
   ]
  },
  {
   "cell_type": "code",
   "execution_count": 52,
   "metadata": {},
   "outputs": [],
   "source": [
    "import numpy as np\n",
    "import pandas as pd\n",
    "from keras.models import Sequential\n",
    "from keras.layers import Dense, LSTM, Conv1D, MaxPooling1D, Flatten, Reshape\n",
    "import matplotlib.pyplot as plt\n",
    "from sklearn.preprocessing import StandardScaler\n",
    "from sklearn.preprocessing import MinMaxScaler\n",
    "import yfinance as yf\n",
    "from scipy.signal import argrelextrema"
   ]
  },
  {
   "cell_type": "code",
   "execution_count": 53,
   "metadata": {},
   "outputs": [],
   "source": [
    "import numpy as np\n",
    "import tensorflow as tf\n",
    "import random\n",
    "\n",
    "def set_seed(seed_value):\n",
    "    np.random.seed(seed_value)\n",
    "    tf.random.set_seed(seed_value)\n",
    "    random.seed(seed_value)\n",
    "set_seed(42)"
   ]
  },
  {
   "cell_type": "code",
   "execution_count": 54,
   "metadata": {},
   "outputs": [],
   "source": [
    "from kerastuner import RandomSearch\n",
    "from keras.models import Sequential\n",
    "from keras.layers import LSTM, Dense, RepeatVector, TimeDistributed, Conv1D, MaxPooling1D, Dropout, BatchNormalization, Activation\n",
    "from keras.optimizers import Adam\n",
    "from keras import regularizers\n",
    "from keras import metrics\n",
    "\n",
    "params = {\n",
    "        'conv_1_filter': 32,\n",
    "        'conv_1_kernel': 4,\n",
    "        'conv_1_l2': 0.00016475815766673417,\n",
    "        'dropout_1': 0.2,\n",
    "        'conv_2_filter': 96,\n",
    "        'conv_2_kernel': 2,\n",
    "        'dropout_2': 0.2,\n",
    "        'lstm_1_units': 128,\n",
    "        'lstm_1_l2': 0.0002788818914602332,\n",
    "        'dropout_3': 0.2,\n",
    "        'lstm_2_units': 64,\n",
    "        'dropout_4': 0.1,\n",
    "        'learning_rate': 0.001\n",
    "    }\n",
    "\n",
    "def build_model():\n",
    "    # Parameters from the provided dictionary\n",
    "\n",
    "    model = Sequential()\n",
    "    \n",
    "    # Encoder\n",
    "    model.add(Conv1D(filters=params['conv_1_filter'],\n",
    "                     kernel_size=params['conv_1_kernel'],\n",
    "                     activation=None,\n",
    "                     padding='same',\n",
    "                     kernel_regularizer=regularizers.l2(params['conv_1_l2']),\n",
    "                     input_shape=(look_back, X_train.shape[-1])))\n",
    "    model.add(BatchNormalization())\n",
    "    model.add(Activation('relu'))\n",
    "    model.add(Dropout(params['dropout_1']))\n",
    "    model.add(MaxPooling1D(pool_size=2))\n",
    "    \n",
    "    model.add(Conv1D(filters=params['conv_2_filter'],\n",
    "                     kernel_size=params['conv_2_kernel'],\n",
    "                     activation=None))\n",
    "    model.add(BatchNormalization())\n",
    "    model.add(Activation('relu'))\n",
    "    model.add(Dropout(params['dropout_2']))\n",
    "    model.add(MaxPooling1D(pool_size=2))\n",
    "    \n",
    "    model.add(LSTM(units=params['lstm_1_units'],\n",
    "                   activation=None,\n",
    "                   return_sequences=False,\n",
    "                   kernel_regularizer=regularizers.l2(params['lstm_1_l2'])))\n",
    "    model.add(BatchNormalization())\n",
    "    model.add(Activation('tanh'))\n",
    "    model.add(Dropout(params['dropout_3']))\n",
    "    \n",
    "    # Set the desired output sequence length using RepeatVector\n",
    "    model.add(RepeatVector(predict_steps))\n",
    "    \n",
    "    # Decoder\n",
    "    model.add(LSTM(units=params['lstm_2_units'],\n",
    "                   activation=None,\n",
    "                   return_sequences=True))\n",
    "    model.add(BatchNormalization())\n",
    "    model.add(Activation('tanh'))\n",
    "    model.add(Dropout(params['dropout_4']))\n",
    "    model.add(TimeDistributed(Dense(2, activation='softmax')))\n",
    "    \n",
    "    optimizer = Adam(learning_rate=params['learning_rate'])\n",
    "    model.compile(optimizer=optimizer,\n",
    "                  loss='binary_crossentropy',\n",
    "                  metrics=[metrics.BinaryAccuracy()])\n",
    "    model.summary()\n",
    "    \n",
    "    return model\n"
   ]
  },
  {
   "cell_type": "code",
   "execution_count": 55,
   "metadata": {},
   "outputs": [
    {
     "name": "stdout",
     "output_type": "stream",
     "text": [
      "Model: \"sequential_5\"\n",
      "_________________________________________________________________\n",
      " Layer (type)                Output Shape              Param #   \n",
      "=================================================================\n",
      " conv1d_10 (Conv1D)          (None, 64, 32)            2464      \n",
      "                                                                 \n",
      " batch_normalization_20 (Bat  (None, 64, 32)           128       \n",
      " chNormalization)                                                \n",
      "                                                                 \n",
      " activation_20 (Activation)  (None, 64, 32)            0         \n",
      "                                                                 \n",
      " dropout_20 (Dropout)        (None, 64, 32)            0         \n",
      "                                                                 \n",
      " max_pooling1d_10 (MaxPoolin  (None, 32, 32)           0         \n",
      " g1D)                                                            \n",
      "                                                                 \n",
      " conv1d_11 (Conv1D)          (None, 31, 96)            6240      \n",
      "                                                                 \n",
      " batch_normalization_21 (Bat  (None, 31, 96)           384       \n",
      " chNormalization)                                                \n",
      "                                                                 \n",
      " activation_21 (Activation)  (None, 31, 96)            0         \n",
      "                                                                 \n",
      " dropout_21 (Dropout)        (None, 31, 96)            0         \n",
      "                                                                 \n",
      " max_pooling1d_11 (MaxPoolin  (None, 15, 96)           0         \n",
      " g1D)                                                            \n",
      "                                                                 \n",
      " lstm_10 (LSTM)              (None, 128)               115200    \n",
      "                                                                 \n",
      " batch_normalization_22 (Bat  (None, 128)              512       \n",
      " chNormalization)                                                \n",
      "                                                                 \n",
      " activation_22 (Activation)  (None, 128)               0         \n",
      "                                                                 \n",
      " dropout_22 (Dropout)        (None, 128)               0         \n",
      "                                                                 \n",
      " repeat_vector_5 (RepeatVect  (None, 16, 128)          0         \n",
      " or)                                                             \n",
      "                                                                 \n",
      " lstm_11 (LSTM)              (None, 16, 64)            49408     \n",
      "                                                                 \n",
      " batch_normalization_23 (Bat  (None, 16, 64)           256       \n",
      " chNormalization)                                                \n",
      "                                                                 \n",
      " activation_23 (Activation)  (None, 16, 64)            0         \n",
      "                                                                 \n",
      " dropout_23 (Dropout)        (None, 16, 64)            0         \n",
      "                                                                 \n",
      " time_distributed_5 (TimeDis  (None, 16, 2)            130       \n",
      " tributed)                                                       \n",
      "                                                                 \n",
      "=================================================================\n",
      "Total params: 174,722\n",
      "Trainable params: 174,082\n",
      "Non-trainable params: 640\n",
      "_________________________________________________________________\n",
      "Epoch 1/10\n",
      "54/54 - 19s - loss: 0.5743 - binary_accuracy: 0.7476 - 19s/epoch - 355ms/step\n",
      "Epoch 2/10\n",
      "54/54 - 7s - loss: 0.4099 - binary_accuracy: 0.8382 - 7s/epoch - 139ms/step\n",
      "Epoch 3/10\n",
      "54/54 - 7s - loss: 0.3463 - binary_accuracy: 0.8730 - 7s/epoch - 136ms/step\n",
      "Epoch 4/10\n",
      "54/54 - 7s - loss: 0.2856 - binary_accuracy: 0.8987 - 7s/epoch - 127ms/step\n",
      "Epoch 5/10\n",
      "54/54 - 7s - loss: 0.2587 - binary_accuracy: 0.9113 - 7s/epoch - 128ms/step\n",
      "Epoch 6/10\n",
      "54/54 - 7s - loss: 0.2416 - binary_accuracy: 0.9180 - 7s/epoch - 127ms/step\n",
      "Epoch 7/10\n",
      "54/54 - 8s - loss: 0.2193 - binary_accuracy: 0.9273 - 8s/epoch - 142ms/step\n",
      "Epoch 8/10\n",
      "54/54 - 10s - loss: 0.2039 - binary_accuracy: 0.9328 - 10s/epoch - 186ms/step\n",
      "Epoch 9/10\n",
      "54/54 - 10s - loss: 0.2030 - binary_accuracy: 0.9323 - 10s/epoch - 181ms/step\n",
      "Epoch 10/10\n",
      "54/54 - 10s - loss: 0.1869 - binary_accuracy: 0.9397 - 10s/epoch - 188ms/step\n"
     ]
    },
    {
     "data": {
      "image/png": "[encoded data removed]",
      "text/plain": [
       "<Figure size 1200x400 with 2 Axes>"
      ]
     },
     "metadata": {},
     "output_type": "display_data"
    }
   ],
   "source": [
    "from keras.callbacks import EarlyStopping\n",
    "\n",
    "# Build the model with the optimal hyperparameters\n",
    "best_model = build_model()\n",
    "\n",
    "# Compile the model with the optimal learning rate\n",
    "best_model.compile(optimizer=Adam(learning_rate=params['learning_rate']), loss='binary_crossentropy', metrics=[metrics.BinaryAccuracy()])\n",
    "\n",
    "# Initialize EarlyStopping callback\n",
    "early_stopping = EarlyStopping(monitor='val_binary_accuracy', patience=5, restore_best_weights=True)\n",
    "\n",
    "# Train the model\n",
    "history = best_model.fit(\n",
    "    X_train, y_train,\n",
    "    epochs=10,\n",
    "    batch_size=64,\n",
    "    # validation_data=(X_test, y_test),\n",
    "    # callbacks=[early_stopping],  # Add early_stopping to callbacks\n",
    "    verbose=2\n",
    ")\n",
    "\n",
    "# Function to plot training curves\n",
    "def plot_training_curves(history):\n",
    "    # Plot training & validation accuracy values\n",
    "    plt.figure(figsize=(12, 4))\n",
    "    plt.subplot(1, 2, 1)\n",
    "    plt.plot(history.history['binary_accuracy'])\n",
    "    # plt.plot(history.history['val_binary_accuracy'])\n",
    "    plt.title('Model binary_accuracy')\n",
    "    plt.ylabel('Accuracy')\n",
    "    plt.xlabel('Epoch')\n",
    "    plt.legend(['Train', 'Test'], loc='upper left')\n",
    "\n",
    "    # Plot training & validation loss values\n",
    "    plt.subplot(1, 2, 2)\n",
    "    plt.plot(history.history['loss'])\n",
    "    # plt.plot(history.history['val_loss'])\n",
    "    plt.title('Model loss')\n",
    "    plt.ylabel('Loss')\n",
    "    plt.xlabel('Epoch')\n",
    "    plt.legend(['Train', 'Test'], loc='upper left')\n",
    "    plt.show()\n",
    "\n",
    "# Plot the training curves\n",
    "plot_training_curves(history)\n"
   ]
  },
  {
   "cell_type": "code",
   "execution_count": 56,
   "metadata": {},
   "outputs": [
    {
     "name": "stderr",
     "output_type": "stream",
     "text": [
      "  0%|          | 0/90 [00:00<?, ?it/s]"
     ]
    },
    {
     "name": "stdout",
     "output_type": "stream",
     "text": [
      "1/1 [==============================] - 1s 969ms/step\n",
      "1/1 - 0s - loss: 0.5982 - binary_accuracy: 0.8125 - 29ms/epoch - 29ms/step\n"
     ]
    },
    {
     "name": "stderr",
     "output_type": "stream",
     "text": [
      "  1%|          | 1/90 [00:01<01:49,  1.23s/it]"
     ]
    },
    {
     "name": "stdout",
     "output_type": "stream",
     "text": [
      "1/1 [==============================] - 0s 48ms/step\n",
      "1/1 - 0s - loss: 0.5038 - binary_accuracy: 0.8750 - 29ms/epoch - 29ms/step\n"
     ]
    },
    {
     "name": "stderr",
     "output_type": "stream",
     "text": [
      "  2%|▏         | 2/90 [00:01<01:00,  1.47it/s]"
     ]
    },
    {
     "name": "stdout",
     "output_type": "stream",
     "text": [
      "1/1 [==============================] - 0s 50ms/step\n",
      "1/1 - 0s - loss: 0.7362 - binary_accuracy: 0.6250 - 22ms/epoch - 22ms/step\n"
     ]
    },
    {
     "name": "stderr",
     "output_type": "stream",
     "text": [
      "  3%|▎         | 3/90 [00:01<00:43,  1.99it/s]"
     ]
    },
    {
     "name": "stdout",
     "output_type": "stream",
     "text": [
      "1/1 [==============================] - 0s 50ms/step\n",
      "1/1 - 0s - loss: 2.0558 - binary_accuracy: 0.0625 - 21ms/epoch - 21ms/step\n"
     ]
    },
    {
     "name": "stderr",
     "output_type": "stream",
     "text": [
      "  4%|▍         | 4/90 [00:02<00:37,  2.32it/s]"
     ]
    },
    {
     "name": "stdout",
     "output_type": "stream",
     "text": [
      "1/1 [==============================] - 0s 51ms/step\n",
      "1/1 - 0s - loss: 1.4231 - binary_accuracy: 0.3125 - 22ms/epoch - 22ms/step\n"
     ]
    },
    {
     "name": "stderr",
     "output_type": "stream",
     "text": [
      "  6%|▌         | 5/90 [00:02<00:31,  2.66it/s]"
     ]
    },
    {
     "name": "stdout",
     "output_type": "stream",
     "text": [
      "1/1 [==============================] - 0s 59ms/step\n",
      "1/1 - 0s - loss: 1.3055 - binary_accuracy: 0.0000e+00 - 20ms/epoch - 20ms/step\n"
     ]
    },
    {
     "name": "stderr",
     "output_type": "stream",
     "text": [
      "  7%|▋         | 6/90 [00:02<00:28,  2.91it/s]"
     ]
    },
    {
     "name": "stdout",
     "output_type": "stream",
     "text": [
      "1/1 [==============================] - 0s 50ms/step\n",
      "1/1 - 0s - loss: 1.1844 - binary_accuracy: 0.0000e+00 - 16ms/epoch - 16ms/step\n"
     ]
    },
    {
     "name": "stderr",
     "output_type": "stream",
     "text": [
      "  8%|▊         | 7/90 [00:02<00:26,  3.09it/s]"
     ]
    },
    {
     "name": "stdout",
     "output_type": "stream",
     "text": [
      "1/1 [==============================] - 0s 35ms/step\n",
      "1/1 - 0s - loss: 0.4685 - binary_accuracy: 0.8750 - 21ms/epoch - 21ms/step\n"
     ]
    },
    {
     "name": "stderr",
     "output_type": "stream",
     "text": [
      "  9%|▉         | 8/90 [00:03<00:23,  3.52it/s]"
     ]
    },
    {
     "name": "stdout",
     "output_type": "stream",
     "text": [
      "1/1 [==============================] - 0s 41ms/step\n",
      "1/1 - 0s - loss: 0.6389 - binary_accuracy: 0.6250 - 29ms/epoch - 29ms/step\n"
     ]
    },
    {
     "name": "stderr",
     "output_type": "stream",
     "text": [
      " 10%|█         | 9/90 [00:03<00:22,  3.54it/s]"
     ]
    },
    {
     "name": "stdout",
     "output_type": "stream",
     "text": [
      "1/1 [==============================] - 0s 49ms/step\n",
      "1/1 - 0s - loss: 1.0901 - binary_accuracy: 0.4375 - 21ms/epoch - 21ms/step\n"
     ]
    },
    {
     "name": "stderr",
     "output_type": "stream",
     "text": [
      " 11%|█         | 10/90 [00:03<00:22,  3.56it/s]"
     ]
    },
    {
     "name": "stdout",
     "output_type": "stream",
     "text": [
      "1/1 [==============================] - 0s 50ms/step\n",
      "1/1 - 0s - loss: 1.5628 - binary_accuracy: 0.4375 - 16ms/epoch - 16ms/step\n"
     ]
    },
    {
     "name": "stderr",
     "output_type": "stream",
     "text": [
      " 12%|█▏        | 11/90 [00:04<00:21,  3.59it/s]"
     ]
    },
    {
     "name": "stdout",
     "output_type": "stream",
     "text": [
      "1/1 [==============================] - 0s 50ms/step\n",
      "1/1 - 0s - loss: 1.3481 - binary_accuracy: 0.3750 - 23ms/epoch - 23ms/step\n"
     ]
    },
    {
     "name": "stderr",
     "output_type": "stream",
     "text": [
      " 13%|█▎        | 12/90 [00:04<00:22,  3.51it/s]"
     ]
    },
    {
     "name": "stdout",
     "output_type": "stream",
     "text": [
      "1/1 [==============================] - 0s 51ms/step\n",
      "1/1 - 0s - loss: 1.2647 - binary_accuracy: 0.3125 - 26ms/epoch - 26ms/step\n"
     ]
    },
    {
     "name": "stderr",
     "output_type": "stream",
     "text": [
      " 14%|█▍        | 13/90 [00:04<00:22,  3.47it/s]"
     ]
    },
    {
     "name": "stdout",
     "output_type": "stream",
     "text": [
      "1/1 [==============================] - 0s 50ms/step\n",
      "1/1 - 0s - loss: 0.6052 - binary_accuracy: 0.7500 - 20ms/epoch - 20ms/step\n"
     ]
    },
    {
     "name": "stderr",
     "output_type": "stream",
     "text": [
      " 16%|█▌        | 14/90 [00:04<00:21,  3.49it/s]"
     ]
    },
    {
     "name": "stdout",
     "output_type": "stream",
     "text": [
      "1/1 [==============================] - 0s 47ms/step\n",
      "1/1 - 0s - loss: 0.5340 - binary_accuracy: 0.8750 - 27ms/epoch - 27ms/step\n"
     ]
    },
    {
     "name": "stderr",
     "output_type": "stream",
     "text": [
      " 17%|█▋        | 15/90 [00:05<00:21,  3.48it/s]"
     ]
    },
    {
     "name": "stdout",
     "output_type": "stream",
     "text": [
      "1/1 [==============================] - 0s 51ms/step\n",
      "1/1 - 0s - loss: 0.5131 - binary_accuracy: 1.0000 - 26ms/epoch - 26ms/step\n"
     ]
    },
    {
     "name": "stderr",
     "output_type": "stream",
     "text": [
      " 18%|█▊        | 16/90 [00:05<00:22,  3.25it/s]"
     ]
    },
    {
     "name": "stdout",
     "output_type": "stream",
     "text": [
      "1/1 [==============================] - 0s 59ms/step\n",
      "1/1 - 0s - loss: 0.5705 - binary_accuracy: 0.8125 - 25ms/epoch - 25ms/step\n"
     ]
    },
    {
     "name": "stderr",
     "output_type": "stream",
     "text": [
      " 19%|█▉        | 17/90 [00:05<00:22,  3.19it/s]"
     ]
    },
    {
     "name": "stdout",
     "output_type": "stream",
     "text": [
      "1/1 [==============================] - 0s 44ms/step\n",
      "1/1 - 0s - loss: 1.0946 - binary_accuracy: 0.2500 - 28ms/epoch - 28ms/step\n"
     ]
    },
    {
     "name": "stderr",
     "output_type": "stream",
     "text": [
      " 20%|██        | 18/90 [00:06<00:22,  3.17it/s]"
     ]
    },
    {
     "name": "stdout",
     "output_type": "stream",
     "text": [
      "1/1 [==============================] - 0s 80ms/step\n",
      "1/1 - 0s - loss: 0.5583 - binary_accuracy: 0.8125 - 30ms/epoch - 30ms/step\n"
     ]
    },
    {
     "name": "stderr",
     "output_type": "stream",
     "text": [
      " 21%|██        | 19/90 [00:06<00:25,  2.83it/s]"
     ]
    },
    {
     "name": "stdout",
     "output_type": "stream",
     "text": [
      "1/1 [==============================] - 0s 64ms/step\n",
      "1/1 - 0s - loss: 0.9638 - binary_accuracy: 0.5625 - 21ms/epoch - 21ms/step\n"
     ]
    },
    {
     "name": "stderr",
     "output_type": "stream",
     "text": [
      " 22%|██▏       | 20/90 [00:07<00:25,  2.72it/s]"
     ]
    },
    {
     "name": "stdout",
     "output_type": "stream",
     "text": [
      "1/1 [==============================] - 0s 67ms/step\n",
      "1/1 - 0s - loss: 0.5405 - binary_accuracy: 0.8750 - 20ms/epoch - 20ms/step\n"
     ]
    },
    {
     "name": "stderr",
     "output_type": "stream",
     "text": [
      " 23%|██▎       | 21/90 [00:07<00:25,  2.75it/s]"
     ]
    },
    {
     "name": "stdout",
     "output_type": "stream",
     "text": [
      "1/1 [==============================] - 0s 56ms/step\n",
      "1/1 - 0s - loss: 0.4953 - binary_accuracy: 1.0000 - 25ms/epoch - 25ms/step\n"
     ]
    },
    {
     "name": "stderr",
     "output_type": "stream",
     "text": [
      " 24%|██▍       | 22/90 [00:07<00:24,  2.82it/s]"
     ]
    },
    {
     "name": "stdout",
     "output_type": "stream",
     "text": [
      "1/1 [==============================] - 0s 59ms/step\n",
      "1/1 - 0s - loss: 1.0263 - binary_accuracy: 0.0625 - 27ms/epoch - 27ms/step\n"
     ]
    },
    {
     "name": "stderr",
     "output_type": "stream",
     "text": [
      " 26%|██▌       | 23/90 [00:08<00:22,  2.95it/s]"
     ]
    },
    {
     "name": "stdout",
     "output_type": "stream",
     "text": [
      "1/1 [==============================] - 0s 55ms/step\n",
      "1/1 - 0s - loss: 0.9343 - binary_accuracy: 0.2500 - 25ms/epoch - 25ms/step\n"
     ]
    },
    {
     "name": "stderr",
     "output_type": "stream",
     "text": [
      " 27%|██▋       | 24/90 [00:08<00:21,  3.00it/s]"
     ]
    },
    {
     "name": "stdout",
     "output_type": "stream",
     "text": [
      "1/1 [==============================] - 0s 62ms/step\n",
      "1/1 - 0s - loss: 0.8691 - binary_accuracy: 0.3125 - 31ms/epoch - 31ms/step\n"
     ]
    },
    {
     "name": "stderr",
     "output_type": "stream",
     "text": [
      " 28%|██▊       | 25/90 [00:08<00:21,  2.96it/s]"
     ]
    },
    {
     "name": "stdout",
     "output_type": "stream",
     "text": [
      "1/1 [==============================] - 0s 59ms/step\n",
      "1/1 - 0s - loss: 0.5005 - binary_accuracy: 0.9375 - 21ms/epoch - 21ms/step\n"
     ]
    },
    {
     "name": "stderr",
     "output_type": "stream",
     "text": [
      " 29%|██▉       | 26/90 [00:08<00:21,  3.04it/s]"
     ]
    },
    {
     "name": "stdout",
     "output_type": "stream",
     "text": [
      "1/1 [==============================] - 0s 59ms/step\n",
      "1/1 - 0s - loss: 0.4949 - binary_accuracy: 0.9375 - 30ms/epoch - 30ms/step\n"
     ]
    },
    {
     "name": "stderr",
     "output_type": "stream",
     "text": [
      " 30%|███       | 27/90 [00:09<00:20,  3.09it/s]"
     ]
    },
    {
     "name": "stdout",
     "output_type": "stream",
     "text": [
      "1/1 [==============================] - 0s 64ms/step\n",
      "1/1 - 0s - loss: 0.4862 - binary_accuracy: 0.8750 - 27ms/epoch - 27ms/step\n"
     ]
    },
    {
     "name": "stderr",
     "output_type": "stream",
     "text": [
      " 31%|███       | 28/90 [00:09<00:20,  3.07it/s]"
     ]
    },
    {
     "name": "stdout",
     "output_type": "stream",
     "text": [
      "1/1 [==============================] - 0s 59ms/step\n",
      "1/1 - 0s - loss: 0.5220 - binary_accuracy: 0.8125 - 16ms/epoch - 16ms/step\n"
     ]
    },
    {
     "name": "stderr",
     "output_type": "stream",
     "text": [
      " 32%|███▏      | 29/90 [00:09<00:19,  3.09it/s]"
     ]
    },
    {
     "name": "stdout",
     "output_type": "stream",
     "text": [
      "1/1 [==============================] - 0s 48ms/step\n",
      "1/1 - 0s - loss: 0.4903 - binary_accuracy: 0.8125 - 26ms/epoch - 26ms/step\n"
     ]
    },
    {
     "name": "stderr",
     "output_type": "stream",
     "text": [
      " 33%|███▎      | 30/90 [00:10<00:18,  3.31it/s]"
     ]
    },
    {
     "name": "stdout",
     "output_type": "stream",
     "text": [
      "1/1 [==============================] - 0s 55ms/step\n",
      "1/1 - 0s - loss: 1.1428 - binary_accuracy: 0.1250 - 21ms/epoch - 21ms/step\n"
     ]
    },
    {
     "name": "stderr",
     "output_type": "stream",
     "text": [
      " 34%|███▍      | 31/90 [00:10<00:18,  3.21it/s]"
     ]
    },
    {
     "name": "stdout",
     "output_type": "stream",
     "text": [
      "1/1 [==============================] - 0s 51ms/step\n",
      "1/1 - 0s - loss: 0.7429 - binary_accuracy: 0.6250 - 30ms/epoch - 30ms/step\n"
     ]
    },
    {
     "name": "stderr",
     "output_type": "stream",
     "text": [
      " 36%|███▌      | 32/90 [00:10<00:18,  3.08it/s]"
     ]
    },
    {
     "name": "stdout",
     "output_type": "stream",
     "text": [
      "1/1 [==============================] - 0s 59ms/step\n",
      "1/1 - 0s - loss: 0.4476 - binary_accuracy: 1.0000 - 28ms/epoch - 28ms/step\n"
     ]
    },
    {
     "name": "stderr",
     "output_type": "stream",
     "text": [
      " 37%|███▋      | 33/90 [00:11<00:20,  2.72it/s]"
     ]
    },
    {
     "name": "stdout",
     "output_type": "stream",
     "text": [
      "1/1 [==============================] - 0s 62ms/step\n",
      "1/1 - 0s - loss: 0.4851 - binary_accuracy: 0.8125 - 31ms/epoch - 31ms/step\n"
     ]
    },
    {
     "name": "stderr",
     "output_type": "stream",
     "text": [
      " 38%|███▊      | 34/90 [00:11<00:20,  2.76it/s]"
     ]
    },
    {
     "name": "stdout",
     "output_type": "stream",
     "text": [
      "1/1 [==============================] - 0s 56ms/step\n",
      "1/1 - 0s - loss: 0.5096 - binary_accuracy: 0.9375 - 27ms/epoch - 27ms/step\n"
     ]
    },
    {
     "name": "stderr",
     "output_type": "stream",
     "text": [
      " 39%|███▉      | 35/90 [00:12<00:19,  2.83it/s]"
     ]
    },
    {
     "name": "stdout",
     "output_type": "stream",
     "text": [
      "1/1 [==============================] - 0s 54ms/step\n",
      "1/1 - 0s - loss: 0.4972 - binary_accuracy: 0.8125 - 20ms/epoch - 20ms/step\n"
     ]
    },
    {
     "name": "stderr",
     "output_type": "stream",
     "text": [
      " 40%|████      | 36/90 [00:12<00:18,  2.93it/s]"
     ]
    },
    {
     "name": "stdout",
     "output_type": "stream",
     "text": [
      "1/1 [==============================] - 0s 60ms/step\n",
      "1/1 - 0s - loss: 0.6471 - binary_accuracy: 0.7500 - 30ms/epoch - 30ms/step\n"
     ]
    },
    {
     "name": "stderr",
     "output_type": "stream",
     "text": [
      " 41%|████      | 37/90 [00:12<00:17,  2.97it/s]"
     ]
    },
    {
     "name": "stdout",
     "output_type": "stream",
     "text": [
      "1/1 [==============================] - 0s 51ms/step\n",
      "1/1 - 0s - loss: 0.9759 - binary_accuracy: 0.2500 - 20ms/epoch - 20ms/step\n"
     ]
    },
    {
     "name": "stderr",
     "output_type": "stream",
     "text": [
      " 42%|████▏     | 38/90 [00:13<00:17,  3.00it/s]"
     ]
    },
    {
     "name": "stdout",
     "output_type": "stream",
     "text": [
      "1/1 [==============================] - 0s 56ms/step\n",
      "1/1 - 0s - loss: 0.4515 - binary_accuracy: 1.0000 - 31ms/epoch - 31ms/step\n"
     ]
    },
    {
     "name": "stderr",
     "output_type": "stream",
     "text": [
      " 43%|████▎     | 39/90 [00:13<00:16,  3.01it/s]"
     ]
    },
    {
     "name": "stdout",
     "output_type": "stream",
     "text": [
      "1/1 [==============================] - 0s 40ms/step\n",
      "1/1 - 0s - loss: 0.4580 - binary_accuracy: 1.0000 - 21ms/epoch - 21ms/step\n"
     ]
    },
    {
     "name": "stderr",
     "output_type": "stream",
     "text": [
      " 44%|████▍     | 40/90 [00:13<00:16,  3.08it/s]"
     ]
    },
    {
     "name": "stdout",
     "output_type": "stream",
     "text": [
      "1/1 [==============================] - 0s 51ms/step\n",
      "1/1 - 0s - loss: 0.4516 - binary_accuracy: 1.0000 - 32ms/epoch - 32ms/step\n"
     ]
    },
    {
     "name": "stderr",
     "output_type": "stream",
     "text": [
      " 46%|████▌     | 41/90 [00:13<00:15,  3.09it/s]"
     ]
    },
    {
     "name": "stdout",
     "output_type": "stream",
     "text": [
      "1/1 [==============================] - 0s 58ms/step\n",
      "1/1 - 0s - loss: 0.4389 - binary_accuracy: 1.0000 - 20ms/epoch - 20ms/step\n"
     ]
    },
    {
     "name": "stderr",
     "output_type": "stream",
     "text": [
      " 47%|████▋     | 42/90 [00:14<00:15,  3.02it/s]"
     ]
    },
    {
     "name": "stdout",
     "output_type": "stream",
     "text": [
      "1/1 [==============================] - 0s 49ms/step\n",
      "1/1 - 0s - loss: 0.4311 - binary_accuracy: 1.0000 - 21ms/epoch - 21ms/step\n"
     ]
    },
    {
     "name": "stderr",
     "output_type": "stream",
     "text": [
      " 48%|████▊     | 43/90 [00:14<00:15,  2.94it/s]"
     ]
    },
    {
     "name": "stdout",
     "output_type": "stream",
     "text": [
      "1/1 [==============================] - 0s 60ms/step\n",
      "1/1 - 0s - loss: 0.4181 - binary_accuracy: 1.0000 - 24ms/epoch - 24ms/step\n"
     ]
    },
    {
     "name": "stderr",
     "output_type": "stream",
     "text": [
      " 49%|████▉     | 44/90 [00:15<00:15,  2.92it/s]"
     ]
    },
    {
     "name": "stdout",
     "output_type": "stream",
     "text": [
      "1/1 [==============================] - 0s 60ms/step\n",
      "1/1 - 0s - loss: 1.1372 - binary_accuracy: 0.1250 - 31ms/epoch - 31ms/step\n"
     ]
    },
    {
     "name": "stderr",
     "output_type": "stream",
     "text": [
      " 50%|█████     | 45/90 [00:15<00:15,  2.93it/s]"
     ]
    },
    {
     "name": "stdout",
     "output_type": "stream",
     "text": [
      "1/1 [==============================] - 0s 59ms/step\n",
      "1/1 - 0s - loss: 0.6933 - binary_accuracy: 0.6250 - 29ms/epoch - 29ms/step\n"
     ]
    },
    {
     "name": "stderr",
     "output_type": "stream",
     "text": [
      " 51%|█████     | 46/90 [00:15<00:15,  2.78it/s]"
     ]
    },
    {
     "name": "stdout",
     "output_type": "stream",
     "text": [
      "1/1 [==============================] - 0s 69ms/step\n",
      "1/1 - 0s - loss: 1.1409 - binary_accuracy: 0.1250 - 22ms/epoch - 22ms/step\n"
     ]
    },
    {
     "name": "stderr",
     "output_type": "stream",
     "text": [
      " 52%|█████▏    | 47/90 [00:16<00:15,  2.78it/s]"
     ]
    },
    {
     "name": "stdout",
     "output_type": "stream",
     "text": [
      "1/1 [==============================] - 0s 60ms/step\n",
      "1/1 - 0s - loss: 0.8657 - binary_accuracy: 0.4375 - 23ms/epoch - 23ms/step\n"
     ]
    },
    {
     "name": "stderr",
     "output_type": "stream",
     "text": [
      " 53%|█████▎    | 48/90 [00:16<00:15,  2.76it/s]"
     ]
    },
    {
     "name": "stdout",
     "output_type": "stream",
     "text": [
      "1/1 [==============================] - 0s 79ms/step\n",
      "1/1 - 0s - loss: 0.3969 - binary_accuracy: 1.0000 - 21ms/epoch - 21ms/step\n"
     ]
    },
    {
     "name": "stderr",
     "output_type": "stream",
     "text": [
      " 54%|█████▍    | 49/90 [00:16<00:15,  2.61it/s]"
     ]
    },
    {
     "name": "stdout",
     "output_type": "stream",
     "text": [
      "1/1 [==============================] - 0s 59ms/step\n",
      "1/1 - 0s - loss: 0.4062 - binary_accuracy: 1.0000 - 20ms/epoch - 20ms/step\n"
     ]
    },
    {
     "name": "stderr",
     "output_type": "stream",
     "text": [
      " 56%|█████▌    | 50/90 [00:17<00:15,  2.64it/s]"
     ]
    },
    {
     "name": "stdout",
     "output_type": "stream",
     "text": [
      "1/1 [==============================] - 0s 48ms/step\n",
      "1/1 - 0s - loss: 0.8325 - binary_accuracy: 0.5000 - 19ms/epoch - 19ms/step\n"
     ]
    },
    {
     "name": "stderr",
     "output_type": "stream",
     "text": [
      " 57%|█████▋    | 51/90 [00:17<00:13,  2.93it/s]"
     ]
    },
    {
     "name": "stdout",
     "output_type": "stream",
     "text": [
      "1/1 [==============================] - 0s 60ms/step\n",
      "1/1 - 0s - loss: 0.3908 - binary_accuracy: 1.0000 - 21ms/epoch - 21ms/step\n"
     ]
    },
    {
     "name": "stderr",
     "output_type": "stream",
     "text": [
      " 58%|█████▊    | 52/90 [00:17<00:13,  2.91it/s]"
     ]
    },
    {
     "name": "stdout",
     "output_type": "stream",
     "text": [
      "1/1 [==============================] - 0s 63ms/step\n",
      "1/1 - 0s - loss: 0.3945 - binary_accuracy: 1.0000 - 22ms/epoch - 22ms/step\n"
     ]
    },
    {
     "name": "stderr",
     "output_type": "stream",
     "text": [
      " 59%|█████▉    | 53/90 [00:18<00:12,  2.92it/s]"
     ]
    },
    {
     "name": "stdout",
     "output_type": "stream",
     "text": [
      "1/1 [==============================] - 0s 53ms/step\n",
      "1/1 - 0s - loss: 0.3865 - binary_accuracy: 1.0000 - 21ms/epoch - 21ms/step\n"
     ]
    },
    {
     "name": "stderr",
     "output_type": "stream",
     "text": [
      " 60%|██████    | 54/90 [00:18<00:12,  2.90it/s]"
     ]
    },
    {
     "name": "stdout",
     "output_type": "stream",
     "text": [
      "1/1 [==============================] - 0s 47ms/step\n",
      "1/1 - 0s - loss: 0.5580 - binary_accuracy: 0.8125 - 20ms/epoch - 20ms/step\n"
     ]
    },
    {
     "name": "stderr",
     "output_type": "stream",
     "text": [
      " 61%|██████    | 55/90 [00:18<00:11,  2.97it/s]"
     ]
    },
    {
     "name": "stdout",
     "output_type": "stream",
     "text": [
      "1/1 [==============================] - 0s 49ms/step\n",
      "1/1 - 0s - loss: 1.2925 - binary_accuracy: 0.0000e+00 - 24ms/epoch - 24ms/step\n"
     ]
    },
    {
     "name": "stderr",
     "output_type": "stream",
     "text": [
      " 62%|██████▏   | 56/90 [00:19<00:11,  3.04it/s]"
     ]
    },
    {
     "name": "stdout",
     "output_type": "stream",
     "text": [
      "1/1 [==============================] - 0s 52ms/step\n",
      "1/1 - 0s - loss: 1.1825 - binary_accuracy: 0.1250 - 28ms/epoch - 28ms/step\n"
     ]
    },
    {
     "name": "stderr",
     "output_type": "stream",
     "text": [
      " 63%|██████▎   | 57/90 [00:19<00:10,  3.03it/s]"
     ]
    },
    {
     "name": "stdout",
     "output_type": "stream",
     "text": [
      "1/1 [==============================] - 0s 58ms/step\n",
      "1/1 - 0s - loss: 1.0016 - binary_accuracy: 0.2500 - 20ms/epoch - 20ms/step\n"
     ]
    },
    {
     "name": "stderr",
     "output_type": "stream",
     "text": [
      " 64%|██████▍   | 58/90 [00:19<00:10,  2.95it/s]"
     ]
    },
    {
     "name": "stdout",
     "output_type": "stream",
     "text": [
      "1/1 [==============================] - 0s 49ms/step\n",
      "1/1 - 0s - loss: 1.2183 - binary_accuracy: 0.0625 - 29ms/epoch - 29ms/step\n"
     ]
    },
    {
     "name": "stderr",
     "output_type": "stream",
     "text": [
      " 66%|██████▌   | 59/90 [00:20<00:10,  3.04it/s]"
     ]
    },
    {
     "name": "stdout",
     "output_type": "stream",
     "text": [
      "1/1 [==============================] - 0s 50ms/step\n",
      "1/1 - 0s - loss: 0.4158 - binary_accuracy: 1.0000 - 24ms/epoch - 24ms/step\n"
     ]
    },
    {
     "name": "stderr",
     "output_type": "stream",
     "text": [
      " 67%|██████▋   | 60/90 [00:20<00:09,  3.12it/s]"
     ]
    },
    {
     "name": "stdout",
     "output_type": "stream",
     "text": [
      "1/1 [==============================] - 0s 50ms/step\n",
      "1/1 - 0s - loss: 0.4272 - binary_accuracy: 1.0000 - 22ms/epoch - 22ms/step\n"
     ]
    },
    {
     "name": "stderr",
     "output_type": "stream",
     "text": [
      " 68%|██████▊   | 61/90 [00:20<00:09,  3.12it/s]"
     ]
    },
    {
     "name": "stdout",
     "output_type": "stream",
     "text": [
      "1/1 [==============================] - 0s 56ms/step\n",
      "1/1 - 0s - loss: 0.4143 - binary_accuracy: 1.0000 - 27ms/epoch - 27ms/step\n"
     ]
    },
    {
     "name": "stderr",
     "output_type": "stream",
     "text": [
      " 69%|██████▉   | 62/90 [00:21<00:09,  3.07it/s]"
     ]
    },
    {
     "name": "stdout",
     "output_type": "stream",
     "text": [
      "1/1 [==============================] - 0s 60ms/step\n",
      "1/1 - 0s - loss: 0.4094 - binary_accuracy: 1.0000 - 21ms/epoch - 21ms/step\n"
     ]
    },
    {
     "name": "stderr",
     "output_type": "stream",
     "text": [
      " 70%|███████   | 63/90 [00:21<00:08,  3.05it/s]"
     ]
    },
    {
     "name": "stdout",
     "output_type": "stream",
     "text": [
      "1/1 [==============================] - 0s 60ms/step\n",
      "1/1 - 0s - loss: 0.4901 - binary_accuracy: 0.8750 - 27ms/epoch - 27ms/step\n"
     ]
    },
    {
     "name": "stderr",
     "output_type": "stream",
     "text": [
      " 71%|███████   | 64/90 [00:21<00:08,  2.97it/s]"
     ]
    },
    {
     "name": "stdout",
     "output_type": "stream",
     "text": [
      "1/1 [==============================] - 0s 47ms/step\n",
      "1/1 - 0s - loss: 1.2807 - binary_accuracy: 0.0000e+00 - 21ms/epoch - 21ms/step\n"
     ]
    },
    {
     "name": "stderr",
     "output_type": "stream",
     "text": [
      " 72%|███████▏  | 65/90 [00:22<00:08,  2.98it/s]"
     ]
    },
    {
     "name": "stdout",
     "output_type": "stream",
     "text": [
      "1/1 [==============================] - 0s 61ms/step\n",
      "1/1 - 0s - loss: 0.6026 - binary_accuracy: 0.8750 - 20ms/epoch - 20ms/step\n"
     ]
    },
    {
     "name": "stderr",
     "output_type": "stream",
     "text": [
      " 73%|███████▎  | 66/90 [00:22<00:08,  3.00it/s]"
     ]
    },
    {
     "name": "stdout",
     "output_type": "stream",
     "text": [
      "1/1 [==============================] - 0s 50ms/step\n",
      "1/1 - 0s - loss: 0.3997 - binary_accuracy: 1.0000 - 29ms/epoch - 29ms/step\n"
     ]
    },
    {
     "name": "stderr",
     "output_type": "stream",
     "text": [
      " 74%|███████▍  | 67/90 [00:22<00:07,  3.01it/s]"
     ]
    },
    {
     "name": "stdout",
     "output_type": "stream",
     "text": [
      "1/1 [==============================] - 0s 50ms/step\n",
      "1/1 - 0s - loss: 0.7539 - binary_accuracy: 0.5000 - 22ms/epoch - 22ms/step\n"
     ]
    },
    {
     "name": "stderr",
     "output_type": "stream",
     "text": [
      " 76%|███████▌  | 68/90 [00:23<00:07,  3.09it/s]"
     ]
    },
    {
     "name": "stdout",
     "output_type": "stream",
     "text": [
      "1/1 [==============================] - 0s 50ms/step\n",
      "1/1 - 0s - loss: 1.1288 - binary_accuracy: 0.1250 - 29ms/epoch - 29ms/step\n"
     ]
    },
    {
     "name": "stderr",
     "output_type": "stream",
     "text": [
      " 77%|███████▋  | 69/90 [00:23<00:06,  3.10it/s]"
     ]
    },
    {
     "name": "stdout",
     "output_type": "stream",
     "text": [
      "1/1 [==============================] - 0s 54ms/step\n",
      "1/1 - 0s - loss: 0.4106 - binary_accuracy: 1.0000 - 26ms/epoch - 26ms/step\n"
     ]
    },
    {
     "name": "stderr",
     "output_type": "stream",
     "text": [
      " 78%|███████▊  | 70/90 [00:23<00:06,  2.98it/s]"
     ]
    },
    {
     "name": "stdout",
     "output_type": "stream",
     "text": [
      "1/1 [==============================] - 0s 50ms/step\n",
      "1/1 - 0s - loss: 1.0156 - binary_accuracy: 0.1875 - 27ms/epoch - 27ms/step\n"
     ]
    },
    {
     "name": "stderr",
     "output_type": "stream",
     "text": [
      " 79%|███████▉  | 71/90 [00:24<00:06,  3.04it/s]"
     ]
    },
    {
     "name": "stdout",
     "output_type": "stream",
     "text": [
      "1/1 [==============================] - 0s 48ms/step\n",
      "1/1 - 0s - loss: 0.4168 - binary_accuracy: 1.0000 - 21ms/epoch - 21ms/step\n"
     ]
    },
    {
     "name": "stderr",
     "output_type": "stream",
     "text": [
      " 80%|████████  | 72/90 [00:24<00:05,  3.21it/s]"
     ]
    },
    {
     "name": "stdout",
     "output_type": "stream",
     "text": [
      "1/1 [==============================] - 0s 39ms/step\n",
      "1/1 - 0s - loss: 0.4178 - binary_accuracy: 1.0000 - 22ms/epoch - 22ms/step\n"
     ]
    },
    {
     "name": "stderr",
     "output_type": "stream",
     "text": [
      " 81%|████████  | 73/90 [00:24<00:05,  3.26it/s]"
     ]
    },
    {
     "name": "stdout",
     "output_type": "stream",
     "text": [
      "1/1 [==============================] - 0s 68ms/step\n",
      "1/1 - 0s - loss: 0.3958 - binary_accuracy: 1.0000 - 19ms/epoch - 19ms/step\n"
     ]
    },
    {
     "name": "stderr",
     "output_type": "stream",
     "text": [
      " 82%|████████▏ | 74/90 [00:25<00:05,  3.03it/s]"
     ]
    },
    {
     "name": "stdout",
     "output_type": "stream",
     "text": [
      "1/1 [==============================] - 0s 52ms/step\n",
      "1/1 - 0s - loss: 0.4183 - binary_accuracy: 1.0000 - 20ms/epoch - 20ms/step\n"
     ]
    },
    {
     "name": "stderr",
     "output_type": "stream",
     "text": [
      " 83%|████████▎ | 75/90 [00:25<00:04,  3.04it/s]"
     ]
    },
    {
     "name": "stdout",
     "output_type": "stream",
     "text": [
      "1/1 [==============================] - 0s 61ms/step\n",
      "1/1 - 0s - loss: 0.4085 - binary_accuracy: 1.0000 - 22ms/epoch - 22ms/step\n"
     ]
    },
    {
     "name": "stderr",
     "output_type": "stream",
     "text": [
      " 84%|████████▍ | 76/90 [00:25<00:04,  2.93it/s]"
     ]
    },
    {
     "name": "stdout",
     "output_type": "stream",
     "text": [
      "1/1 [==============================] - 0s 50ms/step\n",
      "1/1 - 0s - loss: 0.9106 - binary_accuracy: 0.3125 - 20ms/epoch - 20ms/step\n"
     ]
    },
    {
     "name": "stderr",
     "output_type": "stream",
     "text": [
      " 86%|████████▌ | 77/90 [00:26<00:04,  2.98it/s]"
     ]
    },
    {
     "name": "stdout",
     "output_type": "stream",
     "text": [
      "1/1 [==============================] - 0s 51ms/step\n",
      "1/1 - 0s - loss: 1.2563 - binary_accuracy: 0.0000e+00 - 23ms/epoch - 23ms/step\n"
     ]
    },
    {
     "name": "stderr",
     "output_type": "stream",
     "text": [
      " 87%|████████▋ | 78/90 [00:26<00:03,  3.03it/s]"
     ]
    },
    {
     "name": "stdout",
     "output_type": "stream",
     "text": [
      "1/1 [==============================] - 0s 56ms/step\n",
      "1/1 - 0s - loss: 0.7450 - binary_accuracy: 0.6875 - 28ms/epoch - 28ms/step\n"
     ]
    },
    {
     "name": "stderr",
     "output_type": "stream",
     "text": [
      " 88%|████████▊ | 79/90 [00:26<00:03,  3.08it/s]"
     ]
    },
    {
     "name": "stdout",
     "output_type": "stream",
     "text": [
      "1/1 [==============================] - 0s 49ms/step\n",
      "1/1 - 0s - loss: 0.4003 - binary_accuracy: 1.0000 - 22ms/epoch - 22ms/step\n"
     ]
    },
    {
     "name": "stderr",
     "output_type": "stream",
     "text": [
      " 89%|████████▉ | 80/90 [00:27<00:03,  3.13it/s]"
     ]
    },
    {
     "name": "stdout",
     "output_type": "stream",
     "text": [
      "1/1 [==============================] - 0s 54ms/step\n",
      "1/1 - 0s - loss: 0.4256 - binary_accuracy: 1.0000 - 21ms/epoch - 21ms/step\n"
     ]
    },
    {
     "name": "stderr",
     "output_type": "stream",
     "text": [
      " 90%|█████████ | 81/90 [00:27<00:02,  3.10it/s]"
     ]
    },
    {
     "name": "stdout",
     "output_type": "stream",
     "text": [
      "1/1 [==============================] - 0s 52ms/step\n",
      "1/1 - 0s - loss: 0.4141 - binary_accuracy: 1.0000 - 31ms/epoch - 31ms/step\n"
     ]
    },
    {
     "name": "stderr",
     "output_type": "stream",
     "text": [
      " 91%|█████████ | 82/90 [00:27<00:02,  3.13it/s]"
     ]
    },
    {
     "name": "stdout",
     "output_type": "stream",
     "text": [
      "1/1 [==============================] - 0s 49ms/step\n",
      "1/1 - 0s - loss: 0.6928 - binary_accuracy: 0.7500 - 25ms/epoch - 25ms/step\n"
     ]
    },
    {
     "name": "stderr",
     "output_type": "stream",
     "text": [
      " 92%|█████████▏| 83/90 [00:28<00:02,  3.13it/s]"
     ]
    },
    {
     "name": "stdout",
     "output_type": "stream",
     "text": [
      "1/1 [==============================] - 0s 55ms/step\n",
      "1/1 - 0s - loss: 0.4030 - binary_accuracy: 1.0000 - 17ms/epoch - 17ms/step\n"
     ]
    },
    {
     "name": "stderr",
     "output_type": "stream",
     "text": [
      " 93%|█████████▎| 84/90 [00:28<00:01,  3.16it/s]"
     ]
    },
    {
     "name": "stdout",
     "output_type": "stream",
     "text": [
      "1/1 [==============================] - 0s 60ms/step\n",
      "1/1 - 0s - loss: 0.4188 - binary_accuracy: 1.0000 - 22ms/epoch - 22ms/step\n"
     ]
    },
    {
     "name": "stderr",
     "output_type": "stream",
     "text": [
      " 94%|█████████▍| 85/90 [00:28<00:01,  3.18it/s]"
     ]
    },
    {
     "name": "stdout",
     "output_type": "stream",
     "text": [
      "1/1 [==============================] - 0s 63ms/step\n",
      "1/1 - 0s - loss: 1.0872 - binary_accuracy: 0.2500 - 20ms/epoch - 20ms/step\n"
     ]
    },
    {
     "name": "stderr",
     "output_type": "stream",
     "text": [
      " 96%|█████████▌| 86/90 [00:28<00:01,  3.19it/s]"
     ]
    },
    {
     "name": "stdout",
     "output_type": "stream",
     "text": [
      "1/1 [==============================] - 0s 61ms/step\n",
      "1/1 - 0s - loss: 0.4819 - binary_accuracy: 0.8750 - 20ms/epoch - 20ms/step\n"
     ]
    },
    {
     "name": "stderr",
     "output_type": "stream",
     "text": [
      " 97%|█████████▋| 87/90 [00:29<00:00,  3.17it/s]"
     ]
    },
    {
     "name": "stdout",
     "output_type": "stream",
     "text": [
      "1/1 [==============================] - 0s 51ms/step\n",
      "1/1 - 0s - loss: 0.5716 - binary_accuracy: 0.7500 - 21ms/epoch - 21ms/step\n"
     ]
    },
    {
     "name": "stderr",
     "output_type": "stream",
     "text": [
      " 98%|█████████▊| 88/90 [00:29<00:00,  3.13it/s]"
     ]
    },
    {
     "name": "stdout",
     "output_type": "stream",
     "text": [
      "1/1 [==============================] - 0s 51ms/step\n",
      "1/1 - 0s - loss: 0.3973 - binary_accuracy: 1.0000 - 19ms/epoch - 19ms/step\n"
     ]
    },
    {
     "name": "stderr",
     "output_type": "stream",
     "text": [
      " 99%|█████████▉| 89/90 [00:29<00:00,  3.19it/s]"
     ]
    },
    {
     "name": "stdout",
     "output_type": "stream",
     "text": [
      "1/1 [==============================] - 0s 48ms/step\n",
      "1/1 - 0s - loss: 0.3893 - binary_accuracy: 1.0000 - 27ms/epoch - 27ms/step\n"
     ]
    },
    {
     "name": "stderr",
     "output_type": "stream",
     "text": [
      "100%|██████████| 90/90 [00:30<00:00,  2.98it/s]\n"
     ]
    },
    {
     "data": {
      "text/plain": [
       "(0.6455688490223044,\n",
       " 0.6344246031746031,\n",
       " 0.7076388888888889,\n",
       " 0.6387039254236844)"
      ]
     },
     "execution_count": 56,
     "metadata": {},
     "output_type": "execute_result"
    }
   ],
   "source": [
    "from keras.models import load_model\n",
    "from sklearn.metrics import precision_score, recall_score, accuracy_score, f1_score\n",
    "from tqdm import tqdm\n",
    "\n",
    "# Assuming best_model is loaded from the notebook\n",
    "# best_model = load_model('final_model_0908_seq2seq_2.h5')\n",
    "\n",
    "# Step 1: Initially train the model on X_train and y_train\n",
    "# Assuming this has been done in the notebook\n",
    "\n",
    "# Step 2: Online learning with x_test\n",
    "y_preds = []\n",
    "training_losses = []\n",
    "training_acc = []\n",
    "val_losses = []\n",
    "val_acc = []\n",
    "for i in tqdm(range(len(X_test))):\n",
    "    # Predict the next instance\n",
    "    y_pred = best_model.predict(X_test[i:i+1])\n",
    "    y_preds.append(y_pred[0])\n",
    "    \n",
    "    # Add the instance and its actual result to the training dataset\n",
    "    X_train = np.append(X_train, X_test[i:i+1], axis=0)\n",
    "    y_train = np.append(y_train, y_test[i:i+1], axis=0)\n",
    "    \n",
    "    # Retrain the model on this updated dataset\n",
    "    history_slide = best_model.fit(X_test[i:i+1], y_test[i:i+1], epochs=1, verbose=2)\n",
    "    training_losses.append(history_slide.history['loss'][0])\n",
    "    training_acc.append(history_slide.history['binary_accuracy'][0])\n",
    "    # val_losses.append(history_slide.history['val_loss'][0])\n",
    "    # val_acc.append(history_slide.history['val_binary_accuracy'][0])\n",
    "\n",
    "# Convert predictions to numpy array\n",
    "y_preds = np.array(y_preds)\n",
    "\n",
    "# Step 3: Evaluate the model\n",
    "# Flatten the 3D tensors for evaluation\n",
    "y_test_flat = np.argmax(y_test.reshape(-1, y_test.shape[-1]), axis=1)\n",
    "y_preds_flat = np.argmax(y_preds.reshape(-1, y_preds.shape[-1]), axis=1)\n",
    "\n",
    "# Calculate evaluation metrics\n",
    "precision = precision_score(y_test_flat, y_preds_flat, average='macro')\n",
    "recall = recall_score(y_test_flat, y_preds_flat, average='macro')\n",
    "accuracy = accuracy_score(y_test_flat, y_preds_flat)\n",
    "f1 = f1_score(y_test_flat, y_preds_flat, average='macro')\n",
    "\n",
    "precision, recall, accuracy, f1\n"
   ]
  },
  {
   "cell_type": "code",
   "execution_count": 57,
   "metadata": {},
   "outputs": [
    {
     "data": {
      "image/png": "[encoded data removed]",
      "text/plain": [
       "<Figure size 1200x400 with 2 Axes>"
      ]
     },
     "metadata": {},
     "output_type": "display_data"
    }
   ],
   "source": [
    "plt.figure(figsize=(12, 4))\n",
    "plt.subplot(1, 2, 1)\n",
    "plt.plot(training_acc)\n",
    "# plt.plot(val_acc)\n",
    "plt.title('Model binary_accuracy')\n",
    "plt.ylabel('Accuracy')\n",
    "plt.xlabel('Epoch')\n",
    "plt.legend(['Train', 'Test'], loc='upper left')\n",
    "\n",
    "# Plot training & validation loss values\n",
    "plt.subplot(1, 2, 2)\n",
    "plt.plot(training_losses)\n",
    "# plt.plot(val_losses)\n",
    "plt.title('Model loss')\n",
    "plt.ylabel('Loss')\n",
    "plt.xlabel('Epoch')\n",
    "plt.legend(['Train', 'Test'], loc='upper left')\n",
    "plt.show()"
   ]
  },
  {
   "cell_type": "code",
   "execution_count": 58,
   "metadata": {},
   "outputs": [
    {
     "name": "stdout",
     "output_type": "stream",
     "text": [
      "Average Precision: 0.6424821851169156\n",
      "Average Recall: 0.6324372351020503\n",
      "Average Accuracy: 0.7076388888888887\n",
      "Average F1 Score: 0.6359692964715586\n"
     ]
    }
   ],
   "source": [
    "from sklearn.metrics import precision_score, recall_score, accuracy_score, f1_score\n",
    "\n",
    "# 初始化指標\n",
    "total_precision = 0\n",
    "total_recall = 0\n",
    "total_accuracy = 0\n",
    "total_f1 = 0\n",
    "num_steps = y_test.shape[1]\n",
    "\n",
    "# 針對每個時間步計算指標\n",
    "for step in range(num_steps):\n",
    "    y_true_step = np.argmax(y_test[:, step, :], axis=1)\n",
    "    y_pred_step = np.argmax(y_preds[:, step, :], axis=1)\n",
    "    \n",
    "    total_precision += precision_score(y_true_step, y_pred_step, average='macro')\n",
    "    total_recall += recall_score(y_true_step, y_pred_step, average='macro')\n",
    "    total_accuracy += accuracy_score(y_true_step, y_pred_step)\n",
    "    total_f1 += f1_score(y_true_step, y_pred_step, average='macro')\n",
    "\n",
    "# 取平均值\n",
    "avg_precision = total_precision / num_steps\n",
    "avg_recall = total_recall / num_steps\n",
    "avg_accuracy = total_accuracy / num_steps\n",
    "avg_f1 = total_f1 / num_steps\n",
    "\n",
    "# 顯示結果\n",
    "print(f'Average Precision: {avg_precision}')\n",
    "print(f'Average Recall: {avg_recall}')\n",
    "print(f'Average Accuracy: {avg_accuracy}')\n",
    "print(f'Average F1 Score: {avg_f1}')\n"
   ]
  },
  {
   "cell_type": "code",
   "execution_count": 59,
   "metadata": {},
   "outputs": [],
   "source": [
    "from kerastuner import RandomSearch\n",
    "from keras.models import Sequential\n",
    "from keras.layers import LSTM, Dense, RepeatVector, TimeDistributed, Conv1D, MaxPooling1D, Dropout, BatchNormalization, Activation\n",
    "from keras.optimizers import Adam\n",
    "from keras import regularizers\n",
    "from keras import metrics\n",
    "\n",
    "params = {\n",
    "        'conv_1_filter': 32,\n",
    "        'conv_1_kernel': 4,\n",
    "        'conv_1_l2': 0.00016475815766673417,\n",
    "        'dropout_1': 0.2,\n",
    "        'conv_2_filter': 96,\n",
    "        'conv_2_kernel': 2,\n",
    "        'dropout_2': 0.2,\n",
    "        'lstm_1_units': 128,\n",
    "        'lstm_1_l2': 0.0002788818914602332,\n",
    "        'dropout_3': 0.2,\n",
    "        'lstm_2_units': 64,\n",
    "        'dropout_4': 0.1,\n",
    "        'learning_rate': 0.001\n",
    "    }\n",
    "\n",
    "def build_model():\n",
    "    # Parameters from the provided dictionary\n",
    "\n",
    "    model = Sequential()\n",
    "    \n",
    "    # Encoder\n",
    "    model.add(Conv1D(filters=params['conv_1_filter'],\n",
    "                     kernel_size=params['conv_1_kernel'],\n",
    "                     activation=None,\n",
    "                     padding='same',\n",
    "                     kernel_regularizer=regularizers.l2(params['conv_1_l2']),\n",
    "                     input_shape=(look_back, X_train.shape[-1])))\n",
    "    model.add(BatchNormalization())\n",
    "    model.add(Activation('relu'))\n",
    "    model.add(Dropout(params['dropout_1']))\n",
    "    model.add(MaxPooling1D(pool_size=2))\n",
    "    \n",
    "    model.add(Conv1D(filters=params['conv_2_filter'],\n",
    "                     kernel_size=params['conv_2_kernel'],\n",
    "                     activation=None))\n",
    "    model.add(BatchNormalization())\n",
    "    model.add(Activation('relu'))\n",
    "    model.add(Dropout(params['dropout_2']))\n",
    "    model.add(MaxPooling1D(pool_size=2))\n",
    "    \n",
    "    model.add(LSTM(units=params['lstm_1_units'],\n",
    "                   activation=None,\n",
    "                   return_sequences=False,\n",
    "                   kernel_regularizer=regularizers.l2(params['lstm_1_l2'])))\n",
    "    model.add(BatchNormalization())\n",
    "    model.add(Activation('tanh'))\n",
    "    model.add(Dropout(params['dropout_3']))\n",
    "    \n",
    "    # Set the desired output sequence length using RepeatVector\n",
    "    model.add(RepeatVector(predict_steps))\n",
    "    \n",
    "    # Decoder\n",
    "    model.add(LSTM(units=params['lstm_2_units'],\n",
    "                   activation=None,\n",
    "                   return_sequences=True))\n",
    "    model.add(BatchNormalization())\n",
    "    model.add(Activation('tanh'))\n",
    "    model.add(Dropout(params['dropout_4']))\n",
    "    model.add(TimeDistributed(Dense(2, activation='softmax')))\n",
    "    \n",
    "    optimizer = Adam(learning_rate=params['learning_rate'])\n",
    "    model.compile(optimizer=optimizer,\n",
    "                  loss='binary_crossentropy',\n",
    "                  metrics=[metrics.BinaryAccuracy()])\n",
    "    model.summary()\n",
    "    \n",
    "    return model\n"
   ]
  },
  {
   "cell_type": "code",
   "execution_count": 60,
   "metadata": {},
   "outputs": [],
   "source": [
    "# TODO: 這種方法無法使用Model原來的api，考慮其他方法\n",
    "# TODO: 重寫evaluation，邏輯有問題"
   ]
  },
  {
   "cell_type": "code",
   "execution_count": 61,
   "metadata": {},
   "outputs": [
    {
     "name": "stdout",
     "output_type": "stream",
     "text": [
      "Model: \"sequential_6\"\n",
      "_________________________________________________________________\n",
      " Layer (type)                Output Shape              Param #   \n",
      "=================================================================\n",
      " conv1d_12 (Conv1D)          (None, 64, 32)            2464      \n",
      "                                                                 \n",
      " batch_normalization_24 (Bat  (None, 64, 32)           128       \n",
      " chNormalization)                                                \n",
      "                                                                 \n",
      " activation_24 (Activation)  (None, 64, 32)            0         \n",
      "                                                                 \n",
      " dropout_24 (Dropout)        (None, 64, 32)            0         \n",
      "                                                                 \n",
      " max_pooling1d_12 (MaxPoolin  (None, 32, 32)           0         \n",
      " g1D)                                                            \n",
      "                                                                 \n",
      " conv1d_13 (Conv1D)          (None, 31, 96)            6240      \n",
      "                                                                 \n",
      " batch_normalization_25 (Bat  (None, 31, 96)           384       \n",
      " chNormalization)                                                \n",
      "                                                                 \n",
      " activation_25 (Activation)  (None, 31, 96)            0         \n",
      "                                                                 \n",
      " dropout_25 (Dropout)        (None, 31, 96)            0         \n",
      "                                                                 \n",
      " max_pooling1d_13 (MaxPoolin  (None, 15, 96)           0         \n",
      " g1D)                                                            \n",
      "                                                                 \n",
      " lstm_12 (LSTM)              (None, 128)               115200    \n",
      "                                                                 \n",
      " batch_normalization_26 (Bat  (None, 128)              512       \n",
      " chNormalization)                                                \n",
      "                                                                 \n",
      " activation_26 (Activation)  (None, 128)               0         \n",
      "                                                                 \n",
      " dropout_26 (Dropout)        (None, 128)               0         \n",
      "                                                                 \n",
      " repeat_vector_6 (RepeatVect  (None, 16, 128)          0         \n",
      " or)                                                             \n",
      "                                                                 \n",
      " lstm_13 (LSTM)              (None, 16, 64)            49408     \n",
      "                                                                 \n",
      " batch_normalization_27 (Bat  (None, 16, 64)           256       \n",
      " chNormalization)                                                \n",
      "                                                                 \n",
      " activation_27 (Activation)  (None, 16, 64)            0         \n",
      "                                                                 \n",
      " dropout_27 (Dropout)        (None, 16, 64)            0         \n",
      "                                                                 \n",
      " time_distributed_6 (TimeDis  (None, 16, 2)            130       \n",
      " tributed)                                                       \n",
      "                                                                 \n",
      "=================================================================\n",
      "Total params: 174,722\n",
      "Trainable params: 174,082\n",
      "Non-trainable params: 640\n",
      "_________________________________________________________________\n"
     ]
    }
   ],
   "source": [
    "class ModelFactory:\n",
    "    def __init__(self):\n",
    "        self._models = {\n",
    "            'seq2seq': self._build_seq2seq_model,\n",
    "            'cnn': self._build_cnn_model\n",
    "            # Additional models can be added here\n",
    "        }\n",
    "\n",
    "    def build_model(self, model_type, params, input_shape):\n",
    "        if model_type not in self._models:\n",
    "            raise ValueError(f\"Model type {model_type} not recognized.\")\n",
    "        return self._models[model_type](params, input_shape)\n",
    "\n",
    "    def _build_seq2seq_model(self, params, input_shape):\n",
    "        model = Sequential()\n",
    "        # Encoder\n",
    "        model.add(Conv1D(filters=params['conv_1_filter'],\n",
    "                        kernel_size=params['conv_1_kernel'],\n",
    "                        activation=None,\n",
    "                        padding='same',\n",
    "                        kernel_regularizer=regularizers.l2(params['conv_1_l2']),\n",
    "                        input_shape=input_shape))\n",
    "        model.add(BatchNormalization())\n",
    "        model.add(Activation('relu'))\n",
    "        model.add(Dropout(params['dropout_1']))\n",
    "        model.add(MaxPooling1D(pool_size=2))\n",
    "        \n",
    "        model.add(Conv1D(filters=params['conv_2_filter'],\n",
    "                        kernel_size=params['conv_2_kernel'],\n",
    "                        activation=None))\n",
    "        model.add(BatchNormalization())\n",
    "        model.add(Activation('relu'))\n",
    "        model.add(Dropout(params['dropout_2']))\n",
    "        model.add(MaxPooling1D(pool_size=2))\n",
    "        \n",
    "        model.add(LSTM(units=params['lstm_1_units'],\n",
    "                    activation=None,\n",
    "                    return_sequences=False,\n",
    "                    kernel_regularizer=regularizers.l2(params['lstm_1_l2'])))\n",
    "        model.add(BatchNormalization())\n",
    "        model.add(Activation('tanh'))\n",
    "        model.add(Dropout(params['dropout_3']))\n",
    "        \n",
    "        # Set the desired output sequence length using RepeatVector\n",
    "        model.add(RepeatVector(predict_steps))\n",
    "        \n",
    "        # Decoder\n",
    "        model.add(LSTM(units=params['lstm_2_units'],\n",
    "                    activation=None,\n",
    "                    return_sequences=True))\n",
    "        model.add(BatchNormalization())\n",
    "        model.add(Activation('tanh'))\n",
    "        model.add(Dropout(params['dropout_4']))\n",
    "        model.add(TimeDistributed(Dense(2, activation='softmax')))\n",
    "        \n",
    "        optimizer = Adam(learning_rate=params['learning_rate'])\n",
    "        model.compile(optimizer=optimizer,\n",
    "                    loss='binary_crossentropy',\n",
    "                    metrics=[metrics.BinaryAccuracy()])\n",
    "        model.summary()\n",
    "        \n",
    "        return model\n",
    "\n",
    "\n",
    "    def _build_cnn_model(self, params, input_shape):\n",
    "        # CNN model creation logic\n",
    "        pass\n",
    "\n",
    "# Usage example\n",
    "factory = ModelFactory()\n",
    "input_shape = (look_back, X_train.shape[-1])\n",
    "params = {\n",
    "        'conv_1_filter': 32,\n",
    "        'conv_1_kernel': 4,\n",
    "        'conv_1_l2': 0.00016475815766673417,\n",
    "        'dropout_1': 0.2,\n",
    "        'conv_2_filter': 96,\n",
    "        'conv_2_kernel': 2,\n",
    "        'dropout_2': 0.2,\n",
    "        'lstm_1_units': 128,\n",
    "        'lstm_1_l2': 0.0002788818914602332,\n",
    "        'dropout_3': 0.2,\n",
    "        'lstm_2_units': 64,\n",
    "        'dropout_4': 0.1,\n",
    "        'learning_rate': 0.001\n",
    "    }\n",
    "seq2seq_model = factory.build_model('seq2seq', params, input_shape)\n",
    "cnn_model = factory.build_model('cnn', params, input_shape)\n"
   ]
  },
  {
   "cell_type": "code",
   "execution_count": 62,
   "metadata": {},
   "outputs": [
    {
     "name": "stdout",
     "output_type": "stream",
     "text": [
      "Epoch 1/10\n",
      "55/55 - 12s - loss: 0.5591 - binary_accuracy: 0.7489 - 12s/epoch - 224ms/step\n",
      "Epoch 2/10\n",
      "55/55 - 5s - loss: 0.4345 - binary_accuracy: 0.8297 - 5s/epoch - 99ms/step\n",
      "Epoch 3/10\n",
      "55/55 - 5s - loss: 0.3588 - binary_accuracy: 0.8657 - 5s/epoch - 98ms/step\n",
      "Epoch 4/10\n",
      "55/55 - 5s - loss: 0.3199 - binary_accuracy: 0.8860 - 5s/epoch - 93ms/step\n",
      "Epoch 5/10\n",
      "55/55 - 5s - loss: 0.2776 - binary_accuracy: 0.9037 - 5s/epoch - 94ms/step\n",
      "Epoch 6/10\n",
      "55/55 - 5s - loss: 0.2533 - binary_accuracy: 0.9130 - 5s/epoch - 93ms/step\n",
      "Epoch 7/10\n",
      "55/55 - 5s - loss: 0.2363 - binary_accuracy: 0.9201 - 5s/epoch - 94ms/step\n",
      "Epoch 8/10\n",
      "55/55 - 5s - loss: 0.2113 - binary_accuracy: 0.9325 - 5s/epoch - 96ms/step\n",
      "Epoch 9/10\n",
      "55/55 - 5s - loss: 0.2055 - binary_accuracy: 0.9330 - 5s/epoch - 94ms/step\n",
      "Epoch 10/10\n",
      "55/55 - 5s - loss: 0.1892 - binary_accuracy: 0.9391 - 5s/epoch - 95ms/step\n",
      "Validation Loss: 0.5242969989776611\n",
      "Validation Accuracy: 0.7986111044883728\n"
     ]
    }
   ],
   "source": [
    "from keras.callbacks import EarlyStopping\n",
    "\n",
    "class Trainer:\n",
    "    def __init__(self, model, params):\n",
    "        self.model = model\n",
    "        self.params = params\n",
    "\n",
    "    def train(self, X_train, y_train, X_test, y_test):\n",
    "        # Define callbacks, such as EarlyStopping\n",
    "        early_stopping = EarlyStopping(\n",
    "            monitor='loss', \n",
    "            patience=self.params.get('patience', 5), \n",
    "            restore_best_weights=True\n",
    "        )\n",
    "\n",
    "        # Train the model\n",
    "        history = self.model.fit(\n",
    "            X_train, y_train,\n",
    "            epochs=self.params.get('epochs', 10),\n",
    "            batch_size=self.params.get('batch_size', 32),\n",
    "            # validation_data=(X_test, y_test),\n",
    "            # callbacks=[early_stopping],\n",
    "            verbose=2\n",
    "        )\n",
    "\n",
    "        return history\n",
    "\n",
    "    def evaluate(self, X_test, y_test):\n",
    "        # Evaluate the model on the validation set\n",
    "        evaluation = self.model.evaluate(X_test, y_test, verbose=0)\n",
    "        return evaluation\n",
    "\n",
    "# Usage example\n",
    "params = {\n",
    "    'epochs': 10,\n",
    "    'batch_size': 64,\n",
    "    'patience': 5  # You can add more parameters as needed\n",
    "}\n",
    "trainer = Trainer(seq2seq_model, params)\n",
    "history = trainer.train(X_train, y_train, X_test, y_test)\n",
    "\n",
    "# After training, evaluate the model\n",
    "evaluation = trainer.evaluate(X_test, y_test)\n",
    "\n",
    "# You can print or log the evaluation metrics\n",
    "print(f\"Validation Loss: {evaluation[0]}\")\n",
    "print(f\"Validation Accuracy: {evaluation[1]}\")\n"
   ]
  },
  {
   "cell_type": "code",
   "execution_count": 63,
   "metadata": {},
   "outputs": [
    {
     "name": "stderr",
     "output_type": "stream",
     "text": [
      "  0%|          | 0/90 [00:00<?, ?it/s]"
     ]
    },
    {
     "name": "stdout",
     "output_type": "stream",
     "text": [
      "1/1 [==============================] - 1s 920ms/step\n",
      "1/1 - 6s - loss: 0.7878 - binary_accuracy: 0.7500 - 6s/epoch - 6s/step\n"
     ]
    },
    {
     "name": "stderr",
     "output_type": "stream",
     "text": [
      "  1%|          | 1/90 [00:07<10:45,  7.25s/it]"
     ]
    },
    {
     "name": "stdout",
     "output_type": "stream",
     "text": [
      "1/1 [==============================] - 0s 49ms/step\n",
      "1/1 - 0s - loss: 0.5336 - binary_accuracy: 0.7500 - 19ms/epoch - 19ms/step\n"
     ]
    },
    {
     "name": "stderr",
     "output_type": "stream",
     "text": [
      "  2%|▏         | 2/90 [00:07<04:38,  3.16s/it]"
     ]
    },
    {
     "name": "stdout",
     "output_type": "stream",
     "text": [
      "1/1 [==============================] - 0s 49ms/step\n",
      "1/1 - 0s - loss: 0.8036 - binary_accuracy: 0.5625 - 27ms/epoch - 27ms/step\n"
     ]
    },
    {
     "name": "stderr",
     "output_type": "stream",
     "text": [
      "  3%|▎         | 3/90 [00:07<02:40,  1.85s/it]"
     ]
    },
    {
     "name": "stdout",
     "output_type": "stream",
     "text": [
      "1/1 [==============================] - 0s 52ms/step\n",
      "1/1 - 0s - loss: 1.9178 - binary_accuracy: 0.0625 - 25ms/epoch - 25ms/step\n"
     ]
    },
    {
     "name": "stderr",
     "output_type": "stream",
     "text": [
      "  4%|▍         | 4/90 [00:08<01:46,  1.24s/it]"
     ]
    },
    {
     "name": "stdout",
     "output_type": "stream",
     "text": [
      "1/1 [==============================] - 0s 48ms/step\n",
      "1/1 - 0s - loss: 1.3776 - binary_accuracy: 0.2500 - 25ms/epoch - 25ms/step\n"
     ]
    },
    {
     "name": "stderr",
     "output_type": "stream",
     "text": [
      "  6%|▌         | 5/90 [00:08<01:16,  1.11it/s]"
     ]
    },
    {
     "name": "stdout",
     "output_type": "stream",
     "text": [
      "1/1 [==============================] - 0s 50ms/step\n",
      "1/1 - 0s - loss: 1.1048 - binary_accuracy: 0.3750 - 21ms/epoch - 21ms/step\n"
     ]
    },
    {
     "name": "stderr",
     "output_type": "stream",
     "text": [
      "  7%|▋         | 6/90 [00:08<00:57,  1.45it/s]"
     ]
    },
    {
     "name": "stdout",
     "output_type": "stream",
     "text": [
      "1/1 [==============================] - 0s 51ms/step\n",
      "1/1 - 0s - loss: 1.1182 - binary_accuracy: 0.0000e+00 - 20ms/epoch - 20ms/step\n"
     ]
    },
    {
     "name": "stderr",
     "output_type": "stream",
     "text": [
      "  8%|▊         | 7/90 [00:09<00:46,  1.79it/s]"
     ]
    },
    {
     "name": "stdout",
     "output_type": "stream",
     "text": [
      "1/1 [==============================] - 0s 50ms/step\n",
      "1/1 - 0s - loss: 0.6589 - binary_accuracy: 0.6875 - 17ms/epoch - 17ms/step\n"
     ]
    },
    {
     "name": "stderr",
     "output_type": "stream",
     "text": [
      "  9%|▉         | 8/90 [00:09<00:38,  2.13it/s]"
     ]
    },
    {
     "name": "stdout",
     "output_type": "stream",
     "text": [
      "1/1 [==============================] - 0s 48ms/step\n",
      "1/1 - 0s - loss: 0.7105 - binary_accuracy: 0.5625 - 20ms/epoch - 20ms/step\n"
     ]
    },
    {
     "name": "stderr",
     "output_type": "stream",
     "text": [
      " 10%|█         | 9/90 [00:09<00:33,  2.38it/s]"
     ]
    },
    {
     "name": "stdout",
     "output_type": "stream",
     "text": [
      "1/1 [==============================] - 0s 49ms/step\n",
      "1/1 - 0s - loss: 0.9409 - binary_accuracy: 0.4375 - 18ms/epoch - 18ms/step\n"
     ]
    },
    {
     "name": "stderr",
     "output_type": "stream",
     "text": [
      " 11%|█         | 10/90 [00:09<00:30,  2.63it/s]"
     ]
    },
    {
     "name": "stdout",
     "output_type": "stream",
     "text": [
      "1/1 [==============================] - 0s 48ms/step\n",
      "1/1 - 0s - loss: 1.2075 - binary_accuracy: 0.4375 - 21ms/epoch - 21ms/step\n"
     ]
    },
    {
     "name": "stderr",
     "output_type": "stream",
     "text": [
      " 12%|█▏        | 11/90 [00:10<00:28,  2.79it/s]"
     ]
    },
    {
     "name": "stdout",
     "output_type": "stream",
     "text": [
      "1/1 [==============================] - 0s 47ms/step\n",
      "1/1 - 0s - loss: 1.1920 - binary_accuracy: 0.3750 - 21ms/epoch - 21ms/step\n"
     ]
    },
    {
     "name": "stderr",
     "output_type": "stream",
     "text": [
      " 13%|█▎        | 12/90 [00:10<00:25,  3.00it/s]"
     ]
    },
    {
     "name": "stdout",
     "output_type": "stream",
     "text": [
      "1/1 [==============================] - 0s 44ms/step\n",
      "1/1 - 0s - loss: 1.1003 - binary_accuracy: 0.3125 - 19ms/epoch - 19ms/step\n"
     ]
    },
    {
     "name": "stderr",
     "output_type": "stream",
     "text": [
      " 14%|█▍        | 13/90 [00:10<00:24,  3.13it/s]"
     ]
    },
    {
     "name": "stdout",
     "output_type": "stream",
     "text": [
      "1/1 [==============================] - 0s 46ms/step\n",
      "1/1 - 0s - loss: 0.7123 - binary_accuracy: 0.6250 - 19ms/epoch - 19ms/step\n"
     ]
    },
    {
     "name": "stderr",
     "output_type": "stream",
     "text": [
      " 16%|█▌        | 14/90 [00:11<00:22,  3.33it/s]"
     ]
    },
    {
     "name": "stdout",
     "output_type": "stream",
     "text": [
      "1/1 [==============================] - 0s 30ms/step\n",
      "1/1 - 0s - loss: 0.5840 - binary_accuracy: 0.7500 - 18ms/epoch - 18ms/step\n"
     ]
    },
    {
     "name": "stderr",
     "output_type": "stream",
     "text": [
      " 17%|█▋        | 15/90 [00:11<00:20,  3.58it/s]"
     ]
    },
    {
     "name": "stdout",
     "output_type": "stream",
     "text": [
      "1/1 [==============================] - 0s 40ms/step\n",
      "1/1 - 0s - loss: 0.6490 - binary_accuracy: 0.6875 - 20ms/epoch - 20ms/step\n"
     ]
    },
    {
     "name": "stderr",
     "output_type": "stream",
     "text": [
      " 18%|█▊        | 16/90 [00:11<00:20,  3.62it/s]"
     ]
    },
    {
     "name": "stdout",
     "output_type": "stream",
     "text": [
      "1/1 [==============================] - 0s 49ms/step\n",
      "1/1 - 0s - loss: 0.5974 - binary_accuracy: 0.8750 - 21ms/epoch - 21ms/step\n"
     ]
    },
    {
     "name": "stderr",
     "output_type": "stream",
     "text": [
      " 19%|█▉        | 17/90 [00:11<00:20,  3.60it/s]"
     ]
    },
    {
     "name": "stdout",
     "output_type": "stream",
     "text": [
      "1/1 [==============================] - 0s 54ms/step\n",
      "1/1 - 0s - loss: 0.9071 - binary_accuracy: 0.3750 - 20ms/epoch - 20ms/step\n"
     ]
    },
    {
     "name": "stderr",
     "output_type": "stream",
     "text": [
      " 20%|██        | 18/90 [00:12<00:22,  3.15it/s]"
     ]
    },
    {
     "name": "stdout",
     "output_type": "stream",
     "text": [
      "1/1 [==============================] - 0s 52ms/step\n",
      "1/1 - 0s - loss: 0.6513 - binary_accuracy: 0.7500 - 21ms/epoch - 21ms/step\n"
     ]
    },
    {
     "name": "stderr",
     "output_type": "stream",
     "text": [
      " 21%|██        | 19/90 [00:12<00:23,  3.08it/s]"
     ]
    },
    {
     "name": "stdout",
     "output_type": "stream",
     "text": [
      "1/1 [==============================] - 0s 51ms/step\n",
      "1/1 - 0s - loss: 0.8263 - binary_accuracy: 0.5000 - 19ms/epoch - 19ms/step\n"
     ]
    },
    {
     "name": "stderr",
     "output_type": "stream",
     "text": [
      " 22%|██▏       | 20/90 [00:12<00:23,  3.04it/s]"
     ]
    },
    {
     "name": "stdout",
     "output_type": "stream",
     "text": [
      "1/1 [==============================] - 0s 49ms/step\n",
      "1/1 - 0s - loss: 0.5972 - binary_accuracy: 1.0000 - 21ms/epoch - 21ms/step\n"
     ]
    },
    {
     "name": "stderr",
     "output_type": "stream",
     "text": [
      " 23%|██▎       | 21/90 [00:13<00:22,  3.10it/s]"
     ]
    },
    {
     "name": "stdout",
     "output_type": "stream",
     "text": [
      "1/1 [==============================] - 0s 47ms/step\n",
      "1/1 - 0s - loss: 0.5133 - binary_accuracy: 1.0000 - 17ms/epoch - 17ms/step\n"
     ]
    },
    {
     "name": "stderr",
     "output_type": "stream",
     "text": [
      " 24%|██▍       | 22/90 [00:13<00:21,  3.19it/s]"
     ]
    },
    {
     "name": "stdout",
     "output_type": "stream",
     "text": [
      "1/1 [==============================] - 0s 50ms/step\n",
      "1/1 - 0s - loss: 0.9868 - binary_accuracy: 0.1250 - 21ms/epoch - 21ms/step\n"
     ]
    },
    {
     "name": "stderr",
     "output_type": "stream",
     "text": [
      " 26%|██▌       | 23/90 [00:13<00:20,  3.27it/s]"
     ]
    },
    {
     "name": "stdout",
     "output_type": "stream",
     "text": [
      "1/1 [==============================] - 0s 41ms/step\n",
      "1/1 - 0s - loss: 0.8923 - binary_accuracy: 0.3125 - 21ms/epoch - 21ms/step\n"
     ]
    },
    {
     "name": "stderr",
     "output_type": "stream",
     "text": [
      " 27%|██▋       | 24/90 [00:14<00:19,  3.32it/s]"
     ]
    },
    {
     "name": "stdout",
     "output_type": "stream",
     "text": [
      "1/1 [==============================] - 0s 51ms/step\n",
      "1/1 - 0s - loss: 0.8299 - binary_accuracy: 0.3125 - 21ms/epoch - 21ms/step\n"
     ]
    },
    {
     "name": "stderr",
     "output_type": "stream",
     "text": [
      " 28%|██▊       | 25/90 [00:14<00:19,  3.39it/s]"
     ]
    },
    {
     "name": "stdout",
     "output_type": "stream",
     "text": [
      "1/1 [==============================] - 0s 41ms/step\n",
      "1/1 - 0s - loss: 0.5586 - binary_accuracy: 1.0000 - 18ms/epoch - 18ms/step\n"
     ]
    },
    {
     "name": "stderr",
     "output_type": "stream",
     "text": [
      " 29%|██▉       | 26/90 [00:14<00:18,  3.43it/s]"
     ]
    },
    {
     "name": "stdout",
     "output_type": "stream",
     "text": [
      "1/1 [==============================] - 0s 40ms/step\n",
      "1/1 - 0s - loss: 0.5852 - binary_accuracy: 0.8750 - 19ms/epoch - 19ms/step\n"
     ]
    },
    {
     "name": "stderr",
     "output_type": "stream",
     "text": [
      " 30%|███       | 27/90 [00:14<00:18,  3.48it/s]"
     ]
    },
    {
     "name": "stdout",
     "output_type": "stream",
     "text": [
      "1/1 [==============================] - 0s 51ms/step\n",
      "1/1 - 0s - loss: 0.5573 - binary_accuracy: 0.7500 - 21ms/epoch - 21ms/step\n"
     ]
    },
    {
     "name": "stderr",
     "output_type": "stream",
     "text": [
      " 31%|███       | 28/90 [00:15<00:17,  3.52it/s]"
     ]
    },
    {
     "name": "stdout",
     "output_type": "stream",
     "text": [
      "1/1 [==============================] - 0s 38ms/step\n",
      "1/1 - 0s - loss: 0.5260 - binary_accuracy: 0.8750 - 19ms/epoch - 19ms/step\n"
     ]
    },
    {
     "name": "stderr",
     "output_type": "stream",
     "text": [
      " 32%|███▏      | 29/90 [00:15<00:17,  3.58it/s]"
     ]
    },
    {
     "name": "stdout",
     "output_type": "stream",
     "text": [
      "1/1 [==============================] - 0s 47ms/step\n",
      "1/1 - 0s - loss: 0.5407 - binary_accuracy: 0.8125 - 21ms/epoch - 21ms/step\n"
     ]
    },
    {
     "name": "stderr",
     "output_type": "stream",
     "text": [
      " 33%|███▎      | 30/90 [00:15<00:16,  3.56it/s]"
     ]
    },
    {
     "name": "stdout",
     "output_type": "stream",
     "text": [
      "1/1 [==============================] - 0s 40ms/step\n",
      "1/1 - 0s - loss: 1.0368 - binary_accuracy: 0.1875 - 19ms/epoch - 19ms/step\n"
     ]
    },
    {
     "name": "stderr",
     "output_type": "stream",
     "text": [
      " 34%|███▍      | 31/90 [00:16<00:16,  3.61it/s]"
     ]
    },
    {
     "name": "stdout",
     "output_type": "stream",
     "text": [
      "1/1 [==============================] - 0s 41ms/step\n",
      "1/1 - 0s - loss: 0.7917 - binary_accuracy: 0.4375 - 18ms/epoch - 18ms/step\n"
     ]
    },
    {
     "name": "stderr",
     "output_type": "stream",
     "text": [
      " 36%|███▌      | 32/90 [00:16<00:16,  3.60it/s]"
     ]
    },
    {
     "name": "stdout",
     "output_type": "stream",
     "text": [
      "1/1 [==============================] - 0s 41ms/step\n",
      "1/1 - 0s - loss: 0.5376 - binary_accuracy: 0.9375 - 21ms/epoch - 21ms/step\n"
     ]
    },
    {
     "name": "stderr",
     "output_type": "stream",
     "text": [
      " 37%|███▋      | 33/90 [00:16<00:16,  3.47it/s]"
     ]
    },
    {
     "name": "stdout",
     "output_type": "stream",
     "text": [
      "1/1 [==============================] - 0s 51ms/step\n",
      "1/1 - 0s - loss: 0.5137 - binary_accuracy: 0.9375 - 19ms/epoch - 19ms/step\n"
     ]
    },
    {
     "name": "stderr",
     "output_type": "stream",
     "text": [
      " 38%|███▊      | 34/90 [00:16<00:15,  3.50it/s]"
     ]
    },
    {
     "name": "stdout",
     "output_type": "stream",
     "text": [
      "1/1 [==============================] - 0s 49ms/step\n",
      "1/1 - 0s - loss: 0.5529 - binary_accuracy: 0.8750 - 28ms/epoch - 28ms/step\n"
     ]
    },
    {
     "name": "stderr",
     "output_type": "stream",
     "text": [
      " 39%|███▉      | 35/90 [00:17<00:15,  3.52it/s]"
     ]
    },
    {
     "name": "stdout",
     "output_type": "stream",
     "text": [
      "1/1 [==============================] - 0s 30ms/step\n",
      "1/1 - 0s - loss: 0.5631 - binary_accuracy: 0.8125 - 21ms/epoch - 21ms/step\n"
     ]
    },
    {
     "name": "stderr",
     "output_type": "stream",
     "text": [
      " 40%|████      | 36/90 [00:17<00:14,  3.82it/s]"
     ]
    },
    {
     "name": "stdout",
     "output_type": "stream",
     "text": [
      "1/1 [==============================] - 0s 40ms/step\n",
      "1/1 - 0s - loss: 0.6199 - binary_accuracy: 0.7500 - 19ms/epoch - 19ms/step\n"
     ]
    },
    {
     "name": "stderr",
     "output_type": "stream",
     "text": [
      " 41%|████      | 37/90 [00:17<00:14,  3.74it/s]"
     ]
    },
    {
     "name": "stdout",
     "output_type": "stream",
     "text": [
      "1/1 [==============================] - 0s 41ms/step\n",
      "1/1 - 0s - loss: 1.0351 - binary_accuracy: 0.1875 - 20ms/epoch - 20ms/step\n"
     ]
    },
    {
     "name": "stderr",
     "output_type": "stream",
     "text": [
      " 42%|████▏     | 38/90 [00:17<00:14,  3.68it/s]"
     ]
    },
    {
     "name": "stdout",
     "output_type": "stream",
     "text": [
      "1/1 [==============================] - 0s 46ms/step\n",
      "1/1 - 0s - loss: 0.4577 - binary_accuracy: 1.0000 - 21ms/epoch - 21ms/step\n"
     ]
    },
    {
     "name": "stderr",
     "output_type": "stream",
     "text": [
      " 43%|████▎     | 39/90 [00:18<00:13,  3.66it/s]"
     ]
    },
    {
     "name": "stdout",
     "output_type": "stream",
     "text": [
      "1/1 [==============================] - 0s 50ms/step\n",
      "1/1 - 0s - loss: 0.4665 - binary_accuracy: 1.0000 - 23ms/epoch - 23ms/step\n"
     ]
    },
    {
     "name": "stderr",
     "output_type": "stream",
     "text": [
      " 44%|████▍     | 40/90 [00:18<00:14,  3.53it/s]"
     ]
    },
    {
     "name": "stdout",
     "output_type": "stream",
     "text": [
      "1/1 [==============================] - 0s 51ms/step\n",
      "1/1 - 0s - loss: 0.4848 - binary_accuracy: 1.0000 - 20ms/epoch - 20ms/step\n"
     ]
    },
    {
     "name": "stderr",
     "output_type": "stream",
     "text": [
      " 46%|████▌     | 41/90 [00:18<00:14,  3.49it/s]"
     ]
    },
    {
     "name": "stdout",
     "output_type": "stream",
     "text": [
      "1/1 [==============================] - 0s 48ms/step\n",
      "1/1 - 0s - loss: 0.4540 - binary_accuracy: 1.0000 - 20ms/epoch - 20ms/step\n"
     ]
    },
    {
     "name": "stderr",
     "output_type": "stream",
     "text": [
      " 47%|████▋     | 42/90 [00:19<00:13,  3.48it/s]"
     ]
    },
    {
     "name": "stdout",
     "output_type": "stream",
     "text": [
      "1/1 [==============================] - 0s 50ms/step\n",
      "1/1 - 0s - loss: 0.4464 - binary_accuracy: 1.0000 - 20ms/epoch - 20ms/step\n"
     ]
    },
    {
     "name": "stderr",
     "output_type": "stream",
     "text": [
      " 48%|████▊     | 43/90 [00:19<00:13,  3.47it/s]"
     ]
    },
    {
     "name": "stdout",
     "output_type": "stream",
     "text": [
      "1/1 [==============================] - 0s 49ms/step\n",
      "1/1 - 0s - loss: 0.4769 - binary_accuracy: 1.0000 - 21ms/epoch - 21ms/step\n"
     ]
    },
    {
     "name": "stderr",
     "output_type": "stream",
     "text": [
      " 49%|████▉     | 44/90 [00:19<00:13,  3.47it/s]"
     ]
    },
    {
     "name": "stdout",
     "output_type": "stream",
     "text": [
      "1/1 [==============================] - 0s 49ms/step\n",
      "1/1 - 0s - loss: 1.1806 - binary_accuracy: 0.1250 - 20ms/epoch - 20ms/step\n"
     ]
    },
    {
     "name": "stderr",
     "output_type": "stream",
     "text": [
      " 50%|█████     | 45/90 [00:19<00:13,  3.39it/s]"
     ]
    },
    {
     "name": "stdout",
     "output_type": "stream",
     "text": [
      "1/1 [==============================] - 0s 51ms/step\n",
      "1/1 - 0s - loss: 0.6801 - binary_accuracy: 0.6250 - 20ms/epoch - 20ms/step\n"
     ]
    },
    {
     "name": "stderr",
     "output_type": "stream",
     "text": [
      " 51%|█████     | 46/90 [00:20<00:12,  3.44it/s]"
     ]
    },
    {
     "name": "stdout",
     "output_type": "stream",
     "text": [
      "1/1 [==============================] - 0s 51ms/step\n",
      "1/1 - 0s - loss: 1.1517 - binary_accuracy: 0.1250 - 19ms/epoch - 19ms/step\n"
     ]
    },
    {
     "name": "stderr",
     "output_type": "stream",
     "text": [
      " 52%|█████▏    | 47/90 [00:20<00:12,  3.31it/s]"
     ]
    },
    {
     "name": "stdout",
     "output_type": "stream",
     "text": [
      "1/1 [==============================] - 0s 49ms/step\n",
      "1/1 - 0s - loss: 0.8536 - binary_accuracy: 0.4375 - 21ms/epoch - 21ms/step\n"
     ]
    },
    {
     "name": "stderr",
     "output_type": "stream",
     "text": [
      " 53%|█████▎    | 48/90 [00:20<00:12,  3.41it/s]"
     ]
    },
    {
     "name": "stdout",
     "output_type": "stream",
     "text": [
      "1/1 [==============================] - 0s 48ms/step\n",
      "1/1 - 0s - loss: 0.4255 - binary_accuracy: 1.0000 - 28ms/epoch - 28ms/step\n"
     ]
    },
    {
     "name": "stderr",
     "output_type": "stream",
     "text": [
      " 54%|█████▍    | 49/90 [00:21<00:11,  3.46it/s]"
     ]
    },
    {
     "name": "stdout",
     "output_type": "stream",
     "text": [
      "1/1 [==============================] - 0s 50ms/step\n",
      "1/1 - 0s - loss: 0.4288 - binary_accuracy: 1.0000 - 22ms/epoch - 22ms/step\n"
     ]
    },
    {
     "name": "stderr",
     "output_type": "stream",
     "text": [
      " 56%|█████▌    | 50/90 [00:21<00:11,  3.39it/s]"
     ]
    },
    {
     "name": "stdout",
     "output_type": "stream",
     "text": [
      "1/1 [==============================] - 0s 51ms/step\n",
      "1/1 - 0s - loss: 0.8686 - binary_accuracy: 0.5000 - 20ms/epoch - 20ms/step\n"
     ]
    },
    {
     "name": "stderr",
     "output_type": "stream",
     "text": [
      " 57%|█████▋    | 51/90 [00:21<00:11,  3.33it/s]"
     ]
    },
    {
     "name": "stdout",
     "output_type": "stream",
     "text": [
      "1/1 [==============================] - 0s 49ms/step\n",
      "1/1 - 0s - loss: 0.4189 - binary_accuracy: 1.0000 - 24ms/epoch - 24ms/step\n"
     ]
    },
    {
     "name": "stderr",
     "output_type": "stream",
     "text": [
      " 58%|█████▊    | 52/90 [00:22<00:11,  3.37it/s]"
     ]
    },
    {
     "name": "stdout",
     "output_type": "stream",
     "text": [
      "1/1 [==============================] - 0s 51ms/step\n",
      "1/1 - 0s - loss: 0.4069 - binary_accuracy: 1.0000 - 18ms/epoch - 18ms/step\n"
     ]
    },
    {
     "name": "stderr",
     "output_type": "stream",
     "text": [
      " 59%|█████▉    | 53/90 [00:22<00:10,  3.38it/s]"
     ]
    },
    {
     "name": "stdout",
     "output_type": "stream",
     "text": [
      "1/1 [==============================] - 0s 44ms/step\n",
      "1/1 - 0s - loss: 0.4174 - binary_accuracy: 1.0000 - 22ms/epoch - 22ms/step\n"
     ]
    },
    {
     "name": "stderr",
     "output_type": "stream",
     "text": [
      " 60%|██████    | 54/90 [00:22<00:10,  3.34it/s]"
     ]
    },
    {
     "name": "stdout",
     "output_type": "stream",
     "text": [
      "1/1 [==============================] - 0s 47ms/step\n",
      "1/1 - 0s - loss: 0.5800 - binary_accuracy: 0.8125 - 18ms/epoch - 18ms/step\n"
     ]
    },
    {
     "name": "stderr",
     "output_type": "stream",
     "text": [
      " 61%|██████    | 55/90 [00:22<00:10,  3.37it/s]"
     ]
    },
    {
     "name": "stdout",
     "output_type": "stream",
     "text": [
      "1/1 [==============================] - 0s 50ms/step\n",
      "1/1 - 0s - loss: 1.2727 - binary_accuracy: 0.0000e+00 - 25ms/epoch - 25ms/step\n"
     ]
    },
    {
     "name": "stderr",
     "output_type": "stream",
     "text": [
      " 62%|██████▏   | 56/90 [00:23<00:10,  3.33it/s]"
     ]
    },
    {
     "name": "stdout",
     "output_type": "stream",
     "text": [
      "1/1 [==============================] - 0s 51ms/step\n",
      "1/1 - 0s - loss: 1.1777 - binary_accuracy: 0.1250 - 14ms/epoch - 14ms/step\n"
     ]
    },
    {
     "name": "stderr",
     "output_type": "stream",
     "text": [
      " 63%|██████▎   | 57/90 [00:23<00:09,  3.43it/s]"
     ]
    },
    {
     "name": "stdout",
     "output_type": "stream",
     "text": [
      "1/1 [==============================] - 0s 31ms/step\n",
      "1/1 - 0s - loss: 0.9865 - binary_accuracy: 0.2500 - 19ms/epoch - 19ms/step\n"
     ]
    },
    {
     "name": "stderr",
     "output_type": "stream",
     "text": [
      " 64%|██████▍   | 58/90 [00:23<00:08,  3.66it/s]"
     ]
    },
    {
     "name": "stdout",
     "output_type": "stream",
     "text": [
      "1/1 [==============================] - 0s 60ms/step\n",
      "1/1 - 0s - loss: 1.1801 - binary_accuracy: 0.0625 - 21ms/epoch - 21ms/step\n"
     ]
    },
    {
     "name": "stderr",
     "output_type": "stream",
     "text": [
      " 66%|██████▌   | 59/90 [00:24<00:08,  3.53it/s]"
     ]
    },
    {
     "name": "stdout",
     "output_type": "stream",
     "text": [
      "1/1 [==============================] - 0s 51ms/step\n",
      "1/1 - 0s - loss: 0.4106 - binary_accuracy: 1.0000 - 21ms/epoch - 21ms/step\n"
     ]
    },
    {
     "name": "stderr",
     "output_type": "stream",
     "text": [
      " 67%|██████▋   | 60/90 [00:24<00:08,  3.51it/s]"
     ]
    },
    {
     "name": "stdout",
     "output_type": "stream",
     "text": [
      "1/1 [==============================] - 0s 48ms/step\n",
      "1/1 - 0s - loss: 0.4190 - binary_accuracy: 1.0000 - 21ms/epoch - 21ms/step\n"
     ]
    },
    {
     "name": "stderr",
     "output_type": "stream",
     "text": [
      " 68%|██████▊   | 61/90 [00:24<00:08,  3.34it/s]"
     ]
    },
    {
     "name": "stdout",
     "output_type": "stream",
     "text": [
      "1/1 [==============================] - 0s 50ms/step\n",
      "1/1 - 0s - loss: 0.4336 - binary_accuracy: 1.0000 - 30ms/epoch - 30ms/step\n"
     ]
    },
    {
     "name": "stderr",
     "output_type": "stream",
     "text": [
      " 69%|██████▉   | 62/90 [00:25<00:08,  3.19it/s]"
     ]
    },
    {
     "name": "stdout",
     "output_type": "stream",
     "text": [
      "1/1 [==============================] - 0s 60ms/step\n",
      "1/1 - 0s - loss: 0.4302 - binary_accuracy: 1.0000 - 21ms/epoch - 21ms/step\n"
     ]
    },
    {
     "name": "stderr",
     "output_type": "stream",
     "text": [
      " 70%|███████   | 63/90 [00:25<00:08,  3.14it/s]"
     ]
    },
    {
     "name": "stdout",
     "output_type": "stream",
     "text": [
      "1/1 [==============================] - 0s 50ms/step\n",
      "1/1 - 0s - loss: 0.5073 - binary_accuracy: 0.8750 - 20ms/epoch - 20ms/step\n"
     ]
    },
    {
     "name": "stderr",
     "output_type": "stream",
     "text": [
      " 71%|███████   | 64/90 [00:25<00:08,  3.18it/s]"
     ]
    },
    {
     "name": "stdout",
     "output_type": "stream",
     "text": [
      "1/1 [==============================] - 0s 58ms/step\n",
      "1/1 - 0s - loss: 1.2660 - binary_accuracy: 0.0000e+00 - 20ms/epoch - 20ms/step\n"
     ]
    },
    {
     "name": "stderr",
     "output_type": "stream",
     "text": [
      " 72%|███████▏  | 65/90 [00:25<00:07,  3.18it/s]"
     ]
    },
    {
     "name": "stdout",
     "output_type": "stream",
     "text": [
      "1/1 [==============================] - 0s 60ms/step\n",
      "1/1 - 0s - loss: 0.6673 - binary_accuracy: 0.8750 - 21ms/epoch - 21ms/step\n"
     ]
    },
    {
     "name": "stderr",
     "output_type": "stream",
     "text": [
      " 73%|███████▎  | 66/90 [00:26<00:07,  3.21it/s]"
     ]
    },
    {
     "name": "stdout",
     "output_type": "stream",
     "text": [
      "1/1 [==============================] - 0s 54ms/step\n",
      "1/1 - 0s - loss: 0.4370 - binary_accuracy: 1.0000 - 21ms/epoch - 21ms/step\n"
     ]
    },
    {
     "name": "stderr",
     "output_type": "stream",
     "text": [
      " 74%|███████▍  | 67/90 [00:26<00:06,  3.32it/s]"
     ]
    },
    {
     "name": "stdout",
     "output_type": "stream",
     "text": [
      "1/1 [==============================] - 0s 51ms/step\n",
      "1/1 - 0s - loss: 0.7242 - binary_accuracy: 0.5000 - 22ms/epoch - 22ms/step\n"
     ]
    },
    {
     "name": "stderr",
     "output_type": "stream",
     "text": [
      " 76%|███████▌  | 68/90 [00:26<00:06,  3.32it/s]"
     ]
    },
    {
     "name": "stdout",
     "output_type": "stream",
     "text": [
      "1/1 [==============================] - 0s 41ms/step\n",
      "1/1 - 0s - loss: 1.1192 - binary_accuracy: 0.1250 - 21ms/epoch - 21ms/step\n"
     ]
    },
    {
     "name": "stderr",
     "output_type": "stream",
     "text": [
      " 77%|███████▋  | 69/90 [00:27<00:06,  3.36it/s]"
     ]
    },
    {
     "name": "stdout",
     "output_type": "stream",
     "text": [
      "1/1 [==============================] - 0s 49ms/step\n",
      "1/1 - 0s - loss: 0.4137 - binary_accuracy: 1.0000 - 24ms/epoch - 24ms/step\n"
     ]
    },
    {
     "name": "stderr",
     "output_type": "stream",
     "text": [
      " 78%|███████▊  | 70/90 [00:27<00:05,  3.39it/s]"
     ]
    },
    {
     "name": "stdout",
     "output_type": "stream",
     "text": [
      "1/1 [==============================] - 0s 50ms/step\n",
      "1/1 - 0s - loss: 0.9947 - binary_accuracy: 0.1875 - 21ms/epoch - 21ms/step\n"
     ]
    },
    {
     "name": "stderr",
     "output_type": "stream",
     "text": [
      " 79%|███████▉  | 71/90 [00:27<00:05,  3.41it/s]"
     ]
    },
    {
     "name": "stdout",
     "output_type": "stream",
     "text": [
      "1/1 [==============================] - 0s 60ms/step\n",
      "1/1 - 0s - loss: 0.4363 - binary_accuracy: 1.0000 - 19ms/epoch - 19ms/step\n"
     ]
    },
    {
     "name": "stderr",
     "output_type": "stream",
     "text": [
      " 80%|████████  | 72/90 [00:28<00:05,  3.42it/s]"
     ]
    },
    {
     "name": "stdout",
     "output_type": "stream",
     "text": [
      "1/1 [==============================] - 0s 59ms/step\n",
      "1/1 - 0s - loss: 0.4285 - binary_accuracy: 1.0000 - 20ms/epoch - 20ms/step\n"
     ]
    },
    {
     "name": "stderr",
     "output_type": "stream",
     "text": [
      " 81%|████████  | 73/90 [00:28<00:05,  3.39it/s]"
     ]
    },
    {
     "name": "stdout",
     "output_type": "stream",
     "text": [
      "1/1 [==============================] - 0s 60ms/step\n",
      "1/1 - 0s - loss: 0.4231 - binary_accuracy: 1.0000 - 24ms/epoch - 24ms/step\n"
     ]
    },
    {
     "name": "stderr",
     "output_type": "stream",
     "text": [
      " 82%|████████▏ | 74/90 [00:28<00:04,  3.31it/s]"
     ]
    },
    {
     "name": "stdout",
     "output_type": "stream",
     "text": [
      "1/1 [==============================] - 0s 58ms/step\n",
      "1/1 - 0s - loss: 0.4213 - binary_accuracy: 1.0000 - 22ms/epoch - 22ms/step\n"
     ]
    },
    {
     "name": "stderr",
     "output_type": "stream",
     "text": [
      " 83%|████████▎ | 75/90 [00:28<00:04,  3.25it/s]"
     ]
    },
    {
     "name": "stdout",
     "output_type": "stream",
     "text": [
      "1/1 [==============================] - 0s 41ms/step\n",
      "1/1 - 0s - loss: 0.4118 - binary_accuracy: 1.0000 - 21ms/epoch - 21ms/step\n"
     ]
    },
    {
     "name": "stderr",
     "output_type": "stream",
     "text": [
      " 84%|████████▍ | 76/90 [00:29<00:04,  3.29it/s]"
     ]
    },
    {
     "name": "stdout",
     "output_type": "stream",
     "text": [
      "1/1 [==============================] - 0s 51ms/step\n",
      "1/1 - 0s - loss: 0.8956 - binary_accuracy: 0.3125 - 21ms/epoch - 21ms/step\n"
     ]
    },
    {
     "name": "stderr",
     "output_type": "stream",
     "text": [
      " 86%|████████▌ | 77/90 [00:29<00:03,  3.29it/s]"
     ]
    },
    {
     "name": "stdout",
     "output_type": "stream",
     "text": [
      "1/1 [==============================] - 0s 40ms/step\n",
      "1/1 - 0s - loss: 1.2618 - binary_accuracy: 0.0000e+00 - 21ms/epoch - 21ms/step\n"
     ]
    },
    {
     "name": "stderr",
     "output_type": "stream",
     "text": [
      " 87%|████████▋ | 78/90 [00:29<00:03,  3.33it/s]"
     ]
    },
    {
     "name": "stdout",
     "output_type": "stream",
     "text": [
      "1/1 [==============================] - 0s 30ms/step\n",
      "1/1 - 0s - loss: 0.7938 - binary_accuracy: 0.6875 - 21ms/epoch - 21ms/step\n"
     ]
    },
    {
     "name": "stderr",
     "output_type": "stream",
     "text": [
      " 88%|████████▊ | 79/90 [00:30<00:03,  3.62it/s]"
     ]
    },
    {
     "name": "stdout",
     "output_type": "stream",
     "text": [
      "1/1 [==============================] - 0s 50ms/step\n",
      "1/1 - 0s - loss: 0.4003 - binary_accuracy: 1.0000 - 19ms/epoch - 19ms/step\n"
     ]
    },
    {
     "name": "stderr",
     "output_type": "stream",
     "text": [
      " 89%|████████▉ | 80/90 [00:30<00:02,  3.49it/s]"
     ]
    },
    {
     "name": "stdout",
     "output_type": "stream",
     "text": [
      "1/1 [==============================] - 0s 49ms/step\n",
      "1/1 - 0s - loss: 0.3873 - binary_accuracy: 1.0000 - 21ms/epoch - 21ms/step\n"
     ]
    },
    {
     "name": "stderr",
     "output_type": "stream",
     "text": [
      " 90%|█████████ | 81/90 [00:30<00:02,  3.49it/s]"
     ]
    },
    {
     "name": "stdout",
     "output_type": "stream",
     "text": [
      "1/1 [==============================] - 0s 51ms/step\n",
      "1/1 - 0s - loss: 0.4033 - binary_accuracy: 1.0000 - 19ms/epoch - 19ms/step\n"
     ]
    },
    {
     "name": "stderr",
     "output_type": "stream",
     "text": [
      " 91%|█████████ | 82/90 [00:30<00:02,  3.50it/s]"
     ]
    },
    {
     "name": "stdout",
     "output_type": "stream",
     "text": [
      "1/1 [==============================] - 0s 48ms/step\n",
      "1/1 - 0s - loss: 0.6402 - binary_accuracy: 0.7500 - 15ms/epoch - 15ms/step\n"
     ]
    },
    {
     "name": "stderr",
     "output_type": "stream",
     "text": [
      " 92%|█████████▏| 83/90 [00:31<00:02,  3.49it/s]"
     ]
    },
    {
     "name": "stdout",
     "output_type": "stream",
     "text": [
      "1/1 [==============================] - 0s 51ms/step\n",
      "1/1 - 0s - loss: 0.4098 - binary_accuracy: 1.0000 - 19ms/epoch - 19ms/step\n"
     ]
    },
    {
     "name": "stderr",
     "output_type": "stream",
     "text": [
      " 93%|█████████▎| 84/90 [00:31<00:01,  3.52it/s]"
     ]
    },
    {
     "name": "stdout",
     "output_type": "stream",
     "text": [
      "1/1 [==============================] - 0s 42ms/step\n",
      "1/1 - 0s - loss: 0.4021 - binary_accuracy: 1.0000 - 21ms/epoch - 21ms/step\n"
     ]
    },
    {
     "name": "stderr",
     "output_type": "stream",
     "text": [
      " 94%|█████████▍| 85/90 [00:31<00:01,  3.49it/s]"
     ]
    },
    {
     "name": "stdout",
     "output_type": "stream",
     "text": [
      "1/1 [==============================] - 0s 48ms/step\n",
      "1/1 - 0s - loss: 1.1038 - binary_accuracy: 0.2500 - 28ms/epoch - 28ms/step\n"
     ]
    },
    {
     "name": "stderr",
     "output_type": "stream",
     "text": [
      " 96%|█████████▌| 86/90 [00:32<00:01,  3.44it/s]"
     ]
    },
    {
     "name": "stdout",
     "output_type": "stream",
     "text": [
      "1/1 [==============================] - 0s 47ms/step\n",
      "1/1 - 0s - loss: 0.4862 - binary_accuracy: 0.8750 - 21ms/epoch - 21ms/step\n"
     ]
    },
    {
     "name": "stderr",
     "output_type": "stream",
     "text": [
      " 97%|█████████▋| 87/90 [00:32<00:00,  3.38it/s]"
     ]
    },
    {
     "name": "stdout",
     "output_type": "stream",
     "text": [
      "1/1 [==============================] - 0s 48ms/step\n",
      "1/1 - 0s - loss: 0.5825 - binary_accuracy: 0.7500 - 20ms/epoch - 20ms/step\n"
     ]
    },
    {
     "name": "stderr",
     "output_type": "stream",
     "text": [
      " 98%|█████████▊| 88/90 [00:32<00:00,  3.43it/s]"
     ]
    },
    {
     "name": "stdout",
     "output_type": "stream",
     "text": [
      "1/1 [==============================] - 0s 50ms/step\n",
      "1/1 - 0s - loss: 0.3813 - binary_accuracy: 1.0000 - 21ms/epoch - 21ms/step\n"
     ]
    },
    {
     "name": "stderr",
     "output_type": "stream",
     "text": [
      " 99%|█████████▉| 89/90 [00:32<00:00,  3.44it/s]"
     ]
    },
    {
     "name": "stdout",
     "output_type": "stream",
     "text": [
      "1/1 [==============================] - 0s 57ms/step\n",
      "1/1 - 0s - loss: 0.3966 - binary_accuracy: 1.0000 - 20ms/epoch - 20ms/step\n"
     ]
    },
    {
     "name": "stderr",
     "output_type": "stream",
     "text": [
      "100%|██████████| 90/90 [00:33<00:00,  2.70it/s]"
     ]
    },
    {
     "name": "stdout",
     "output_type": "stream",
     "text": [
      "Precision: 0.7764437260730594\n",
      "Recall: 0.7270171957671958\n",
      "Accuracy: 0.8020833333333334\n",
      "F1 Score: 0.7433201636896851\n"
     ]
    },
    {
     "name": "stderr",
     "output_type": "stream",
     "text": [
      "\n"
     ]
    }
   ],
   "source": [
    "from tqdm import tqdm\n",
    "\n",
    "class OnlineTrainer:\n",
    "    def __init__(self, model):\n",
    "        self.model = model\n",
    "\n",
    "    def online_train(self, X_train, y_train, X_test, y_test):\n",
    "        training_losses = []\n",
    "        training_acc = []\n",
    "        val_losses = []\n",
    "        val_acc = []\n",
    "        y_preds = []\n",
    "        for i in tqdm(range(len(X_test))):\n",
    "            # Predict the next instance (optional, depending on your requirements)\n",
    "            y_pred = self.model.predict(X_test[i:i+1])\n",
    "            y_preds.append(y_pred[0])\n",
    "            # Add the instance and its actual result to the training dataset\n",
    "            X_train = np.append(X_train, X_test[i:i+1], axis=0)\n",
    "            y_train = np.append(y_train, y_test[i:i+1], axis=0)\n",
    "\n",
    "            # Retrain the model on this updated dataset\n",
    "            history = self.model.fit(\n",
    "                X_test[i:i+1], y_test[i:i+1],\n",
    "                epochs=1, verbose=2\n",
    "            )\n",
    "            # training_losses.append(history.history['loss'][0])\n",
    "            # training_acc.append(history.history['binary_accuracy'][0])\n",
    "            # val_losses.append(history.history['val_loss'][0])\n",
    "            # val_acc.append(history.history['val_binary_accuracy'][0])\n",
    "        y_preds = np.array(y_preds)\n",
    "        # Return training and validation metrics\n",
    "        return y_preds, training_losses, training_acc, val_losses, val_acc\n",
    "\n",
    "    def evaluate(self, y_preds, y_test):\n",
    "        # Flatten the 3D tensors for evaluation\n",
    "        y_test_flat = np.argmax(y_test.reshape(-1, y_test.shape[-1]), axis=1)\n",
    "        y_preds_flat = np.argmax(y_preds.reshape(-1, y_preds.shape[-1]), axis=1)\n",
    "\n",
    "        # Calculate evaluation metrics\n",
    "        precision = precision_score(y_test_flat, y_preds_flat, average='macro')\n",
    "        recall = recall_score(y_test_flat, y_preds_flat, average='macro')\n",
    "        accuracy = accuracy_score(y_test_flat, y_preds_flat)\n",
    "        f1 = f1_score(y_test_flat, y_preds_flat, average='macro')\n",
    "\n",
    "        return precision, recall, accuracy, f1\n",
    "\n",
    "# Usage example\n",
    "online_trainer = OnlineTrainer(seq2seq_model)\n",
    "y_preds, training_losses, training_acc, val_losses, val_acc = online_trainer.online_train(X_train, y_train, X_test, y_test)\n",
    "precision, recall, accuracy, f1 = online_trainer.evaluate(y_preds, y_test)\n",
    "\n",
    "# Output the evaluation metrics\n",
    "print(f'Precision: {precision}')\n",
    "print(f'Recall: {recall}')\n",
    "print(f'Accuracy: {accuracy}')\n",
    "print(f'F1 Score: {f1}')"
   ]
  },
  {
   "cell_type": "code",
   "execution_count": 64,
   "metadata": {},
   "outputs": [],
   "source": [
    "from sklearn.metrics import precision_score, recall_score, accuracy_score, f1_score\n",
    "\n",
    "class Evaluator:\n",
    "    def __init__(self, model):\n",
    "        self.model = model\n",
    "\n",
    "    def evaluate(self, X_test, y_test):\n",
    "        # Evaluate the model on the validation set\n",
    "        evaluation = self.model.evaluate(X_test, y_test, verbose=0)\n",
    "        return evaluation\n",
    "\n",
    "    def evaluate_metrics(self, y_preds, y_test):\n",
    "        # Flatten the 3D tensors for evaluation\n",
    "        y_test_flat = np.argmax(y_test.reshape(-1, y_test.shape[-1]), axis=1)\n",
    "        y_preds_flat = np.argmax(y_preds.reshape(-1, y_preds.shape[-1]), axis=1)\n",
    "\n",
    "        # Calculate evaluation metrics\n",
    "        precision = precision_score(y_test_flat, y_preds_flat, average='macro')\n",
    "        recall = recall_score(y_test_flat, y_preds_flat, average='macro')\n",
    "        accuracy = accuracy_score(y_test_flat, y_preds_flat)\n",
    "        f1 = f1_score(y_test_flat, y_preds_flat, average='macro')\n",
    "\n",
    "        return precision, recall, accuracy, f1\n"
   ]
  },
  {
   "cell_type": "code",
   "execution_count": 65,
   "metadata": {},
   "outputs": [
    {
     "name": "stdout",
     "output_type": "stream",
     "text": [
      "Validation Loss: 0.5455066561698914\n",
      "Validation Accuracy: 0.7993055582046509\n"
     ]
    }
   ],
   "source": [
    "# Usage example with Trainer\n",
    "params = {\n",
    "    'epochs': 1000,\n",
    "    'batch_size': 64,\n",
    "    'patience': 10  # You can add more parameters as needed\n",
    "}\n",
    "# trainer = Trainer(seq2seq_model, params)\n",
    "# history = trainer.train(X_train, y_train, X_test, y_test)\n",
    "\n",
    "# # After training, evaluate the model\n",
    "# evaluation = trainer.evaluate(X_test, y_test)\n",
    "\n",
    "# Create an Evaluator instance and use it to evaluate the model\n",
    "evaluator = Evaluator(seq2seq_model)\n",
    "evaluation = evaluator.evaluate(X_test, y_test)\n",
    "\n",
    "print(f\"Validation Loss: {evaluation[0]}\")\n",
    "print(f\"Validation Accuracy: {evaluation[1]}\")\n"
   ]
  },
  {
   "cell_type": "code",
   "execution_count": 66,
   "metadata": {},
   "outputs": [
    {
     "name": "stdout",
     "output_type": "stream",
     "text": [
      "Precision: 0.7764437260730594\n",
      "Recall: 0.7270171957671958\n",
      "Accuracy: 0.8020833333333334\n",
      "F1 Score: 0.7433201636896851\n"
     ]
    }
   ],
   "source": [
    "# # Usage example with OnlineTrainer\n",
    "# online_trainer = OnlineTrainer(seq2seq_model)\n",
    "# y_preds, training_losses, training_acc, val_losses, val_acc = online_trainer.online_train(X_train, y_train, X_test, y_test)\n",
    "\n",
    "# Create an Evaluator instance and use it to evaluate the model\n",
    "evaluator = Evaluator(seq2seq_model)\n",
    "precision, recall, accuracy, f1 = evaluator.evaluate_metrics(y_preds, y_test)\n",
    "\n",
    "# Output the evaluation metrics\n",
    "print(f'Precision: {precision}')\n",
    "print(f'Recall: {recall}')\n",
    "print(f'Accuracy: {accuracy}')\n",
    "print(f'F1 Score: {f1}')\n"
   ]
  },
  {
   "cell_type": "code",
   "execution_count": 67,
   "metadata": {},
   "outputs": [],
   "source": [
    "y_test_flat = np.argmax(y_test.reshape(-1, y_test.shape[-1]), axis=1)\n",
    "y_preds_flat = np.argmax(y_preds.reshape(-1, y_preds.shape[-1]), axis=1)"
   ]
  },
  {
   "cell_type": "code",
   "execution_count": 68,
   "metadata": {},
   "outputs": [
    {
     "data": {
      "text/plain": [
       "[<matplotlib.lines.Line2D at 0x1fe83a21ff0>]"
      ]
     },
     "execution_count": 68,
     "metadata": {},
     "output_type": "execute_result"
    },
    {
     "data": {
      "image/png": "[encoded data removed]",
      "text/plain": [
       "<Figure size 2400x400 with 1 Axes>"
      ]
     },
     "metadata": {},
     "output_type": "display_data"
    }
   ],
   "source": [
    "plt.figure(figsize=(24, 4))\n",
    "plt.plot(y_preds_flat)\n",
    "plt.plot(y_test_flat)"
   ]
  }
 ],
 "metadata": {
  "kernelspec": {
   "display_name": "myenv",
   "language": "python",
   "name": "python3"
  },
  "language_info": {
   "codemirror_mode": {
    "name": "ipython",
    "version": 3
   },
   "file_extension": ".py",
   "mimetype": "text/x-python",
   "name": "python",
   "nbconvert_exporter": "python",
   "pygments_lexer": "ipython3",
   "version": "3.10.7"
  }
 },
 "nbformat": 4,
 "nbformat_minor": 2
}
