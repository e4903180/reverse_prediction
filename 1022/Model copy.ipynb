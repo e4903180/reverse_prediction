{
 "cells": [
  {
   "cell_type": "code",
   "execution_count": 1,
   "metadata": {},
   "outputs": [],
   "source": [
    "import yfinance as yf\n",
    "import numpy as np\n",
    "import pandas as pd\n",
    "from scipy.signal import argrelextrema\n",
    "import talib\n",
    "from abc import ABC, abstractmethod\n",
    "from sklearn.preprocessing import StandardScaler, MinMaxScaler"
   ]
  },
  {
   "cell_type": "code",
   "execution_count": 2,
   "metadata": {},
   "outputs": [
    {
     "name": "stdout",
     "output_type": "stream",
     "text": [
      "[*********************100%***********************]  1 of 1 completed\n"
     ]
    }
   ],
   "source": [
    "class FeatureBase(ABC):\n",
    "    \"\"\"\n",
    "    Abstract base class for all features.\n",
    "    \"\"\"\n",
    "    @abstractmethod\n",
    "    def compute(self, data=None, *args, **kwargs):\n",
    "        \"\"\"\n",
    "        Abstract method to compute the feature value for the given data.\n",
    "        \"\"\"\n",
    "        pass\n",
    "\n",
    "\n",
    "# TODO: there's some wrong in calculate trend ways, add a new method that can split data by date\n",
    "class IndicatorTrend(FeatureBase):\n",
    "    \"\"\"\n",
    "    Indicator to calculate the trend based on various methods.\n",
    "    \"\"\"\n",
    "    def compute(self, data, *args, **kwargs):\n",
    "        \"\"\"\n",
    "        Compute the trend for the given data using the specified method.\n",
    "\n",
    "        Parameters:\n",
    "        - data: DataFrame containing the data.\n",
    "        - method: Method for trend calculation (e.g., 'MA', 'LocalExtrema').\n",
    "        - ma_days: Number of days for moving average.\n",
    "        - oder_days: Number of days for order.\n",
    "        - trend_days: Number of days to determine the trend.\n",
    "\n",
    "        Returns:\n",
    "        - DataFrame with trend values.\n",
    "        \"\"\"\n",
    "        method = kwargs.get('method', 'MA')\n",
    "        ma_days = kwargs.get('ma_days', 20)\n",
    "        oder_days = kwargs.get('oder_days', 20)\n",
    "        trend_days = kwargs.get('trend_days', 5)\n",
    "\n",
    "        if method == 'MA':\n",
    "            return self.calculate_trend_MA(data, ma_days=ma_days, trend_days=trend_days)\n",
    "        elif method == 'LocalExtrema':\n",
    "            return self.calculate_trend_LocalExtrema(data, oder_days=oder_days)\n",
    "        else:\n",
    "            raise ValueError(f\"Invalid trend calculation method: {method}\")\n",
    "\n",
    "    def calculate_trend_MA(self, data, ma_days=20, trend_days=5):\n",
    "        \"\"\"\n",
    "        Calculate trend using Moving Average method.\n",
    "\n",
    "        Parameters:\n",
    "        - data: DataFrame containing the data.\n",
    "        - ma_days: Number of days for moving average.\n",
    "        - trend_days: Number of days to determine the trend.\n",
    "\n",
    "        Returns:\n",
    "        - DataFrame with trend values.\n",
    "        \"\"\"\n",
    "        data['MA'] = data['Close'].rolling(window=ma_days).mean()\n",
    "        data['Trend'] = np.nan\n",
    "        n = len(data)\n",
    "\n",
    "        for i in range(n - trend_days + 1):\n",
    "            if all(data['MA'].iloc[i + j] < data['MA'].iloc[i + j + 1] for j in range(trend_days - 1)):\n",
    "                data['Trend'].iloc[i:i + trend_days] = 0\n",
    "            elif all(data['MA'].iloc[i + j] > data['MA'].iloc[i + j + 1] for j in range(trend_days - 1)):\n",
    "                data['Trend'].iloc[i:i + trend_days] = 1\n",
    "        data['Trend'].fillna(method='ffill', inplace=True)\n",
    "        return data.drop(columns=['MA'])\n",
    "\n",
    "    def calculate_trend_LocalExtrema(self, data, oder_days=20):\n",
    "        \"\"\"\n",
    "        Calculate trend using Local Extrema method.\n",
    "\n",
    "        Parameters:\n",
    "        - data: DataFrame containing the data.\n",
    "        - oder_days: Number of days for order.\n",
    "\n",
    "        Returns:\n",
    "        - DataFrame with trend values.\n",
    "        \"\"\"\n",
    "        local_max_indices = argrelextrema(\n",
    "            data['Close'].values, np.greater_equal, order=oder_days)[0]\n",
    "        local_min_indices = argrelextrema(\n",
    "            data['Close'].values, np.less_equal, order=oder_days)[0]\n",
    "        data['Local Max'] = data.iloc[local_max_indices]['Close']\n",
    "        data['Local Min'] = data.iloc[local_min_indices]['Close']\n",
    "        data['Trend'] = np.nan\n",
    "        prev_idx = None\n",
    "        prev_trend = None\n",
    "        prev_type = None\n",
    "\n",
    "        for idx in sorted(np.concatenate([local_max_indices, local_min_indices])):\n",
    "            if idx in local_max_indices:\n",
    "                current_type = \"max\"\n",
    "            else:\n",
    "                current_type = \"min\"\n",
    "\n",
    "            if prev_trend is None:\n",
    "                if current_type == \"max\":\n",
    "                    prev_trend = 1\n",
    "                else:\n",
    "                    prev_trend = 0\n",
    "            else:\n",
    "                if prev_type == \"max\" and current_type == \"min\":\n",
    "                    data.loc[prev_idx:idx, 'Trend'] = 1\n",
    "                    prev_trend = 1\n",
    "                elif prev_type == \"min\" and current_type == \"max\":\n",
    "                    data.loc[prev_idx:idx, 'Trend'] = 0\n",
    "                    prev_trend = 0\n",
    "                else:\n",
    "                    if current_type == \"max\":\n",
    "                        data.loc[prev_idx:idx, 'Trend'] = 0\n",
    "                        prev_trend = 0\n",
    "                    else:\n",
    "                        data.loc[prev_idx:idx, 'Trend'] = 1\n",
    "                        prev_trend = 1\n",
    "\n",
    "            prev_idx = idx\n",
    "            prev_type = current_type\n",
    "        data['Trend'].fillna(method='ffill', inplace=True)\n",
    "        return data.drop(columns=['Local Max', 'Local Min'])\n",
    "\n",
    "\n",
    "class IndicatorMACD(FeatureBase):\n",
    "    \"\"\"\n",
    "    Indicator to calculate the Moving Average Convergence Divergence (MACD).\n",
    "    \"\"\"\n",
    "\n",
    "    def compute(self, data, *args, **kwargs):\n",
    "        fastperiod = kwargs.get('fastperiod', 5)\n",
    "        slowperiod = kwargs.get('slowperiod', 10)\n",
    "        signalperiod = kwargs.get('signalperiod', 9)\n",
    "        data['MACD'], _, _ = talib.MACD(\n",
    "            data['Close'], fastperiod=fastperiod, slowperiod=slowperiod, signalperiod=signalperiod)\n",
    "        return data\n",
    "\n",
    "\n",
    "class IndicatorROC(FeatureBase):\n",
    "    def compute(self, data, *args, **kwargs):\n",
    "        trend_days = kwargs.get('trend_days', 5)\n",
    "        data['ROC'] = talib.ROC(data['Close'], timeperiod=trend_days)\n",
    "        return data\n",
    "\n",
    "\n",
    "class IndicatorStochasticOscillator(FeatureBase):\n",
    "    def compute(self, data, *args, **kwargs):\n",
    "        trend_days = kwargs.get('trend_days', 5)\n",
    "        data['StoK'], data['StoD'] = talib.STOCH(\n",
    "            data['High'], data['Low'], data['Close'], fastk_period=trend_days, slowk_period=3, slowd_period=3)\n",
    "        return data\n",
    "\n",
    "\n",
    "class IndicatorCCI(FeatureBase):\n",
    "    def compute(self, data, *args, **kwargs):\n",
    "        timeperiod = kwargs.get('timeperiod', 14)\n",
    "        data['CCI'] = talib.CCI(data['High'], data['Low'],\n",
    "                                data['Close'], timeperiod=timeperiod)\n",
    "        return data\n",
    "\n",
    "\n",
    "class IndicatorRSI(FeatureBase):\n",
    "    def compute(self, data, *args, **kwargs):\n",
    "        timeperiod = kwargs.get('timeperiod', 14)\n",
    "        data['RSI'] = talib.RSI(data['Close'], timeperiod=timeperiod)\n",
    "        return data\n",
    "\n",
    "\n",
    "class IndicatorVMA(FeatureBase):\n",
    "    def compute(self, data, *args, **kwargs):\n",
    "        timeperiod = kwargs.get('timeperiod', 20)\n",
    "        data['VMA'] = talib.MA(data['Volume'], timeperiod=timeperiod)\n",
    "        return data\n",
    "\n",
    "\n",
    "class IndicatorPctChange(FeatureBase):\n",
    "    def compute(self, data, *args, **kwargs):\n",
    "        data['pctChange'] = data['Close'].pct_change() * 100\n",
    "        return data\n",
    "\n",
    "\n",
    "class TreasuryYieldThreeMonth(FeatureBase):\n",
    "    def compute(self, data, *args, **kwargs):\n",
    "        start_date = kwargs.get('start_date')\n",
    "        end_date = kwargs.get('end_date')\n",
    "        three_month_treasury_yield = yf.download(\n",
    "            \"^IRX\", start_date, end_date)[\"Close\"]\n",
    "        data['3M Treasury Yield'] = three_month_treasury_yield\n",
    "        return data\n",
    "\n",
    "\n",
    "class TreasuryYieldFiveYear(FeatureBase):\n",
    "    def compute(self, data, *args, **kwargs):\n",
    "        start_date = kwargs.get('start_date')\n",
    "        end_date = kwargs.get('end_date')\n",
    "        five_year_treasury_yield = yf.download(\n",
    "            \"^FVX\", start_date, end_date)[\"Close\"]\n",
    "        data['5Y Treasury Yield'] = five_year_treasury_yield\n",
    "        return data\n",
    "\n",
    "\n",
    "class TreasuryYieldTenYear(FeatureBase):\n",
    "    def compute(self, data, *args, **kwargs):\n",
    "        start_date = kwargs.get('start_date')\n",
    "        end_date = kwargs.get('end_date')\n",
    "        ten_year_treasury_yield = yf.download(\n",
    "            \"^TNX\", start_date, end_date)[\"Close\"]\n",
    "        data['10Y Treasury Yield'] = ten_year_treasury_yield\n",
    "        return data\n",
    "\n",
    "\n",
    "class TreasuryYieldThirtyYear(FeatureBase):\n",
    "    def compute(self, data, *args, **kwargs):\n",
    "        start_date = kwargs.get('start_date')\n",
    "        end_date = kwargs.get('end_date')\n",
    "        thirty_year_treasury_yield = yf.download(\n",
    "            \"^TYX\", start_date, end_date)[\"Close\"]\n",
    "        data['30Y Treasury Yield'] = thirty_year_treasury_yield\n",
    "        return data\n",
    "# Add other features here as needed\n",
    "\n",
    "\n",
    "class FeatureFactory:\n",
    "    \"\"\"\n",
    "    Factory class dedicated to creating various technical features.\n",
    "    \"\"\"\n",
    "    @staticmethod\n",
    "    def get_feature(feature_type):\n",
    "        \"\"\"\n",
    "        Retrieve the desired feature based on the specified type.\n",
    "\n",
    "        Parameters:\n",
    "        - feature_type: Type of feature (e.g., 'Trend', 'MACD').\n",
    "\n",
    "        Returns:\n",
    "        - Feaature object corresponding to the specified type.\n",
    "\n",
    "        Raises:\n",
    "        - ValueError: If the provided feature type is not supported.\n",
    "        \"\"\"\n",
    "        features = {\n",
    "            \"Trend\": IndicatorTrend,\n",
    "            \"MACD\": IndicatorMACD,\n",
    "            \"ROC\": IndicatorROC,\n",
    "            \"Stochastic Oscillator\": IndicatorStochasticOscillator,\n",
    "            \"CCI\": IndicatorCCI,\n",
    "            \"RSI\": IndicatorRSI,\n",
    "            \"VMA\": IndicatorVMA,\n",
    "            \"PctChange\": IndicatorPctChange,\n",
    "            \"3M Treasury Yield\": TreasuryYieldThreeMonth,\n",
    "            \"5Y Treasury Yield\": TreasuryYieldFiveYear,\n",
    "            \"10Y Treasury Yield\": TreasuryYieldTenYear,\n",
    "            \"30Y Treasury Yield\": TreasuryYieldThirtyYear,\n",
    "            # Add other features here as needed\n",
    "        }\n",
    "        feature = features.get(feature_type)\n",
    "        if feature is None:\n",
    "            raise ValueError(f\"Invalid feature type: {feature_type}\")\n",
    "        return feature()\n",
    "\n",
    "\n",
    "class CleanerBase(ABC):\n",
    "    \"\"\"Abstract base class for data processors.\"\"\"\n",
    "    @abstractmethod\n",
    "    def check(self, data):\n",
    "        \"\"\"Method to check the data for issues.\"\"\"\n",
    "        pass\n",
    "\n",
    "    @abstractmethod\n",
    "    def clean(self, data):\n",
    "        \"\"\"Method to clean the data from identified issues.\"\"\"\n",
    "        pass\n",
    "\n",
    "\n",
    "class CleanerMissingValue(CleanerBase):\n",
    "    \"\"\"Concrete class for checking and handling missing data.\"\"\"\n",
    "    def check(self, data):\n",
    "        \"\"\"Check for missing data in the dataframe.\"\"\"\n",
    "        return data.isnull().sum()\n",
    "\n",
    "    def clean(self, data, strategy='auto'):\n",
    "        \"\"\"Handle missing data based on the chosen strategy.\"\"\"\n",
    "        if strategy == 'auto':\n",
    "            while data.iloc[0].isnull().any():\n",
    "                data = data.iloc[1:]\n",
    "            data.fillna(method='ffill', inplace=True)\n",
    "\n",
    "        elif strategy == 'drop':\n",
    "            data.dropna(inplace=True)\n",
    "\n",
    "        elif strategy == 'fillna':\n",
    "            data.fillna(method='ffill', inplace=True)\n",
    "\n",
    "        elif strategy == 'none':\n",
    "            pass\n",
    "\n",
    "        else:\n",
    "            raise ValueError(\"Invalid strategy provided.\")\n",
    "\n",
    "        return data\n",
    "\n",
    "\n",
    "class ProcessorFactory:\n",
    "    \"\"\"Factory class to create data processors.\"\"\"\n",
    "    @staticmethod\n",
    "    def get_cleaner(clean_type, *args, **kwargs):\n",
    "        \"\"\"Create a data processor based on the provided type.\"\"\"\n",
    "        if clean_type == \"MissingData\":\n",
    "            return CleanerMissingValue(*args, **kwargs)\n",
    "        else:\n",
    "            raise ValueError(f\"Processor type {clean_type} not recognized.\")\n",
    "\n",
    "    @staticmethod\n",
    "    def get_standardize_method(data, method='StandardScaler'):\n",
    "        \"\"\"Standardize the data using the specified method.\"\"\"\n",
    "        if method == 'StandardScaler':\n",
    "            scaler = StandardScaler()\n",
    "        elif method == 'MinMaxScaler':\n",
    "            scaler = MinMaxScaler()\n",
    "        else:\n",
    "            raise ValueError(f\"Invalid scaler method: {method}.\")\n",
    "        return scaler.fit_transform(data)\n",
    "\n",
    "    @staticmethod\n",
    "    def standardize_and_split_data(data, split_ratio=0.7, target_col=\"Trend\", feature_cols=None):\n",
    "        \"\"\"Standardize the data and split it into training and testing sets.\"\"\"\n",
    "        if not feature_cols:\n",
    "            feature_cols = data.columns.to_list()\n",
    "        x_data = data[feature_cols]\n",
    "\n",
    "        # Generate the one-hot encoding\n",
    "        y_data = pd.get_dummies(data[target_col], prefix='Trend')\n",
    "\n",
    "        # Check if the split index is valid\n",
    "        split_idx = int(len(x_data) * split_ratio)\n",
    "        if split_idx < 1 or split_idx >= len(x_data):\n",
    "            raise ValueError(\n",
    "                \"Invalid split ratio leading to incorrect data partitioning.\")\n",
    "\n",
    "        X_test = x_data.iloc[split_idx:]\n",
    "        y_test = y_data.iloc[split_idx:]\n",
    "        X_train = x_data.iloc[:split_idx]\n",
    "        y_train = y_data.iloc[:split_idx]\n",
    "\n",
    "        return X_train, y_train, X_test, y_test\n",
    "\n",
    "    @staticmethod\n",
    "    def prepare_multistep_data(x_data, y_data, look_back, predict_steps, slide_steps=1):\n",
    "        \"\"\"\n",
    "        Prepare the data for multi-step prediction and apply standardization within each sliding window.\n",
    "        \"\"\"\n",
    "        x_date = []\n",
    "        y_date = []\n",
    "        x_data_multistep = []\n",
    "        y_data_multistep = []\n",
    "\n",
    "        for i in range(0, len(x_data) - look_back - predict_steps + 1, slide_steps):\n",
    "            x_date.append(x_data.index[i:i + look_back])\n",
    "\n",
    "            y_date.append(\n",
    "                x_data.index[i + look_back:i + look_back + predict_steps])\n",
    "\n",
    "            x_window = x_data.iloc[i:i + look_back].values\n",
    "            y_window = y_data.iloc[i + look_back:i +\n",
    "                                   look_back + predict_steps].values\n",
    "\n",
    "            x_window_standardized = ProcessorFactory.get_standardize_method(\n",
    "                x_window)\n",
    "\n",
    "            x_data_multistep.append(x_window_standardized)\n",
    "            y_data_multistep.append(y_window)\n",
    "\n",
    "        return np.array(x_data_multistep), np.array(y_data_multistep), np.array(x_date), np.array(y_date)\n",
    "\n",
    "\n",
    "class Preprocessor:\n",
    "    \"\"\"\n",
    "    Fetching, processing, and preparing model data.\n",
    "    \"\"\"\n",
    "    def __init__(self, data=None, start_date=None, end_date=None):\n",
    "        self.data = data\n",
    "        self.start_date = start_date\n",
    "        self.end_date = end_date\n",
    "        self.trend_method = \"MA\"\n",
    "        self.features = []\n",
    "        self.processors = []\n",
    "\n",
    "    def set_seed(self, seed_value=42):\n",
    "        \"\"\"Set seed for reproducibility.\"\"\"\n",
    "        np.random.seed(seed_value)\n",
    "\n",
    "    def fetch_stock_data(self, stock_symbol, start_date=None, end_date=None):\n",
    "        \"\"\"Fetch stock data from Yahoo Finance.\"\"\"\n",
    "        if start_date:\n",
    "            self.start_date = start_date\n",
    "        if end_date:\n",
    "            self.end_date = end_date\n",
    "        return yf.download(stock_symbol, start=self.start_date, end=self.end_date)\n",
    "\n",
    "    def add_feature(self, feature_type, *args, **kwargs):\n",
    "        feature = FeatureFactory.get_feature(feature_type)\n",
    "        self.data = feature.compute(self.data, *args, **kwargs)\n",
    "\n",
    "    def add_data_cleaner(self, clean_type='MissingData', strategy='drop'):\n",
    "        \"\"\"Method to check and clean the data using a specific processor.\"\"\"\n",
    "        processor = ProcessorFactory.get_cleaner(clean_type)\n",
    "        issues = processor.check(self.data)\n",
    "        self.data = processor.clean(self.data, strategy=strategy)\n",
    "        return issues\n",
    "\n",
    "    def process_data(self, split_ratio=0.7, target_col=\"Trend\", feature_cols=None, look_back=64, predict_steps=16, train_slide_steps=1, test_slide_steps=16):\n",
    "        \"\"\"\n",
    "        Use ProcessorFactory to standardize and split the data, and prepare it for multi-step prediction if required.\n",
    "        \"\"\"\n",
    "        X_train, y_train, X_test, y_test = ProcessorFactory.standardize_and_split_data(\n",
    "            self.data, split_ratio, target_col, feature_cols)\n",
    "\n",
    "        if look_back and predict_steps:\n",
    "            X_train, y_train, train_dates, _ = ProcessorFactory.prepare_multistep_data(\n",
    "                X_train, y_train, look_back, predict_steps, train_slide_steps)\n",
    "            X_test, y_test, _, test_dates = ProcessorFactory.prepare_multistep_data(\n",
    "                X_test, y_test, look_back, predict_steps, test_slide_steps)\n",
    "            return X_train, y_train, X_test, y_test, train_dates, test_dates\n",
    "        else:\n",
    "            raise ValueError(\"Invalid look_back or predict_steps provided for data preparation.\")\n",
    "\n",
    "model_data = Preprocessor()\n",
    "model_data.set_seed(42)\n",
    "start_date = \"2001-01-01\"\n",
    "stop_date = \"2021-01-01\"\n",
    "stock_symbol = \"^GSPC\"\n",
    "model_data.data = model_data.fetch_stock_data(\n",
    "    stock_symbol, start_date, stop_date)"
   ]
  },
  {
   "cell_type": "code",
   "execution_count": 3,
   "metadata": {},
   "outputs": [
    {
     "name": "stderr",
     "output_type": "stream",
     "text": [
      "C:\\Users\\e4903\\AppData\\Local\\Temp\\ipykernel_18284\\172202156.py:62: SettingWithCopyWarning: \n",
      "A value is trying to be set on a copy of a slice from a DataFrame\n",
      "\n",
      "See the caveats in the documentation: https://pandas.pydata.org/pandas-docs/stable/user_guide/indexing.html#returning-a-view-versus-a-copy\n",
      "  data['Trend'].iloc[i:i + trend_days] = 0\n",
      "C:\\Users\\e4903\\AppData\\Local\\Temp\\ipykernel_18284\\172202156.py:64: SettingWithCopyWarning: \n",
      "A value is trying to be set on a copy of a slice from a DataFrame\n",
      "\n",
      "See the caveats in the documentation: https://pandas.pydata.org/pandas-docs/stable/user_guide/indexing.html#returning-a-view-versus-a-copy\n",
      "  data['Trend'].iloc[i:i + trend_days] = 1\n"
     ]
    },
    {
     "name": "stdout",
     "output_type": "stream",
     "text": [
      "[*********************100%***********************]  1 of 1 completed\n",
      "[*********************100%***********************]  1 of 1 completed\n",
      "[*********************100%***********************]  1 of 1 completed\n",
      "[*********************100%***********************]  1 of 1 completed\n"
     ]
    }
   ],
   "source": [
    "features = [\n",
    "    {\"type\": \"Trend\", \"method\": \"MA\", \"oder_days\": 20,\n",
    "        \"ma_days\": 20, \"trend_days\": 5},\n",
    "    {\"type\": \"MACD\", \"fastperiod\": 5, \"slowperiod\": 10, \"signalperiod\": 9},\n",
    "    {\"type\": \"ROC\", \"trend_days\": 5},\n",
    "    {\"type\": \"Stochastic Oscillator\", \"trend_days\": 5},\n",
    "    {\"type\": \"CCI\", \"timeperiod\": 14},\n",
    "    {\"type\": \"RSI\", \"timeperiod\": 14},\n",
    "    {\"type\": \"VMA\", \"timeperiod\": 20},\n",
    "    {\"type\": \"PctChange\"},\n",
    "    {\"type\": \"3M Treasury Yield\", \"start_date\": \"2001-01-01\", \"end_date\": \"2021-01-01\"},\n",
    "    {\"type\": \"5Y Treasury Yield\", \"start_date\": \"2001-01-01\", \"end_date\": \"2021-01-01\"},\n",
    "    {\"type\": \"10Y Treasury Yield\", \"start_date\": \"2001-01-01\", \"end_date\": \"2021-01-01\"},\n",
    "    {\"type\": \"30Y Treasury Yield\", \"start_date\": \"2001-01-01\", \"end_date\": \"2021-01-01\"},\n",
    "]  # Add other features here as needed\n",
    "\n",
    "for feature_params in features:\n",
    "    feature_type = feature_params[\"type\"]\n",
    "    model_data.add_feature(feature_type, **feature_params)"
   ]
  },
  {
   "cell_type": "code",
   "execution_count": 4,
   "metadata": {},
   "outputs": [],
   "source": [
    "issues_detected = model_data.add_data_cleaner(\"MissingData\", strategy='auto')\n"
   ]
  },
  {
   "cell_type": "code",
   "execution_count": 5,
   "metadata": {},
   "outputs": [
    {
     "data": {
      "text/plain": [
       "((3430, 64, 1), (3430, 16, 2), (90, 64, 1), (90, 16, 2))"
      ]
     },
     "execution_count": 5,
     "metadata": {},
     "output_type": "execute_result"
    }
   ],
   "source": [
    "split_ratio = 0.7\n",
    "target_col = \"Trend\"\n",
    "# feature_cols = None  # None means use all columns\n",
    "feature_cols = ['Trend']\n",
    "look_back = 64  # number of previous days' data to consider\n",
    "predict_steps = 16  # number of days to predict in the future\n",
    "slide_steps = 1  # sliding window step size\n",
    "\n",
    "X_train, y_train, X_test, y_test, train_dates, test_dates = model_data.process_data(split_ratio=0.7, target_col=\"Trend\", feature_cols=feature_cols, look_back=look_back,\n",
    "                        predict_steps=predict_steps, train_slide_steps=1, test_slide_steps=predict_steps)\n",
    "\n",
    "X_train.shape, y_train.shape, X_test.shape, y_test.shape"
   ]
  },
  {
   "cell_type": "code",
   "execution_count": 6,
   "metadata": {},
   "outputs": [],
   "source": [
    "import numpy as np\n",
    "import pandas as pd\n",
    "from keras.models import Sequential\n",
    "from keras.layers import Dense, LSTM, Conv1D, MaxPooling1D, Flatten, Reshape\n",
    "import matplotlib.pyplot as plt\n",
    "from sklearn.preprocessing import StandardScaler\n",
    "from sklearn.preprocessing import MinMaxScaler\n",
    "import yfinance as yf\n",
    "from scipy.signal import argrelextrema"
   ]
  },
  {
   "cell_type": "code",
   "execution_count": 7,
   "metadata": {},
   "outputs": [],
   "source": [
    "import numpy as np\n",
    "import tensorflow as tf\n",
    "import random\n",
    "\n",
    "def set_seed(seed_value):\n",
    "    np.random.seed(seed_value)\n",
    "    tf.random.set_seed(seed_value)\n",
    "    random.seed(seed_value)\n",
    "set_seed(42)"
   ]
  },
  {
   "cell_type": "code",
   "execution_count": 8,
   "metadata": {},
   "outputs": [
    {
     "name": "stderr",
     "output_type": "stream",
     "text": [
      "C:\\Users\\e4903\\AppData\\Local\\Temp\\ipykernel_18284\\28269160.py:1: DeprecationWarning: `import kerastuner` is deprecated, please use `import keras_tuner`.\n",
      "  from kerastuner import RandomSearch\n"
     ]
    }
   ],
   "source": [
    "from kerastuner import RandomSearch\n",
    "from keras.models import Sequential\n",
    "from keras.layers import LSTM, Dense, RepeatVector, TimeDistributed, Conv1D, MaxPooling1D, Dropout, BatchNormalization, Activation\n",
    "from keras.optimizers import Adam\n",
    "from keras import regularizers\n",
    "from keras import metrics\n",
    "\n",
    "params = {\n",
    "        'conv_1_filter': 32,\n",
    "        'conv_1_kernel': 4,\n",
    "        'conv_1_l2': 0.00016475815766673417,\n",
    "        'dropout_1': 0.2,\n",
    "        'conv_2_filter': 96,\n",
    "        'conv_2_kernel': 2,\n",
    "        'dropout_2': 0.2,\n",
    "        'lstm_1_units': 128,\n",
    "        'lstm_1_l2': 0.0002788818914602332,\n",
    "        'dropout_3': 0.2,\n",
    "        'lstm_2_units': 64,\n",
    "        'dropout_4': 0.1,\n",
    "        'learning_rate': 0.001\n",
    "    }\n",
    "\n",
    "def build_model():\n",
    "    # Parameters from the provided dictionary\n",
    "\n",
    "    model = Sequential()\n",
    "    \n",
    "    # Encoder\n",
    "    model.add(Conv1D(filters=params['conv_1_filter'],\n",
    "                     kernel_size=params['conv_1_kernel'],\n",
    "                     activation=None,\n",
    "                     padding='same',\n",
    "                     kernel_regularizer=regularizers.l2(params['conv_1_l2']),\n",
    "                     input_shape=(look_back, X_train.shape[-1])))\n",
    "    model.add(BatchNormalization())\n",
    "    model.add(Activation('relu'))\n",
    "    model.add(Dropout(params['dropout_1']))\n",
    "    model.add(MaxPooling1D(pool_size=2))\n",
    "    \n",
    "    model.add(Conv1D(filters=params['conv_2_filter'],\n",
    "                     kernel_size=params['conv_2_kernel'],\n",
    "                     activation=None))\n",
    "    model.add(BatchNormalization())\n",
    "    model.add(Activation('relu'))\n",
    "    model.add(Dropout(params['dropout_2']))\n",
    "    model.add(MaxPooling1D(pool_size=2))\n",
    "    \n",
    "    model.add(LSTM(units=params['lstm_1_units'],\n",
    "                   activation=None,\n",
    "                   return_sequences=False,\n",
    "                   kernel_regularizer=regularizers.l2(params['lstm_1_l2'])))\n",
    "    model.add(BatchNormalization())\n",
    "    model.add(Activation('tanh'))\n",
    "    model.add(Dropout(params['dropout_3']))\n",
    "    \n",
    "    # Set the desired output sequence length using RepeatVector\n",
    "    model.add(RepeatVector(predict_steps))\n",
    "    \n",
    "    # Decoder\n",
    "    model.add(LSTM(units=params['lstm_2_units'],\n",
    "                   activation=None,\n",
    "                   return_sequences=True))\n",
    "    model.add(BatchNormalization())\n",
    "    model.add(Activation('tanh'))\n",
    "    model.add(Dropout(params['dropout_4']))\n",
    "    model.add(TimeDistributed(Dense(2, activation='softmax')))\n",
    "    \n",
    "    optimizer = Adam(learning_rate=params['learning_rate'])\n",
    "    model.compile(optimizer=optimizer,\n",
    "                  loss='binary_crossentropy',\n",
    "                  metrics=[metrics.BinaryAccuracy()])\n",
    "    model.summary()\n",
    "    \n",
    "    return model\n"
   ]
  },
  {
   "cell_type": "code",
   "execution_count": 9,
   "metadata": {},
   "outputs": [
    {
     "name": "stdout",
     "output_type": "stream",
     "text": [
      "Model: \"sequential\"\n",
      "_________________________________________________________________\n",
      " Layer (type)                Output Shape              Param #   \n",
      "=================================================================\n",
      " conv1d (Conv1D)             (None, 64, 32)            160       \n",
      "                                                                 \n",
      " batch_normalization (BatchN  (None, 64, 32)           128       \n",
      " ormalization)                                                   \n",
      "                                                                 \n",
      " activation (Activation)     (None, 64, 32)            0         \n",
      "                                                                 \n",
      " dropout (Dropout)           (None, 64, 32)            0         \n",
      "                                                                 \n",
      " max_pooling1d (MaxPooling1D  (None, 32, 32)           0         \n",
      " )                                                               \n",
      "                                                                 \n",
      " conv1d_1 (Conv1D)           (None, 31, 96)            6240      \n",
      "                                                                 \n",
      " batch_normalization_1 (Batc  (None, 31, 96)           384       \n",
      " hNormalization)                                                 \n",
      "                                                                 \n",
      " activation_1 (Activation)   (None, 31, 96)            0         \n",
      "                                                                 \n",
      " dropout_1 (Dropout)         (None, 31, 96)            0         \n",
      "                                                                 \n",
      " max_pooling1d_1 (MaxPooling  (None, 15, 96)           0         \n",
      " 1D)                                                             \n",
      "                                                                 \n",
      " lstm (LSTM)                 (None, 128)               115200    \n",
      "                                                                 \n",
      " batch_normalization_2 (Batc  (None, 128)              512       \n",
      " hNormalization)                                                 \n",
      "                                                                 \n",
      " activation_2 (Activation)   (None, 128)               0         \n",
      "                                                                 \n",
      " dropout_2 (Dropout)         (None, 128)               0         \n",
      "                                                                 \n",
      " repeat_vector (RepeatVector  (None, 16, 128)          0         \n",
      " )                                                               \n",
      "                                                                 \n",
      " lstm_1 (LSTM)               (None, 16, 64)            49408     \n",
      "                                                                 \n",
      " batch_normalization_3 (Batc  (None, 16, 64)           256       \n",
      " hNormalization)                                                 \n",
      "                                                                 \n",
      " activation_3 (Activation)   (None, 16, 64)            0         \n",
      "                                                                 \n",
      " dropout_3 (Dropout)         (None, 16, 64)            0         \n",
      "                                                                 \n",
      " time_distributed (TimeDistr  (None, 16, 2)            130       \n",
      " ibuted)                                                         \n",
      "                                                                 \n",
      "=================================================================\n",
      "Total params: 172,418\n",
      "Trainable params: 171,778\n",
      "Non-trainable params: 640\n",
      "_________________________________________________________________\n",
      "Epoch 1/1000\n",
      "54/54 - 6s - loss: 0.6154 - binary_accuracy: 0.7307 - val_loss: 0.6492 - val_binary_accuracy: 0.7000 - 6s/epoch - 106ms/step\n",
      "Epoch 2/1000\n",
      "54/54 - 2s - loss: 0.5530 - binary_accuracy: 0.7700 - val_loss: 0.6193 - val_binary_accuracy: 0.7007 - 2s/epoch - 37ms/step\n",
      "Epoch 3/1000\n",
      "54/54 - 2s - loss: 0.5465 - binary_accuracy: 0.7700 - val_loss: 0.5899 - val_binary_accuracy: 0.7090 - 2s/epoch - 46ms/step\n",
      "Epoch 4/1000\n",
      "54/54 - 2s - loss: 0.5293 - binary_accuracy: 0.7781 - val_loss: 0.5704 - val_binary_accuracy: 0.7563 - 2s/epoch - 42ms/step\n",
      "Epoch 5/1000\n",
      "54/54 - 2s - loss: 0.5120 - binary_accuracy: 0.7895 - val_loss: 0.5521 - val_binary_accuracy: 0.7646 - 2s/epoch - 43ms/step\n",
      "Epoch 6/1000\n",
      "54/54 - 2s - loss: 0.5051 - binary_accuracy: 0.7888 - val_loss: 0.5540 - val_binary_accuracy: 0.7757 - 2s/epoch - 44ms/step\n",
      "Epoch 7/1000\n",
      "54/54 - 2s - loss: 0.4965 - binary_accuracy: 0.7923 - val_loss: 0.5364 - val_binary_accuracy: 0.7674 - 2s/epoch - 41ms/step\n",
      "Epoch 8/1000\n",
      "54/54 - 2s - loss: 0.4890 - binary_accuracy: 0.7968 - val_loss: 0.5457 - val_binary_accuracy: 0.7493 - 2s/epoch - 42ms/step\n",
      "Epoch 9/1000\n",
      "54/54 - 2s - loss: 0.4828 - binary_accuracy: 0.7982 - val_loss: 0.5673 - val_binary_accuracy: 0.7729 - 2s/epoch - 42ms/step\n",
      "Epoch 10/1000\n",
      "54/54 - 2s - loss: 0.4689 - binary_accuracy: 0.8017 - val_loss: 0.5786 - val_binary_accuracy: 0.7694 - 2s/epoch - 42ms/step\n",
      "Epoch 11/1000\n",
      "54/54 - 2s - loss: 0.4656 - binary_accuracy: 0.8054 - val_loss: 0.5705 - val_binary_accuracy: 0.7667 - 2s/epoch - 42ms/step\n"
     ]
    },
    {
     "data": {
      "image/png": "[encoded data removed]",
      "text/plain": [
       "<Figure size 1200x400 with 2 Axes>"
      ]
     },
     "metadata": {},
     "output_type": "display_data"
    }
   ],
   "source": [
    "from keras.callbacks import EarlyStopping\n",
    "\n",
    "# Build the model with the optimal hyperparameters\n",
    "best_model = build_model()\n",
    "\n",
    "# Compile the model with the optimal learning rate\n",
    "best_model.compile(optimizer=Adam(learning_rate=params['learning_rate']), loss='binary_crossentropy', metrics=[metrics.BinaryAccuracy()])\n",
    "\n",
    "# Initialize EarlyStopping callback\n",
    "early_stopping = EarlyStopping(monitor='val_binary_accuracy', patience=5, restore_best_weights=True)\n",
    "\n",
    "# Train the model\n",
    "history = best_model.fit(\n",
    "    X_train, y_train,\n",
    "    epochs=1000,\n",
    "    batch_size=64,\n",
    "    validation_data=(X_test, y_test),\n",
    "    callbacks=[early_stopping],  # Add early_stopping to callbacks\n",
    "    verbose=2\n",
    ")\n",
    "\n",
    "# Function to plot training curves\n",
    "def plot_training_curves(history):\n",
    "    # Plot training & validation accuracy values\n",
    "    plt.figure(figsize=(12, 4))\n",
    "    plt.subplot(1, 2, 1)\n",
    "    plt.plot(history.history['binary_accuracy'])\n",
    "    plt.plot(history.history['val_binary_accuracy'])\n",
    "    plt.title('Model binary_accuracy')\n",
    "    plt.ylabel('Accuracy')\n",
    "    plt.xlabel('Epoch')\n",
    "    plt.legend(['Train', 'Test'], loc='upper left')\n",
    "\n",
    "    # Plot training & validation loss values\n",
    "    plt.subplot(1, 2, 2)\n",
    "    plt.plot(history.history['loss'])\n",
    "    plt.plot(history.history['val_loss'])\n",
    "    plt.title('Model loss')\n",
    "    plt.ylabel('Loss')\n",
    "    plt.xlabel('Epoch')\n",
    "    plt.legend(['Train', 'Test'], loc='upper left')\n",
    "    plt.show()\n",
    "\n",
    "# Plot the training curves\n",
    "plot_training_curves(history)\n"
   ]
  },
  {
   "cell_type": "code",
   "execution_count": 10,
   "metadata": {},
   "outputs": [
    {
     "name": "stderr",
     "output_type": "stream",
     "text": [
      "  0%|          | 0/90 [00:00<?, ?it/s]"
     ]
    },
    {
     "name": "stdout",
     "output_type": "stream",
     "text": [
      "1/1 [==============================] - 0s 382ms/step\n",
      "108/108 - 3s - loss: 0.5191 - binary_accuracy: 0.7789 - val_loss: 0.1868 - val_binary_accuracy: 1.0000 - 3s/epoch - 25ms/step\n"
     ]
    },
    {
     "name": "stderr",
     "output_type": "stream",
     "text": [
      "  1%|          | 1/90 [00:03<04:38,  3.13s/it]"
     ]
    },
    {
     "name": "stdout",
     "output_type": "stream",
     "text": [
      "1/1 [==============================] - 0s 32ms/step\n",
      "108/108 - 3s - loss: 0.5115 - binary_accuracy: 0.7842 - val_loss: 0.2744 - val_binary_accuracy: 1.0000 - 3s/epoch - 25ms/step\n"
     ]
    },
    {
     "name": "stderr",
     "output_type": "stream",
     "text": [
      "  2%|▏         | 2/90 [00:05<04:19,  2.95s/it]"
     ]
    },
    {
     "name": "stdout",
     "output_type": "stream",
     "text": [
      "1/1 [==============================] - 0s 31ms/step\n",
      "108/108 - 3s - loss: 0.4979 - binary_accuracy: 0.7881 - val_loss: 0.7742 - val_binary_accuracy: 0.4375 - 3s/epoch - 25ms/step\n"
     ]
    },
    {
     "name": "stderr",
     "output_type": "stream",
     "text": [
      "  3%|▎         | 3/90 [00:08<04:08,  2.86s/it]"
     ]
    },
    {
     "name": "stdout",
     "output_type": "stream",
     "text": [
      "1/1 [==============================] - 0s 16ms/step\n",
      "108/108 - 3s - loss: 0.4865 - binary_accuracy: 0.7943 - val_loss: 0.5020 - val_binary_accuracy: 0.7500 - 3s/epoch - 24ms/step\n"
     ]
    },
    {
     "name": "stderr",
     "output_type": "stream",
     "text": [
      "  4%|▍         | 4/90 [00:11<04:00,  2.80s/it]"
     ]
    },
    {
     "name": "stdout",
     "output_type": "stream",
     "text": [
      "1/1 [==============================] - 0s 16ms/step\n",
      "108/108 - 3s - loss: 0.4771 - binary_accuracy: 0.7993 - val_loss: 0.9887 - val_binary_accuracy: 0.6875 - 3s/epoch - 26ms/step\n"
     ]
    },
    {
     "name": "stderr",
     "output_type": "stream",
     "text": [
      "  6%|▌         | 5/90 [00:14<04:00,  2.83s/it]"
     ]
    },
    {
     "name": "stdout",
     "output_type": "stream",
     "text": [
      "1/1 [==============================] - 0s 39ms/step\n",
      "108/108 - 3s - loss: 0.4704 - binary_accuracy: 0.8001 - val_loss: 2.3475 - val_binary_accuracy: 0.0000e+00 - 3s/epoch - 24ms/step\n"
     ]
    },
    {
     "name": "stderr",
     "output_type": "stream",
     "text": [
      "  7%|▋         | 6/90 [00:17<03:55,  2.81s/it]"
     ]
    },
    {
     "name": "stdout",
     "output_type": "stream",
     "text": [
      "1/1 [==============================] - 0s 7ms/step\n",
      "108/108 - 3s - loss: 0.4574 - binary_accuracy: 0.8039 - val_loss: 1.0556 - val_binary_accuracy: 0.3750 - 3s/epoch - 24ms/step\n"
     ]
    },
    {
     "name": "stderr",
     "output_type": "stream",
     "text": [
      "  8%|▊         | 7/90 [00:19<03:51,  2.79s/it]"
     ]
    },
    {
     "name": "stdout",
     "output_type": "stream",
     "text": [
      "1/1 [==============================] - 0s 31ms/step\n",
      "108/108 - 3s - loss: 0.4545 - binary_accuracy: 0.8042 - val_loss: 0.4363 - val_binary_accuracy: 0.6875 - 3s/epoch - 27ms/step\n"
     ]
    },
    {
     "name": "stderr",
     "output_type": "stream",
     "text": [
      "  9%|▉         | 8/90 [00:22<03:55,  2.87s/it]"
     ]
    },
    {
     "name": "stdout",
     "output_type": "stream",
     "text": [
      "1/1 [==============================] - 0s 27ms/step\n",
      "108/108 - 3s - loss: 0.4404 - binary_accuracy: 0.8110 - val_loss: 0.0523 - val_binary_accuracy: 1.0000 - 3s/epoch - 29ms/step\n"
     ]
    },
    {
     "name": "stderr",
     "output_type": "stream",
     "text": [
      " 10%|█         | 9/90 [00:26<04:04,  3.02s/it]"
     ]
    },
    {
     "name": "stdout",
     "output_type": "stream",
     "text": [
      "1/1 [==============================] - 0s 30ms/step\n",
      "108/108 - 3s - loss: 0.4392 - binary_accuracy: 0.8099 - val_loss: 0.2924 - val_binary_accuracy: 0.8750 - 3s/epoch - 26ms/step\n"
     ]
    },
    {
     "name": "stderr",
     "output_type": "stream",
     "text": [
      " 11%|█         | 10/90 [00:29<03:59,  3.00s/it]"
     ]
    },
    {
     "name": "stdout",
     "output_type": "stream",
     "text": [
      "1/1 [==============================] - 0s 31ms/step\n",
      "108/108 - 3s - loss: 0.4362 - binary_accuracy: 0.8136 - val_loss: 0.2900 - val_binary_accuracy: 1.0000 - 3s/epoch - 26ms/step\n"
     ]
    },
    {
     "name": "stderr",
     "output_type": "stream",
     "text": [
      " 12%|█▏        | 11/90 [00:32<03:56,  2.99s/it]"
     ]
    },
    {
     "name": "stdout",
     "output_type": "stream",
     "text": [
      "1/1 [==============================] - 0s 31ms/step\n",
      "108/108 - 3s - loss: 0.4337 - binary_accuracy: 0.8123 - val_loss: 0.2326 - val_binary_accuracy: 1.0000 - 3s/epoch - 26ms/step\n"
     ]
    },
    {
     "name": "stderr",
     "output_type": "stream",
     "text": [
      " 13%|█▎        | 12/90 [00:35<03:50,  2.96s/it]"
     ]
    },
    {
     "name": "stdout",
     "output_type": "stream",
     "text": [
      "1/1 [==============================] - 0s 24ms/step\n",
      "108/108 - 3s - loss: 0.4249 - binary_accuracy: 0.8183 - val_loss: 0.7639 - val_binary_accuracy: 0.6250 - 3s/epoch - 24ms/step\n"
     ]
    },
    {
     "name": "stderr",
     "output_type": "stream",
     "text": [
      " 14%|█▍        | 13/90 [00:37<03:43,  2.90s/it]"
     ]
    },
    {
     "name": "stdout",
     "output_type": "stream",
     "text": [
      "1/1 [==============================] - 0s 16ms/step\n",
      "108/108 - 3s - loss: 0.4113 - binary_accuracy: 0.8247 - val_loss: 0.7598 - val_binary_accuracy: 0.5000 - 3s/epoch - 24ms/step\n"
     ]
    },
    {
     "name": "stderr",
     "output_type": "stream",
     "text": [
      " 16%|█▌        | 14/90 [00:40<03:34,  2.82s/it]"
     ]
    },
    {
     "name": "stdout",
     "output_type": "stream",
     "text": [
      "1/1 [==============================] - 0s 16ms/step\n",
      "108/108 - 3s - loss: 0.4117 - binary_accuracy: 0.8244 - val_loss: 1.0112 - val_binary_accuracy: 0.3125 - 3s/epoch - 24ms/step\n"
     ]
    },
    {
     "name": "stderr",
     "output_type": "stream",
     "text": [
      " 17%|█▋        | 15/90 [00:43<03:29,  2.80s/it]"
     ]
    },
    {
     "name": "stdout",
     "output_type": "stream",
     "text": [
      "1/1 [==============================] - 0s 21ms/step\n",
      "108/108 - 3s - loss: 0.4092 - binary_accuracy: 0.8247 - val_loss: 0.3042 - val_binary_accuracy: 1.0000 - 3s/epoch - 25ms/step\n"
     ]
    },
    {
     "name": "stderr",
     "output_type": "stream",
     "text": [
      " 18%|█▊        | 16/90 [00:46<03:29,  2.83s/it]"
     ]
    },
    {
     "name": "stdout",
     "output_type": "stream",
     "text": [
      "1/1 [==============================] - 0s 20ms/step\n",
      "108/108 - 3s - loss: 0.4036 - binary_accuracy: 0.8276 - val_loss: 0.4212 - val_binary_accuracy: 0.8125 - 3s/epoch - 24ms/step\n"
     ]
    },
    {
     "name": "stderr",
     "output_type": "stream",
     "text": [
      " 19%|█▉        | 17/90 [00:48<03:24,  2.81s/it]"
     ]
    },
    {
     "name": "stdout",
     "output_type": "stream",
     "text": [
      "1/1 [==============================] - 0s 16ms/step\n",
      "108/108 - 2s - loss: 0.3958 - binary_accuracy: 0.8327 - val_loss: 0.4076 - val_binary_accuracy: 0.8750 - 2s/epoch - 23ms/step\n"
     ]
    },
    {
     "name": "stderr",
     "output_type": "stream",
     "text": [
      " 20%|██        | 18/90 [00:51<03:16,  2.73s/it]"
     ]
    },
    {
     "name": "stdout",
     "output_type": "stream",
     "text": [
      "1/1 [==============================] - 0s 16ms/step\n",
      "108/108 - 2s - loss: 0.4029 - binary_accuracy: 0.8258 - val_loss: 0.4070 - val_binary_accuracy: 0.7500 - 2s/epoch - 23ms/step\n"
     ]
    },
    {
     "name": "stderr",
     "output_type": "stream",
     "text": [
      " 21%|██        | 19/90 [00:53<03:10,  2.69s/it]"
     ]
    },
    {
     "name": "stdout",
     "output_type": "stream",
     "text": [
      "1/1 [==============================] - 0s 11ms/step\n",
      "108/108 - 3s - loss: 0.4028 - binary_accuracy: 0.8287 - val_loss: 1.7911 - val_binary_accuracy: 0.3125 - 3s/epoch - 24ms/step\n"
     ]
    },
    {
     "name": "stderr",
     "output_type": "stream",
     "text": [
      " 22%|██▏       | 20/90 [00:56<03:08,  2.69s/it]"
     ]
    },
    {
     "name": "stdout",
     "output_type": "stream",
     "text": [
      "1/1 [==============================] - 0s 31ms/step\n",
      "108/108 - 3s - loss: 0.3912 - binary_accuracy: 0.8330 - val_loss: 0.0304 - val_binary_accuracy: 1.0000 - 3s/epoch - 25ms/step\n"
     ]
    },
    {
     "name": "stderr",
     "output_type": "stream",
     "text": [
      " 23%|██▎       | 21/90 [00:59<03:09,  2.74s/it]"
     ]
    },
    {
     "name": "stdout",
     "output_type": "stream",
     "text": [
      "1/1 [==============================] - 0s 16ms/step\n",
      "108/108 - 3s - loss: 0.3801 - binary_accuracy: 0.8368 - val_loss: 0.0292 - val_binary_accuracy: 1.0000 - 3s/epoch - 25ms/step\n"
     ]
    },
    {
     "name": "stderr",
     "output_type": "stream",
     "text": [
      " 24%|██▍       | 22/90 [01:02<03:08,  2.77s/it]"
     ]
    },
    {
     "name": "stdout",
     "output_type": "stream",
     "text": [
      "1/1 [==============================] - 0s 16ms/step\n",
      "108/108 - 3s - loss: 0.3799 - binary_accuracy: 0.8394 - val_loss: 3.0379 - val_binary_accuracy: 0.0625 - 3s/epoch - 25ms/step\n"
     ]
    },
    {
     "name": "stderr",
     "output_type": "stream",
     "text": [
      " 26%|██▌       | 23/90 [01:05<03:07,  2.80s/it]"
     ]
    },
    {
     "name": "stdout",
     "output_type": "stream",
     "text": [
      "1/1 [==============================] - 0s 31ms/step\n",
      "108/108 - 3s - loss: 0.3813 - binary_accuracy: 0.8371 - val_loss: 0.5604 - val_binary_accuracy: 0.7500 - 3s/epoch - 26ms/step\n"
     ]
    },
    {
     "name": "stderr",
     "output_type": "stream",
     "text": [
      " 27%|██▋       | 24/90 [01:08<03:07,  2.84s/it]"
     ]
    },
    {
     "name": "stdout",
     "output_type": "stream",
     "text": [
      "1/1 [==============================] - 0s 31ms/step\n",
      "108/108 - 3s - loss: 0.3806 - binary_accuracy: 0.8379 - val_loss: 0.4036 - val_binary_accuracy: 0.7500 - 3s/epoch - 26ms/step\n"
     ]
    },
    {
     "name": "stderr",
     "output_type": "stream",
     "text": [
      " 28%|██▊       | 25/90 [01:11<03:05,  2.86s/it]"
     ]
    },
    {
     "name": "stdout",
     "output_type": "stream",
     "text": [
      "1/1 [==============================] - 0s 16ms/step\n",
      "108/108 - 3s - loss: 0.3701 - binary_accuracy: 0.8396 - val_loss: 0.0240 - val_binary_accuracy: 1.0000 - 3s/epoch - 26ms/step\n"
     ]
    },
    {
     "name": "stderr",
     "output_type": "stream",
     "text": [
      " 29%|██▉       | 26/90 [01:14<03:04,  2.88s/it]"
     ]
    },
    {
     "name": "stdout",
     "output_type": "stream",
     "text": [
      "1/1 [==============================] - 0s 31ms/step\n",
      "109/109 - 3s - loss: 0.3632 - binary_accuracy: 0.8439 - val_loss: 0.5232 - val_binary_accuracy: 0.7500 - 3s/epoch - 27ms/step\n"
     ]
    },
    {
     "name": "stderr",
     "output_type": "stream",
     "text": [
      " 30%|███       | 27/90 [01:17<03:04,  2.92s/it]"
     ]
    },
    {
     "name": "stdout",
     "output_type": "stream",
     "text": [
      "1/1 [==============================] - 0s 16ms/step\n",
      "109/109 - 3s - loss: 0.3703 - binary_accuracy: 0.8409 - val_loss: 0.1080 - val_binary_accuracy: 1.0000 - 3s/epoch - 26ms/step\n"
     ]
    },
    {
     "name": "stderr",
     "output_type": "stream",
     "text": [
      " 31%|███       | 28/90 [01:19<03:01,  2.93s/it]"
     ]
    },
    {
     "name": "stdout",
     "output_type": "stream",
     "text": [
      "1/1 [==============================] - 0s 31ms/step\n",
      "109/109 - 3s - loss: 0.3748 - binary_accuracy: 0.8422 - val_loss: 0.1974 - val_binary_accuracy: 1.0000 - 3s/epoch - 26ms/step\n"
     ]
    },
    {
     "name": "stderr",
     "output_type": "stream",
     "text": [
      " 32%|███▏      | 29/90 [01:22<02:59,  2.94s/it]"
     ]
    },
    {
     "name": "stdout",
     "output_type": "stream",
     "text": [
      "1/1 [==============================] - 0s 31ms/step\n",
      "109/109 - 3s - loss: 0.3769 - binary_accuracy: 0.8380 - val_loss: 0.2187 - val_binary_accuracy: 1.0000 - 3s/epoch - 26ms/step\n"
     ]
    },
    {
     "name": "stderr",
     "output_type": "stream",
     "text": [
      " 33%|███▎      | 30/90 [01:25<02:55,  2.92s/it]"
     ]
    },
    {
     "name": "stdout",
     "output_type": "stream",
     "text": [
      "1/1 [==============================] - 0s 16ms/step\n",
      "109/109 - 3s - loss: 0.3693 - binary_accuracy: 0.8417 - val_loss: 1.1041 - val_binary_accuracy: 0.3125 - 3s/epoch - 27ms/step\n"
     ]
    },
    {
     "name": "stderr",
     "output_type": "stream",
     "text": [
      " 34%|███▍      | 31/90 [01:28<02:53,  2.95s/it]"
     ]
    },
    {
     "name": "stdout",
     "output_type": "stream",
     "text": [
      "1/1 [==============================] - 0s 16ms/step\n",
      "109/109 - 3s - loss: 0.3685 - binary_accuracy: 0.8406 - val_loss: 0.4929 - val_binary_accuracy: 0.7500 - 3s/epoch - 29ms/step\n"
     ]
    },
    {
     "name": "stderr",
     "output_type": "stream",
     "text": [
      " 36%|███▌      | 32/90 [01:32<02:56,  3.04s/it]"
     ]
    },
    {
     "name": "stdout",
     "output_type": "stream",
     "text": [
      "1/1 [==============================] - 0s 16ms/step\n",
      "109/109 - 3s - loss: 0.3656 - binary_accuracy: 0.8439 - val_loss: 0.1390 - val_binary_accuracy: 1.0000 - 3s/epoch - 30ms/step\n"
     ]
    },
    {
     "name": "stderr",
     "output_type": "stream",
     "text": [
      " 37%|███▋      | 33/90 [01:35<03:00,  3.17s/it]"
     ]
    },
    {
     "name": "stdout",
     "output_type": "stream",
     "text": [
      "1/1 [==============================] - 0s 31ms/step\n",
      "109/109 - 3s - loss: 0.3565 - binary_accuracy: 0.8465 - val_loss: 0.0843 - val_binary_accuracy: 1.0000 - 3s/epoch - 24ms/step\n"
     ]
    },
    {
     "name": "stderr",
     "output_type": "stream",
     "text": [
      " 38%|███▊      | 34/90 [01:38<02:49,  3.03s/it]"
     ]
    },
    {
     "name": "stdout",
     "output_type": "stream",
     "text": [
      "1/1 [==============================] - 0s 16ms/step\n",
      "109/109 - 3s - loss: 0.3542 - binary_accuracy: 0.8475 - val_loss: 0.3573 - val_binary_accuracy: 0.8125 - 3s/epoch - 25ms/step\n"
     ]
    },
    {
     "name": "stderr",
     "output_type": "stream",
     "text": [
      " 39%|███▉      | 35/90 [01:41<02:44,  2.99s/it]"
     ]
    },
    {
     "name": "stdout",
     "output_type": "stream",
     "text": [
      "1/1 [==============================] - 0s 16ms/step\n",
      "109/109 - 3s - loss: 0.3475 - binary_accuracy: 0.8523 - val_loss: 1.2465 - val_binary_accuracy: 0.2500 - 3s/epoch - 27ms/step\n"
     ]
    },
    {
     "name": "stderr",
     "output_type": "stream",
     "text": [
      " 40%|████      | 36/90 [01:44<02:41,  2.99s/it]"
     ]
    },
    {
     "name": "stdout",
     "output_type": "stream",
     "text": [
      "1/1 [==============================] - 0s 31ms/step\n",
      "109/109 - 3s - loss: 0.3488 - binary_accuracy: 0.8524 - val_loss: 0.2167 - val_binary_accuracy: 0.8750 - 3s/epoch - 27ms/step\n"
     ]
    },
    {
     "name": "stderr",
     "output_type": "stream",
     "text": [
      " 41%|████      | 37/90 [01:47<02:38,  3.00s/it]"
     ]
    },
    {
     "name": "stdout",
     "output_type": "stream",
     "text": [
      "1/1 [==============================] - 0s 16ms/step\n",
      "109/109 - 3s - loss: 0.3527 - binary_accuracy: 0.8483 - val_loss: 0.2104 - val_binary_accuracy: 0.9375 - 3s/epoch - 26ms/step\n"
     ]
    },
    {
     "name": "stderr",
     "output_type": "stream",
     "text": [
      " 42%|████▏     | 38/90 [01:50<02:35,  3.00s/it]"
     ]
    },
    {
     "name": "stdout",
     "output_type": "stream",
     "text": [
      "1/1 [==============================] - 0s 16ms/step\n",
      "109/109 - 3s - loss: 0.3528 - binary_accuracy: 0.8475 - val_loss: 0.0486 - val_binary_accuracy: 1.0000 - 3s/epoch - 27ms/step\n"
     ]
    },
    {
     "name": "stderr",
     "output_type": "stream",
     "text": [
      " 43%|████▎     | 39/90 [01:53<02:34,  3.02s/it]"
     ]
    },
    {
     "name": "stdout",
     "output_type": "stream",
     "text": [
      "1/1 [==============================] - 0s 16ms/step\n",
      "109/109 - 3s - loss: 0.3537 - binary_accuracy: 0.8477 - val_loss: 0.0187 - val_binary_accuracy: 1.0000 - 3s/epoch - 27ms/step\n"
     ]
    },
    {
     "name": "stderr",
     "output_type": "stream",
     "text": [
      " 44%|████▍     | 40/90 [01:56<02:31,  3.03s/it]"
     ]
    },
    {
     "name": "stdout",
     "output_type": "stream",
     "text": [
      "1/1 [==============================] - 0s 31ms/step\n",
      "109/109 - 3s - loss: 0.3478 - binary_accuracy: 0.8518 - val_loss: 0.4182 - val_binary_accuracy: 1.0000 - 3s/epoch - 26ms/step\n"
     ]
    },
    {
     "name": "stderr",
     "output_type": "stream",
     "text": [
      " 46%|████▌     | 41/90 [01:59<02:27,  3.02s/it]"
     ]
    },
    {
     "name": "stdout",
     "output_type": "stream",
     "text": [
      "1/1 [==============================] - 0s 31ms/step\n",
      "109/109 - 3s - loss: 0.3467 - binary_accuracy: 0.8492 - val_loss: 0.1934 - val_binary_accuracy: 1.0000 - 3s/epoch - 26ms/step\n"
     ]
    },
    {
     "name": "stderr",
     "output_type": "stream",
     "text": [
      " 47%|████▋     | 42/90 [02:02<02:24,  3.00s/it]"
     ]
    },
    {
     "name": "stdout",
     "output_type": "stream",
     "text": [
      "1/1 [==============================] - 0s 16ms/step\n",
      "109/109 - 3s - loss: 0.3342 - binary_accuracy: 0.8556 - val_loss: 0.2407 - val_binary_accuracy: 1.0000 - 3s/epoch - 26ms/step\n"
     ]
    },
    {
     "name": "stderr",
     "output_type": "stream",
     "text": [
      " 48%|████▊     | 43/90 [02:05<02:20,  2.99s/it]"
     ]
    },
    {
     "name": "stdout",
     "output_type": "stream",
     "text": [
      "1/1 [==============================] - 0s 31ms/step\n",
      "109/109 - 3s - loss: 0.3385 - binary_accuracy: 0.8547 - val_loss: 0.2468 - val_binary_accuracy: 1.0000 - 3s/epoch - 26ms/step\n"
     ]
    },
    {
     "name": "stderr",
     "output_type": "stream",
     "text": [
      " 49%|████▉     | 44/90 [02:08<02:17,  2.98s/it]"
     ]
    },
    {
     "name": "stdout",
     "output_type": "stream",
     "text": [
      "1/1 [==============================] - 0s 16ms/step\n",
      "109/109 - 3s - loss: 0.3300 - binary_accuracy: 0.8590 - val_loss: 1.4354 - val_binary_accuracy: 0.1250 - 3s/epoch - 26ms/step\n"
     ]
    },
    {
     "name": "stderr",
     "output_type": "stream",
     "text": [
      " 50%|█████     | 45/90 [02:11<02:13,  2.97s/it]"
     ]
    },
    {
     "name": "stdout",
     "output_type": "stream",
     "text": [
      "1/1 [==============================] - 0s 16ms/step\n",
      "109/109 - 3s - loss: 0.3242 - binary_accuracy: 0.8585 - val_loss: 0.3695 - val_binary_accuracy: 0.8750 - 3s/epoch - 26ms/step\n"
     ]
    },
    {
     "name": "stderr",
     "output_type": "stream",
     "text": [
      " 51%|█████     | 46/90 [02:14<02:09,  2.95s/it]"
     ]
    },
    {
     "name": "stdout",
     "output_type": "stream",
     "text": [
      "1/1 [==============================] - 0s 16ms/step\n",
      "109/109 - 3s - loss: 0.3310 - binary_accuracy: 0.8578 - val_loss: 2.5335 - val_binary_accuracy: 0.1250 - 3s/epoch - 27ms/step\n"
     ]
    },
    {
     "name": "stderr",
     "output_type": "stream",
     "text": [
      " 52%|█████▏    | 47/90 [02:17<02:07,  2.97s/it]"
     ]
    },
    {
     "name": "stdout",
     "output_type": "stream",
     "text": [
      "1/1 [==============================] - 0s 16ms/step\n",
      "109/109 - 3s - loss: 0.3399 - binary_accuracy: 0.8519 - val_loss: 0.7141 - val_binary_accuracy: 0.8125 - 3s/epoch - 27ms/step\n"
     ]
    },
    {
     "name": "stderr",
     "output_type": "stream",
     "text": [
      " 53%|█████▎    | 48/90 [02:20<02:05,  2.99s/it]"
     ]
    },
    {
     "name": "stdout",
     "output_type": "stream",
     "text": [
      "1/1 [==============================] - 0s 35ms/step\n",
      "109/109 - 3s - loss: 0.3305 - binary_accuracy: 0.8574 - val_loss: 0.0394 - val_binary_accuracy: 1.0000 - 3s/epoch - 27ms/step\n"
     ]
    },
    {
     "name": "stderr",
     "output_type": "stream",
     "text": [
      " 54%|█████▍    | 49/90 [02:23<02:03,  3.02s/it]"
     ]
    },
    {
     "name": "stdout",
     "output_type": "stream",
     "text": [
      "1/1 [==============================] - 0s 16ms/step\n",
      "109/109 - 3s - loss: 0.3295 - binary_accuracy: 0.8594 - val_loss: 0.0968 - val_binary_accuracy: 1.0000 - 3s/epoch - 27ms/step\n"
     ]
    },
    {
     "name": "stderr",
     "output_type": "stream",
     "text": [
      " 56%|█████▌    | 50/90 [02:26<02:01,  3.03s/it]"
     ]
    },
    {
     "name": "stdout",
     "output_type": "stream",
     "text": [
      "1/1 [==============================] - 0s 16ms/step\n",
      "109/109 - 3s - loss: 0.3277 - binary_accuracy: 0.8592 - val_loss: 0.3133 - val_binary_accuracy: 0.8750 - 3s/epoch - 28ms/step\n"
     ]
    },
    {
     "name": "stderr",
     "output_type": "stream",
     "text": [
      " 57%|█████▋    | 51/90 [02:29<01:59,  3.06s/it]"
     ]
    },
    {
     "name": "stdout",
     "output_type": "stream",
     "text": [
      "1/1 [==============================] - 0s 32ms/step\n",
      "109/109 - 3s - loss: 0.3347 - binary_accuracy: 0.8544 - val_loss: 0.0496 - val_binary_accuracy: 1.0000 - 3s/epoch - 28ms/step\n"
     ]
    },
    {
     "name": "stderr",
     "output_type": "stream",
     "text": [
      " 58%|█████▊    | 52/90 [02:32<01:57,  3.09s/it]"
     ]
    },
    {
     "name": "stdout",
     "output_type": "stream",
     "text": [
      "1/1 [==============================] - 0s 31ms/step\n",
      "109/109 - 3s - loss: 0.3294 - binary_accuracy: 0.8602 - val_loss: 0.0236 - val_binary_accuracy: 1.0000 - 3s/epoch - 28ms/step\n"
     ]
    },
    {
     "name": "stderr",
     "output_type": "stream",
     "text": [
      " 59%|█████▉    | 53/90 [02:35<01:54,  3.10s/it]"
     ]
    },
    {
     "name": "stdout",
     "output_type": "stream",
     "text": [
      "1/1 [==============================] - 0s 31ms/step\n",
      "109/109 - 3s - loss: 0.3239 - binary_accuracy: 0.8610 - val_loss: 0.3523 - val_binary_accuracy: 0.8125 - 3s/epoch - 27ms/step\n"
     ]
    },
    {
     "name": "stderr",
     "output_type": "stream",
     "text": [
      " 60%|██████    | 54/90 [02:38<01:51,  3.09s/it]"
     ]
    },
    {
     "name": "stdout",
     "output_type": "stream",
     "text": [
      "1/1 [==============================] - 0s 31ms/step\n",
      "109/109 - 3s - loss: 0.3213 - binary_accuracy: 0.8602 - val_loss: 1.0865 - val_binary_accuracy: 0.8125 - 3s/epoch - 27ms/step\n"
     ]
    },
    {
     "name": "stderr",
     "output_type": "stream",
     "text": [
      " 61%|██████    | 55/90 [02:41<01:47,  3.08s/it]"
     ]
    },
    {
     "name": "stdout",
     "output_type": "stream",
     "text": [
      "1/1 [==============================] - 0s 31ms/step\n",
      "109/109 - 3s - loss: 0.3256 - binary_accuracy: 0.8602 - val_loss: 0.4147 - val_binary_accuracy: 0.8125 - 3s/epoch - 28ms/step\n"
     ]
    },
    {
     "name": "stderr",
     "output_type": "stream",
     "text": [
      " 62%|██████▏   | 56/90 [02:44<01:46,  3.12s/it]"
     ]
    },
    {
     "name": "stdout",
     "output_type": "stream",
     "text": [
      "1/1 [==============================] - 0s 24ms/step\n",
      "109/109 - 3s - loss: 0.3211 - binary_accuracy: 0.8609 - val_loss: 0.6992 - val_binary_accuracy: 0.4375 - 3s/epoch - 28ms/step\n"
     ]
    },
    {
     "name": "stderr",
     "output_type": "stream",
     "text": [
      " 63%|██████▎   | 57/90 [02:48<01:43,  3.14s/it]"
     ]
    },
    {
     "name": "stdout",
     "output_type": "stream",
     "text": [
      "1/1 [==============================] - 0s 31ms/step\n",
      "109/109 - 3s - loss: 0.3272 - binary_accuracy: 0.8592 - val_loss: 0.2396 - val_binary_accuracy: 0.9375 - 3s/epoch - 28ms/step\n"
     ]
    },
    {
     "name": "stderr",
     "output_type": "stream",
     "text": [
      " 64%|██████▍   | 58/90 [02:51<01:40,  3.13s/it]"
     ]
    },
    {
     "name": "stdout",
     "output_type": "stream",
     "text": [
      "1/1 [==============================] - 0s 31ms/step\n",
      "110/110 - 3s - loss: 0.3195 - binary_accuracy: 0.8647 - val_loss: 1.7467 - val_binary_accuracy: 0.5000 - 3s/epoch - 27ms/step\n"
     ]
    },
    {
     "name": "stderr",
     "output_type": "stream",
     "text": [
      " 66%|██████▌   | 59/90 [02:54<01:36,  3.13s/it]"
     ]
    },
    {
     "name": "stdout",
     "output_type": "stream",
     "text": [
      "1/1 [==============================] - 0s 31ms/step\n",
      "110/110 - 3s - loss: 0.3250 - binary_accuracy: 0.8595 - val_loss: 0.0319 - val_binary_accuracy: 1.0000 - 3s/epoch - 27ms/step\n"
     ]
    },
    {
     "name": "stderr",
     "output_type": "stream",
     "text": [
      " 67%|██████▋   | 60/90 [02:57<01:33,  3.11s/it]"
     ]
    },
    {
     "name": "stdout",
     "output_type": "stream",
     "text": [
      "1/1 [==============================] - 0s 16ms/step\n",
      "110/110 - 3s - loss: 0.3225 - binary_accuracy: 0.8613 - val_loss: 0.0218 - val_binary_accuracy: 1.0000 - 3s/epoch - 26ms/step\n"
     ]
    },
    {
     "name": "stderr",
     "output_type": "stream",
     "text": [
      " 68%|██████▊   | 61/90 [03:00<01:29,  3.09s/it]"
     ]
    },
    {
     "name": "stdout",
     "output_type": "stream",
     "text": [
      "1/1 [==============================] - 0s 16ms/step\n",
      "110/110 - 3s - loss: 0.3270 - binary_accuracy: 0.8589 - val_loss: 0.8197 - val_binary_accuracy: 0.5000 - 3s/epoch - 26ms/step\n"
     ]
    },
    {
     "name": "stderr",
     "output_type": "stream",
     "text": [
      " 69%|██████▉   | 62/90 [03:03<01:25,  3.07s/it]"
     ]
    },
    {
     "name": "stdout",
     "output_type": "stream",
     "text": [
      "1/1 [==============================] - 0s 31ms/step\n",
      "110/110 - 3s - loss: 0.3555 - binary_accuracy: 0.8466 - val_loss: 0.1522 - val_binary_accuracy: 1.0000 - 3s/epoch - 27ms/step\n"
     ]
    },
    {
     "name": "stderr",
     "output_type": "stream",
     "text": [
      " 70%|███████   | 63/90 [03:06<01:22,  3.06s/it]"
     ]
    },
    {
     "name": "stdout",
     "output_type": "stream",
     "text": [
      "1/1 [==============================] - 0s 31ms/step\n",
      "110/110 - 3s - loss: 0.3243 - binary_accuracy: 0.8622 - val_loss: 0.3566 - val_binary_accuracy: 0.8750 - 3s/epoch - 26ms/step\n"
     ]
    },
    {
     "name": "stderr",
     "output_type": "stream",
     "text": [
      " 71%|███████   | 64/90 [03:09<01:18,  3.03s/it]"
     ]
    },
    {
     "name": "stdout",
     "output_type": "stream",
     "text": [
      "1/1 [==============================] - 0s 31ms/step\n",
      "110/110 - 3s - loss: 0.3267 - binary_accuracy: 0.8618 - val_loss: 0.3316 - val_binary_accuracy: 0.9375 - 3s/epoch - 26ms/step\n"
     ]
    },
    {
     "name": "stderr",
     "output_type": "stream",
     "text": [
      " 72%|███████▏  | 65/90 [03:12<01:15,  3.03s/it]"
     ]
    },
    {
     "name": "stdout",
     "output_type": "stream",
     "text": [
      "1/1 [==============================] - 0s 31ms/step\n",
      "110/110 - 3s - loss: 0.3212 - binary_accuracy: 0.8615 - val_loss: 0.5525 - val_binary_accuracy: 0.8125 - 3s/epoch - 28ms/step\n"
     ]
    },
    {
     "name": "stderr",
     "output_type": "stream",
     "text": [
      " 73%|███████▎  | 66/90 [03:15<01:14,  3.08s/it]"
     ]
    },
    {
     "name": "stdout",
     "output_type": "stream",
     "text": [
      "1/1 [==============================] - 0s 31ms/step\n",
      "110/110 - 3s - loss: 0.3159 - binary_accuracy: 0.8644 - val_loss: 0.1055 - val_binary_accuracy: 1.0000 - 3s/epoch - 28ms/step\n"
     ]
    },
    {
     "name": "stderr",
     "output_type": "stream",
     "text": [
      " 74%|███████▍  | 67/90 [03:18<01:12,  3.14s/it]"
     ]
    },
    {
     "name": "stdout",
     "output_type": "stream",
     "text": [
      "1/1 [==============================] - 0s 31ms/step\n",
      "110/110 - 3s - loss: 0.3081 - binary_accuracy: 0.8674 - val_loss: 0.9276 - val_binary_accuracy: 0.5000 - 3s/epoch - 30ms/step\n"
     ]
    },
    {
     "name": "stderr",
     "output_type": "stream",
     "text": [
      " 76%|███████▌  | 68/90 [03:22<01:11,  3.23s/it]"
     ]
    },
    {
     "name": "stdout",
     "output_type": "stream",
     "text": [
      "1/1 [==============================] - 0s 16ms/step\n",
      "110/110 - 3s - loss: 0.3132 - binary_accuracy: 0.8645 - val_loss: 0.4838 - val_binary_accuracy: 0.8750 - 3s/epoch - 29ms/step\n"
     ]
    },
    {
     "name": "stderr",
     "output_type": "stream",
     "text": [
      " 77%|███████▋  | 69/90 [03:25<01:08,  3.25s/it]"
     ]
    },
    {
     "name": "stdout",
     "output_type": "stream",
     "text": [
      "1/1 [==============================] - 0s 16ms/step\n",
      "110/110 - 3s - loss: 0.3127 - binary_accuracy: 0.8665 - val_loss: 0.1894 - val_binary_accuracy: 0.9375 - 3s/epoch - 29ms/step\n"
     ]
    },
    {
     "name": "stderr",
     "output_type": "stream",
     "text": [
      " 78%|███████▊  | 70/90 [03:29<01:05,  3.26s/it]"
     ]
    },
    {
     "name": "stdout",
     "output_type": "stream",
     "text": [
      "1/1 [==============================] - 0s 31ms/step\n",
      "110/110 - 3s - loss: 0.3119 - binary_accuracy: 0.8671 - val_loss: 2.9402 - val_binary_accuracy: 0.1875 - 3s/epoch - 29ms/step\n"
     ]
    },
    {
     "name": "stderr",
     "output_type": "stream",
     "text": [
      " 79%|███████▉  | 71/90 [03:32<01:02,  3.27s/it]"
     ]
    },
    {
     "name": "stdout",
     "output_type": "stream",
     "text": [
      "1/1 [==============================] - 0s 23ms/step\n",
      "110/110 - 3s - loss: 0.3149 - binary_accuracy: 0.8632 - val_loss: 3.9234 - val_binary_accuracy: 0.0000e+00 - 3s/epoch - 28ms/step\n"
     ]
    },
    {
     "name": "stderr",
     "output_type": "stream",
     "text": [
      " 80%|████████  | 72/90 [03:35<00:58,  3.25s/it]"
     ]
    },
    {
     "name": "stdout",
     "output_type": "stream",
     "text": [
      "1/1 [==============================] - 0s 47ms/step\n",
      "110/110 - 3s - loss: 0.3115 - binary_accuracy: 0.8657 - val_loss: 0.0177 - val_binary_accuracy: 1.0000 - 3s/epoch - 27ms/step\n"
     ]
    },
    {
     "name": "stderr",
     "output_type": "stream",
     "text": [
      " 81%|████████  | 73/90 [03:38<00:54,  3.23s/it]"
     ]
    },
    {
     "name": "stdout",
     "output_type": "stream",
     "text": [
      "1/1 [==============================] - 0s 25ms/step\n",
      "110/110 - 3s - loss: 0.3041 - binary_accuracy: 0.8701 - val_loss: 0.0138 - val_binary_accuracy: 1.0000 - 3s/epoch - 27ms/step\n"
     ]
    },
    {
     "name": "stderr",
     "output_type": "stream",
     "text": [
      " 82%|████████▏ | 74/90 [03:41<00:51,  3.20s/it]"
     ]
    },
    {
     "name": "stdout",
     "output_type": "stream",
     "text": [
      "1/1 [==============================] - 0s 26ms/step\n",
      "110/110 - 3s - loss: 0.3146 - binary_accuracy: 0.8646 - val_loss: 0.0154 - val_binary_accuracy: 1.0000 - 3s/epoch - 28ms/step\n"
     ]
    },
    {
     "name": "stderr",
     "output_type": "stream",
     "text": [
      " 83%|████████▎ | 75/90 [03:45<00:48,  3.20s/it]"
     ]
    },
    {
     "name": "stdout",
     "output_type": "stream",
     "text": [
      "1/1 [==============================] - 0s 30ms/step\n",
      "110/110 - 3s - loss: 0.3033 - binary_accuracy: 0.8692 - val_loss: 0.2542 - val_binary_accuracy: 1.0000 - 3s/epoch - 29ms/step\n"
     ]
    },
    {
     "name": "stderr",
     "output_type": "stream",
     "text": [
      " 84%|████████▍ | 76/90 [03:48<00:45,  3.23s/it]"
     ]
    },
    {
     "name": "stdout",
     "output_type": "stream",
     "text": [
      "1/1 [==============================] - 0s 39ms/step\n",
      "110/110 - 3s - loss: 0.3086 - binary_accuracy: 0.8656 - val_loss: 1.0141 - val_binary_accuracy: 0.3125 - 3s/epoch - 27ms/step\n"
     ]
    },
    {
     "name": "stderr",
     "output_type": "stream",
     "text": [
      " 86%|████████▌ | 77/90 [03:51<00:41,  3.21s/it]"
     ]
    },
    {
     "name": "stdout",
     "output_type": "stream",
     "text": [
      "1/1 [==============================] - 0s 31ms/step\n",
      "110/110 - 3s - loss: 0.3200 - binary_accuracy: 0.8628 - val_loss: 0.7818 - val_binary_accuracy: 0.5000 - 3s/epoch - 28ms/step\n"
     ]
    },
    {
     "name": "stderr",
     "output_type": "stream",
     "text": [
      " 87%|████████▋ | 78/90 [03:54<00:38,  3.19s/it]"
     ]
    },
    {
     "name": "stdout",
     "output_type": "stream",
     "text": [
      "1/1 [==============================] - 0s 31ms/step\n",
      "110/110 - 3s - loss: 0.3042 - binary_accuracy: 0.8691 - val_loss: 0.9515 - val_binary_accuracy: 0.3125 - 3s/epoch - 27ms/step\n"
     ]
    },
    {
     "name": "stderr",
     "output_type": "stream",
     "text": [
      " 88%|████████▊ | 79/90 [03:57<00:34,  3.17s/it]"
     ]
    },
    {
     "name": "stdout",
     "output_type": "stream",
     "text": [
      "1/1 [==============================] - 0s 31ms/step\n",
      "110/110 - 3s - loss: 0.3053 - binary_accuracy: 0.8684 - val_loss: 0.0146 - val_binary_accuracy: 1.0000 - 3s/epoch - 28ms/step\n"
     ]
    },
    {
     "name": "stderr",
     "output_type": "stream",
     "text": [
      " 89%|████████▉ | 80/90 [04:00<00:31,  3.17s/it]"
     ]
    },
    {
     "name": "stdout",
     "output_type": "stream",
     "text": [
      "1/1 [==============================] - 0s 31ms/step\n",
      "110/110 - 3s - loss: 0.3023 - binary_accuracy: 0.8702 - val_loss: 0.3654 - val_binary_accuracy: 0.7500 - 3s/epoch - 28ms/step\n"
     ]
    },
    {
     "name": "stderr",
     "output_type": "stream",
     "text": [
      " 90%|█████████ | 81/90 [04:04<00:28,  3.17s/it]"
     ]
    },
    {
     "name": "stdout",
     "output_type": "stream",
     "text": [
      "1/1 [==============================] - 0s 31ms/step\n",
      "110/110 - 3s - loss: 0.3036 - binary_accuracy: 0.8671 - val_loss: 0.1697 - val_binary_accuracy: 1.0000 - 3s/epoch - 28ms/step\n"
     ]
    },
    {
     "name": "stderr",
     "output_type": "stream",
     "text": [
      " 91%|█████████ | 82/90 [04:07<00:25,  3.17s/it]"
     ]
    },
    {
     "name": "stdout",
     "output_type": "stream",
     "text": [
      "1/1 [==============================] - 0s 31ms/step\n",
      "110/110 - 3s - loss: 0.3075 - binary_accuracy: 0.8677 - val_loss: 0.7360 - val_binary_accuracy: 0.7500 - 3s/epoch - 28ms/step\n"
     ]
    },
    {
     "name": "stderr",
     "output_type": "stream",
     "text": [
      " 92%|█████████▏| 83/90 [04:10<00:22,  3.16s/it]"
     ]
    },
    {
     "name": "stdout",
     "output_type": "stream",
     "text": [
      "1/1 [==============================] - 0s 31ms/step\n",
      "110/110 - 3s - loss: 0.3058 - binary_accuracy: 0.8666 - val_loss: 0.3044 - val_binary_accuracy: 0.8750 - 3s/epoch - 27ms/step\n"
     ]
    },
    {
     "name": "stderr",
     "output_type": "stream",
     "text": [
      " 93%|█████████▎| 84/90 [04:13<00:18,  3.16s/it]"
     ]
    },
    {
     "name": "stdout",
     "output_type": "stream",
     "text": [
      "1/1 [==============================] - 0s 32ms/step\n",
      "110/110 - 3s - loss: 0.3016 - binary_accuracy: 0.8695 - val_loss: 0.0186 - val_binary_accuracy: 1.0000 - 3s/epoch - 28ms/step\n"
     ]
    },
    {
     "name": "stderr",
     "output_type": "stream",
     "text": [
      " 94%|█████████▍| 85/90 [04:16<00:15,  3.18s/it]"
     ]
    },
    {
     "name": "stdout",
     "output_type": "stream",
     "text": [
      "1/1 [==============================] - 0s 31ms/step\n",
      "110/110 - 3s - loss: 0.2965 - binary_accuracy: 0.8716 - val_loss: 4.1018 - val_binary_accuracy: 0.2500 - 3s/epoch - 28ms/step\n"
     ]
    },
    {
     "name": "stderr",
     "output_type": "stream",
     "text": [
      " 96%|█████████▌| 86/90 [04:19<00:12,  3.17s/it]"
     ]
    },
    {
     "name": "stdout",
     "output_type": "stream",
     "text": [
      "1/1 [==============================] - 0s 16ms/step\n",
      "110/110 - 3s - loss: 0.3188 - binary_accuracy: 0.8629 - val_loss: 0.5343 - val_binary_accuracy: 0.8750 - 3s/epoch - 27ms/step\n"
     ]
    },
    {
     "name": "stderr",
     "output_type": "stream",
     "text": [
      " 97%|█████████▋| 87/90 [04:23<00:09,  3.16s/it]"
     ]
    },
    {
     "name": "stdout",
     "output_type": "stream",
     "text": [
      "1/1 [==============================] - 0s 16ms/step\n",
      "110/110 - 3s - loss: 0.3011 - binary_accuracy: 0.8725 - val_loss: 1.5099 - val_binary_accuracy: 0.3750 - 3s/epoch - 28ms/step\n"
     ]
    },
    {
     "name": "stderr",
     "output_type": "stream",
     "text": [
      " 98%|█████████▊| 88/90 [04:26<00:06,  3.17s/it]"
     ]
    },
    {
     "name": "stdout",
     "output_type": "stream",
     "text": [
      "1/1 [==============================] - 0s 16ms/step\n",
      "110/110 - 3s - loss: 0.2972 - binary_accuracy: 0.8724 - val_loss: 0.2078 - val_binary_accuracy: 1.0000 - 3s/epoch - 29ms/step\n"
     ]
    },
    {
     "name": "stderr",
     "output_type": "stream",
     "text": [
      " 99%|█████████▉| 89/90 [04:29<00:03,  3.22s/it]"
     ]
    },
    {
     "name": "stdout",
     "output_type": "stream",
     "text": [
      "1/1 [==============================] - 0s 23ms/step\n",
      "110/110 - 3s - loss: 0.3025 - binary_accuracy: 0.8688 - val_loss: 0.0265 - val_binary_accuracy: 1.0000 - 3s/epoch - 29ms/step\n"
     ]
    },
    {
     "name": "stderr",
     "output_type": "stream",
     "text": [
      "100%|██████████| 90/90 [04:32<00:00,  3.03s/it]\n"
     ]
    },
    {
     "data": {
      "text/plain": [
       "(0.6973712973408945,\n",
       " 0.6803902116402116,\n",
       " 0.7479166666666667,\n",
       " 0.6870642819726108)"
      ]
     },
     "execution_count": 10,
     "metadata": {},
     "output_type": "execute_result"
    }
   ],
   "source": [
    "from keras.models import load_model\n",
    "from sklearn.metrics import precision_score, recall_score, accuracy_score, f1_score\n",
    "from tqdm import tqdm\n",
    "\n",
    "# Assuming best_model is loaded from the notebook\n",
    "# best_model = load_model('final_model_0908_seq2seq_2.h5')\n",
    "\n",
    "# Step 1: Initially train the model on X_train and y_train\n",
    "# Assuming this has been done in the notebook\n",
    "\n",
    "# Step 2: Online learning with x_test\n",
    "y_preds = []\n",
    "training_losses = []\n",
    "training_acc = []\n",
    "val_losses = []\n",
    "val_acc = []\n",
    "for i in tqdm(range(len(X_test))):\n",
    "    # Predict the next instance\n",
    "    y_pred = best_model.predict(X_test[i:i+1])\n",
    "    y_preds.append(y_pred[0])\n",
    "    \n",
    "    # Add the instance and its actual result to the training dataset\n",
    "    X_train = np.append(X_train, X_test[i:i+1], axis=0)\n",
    "    y_train = np.append(y_train, y_test[i:i+1], axis=0)\n",
    "    \n",
    "    # Retrain the model on this updated dataset\n",
    "    history_slide = best_model.fit(X_train, y_train, validation_data=(X_test[i:i+1], y_test[i:i+1]), epochs=1, verbose=2)\n",
    "    training_losses.append(history_slide.history['loss'][0])\n",
    "    training_acc.append(history_slide.history['binary_accuracy'][0])\n",
    "    val_losses.append(history_slide.history['val_loss'][0])\n",
    "    val_acc.append(history_slide.history['val_binary_accuracy'][0])\n",
    "\n",
    "# Convert predictions to numpy array\n",
    "y_preds = np.array(y_preds)\n",
    "\n",
    "# Step 3: Evaluate the model\n",
    "# Flatten the 3D tensors for evaluation\n",
    "y_test_flat = np.argmax(y_test.reshape(-1, y_test.shape[-1]), axis=1)\n",
    "y_preds_flat = np.argmax(y_preds.reshape(-1, y_preds.shape[-1]), axis=1)\n",
    "\n",
    "# Calculate evaluation metrics\n",
    "precision = precision_score(y_test_flat, y_preds_flat, average='macro')\n",
    "recall = recall_score(y_test_flat, y_preds_flat, average='macro')\n",
    "accuracy = accuracy_score(y_test_flat, y_preds_flat)\n",
    "f1 = f1_score(y_test_flat, y_preds_flat, average='macro')\n",
    "\n",
    "precision, recall, accuracy, f1\n"
   ]
  },
  {
   "cell_type": "code",
   "execution_count": 11,
   "metadata": {},
   "outputs": [
    {
     "data": {
      "image/png": "[encoded data removed]",
      "text/plain": [
       "<Figure size 1200x400 with 2 Axes>"
      ]
     },
     "metadata": {},
     "output_type": "display_data"
    }
   ],
   "source": [
    "plt.figure(figsize=(12, 4))\n",
    "plt.subplot(1, 2, 1)\n",
    "plt.plot(training_acc)\n",
    "plt.plot(val_acc)\n",
    "plt.title('Model binary_accuracy')\n",
    "plt.ylabel('Accuracy')\n",
    "plt.xlabel('Epoch')\n",
    "plt.legend(['Train', 'Test'], loc='upper left')\n",
    "\n",
    "# Plot training & validation loss values\n",
    "plt.subplot(1, 2, 2)\n",
    "plt.plot(training_losses)\n",
    "plt.plot(val_losses)\n",
    "plt.title('Model loss')\n",
    "plt.ylabel('Loss')\n",
    "plt.xlabel('Epoch')\n",
    "plt.legend(['Train', 'Test'], loc='upper left')\n",
    "plt.show()"
   ]
  },
  {
   "cell_type": "code",
   "execution_count": 12,
   "metadata": {},
   "outputs": [
    {
     "name": "stdout",
     "output_type": "stream",
     "text": [
      "Average Precision: 0.6951522311822336\n",
      "Average Recall: 0.6785154090884713\n",
      "Average Accuracy: 0.7479166666666665\n",
      "Average F1 Score: 0.6843626416687983\n"
     ]
    }
   ],
   "source": [
    "from sklearn.metrics import precision_score, recall_score, accuracy_score, f1_score\n",
    "\n",
    "# 初始化指標\n",
    "total_precision = 0\n",
    "total_recall = 0\n",
    "total_accuracy = 0\n",
    "total_f1 = 0\n",
    "num_steps = y_test.shape[1]\n",
    "\n",
    "# 針對每個時間步計算指標\n",
    "for step in range(num_steps):\n",
    "    y_true_step = np.argmax(y_test[:, step, :], axis=1)\n",
    "    y_pred_step = np.argmax(y_preds[:, step, :], axis=1)\n",
    "    \n",
    "    total_precision += precision_score(y_true_step, y_pred_step, average='macro')\n",
    "    total_recall += recall_score(y_true_step, y_pred_step, average='macro')\n",
    "    total_accuracy += accuracy_score(y_true_step, y_pred_step)\n",
    "    total_f1 += f1_score(y_true_step, y_pred_step, average='macro')\n",
    "\n",
    "# 取平均值\n",
    "avg_precision = total_precision / num_steps\n",
    "avg_recall = total_recall / num_steps\n",
    "avg_accuracy = total_accuracy / num_steps\n",
    "avg_f1 = total_f1 / num_steps\n",
    "\n",
    "# 顯示結果\n",
    "print(f'Average Precision: {avg_precision}')\n",
    "print(f'Average Recall: {avg_recall}')\n",
    "print(f'Average Accuracy: {avg_accuracy}')\n",
    "print(f'Average F1 Score: {avg_f1}')\n"
   ]
  },
  {
   "cell_type": "code",
   "execution_count": 13,
   "metadata": {},
   "outputs": [],
   "source": [
    "from kerastuner import RandomSearch\n",
    "from keras.models import Sequential\n",
    "from keras.layers import LSTM, Dense, RepeatVector, TimeDistributed, Conv1D, MaxPooling1D, Dropout, BatchNormalization, Activation\n",
    "from keras.optimizers import Adam\n",
    "from keras import regularizers\n",
    "from keras import metrics\n",
    "\n",
    "params = {\n",
    "        'conv_1_filter': 32,\n",
    "        'conv_1_kernel': 4,\n",
    "        'conv_1_l2': 0.00016475815766673417,\n",
    "        'dropout_1': 0.2,\n",
    "        'conv_2_filter': 96,\n",
    "        'conv_2_kernel': 2,\n",
    "        'dropout_2': 0.2,\n",
    "        'lstm_1_units': 128,\n",
    "        'lstm_1_l2': 0.0002788818914602332,\n",
    "        'dropout_3': 0.2,\n",
    "        'lstm_2_units': 64,\n",
    "        'dropout_4': 0.1,\n",
    "        'learning_rate': 0.001\n",
    "    }\n",
    "\n",
    "def build_model():\n",
    "    # Parameters from the provided dictionary\n",
    "\n",
    "    model = Sequential()\n",
    "    \n",
    "    # Encoder\n",
    "    model.add(Conv1D(filters=params['conv_1_filter'],\n",
    "                     kernel_size=params['conv_1_kernel'],\n",
    "                     activation=None,\n",
    "                     padding='same',\n",
    "                     kernel_regularizer=regularizers.l2(params['conv_1_l2']),\n",
    "                     input_shape=(look_back, X_train.shape[-1])))\n",
    "    model.add(BatchNormalization())\n",
    "    model.add(Activation('relu'))\n",
    "    model.add(Dropout(params['dropout_1']))\n",
    "    model.add(MaxPooling1D(pool_size=2))\n",
    "    \n",
    "    model.add(Conv1D(filters=params['conv_2_filter'],\n",
    "                     kernel_size=params['conv_2_kernel'],\n",
    "                     activation=None))\n",
    "    model.add(BatchNormalization())\n",
    "    model.add(Activation('relu'))\n",
    "    model.add(Dropout(params['dropout_2']))\n",
    "    model.add(MaxPooling1D(pool_size=2))\n",
    "    \n",
    "    model.add(LSTM(units=params['lstm_1_units'],\n",
    "                   activation=None,\n",
    "                   return_sequences=False,\n",
    "                   kernel_regularizer=regularizers.l2(params['lstm_1_l2'])))\n",
    "    model.add(BatchNormalization())\n",
    "    model.add(Activation('tanh'))\n",
    "    model.add(Dropout(params['dropout_3']))\n",
    "    \n",
    "    # Set the desired output sequence length using RepeatVector\n",
    "    model.add(RepeatVector(predict_steps))\n",
    "    \n",
    "    # Decoder\n",
    "    model.add(LSTM(units=params['lstm_2_units'],\n",
    "                   activation=None,\n",
    "                   return_sequences=True))\n",
    "    model.add(BatchNormalization())\n",
    "    model.add(Activation('tanh'))\n",
    "    model.add(Dropout(params['dropout_4']))\n",
    "    model.add(TimeDistributed(Dense(2, activation='softmax')))\n",
    "    \n",
    "    optimizer = Adam(learning_rate=params['learning_rate'])\n",
    "    model.compile(optimizer=optimizer,\n",
    "                  loss='binary_crossentropy',\n",
    "                  metrics=[metrics.BinaryAccuracy()])\n",
    "    model.summary()\n",
    "    \n",
    "    return model\n"
   ]
  },
  {
   "cell_type": "code",
   "execution_count": 14,
   "metadata": {},
   "outputs": [],
   "source": [
    "# TODO: 這種方法無法使用Model原來的api，考慮其他方法\n",
    "# TODO: 重寫evaluation，邏輯有問題"
   ]
  },
  {
   "cell_type": "code",
   "execution_count": 15,
   "metadata": {},
   "outputs": [
    {
     "name": "stdout",
     "output_type": "stream",
     "text": [
      "Model: \"sequential_1\"\n",
      "_________________________________________________________________\n",
      " Layer (type)                Output Shape              Param #   \n",
      "=================================================================\n",
      " conv1d_2 (Conv1D)           (None, 64, 32)            160       \n",
      "                                                                 \n",
      " batch_normalization_4 (Batc  (None, 64, 32)           128       \n",
      " hNormalization)                                                 \n",
      "                                                                 \n",
      " activation_4 (Activation)   (None, 64, 32)            0         \n",
      "                                                                 \n",
      " dropout_4 (Dropout)         (None, 64, 32)            0         \n",
      "                                                                 \n",
      " max_pooling1d_2 (MaxPooling  (None, 32, 32)           0         \n",
      " 1D)                                                             \n",
      "                                                                 \n",
      " conv1d_3 (Conv1D)           (None, 31, 96)            6240      \n",
      "                                                                 \n",
      " batch_normalization_5 (Batc  (None, 31, 96)           384       \n",
      " hNormalization)                                                 \n",
      "                                                                 \n",
      " activation_5 (Activation)   (None, 31, 96)            0         \n",
      "                                                                 \n",
      " dropout_5 (Dropout)         (None, 31, 96)            0         \n",
      "                                                                 \n",
      " max_pooling1d_3 (MaxPooling  (None, 15, 96)           0         \n",
      " 1D)                                                             \n",
      "                                                                 \n",
      " lstm_2 (LSTM)               (None, 128)               115200    \n",
      "                                                                 \n",
      " batch_normalization_6 (Batc  (None, 128)              512       \n",
      " hNormalization)                                                 \n",
      "                                                                 \n",
      " activation_6 (Activation)   (None, 128)               0         \n",
      "                                                                 \n",
      " dropout_6 (Dropout)         (None, 128)               0         \n",
      "                                                                 \n",
      " repeat_vector_1 (RepeatVect  (None, 16, 128)          0         \n",
      " or)                                                             \n",
      "                                                                 \n",
      " lstm_3 (LSTM)               (None, 16, 64)            49408     \n",
      "                                                                 \n",
      " batch_normalization_7 (Batc  (None, 16, 64)           256       \n",
      " hNormalization)                                                 \n",
      "                                                                 \n",
      " activation_7 (Activation)   (None, 16, 64)            0         \n",
      "                                                                 \n",
      " dropout_7 (Dropout)         (None, 16, 64)            0         \n",
      "                                                                 \n",
      " time_distributed_1 (TimeDis  (None, 16, 2)            130       \n",
      " tributed)                                                       \n",
      "                                                                 \n",
      "=================================================================\n",
      "Total params: 172,418\n",
      "Trainable params: 171,778\n",
      "Non-trainable params: 640\n",
      "_________________________________________________________________\n"
     ]
    }
   ],
   "source": [
    "class ModelFactory:\n",
    "    def __init__(self):\n",
    "        self._models = {\n",
    "            'seq2seq': self._create_seq2seq_model,\n",
    "            'cnn': self._create_cnn_model\n",
    "            # Additional models can be added here\n",
    "        }\n",
    "\n",
    "    def create_model(self, model_type, params, input_shape):\n",
    "        if model_type not in self._models:\n",
    "            raise ValueError(f\"Model type {model_type} not recognized.\")\n",
    "        return self._models[model_type](params, input_shape)\n",
    "\n",
    "    def _create_seq2seq_model(self, params, input_shape):\n",
    "        model = Sequential()\n",
    "        # Encoder\n",
    "        model.add(Conv1D(filters=params['conv_1_filter'],\n",
    "                        kernel_size=params['conv_1_kernel'],\n",
    "                        activation=None,\n",
    "                        padding='same',\n",
    "                        kernel_regularizer=regularizers.l2(params['conv_1_l2']),\n",
    "                        input_shape=input_shape))\n",
    "        model.add(BatchNormalization())\n",
    "        model.add(Activation('relu'))\n",
    "        model.add(Dropout(params['dropout_1']))\n",
    "        model.add(MaxPooling1D(pool_size=2))\n",
    "        \n",
    "        model.add(Conv1D(filters=params['conv_2_filter'],\n",
    "                        kernel_size=params['conv_2_kernel'],\n",
    "                        activation=None))\n",
    "        model.add(BatchNormalization())\n",
    "        model.add(Activation('relu'))\n",
    "        model.add(Dropout(params['dropout_2']))\n",
    "        model.add(MaxPooling1D(pool_size=2))\n",
    "        \n",
    "        model.add(LSTM(units=params['lstm_1_units'],\n",
    "                    activation=None,\n",
    "                    return_sequences=False,\n",
    "                    kernel_regularizer=regularizers.l2(params['lstm_1_l2'])))\n",
    "        model.add(BatchNormalization())\n",
    "        model.add(Activation('tanh'))\n",
    "        model.add(Dropout(params['dropout_3']))\n",
    "        \n",
    "        # Set the desired output sequence length using RepeatVector\n",
    "        model.add(RepeatVector(predict_steps))\n",
    "        \n",
    "        # Decoder\n",
    "        model.add(LSTM(units=params['lstm_2_units'],\n",
    "                    activation=None,\n",
    "                    return_sequences=True))\n",
    "        model.add(BatchNormalization())\n",
    "        model.add(Activation('tanh'))\n",
    "        model.add(Dropout(params['dropout_4']))\n",
    "        model.add(TimeDistributed(Dense(2, activation='softmax')))\n",
    "        \n",
    "        optimizer = Adam(learning_rate=params['learning_rate'])\n",
    "        model.compile(optimizer=optimizer,\n",
    "                    loss='binary_crossentropy',\n",
    "                    metrics=[metrics.BinaryAccuracy()])\n",
    "        model.summary()\n",
    "        \n",
    "        return model\n",
    "\n",
    "\n",
    "    def _create_cnn_model(self, params, input_shape):\n",
    "        # CNN model creation logic\n",
    "        pass\n",
    "\n",
    "# Usage example\n",
    "factory = ModelFactory()\n",
    "input_shape = (look_back, X_train.shape[-1])\n",
    "params = {\n",
    "        'conv_1_filter': 32,\n",
    "        'conv_1_kernel': 4,\n",
    "        'conv_1_l2': 0.00016475815766673417,\n",
    "        'dropout_1': 0.2,\n",
    "        'conv_2_filter': 96,\n",
    "        'conv_2_kernel': 2,\n",
    "        'dropout_2': 0.2,\n",
    "        'lstm_1_units': 128,\n",
    "        'lstm_1_l2': 0.0002788818914602332,\n",
    "        'dropout_3': 0.2,\n",
    "        'lstm_2_units': 64,\n",
    "        'dropout_4': 0.1,\n",
    "        'learning_rate': 0.001\n",
    "    }\n",
    "seq2seq_model = factory.create_model('seq2seq', params, input_shape)\n",
    "cnn_model = factory.create_model('cnn', params, input_shape)\n"
   ]
  },
  {
   "cell_type": "code",
   "execution_count": 16,
   "metadata": {},
   "outputs": [
    {
     "name": "stdout",
     "output_type": "stream",
     "text": [
      "Epoch 1/100\n",
      "110/110 - 6s - loss: 0.6118 - binary_accuracy: 0.7305 - val_loss: 0.6270 - val_binary_accuracy: 0.7000 - 6s/epoch - 53ms/step\n",
      "Epoch 2/100\n",
      "110/110 - 3s - loss: 0.5600 - binary_accuracy: 0.7646 - val_loss: 0.5737 - val_binary_accuracy: 0.7243 - 3s/epoch - 25ms/step\n",
      "Epoch 3/100\n",
      "110/110 - 3s - loss: 0.5391 - binary_accuracy: 0.7744 - val_loss: 0.5438 - val_binary_accuracy: 0.7632 - 3s/epoch - 25ms/step\n",
      "Epoch 4/100\n",
      "110/110 - 3s - loss: 0.5257 - binary_accuracy: 0.7779 - val_loss: 0.5414 - val_binary_accuracy: 0.7569 - 3s/epoch - 25ms/step\n",
      "Epoch 5/100\n",
      "110/110 - 3s - loss: 0.5147 - binary_accuracy: 0.7818 - val_loss: 0.5273 - val_binary_accuracy: 0.7785 - 3s/epoch - 24ms/step\n",
      "Epoch 6/100\n",
      "110/110 - 3s - loss: 0.5074 - binary_accuracy: 0.7866 - val_loss: 0.5330 - val_binary_accuracy: 0.7764 - 3s/epoch - 25ms/step\n",
      "Epoch 7/100\n",
      "110/110 - 3s - loss: 0.4950 - binary_accuracy: 0.7927 - val_loss: 0.5430 - val_binary_accuracy: 0.7722 - 3s/epoch - 25ms/step\n",
      "Epoch 8/100\n",
      "110/110 - 3s - loss: 0.4957 - binary_accuracy: 0.7909 - val_loss: 0.5303 - val_binary_accuracy: 0.7743 - 3s/epoch - 25ms/step\n",
      "Epoch 9/100\n",
      "110/110 - 3s - loss: 0.4872 - binary_accuracy: 0.7911 - val_loss: 0.5441 - val_binary_accuracy: 0.7604 - 3s/epoch - 25ms/step\n",
      "Epoch 10/100\n",
      "110/110 - 3s - loss: 0.4828 - binary_accuracy: 0.7932 - val_loss: 0.5322 - val_binary_accuracy: 0.7660 - 3s/epoch - 25ms/step\n",
      "Epoch 11/100\n",
      "110/110 - 3s - loss: 0.4679 - binary_accuracy: 0.7993 - val_loss: 0.5568 - val_binary_accuracy: 0.7625 - 3s/epoch - 24ms/step\n",
      "Epoch 12/100\n",
      "110/110 - 3s - loss: 0.4625 - binary_accuracy: 0.8005 - val_loss: 0.5639 - val_binary_accuracy: 0.7576 - 3s/epoch - 24ms/step\n",
      "Epoch 13/100\n",
      "110/110 - 3s - loss: 0.4549 - binary_accuracy: 0.8048 - val_loss: 0.5431 - val_binary_accuracy: 0.7646 - 3s/epoch - 25ms/step\n",
      "Epoch 14/100\n",
      "110/110 - 3s - loss: 0.4543 - binary_accuracy: 0.8048 - val_loss: 0.5534 - val_binary_accuracy: 0.7653 - 3s/epoch - 24ms/step\n",
      "Epoch 15/100\n",
      "110/110 - 3s - loss: 0.4424 - binary_accuracy: 0.8095 - val_loss: 0.5343 - val_binary_accuracy: 0.7639 - 3s/epoch - 26ms/step\n",
      "Epoch 16/100\n",
      "110/110 - 3s - loss: 0.4435 - binary_accuracy: 0.8089 - val_loss: 0.5494 - val_binary_accuracy: 0.7507 - 3s/epoch - 25ms/step\n",
      "Epoch 17/100\n",
      "110/110 - 3s - loss: 0.4352 - binary_accuracy: 0.8119 - val_loss: 0.5591 - val_binary_accuracy: 0.7486 - 3s/epoch - 25ms/step\n",
      "Epoch 18/100\n",
      "110/110 - 3s - loss: 0.4250 - binary_accuracy: 0.8176 - val_loss: 0.5507 - val_binary_accuracy: 0.7549 - 3s/epoch - 24ms/step\n",
      "Epoch 19/100\n",
      "110/110 - 3s - loss: 0.4242 - binary_accuracy: 0.8168 - val_loss: 0.5321 - val_binary_accuracy: 0.7604 - 3s/epoch - 23ms/step\n",
      "Epoch 20/100\n",
      "110/110 - 3s - loss: 0.4181 - binary_accuracy: 0.8212 - val_loss: 0.5347 - val_binary_accuracy: 0.7618 - 3s/epoch - 24ms/step\n",
      "Epoch 21/100\n",
      "110/110 - 3s - loss: 0.4134 - binary_accuracy: 0.8225 - val_loss: 0.5193 - val_binary_accuracy: 0.7722 - 3s/epoch - 23ms/step\n",
      "Epoch 22/100\n",
      "110/110 - 3s - loss: 0.4059 - binary_accuracy: 0.8254 - val_loss: 0.5304 - val_binary_accuracy: 0.7722 - 3s/epoch - 24ms/step\n",
      "Epoch 23/100\n",
      "110/110 - 3s - loss: 0.4054 - binary_accuracy: 0.8249 - val_loss: 0.5275 - val_binary_accuracy: 0.7819 - 3s/epoch - 23ms/step\n",
      "Epoch 24/100\n",
      "110/110 - 3s - loss: 0.3992 - binary_accuracy: 0.8270 - val_loss: 0.5397 - val_binary_accuracy: 0.7736 - 3s/epoch - 24ms/step\n",
      "Epoch 25/100\n",
      "110/110 - 3s - loss: 0.3908 - binary_accuracy: 0.8331 - val_loss: 0.5490 - val_binary_accuracy: 0.7764 - 3s/epoch - 24ms/step\n",
      "Epoch 26/100\n",
      "110/110 - 3s - loss: 0.3999 - binary_accuracy: 0.8317 - val_loss: 0.5147 - val_binary_accuracy: 0.7639 - 3s/epoch - 24ms/step\n",
      "Epoch 27/100\n",
      "110/110 - 3s - loss: 0.3952 - binary_accuracy: 0.8319 - val_loss: 0.5227 - val_binary_accuracy: 0.7604 - 3s/epoch - 24ms/step\n",
      "Epoch 28/100\n",
      "110/110 - 3s - loss: 0.3841 - binary_accuracy: 0.8345 - val_loss: 0.5460 - val_binary_accuracy: 0.7674 - 3s/epoch - 24ms/step\n",
      "Epoch 29/100\n",
      "110/110 - 3s - loss: 0.3830 - binary_accuracy: 0.8348 - val_loss: 0.5156 - val_binary_accuracy: 0.7889 - 3s/epoch - 24ms/step\n",
      "Epoch 30/100\n",
      "110/110 - 3s - loss: 0.3800 - binary_accuracy: 0.8358 - val_loss: 0.5277 - val_binary_accuracy: 0.7604 - 3s/epoch - 24ms/step\n",
      "Epoch 31/100\n",
      "110/110 - 3s - loss: 0.3740 - binary_accuracy: 0.8376 - val_loss: 0.5295 - val_binary_accuracy: 0.7722 - 3s/epoch - 23ms/step\n",
      "Epoch 32/100\n",
      "110/110 - 3s - loss: 0.3737 - binary_accuracy: 0.8393 - val_loss: 0.5106 - val_binary_accuracy: 0.7611 - 3s/epoch - 23ms/step\n",
      "Epoch 33/100\n",
      "110/110 - 3s - loss: 0.3710 - binary_accuracy: 0.8411 - val_loss: 0.4735 - val_binary_accuracy: 0.7965 - 3s/epoch - 24ms/step\n",
      "Epoch 34/100\n",
      "110/110 - 3s - loss: 0.3630 - binary_accuracy: 0.8430 - val_loss: 0.4510 - val_binary_accuracy: 0.7951 - 3s/epoch - 23ms/step\n",
      "Epoch 35/100\n",
      "110/110 - 3s - loss: 0.3654 - binary_accuracy: 0.8436 - val_loss: 0.4812 - val_binary_accuracy: 0.7812 - 3s/epoch - 24ms/step\n",
      "Epoch 36/100\n",
      "110/110 - 3s - loss: 0.3619 - binary_accuracy: 0.8458 - val_loss: 0.4862 - val_binary_accuracy: 0.7833 - 3s/epoch - 24ms/step\n",
      "Epoch 37/100\n",
      "110/110 - 3s - loss: 0.3629 - binary_accuracy: 0.8430 - val_loss: 0.4727 - val_binary_accuracy: 0.8042 - 3s/epoch - 24ms/step\n",
      "Epoch 38/100\n",
      "110/110 - 3s - loss: 0.3696 - binary_accuracy: 0.8414 - val_loss: 0.5087 - val_binary_accuracy: 0.7826 - 3s/epoch - 24ms/step\n",
      "Epoch 39/100\n",
      "110/110 - 3s - loss: 0.3631 - binary_accuracy: 0.8431 - val_loss: 0.4501 - val_binary_accuracy: 0.7896 - 3s/epoch - 24ms/step\n",
      "Epoch 40/100\n",
      "110/110 - 3s - loss: 0.3601 - binary_accuracy: 0.8459 - val_loss: 0.4217 - val_binary_accuracy: 0.8014 - 3s/epoch - 24ms/step\n",
      "Epoch 41/100\n",
      "110/110 - 3s - loss: 0.3543 - binary_accuracy: 0.8471 - val_loss: 0.4491 - val_binary_accuracy: 0.8014 - 3s/epoch - 24ms/step\n",
      "Epoch 42/100\n",
      "110/110 - 3s - loss: 0.3611 - binary_accuracy: 0.8412 - val_loss: 0.4508 - val_binary_accuracy: 0.8056 - 3s/epoch - 24ms/step\n",
      "Epoch 43/100\n",
      "110/110 - 3s - loss: 0.3495 - binary_accuracy: 0.8470 - val_loss: 0.4232 - val_binary_accuracy: 0.8069 - 3s/epoch - 24ms/step\n",
      "Epoch 44/100\n",
      "110/110 - 3s - loss: 0.3559 - binary_accuracy: 0.8435 - val_loss: 0.4268 - val_binary_accuracy: 0.8111 - 3s/epoch - 24ms/step\n",
      "Epoch 45/100\n",
      "110/110 - 3s - loss: 0.3577 - binary_accuracy: 0.8447 - val_loss: 0.4342 - val_binary_accuracy: 0.7931 - 3s/epoch - 24ms/step\n",
      "Epoch 46/100\n",
      "110/110 - 3s - loss: 0.3455 - binary_accuracy: 0.8495 - val_loss: 0.4021 - val_binary_accuracy: 0.8139 - 3s/epoch - 24ms/step\n",
      "Epoch 47/100\n",
      "110/110 - 3s - loss: 0.3483 - binary_accuracy: 0.8502 - val_loss: 0.4223 - val_binary_accuracy: 0.8215 - 3s/epoch - 24ms/step\n",
      "Epoch 48/100\n",
      "110/110 - 3s - loss: 0.3463 - binary_accuracy: 0.8516 - val_loss: 0.4273 - val_binary_accuracy: 0.8153 - 3s/epoch - 24ms/step\n",
      "Epoch 49/100\n",
      "110/110 - 3s - loss: 0.3370 - binary_accuracy: 0.8547 - val_loss: 0.3992 - val_binary_accuracy: 0.8125 - 3s/epoch - 24ms/step\n",
      "Epoch 50/100\n",
      "110/110 - 3s - loss: 0.3452 - binary_accuracy: 0.8506 - val_loss: 0.3985 - val_binary_accuracy: 0.8215 - 3s/epoch - 25ms/step\n",
      "Epoch 51/100\n",
      "110/110 - 3s - loss: 0.3393 - binary_accuracy: 0.8533 - val_loss: 0.4187 - val_binary_accuracy: 0.8097 - 3s/epoch - 24ms/step\n",
      "Epoch 52/100\n",
      "110/110 - 3s - loss: 0.3451 - binary_accuracy: 0.8500 - val_loss: 0.3999 - val_binary_accuracy: 0.8146 - 3s/epoch - 23ms/step\n",
      "Epoch 53/100\n",
      "110/110 - 3s - loss: 0.3323 - binary_accuracy: 0.8593 - val_loss: 0.3904 - val_binary_accuracy: 0.8132 - 3s/epoch - 23ms/step\n",
      "Epoch 54/100\n",
      "110/110 - 3s - loss: 0.3357 - binary_accuracy: 0.8557 - val_loss: 0.4013 - val_binary_accuracy: 0.8236 - 3s/epoch - 24ms/step\n",
      "Epoch 55/100\n",
      "110/110 - 3s - loss: 0.3357 - binary_accuracy: 0.8564 - val_loss: 0.4135 - val_binary_accuracy: 0.8083 - 3s/epoch - 24ms/step\n",
      "Epoch 56/100\n",
      "110/110 - 3s - loss: 0.3321 - binary_accuracy: 0.8588 - val_loss: 0.4273 - val_binary_accuracy: 0.8069 - 3s/epoch - 24ms/step\n",
      "Epoch 57/100\n",
      "110/110 - 3s - loss: 0.3358 - binary_accuracy: 0.8577 - val_loss: 0.4124 - val_binary_accuracy: 0.8111 - 3s/epoch - 24ms/step\n",
      "Epoch 58/100\n",
      "110/110 - 3s - loss: 0.3286 - binary_accuracy: 0.8578 - val_loss: 0.4193 - val_binary_accuracy: 0.8062 - 3s/epoch - 24ms/step\n",
      "Epoch 59/100\n",
      "110/110 - 3s - loss: 0.3350 - binary_accuracy: 0.8552 - val_loss: 0.3822 - val_binary_accuracy: 0.8243 - 3s/epoch - 24ms/step\n",
      "Epoch 60/100\n",
      "110/110 - 3s - loss: 0.3205 - binary_accuracy: 0.8606 - val_loss: 0.3965 - val_binary_accuracy: 0.8167 - 3s/epoch - 24ms/step\n",
      "Epoch 61/100\n",
      "110/110 - 3s - loss: 0.3327 - binary_accuracy: 0.8579 - val_loss: 0.4087 - val_binary_accuracy: 0.8174 - 3s/epoch - 24ms/step\n",
      "Epoch 62/100\n",
      "110/110 - 3s - loss: 0.3312 - binary_accuracy: 0.8587 - val_loss: 0.3979 - val_binary_accuracy: 0.8167 - 3s/epoch - 24ms/step\n",
      "Epoch 63/100\n",
      "110/110 - 3s - loss: 0.3187 - binary_accuracy: 0.8640 - val_loss: 0.4097 - val_binary_accuracy: 0.8278 - 3s/epoch - 24ms/step\n",
      "Epoch 64/100\n",
      "110/110 - 3s - loss: 0.3237 - binary_accuracy: 0.8590 - val_loss: 0.3893 - val_binary_accuracy: 0.8243 - 3s/epoch - 24ms/step\n",
      "Epoch 65/100\n",
      "110/110 - 3s - loss: 0.3237 - binary_accuracy: 0.8612 - val_loss: 0.4325 - val_binary_accuracy: 0.8132 - 3s/epoch - 23ms/step\n",
      "Epoch 66/100\n",
      "110/110 - 3s - loss: 0.3312 - binary_accuracy: 0.8559 - val_loss: 0.3680 - val_binary_accuracy: 0.8326 - 3s/epoch - 24ms/step\n",
      "Epoch 67/100\n",
      "110/110 - 3s - loss: 0.3271 - binary_accuracy: 0.8593 - val_loss: 0.3792 - val_binary_accuracy: 0.8188 - 3s/epoch - 24ms/step\n",
      "Epoch 68/100\n",
      "110/110 - 3s - loss: 0.3221 - binary_accuracy: 0.8587 - val_loss: 0.4152 - val_binary_accuracy: 0.8153 - 3s/epoch - 24ms/step\n",
      "Epoch 69/100\n",
      "110/110 - 3s - loss: 0.3264 - binary_accuracy: 0.8601 - val_loss: 0.3955 - val_binary_accuracy: 0.8153 - 3s/epoch - 24ms/step\n",
      "Epoch 70/100\n",
      "110/110 - 3s - loss: 0.3250 - binary_accuracy: 0.8619 - val_loss: 0.3779 - val_binary_accuracy: 0.8139 - 3s/epoch - 24ms/step\n",
      "Epoch 71/100\n",
      "110/110 - 3s - loss: 0.3124 - binary_accuracy: 0.8664 - val_loss: 0.3758 - val_binary_accuracy: 0.8243 - 3s/epoch - 24ms/step\n",
      "Epoch 72/100\n",
      "110/110 - 3s - loss: 0.3132 - binary_accuracy: 0.8670 - val_loss: 0.3711 - val_binary_accuracy: 0.8299 - 3s/epoch - 24ms/step\n",
      "Epoch 73/100\n",
      "110/110 - 3s - loss: 0.3194 - binary_accuracy: 0.8632 - val_loss: 0.4088 - val_binary_accuracy: 0.8056 - 3s/epoch - 24ms/step\n",
      "Epoch 74/100\n",
      "110/110 - 3s - loss: 0.3275 - binary_accuracy: 0.8612 - val_loss: 0.4306 - val_binary_accuracy: 0.8160 - 3s/epoch - 24ms/step\n",
      "Epoch 75/100\n",
      "110/110 - 3s - loss: 0.3132 - binary_accuracy: 0.8657 - val_loss: 0.3908 - val_binary_accuracy: 0.8278 - 3s/epoch - 24ms/step\n",
      "Epoch 76/100\n",
      "110/110 - 3s - loss: 0.3106 - binary_accuracy: 0.8657 - val_loss: 0.3883 - val_binary_accuracy: 0.8417 - 3s/epoch - 24ms/step\n",
      "Epoch 77/100\n",
      "110/110 - 3s - loss: 0.3088 - binary_accuracy: 0.8668 - val_loss: 0.3790 - val_binary_accuracy: 0.8375 - 3s/epoch - 24ms/step\n",
      "Epoch 78/100\n",
      "110/110 - 3s - loss: 0.3154 - binary_accuracy: 0.8639 - val_loss: 0.3532 - val_binary_accuracy: 0.8354 - 3s/epoch - 25ms/step\n",
      "Epoch 79/100\n",
      "110/110 - 3s - loss: 0.3153 - binary_accuracy: 0.8657 - val_loss: 0.4219 - val_binary_accuracy: 0.8201 - 3s/epoch - 25ms/step\n",
      "Epoch 80/100\n",
      "110/110 - 3s - loss: 0.3053 - binary_accuracy: 0.8680 - val_loss: 0.3738 - val_binary_accuracy: 0.8340 - 3s/epoch - 24ms/step\n",
      "Epoch 81/100\n",
      "110/110 - 3s - loss: 0.3078 - binary_accuracy: 0.8676 - val_loss: 0.4245 - val_binary_accuracy: 0.8306 - 3s/epoch - 24ms/step\n",
      "Epoch 82/100\n",
      "110/110 - 3s - loss: 0.3010 - binary_accuracy: 0.8708 - val_loss: 0.3634 - val_binary_accuracy: 0.8306 - 3s/epoch - 23ms/step\n",
      "Epoch 83/100\n",
      "110/110 - 3s - loss: 0.2957 - binary_accuracy: 0.8723 - val_loss: 0.3504 - val_binary_accuracy: 0.8438 - 3s/epoch - 24ms/step\n",
      "Epoch 84/100\n",
      "110/110 - 3s - loss: 0.3105 - binary_accuracy: 0.8660 - val_loss: 0.3731 - val_binary_accuracy: 0.8257 - 3s/epoch - 23ms/step\n",
      "Epoch 85/100\n",
      "110/110 - 3s - loss: 0.3092 - binary_accuracy: 0.8653 - val_loss: 0.3804 - val_binary_accuracy: 0.8299 - 3s/epoch - 23ms/step\n",
      "Epoch 86/100\n",
      "110/110 - 3s - loss: 0.3171 - binary_accuracy: 0.8626 - val_loss: 0.3723 - val_binary_accuracy: 0.8444 - 3s/epoch - 24ms/step\n",
      "Epoch 87/100\n",
      "110/110 - 3s - loss: 0.3125 - binary_accuracy: 0.8661 - val_loss: 0.3683 - val_binary_accuracy: 0.8368 - 3s/epoch - 24ms/step\n",
      "Epoch 88/100\n",
      "110/110 - 3s - loss: 0.3226 - binary_accuracy: 0.8618 - val_loss: 0.3847 - val_binary_accuracy: 0.8465 - 3s/epoch - 24ms/step\n",
      "Epoch 89/100\n",
      "110/110 - 3s - loss: 0.3157 - binary_accuracy: 0.8664 - val_loss: 0.3744 - val_binary_accuracy: 0.8306 - 3s/epoch - 24ms/step\n",
      "Epoch 90/100\n",
      "110/110 - 3s - loss: 0.3025 - binary_accuracy: 0.8685 - val_loss: 0.4079 - val_binary_accuracy: 0.8222 - 3s/epoch - 24ms/step\n",
      "Epoch 91/100\n",
      "110/110 - 3s - loss: 0.3040 - binary_accuracy: 0.8692 - val_loss: 0.3669 - val_binary_accuracy: 0.8389 - 3s/epoch - 25ms/step\n",
      "Epoch 92/100\n",
      "110/110 - 3s - loss: 0.3106 - binary_accuracy: 0.8668 - val_loss: 0.3836 - val_binary_accuracy: 0.8326 - 3s/epoch - 25ms/step\n",
      "Epoch 93/100\n",
      "110/110 - 3s - loss: 0.3013 - binary_accuracy: 0.8700 - val_loss: 0.3632 - val_binary_accuracy: 0.8396 - 3s/epoch - 25ms/step\n",
      "Epoch 94/100\n",
      "110/110 - 3s - loss: 0.3047 - binary_accuracy: 0.8666 - val_loss: 0.3625 - val_binary_accuracy: 0.8479 - 3s/epoch - 25ms/step\n",
      "Epoch 95/100\n",
      "110/110 - 3s - loss: 0.3034 - binary_accuracy: 0.8684 - val_loss: 0.3653 - val_binary_accuracy: 0.8292 - 3s/epoch - 25ms/step\n",
      "Epoch 96/100\n",
      "110/110 - 3s - loss: 0.3009 - binary_accuracy: 0.8705 - val_loss: 0.3674 - val_binary_accuracy: 0.8458 - 3s/epoch - 27ms/step\n",
      "Epoch 97/100\n",
      "110/110 - 3s - loss: 0.2981 - binary_accuracy: 0.8716 - val_loss: 0.3516 - val_binary_accuracy: 0.8382 - 3s/epoch - 27ms/step\n",
      "Epoch 98/100\n",
      "110/110 - 3s - loss: 0.2937 - binary_accuracy: 0.8733 - val_loss: 0.3764 - val_binary_accuracy: 0.8375 - 3s/epoch - 26ms/step\n",
      "Epoch 99/100\n",
      "110/110 - 3s - loss: 0.2874 - binary_accuracy: 0.8762 - val_loss: 0.3668 - val_binary_accuracy: 0.8306 - 3s/epoch - 26ms/step\n",
      "Epoch 100/100\n",
      "110/110 - 3s - loss: 0.2941 - binary_accuracy: 0.8713 - val_loss: 0.3671 - val_binary_accuracy: 0.8326 - 3s/epoch - 25ms/step\n"
     ]
    },
    {
     "data": {
      "text/plain": [
       "<keras.callbacks.History at 0x2b6ea8bbac0>"
      ]
     },
     "execution_count": 16,
     "metadata": {},
     "output_type": "execute_result"
    }
   ],
   "source": [
    "seq2seq_model.fit(X_train, y_train, validation_data=(X_test, y_test), epochs=100, verbose=2)"
   ]
  },
  {
   "cell_type": "code",
   "execution_count": 17,
   "metadata": {},
   "outputs": [
    {
     "name": "stdout",
     "output_type": "stream",
     "text": [
      "Epoch 1/1000\n",
      "55/55 - 5s - loss: 0.2805 - binary_accuracy: 0.8765 - val_loss: 0.3623 - val_binary_accuracy: 0.8389 - 5s/epoch - 85ms/step\n",
      "Epoch 2/1000\n",
      "55/55 - 2s - loss: 0.2750 - binary_accuracy: 0.8797 - val_loss: 0.3364 - val_binary_accuracy: 0.8361 - 2s/epoch - 43ms/step\n",
      "Epoch 3/1000\n",
      "55/55 - 2s - loss: 0.2718 - binary_accuracy: 0.8798 - val_loss: 0.3447 - val_binary_accuracy: 0.8382 - 2s/epoch - 42ms/step\n",
      "Epoch 4/1000\n",
      "55/55 - 2s - loss: 0.2650 - binary_accuracy: 0.8832 - val_loss: 0.3328 - val_binary_accuracy: 0.8389 - 2s/epoch - 40ms/step\n",
      "Epoch 5/1000\n",
      "55/55 - 2s - loss: 0.2763 - binary_accuracy: 0.8773 - val_loss: 0.3331 - val_binary_accuracy: 0.8417 - 2s/epoch - 40ms/step\n",
      "Epoch 6/1000\n",
      "55/55 - 2s - loss: 0.2702 - binary_accuracy: 0.8817 - val_loss: 0.3354 - val_binary_accuracy: 0.8417 - 2s/epoch - 40ms/step\n",
      "Epoch 7/1000\n",
      "55/55 - 2s - loss: 0.2683 - binary_accuracy: 0.8813 - val_loss: 0.3273 - val_binary_accuracy: 0.8382 - 2s/epoch - 41ms/step\n",
      "Epoch 8/1000\n",
      "55/55 - 2s - loss: 0.2639 - binary_accuracy: 0.8825 - val_loss: 0.3275 - val_binary_accuracy: 0.8458 - 2s/epoch - 40ms/step\n",
      "Epoch 9/1000\n",
      "55/55 - 2s - loss: 0.2675 - binary_accuracy: 0.8822 - val_loss: 0.3174 - val_binary_accuracy: 0.8576 - 2s/epoch - 40ms/step\n",
      "Epoch 10/1000\n",
      "55/55 - 2s - loss: 0.2651 - binary_accuracy: 0.8832 - val_loss: 0.3211 - val_binary_accuracy: 0.8590 - 2s/epoch - 40ms/step\n",
      "Epoch 11/1000\n",
      "55/55 - 2s - loss: 0.2660 - binary_accuracy: 0.8834 - val_loss: 0.3322 - val_binary_accuracy: 0.8583 - 2s/epoch - 40ms/step\n",
      "Epoch 12/1000\n",
      "55/55 - 2s - loss: 0.2712 - binary_accuracy: 0.8815 - val_loss: 0.3243 - val_binary_accuracy: 0.8479 - 2s/epoch - 41ms/step\n",
      "Epoch 13/1000\n",
      "55/55 - 2s - loss: 0.2659 - binary_accuracy: 0.8834 - val_loss: 0.3244 - val_binary_accuracy: 0.8556 - 2s/epoch - 40ms/step\n",
      "Epoch 14/1000\n",
      "55/55 - 2s - loss: 0.2628 - binary_accuracy: 0.8844 - val_loss: 0.3193 - val_binary_accuracy: 0.8486 - 2s/epoch - 39ms/step\n",
      "Epoch 15/1000\n",
      "55/55 - 2s - loss: 0.2627 - binary_accuracy: 0.8840 - val_loss: 0.3177 - val_binary_accuracy: 0.8479 - 2s/epoch - 39ms/step\n",
      "Epoch 16/1000\n",
      "55/55 - 2s - loss: 0.2621 - binary_accuracy: 0.8849 - val_loss: 0.3322 - val_binary_accuracy: 0.8549 - 2s/epoch - 39ms/step\n",
      "Epoch 17/1000\n",
      "55/55 - 2s - loss: 0.2675 - binary_accuracy: 0.8814 - val_loss: 0.3438 - val_binary_accuracy: 0.8396 - 2s/epoch - 40ms/step\n",
      "Epoch 18/1000\n",
      "55/55 - 2s - loss: 0.2637 - binary_accuracy: 0.8821 - val_loss: 0.3193 - val_binary_accuracy: 0.8507 - 2s/epoch - 39ms/step\n",
      "Epoch 19/1000\n",
      "55/55 - 2s - loss: 0.2651 - binary_accuracy: 0.8810 - val_loss: 0.3522 - val_binary_accuracy: 0.8431 - 2s/epoch - 39ms/step\n",
      "Validation Loss: 0.31739386916160583\n",
      "Validation Accuracy: 0.8576388955116272\n"
     ]
    }
   ],
   "source": [
    "from keras.callbacks import EarlyStopping\n",
    "\n",
    "class Trainer:\n",
    "    def __init__(self, model, params):\n",
    "        self.model = model\n",
    "        self.params = params\n",
    "\n",
    "    def train(self, X_train, y_train, X_val, y_val):\n",
    "        # Define callbacks, such as EarlyStopping\n",
    "        early_stopping = EarlyStopping(\n",
    "            monitor='val_loss', \n",
    "            patience=self.params.get('patience', 5), \n",
    "            restore_best_weights=True\n",
    "        )\n",
    "\n",
    "        # Train the model\n",
    "        history = self.model.fit(\n",
    "            X_train, y_train,\n",
    "            epochs=self.params.get('epochs', 100),\n",
    "            batch_size=self.params.get('batch_size', 32),\n",
    "            validation_data=(X_val, y_val),\n",
    "            callbacks=[early_stopping],\n",
    "            verbose=2\n",
    "        )\n",
    "\n",
    "        return history\n",
    "\n",
    "    def evaluate(self, X_val, y_val):\n",
    "        # Evaluate the model on the validation set\n",
    "        evaluation = self.model.evaluate(X_val, y_val, verbose=0)\n",
    "        return evaluation\n",
    "\n",
    "# Usage example\n",
    "params = {\n",
    "    'epochs': 1000,\n",
    "    'batch_size': 64,\n",
    "    'patience': 10  # You can add more parameters as needed\n",
    "}\n",
    "trainer = Trainer(seq2seq_model, params)\n",
    "history = trainer.train(X_train, y_train, X_test, y_test)\n",
    "\n",
    "# After training, evaluate the model\n",
    "evaluation = trainer.evaluate(X_test, y_test)\n",
    "\n",
    "# You can print or log the evaluation metrics\n",
    "print(f\"Validation Loss: {evaluation[0]}\")\n",
    "print(f\"Validation Accuracy: {evaluation[1]}\")\n"
   ]
  },
  {
   "cell_type": "code",
   "execution_count": 18,
   "metadata": {},
   "outputs": [
    {
     "name": "stderr",
     "output_type": "stream",
     "text": [
      "  0%|          | 0/90 [00:00<?, ?it/s]"
     ]
    },
    {
     "name": "stdout",
     "output_type": "stream",
     "text": [
      "1/1 [==============================] - 0s 375ms/step\n",
      "111/111 - 3s - loss: 0.3093 - binary_accuracy: 0.8648 - val_loss: 0.0135 - val_binary_accuracy: 1.0000 - 3s/epoch - 27ms/step\n"
     ]
    },
    {
     "name": "stderr",
     "output_type": "stream",
     "text": [
      "  1%|          | 1/90 [00:03<05:08,  3.47s/it]"
     ]
    },
    {
     "name": "stdout",
     "output_type": "stream",
     "text": [
      "1/1 [==============================] - 0s 16ms/step\n",
      "111/111 - 3s - loss: 0.3173 - binary_accuracy: 0.8631 - val_loss: 0.0401 - val_binary_accuracy: 1.0000 - 3s/epoch - 27ms/step\n"
     ]
    },
    {
     "name": "stderr",
     "output_type": "stream",
     "text": [
      "  2%|▏         | 2/90 [00:06<04:49,  3.29s/it]"
     ]
    },
    {
     "name": "stdout",
     "output_type": "stream",
     "text": [
      "1/1 [==============================] - 0s 16ms/step\n",
      "111/111 - 3s - loss: 0.3338 - binary_accuracy: 0.8589 - val_loss: 0.9822 - val_binary_accuracy: 0.4375 - 3s/epoch - 28ms/step\n"
     ]
    },
    {
     "name": "stderr",
     "output_type": "stream",
     "text": [
      "  3%|▎         | 3/90 [00:09<04:43,  3.26s/it]"
     ]
    },
    {
     "name": "stdout",
     "output_type": "stream",
     "text": [
      "1/1 [==============================] - 0s 31ms/step\n",
      "111/111 - 3s - loss: 0.3129 - binary_accuracy: 0.8664 - val_loss: 0.3371 - val_binary_accuracy: 0.9375 - 3s/epoch - 28ms/step\n"
     ]
    },
    {
     "name": "stderr",
     "output_type": "stream",
     "text": [
      "  4%|▍         | 4/90 [00:13<04:38,  3.23s/it]"
     ]
    },
    {
     "name": "stdout",
     "output_type": "stream",
     "text": [
      "1/1 [==============================] - 0s 18ms/step\n",
      "111/111 - 3s - loss: 0.2968 - binary_accuracy: 0.8709 - val_loss: 1.0709 - val_binary_accuracy: 0.6875 - 3s/epoch - 28ms/step\n"
     ]
    },
    {
     "name": "stderr",
     "output_type": "stream",
     "text": [
      "  6%|▌         | 5/90 [00:16<04:34,  3.23s/it]"
     ]
    },
    {
     "name": "stdout",
     "output_type": "stream",
     "text": [
      "1/1 [==============================] - 0s 16ms/step\n",
      "111/111 - 3s - loss: 0.2957 - binary_accuracy: 0.8726 - val_loss: 0.0575 - val_binary_accuracy: 1.0000 - 3s/epoch - 28ms/step\n"
     ]
    },
    {
     "name": "stderr",
     "output_type": "stream",
     "text": [
      "  7%|▋         | 6/90 [00:19<04:30,  3.21s/it]"
     ]
    },
    {
     "name": "stdout",
     "output_type": "stream",
     "text": [
      "1/1 [==============================] - 0s 28ms/step\n",
      "111/111 - 3s - loss: 0.3133 - binary_accuracy: 0.8655 - val_loss: 0.0374 - val_binary_accuracy: 1.0000 - 3s/epoch - 28ms/step\n"
     ]
    },
    {
     "name": "stderr",
     "output_type": "stream",
     "text": [
      "  8%|▊         | 7/90 [00:22<04:26,  3.21s/it]"
     ]
    },
    {
     "name": "stdout",
     "output_type": "stream",
     "text": [
      "1/1 [==============================] - 0s 21ms/step\n",
      "111/111 - 3s - loss: 0.2954 - binary_accuracy: 0.8722 - val_loss: 0.0962 - val_binary_accuracy: 0.9375 - 3s/epoch - 28ms/step\n"
     ]
    },
    {
     "name": "stderr",
     "output_type": "stream",
     "text": [
      "  9%|▉         | 8/90 [00:25<04:23,  3.21s/it]"
     ]
    },
    {
     "name": "stdout",
     "output_type": "stream",
     "text": [
      "1/1 [==============================] - 0s 27ms/step\n",
      "111/111 - 3s - loss: 0.2836 - binary_accuracy: 0.8764 - val_loss: 0.0160 - val_binary_accuracy: 1.0000 - 3s/epoch - 28ms/step\n"
     ]
    },
    {
     "name": "stderr",
     "output_type": "stream",
     "text": [
      " 10%|█         | 9/90 [00:29<04:21,  3.23s/it]"
     ]
    },
    {
     "name": "stdout",
     "output_type": "stream",
     "text": [
      "1/1 [==============================] - 0s 36ms/step\n",
      "111/111 - 3s - loss: 0.2961 - binary_accuracy: 0.8734 - val_loss: 0.2629 - val_binary_accuracy: 0.8750 - 3s/epoch - 28ms/step\n"
     ]
    },
    {
     "name": "stderr",
     "output_type": "stream",
     "text": [
      " 11%|█         | 10/90 [00:32<04:18,  3.23s/it]"
     ]
    },
    {
     "name": "stdout",
     "output_type": "stream",
     "text": [
      "1/1 [==============================] - 0s 26ms/step\n",
      "111/111 - 3s - loss: 0.3026 - binary_accuracy: 0.8699 - val_loss: 0.2422 - val_binary_accuracy: 1.0000 - 3s/epoch - 28ms/step\n"
     ]
    },
    {
     "name": "stderr",
     "output_type": "stream",
     "text": [
      " 12%|█▏        | 11/90 [00:35<04:14,  3.22s/it]"
     ]
    },
    {
     "name": "stdout",
     "output_type": "stream",
     "text": [
      "1/1 [==============================] - 0s 22ms/step\n",
      "111/111 - 3s - loss: 0.2853 - binary_accuracy: 0.8759 - val_loss: 0.0183 - val_binary_accuracy: 1.0000 - 3s/epoch - 28ms/step\n"
     ]
    },
    {
     "name": "stderr",
     "output_type": "stream",
     "text": [
      " 13%|█▎        | 12/90 [00:38<04:11,  3.22s/it]"
     ]
    },
    {
     "name": "stdout",
     "output_type": "stream",
     "text": [
      "1/1 [==============================] - 0s 16ms/step\n",
      "111/111 - 3s - loss: 0.2881 - binary_accuracy: 0.8748 - val_loss: 0.5205 - val_binary_accuracy: 0.8125 - 3s/epoch - 28ms/step\n"
     ]
    },
    {
     "name": "stderr",
     "output_type": "stream",
     "text": [
      " 14%|█▍        | 13/90 [00:41<04:07,  3.21s/it]"
     ]
    },
    {
     "name": "stdout",
     "output_type": "stream",
     "text": [
      "1/1 [==============================] - 0s 25ms/step\n",
      "111/111 - 3s - loss: 0.2864 - binary_accuracy: 0.8753 - val_loss: 0.8953 - val_binary_accuracy: 0.0625 - 3s/epoch - 28ms/step\n"
     ]
    },
    {
     "name": "stderr",
     "output_type": "stream",
     "text": [
      " 16%|█▌        | 14/90 [00:45<04:03,  3.20s/it]"
     ]
    },
    {
     "name": "stdout",
     "output_type": "stream",
     "text": [
      "1/1 [==============================] - 0s 16ms/step\n",
      "111/111 - 3s - loss: 0.2913 - binary_accuracy: 0.8739 - val_loss: 0.5467 - val_binary_accuracy: 1.0000 - 3s/epoch - 28ms/step\n"
     ]
    },
    {
     "name": "stderr",
     "output_type": "stream",
     "text": [
      " 17%|█▋        | 15/90 [00:48<04:01,  3.22s/it]"
     ]
    },
    {
     "name": "stdout",
     "output_type": "stream",
     "text": [
      "1/1 [==============================] - 0s 23ms/step\n",
      "111/111 - 3s - loss: 0.2892 - binary_accuracy: 0.8747 - val_loss: 0.2098 - val_binary_accuracy: 1.0000 - 3s/epoch - 27ms/step\n"
     ]
    },
    {
     "name": "stderr",
     "output_type": "stream",
     "text": [
      " 18%|█▊        | 16/90 [00:51<03:57,  3.21s/it]"
     ]
    },
    {
     "name": "stdout",
     "output_type": "stream",
     "text": [
      "1/1 [==============================] - 0s 16ms/step\n",
      "111/111 - 3s - loss: 0.2893 - binary_accuracy: 0.8725 - val_loss: 0.3963 - val_binary_accuracy: 0.8125 - 3s/epoch - 28ms/step\n"
     ]
    },
    {
     "name": "stderr",
     "output_type": "stream",
     "text": [
      " 19%|█▉        | 17/90 [00:54<03:54,  3.21s/it]"
     ]
    },
    {
     "name": "stdout",
     "output_type": "stream",
     "text": [
      "1/1 [==============================] - 0s 23ms/step\n",
      "111/111 - 3s - loss: 0.2911 - binary_accuracy: 0.8740 - val_loss: 0.1872 - val_binary_accuracy: 0.9375 - 3s/epoch - 28ms/step\n"
     ]
    },
    {
     "name": "stderr",
     "output_type": "stream",
     "text": [
      " 20%|██        | 18/90 [00:58<03:52,  3.22s/it]"
     ]
    },
    {
     "name": "stdout",
     "output_type": "stream",
     "text": [
      "1/1 [==============================] - 0s 29ms/step\n",
      "111/111 - 3s - loss: 0.2900 - binary_accuracy: 0.8766 - val_loss: 0.3792 - val_binary_accuracy: 0.9375 - 3s/epoch - 28ms/step\n"
     ]
    },
    {
     "name": "stderr",
     "output_type": "stream",
     "text": [
      " 21%|██        | 19/90 [01:01<03:49,  3.23s/it]"
     ]
    },
    {
     "name": "stdout",
     "output_type": "stream",
     "text": [
      "1/1 [==============================] - 0s 37ms/step\n",
      "111/111 - 3s - loss: 0.2836 - binary_accuracy: 0.8763 - val_loss: 0.2588 - val_binary_accuracy: 0.8750 - 3s/epoch - 28ms/step\n"
     ]
    },
    {
     "name": "stderr",
     "output_type": "stream",
     "text": [
      " 22%|██▏       | 20/90 [01:04<03:46,  3.23s/it]"
     ]
    },
    {
     "name": "stdout",
     "output_type": "stream",
     "text": [
      "1/1 [==============================] - 0s 20ms/step\n",
      "111/111 - 3s - loss: 0.2886 - binary_accuracy: 0.8733 - val_loss: 0.0150 - val_binary_accuracy: 1.0000 - 3s/epoch - 29ms/step\n"
     ]
    },
    {
     "name": "stderr",
     "output_type": "stream",
     "text": [
      " 23%|██▎       | 21/90 [01:07<03:44,  3.25s/it]"
     ]
    },
    {
     "name": "stdout",
     "output_type": "stream",
     "text": [
      "1/1 [==============================] - 0s 16ms/step\n",
      "111/111 - 3s - loss: 0.2833 - binary_accuracy: 0.8766 - val_loss: 0.0170 - val_binary_accuracy: 1.0000 - 3s/epoch - 28ms/step\n"
     ]
    },
    {
     "name": "stderr",
     "output_type": "stream",
     "text": [
      " 24%|██▍       | 22/90 [01:11<03:39,  3.23s/it]"
     ]
    },
    {
     "name": "stdout",
     "output_type": "stream",
     "text": [
      "1/1 [==============================] - 0s 31ms/step\n",
      "111/111 - 3s - loss: 0.2891 - binary_accuracy: 0.8770 - val_loss: 0.2763 - val_binary_accuracy: 1.0000 - 3s/epoch - 28ms/step\n"
     ]
    },
    {
     "name": "stderr",
     "output_type": "stream",
     "text": [
      " 26%|██▌       | 23/90 [01:14<03:36,  3.23s/it]"
     ]
    },
    {
     "name": "stdout",
     "output_type": "stream",
     "text": [
      "1/1 [==============================] - 0s 23ms/step\n",
      "111/111 - 3s - loss: 0.2866 - binary_accuracy: 0.8743 - val_loss: 0.5497 - val_binary_accuracy: 0.7500 - 3s/epoch - 28ms/step\n"
     ]
    },
    {
     "name": "stderr",
     "output_type": "stream",
     "text": [
      " 27%|██▋       | 24/90 [01:17<03:33,  3.24s/it]"
     ]
    },
    {
     "name": "stdout",
     "output_type": "stream",
     "text": [
      "1/1 [==============================] - 0s 11ms/step\n",
      "111/111 - 3s - loss: 0.2869 - binary_accuracy: 0.8735 - val_loss: 0.0759 - val_binary_accuracy: 1.0000 - 3s/epoch - 28ms/step\n"
     ]
    },
    {
     "name": "stderr",
     "output_type": "stream",
     "text": [
      " 28%|██▊       | 25/90 [01:20<03:31,  3.25s/it]"
     ]
    },
    {
     "name": "stdout",
     "output_type": "stream",
     "text": [
      "1/1 [==============================] - 0s 22ms/step\n",
      "111/111 - 3s - loss: 0.2817 - binary_accuracy: 0.8769 - val_loss: 0.0180 - val_binary_accuracy: 1.0000 - 3s/epoch - 29ms/step\n"
     ]
    },
    {
     "name": "stderr",
     "output_type": "stream",
     "text": [
      " 29%|██▉       | 26/90 [01:24<03:28,  3.26s/it]"
     ]
    },
    {
     "name": "stdout",
     "output_type": "stream",
     "text": [
      "1/1 [==============================] - 0s 31ms/step\n",
      "111/111 - 3s - loss: 0.2820 - binary_accuracy: 0.8766 - val_loss: 0.0193 - val_binary_accuracy: 1.0000 - 3s/epoch - 28ms/step\n"
     ]
    },
    {
     "name": "stderr",
     "output_type": "stream",
     "text": [
      " 30%|███       | 27/90 [01:27<03:26,  3.28s/it]"
     ]
    },
    {
     "name": "stdout",
     "output_type": "stream",
     "text": [
      "1/1 [==============================] - 0s 16ms/step\n",
      "111/111 - 3s - loss: 0.2958 - binary_accuracy: 0.8716 - val_loss: 0.0140 - val_binary_accuracy: 1.0000 - 3s/epoch - 29ms/step\n"
     ]
    },
    {
     "name": "stderr",
     "output_type": "stream",
     "text": [
      " 31%|███       | 28/90 [01:30<03:23,  3.28s/it]"
     ]
    },
    {
     "name": "stdout",
     "output_type": "stream",
     "text": [
      "1/1 [==============================] - 0s 24ms/step\n",
      "111/111 - 3s - loss: 0.2800 - binary_accuracy: 0.8791 - val_loss: 0.1703 - val_binary_accuracy: 1.0000 - 3s/epoch - 28ms/step\n"
     ]
    },
    {
     "name": "stderr",
     "output_type": "stream",
     "text": [
      " 32%|███▏      | 29/90 [01:33<03:18,  3.26s/it]"
     ]
    },
    {
     "name": "stdout",
     "output_type": "stream",
     "text": [
      "1/1 [==============================] - 0s 39ms/step\n",
      "111/111 - 3s - loss: 0.2814 - binary_accuracy: 0.8781 - val_loss: 0.2414 - val_binary_accuracy: 1.0000 - 3s/epoch - 28ms/step\n"
     ]
    },
    {
     "name": "stderr",
     "output_type": "stream",
     "text": [
      " 33%|███▎      | 30/90 [01:37<03:16,  3.27s/it]"
     ]
    },
    {
     "name": "stdout",
     "output_type": "stream",
     "text": [
      "1/1 [==============================] - 0s 26ms/step\n",
      "111/111 - 3s - loss: 0.2955 - binary_accuracy: 0.8721 - val_loss: 1.0488 - val_binary_accuracy: 0.3125 - 3s/epoch - 29ms/step\n"
     ]
    },
    {
     "name": "stderr",
     "output_type": "stream",
     "text": [
      " 34%|███▍      | 31/90 [01:40<03:13,  3.28s/it]"
     ]
    },
    {
     "name": "stdout",
     "output_type": "stream",
     "text": [
      "1/1 [==============================] - 0s 36ms/step\n",
      "111/111 - 3s - loss: 0.2831 - binary_accuracy: 0.8763 - val_loss: 0.4095 - val_binary_accuracy: 0.8125 - 3s/epoch - 25ms/step\n"
     ]
    },
    {
     "name": "stderr",
     "output_type": "stream",
     "text": [
      " 36%|███▌      | 32/90 [01:43<03:04,  3.18s/it]"
     ]
    },
    {
     "name": "stdout",
     "output_type": "stream",
     "text": [
      "1/1 [==============================] - 0s 28ms/step\n",
      "112/112 - 3s - loss: 0.2785 - binary_accuracy: 0.8781 - val_loss: 0.0241 - val_binary_accuracy: 1.0000 - 3s/epoch - 29ms/step\n"
     ]
    },
    {
     "name": "stderr",
     "output_type": "stream",
     "text": [
      " 37%|███▋      | 33/90 [01:46<03:04,  3.24s/it]"
     ]
    },
    {
     "name": "stdout",
     "output_type": "stream",
     "text": [
      "1/1 [==============================] - 0s 16ms/step\n",
      "112/112 - 3s - loss: 0.2796 - binary_accuracy: 0.8790 - val_loss: 0.0151 - val_binary_accuracy: 1.0000 - 3s/epoch - 29ms/step\n"
     ]
    },
    {
     "name": "stderr",
     "output_type": "stream",
     "text": [
      " 38%|███▊      | 34/90 [01:50<03:02,  3.26s/it]"
     ]
    },
    {
     "name": "stdout",
     "output_type": "stream",
     "text": [
      "1/1 [==============================] - 0s 31ms/step\n",
      "112/112 - 3s - loss: 0.3679 - binary_accuracy: 0.8488 - val_loss: 0.3421 - val_binary_accuracy: 0.8125 - 3s/epoch - 28ms/step\n"
     ]
    },
    {
     "name": "stderr",
     "output_type": "stream",
     "text": [
      " 39%|███▉      | 35/90 [01:53<02:59,  3.26s/it]"
     ]
    },
    {
     "name": "stdout",
     "output_type": "stream",
     "text": [
      "1/1 [==============================] - 0s 24ms/step\n",
      "112/112 - 3s - loss: 0.3083 - binary_accuracy: 0.8681 - val_loss: 0.3349 - val_binary_accuracy: 0.8750 - 3s/epoch - 28ms/step\n"
     ]
    },
    {
     "name": "stderr",
     "output_type": "stream",
     "text": [
      " 40%|████      | 36/90 [01:56<02:55,  3.25s/it]"
     ]
    },
    {
     "name": "stdout",
     "output_type": "stream",
     "text": [
      "1/1 [==============================] - 0s 24ms/step\n",
      "112/112 - 3s - loss: 0.3055 - binary_accuracy: 0.8687 - val_loss: 0.1019 - val_binary_accuracy: 1.0000 - 3s/epoch - 29ms/step\n"
     ]
    },
    {
     "name": "stderr",
     "output_type": "stream",
     "text": [
      " 41%|████      | 37/90 [01:59<02:53,  3.28s/it]"
     ]
    },
    {
     "name": "stdout",
     "output_type": "stream",
     "text": [
      "1/1 [==============================] - 0s 31ms/step\n",
      "112/112 - 3s - loss: 0.2968 - binary_accuracy: 0.8742 - val_loss: 0.1257 - val_binary_accuracy: 0.9375 - 3s/epoch - 28ms/step\n"
     ]
    },
    {
     "name": "stderr",
     "output_type": "stream",
     "text": [
      " 42%|████▏     | 38/90 [02:03<02:50,  3.28s/it]"
     ]
    },
    {
     "name": "stdout",
     "output_type": "stream",
     "text": [
      "1/1 [==============================] - 0s 36ms/step\n",
      "112/112 - 3s - loss: 0.2893 - binary_accuracy: 0.8753 - val_loss: 0.0173 - val_binary_accuracy: 1.0000 - 3s/epoch - 28ms/step\n"
     ]
    },
    {
     "name": "stderr",
     "output_type": "stream",
     "text": [
      " 43%|████▎     | 39/90 [02:06<02:47,  3.29s/it]"
     ]
    },
    {
     "name": "stdout",
     "output_type": "stream",
     "text": [
      "1/1 [==============================] - 0s 16ms/step\n",
      "112/112 - 3s - loss: 0.2851 - binary_accuracy: 0.8751 - val_loss: 0.0185 - val_binary_accuracy: 1.0000 - 3s/epoch - 28ms/step\n"
     ]
    },
    {
     "name": "stderr",
     "output_type": "stream",
     "text": [
      " 44%|████▍     | 40/90 [02:09<02:44,  3.29s/it]"
     ]
    },
    {
     "name": "stdout",
     "output_type": "stream",
     "text": [
      "1/1 [==============================] - 0s 31ms/step\n",
      "112/112 - 3s - loss: 0.2806 - binary_accuracy: 0.8793 - val_loss: 0.1212 - val_binary_accuracy: 1.0000 - 3s/epoch - 28ms/step\n"
     ]
    },
    {
     "name": "stderr",
     "output_type": "stream",
     "text": [
      " 46%|████▌     | 41/90 [02:13<02:41,  3.29s/it]"
     ]
    },
    {
     "name": "stdout",
     "output_type": "stream",
     "text": [
      "1/1 [==============================] - 0s 23ms/step\n",
      "112/112 - 3s - loss: 0.2815 - binary_accuracy: 0.8776 - val_loss: 0.1412 - val_binary_accuracy: 1.0000 - 3s/epoch - 28ms/step\n"
     ]
    },
    {
     "name": "stderr",
     "output_type": "stream",
     "text": [
      " 47%|████▋     | 42/90 [02:16<02:38,  3.30s/it]"
     ]
    },
    {
     "name": "stdout",
     "output_type": "stream",
     "text": [
      "1/1 [==============================] - 0s 29ms/step\n",
      "112/112 - 3s - loss: 0.2821 - binary_accuracy: 0.8785 - val_loss: 0.2530 - val_binary_accuracy: 1.0000 - 3s/epoch - 29ms/step\n"
     ]
    },
    {
     "name": "stderr",
     "output_type": "stream",
     "text": [
      " 48%|████▊     | 43/90 [02:19<02:35,  3.32s/it]"
     ]
    },
    {
     "name": "stdout",
     "output_type": "stream",
     "text": [
      "1/1 [==============================] - 0s 22ms/step\n",
      "112/112 - 3s - loss: 0.2803 - binary_accuracy: 0.8799 - val_loss: 0.2477 - val_binary_accuracy: 1.0000 - 3s/epoch - 29ms/step\n"
     ]
    },
    {
     "name": "stderr",
     "output_type": "stream",
     "text": [
      " 49%|████▉     | 44/90 [02:23<02:32,  3.32s/it]"
     ]
    },
    {
     "name": "stdout",
     "output_type": "stream",
     "text": [
      "1/1 [==============================] - 0s 24ms/step\n",
      "112/112 - 3s - loss: 0.3035 - binary_accuracy: 0.8704 - val_loss: 1.5787 - val_binary_accuracy: 0.1250 - 3s/epoch - 28ms/step\n"
     ]
    },
    {
     "name": "stderr",
     "output_type": "stream",
     "text": [
      " 50%|█████     | 45/90 [02:26<02:28,  3.31s/it]"
     ]
    },
    {
     "name": "stdout",
     "output_type": "stream",
     "text": [
      "1/1 [==============================] - 0s 39ms/step\n",
      "112/112 - 3s - loss: 0.2867 - binary_accuracy: 0.8768 - val_loss: 0.3253 - val_binary_accuracy: 1.0000 - 3s/epoch - 29ms/step\n"
     ]
    },
    {
     "name": "stderr",
     "output_type": "stream",
     "text": [
      " 51%|█████     | 46/90 [02:29<02:26,  3.32s/it]"
     ]
    },
    {
     "name": "stdout",
     "output_type": "stream",
     "text": [
      "1/1 [==============================] - 0s 24ms/step\n",
      "112/112 - 3s - loss: 0.2876 - binary_accuracy: 0.8745 - val_loss: 1.7283 - val_binary_accuracy: 0.1250 - 3s/epoch - 28ms/step\n"
     ]
    },
    {
     "name": "stderr",
     "output_type": "stream",
     "text": [
      " 52%|█████▏    | 47/90 [02:33<02:22,  3.31s/it]"
     ]
    },
    {
     "name": "stdout",
     "output_type": "stream",
     "text": [
      "1/1 [==============================] - 0s 21ms/step\n",
      "112/112 - 3s - loss: 0.2761 - binary_accuracy: 0.8809 - val_loss: 0.0632 - val_binary_accuracy: 1.0000 - 3s/epoch - 29ms/step\n"
     ]
    },
    {
     "name": "stderr",
     "output_type": "stream",
     "text": [
      " 53%|█████▎    | 48/90 [02:36<02:19,  3.32s/it]"
     ]
    },
    {
     "name": "stdout",
     "output_type": "stream",
     "text": [
      "1/1 [==============================] - 0s 24ms/step\n",
      "112/112 - 3s - loss: 0.2701 - binary_accuracy: 0.8804 - val_loss: 0.0137 - val_binary_accuracy: 1.0000 - 3s/epoch - 29ms/step\n"
     ]
    },
    {
     "name": "stderr",
     "output_type": "stream",
     "text": [
      " 54%|█████▍    | 49/90 [02:39<02:16,  3.32s/it]"
     ]
    },
    {
     "name": "stdout",
     "output_type": "stream",
     "text": [
      "1/1 [==============================] - 0s 18ms/step\n",
      "112/112 - 3s - loss: 0.2697 - binary_accuracy: 0.8807 - val_loss: 0.0230 - val_binary_accuracy: 1.0000 - 3s/epoch - 28ms/step\n"
     ]
    },
    {
     "name": "stderr",
     "output_type": "stream",
     "text": [
      " 56%|█████▌    | 50/90 [02:43<02:12,  3.31s/it]"
     ]
    },
    {
     "name": "stdout",
     "output_type": "stream",
     "text": [
      "1/1 [==============================] - 0s 24ms/step\n",
      "112/112 - 3s - loss: 0.2806 - binary_accuracy: 0.8773 - val_loss: 0.6257 - val_binary_accuracy: 0.6875 - 3s/epoch - 29ms/step\n"
     ]
    },
    {
     "name": "stderr",
     "output_type": "stream",
     "text": [
      " 57%|█████▋    | 51/90 [02:46<02:09,  3.33s/it]"
     ]
    },
    {
     "name": "stdout",
     "output_type": "stream",
     "text": [
      "1/1 [==============================] - 0s 27ms/step\n",
      "112/112 - 3s - loss: 0.2799 - binary_accuracy: 0.8781 - val_loss: 0.0419 - val_binary_accuracy: 1.0000 - 3s/epoch - 29ms/step\n"
     ]
    },
    {
     "name": "stderr",
     "output_type": "stream",
     "text": [
      " 58%|█████▊    | 52/90 [02:49<02:06,  3.33s/it]"
     ]
    },
    {
     "name": "stdout",
     "output_type": "stream",
     "text": [
      "1/1 [==============================] - 0s 31ms/step\n",
      "112/112 - 3s - loss: 0.2723 - binary_accuracy: 0.8804 - val_loss: 0.0162 - val_binary_accuracy: 1.0000 - 3s/epoch - 29ms/step\n"
     ]
    },
    {
     "name": "stderr",
     "output_type": "stream",
     "text": [
      " 59%|█████▉    | 53/90 [02:53<02:03,  3.33s/it]"
     ]
    },
    {
     "name": "stdout",
     "output_type": "stream",
     "text": [
      "1/1 [==============================] - 0s 31ms/step\n",
      "112/112 - 3s - loss: 0.2719 - binary_accuracy: 0.8805 - val_loss: 0.2881 - val_binary_accuracy: 0.8125 - 3s/epoch - 28ms/step\n"
     ]
    },
    {
     "name": "stderr",
     "output_type": "stream",
     "text": [
      " 60%|██████    | 54/90 [02:56<01:59,  3.32s/it]"
     ]
    },
    {
     "name": "stdout",
     "output_type": "stream",
     "text": [
      "1/1 [==============================] - 0s 17ms/step\n",
      "112/112 - 3s - loss: 0.2726 - binary_accuracy: 0.8833 - val_loss: 0.2326 - val_binary_accuracy: 0.8125 - 3s/epoch - 29ms/step\n"
     ]
    },
    {
     "name": "stderr",
     "output_type": "stream",
     "text": [
      " 61%|██████    | 55/90 [02:59<01:56,  3.32s/it]"
     ]
    },
    {
     "name": "stdout",
     "output_type": "stream",
     "text": [
      "1/1 [==============================] - 0s 26ms/step\n",
      "112/112 - 3s - loss: 0.2789 - binary_accuracy: 0.8785 - val_loss: 0.3471 - val_binary_accuracy: 0.9375 - 3s/epoch - 29ms/step\n"
     ]
    },
    {
     "name": "stderr",
     "output_type": "stream",
     "text": [
      " 62%|██████▏   | 56/90 [03:03<01:53,  3.33s/it]"
     ]
    },
    {
     "name": "stdout",
     "output_type": "stream",
     "text": [
      "1/1 [==============================] - 0s 26ms/step\n",
      "112/112 - 3s - loss: 0.2733 - binary_accuracy: 0.8805 - val_loss: 0.6019 - val_binary_accuracy: 0.8125 - 3s/epoch - 29ms/step\n"
     ]
    },
    {
     "name": "stderr",
     "output_type": "stream",
     "text": [
      " 63%|██████▎   | 57/90 [03:06<01:50,  3.34s/it]"
     ]
    },
    {
     "name": "stdout",
     "output_type": "stream",
     "text": [
      "1/1 [==============================] - 0s 33ms/step\n",
      "112/112 - 3s - loss: 0.2655 - binary_accuracy: 0.8835 - val_loss: 0.0631 - val_binary_accuracy: 1.0000 - 3s/epoch - 29ms/step\n"
     ]
    },
    {
     "name": "stderr",
     "output_type": "stream",
     "text": [
      " 64%|██████▍   | 58/90 [03:09<01:47,  3.36s/it]"
     ]
    },
    {
     "name": "stdout",
     "output_type": "stream",
     "text": [
      "1/1 [==============================] - 0s 35ms/step\n",
      "112/112 - 3s - loss: 0.2724 - binary_accuracy: 0.8802 - val_loss: 0.4095 - val_binary_accuracy: 0.7500 - 3s/epoch - 29ms/step\n"
     ]
    },
    {
     "name": "stderr",
     "output_type": "stream",
     "text": [
      " 66%|██████▌   | 59/90 [03:13<01:44,  3.37s/it]"
     ]
    },
    {
     "name": "stdout",
     "output_type": "stream",
     "text": [
      "1/1 [==============================] - 0s 17ms/step\n",
      "112/112 - 3s - loss: 0.2795 - binary_accuracy: 0.8772 - val_loss: 0.0207 - val_binary_accuracy: 1.0000 - 3s/epoch - 29ms/step\n"
     ]
    },
    {
     "name": "stderr",
     "output_type": "stream",
     "text": [
      " 67%|██████▋   | 60/90 [03:16<01:40,  3.35s/it]"
     ]
    },
    {
     "name": "stdout",
     "output_type": "stream",
     "text": [
      "1/1 [==============================] - 0s 25ms/step\n",
      "112/112 - 3s - loss: 0.2788 - binary_accuracy: 0.8768 - val_loss: 0.0324 - val_binary_accuracy: 1.0000 - 3s/epoch - 29ms/step\n"
     ]
    },
    {
     "name": "stderr",
     "output_type": "stream",
     "text": [
      " 68%|██████▊   | 61/90 [03:19<01:37,  3.36s/it]"
     ]
    },
    {
     "name": "stdout",
     "output_type": "stream",
     "text": [
      "1/1 [==============================] - 0s 24ms/step\n",
      "112/112 - 3s - loss: 0.2721 - binary_accuracy: 0.8799 - val_loss: 0.6153 - val_binary_accuracy: 0.6250 - 3s/epoch - 29ms/step\n"
     ]
    },
    {
     "name": "stderr",
     "output_type": "stream",
     "text": [
      " 69%|██████▉   | 62/90 [03:23<01:34,  3.36s/it]"
     ]
    },
    {
     "name": "stdout",
     "output_type": "stream",
     "text": [
      "1/1 [==============================] - 0s 32ms/step\n",
      "112/112 - 3s - loss: 0.2754 - binary_accuracy: 0.8808 - val_loss: 0.1230 - val_binary_accuracy: 1.0000 - 3s/epoch - 30ms/step\n"
     ]
    },
    {
     "name": "stderr",
     "output_type": "stream",
     "text": [
      " 70%|███████   | 63/90 [03:26<01:31,  3.40s/it]"
     ]
    },
    {
     "name": "stdout",
     "output_type": "stream",
     "text": [
      "1/1 [==============================] - 0s 50ms/step\n",
      "112/112 - 3s - loss: 0.2762 - binary_accuracy: 0.8786 - val_loss: 0.3609 - val_binary_accuracy: 0.8750 - 3s/epoch - 27ms/step\n"
     ]
    },
    {
     "name": "stderr",
     "output_type": "stream",
     "text": [
      " 71%|███████   | 64/90 [03:29<01:27,  3.36s/it]"
     ]
    },
    {
     "name": "stdout",
     "output_type": "stream",
     "text": [
      "1/1 [==============================] - 0s 24ms/step\n",
      "113/113 - 3s - loss: 0.2698 - binary_accuracy: 0.8822 - val_loss: 0.1865 - val_binary_accuracy: 1.0000 - 3s/epoch - 30ms/step\n"
     ]
    },
    {
     "name": "stderr",
     "output_type": "stream",
     "text": [
      " 72%|███████▏  | 65/90 [03:33<01:25,  3.42s/it]"
     ]
    },
    {
     "name": "stdout",
     "output_type": "stream",
     "text": [
      "1/1 [==============================] - 0s 16ms/step\n",
      "113/113 - 3s - loss: 0.2772 - binary_accuracy: 0.8797 - val_loss: 0.5358 - val_binary_accuracy: 0.8750 - 3s/epoch - 30ms/step\n"
     ]
    },
    {
     "name": "stderr",
     "output_type": "stream",
     "text": [
      " 73%|███████▎  | 66/90 [03:37<01:22,  3.45s/it]"
     ]
    },
    {
     "name": "stdout",
     "output_type": "stream",
     "text": [
      "1/1 [==============================] - 0s 33ms/step\n",
      "113/113 - 3s - loss: 0.2807 - binary_accuracy: 0.8781 - val_loss: 0.0424 - val_binary_accuracy: 1.0000 - 3s/epoch - 29ms/step\n"
     ]
    },
    {
     "name": "stderr",
     "output_type": "stream",
     "text": [
      " 74%|███████▍  | 67/90 [03:40<01:18,  3.43s/it]"
     ]
    },
    {
     "name": "stdout",
     "output_type": "stream",
     "text": [
      "1/1 [==============================] - 0s 23ms/step\n",
      "113/113 - 3s - loss: 0.2842 - binary_accuracy: 0.8781 - val_loss: 1.0935 - val_binary_accuracy: 0.5000 - 3s/epoch - 29ms/step\n"
     ]
    },
    {
     "name": "stderr",
     "output_type": "stream",
     "text": [
      " 76%|███████▌  | 68/90 [03:43<01:15,  3.43s/it]"
     ]
    },
    {
     "name": "stdout",
     "output_type": "stream",
     "text": [
      "1/1 [==============================] - 0s 16ms/step\n",
      "113/113 - 3s - loss: 0.2723 - binary_accuracy: 0.8809 - val_loss: 0.4556 - val_binary_accuracy: 0.8750 - 3s/epoch - 29ms/step\n"
     ]
    },
    {
     "name": "stderr",
     "output_type": "stream",
     "text": [
      " 77%|███████▋  | 69/90 [03:47<01:11,  3.42s/it]"
     ]
    },
    {
     "name": "stdout",
     "output_type": "stream",
     "text": [
      "1/1 [==============================] - 0s 31ms/step\n",
      "113/113 - 3s - loss: 0.2737 - binary_accuracy: 0.8803 - val_loss: 0.0245 - val_binary_accuracy: 1.0000 - 3s/epoch - 29ms/step\n"
     ]
    },
    {
     "name": "stderr",
     "output_type": "stream",
     "text": [
      " 78%|███████▊  | 70/90 [03:50<01:08,  3.41s/it]"
     ]
    },
    {
     "name": "stdout",
     "output_type": "stream",
     "text": [
      "1/1 [==============================] - 0s 16ms/step\n",
      "113/113 - 3s - loss: 0.2727 - binary_accuracy: 0.8812 - val_loss: 1.6777 - val_binary_accuracy: 0.1875 - 3s/epoch - 28ms/step\n"
     ]
    },
    {
     "name": "stderr",
     "output_type": "stream",
     "text": [
      " 79%|███████▉  | 71/90 [03:53<01:04,  3.38s/it]"
     ]
    },
    {
     "name": "stdout",
     "output_type": "stream",
     "text": [
      "1/1 [==============================] - 0s 16ms/step\n",
      "113/113 - 3s - loss: 0.2708 - binary_accuracy: 0.8815 - val_loss: 0.0181 - val_binary_accuracy: 1.0000 - 3s/epoch - 28ms/step\n"
     ]
    },
    {
     "name": "stderr",
     "output_type": "stream",
     "text": [
      " 80%|████████  | 72/90 [03:57<01:00,  3.34s/it]"
     ]
    },
    {
     "name": "stdout",
     "output_type": "stream",
     "text": [
      "1/1 [==============================] - 0s 31ms/step\n",
      "113/113 - 3s - loss: 0.2819 - binary_accuracy: 0.8782 - val_loss: 0.0181 - val_binary_accuracy: 1.0000 - 3s/epoch - 29ms/step\n"
     ]
    },
    {
     "name": "stderr",
     "output_type": "stream",
     "text": [
      " 81%|████████  | 73/90 [04:00<00:57,  3.37s/it]"
     ]
    },
    {
     "name": "stdout",
     "output_type": "stream",
     "text": [
      "1/1 [==============================] - 0s 31ms/step\n",
      "113/113 - 3s - loss: 0.2753 - binary_accuracy: 0.8794 - val_loss: 0.0162 - val_binary_accuracy: 1.0000 - 3s/epoch - 29ms/step\n"
     ]
    },
    {
     "name": "stderr",
     "output_type": "stream",
     "text": [
      " 82%|████████▏ | 74/90 [04:04<00:54,  3.38s/it]"
     ]
    },
    {
     "name": "stdout",
     "output_type": "stream",
     "text": [
      "1/1 [==============================] - 0s 31ms/step\n",
      "113/113 - 3s - loss: 0.2739 - binary_accuracy: 0.8815 - val_loss: 0.0153 - val_binary_accuracy: 1.0000 - 3s/epoch - 29ms/step\n"
     ]
    },
    {
     "name": "stderr",
     "output_type": "stream",
     "text": [
      " 83%|████████▎ | 75/90 [04:07<00:50,  3.40s/it]"
     ]
    },
    {
     "name": "stdout",
     "output_type": "stream",
     "text": [
      "1/1 [==============================] - 0s 31ms/step\n",
      "113/113 - 3s - loss: 0.2789 - binary_accuracy: 0.8789 - val_loss: 0.2300 - val_binary_accuracy: 1.0000 - 3s/epoch - 29ms/step\n"
     ]
    },
    {
     "name": "stderr",
     "output_type": "stream",
     "text": [
      " 84%|████████▍ | 76/90 [04:10<00:47,  3.41s/it]"
     ]
    },
    {
     "name": "stdout",
     "output_type": "stream",
     "text": [
      "1/1 [==============================] - 0s 11ms/step\n",
      "113/113 - 3s - loss: 0.2701 - binary_accuracy: 0.8822 - val_loss: 1.0852 - val_binary_accuracy: 0.3125 - 3s/epoch - 28ms/step\n"
     ]
    },
    {
     "name": "stderr",
     "output_type": "stream",
     "text": [
      " 86%|████████▌ | 77/90 [04:14<00:43,  3.38s/it]"
     ]
    },
    {
     "name": "stdout",
     "output_type": "stream",
     "text": [
      "1/1 [==============================] - 0s 31ms/step\n",
      "113/113 - 3s - loss: 0.2811 - binary_accuracy: 0.8780 - val_loss: 0.8520 - val_binary_accuracy: 0.5000 - 3s/epoch - 30ms/step\n"
     ]
    },
    {
     "name": "stderr",
     "output_type": "stream",
     "text": [
      " 87%|████████▋ | 78/90 [04:17<00:40,  3.41s/it]"
     ]
    },
    {
     "name": "stdout",
     "output_type": "stream",
     "text": [
      "1/1 [==============================] - 0s 33ms/step\n",
      "113/113 - 3s - loss: 0.2891 - binary_accuracy: 0.8757 - val_loss: 0.6881 - val_binary_accuracy: 0.3125 - 3s/epoch - 30ms/step\n"
     ]
    },
    {
     "name": "stderr",
     "output_type": "stream",
     "text": [
      " 88%|████████▊ | 79/90 [04:21<00:37,  3.44s/it]"
     ]
    },
    {
     "name": "stdout",
     "output_type": "stream",
     "text": [
      "1/1 [==============================] - 0s 16ms/step\n",
      "113/113 - 3s - loss: 0.2790 - binary_accuracy: 0.8778 - val_loss: 0.0156 - val_binary_accuracy: 1.0000 - 3s/epoch - 28ms/step\n"
     ]
    },
    {
     "name": "stderr",
     "output_type": "stream",
     "text": [
      " 89%|████████▉ | 80/90 [04:24<00:33,  3.39s/it]"
     ]
    },
    {
     "name": "stdout",
     "output_type": "stream",
     "text": [
      "1/1 [==============================] - 0s 31ms/step\n",
      "113/113 - 3s - loss: 0.2820 - binary_accuracy: 0.8773 - val_loss: 0.3767 - val_binary_accuracy: 0.6875 - 3s/epoch - 29ms/step\n"
     ]
    },
    {
     "name": "stderr",
     "output_type": "stream",
     "text": [
      " 90%|█████████ | 81/90 [04:27<00:30,  3.38s/it]"
     ]
    },
    {
     "name": "stdout",
     "output_type": "stream",
     "text": [
      "1/1 [==============================] - 0s 24ms/step\n",
      "113/113 - 3s - loss: 0.2775 - binary_accuracy: 0.8780 - val_loss: 0.1676 - val_binary_accuracy: 1.0000 - 3s/epoch - 28ms/step\n"
     ]
    },
    {
     "name": "stderr",
     "output_type": "stream",
     "text": [
      " 91%|█████████ | 82/90 [04:31<00:26,  3.37s/it]"
     ]
    },
    {
     "name": "stdout",
     "output_type": "stream",
     "text": [
      "1/1 [==============================] - 0s 16ms/step\n",
      "113/113 - 3s - loss: 0.2726 - binary_accuracy: 0.8819 - val_loss: 0.7307 - val_binary_accuracy: 0.7500 - 3s/epoch - 28ms/step\n"
     ]
    },
    {
     "name": "stderr",
     "output_type": "stream",
     "text": [
      " 92%|█████████▏| 83/90 [04:34<00:23,  3.35s/it]"
     ]
    },
    {
     "name": "stdout",
     "output_type": "stream",
     "text": [
      "1/1 [==============================] - 0s 31ms/step\n",
      "113/113 - 3s - loss: 0.2683 - binary_accuracy: 0.8821 - val_loss: 0.2063 - val_binary_accuracy: 0.8125 - 3s/epoch - 29ms/step\n"
     ]
    },
    {
     "name": "stderr",
     "output_type": "stream",
     "text": [
      " 93%|█████████▎| 84/90 [04:37<00:20,  3.34s/it]"
     ]
    },
    {
     "name": "stdout",
     "output_type": "stream",
     "text": [
      "1/1 [==============================] - 0s 16ms/step\n",
      "113/113 - 3s - loss: 0.2754 - binary_accuracy: 0.8788 - val_loss: 0.0158 - val_binary_accuracy: 1.0000 - 3s/epoch - 28ms/step\n"
     ]
    },
    {
     "name": "stderr",
     "output_type": "stream",
     "text": [
      " 94%|█████████▍| 85/90 [04:41<00:16,  3.34s/it]"
     ]
    },
    {
     "name": "stdout",
     "output_type": "stream",
     "text": [
      "1/1 [==============================] - 0s 16ms/step\n",
      "113/113 - 3s - loss: 0.2804 - binary_accuracy: 0.8783 - val_loss: 0.2165 - val_binary_accuracy: 1.0000 - 3s/epoch - 28ms/step\n"
     ]
    },
    {
     "name": "stderr",
     "output_type": "stream",
     "text": [
      " 96%|█████████▌| 86/90 [04:44<00:13,  3.33s/it]"
     ]
    },
    {
     "name": "stdout",
     "output_type": "stream",
     "text": [
      "1/1 [==============================] - 0s 31ms/step\n",
      "113/113 - 3s - loss: 0.2835 - binary_accuracy: 0.8772 - val_loss: 0.4689 - val_binary_accuracy: 0.8750 - 3s/epoch - 29ms/step\n"
     ]
    },
    {
     "name": "stderr",
     "output_type": "stream",
     "text": [
      " 97%|█████████▋| 87/90 [04:47<00:10,  3.35s/it]"
     ]
    },
    {
     "name": "stdout",
     "output_type": "stream",
     "text": [
      "1/1 [==============================] - 0s 16ms/step\n",
      "113/113 - 3s - loss: 0.2851 - binary_accuracy: 0.8757 - val_loss: 0.8374 - val_binary_accuracy: 0.7500 - 3s/epoch - 29ms/step\n"
     ]
    },
    {
     "name": "stderr",
     "output_type": "stream",
     "text": [
      " 98%|█████████▊| 88/90 [04:51<00:06,  3.36s/it]"
     ]
    },
    {
     "name": "stdout",
     "output_type": "stream",
     "text": [
      "1/1 [==============================] - 0s 16ms/step\n",
      "113/113 - 3s - loss: 0.2791 - binary_accuracy: 0.8793 - val_loss: 0.0163 - val_binary_accuracy: 1.0000 - 3s/epoch - 28ms/step\n"
     ]
    },
    {
     "name": "stderr",
     "output_type": "stream",
     "text": [
      " 99%|█████████▉| 89/90 [04:54<00:03,  3.34s/it]"
     ]
    },
    {
     "name": "stdout",
     "output_type": "stream",
     "text": [
      "1/1 [==============================] - 0s 31ms/step\n",
      "113/113 - 3s - loss: 0.2703 - binary_accuracy: 0.8832 - val_loss: 0.0870 - val_binary_accuracy: 1.0000 - 3s/epoch - 29ms/step\n"
     ]
    },
    {
     "name": "stderr",
     "output_type": "stream",
     "text": [
      "100%|██████████| 90/90 [04:58<00:00,  3.31s/it]"
     ]
    },
    {
     "name": "stdout",
     "output_type": "stream",
     "text": [
      "Final Evaluation - Loss: 0.23880405724048615, Accuracy: 0.8888888955116272\n"
     ]
    },
    {
     "name": "stderr",
     "output_type": "stream",
     "text": [
      "\n"
     ]
    }
   ],
   "source": [
    "from tqdm import tqdm\n",
    "\n",
    "class OnlineTrainer:\n",
    "    def __init__(self, model):\n",
    "        self.model = model\n",
    "\n",
    "    def online_train(self, X_train, y_train, X_test, y_test):\n",
    "        training_losses = []\n",
    "        training_acc = []\n",
    "        val_losses = []\n",
    "        val_acc = []\n",
    "\n",
    "        for i in tqdm(range(len(X_test))):\n",
    "            # Predict the next instance (optional, depending on your requirements)\n",
    "            y_pred = self.model.predict(X_test[i:i+1])\n",
    "            \n",
    "            # Add the instance and its actual result to the training dataset\n",
    "            X_train = np.append(X_train, X_test[i:i+1], axis=0)\n",
    "            y_train = np.append(y_train, y_test[i:i+1], axis=0)\n",
    "\n",
    "            # Retrain the model on this updated dataset\n",
    "            history = self.model.fit(\n",
    "                X_train, y_train,\n",
    "                validation_data=(X_test[i:i+1], y_test[i:i+1]),\n",
    "                epochs=1, verbose=2\n",
    "            )\n",
    "            training_losses.append(history.history['loss'][0])\n",
    "            training_acc.append(history.history['binary_accuracy'][0])\n",
    "            val_losses.append(history.history['val_loss'][0])\n",
    "            val_acc.append(history.history['val_binary_accuracy'][0])\n",
    "\n",
    "        # Return training and validation metrics\n",
    "        return training_losses, training_acc, val_losses, val_acc\n",
    "\n",
    "    def evaluate(self, X_test, y_test):\n",
    "        # Perform a final evaluation on the test set\n",
    "        final_evaluation = self.model.evaluate(X_test, y_test, verbose=0)\n",
    "        return final_evaluation\n",
    "\n",
    "# Usage example\n",
    "online_trainer = OnlineTrainer(seq2seq_model)\n",
    "training_losses, training_acc, val_losses, val_acc = online_trainer.online_train(X_train, y_train, X_test, y_test)\n",
    "final_evaluation = online_trainer.evaluate(X_test, y_test)\n",
    "\n",
    "# Output the final evaluation metrics\n",
    "print(f\"Final Evaluation - Loss: {final_evaluation[0]}, Accuracy: {final_evaluation[1]}\")\n"
   ]
  }
 ],
 "metadata": {
  "kernelspec": {
   "display_name": "myenv",
   "language": "python",
   "name": "python3"
  },
  "language_info": {
   "codemirror_mode": {
    "name": "ipython",
    "version": 3
   },
   "file_extension": ".py",
   "mimetype": "text/x-python",
   "name": "python",
   "nbconvert_exporter": "python",
   "pygments_lexer": "ipython3",
   "version": "3.10.7"
  }
 },
 "nbformat": 4,
 "nbformat_minor": 2
}
