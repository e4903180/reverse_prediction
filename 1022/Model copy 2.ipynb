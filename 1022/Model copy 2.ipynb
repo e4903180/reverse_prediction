{
 "cells": [
  {
   "cell_type": "code",
   "execution_count": 33,
   "metadata": {},
   "outputs": [],
   "source": [
    "import yfinance as yf\n",
    "import numpy as np\n",
    "import pandas as pd\n",
    "from scipy.signal import argrelextrema\n",
    "import talib\n",
    "from abc import ABC, abstractmethod\n",
    "from sklearn.preprocessing import StandardScaler, MinMaxScaler"
   ]
  },
  {
   "cell_type": "code",
   "execution_count": 34,
   "metadata": {},
   "outputs": [
    {
     "name": "stdout",
     "output_type": "stream",
     "text": [
      "[*********************100%***********************]  1 of 1 completed\n"
     ]
    }
   ],
   "source": [
    "class FeatureBase(ABC):\n",
    "    \"\"\"\n",
    "    Abstract base class for all features.\n",
    "    \"\"\"\n",
    "    @abstractmethod\n",
    "    def compute(self, data=None, *args, **kwargs):\n",
    "        \"\"\"\n",
    "        Abstract method to compute the feature value for the given data.\n",
    "        \"\"\"\n",
    "        pass\n",
    "\n",
    "\n",
    "# TODO: there's some wrong in calculate trend ways, add a new method that can split data by date\n",
    "class IndicatorTrend(FeatureBase):\n",
    "    \"\"\"\n",
    "    Indicator to calculate the trend based on various methods.\n",
    "    \"\"\"\n",
    "    def compute(self, data, *args, **kwargs):\n",
    "        \"\"\"\n",
    "        Compute the trend for the given data using the specified method.\n",
    "\n",
    "        Parameters:\n",
    "        - data: DataFrame containing the data.\n",
    "        - method: Method for trend calculation (e.g., 'MA', 'LocalExtrema').\n",
    "        - ma_days: Number of days for moving average.\n",
    "        - oder_days: Number of days for order.\n",
    "        - trend_days: Number of days to determine the trend.\n",
    "\n",
    "        Returns:\n",
    "        - DataFrame with trend values.\n",
    "        \"\"\"\n",
    "        method = kwargs.get('method', 'MA')\n",
    "        ma_days = kwargs.get('ma_days', 20)\n",
    "        oder_days = kwargs.get('oder_days', 20)\n",
    "        trend_days = kwargs.get('trend_days', 5)\n",
    "\n",
    "        if method == 'MA':\n",
    "            return self.calculate_trend_MA(data, ma_days=ma_days, trend_days=trend_days)\n",
    "        elif method == 'LocalExtrema':\n",
    "            return self.calculate_trend_LocalExtrema(data, oder_days=oder_days)\n",
    "        else:\n",
    "            raise ValueError(f\"Invalid trend calculation method: {method}\")\n",
    "\n",
    "    def calculate_trend_MA(self, data, ma_days=20, trend_days=5):\n",
    "        \"\"\"\n",
    "        Calculate trend using Moving Average method.\n",
    "\n",
    "        Parameters:\n",
    "        - data: DataFrame containing the data.\n",
    "        - ma_days: Number of days for moving average.\n",
    "        - trend_days: Number of days to determine the trend.\n",
    "\n",
    "        Returns:\n",
    "        - DataFrame with trend values.\n",
    "        \"\"\"\n",
    "        data['MA'] = data['Close'].rolling(window=ma_days).mean()\n",
    "        data['Trend'] = np.nan\n",
    "        n = len(data)\n",
    "\n",
    "        for i in range(n - trend_days + 1):\n",
    "            if all(data['MA'].iloc[i + j] < data['MA'].iloc[i + j + 1] for j in range(trend_days - 1)):\n",
    "                data['Trend'].iloc[i:i + trend_days] = 0\n",
    "            elif all(data['MA'].iloc[i + j] > data['MA'].iloc[i + j + 1] for j in range(trend_days - 1)):\n",
    "                data['Trend'].iloc[i:i + trend_days] = 1\n",
    "        data['Trend'].fillna(method='ffill', inplace=True)\n",
    "        return data.drop(columns=['MA'])\n",
    "\n",
    "    def calculate_trend_LocalExtrema(self, data, oder_days=20):\n",
    "        \"\"\"\n",
    "        Calculate trend using Local Extrema method.\n",
    "\n",
    "        Parameters:\n",
    "        - data: DataFrame containing the data.\n",
    "        - oder_days: Number of days for order.\n",
    "\n",
    "        Returns:\n",
    "        - DataFrame with trend values.\n",
    "        \"\"\"\n",
    "        local_max_indices = argrelextrema(\n",
    "            data['Close'].values, np.greater_equal, order=oder_days)[0]\n",
    "        local_min_indices = argrelextrema(\n",
    "            data['Close'].values, np.less_equal, order=oder_days)[0]\n",
    "        data['Local Max'] = data.iloc[local_max_indices]['Close']\n",
    "        data['Local Min'] = data.iloc[local_min_indices]['Close']\n",
    "        data['Trend'] = np.nan\n",
    "        prev_idx = None\n",
    "        prev_trend = None\n",
    "        prev_type = None\n",
    "\n",
    "        for idx in sorted(np.concatenate([local_max_indices, local_min_indices])):\n",
    "            if idx in local_max_indices:\n",
    "                current_type = \"max\"\n",
    "            else:\n",
    "                current_type = \"min\"\n",
    "\n",
    "            if prev_trend is None:\n",
    "                if current_type == \"max\":\n",
    "                    prev_trend = 1\n",
    "                else:\n",
    "                    prev_trend = 0\n",
    "            else:\n",
    "                if prev_type == \"max\" and current_type == \"min\":\n",
    "                    data.loc[prev_idx:idx, 'Trend'] = 1\n",
    "                    prev_trend = 1\n",
    "                elif prev_type == \"min\" and current_type == \"max\":\n",
    "                    data.loc[prev_idx:idx, 'Trend'] = 0\n",
    "                    prev_trend = 0\n",
    "                else:\n",
    "                    if current_type == \"max\":\n",
    "                        data.loc[prev_idx:idx, 'Trend'] = 0\n",
    "                        prev_trend = 0\n",
    "                    else:\n",
    "                        data.loc[prev_idx:idx, 'Trend'] = 1\n",
    "                        prev_trend = 1\n",
    "\n",
    "            prev_idx = idx\n",
    "            prev_type = current_type\n",
    "        data['Trend'].fillna(method='ffill', inplace=True)\n",
    "        return data.drop(columns=['Local Max', 'Local Min'])\n",
    "\n",
    "\n",
    "class IndicatorMACD(FeatureBase):\n",
    "    \"\"\"\n",
    "    Indicator to calculate the Moving Average Convergence Divergence (MACD).\n",
    "    \"\"\"\n",
    "\n",
    "    def compute(self, data, *args, **kwargs):\n",
    "        fastperiod = kwargs.get('fastperiod', 5)\n",
    "        slowperiod = kwargs.get('slowperiod', 10)\n",
    "        signalperiod = kwargs.get('signalperiod', 9)\n",
    "        data['MACD'], _, _ = talib.MACD(\n",
    "            data['Close'], fastperiod=fastperiod, slowperiod=slowperiod, signalperiod=signalperiod)\n",
    "        return data\n",
    "\n",
    "\n",
    "class IndicatorROC(FeatureBase):\n",
    "    def compute(self, data, *args, **kwargs):\n",
    "        trend_days = kwargs.get('trend_days', 5)\n",
    "        data['ROC'] = talib.ROC(data['Close'], timeperiod=trend_days)\n",
    "        return data\n",
    "\n",
    "\n",
    "class IndicatorStochasticOscillator(FeatureBase):\n",
    "    def compute(self, data, *args, **kwargs):\n",
    "        trend_days = kwargs.get('trend_days', 5)\n",
    "        data['StoK'], data['StoD'] = talib.STOCH(\n",
    "            data['High'], data['Low'], data['Close'], fastk_period=trend_days, slowk_period=3, slowd_period=3)\n",
    "        return data\n",
    "\n",
    "\n",
    "class IndicatorCCI(FeatureBase):\n",
    "    def compute(self, data, *args, **kwargs):\n",
    "        timeperiod = kwargs.get('timeperiod', 14)\n",
    "        data['CCI'] = talib.CCI(data['High'], data['Low'],\n",
    "                                data['Close'], timeperiod=timeperiod)\n",
    "        return data\n",
    "\n",
    "\n",
    "class IndicatorRSI(FeatureBase):\n",
    "    def compute(self, data, *args, **kwargs):\n",
    "        timeperiod = kwargs.get('timeperiod', 14)\n",
    "        data['RSI'] = talib.RSI(data['Close'], timeperiod=timeperiod)\n",
    "        return data\n",
    "\n",
    "\n",
    "class IndicatorVMA(FeatureBase):\n",
    "    def compute(self, data, *args, **kwargs):\n",
    "        timeperiod = kwargs.get('timeperiod', 20)\n",
    "        data['VMA'] = talib.MA(data['Volume'], timeperiod=timeperiod)\n",
    "        return data\n",
    "\n",
    "\n",
    "class IndicatorPctChange(FeatureBase):\n",
    "    def compute(self, data, *args, **kwargs):\n",
    "        data['pctChange'] = data['Close'].pct_change() * 100\n",
    "        return data\n",
    "\n",
    "\n",
    "class TreasuryYieldThreeMonth(FeatureBase):\n",
    "    def compute(self, data, *args, **kwargs):\n",
    "        start_date = kwargs.get('start_date')\n",
    "        end_date = kwargs.get('end_date')\n",
    "        three_month_treasury_yield = yf.download(\n",
    "            \"^IRX\", start_date, end_date)[\"Close\"]\n",
    "        data['3M Treasury Yield'] = three_month_treasury_yield\n",
    "        return data\n",
    "\n",
    "\n",
    "class TreasuryYieldFiveYear(FeatureBase):\n",
    "    def compute(self, data, *args, **kwargs):\n",
    "        start_date = kwargs.get('start_date')\n",
    "        end_date = kwargs.get('end_date')\n",
    "        five_year_treasury_yield = yf.download(\n",
    "            \"^FVX\", start_date, end_date)[\"Close\"]\n",
    "        data['5Y Treasury Yield'] = five_year_treasury_yield\n",
    "        return data\n",
    "\n",
    "\n",
    "class TreasuryYieldTenYear(FeatureBase):\n",
    "    def compute(self, data, *args, **kwargs):\n",
    "        start_date = kwargs.get('start_date')\n",
    "        end_date = kwargs.get('end_date')\n",
    "        ten_year_treasury_yield = yf.download(\n",
    "            \"^TNX\", start_date, end_date)[\"Close\"]\n",
    "        data['10Y Treasury Yield'] = ten_year_treasury_yield\n",
    "        return data\n",
    "\n",
    "\n",
    "class TreasuryYieldThirtyYear(FeatureBase):\n",
    "    def compute(self, data, *args, **kwargs):\n",
    "        start_date = kwargs.get('start_date')\n",
    "        end_date = kwargs.get('end_date')\n",
    "        thirty_year_treasury_yield = yf.download(\n",
    "            \"^TYX\", start_date, end_date)[\"Close\"]\n",
    "        data['30Y Treasury Yield'] = thirty_year_treasury_yield\n",
    "        return data\n",
    "# Add other features here as needed\n",
    "\n",
    "\n",
    "class FeatureFactory:\n",
    "    \"\"\"\n",
    "    Factory class dedicated to creating various technical features.\n",
    "    \"\"\"\n",
    "    @staticmethod\n",
    "    def get_feature(feature_type):\n",
    "        \"\"\"\n",
    "        Retrieve the desired feature based on the specified type.\n",
    "\n",
    "        Parameters:\n",
    "        - feature_type: Type of feature (e.g., 'Trend', 'MACD').\n",
    "\n",
    "        Returns:\n",
    "        - Feaature object corresponding to the specified type.\n",
    "\n",
    "        Raises:\n",
    "        - ValueError: If the provided feature type is not supported.\n",
    "        \"\"\"\n",
    "        features = {\n",
    "            \"Trend\": IndicatorTrend,\n",
    "            \"MACD\": IndicatorMACD,\n",
    "            \"ROC\": IndicatorROC,\n",
    "            \"Stochastic Oscillator\": IndicatorStochasticOscillator,\n",
    "            \"CCI\": IndicatorCCI,\n",
    "            \"RSI\": IndicatorRSI,\n",
    "            \"VMA\": IndicatorVMA,\n",
    "            \"PctChange\": IndicatorPctChange,\n",
    "            \"3M Treasury Yield\": TreasuryYieldThreeMonth,\n",
    "            \"5Y Treasury Yield\": TreasuryYieldFiveYear,\n",
    "            \"10Y Treasury Yield\": TreasuryYieldTenYear,\n",
    "            \"30Y Treasury Yield\": TreasuryYieldThirtyYear,\n",
    "            # Add other features here as needed\n",
    "        }\n",
    "        feature = features.get(feature_type)\n",
    "        if feature is None:\n",
    "            raise ValueError(f\"Invalid feature type: {feature_type}\")\n",
    "        return feature()\n",
    "\n",
    "\n",
    "class CleanerBase(ABC):\n",
    "    \"\"\"Abstract base class for data processors.\"\"\"\n",
    "    @abstractmethod\n",
    "    def check(self, data):\n",
    "        \"\"\"Method to check the data for issues.\"\"\"\n",
    "        pass\n",
    "\n",
    "    @abstractmethod\n",
    "    def clean(self, data):\n",
    "        \"\"\"Method to clean the data from identified issues.\"\"\"\n",
    "        pass\n",
    "\n",
    "\n",
    "class CleanerMissingValue(CleanerBase):\n",
    "    \"\"\"Concrete class for checking and handling missing data.\"\"\"\n",
    "    def check(self, data):\n",
    "        \"\"\"Check for missing data in the dataframe.\"\"\"\n",
    "        return data.isnull().sum()\n",
    "\n",
    "    def clean(self, data, strategy='auto'):\n",
    "        \"\"\"Handle missing data based on the chosen strategy.\"\"\"\n",
    "        if strategy == 'auto':\n",
    "            while data.iloc[0].isnull().any():\n",
    "                data = data.iloc[1:]\n",
    "            data.fillna(method='ffill', inplace=True)\n",
    "\n",
    "        elif strategy == 'drop':\n",
    "            data.dropna(inplace=True)\n",
    "\n",
    "        elif strategy == 'fillna':\n",
    "            data.fillna(method='ffill', inplace=True)\n",
    "\n",
    "        elif strategy == 'none':\n",
    "            pass\n",
    "\n",
    "        else:\n",
    "            raise ValueError(\"Invalid strategy provided.\")\n",
    "\n",
    "        return data\n",
    "\n",
    "\n",
    "class ProcessorFactory:\n",
    "    \"\"\"Factory class to creat data processors.\"\"\"\n",
    "    @staticmethod\n",
    "    def get_cleaner(clean_type, *args, **kwargs):\n",
    "        \"\"\"creat a data processor based on the provided type.\"\"\"\n",
    "        if clean_type == \"MissingData\":\n",
    "            return CleanerMissingValue(*args, **kwargs)\n",
    "        else:\n",
    "            raise ValueError(f\"Processor type {clean_type} not recognized.\")\n",
    "\n",
    "    @staticmethod\n",
    "    def get_standardize_method(data, method='StandardScaler'):\n",
    "        \"\"\"Standardize the data using the specified method.\"\"\"\n",
    "        if method == 'StandardScaler':\n",
    "            scaler = StandardScaler()\n",
    "        elif method == 'MinMaxScaler':\n",
    "            scaler = MinMaxScaler()\n",
    "        else:\n",
    "            raise ValueError(f\"Invalid scaler method: {method}.\")\n",
    "        return scaler.fit_transform(data)\n",
    "\n",
    "    @staticmethod\n",
    "    def standardize_and_split_data(data, split_ratio=0.7, target_col=\"Trend\", feature_cols=None):\n",
    "        \"\"\"Standardize the data and split it into training and testing sets.\"\"\"\n",
    "        if not feature_cols:\n",
    "            feature_cols = data.columns.to_list()\n",
    "        x_data = data[feature_cols]\n",
    "\n",
    "        # Generate the one-hot encoding\n",
    "        y_data = pd.get_dummies(data[target_col], prefix='Trend')\n",
    "\n",
    "        # Check if the split index is valid\n",
    "        split_idx = int(len(x_data) * split_ratio)\n",
    "        if split_idx < 1 or split_idx >= len(x_data):\n",
    "            raise ValueError(\n",
    "                \"Invalid split ratio leading to incorrect data partitioning.\")\n",
    "\n",
    "        X_test = x_data.iloc[split_idx:]\n",
    "        y_test = y_data.iloc[split_idx:]\n",
    "        X_train = x_data.iloc[:split_idx]\n",
    "        y_train = y_data.iloc[:split_idx]\n",
    "\n",
    "        return X_train, y_train, X_test, y_test\n",
    "\n",
    "    @staticmethod\n",
    "    def prepare_multistep_data(x_data, y_data, look_back, predict_steps, slide_steps=1):\n",
    "        \"\"\"\n",
    "        Prepare the data for multi-step prediction and apply standardization within each sliding window.\n",
    "        \"\"\"\n",
    "        x_date = []\n",
    "        y_date = []\n",
    "        x_data_multistep = []\n",
    "        y_data_multistep = []\n",
    "\n",
    "        for i in range(0, len(x_data) - look_back - predict_steps + 1, slide_steps):\n",
    "            x_date.append(x_data.index[i:i + look_back])\n",
    "\n",
    "            y_date.append(\n",
    "                x_data.index[i + look_back:i + look_back + predict_steps])\n",
    "\n",
    "            x_window = x_data.iloc[i:i + look_back].values\n",
    "            y_window = y_data.iloc[i + look_back:i +\n",
    "                                   look_back + predict_steps].values\n",
    "\n",
    "            x_window_standardized = ProcessorFactory.get_standardize_method(\n",
    "                x_window)\n",
    "\n",
    "            x_data_multistep.append(x_window_standardized)\n",
    "            y_data_multistep.append(y_window)\n",
    "\n",
    "        return np.array(x_data_multistep), np.array(y_data_multistep), np.array(x_date), np.array(y_date)\n",
    "\n",
    "\n",
    "class Preprocessor:\n",
    "    \"\"\"\n",
    "    Fetching, processing, and preparing model data.\n",
    "    \"\"\"\n",
    "    def __init__(self, data=None, start_date=None, end_date=None):\n",
    "        # self.data = data\n",
    "        self.start_date = start_date\n",
    "        self.end_date = end_date\n",
    "        self.trend_method = \"MA\"\n",
    "        self.features = []\n",
    "        self.processors = []\n",
    "\n",
    "    def set_seed(self, seed_value=42):\n",
    "        \"\"\"Set seed for reproducibility.\"\"\"\n",
    "        np.random.seed(seed_value)\n",
    "\n",
    "    def fetch_stock_data(self, stock_symbol, start_date=None, end_date=None):\n",
    "        \"\"\"Fetch stock data from Yahoo Finance.\"\"\"\n",
    "        if start_date:\n",
    "            self.start_date = start_date\n",
    "        if end_date:\n",
    "            self.end_date = end_date\n",
    "        return yf.download(stock_symbol, start=self.start_date, end=self.end_date)\n",
    "\n",
    "    def add_feature(self, feature_type, *args, **kwargs):\n",
    "        feature = FeatureFactory.get_feature(feature_type)\n",
    "        self.data = feature.compute(self.data, *args, **kwargs)\n",
    "\n",
    "    def add_data_cleaner(self, clean_type='MissingData', strategy='drop'):\n",
    "        \"\"\"Method to check and clean the data using a specific processor.\"\"\"\n",
    "        processor = ProcessorFactory.get_cleaner(clean_type)\n",
    "        issues = processor.check(self.data)\n",
    "        self.data = processor.clean(self.data, strategy=strategy)\n",
    "        return issues\n",
    "\n",
    "    def process_data(self, split_ratio=0.7, target_col=\"Trend\", feature_cols=None, look_back=64, predict_steps=16, train_slide_steps=1, test_slide_steps=16):\n",
    "        \"\"\"\n",
    "        Use ProcessorFactory to standardize and split the data, and prepare it for multi-step prediction if required.\n",
    "        \"\"\"\n",
    "        X_train, y_train, X_test, y_test = ProcessorFactory.standardize_and_split_data(\n",
    "            self.data, split_ratio, target_col, feature_cols)\n",
    "\n",
    "        if look_back and predict_steps:\n",
    "            X_train, y_train, train_dates, _ = ProcessorFactory.prepare_multistep_data(\n",
    "                X_train, y_train, look_back, predict_steps, train_slide_steps)\n",
    "            X_test, y_test, _, test_dates = ProcessorFactory.prepare_multistep_data(\n",
    "                X_test, y_test, look_back, predict_steps, test_slide_steps)\n",
    "            return X_train, y_train, X_test, y_test, train_dates, test_dates\n",
    "        else:\n",
    "            raise ValueError(\"Invalid look_back or predict_steps provided for data preparation.\")\n",
    "\n",
    "model_data = Preprocessor()\n",
    "model_data.set_seed(42)\n",
    "start_date = \"2001-01-01\"\n",
    "stop_date = \"2021-01-01\"\n",
    "stock_symbol = \"^GSPC\"\n",
    "model_data.data = model_data.fetch_stock_data(\n",
    "    stock_symbol, start_date, stop_date)"
   ]
  },
  {
   "cell_type": "code",
   "execution_count": 35,
   "metadata": {},
   "outputs": [
    {
     "name": "stderr",
     "output_type": "stream",
     "text": [
      "C:\\Users\\e4903\\AppData\\Local\\Temp\\ipykernel_8432\\1196187592.py:62: SettingWithCopyWarning: \n",
      "A value is trying to be set on a copy of a slice from a DataFrame\n",
      "\n",
      "See the caveats in the documentation: https://pandas.pydata.org/pandas-docs/stable/user_guide/indexing.html#returning-a-view-versus-a-copy\n",
      "  data['Trend'].iloc[i:i + trend_days] = 0\n",
      "C:\\Users\\e4903\\AppData\\Local\\Temp\\ipykernel_8432\\1196187592.py:64: SettingWithCopyWarning: \n",
      "A value is trying to be set on a copy of a slice from a DataFrame\n",
      "\n",
      "See the caveats in the documentation: https://pandas.pydata.org/pandas-docs/stable/user_guide/indexing.html#returning-a-view-versus-a-copy\n",
      "  data['Trend'].iloc[i:i + trend_days] = 1\n"
     ]
    },
    {
     "name": "stdout",
     "output_type": "stream",
     "text": [
      "[*********************100%***********************]  1 of 1 completed\n",
      "[*********************100%***********************]  1 of 1 completed\n",
      "[*********************100%***********************]  1 of 1 completed\n",
      "[*********************100%***********************]  1 of 1 completed\n"
     ]
    }
   ],
   "source": [
    "features = [\n",
    "    {\"type\": \"Trend\", \"method\": \"MA\", \"oder_days\": 20,\n",
    "        \"ma_days\": 20, \"trend_days\": 5},\n",
    "    {\"type\": \"MACD\", \"fastperiod\": 5, \"slowperiod\": 10, \"signalperiod\": 9},\n",
    "    {\"type\": \"ROC\", \"trend_days\": 5},\n",
    "    {\"type\": \"Stochastic Oscillator\", \"trend_days\": 5},\n",
    "    {\"type\": \"CCI\", \"timeperiod\": 14},\n",
    "    {\"type\": \"RSI\", \"timeperiod\": 14},\n",
    "    {\"type\": \"VMA\", \"timeperiod\": 20},\n",
    "    {\"type\": \"PctChange\"},\n",
    "    {\"type\": \"3M Treasury Yield\", \"start_date\": \"2001-01-01\", \"end_date\": \"2021-01-01\"},\n",
    "    {\"type\": \"5Y Treasury Yield\", \"start_date\": \"2001-01-01\", \"end_date\": \"2021-01-01\"},\n",
    "    {\"type\": \"10Y Treasury Yield\", \"start_date\": \"2001-01-01\", \"end_date\": \"2021-01-01\"},\n",
    "    {\"type\": \"30Y Treasury Yield\", \"start_date\": \"2001-01-01\", \"end_date\": \"2021-01-01\"},\n",
    "]  # Add other features here as needed\n",
    "\n",
    "for feature_params in features:\n",
    "    feature_type = feature_params[\"type\"]\n",
    "    model_data.add_feature(feature_type, **feature_params)"
   ]
  },
  {
   "cell_type": "code",
   "execution_count": 36,
   "metadata": {},
   "outputs": [],
   "source": [
    "issues_detected = model_data.add_data_cleaner(\"MissingData\", strategy='auto')\n"
   ]
  },
  {
   "cell_type": "code",
   "execution_count": 37,
   "metadata": {},
   "outputs": [
    {
     "data": {
      "text/plain": [
       "((3430, 64, 19), (3430, 16, 2), (90, 64, 19), (90, 16, 2))"
      ]
     },
     "execution_count": 37,
     "metadata": {},
     "output_type": "execute_result"
    }
   ],
   "source": [
    "split_ratio = 0.7\n",
    "target_col = \"Trend\"\n",
    "feature_cols = None  # None means use all columns\n",
    "# feature_cols = ['Trend']\n",
    "look_back = 64  # number of previous days' data to consider\n",
    "predict_steps = 16  # number of days to predict in the future\n",
    "slide_steps = 1  # sliding window step size\n",
    "\n",
    "X_train, y_train, X_test, y_test, train_dates, test_dates = model_data.process_data(split_ratio=0.7, target_col=\"Trend\", feature_cols=feature_cols, look_back=look_back,\n",
    "                        predict_steps=predict_steps, train_slide_steps=1, test_slide_steps=predict_steps)\n",
    "\n",
    "X_train.shape, y_train.shape, X_test.shape, y_test.shape"
   ]
  },
  {
   "cell_type": "code",
   "execution_count": 38,
   "metadata": {},
   "outputs": [],
   "source": [
    "import numpy as np\n",
    "import pandas as pd\n",
    "from keras.models import Sequential\n",
    "from keras.layers import Dense, LSTM, Conv1D, MaxPooling1D, Flatten, Reshape\n",
    "import matplotlib.pyplot as plt\n",
    "from sklearn.preprocessing import StandardScaler\n",
    "from sklearn.preprocessing import MinMaxScaler\n",
    "import yfinance as yf\n",
    "from scipy.signal import argrelextrema"
   ]
  },
  {
   "cell_type": "code",
   "execution_count": 39,
   "metadata": {},
   "outputs": [],
   "source": [
    "import numpy as np\n",
    "import tensorflow as tf\n",
    "import random\n",
    "\n",
    "def set_seed(seed_value):\n",
    "    np.random.seed(seed_value)\n",
    "    tf.random.set_seed(seed_value)\n",
    "    random.seed(seed_value)\n",
    "set_seed(42)"
   ]
  },
  {
   "cell_type": "code",
   "execution_count": 40,
   "metadata": {},
   "outputs": [],
   "source": [
    "from kerastuner import RandomSearch\n",
    "from keras.models import Sequential\n",
    "from keras.layers import LSTM, Dense, RepeatVector, TimeDistributed, Conv1D, MaxPooling1D, Dropout, BatchNormalization, Activation\n",
    "from keras.optimizers import Adam\n",
    "from keras import regularizers\n",
    "from keras import metrics\n",
    "\n",
    "params = {\n",
    "        'conv_1_filter': 32,\n",
    "        'conv_1_kernel': 4,\n",
    "        'conv_1_l2': 0.00016475815766673417,\n",
    "        'dropout_1': 0.2,\n",
    "        'conv_2_filter': 96,\n",
    "        'conv_2_kernel': 2,\n",
    "        'dropout_2': 0.2,\n",
    "        'lstm_1_units': 128,\n",
    "        'lstm_1_l2': 0.0002788818914602332,\n",
    "        'dropout_3': 0.2,\n",
    "        'lstm_2_units': 64,\n",
    "        'dropout_4': 0.1,\n",
    "        'learning_rate': 0.001\n",
    "    }\n",
    "\n",
    "def build_model():\n",
    "    # Parameters from the provided dictionary\n",
    "\n",
    "    model = Sequential()\n",
    "    \n",
    "    # Encoder\n",
    "    model.add(Conv1D(filters=params['conv_1_filter'],\n",
    "                     kernel_size=params['conv_1_kernel'],\n",
    "                     activation=None,\n",
    "                     padding='same',\n",
    "                     kernel_regularizer=regularizers.l2(params['conv_1_l2']),\n",
    "                     input_shape=(look_back, X_train.shape[-1])))\n",
    "    model.add(BatchNormalization())\n",
    "    model.add(Activation('relu'))\n",
    "    model.add(Dropout(params['dropout_1']))\n",
    "    model.add(MaxPooling1D(pool_size=2))\n",
    "    \n",
    "    model.add(Conv1D(filters=params['conv_2_filter'],\n",
    "                     kernel_size=params['conv_2_kernel'],\n",
    "                     activation=None))\n",
    "    model.add(BatchNormalization())\n",
    "    model.add(Activation('relu'))\n",
    "    model.add(Dropout(params['dropout_2']))\n",
    "    model.add(MaxPooling1D(pool_size=2))\n",
    "    \n",
    "    model.add(LSTM(units=params['lstm_1_units'],\n",
    "                   activation=None,\n",
    "                   return_sequences=False,\n",
    "                   kernel_regularizer=regularizers.l2(params['lstm_1_l2'])))\n",
    "    model.add(BatchNormalization())\n",
    "    model.add(Activation('tanh'))\n",
    "    model.add(Dropout(params['dropout_3']))\n",
    "    \n",
    "    # Set the desired output sequence length using RepeatVector\n",
    "    model.add(RepeatVector(predict_steps))\n",
    "    \n",
    "    # Decoder\n",
    "    model.add(LSTM(units=params['lstm_2_units'],\n",
    "                   activation=None,\n",
    "                   return_sequences=True))\n",
    "    model.add(BatchNormalization())\n",
    "    model.add(Activation('tanh'))\n",
    "    model.add(Dropout(params['dropout_4']))\n",
    "    model.add(TimeDistributed(Dense(2, activation='softmax')))\n",
    "    \n",
    "    optimizer = Adam(learning_rate=params['learning_rate'])\n",
    "    model.compile(optimizer=optimizer,\n",
    "                  loss='binary_crossentropy',\n",
    "                  metrics=[metrics.BinaryAccuracy()])\n",
    "    model.summary()\n",
    "    \n",
    "    return model\n"
   ]
  },
  {
   "cell_type": "code",
   "execution_count": 41,
   "metadata": {},
   "outputs": [
    {
     "name": "stdout",
     "output_type": "stream",
     "text": [
      "Model: \"sequential_3\"\n",
      "_________________________________________________________________\n",
      " Layer (type)                Output Shape              Param #   \n",
      "=================================================================\n",
      " conv1d_6 (Conv1D)           (None, 64, 32)            2464      \n",
      "                                                                 \n",
      " batch_normalization_12 (Bat  (None, 64, 32)           128       \n",
      " chNormalization)                                                \n",
      "                                                                 \n",
      " activation_12 (Activation)  (None, 64, 32)            0         \n",
      "                                                                 \n",
      " dropout_12 (Dropout)        (None, 64, 32)            0         \n",
      "                                                                 \n",
      " max_pooling1d_6 (MaxPooling  (None, 32, 32)           0         \n",
      " 1D)                                                             \n",
      "                                                                 \n",
      " conv1d_7 (Conv1D)           (None, 31, 96)            6240      \n",
      "                                                                 \n",
      " batch_normalization_13 (Bat  (None, 31, 96)           384       \n",
      " chNormalization)                                                \n",
      "                                                                 \n",
      " activation_13 (Activation)  (None, 31, 96)            0         \n",
      "                                                                 \n",
      " dropout_13 (Dropout)        (None, 31, 96)            0         \n",
      "                                                                 \n",
      " max_pooling1d_7 (MaxPooling  (None, 15, 96)           0         \n",
      " 1D)                                                             \n",
      "                                                                 \n",
      " lstm_6 (LSTM)               (None, 128)               115200    \n",
      "                                                                 \n",
      " batch_normalization_14 (Bat  (None, 128)              512       \n",
      " chNormalization)                                                \n",
      "                                                                 \n",
      " activation_14 (Activation)  (None, 128)               0         \n",
      "                                                                 \n",
      " dropout_14 (Dropout)        (None, 128)               0         \n",
      "                                                                 \n",
      " repeat_vector_3 (RepeatVect  (None, 16, 128)          0         \n",
      " or)                                                             \n",
      "                                                                 \n",
      " lstm_7 (LSTM)               (None, 16, 64)            49408     \n",
      "                                                                 \n",
      " batch_normalization_15 (Bat  (None, 16, 64)           256       \n",
      " chNormalization)                                                \n",
      "                                                                 \n",
      " activation_15 (Activation)  (None, 16, 64)            0         \n",
      "                                                                 \n",
      " dropout_15 (Dropout)        (None, 16, 64)            0         \n",
      "                                                                 \n",
      " time_distributed_3 (TimeDis  (None, 16, 2)            130       \n",
      " tributed)                                                       \n",
      "                                                                 \n",
      "=================================================================\n",
      "Total params: 174,722\n",
      "Trainable params: 174,082\n",
      "Non-trainable params: 640\n",
      "_________________________________________________________________\n",
      "Epoch 1/10\n",
      "54/54 - 11s - loss: 0.5743 - binary_accuracy: 0.7476 - 11s/epoch - 206ms/step\n",
      "Epoch 2/10\n",
      "54/54 - 6s - loss: 0.4099 - binary_accuracy: 0.8382 - 6s/epoch - 106ms/step\n",
      "Epoch 3/10\n",
      "54/54 - 6s - loss: 0.3463 - binary_accuracy: 0.8730 - 6s/epoch - 112ms/step\n",
      "Epoch 4/10\n",
      "54/54 - 6s - loss: 0.2856 - binary_accuracy: 0.8987 - 6s/epoch - 106ms/step\n",
      "Epoch 5/10\n",
      "54/54 - 6s - loss: 0.2587 - binary_accuracy: 0.9113 - 6s/epoch - 112ms/step\n",
      "Epoch 6/10\n",
      "54/54 - 5s - loss: 0.2416 - binary_accuracy: 0.9180 - 5s/epoch - 101ms/step\n",
      "Epoch 7/10\n",
      "54/54 - 5s - loss: 0.2193 - binary_accuracy: 0.9273 - 5s/epoch - 101ms/step\n",
      "Epoch 8/10\n",
      "54/54 - 5s - loss: 0.2039 - binary_accuracy: 0.9328 - 5s/epoch - 101ms/step\n",
      "Epoch 9/10\n",
      "54/54 - 5s - loss: 0.2030 - binary_accuracy: 0.9323 - 5s/epoch - 100ms/step\n",
      "Epoch 10/10\n",
      "54/54 - 6s - loss: 0.1869 - binary_accuracy: 0.9397 - 6s/epoch - 102ms/step\n"
     ]
    },
    {
     "data": {
      "image/png": "[encoded data removed]",
      "text/plain": [
       "<Figure size 1200x400 with 2 Axes>"
      ]
     },
     "metadata": {},
     "output_type": "display_data"
    }
   ],
   "source": [
    "from keras.callbacks import EarlyStopping\n",
    "\n",
    "# Build the model with the optimal hyperparameters\n",
    "best_model = build_model()\n",
    "\n",
    "# Compile the model with the optimal learning rate\n",
    "best_model.compile(optimizer=Adam(learning_rate=params['learning_rate']), loss='binary_crossentropy', metrics=[metrics.BinaryAccuracy()])\n",
    "\n",
    "# Initialize EarlyStopping callback\n",
    "early_stopping = EarlyStopping(monitor='val_binary_accuracy', patience=5, restore_best_weights=True)\n",
    "\n",
    "# Train the model\n",
    "history = best_model.fit(\n",
    "    X_train, y_train,\n",
    "    epochs=10,\n",
    "    batch_size=64,\n",
    "    # validation_data=(X_test, y_test),\n",
    "    # callbacks=[early_stopping],  # Add early_stopping to callbacks\n",
    "    verbose=2\n",
    ")\n",
    "\n",
    "# Function to plot training curves\n",
    "def plot_training_curves(history):\n",
    "    # Plot training & validation accuracy values\n",
    "    plt.figure(figsize=(12, 4))\n",
    "    plt.subplot(1, 2, 1)\n",
    "    plt.plot(history.history['binary_accuracy'])\n",
    "    # plt.plot(history.history['val_binary_accuracy'])\n",
    "    plt.title('Model binary_accuracy')\n",
    "    plt.ylabel('Accuracy')\n",
    "    plt.xlabel('Epoch')\n",
    "    plt.legend(['Train', 'Test'], loc='upper left')\n",
    "\n",
    "    # Plot training & validation loss values\n",
    "    plt.subplot(1, 2, 2)\n",
    "    plt.plot(history.history['loss'])\n",
    "    # plt.plot(history.history['val_loss'])\n",
    "    plt.title('Model loss')\n",
    "    plt.ylabel('Loss')\n",
    "    plt.xlabel('Epoch')\n",
    "    plt.legend(['Train', 'Test'], loc='upper left')\n",
    "    plt.show()\n",
    "\n",
    "# Plot the training curves\n",
    "plot_training_curves(history)\n"
   ]
  },
  {
   "cell_type": "code",
   "execution_count": 42,
   "metadata": {},
   "outputs": [
    {
     "name": "stderr",
     "output_type": "stream",
     "text": [
      "  0%|          | 0/90 [00:00<?, ?it/s]"
     ]
    },
    {
     "name": "stdout",
     "output_type": "stream",
     "text": [
      "1/1 [==============================] - 1s 1s/step\n",
      "108/108 - 7s - loss: 0.2364 - binary_accuracy: 0.9191 - 7s/epoch - 65ms/step\n"
     ]
    },
    {
     "name": "stderr",
     "output_type": "stream",
     "text": [
      "  1%|          | 1/90 [00:08<12:17,  8.29s/it]"
     ]
    },
    {
     "name": "stdout",
     "output_type": "stream",
     "text": [
      "1/1 [==============================] - 0s 63ms/step\n",
      "108/108 - 7s - loss: 0.2191 - binary_accuracy: 0.9252 - 7s/epoch - 64ms/step\n"
     ]
    },
    {
     "name": "stderr",
     "output_type": "stream",
     "text": [
      "  2%|▏         | 2/90 [00:15<11:18,  7.71s/it]"
     ]
    },
    {
     "name": "stdout",
     "output_type": "stream",
     "text": [
      "1/1 [==============================] - 0s 41ms/step\n",
      "108/108 - 7s - loss: 0.2050 - binary_accuracy: 0.9306 - 7s/epoch - 62ms/step\n"
     ]
    },
    {
     "name": "stderr",
     "output_type": "stream",
     "text": [
      "  3%|▎         | 3/90 [00:22<10:43,  7.40s/it]"
     ]
    },
    {
     "name": "stdout",
     "output_type": "stream",
     "text": [
      "1/1 [==============================] - 0s 49ms/step\n",
      "108/108 - 7s - loss: 0.1875 - binary_accuracy: 0.9386 - 7s/epoch - 68ms/step\n"
     ]
    },
    {
     "name": "stderr",
     "output_type": "stream",
     "text": [
      "  4%|▍         | 4/90 [00:30<10:42,  7.47s/it]"
     ]
    },
    {
     "name": "stdout",
     "output_type": "stream",
     "text": [
      "1/1 [==============================] - 0s 46ms/step\n",
      "108/108 - 7s - loss: 0.1784 - binary_accuracy: 0.9418 - 7s/epoch - 62ms/step\n"
     ]
    },
    {
     "name": "stderr",
     "output_type": "stream",
     "text": [
      "  6%|▌         | 5/90 [00:37<10:17,  7.27s/it]"
     ]
    },
    {
     "name": "stdout",
     "output_type": "stream",
     "text": [
      "1/1 [==============================] - 0s 36ms/step\n",
      "108/108 - 7s - loss: 0.1707 - binary_accuracy: 0.9444 - 7s/epoch - 62ms/step\n"
     ]
    },
    {
     "name": "stderr",
     "output_type": "stream",
     "text": [
      "  7%|▋         | 6/90 [00:44<10:01,  7.16s/it]"
     ]
    },
    {
     "name": "stdout",
     "output_type": "stream",
     "text": [
      "1/1 [==============================] - 0s 41ms/step\n",
      "108/108 - 7s - loss: 0.1596 - binary_accuracy: 0.9498 - 7s/epoch - 65ms/step\n"
     ]
    },
    {
     "name": "stderr",
     "output_type": "stream",
     "text": [
      "  8%|▊         | 7/90 [00:51<09:58,  7.21s/it]"
     ]
    },
    {
     "name": "stdout",
     "output_type": "stream",
     "text": [
      "1/1 [==============================] - 0s 39ms/step\n",
      "108/108 - 7s - loss: 0.1580 - binary_accuracy: 0.9492 - 7s/epoch - 63ms/step\n"
     ]
    },
    {
     "name": "stderr",
     "output_type": "stream",
     "text": [
      "  9%|▉         | 8/90 [00:58<09:47,  7.17s/it]"
     ]
    },
    {
     "name": "stdout",
     "output_type": "stream",
     "text": [
      "1/1 [==============================] - 0s 37ms/step\n",
      "108/108 - 7s - loss: 0.1450 - binary_accuracy: 0.9544 - 7s/epoch - 63ms/step\n"
     ]
    },
    {
     "name": "stderr",
     "output_type": "stream",
     "text": [
      " 10%|█         | 9/90 [01:05<09:36,  7.12s/it]"
     ]
    },
    {
     "name": "stdout",
     "output_type": "stream",
     "text": [
      "1/1 [==============================] - 0s 38ms/step\n",
      "108/108 - 7s - loss: 0.1338 - binary_accuracy: 0.9576 - 7s/epoch - 61ms/step\n"
     ]
    },
    {
     "name": "stderr",
     "output_type": "stream",
     "text": [
      " 11%|█         | 10/90 [01:12<09:23,  7.05s/it]"
     ]
    },
    {
     "name": "stdout",
     "output_type": "stream",
     "text": [
      "1/1 [==============================] - 0s 41ms/step\n",
      "108/108 - 8s - loss: 0.1342 - binary_accuracy: 0.9575 - 8s/epoch - 70ms/step\n"
     ]
    },
    {
     "name": "stderr",
     "output_type": "stream",
     "text": [
      " 12%|█▏        | 11/90 [01:20<09:34,  7.27s/it]"
     ]
    },
    {
     "name": "stdout",
     "output_type": "stream",
     "text": [
      "1/1 [==============================] - 0s 73ms/step\n",
      "108/108 - 8s - loss: 0.1379 - binary_accuracy: 0.9563 - 8s/epoch - 70ms/step\n"
     ]
    },
    {
     "name": "stderr",
     "output_type": "stream",
     "text": [
      " 13%|█▎        | 12/90 [01:28<09:43,  7.48s/it]"
     ]
    },
    {
     "name": "stdout",
     "output_type": "stream",
     "text": [
      "1/1 [==============================] - 0s 60ms/step\n",
      "108/108 - 7s - loss: 0.1264 - binary_accuracy: 0.9608 - 7s/epoch - 66ms/step\n"
     ]
    },
    {
     "name": "stderr",
     "output_type": "stream",
     "text": [
      " 14%|█▍        | 13/90 [01:35<09:36,  7.49s/it]"
     ]
    },
    {
     "name": "stdout",
     "output_type": "stream",
     "text": [
      "1/1 [==============================] - 0s 58ms/step\n",
      "108/108 - 7s - loss: 0.1220 - binary_accuracy: 0.9624 - 7s/epoch - 66ms/step\n"
     ]
    },
    {
     "name": "stderr",
     "output_type": "stream",
     "text": [
      " 16%|█▌        | 14/90 [01:43<09:29,  7.49s/it]"
     ]
    },
    {
     "name": "stdout",
     "output_type": "stream",
     "text": [
      "1/1 [==============================] - 0s 70ms/step\n",
      "108/108 - 7s - loss: 0.1126 - binary_accuracy: 0.9653 - 7s/epoch - 65ms/step\n"
     ]
    },
    {
     "name": "stderr",
     "output_type": "stream",
     "text": [
      " 17%|█▋        | 15/90 [01:50<09:19,  7.46s/it]"
     ]
    },
    {
     "name": "stdout",
     "output_type": "stream",
     "text": [
      "1/1 [==============================] - 0s 69ms/step\n",
      "108/108 - 7s - loss: 0.1151 - binary_accuracy: 0.9647 - 7s/epoch - 66ms/step\n"
     ]
    },
    {
     "name": "stderr",
     "output_type": "stream",
     "text": [
      " 18%|█▊        | 16/90 [01:57<09:12,  7.46s/it]"
     ]
    },
    {
     "name": "stdout",
     "output_type": "stream",
     "text": [
      "1/1 [==============================] - 0s 56ms/step\n",
      "108/108 - 7s - loss: 0.1144 - binary_accuracy: 0.9635 - 7s/epoch - 65ms/step\n"
     ]
    },
    {
     "name": "stderr",
     "output_type": "stream",
     "text": [
      " 19%|█▉        | 17/90 [02:05<09:01,  7.42s/it]"
     ]
    },
    {
     "name": "stdout",
     "output_type": "stream",
     "text": [
      "1/1 [==============================] - 0s 50ms/step\n",
      "108/108 - 6s - loss: 0.1189 - binary_accuracy: 0.9622 - 6s/epoch - 59ms/step\n"
     ]
    },
    {
     "name": "stderr",
     "output_type": "stream",
     "text": [
      " 20%|██        | 18/90 [02:11<08:37,  7.19s/it]"
     ]
    },
    {
     "name": "stdout",
     "output_type": "stream",
     "text": [
      "1/1 [==============================] - 0s 30ms/step\n",
      "108/108 - 6s - loss: 0.1111 - binary_accuracy: 0.9651 - 6s/epoch - 56ms/step\n"
     ]
    },
    {
     "name": "stderr",
     "output_type": "stream",
     "text": [
      " 21%|██        | 19/90 [02:18<08:11,  6.92s/it]"
     ]
    },
    {
     "name": "stdout",
     "output_type": "stream",
     "text": [
      "1/1 [==============================] - 0s 38ms/step\n",
      "108/108 - 6s - loss: 0.1035 - binary_accuracy: 0.9684 - 6s/epoch - 56ms/step\n"
     ]
    },
    {
     "name": "stderr",
     "output_type": "stream",
     "text": [
      " 22%|██▏       | 20/90 [02:24<07:50,  6.72s/it]"
     ]
    },
    {
     "name": "stdout",
     "output_type": "stream",
     "text": [
      "1/1 [==============================] - 0s 39ms/step\n",
      "108/108 - 6s - loss: 0.0994 - binary_accuracy: 0.9697 - 6s/epoch - 56ms/step\n"
     ]
    },
    {
     "name": "stderr",
     "output_type": "stream",
     "text": [
      " 23%|██▎       | 21/90 [02:30<07:34,  6.58s/it]"
     ]
    },
    {
     "name": "stdout",
     "output_type": "stream",
     "text": [
      "1/1 [==============================] - 0s 39ms/step\n",
      "108/108 - 6s - loss: 0.0946 - binary_accuracy: 0.9714 - 6s/epoch - 57ms/step\n"
     ]
    },
    {
     "name": "stderr",
     "output_type": "stream",
     "text": [
      " 24%|██▍       | 22/90 [02:37<07:22,  6.50s/it]"
     ]
    },
    {
     "name": "stdout",
     "output_type": "stream",
     "text": [
      "1/1 [==============================] - 0s 38ms/step\n",
      "108/108 - 6s - loss: 0.0964 - binary_accuracy: 0.9702 - 6s/epoch - 56ms/step\n"
     ]
    },
    {
     "name": "stderr",
     "output_type": "stream",
     "text": [
      " 26%|██▌       | 23/90 [02:43<07:11,  6.43s/it]"
     ]
    },
    {
     "name": "stdout",
     "output_type": "stream",
     "text": [
      "1/1 [==============================] - 0s 24ms/step\n",
      "108/108 - 6s - loss: 0.0921 - binary_accuracy: 0.9718 - 6s/epoch - 55ms/step\n"
     ]
    },
    {
     "name": "stderr",
     "output_type": "stream",
     "text": [
      " 27%|██▋       | 24/90 [02:49<06:59,  6.35s/it]"
     ]
    },
    {
     "name": "stdout",
     "output_type": "stream",
     "text": [
      "1/1 [==============================] - 0s 32ms/step\n",
      "108/108 - 6s - loss: 0.0928 - binary_accuracy: 0.9718 - 6s/epoch - 54ms/step\n"
     ]
    },
    {
     "name": "stderr",
     "output_type": "stream",
     "text": [
      " 28%|██▊       | 25/90 [02:55<06:46,  6.25s/it]"
     ]
    },
    {
     "name": "stdout",
     "output_type": "stream",
     "text": [
      "1/1 [==============================] - 0s 30ms/step\n",
      "108/108 - 6s - loss: 0.0934 - binary_accuracy: 0.9709 - 6s/epoch - 55ms/step\n"
     ]
    },
    {
     "name": "stderr",
     "output_type": "stream",
     "text": [
      " 29%|██▉       | 26/90 [03:01<06:36,  6.20s/it]"
     ]
    },
    {
     "name": "stdout",
     "output_type": "stream",
     "text": [
      "1/1 [==============================] - 0s 22ms/step\n",
      "109/109 - 6s - loss: 0.1011 - binary_accuracy: 0.9688 - 6s/epoch - 58ms/step\n"
     ]
    },
    {
     "name": "stderr",
     "output_type": "stream",
     "text": [
      " 30%|███       | 27/90 [03:08<06:35,  6.28s/it]"
     ]
    },
    {
     "name": "stdout",
     "output_type": "stream",
     "text": [
      "1/1 [==============================] - 0s 18ms/step\n",
      "109/109 - 6s - loss: 0.0863 - binary_accuracy: 0.9733 - 6s/epoch - 56ms/step\n"
     ]
    },
    {
     "name": "stderr",
     "output_type": "stream",
     "text": [
      " 31%|███       | 28/90 [03:14<06:28,  6.26s/it]"
     ]
    },
    {
     "name": "stdout",
     "output_type": "stream",
     "text": [
      "1/1 [==============================] - 0s 29ms/step\n",
      "109/109 - 6s - loss: 0.0874 - binary_accuracy: 0.9729 - 6s/epoch - 54ms/step\n"
     ]
    },
    {
     "name": "stderr",
     "output_type": "stream",
     "text": [
      " 32%|███▏      | 29/90 [03:20<06:18,  6.20s/it]"
     ]
    },
    {
     "name": "stdout",
     "output_type": "stream",
     "text": [
      "1/1 [==============================] - 0s 30ms/step\n",
      "109/109 - 6s - loss: 0.2155 - binary_accuracy: 0.9279 - 6s/epoch - 56ms/step\n"
     ]
    },
    {
     "name": "stderr",
     "output_type": "stream",
     "text": [
      " 33%|███▎      | 30/90 [03:26<06:14,  6.23s/it]"
     ]
    },
    {
     "name": "stdout",
     "output_type": "stream",
     "text": [
      "1/1 [==============================] - 0s 30ms/step\n",
      "109/109 - 6s - loss: 0.1136 - binary_accuracy: 0.9656 - 6s/epoch - 54ms/step\n"
     ]
    },
    {
     "name": "stderr",
     "output_type": "stream",
     "text": [
      " 34%|███▍      | 31/90 [03:32<06:03,  6.17s/it]"
     ]
    },
    {
     "name": "stdout",
     "output_type": "stream",
     "text": [
      "1/1 [==============================] - 0s 18ms/step\n",
      "109/109 - 6s - loss: 0.1087 - binary_accuracy: 0.9674 - 6s/epoch - 54ms/step\n"
     ]
    },
    {
     "name": "stderr",
     "output_type": "stream",
     "text": [
      " 36%|███▌      | 32/90 [03:38<05:54,  6.11s/it]"
     ]
    },
    {
     "name": "stdout",
     "output_type": "stream",
     "text": [
      "1/1 [==============================] - 0s 29ms/step\n",
      "109/109 - 6s - loss: 0.0960 - binary_accuracy: 0.9720 - 6s/epoch - 58ms/step\n"
     ]
    },
    {
     "name": "stderr",
     "output_type": "stream",
     "text": [
      " 37%|███▋      | 33/90 [03:45<05:54,  6.22s/it]"
     ]
    },
    {
     "name": "stdout",
     "output_type": "stream",
     "text": [
      "1/1 [==============================] - 0s 30ms/step\n",
      "109/109 - 6s - loss: 0.0866 - binary_accuracy: 0.9754 - 6s/epoch - 56ms/step\n"
     ]
    },
    {
     "name": "stderr",
     "output_type": "stream",
     "text": [
      " 38%|███▊      | 34/90 [03:51<05:49,  6.24s/it]"
     ]
    },
    {
     "name": "stdout",
     "output_type": "stream",
     "text": [
      "1/1 [==============================] - 0s 30ms/step\n",
      "109/109 - 6s - loss: 0.0846 - binary_accuracy: 0.9756 - 6s/epoch - 56ms/step\n"
     ]
    },
    {
     "name": "stderr",
     "output_type": "stream",
     "text": [
      " 39%|███▉      | 35/90 [03:57<05:42,  6.23s/it]"
     ]
    },
    {
     "name": "stdout",
     "output_type": "stream",
     "text": [
      "1/1 [==============================] - 0s 31ms/step\n",
      "109/109 - 6s - loss: 0.0817 - binary_accuracy: 0.9766 - 6s/epoch - 55ms/step\n"
     ]
    },
    {
     "name": "stderr",
     "output_type": "stream",
     "text": [
      " 40%|████      | 36/90 [04:03<05:35,  6.22s/it]"
     ]
    },
    {
     "name": "stdout",
     "output_type": "stream",
     "text": [
      "1/1 [==============================] - 0s 30ms/step\n",
      "109/109 - 6s - loss: 0.0780 - binary_accuracy: 0.9777 - 6s/epoch - 56ms/step\n"
     ]
    },
    {
     "name": "stderr",
     "output_type": "stream",
     "text": [
      " 41%|████      | 37/90 [04:10<05:30,  6.24s/it]"
     ]
    },
    {
     "name": "stdout",
     "output_type": "stream",
     "text": [
      "1/1 [==============================] - 0s 22ms/step\n",
      "109/109 - 6s - loss: 0.0880 - binary_accuracy: 0.9738 - 6s/epoch - 57ms/step\n"
     ]
    },
    {
     "name": "stderr",
     "output_type": "stream",
     "text": [
      " 42%|████▏     | 38/90 [04:16<05:26,  6.28s/it]"
     ]
    },
    {
     "name": "stdout",
     "output_type": "stream",
     "text": [
      "1/1 [==============================] - 0s 25ms/step\n",
      "109/109 - 6s - loss: 0.0789 - binary_accuracy: 0.9773 - 6s/epoch - 56ms/step\n"
     ]
    },
    {
     "name": "stderr",
     "output_type": "stream",
     "text": [
      " 43%|████▎     | 39/90 [04:22<05:19,  6.26s/it]"
     ]
    },
    {
     "name": "stdout",
     "output_type": "stream",
     "text": [
      "1/1 [==============================] - 0s 29ms/step\n",
      "109/109 - 6s - loss: 0.0705 - binary_accuracy: 0.9806 - 6s/epoch - 59ms/step\n"
     ]
    },
    {
     "name": "stderr",
     "output_type": "stream",
     "text": [
      " 44%|████▍     | 40/90 [04:29<05:18,  6.36s/it]"
     ]
    },
    {
     "name": "stdout",
     "output_type": "stream",
     "text": [
      "1/1 [==============================] - 0s 25ms/step\n",
      "109/109 - 7s - loss: 0.0734 - binary_accuracy: 0.9788 - 7s/epoch - 60ms/step\n"
     ]
    },
    {
     "name": "stderr",
     "output_type": "stream",
     "text": [
      " 46%|████▌     | 41/90 [04:35<05:16,  6.46s/it]"
     ]
    },
    {
     "name": "stdout",
     "output_type": "stream",
     "text": [
      "1/1 [==============================] - 0s 29ms/step\n",
      "109/109 - 7s - loss: 0.0854 - binary_accuracy: 0.9745 - 7s/epoch - 62ms/step\n"
     ]
    },
    {
     "name": "stderr",
     "output_type": "stream",
     "text": [
      " 47%|████▋     | 42/90 [04:42<05:16,  6.60s/it]"
     ]
    },
    {
     "name": "stdout",
     "output_type": "stream",
     "text": [
      "1/1 [==============================] - 0s 23ms/step\n",
      "109/109 - 6s - loss: 0.0706 - binary_accuracy: 0.9795 - 6s/epoch - 55ms/step\n"
     ]
    },
    {
     "name": "stderr",
     "output_type": "stream",
     "text": [
      " 48%|████▊     | 43/90 [04:49<05:04,  6.47s/it]"
     ]
    },
    {
     "name": "stdout",
     "output_type": "stream",
     "text": [
      "1/1 [==============================] - 0s 32ms/step\n",
      "109/109 - 6s - loss: 0.0705 - binary_accuracy: 0.9797 - 6s/epoch - 59ms/step\n"
     ]
    },
    {
     "name": "stderr",
     "output_type": "stream",
     "text": [
      " 49%|████▉     | 44/90 [04:55<04:59,  6.50s/it]"
     ]
    },
    {
     "name": "stdout",
     "output_type": "stream",
     "text": [
      "1/1 [==============================] - 0s 19ms/step\n",
      "109/109 - 7s - loss: 0.0810 - binary_accuracy: 0.9756 - 7s/epoch - 62ms/step\n"
     ]
    },
    {
     "name": "stderr",
     "output_type": "stream",
     "text": [
      " 50%|█████     | 45/90 [05:02<04:57,  6.62s/it]"
     ]
    },
    {
     "name": "stdout",
     "output_type": "stream",
     "text": [
      "1/1 [==============================] - 0s 25ms/step\n",
      "109/109 - 6s - loss: 0.0743 - binary_accuracy: 0.9780 - 6s/epoch - 59ms/step\n"
     ]
    },
    {
     "name": "stderr",
     "output_type": "stream",
     "text": [
      " 51%|█████     | 46/90 [05:09<04:51,  6.61s/it]"
     ]
    },
    {
     "name": "stdout",
     "output_type": "stream",
     "text": [
      "1/1 [==============================] - 0s 22ms/step\n",
      "109/109 - 6s - loss: 0.0712 - binary_accuracy: 0.9790 - 6s/epoch - 56ms/step\n"
     ]
    },
    {
     "name": "stderr",
     "output_type": "stream",
     "text": [
      " 52%|█████▏    | 47/90 [05:15<04:40,  6.51s/it]"
     ]
    },
    {
     "name": "stdout",
     "output_type": "stream",
     "text": [
      "1/1 [==============================] - 0s 29ms/step\n",
      "109/109 - 6s - loss: 0.0679 - binary_accuracy: 0.9803 - 6s/epoch - 56ms/step\n"
     ]
    },
    {
     "name": "stderr",
     "output_type": "stream",
     "text": [
      " 53%|█████▎    | 48/90 [05:21<04:30,  6.43s/it]"
     ]
    },
    {
     "name": "stdout",
     "output_type": "stream",
     "text": [
      "1/1 [==============================] - 0s 29ms/step\n",
      "109/109 - 6s - loss: 0.0708 - binary_accuracy: 0.9790 - 6s/epoch - 58ms/step\n"
     ]
    },
    {
     "name": "stderr",
     "output_type": "stream",
     "text": [
      " 54%|█████▍    | 49/90 [05:28<04:23,  6.43s/it]"
     ]
    },
    {
     "name": "stdout",
     "output_type": "stream",
     "text": [
      "1/1 [==============================] - 0s 25ms/step\n",
      "109/109 - 6s - loss: 0.0700 - binary_accuracy: 0.9793 - 6s/epoch - 55ms/step\n"
     ]
    },
    {
     "name": "stderr",
     "output_type": "stream",
     "text": [
      " 56%|█████▌    | 50/90 [05:34<04:13,  6.35s/it]"
     ]
    },
    {
     "name": "stdout",
     "output_type": "stream",
     "text": [
      "1/1 [==============================] - 0s 22ms/step\n",
      "109/109 - 6s - loss: 0.0703 - binary_accuracy: 0.9792 - 6s/epoch - 56ms/step\n"
     ]
    },
    {
     "name": "stderr",
     "output_type": "stream",
     "text": [
      " 57%|█████▋    | 51/90 [05:40<04:06,  6.31s/it]"
     ]
    },
    {
     "name": "stdout",
     "output_type": "stream",
     "text": [
      "1/1 [==============================] - 0s 20ms/step\n",
      "109/109 - 6s - loss: 0.0843 - binary_accuracy: 0.9739 - 6s/epoch - 56ms/step\n"
     ]
    },
    {
     "name": "stderr",
     "output_type": "stream",
     "text": [
      " 58%|█████▊    | 52/90 [05:46<03:58,  6.29s/it]"
     ]
    },
    {
     "name": "stdout",
     "output_type": "stream",
     "text": [
      "1/1 [==============================] - 0s 21ms/step\n",
      "109/109 - 6s - loss: 0.0683 - binary_accuracy: 0.9804 - 6s/epoch - 60ms/step\n"
     ]
    },
    {
     "name": "stderr",
     "output_type": "stream",
     "text": [
      " 59%|█████▉    | 53/90 [05:53<03:56,  6.40s/it]"
     ]
    },
    {
     "name": "stdout",
     "output_type": "stream",
     "text": [
      "1/1 [==============================] - 0s 21ms/step\n",
      "109/109 - 6s - loss: 0.0657 - binary_accuracy: 0.9809 - 6s/epoch - 58ms/step\n"
     ]
    },
    {
     "name": "stderr",
     "output_type": "stream",
     "text": [
      " 60%|██████    | 54/90 [05:59<03:50,  6.42s/it]"
     ]
    },
    {
     "name": "stdout",
     "output_type": "stream",
     "text": [
      "1/1 [==============================] - 0s 30ms/step\n",
      "109/109 - 6s - loss: 0.0686 - binary_accuracy: 0.9796 - 6s/epoch - 55ms/step\n"
     ]
    },
    {
     "name": "stderr",
     "output_type": "stream",
     "text": [
      " 61%|██████    | 55/90 [06:05<03:41,  6.34s/it]"
     ]
    },
    {
     "name": "stdout",
     "output_type": "stream",
     "text": [
      "1/1 [==============================] - 0s 29ms/step\n",
      "109/109 - 6s - loss: 0.0618 - binary_accuracy: 0.9823 - 6s/epoch - 59ms/step\n"
     ]
    },
    {
     "name": "stderr",
     "output_type": "stream",
     "text": [
      " 62%|██████▏   | 56/90 [06:12<03:37,  6.40s/it]"
     ]
    },
    {
     "name": "stdout",
     "output_type": "stream",
     "text": [
      "1/1 [==============================] - 0s 20ms/step\n",
      "109/109 - 7s - loss: 0.0593 - binary_accuracy: 0.9826 - 7s/epoch - 60ms/step\n"
     ]
    },
    {
     "name": "stderr",
     "output_type": "stream",
     "text": [
      " 63%|██████▎   | 57/90 [06:19<03:34,  6.49s/it]"
     ]
    },
    {
     "name": "stdout",
     "output_type": "stream",
     "text": [
      "1/1 [==============================] - 0s 34ms/step\n",
      "109/109 - 7s - loss: 0.0611 - binary_accuracy: 0.9819 - 7s/epoch - 61ms/step\n"
     ]
    },
    {
     "name": "stderr",
     "output_type": "stream",
     "text": [
      " 64%|██████▍   | 58/90 [06:26<03:31,  6.60s/it]"
     ]
    },
    {
     "name": "stdout",
     "output_type": "stream",
     "text": [
      "1/1 [==============================] - 0s 22ms/step\n",
      "110/110 - 6s - loss: 0.0637 - binary_accuracy: 0.9815 - 6s/epoch - 56ms/step\n"
     ]
    },
    {
     "name": "stderr",
     "output_type": "stream",
     "text": [
      " 66%|██████▌   | 59/90 [06:32<03:21,  6.50s/it]"
     ]
    },
    {
     "name": "stdout",
     "output_type": "stream",
     "text": [
      "1/1 [==============================] - 0s 30ms/step\n",
      "110/110 - 6s - loss: 0.0662 - binary_accuracy: 0.9808 - 6s/epoch - 57ms/step\n"
     ]
    },
    {
     "name": "stderr",
     "output_type": "stream",
     "text": [
      " 67%|██████▋   | 60/90 [06:38<03:13,  6.47s/it]"
     ]
    },
    {
     "name": "stdout",
     "output_type": "stream",
     "text": [
      "1/1 [==============================] - 0s 26ms/step\n",
      "110/110 - 7s - loss: 0.0915 - binary_accuracy: 0.9717 - 7s/epoch - 61ms/step\n"
     ]
    },
    {
     "name": "stderr",
     "output_type": "stream",
     "text": [
      " 68%|██████▊   | 61/90 [06:45<03:10,  6.58s/it]"
     ]
    },
    {
     "name": "stdout",
     "output_type": "stream",
     "text": [
      "1/1 [==============================] - 0s 26ms/step\n",
      "110/110 - 7s - loss: 0.0679 - binary_accuracy: 0.9806 - 7s/epoch - 60ms/step\n"
     ]
    },
    {
     "name": "stderr",
     "output_type": "stream",
     "text": [
      " 69%|██████▉   | 62/90 [06:52<03:05,  6.63s/it]"
     ]
    },
    {
     "name": "stdout",
     "output_type": "stream",
     "text": [
      "1/1 [==============================] - 0s 29ms/step\n",
      "110/110 - 6s - loss: 0.0744 - binary_accuracy: 0.9789 - 6s/epoch - 56ms/step\n"
     ]
    },
    {
     "name": "stderr",
     "output_type": "stream",
     "text": [
      " 70%|███████   | 63/90 [06:58<02:56,  6.52s/it]"
     ]
    },
    {
     "name": "stdout",
     "output_type": "stream",
     "text": [
      "1/1 [==============================] - 0s 31ms/step\n",
      "110/110 - 6s - loss: 0.0814 - binary_accuracy: 0.9765 - 6s/epoch - 53ms/step\n"
     ]
    },
    {
     "name": "stderr",
     "output_type": "stream",
     "text": [
      " 71%|███████   | 64/90 [07:04<02:46,  6.40s/it]"
     ]
    },
    {
     "name": "stdout",
     "output_type": "stream",
     "text": [
      "1/1 [==============================] - 0s 29ms/step\n",
      "110/110 - 6s - loss: 0.1056 - binary_accuracy: 0.9689 - 6s/epoch - 52ms/step\n"
     ]
    },
    {
     "name": "stderr",
     "output_type": "stream",
     "text": [
      " 72%|███████▏  | 65/90 [07:10<02:35,  6.24s/it]"
     ]
    },
    {
     "name": "stdout",
     "output_type": "stream",
     "text": [
      "1/1 [==============================] - 0s 21ms/step\n",
      "110/110 - 6s - loss: 0.0712 - binary_accuracy: 0.9797 - 6s/epoch - 57ms/step\n"
     ]
    },
    {
     "name": "stderr",
     "output_type": "stream",
     "text": [
      " 73%|███████▎  | 66/90 [07:17<02:31,  6.31s/it]"
     ]
    },
    {
     "name": "stdout",
     "output_type": "stream",
     "text": [
      "1/1 [==============================] - 0s 19ms/step\n",
      "110/110 - 6s - loss: 0.0623 - binary_accuracy: 0.9830 - 6s/epoch - 51ms/step\n"
     ]
    },
    {
     "name": "stderr",
     "output_type": "stream",
     "text": [
      " 74%|███████▍  | 67/90 [07:22<02:21,  6.15s/it]"
     ]
    },
    {
     "name": "stdout",
     "output_type": "stream",
     "text": [
      "1/1 [==============================] - 0s 29ms/step\n",
      "110/110 - 6s - loss: 0.0619 - binary_accuracy: 0.9823 - 6s/epoch - 54ms/step\n"
     ]
    },
    {
     "name": "stderr",
     "output_type": "stream",
     "text": [
      " 76%|███████▌  | 68/90 [07:28<02:14,  6.13s/it]"
     ]
    },
    {
     "name": "stdout",
     "output_type": "stream",
     "text": [
      "1/1 [==============================] - 0s 21ms/step\n",
      "110/110 - 6s - loss: 0.0579 - binary_accuracy: 0.9837 - 6s/epoch - 55ms/step\n"
     ]
    },
    {
     "name": "stderr",
     "output_type": "stream",
     "text": [
      " 77%|███████▋  | 69/90 [07:35<02:08,  6.14s/it]"
     ]
    },
    {
     "name": "stdout",
     "output_type": "stream",
     "text": [
      "1/1 [==============================] - 0s 21ms/step\n",
      "110/110 - 6s - loss: 0.0633 - binary_accuracy: 0.9824 - 6s/epoch - 52ms/step\n"
     ]
    },
    {
     "name": "stderr",
     "output_type": "stream",
     "text": [
      " 78%|███████▊  | 70/90 [07:40<02:01,  6.06s/it]"
     ]
    },
    {
     "name": "stdout",
     "output_type": "stream",
     "text": [
      "1/1 [==============================] - 0s 26ms/step\n",
      "110/110 - 6s - loss: 0.0590 - binary_accuracy: 0.9831 - 6s/epoch - 51ms/step\n"
     ]
    },
    {
     "name": "stderr",
     "output_type": "stream",
     "text": [
      " 79%|███████▉  | 71/90 [07:46<01:53,  5.98s/it]"
     ]
    },
    {
     "name": "stdout",
     "output_type": "stream",
     "text": [
      "1/1 [==============================] - 0s 26ms/step\n",
      "110/110 - 6s - loss: 0.1217 - binary_accuracy: 0.9632 - 6s/epoch - 53ms/step\n"
     ]
    },
    {
     "name": "stderr",
     "output_type": "stream",
     "text": [
      " 80%|████████  | 72/90 [07:52<01:47,  5.98s/it]"
     ]
    },
    {
     "name": "stdout",
     "output_type": "stream",
     "text": [
      "1/1 [==============================] - 0s 21ms/step\n",
      "110/110 - 6s - loss: 0.0759 - binary_accuracy: 0.9774 - 6s/epoch - 56ms/step\n"
     ]
    },
    {
     "name": "stderr",
     "output_type": "stream",
     "text": [
      " 81%|████████  | 73/90 [07:58<01:43,  6.07s/it]"
     ]
    },
    {
     "name": "stdout",
     "output_type": "stream",
     "text": [
      "1/1 [==============================] - 0s 29ms/step\n",
      "110/110 - 6s - loss: 0.0622 - binary_accuracy: 0.9833 - 6s/epoch - 51ms/step\n"
     ]
    },
    {
     "name": "stderr",
     "output_type": "stream",
     "text": [
      " 82%|████████▏ | 74/90 [08:04<01:35,  5.99s/it]"
     ]
    },
    {
     "name": "stdout",
     "output_type": "stream",
     "text": [
      "1/1 [==============================] - 0s 28ms/step\n",
      "110/110 - 6s - loss: 0.0586 - binary_accuracy: 0.9844 - 6s/epoch - 51ms/step\n"
     ]
    },
    {
     "name": "stderr",
     "output_type": "stream",
     "text": [
      " 83%|████████▎ | 75/90 [08:10<01:28,  5.92s/it]"
     ]
    },
    {
     "name": "stdout",
     "output_type": "stream",
     "text": [
      "1/1 [==============================] - 0s 30ms/step\n",
      "110/110 - 6s - loss: 0.0564 - binary_accuracy: 0.9846 - 6s/epoch - 52ms/step\n"
     ]
    },
    {
     "name": "stderr",
     "output_type": "stream",
     "text": [
      " 84%|████████▍ | 76/90 [08:16<01:22,  5.91s/it]"
     ]
    },
    {
     "name": "stdout",
     "output_type": "stream",
     "text": [
      "1/1 [==============================] - 0s 21ms/step\n",
      "110/110 - 6s - loss: 0.0564 - binary_accuracy: 0.9846 - 6s/epoch - 52ms/step\n"
     ]
    },
    {
     "name": "stderr",
     "output_type": "stream",
     "text": [
      " 86%|████████▌ | 77/90 [08:22<01:16,  5.90s/it]"
     ]
    },
    {
     "name": "stdout",
     "output_type": "stream",
     "text": [
      "1/1 [==============================] - 0s 23ms/step\n",
      "110/110 - 6s - loss: 0.0579 - binary_accuracy: 0.9842 - 6s/epoch - 52ms/step\n"
     ]
    },
    {
     "name": "stderr",
     "output_type": "stream",
     "text": [
      " 87%|████████▋ | 78/90 [08:28<01:10,  5.90s/it]"
     ]
    },
    {
     "name": "stdout",
     "output_type": "stream",
     "text": [
      "1/1 [==============================] - 0s 31ms/step\n",
      "110/110 - 6s - loss: 0.0598 - binary_accuracy: 0.9831 - 6s/epoch - 51ms/step\n"
     ]
    },
    {
     "name": "stderr",
     "output_type": "stream",
     "text": [
      " 88%|████████▊ | 79/90 [08:34<01:04,  5.87s/it]"
     ]
    },
    {
     "name": "stdout",
     "output_type": "stream",
     "text": [
      "1/1 [==============================] - 0s 26ms/step\n",
      "110/110 - 6s - loss: 0.0615 - binary_accuracy: 0.9820 - 6s/epoch - 53ms/step\n"
     ]
    },
    {
     "name": "stderr",
     "output_type": "stream",
     "text": [
      " 89%|████████▉ | 80/90 [08:40<00:59,  5.92s/it]"
     ]
    },
    {
     "name": "stdout",
     "output_type": "stream",
     "text": [
      "1/1 [==============================] - 0s 29ms/step\n",
      "110/110 - 6s - loss: 0.0680 - binary_accuracy: 0.9800 - 6s/epoch - 53ms/step\n"
     ]
    },
    {
     "name": "stderr",
     "output_type": "stream",
     "text": [
      " 90%|█████████ | 81/90 [08:46<00:53,  5.93s/it]"
     ]
    },
    {
     "name": "stdout",
     "output_type": "stream",
     "text": [
      "1/1 [==============================] - 0s 30ms/step\n",
      "110/110 - 6s - loss: 0.0759 - binary_accuracy: 0.9777 - 6s/epoch - 52ms/step\n"
     ]
    },
    {
     "name": "stderr",
     "output_type": "stream",
     "text": [
      " 91%|█████████ | 82/90 [08:51<00:47,  5.92s/it]"
     ]
    },
    {
     "name": "stdout",
     "output_type": "stream",
     "text": [
      "1/1 [==============================] - 0s 25ms/step\n",
      "110/110 - 6s - loss: 0.0588 - binary_accuracy: 0.9840 - 6s/epoch - 53ms/step\n"
     ]
    },
    {
     "name": "stderr",
     "output_type": "stream",
     "text": [
      " 92%|█████████▏| 83/90 [08:57<00:41,  5.96s/it]"
     ]
    },
    {
     "name": "stdout",
     "output_type": "stream",
     "text": [
      "1/1 [==============================] - 0s 30ms/step\n",
      "110/110 - 6s - loss: 0.0507 - binary_accuracy: 0.9866 - 6s/epoch - 58ms/step\n"
     ]
    },
    {
     "name": "stderr",
     "output_type": "stream",
     "text": [
      " 93%|█████████▎| 84/90 [09:04<00:36,  6.12s/it]"
     ]
    },
    {
     "name": "stdout",
     "output_type": "stream",
     "text": [
      "1/1 [==============================] - 0s 29ms/step\n",
      "110/110 - 6s - loss: 0.0579 - binary_accuracy: 0.9845 - 6s/epoch - 53ms/step\n"
     ]
    },
    {
     "name": "stderr",
     "output_type": "stream",
     "text": [
      " 94%|█████████▍| 85/90 [09:10<00:30,  6.08s/it]"
     ]
    },
    {
     "name": "stdout",
     "output_type": "stream",
     "text": [
      "1/1 [==============================] - 0s 30ms/step\n",
      "110/110 - 5s - loss: 0.0525 - binary_accuracy: 0.9863 - 5s/epoch - 48ms/step\n"
     ]
    },
    {
     "name": "stderr",
     "output_type": "stream",
     "text": [
      " 96%|█████████▌| 86/90 [09:15<00:23,  5.88s/it]"
     ]
    },
    {
     "name": "stdout",
     "output_type": "stream",
     "text": [
      "1/1 [==============================] - 0s 22ms/step\n",
      "110/110 - 6s - loss: 0.0536 - binary_accuracy: 0.9850 - 6s/epoch - 53ms/step\n"
     ]
    },
    {
     "name": "stderr",
     "output_type": "stream",
     "text": [
      " 97%|█████████▋| 87/90 [09:21<00:17,  5.92s/it]"
     ]
    },
    {
     "name": "stdout",
     "output_type": "stream",
     "text": [
      "1/1 [==============================] - 0s 21ms/step\n",
      "110/110 - 6s - loss: 0.0572 - binary_accuracy: 0.9838 - 6s/epoch - 55ms/step\n"
     ]
    },
    {
     "name": "stderr",
     "output_type": "stream",
     "text": [
      " 98%|█████████▊| 88/90 [09:28<00:12,  6.01s/it]"
     ]
    },
    {
     "name": "stdout",
     "output_type": "stream",
     "text": [
      "1/1 [==============================] - 0s 21ms/step\n",
      "110/110 - 6s - loss: 0.0567 - binary_accuracy: 0.9837 - 6s/epoch - 55ms/step\n"
     ]
    },
    {
     "name": "stderr",
     "output_type": "stream",
     "text": [
      " 99%|█████████▉| 89/90 [09:34<00:06,  6.07s/it]"
     ]
    },
    {
     "name": "stdout",
     "output_type": "stream",
     "text": [
      "1/1 [==============================] - 0s 30ms/step\n",
      "110/110 - 6s - loss: 0.0553 - binary_accuracy: 0.9846 - 6s/epoch - 56ms/step\n"
     ]
    },
    {
     "name": "stderr",
     "output_type": "stream",
     "text": [
      "100%|██████████| 90/90 [09:40<00:00,  6.45s/it]\n"
     ]
    },
    {
     "data": {
      "text/plain": [
       "(0.6675005287264164,\n",
       " 0.6218584656084656,\n",
       " 0.7270833333333333,\n",
       " 0.6302218133323227)"
      ]
     },
     "execution_count": 42,
     "metadata": {},
     "output_type": "execute_result"
    }
   ],
   "source": [
    "from keras.models import load_model\n",
    "from sklearn.metrics import precision_score, recall_score, accuracy_score, f1_score\n",
    "from tqdm import tqdm\n",
    "\n",
    "# Assuming best_model is loaded from the notebook\n",
    "# best_model = load_model('final_model_0908_seq2seq_2.h5')\n",
    "\n",
    "# Step 1: Initially train the model on X_train and y_train\n",
    "# Assuming this has been done in the notebook\n",
    "\n",
    "# Step 2: Online learning with x_test\n",
    "y_preds = []\n",
    "training_losses = []\n",
    "training_acc = []\n",
    "val_losses = []\n",
    "val_acc = []\n",
    "for i in tqdm(range(len(X_test))):\n",
    "    # Predict the next instance\n",
    "    y_pred = best_model.predict(X_test[i:i+1])\n",
    "    y_preds.append(y_pred[0])\n",
    "    \n",
    "    # Add the instance and its actual result to the training dataset\n",
    "    X_train = np.append(X_train, X_test[i:i+1], axis=0)\n",
    "    y_train = np.append(y_train, y_test[i:i+1], axis=0)\n",
    "    \n",
    "    # Retrain the model on this updated dataset\n",
    "    history_slide = best_model.fit(X_train, y_train, epochs=1, verbose=2)\n",
    "    training_losses.append(history_slide.history['loss'][0])\n",
    "    training_acc.append(history_slide.history['binary_accuracy'][0])\n",
    "    # val_losses.append(history_slide.history['val_loss'][0])\n",
    "    # val_acc.append(history_slide.history['val_binary_accuracy'][0])\n",
    "\n",
    "# Convert predictions to numpy array\n",
    "y_preds = np.array(y_preds)\n",
    "\n",
    "# Step 3: Evaluate the model\n",
    "# Flatten the 3D tensors for evaluation\n",
    "y_test_flat = np.argmax(y_test.reshape(-1, y_test.shape[-1]), axis=1)\n",
    "y_preds_flat = np.argmax(y_preds.reshape(-1, y_preds.shape[-1]), axis=1)\n",
    "\n",
    "# Calculate evaluation metrics\n",
    "precision = precision_score(y_test_flat, y_preds_flat, average='macro')\n",
    "recall = recall_score(y_test_flat, y_preds_flat, average='macro')\n",
    "accuracy = accuracy_score(y_test_flat, y_preds_flat)\n",
    "f1 = f1_score(y_test_flat, y_preds_flat, average='macro')\n",
    "\n",
    "precision, recall, accuracy, f1\n"
   ]
  },
  {
   "cell_type": "code",
   "execution_count": 43,
   "metadata": {},
   "outputs": [
    {
     "data": {
      "image/png": "[encoded data removed]",
      "text/plain": [
       "<Figure size 1200x400 with 2 Axes>"
      ]
     },
     "metadata": {},
     "output_type": "display_data"
    }
   ],
   "source": [
    "plt.figure(figsize=(12, 4))\n",
    "plt.subplot(1, 2, 1)\n",
    "plt.plot(training_acc)\n",
    "# plt.plot(val_acc)\n",
    "plt.title('Model binary_accuracy')\n",
    "plt.ylabel('Accuracy')\n",
    "plt.xlabel('Epoch')\n",
    "plt.legend(['Train', 'Test'], loc='upper left')\n",
    "\n",
    "# Plot training & validation loss values\n",
    "plt.subplot(1, 2, 2)\n",
    "plt.plot(training_losses)\n",
    "# plt.plot(val_losses)\n",
    "plt.title('Model loss')\n",
    "plt.ylabel('Loss')\n",
    "plt.xlabel('Epoch')\n",
    "plt.legend(['Train', 'Test'], loc='upper left')\n",
    "plt.show()"
   ]
  },
  {
   "cell_type": "code",
   "execution_count": 44,
   "metadata": {},
   "outputs": [
    {
     "name": "stdout",
     "output_type": "stream",
     "text": [
      "Average Precision: 0.6629143632198057\n",
      "Average Recall: 0.6206871637748524\n",
      "Average Accuracy: 0.7270833333333331\n",
      "Average F1 Score: 0.6270994547308585\n"
     ]
    }
   ],
   "source": [
    "from sklearn.metrics import precision_score, recall_score, accuracy_score, f1_score\n",
    "\n",
    "# 初始化指標\n",
    "total_precision = 0\n",
    "total_recall = 0\n",
    "total_accuracy = 0\n",
    "total_f1 = 0\n",
    "num_steps = y_test.shape[1]\n",
    "\n",
    "# 針對每個時間步計算指標\n",
    "for step in range(num_steps):\n",
    "    y_true_step = np.argmax(y_test[:, step, :], axis=1)\n",
    "    y_pred_step = np.argmax(y_preds[:, step, :], axis=1)\n",
    "    \n",
    "    total_precision += precision_score(y_true_step, y_pred_step, average='macro')\n",
    "    total_recall += recall_score(y_true_step, y_pred_step, average='macro')\n",
    "    total_accuracy += accuracy_score(y_true_step, y_pred_step)\n",
    "    total_f1 += f1_score(y_true_step, y_pred_step, average='macro')\n",
    "\n",
    "# 取平均值\n",
    "avg_precision = total_precision / num_steps\n",
    "avg_recall = total_recall / num_steps\n",
    "avg_accuracy = total_accuracy / num_steps\n",
    "avg_f1 = total_f1 / num_steps\n",
    "\n",
    "# 顯示結果\n",
    "print(f'Average Precision: {avg_precision}')\n",
    "print(f'Average Recall: {avg_recall}')\n",
    "print(f'Average Accuracy: {avg_accuracy}')\n",
    "print(f'Average F1 Score: {avg_f1}')\n"
   ]
  },
  {
   "cell_type": "code",
   "execution_count": 45,
   "metadata": {},
   "outputs": [],
   "source": [
    "from kerastuner import RandomSearch\n",
    "from keras.models import Sequential\n",
    "from keras.layers import LSTM, Dense, RepeatVector, TimeDistributed, Conv1D, MaxPooling1D, Dropout, BatchNormalization, Activation\n",
    "from keras.optimizers import Adam\n",
    "from keras import regularizers\n",
    "from keras import metrics\n",
    "\n",
    "params = {\n",
    "        'conv_1_filter': 32,\n",
    "        'conv_1_kernel': 4,\n",
    "        'conv_1_l2': 0.00016475815766673417,\n",
    "        'dropout_1': 0.2,\n",
    "        'conv_2_filter': 96,\n",
    "        'conv_2_kernel': 2,\n",
    "        'dropout_2': 0.2,\n",
    "        'lstm_1_units': 128,\n",
    "        'lstm_1_l2': 0.0002788818914602332,\n",
    "        'dropout_3': 0.2,\n",
    "        'lstm_2_units': 64,\n",
    "        'dropout_4': 0.1,\n",
    "        'learning_rate': 0.001\n",
    "    }\n",
    "\n",
    "def build_model():\n",
    "    # Parameters from the provided dictionary\n",
    "\n",
    "    model = Sequential()\n",
    "    \n",
    "    # Encoder\n",
    "    model.add(Conv1D(filters=params['conv_1_filter'],\n",
    "                     kernel_size=params['conv_1_kernel'],\n",
    "                     activation=None,\n",
    "                     padding='same',\n",
    "                     kernel_regularizer=regularizers.l2(params['conv_1_l2']),\n",
    "                     input_shape=(look_back, X_train.shape[-1])))\n",
    "    model.add(BatchNormalization())\n",
    "    model.add(Activation('relu'))\n",
    "    model.add(Dropout(params['dropout_1']))\n",
    "    model.add(MaxPooling1D(pool_size=2))\n",
    "    \n",
    "    model.add(Conv1D(filters=params['conv_2_filter'],\n",
    "                     kernel_size=params['conv_2_kernel'],\n",
    "                     activation=None))\n",
    "    model.add(BatchNormalization())\n",
    "    model.add(Activation('relu'))\n",
    "    model.add(Dropout(params['dropout_2']))\n",
    "    model.add(MaxPooling1D(pool_size=2))\n",
    "    \n",
    "    model.add(LSTM(units=params['lstm_1_units'],\n",
    "                   activation=None,\n",
    "                   return_sequences=False,\n",
    "                   kernel_regularizer=regularizers.l2(params['lstm_1_l2'])))\n",
    "    model.add(BatchNormalization())\n",
    "    model.add(Activation('tanh'))\n",
    "    model.add(Dropout(params['dropout_3']))\n",
    "    \n",
    "    # Set the desired output sequence length using RepeatVector\n",
    "    model.add(RepeatVector(predict_steps))\n",
    "    \n",
    "    # Decoder\n",
    "    model.add(LSTM(units=params['lstm_2_units'],\n",
    "                   activation=None,\n",
    "                   return_sequences=True))\n",
    "    model.add(BatchNormalization())\n",
    "    model.add(Activation('tanh'))\n",
    "    model.add(Dropout(params['dropout_4']))\n",
    "    model.add(TimeDistributed(Dense(2, activation='softmax')))\n",
    "    \n",
    "    optimizer = Adam(learning_rate=params['learning_rate'])\n",
    "    model.compile(optimizer=optimizer,\n",
    "                  loss='binary_crossentropy',\n",
    "                  metrics=[metrics.BinaryAccuracy()])\n",
    "    model.summary()\n",
    "    \n",
    "    return model\n"
   ]
  },
  {
   "cell_type": "code",
   "execution_count": 46,
   "metadata": {},
   "outputs": [],
   "source": [
    "# TODO: 這種方法無法使用Model原來的api，考慮其他方法\n",
    "# TODO: 重寫evaluation，邏輯有問題"
   ]
  },
  {
   "cell_type": "code",
   "execution_count": 47,
   "metadata": {},
   "outputs": [
    {
     "name": "stdout",
     "output_type": "stream",
     "text": [
      "Model: \"sequential_4\"\n",
      "_________________________________________________________________\n",
      " Layer (type)                Output Shape              Param #   \n",
      "=================================================================\n",
      " conv1d_8 (Conv1D)           (None, 64, 32)            2464      \n",
      "                                                                 \n",
      " batch_normalization_16 (Bat  (None, 64, 32)           128       \n",
      " chNormalization)                                                \n",
      "                                                                 \n",
      " activation_16 (Activation)  (None, 64, 32)            0         \n",
      "                                                                 \n",
      " dropout_16 (Dropout)        (None, 64, 32)            0         \n",
      "                                                                 \n",
      " max_pooling1d_8 (MaxPooling  (None, 32, 32)           0         \n",
      " 1D)                                                             \n",
      "                                                                 \n",
      " conv1d_9 (Conv1D)           (None, 31, 96)            6240      \n",
      "                                                                 \n",
      " batch_normalization_17 (Bat  (None, 31, 96)           384       \n",
      " chNormalization)                                                \n",
      "                                                                 \n",
      " activation_17 (Activation)  (None, 31, 96)            0         \n",
      "                                                                 \n",
      " dropout_17 (Dropout)        (None, 31, 96)            0         \n",
      "                                                                 \n",
      " max_pooling1d_9 (MaxPooling  (None, 15, 96)           0         \n",
      " 1D)                                                             \n",
      "                                                                 \n",
      " lstm_8 (LSTM)               (None, 128)               115200    \n",
      "                                                                 \n",
      " batch_normalization_18 (Bat  (None, 128)              512       \n",
      " chNormalization)                                                \n",
      "                                                                 \n",
      " activation_18 (Activation)  (None, 128)               0         \n",
      "                                                                 \n",
      " dropout_18 (Dropout)        (None, 128)               0         \n",
      "                                                                 \n",
      " repeat_vector_4 (RepeatVect  (None, 16, 128)          0         \n",
      " or)                                                             \n",
      "                                                                 \n",
      " lstm_9 (LSTM)               (None, 16, 64)            49408     \n",
      "                                                                 \n",
      " batch_normalization_19 (Bat  (None, 16, 64)           256       \n",
      " chNormalization)                                                \n",
      "                                                                 \n",
      " activation_19 (Activation)  (None, 16, 64)            0         \n",
      "                                                                 \n",
      " dropout_19 (Dropout)        (None, 16, 64)            0         \n",
      "                                                                 \n",
      " time_distributed_4 (TimeDis  (None, 16, 2)            130       \n",
      " tributed)                                                       \n",
      "                                                                 \n",
      "=================================================================\n",
      "Total params: 174,722\n",
      "Trainable params: 174,082\n",
      "Non-trainable params: 640\n",
      "_________________________________________________________________\n"
     ]
    }
   ],
   "source": [
    "class ModelFactory:\n",
    "    def __init__(self):\n",
    "        self._models = {\n",
    "            'seq2seq': self._build_seq2seq_model,\n",
    "            'cnn': self._build_cnn_model\n",
    "            # Additional models can be added here\n",
    "        }\n",
    "\n",
    "    def build_model(self, model_type, params, input_shape):\n",
    "        if model_type not in self._models:\n",
    "            raise ValueError(f\"Model type {model_type} not recognized.\")\n",
    "        return self._models[model_type](params, input_shape)\n",
    "\n",
    "    def _build_seq2seq_model(self, params, input_shape):\n",
    "        model = Sequential()\n",
    "        # Encoder\n",
    "        model.add(Conv1D(filters=params['conv_1_filter'],\n",
    "                        kernel_size=params['conv_1_kernel'],\n",
    "                        activation=None,\n",
    "                        padding='same',\n",
    "                        kernel_regularizer=regularizers.l2(params['conv_1_l2']),\n",
    "                        input_shape=input_shape))\n",
    "        model.add(BatchNormalization())\n",
    "        model.add(Activation('relu'))\n",
    "        model.add(Dropout(params['dropout_1']))\n",
    "        model.add(MaxPooling1D(pool_size=2))\n",
    "        \n",
    "        model.add(Conv1D(filters=params['conv_2_filter'],\n",
    "                        kernel_size=params['conv_2_kernel'],\n",
    "                        activation=None))\n",
    "        model.add(BatchNormalization())\n",
    "        model.add(Activation('relu'))\n",
    "        model.add(Dropout(params['dropout_2']))\n",
    "        model.add(MaxPooling1D(pool_size=2))\n",
    "        \n",
    "        model.add(LSTM(units=params['lstm_1_units'],\n",
    "                    activation=None,\n",
    "                    return_sequences=False,\n",
    "                    kernel_regularizer=regularizers.l2(params['lstm_1_l2'])))\n",
    "        model.add(BatchNormalization())\n",
    "        model.add(Activation('tanh'))\n",
    "        model.add(Dropout(params['dropout_3']))\n",
    "        \n",
    "        # Set the desired output sequence length using RepeatVector\n",
    "        model.add(RepeatVector(predict_steps))\n",
    "        \n",
    "        # Decoder\n",
    "        model.add(LSTM(units=params['lstm_2_units'],\n",
    "                    activation=None,\n",
    "                    return_sequences=True))\n",
    "        model.add(BatchNormalization())\n",
    "        model.add(Activation('tanh'))\n",
    "        model.add(Dropout(params['dropout_4']))\n",
    "        model.add(TimeDistributed(Dense(2, activation='softmax')))\n",
    "        \n",
    "        optimizer = Adam(learning_rate=params['learning_rate'])\n",
    "        model.compile(optimizer=optimizer,\n",
    "                    loss='binary_crossentropy',\n",
    "                    metrics=[metrics.BinaryAccuracy()])\n",
    "        model.summary()\n",
    "        \n",
    "        return model\n",
    "\n",
    "\n",
    "    def _build_cnn_model(self, params, input_shape):\n",
    "        # CNN model creation logic\n",
    "        pass\n",
    "\n",
    "# Usage example\n",
    "factory = ModelFactory()\n",
    "input_shape = (look_back, X_train.shape[-1])\n",
    "params = {\n",
    "        'conv_1_filter': 32,\n",
    "        'conv_1_kernel': 4,\n",
    "        'conv_1_l2': 0.00016475815766673417,\n",
    "        'dropout_1': 0.2,\n",
    "        'conv_2_filter': 96,\n",
    "        'conv_2_kernel': 2,\n",
    "        'dropout_2': 0.2,\n",
    "        'lstm_1_units': 128,\n",
    "        'lstm_1_l2': 0.0002788818914602332,\n",
    "        'dropout_3': 0.2,\n",
    "        'lstm_2_units': 64,\n",
    "        'dropout_4': 0.1,\n",
    "        'learning_rate': 0.001\n",
    "    }\n",
    "seq2seq_model = factory.build_model('seq2seq', params, input_shape)\n",
    "cnn_model = factory.build_model('cnn', params, input_shape)\n"
   ]
  },
  {
   "cell_type": "code",
   "execution_count": 48,
   "metadata": {},
   "outputs": [
    {
     "name": "stdout",
     "output_type": "stream",
     "text": [
      "Epoch 1/10\n",
      "55/55 - 8s - loss: 0.5591 - binary_accuracy: 0.7489 - 8s/epoch - 144ms/step\n",
      "Epoch 2/10\n",
      "55/55 - 5s - loss: 0.4345 - binary_accuracy: 0.8297 - 5s/epoch - 91ms/step\n",
      "Epoch 3/10\n",
      "55/55 - 5s - loss: 0.3588 - binary_accuracy: 0.8657 - 5s/epoch - 90ms/step\n",
      "Epoch 4/10\n",
      "55/55 - 5s - loss: 0.3199 - binary_accuracy: 0.8860 - 5s/epoch - 90ms/step\n",
      "Epoch 5/10\n",
      "55/55 - 5s - loss: 0.2776 - binary_accuracy: 0.9037 - 5s/epoch - 92ms/step\n",
      "Epoch 6/10\n",
      "55/55 - 5s - loss: 0.2533 - binary_accuracy: 0.9130 - 5s/epoch - 90ms/step\n",
      "Epoch 7/10\n",
      "55/55 - 5s - loss: 0.2363 - binary_accuracy: 0.9201 - 5s/epoch - 90ms/step\n",
      "Epoch 8/10\n",
      "55/55 - 5s - loss: 0.2113 - binary_accuracy: 0.9325 - 5s/epoch - 90ms/step\n",
      "Epoch 9/10\n",
      "55/55 - 5s - loss: 0.2055 - binary_accuracy: 0.9330 - 5s/epoch - 91ms/step\n",
      "Epoch 10/10\n",
      "55/55 - 5s - loss: 0.1892 - binary_accuracy: 0.9391 - 5s/epoch - 91ms/step\n",
      "Validation Loss: 0.5242969989776611\n",
      "Validation Accuracy: 0.7986111044883728\n"
     ]
    }
   ],
   "source": [
    "from keras.callbacks import EarlyStopping\n",
    "\n",
    "class Trainer:\n",
    "    def __init__(self, model, params):\n",
    "        self.model = model\n",
    "        self.params = params\n",
    "\n",
    "    def train(self, X_train, y_train, X_test, y_test):\n",
    "        # Define callbacks, such as EarlyStopping\n",
    "        early_stopping = EarlyStopping(\n",
    "            monitor='loss', \n",
    "            patience=self.params.get('patience', 5), \n",
    "            restore_best_weights=True\n",
    "        )\n",
    "\n",
    "        # Train the model\n",
    "        history = self.model.fit(\n",
    "            X_train, y_train,\n",
    "            epochs=self.params.get('epochs', 10),\n",
    "            batch_size=self.params.get('batch_size', 32),\n",
    "            # validation_data=(X_test, y_test),\n",
    "            # callbacks=[early_stopping],\n",
    "            verbose=2\n",
    "        )\n",
    "\n",
    "        return history\n",
    "\n",
    "    def evaluate(self, X_test, y_test):\n",
    "        # Evaluate the model on the validation set\n",
    "        evaluation = self.model.evaluate(X_test, y_test, verbose=0)\n",
    "        return evaluation\n",
    "\n",
    "# Usage example\n",
    "params = {\n",
    "    'epochs': 10,\n",
    "    'batch_size': 64,\n",
    "    'patience': 5  # You can add more parameters as needed\n",
    "}\n",
    "trainer = Trainer(seq2seq_model, params)\n",
    "history = trainer.train(X_train, y_train, X_test, y_test)\n",
    "\n",
    "# After training, evaluate the model\n",
    "evaluation = trainer.evaluate(X_test, y_test)\n",
    "\n",
    "# You can print or log the evaluation metrics\n",
    "print(f\"Validation Loss: {evaluation[0]}\")\n",
    "print(f\"Validation Accuracy: {evaluation[1]}\")\n"
   ]
  },
  {
   "cell_type": "code",
   "execution_count": 49,
   "metadata": {},
   "outputs": [
    {
     "name": "stderr",
     "output_type": "stream",
     "text": [
      "  0%|          | 0/90 [00:00<?, ?it/s]"
     ]
    },
    {
     "name": "stdout",
     "output_type": "stream",
     "text": [
      "1/1 [==============================] - 0s 469ms/step\n",
      "111/111 - 8s - loss: 0.2403 - binary_accuracy: 0.9180 - 8s/epoch - 73ms/step\n"
     ]
    },
    {
     "name": "stderr",
     "output_type": "stream",
     "text": [
      "  1%|          | 1/90 [00:08<12:55,  8.71s/it]"
     ]
    },
    {
     "name": "stdout",
     "output_type": "stream",
     "text": [
      "1/1 [==============================] - 0s 26ms/step\n",
      "111/111 - 6s - loss: 0.2386 - binary_accuracy: 0.9208 - 6s/epoch - 52ms/step\n"
     ]
    },
    {
     "name": "stderr",
     "output_type": "stream",
     "text": [
      "  2%|▏         | 2/90 [00:14<10:23,  7.08s/it]"
     ]
    },
    {
     "name": "stdout",
     "output_type": "stream",
     "text": [
      "1/1 [==============================] - 0s 31ms/step\n",
      "111/111 - 6s - loss: 0.3591 - binary_accuracy: 0.8653 - 6s/epoch - 52ms/step\n"
     ]
    },
    {
     "name": "stderr",
     "output_type": "stream",
     "text": [
      "  3%|▎         | 3/90 [00:20<09:29,  6.55s/it]"
     ]
    },
    {
     "name": "stdout",
     "output_type": "stream",
     "text": [
      "1/1 [==============================] - 0s 36ms/step\n",
      "111/111 - 6s - loss: 0.2333 - binary_accuracy: 0.9244 - 6s/epoch - 50ms/step\n"
     ]
    },
    {
     "name": "stderr",
     "output_type": "stream",
     "text": [
      "  4%|▍         | 4/90 [00:26<08:54,  6.22s/it]"
     ]
    },
    {
     "name": "stdout",
     "output_type": "stream",
     "text": [
      "1/1 [==============================] - 0s 30ms/step\n",
      "111/111 - 5s - loss: 0.2038 - binary_accuracy: 0.9337 - 5s/epoch - 49ms/step\n"
     ]
    },
    {
     "name": "stderr",
     "output_type": "stream",
     "text": [
      "  6%|▌         | 5/90 [00:31<08:29,  5.99s/it]"
     ]
    },
    {
     "name": "stdout",
     "output_type": "stream",
     "text": [
      "1/1 [==============================] - 0s 40ms/step\n",
      "111/111 - 5s - loss: 0.1972 - binary_accuracy: 0.9361 - 5s/epoch - 49ms/step\n"
     ]
    },
    {
     "name": "stderr",
     "output_type": "stream",
     "text": [
      "  7%|▋         | 6/90 [00:37<08:11,  5.85s/it]"
     ]
    },
    {
     "name": "stdout",
     "output_type": "stream",
     "text": [
      "1/1 [==============================] - 0s 29ms/step\n",
      "111/111 - 5s - loss: 0.1886 - binary_accuracy: 0.9391 - 5s/epoch - 47ms/step\n"
     ]
    },
    {
     "name": "stderr",
     "output_type": "stream",
     "text": [
      "  8%|▊         | 7/90 [00:42<07:54,  5.71s/it]"
     ]
    },
    {
     "name": "stdout",
     "output_type": "stream",
     "text": [
      "1/1 [==============================] - 0s 30ms/step\n",
      "111/111 - 5s - loss: 0.1738 - binary_accuracy: 0.9442 - 5s/epoch - 46ms/step\n"
     ]
    },
    {
     "name": "stderr",
     "output_type": "stream",
     "text": [
      "  9%|▉         | 8/90 [00:48<07:35,  5.56s/it]"
     ]
    },
    {
     "name": "stdout",
     "output_type": "stream",
     "text": [
      "1/1 [==============================] - 0s 28ms/step\n",
      "111/111 - 5s - loss: 0.1631 - binary_accuracy: 0.9484 - 5s/epoch - 46ms/step\n"
     ]
    },
    {
     "name": "stderr",
     "output_type": "stream",
     "text": [
      " 10%|█         | 9/90 [00:53<07:22,  5.46s/it]"
     ]
    },
    {
     "name": "stdout",
     "output_type": "stream",
     "text": [
      "1/1 [==============================] - 0s 20ms/step\n",
      "111/111 - 5s - loss: 0.1577 - binary_accuracy: 0.9501 - 5s/epoch - 46ms/step\n"
     ]
    },
    {
     "name": "stderr",
     "output_type": "stream",
     "text": [
      " 11%|█         | 10/90 [00:58<07:10,  5.38s/it]"
     ]
    },
    {
     "name": "stdout",
     "output_type": "stream",
     "text": [
      "1/1 [==============================] - 0s 26ms/step\n",
      "111/111 - 5s - loss: 0.1580 - binary_accuracy: 0.9500 - 5s/epoch - 46ms/step\n"
     ]
    },
    {
     "name": "stderr",
     "output_type": "stream",
     "text": [
      " 12%|█▏        | 11/90 [01:03<07:02,  5.35s/it]"
     ]
    },
    {
     "name": "stdout",
     "output_type": "stream",
     "text": [
      "1/1 [==============================] - 0s 41ms/step\n",
      "111/111 - 5s - loss: 0.1458 - binary_accuracy: 0.9552 - 5s/epoch - 46ms/step\n"
     ]
    },
    {
     "name": "stderr",
     "output_type": "stream",
     "text": [
      " 13%|█▎        | 12/90 [01:09<06:57,  5.36s/it]"
     ]
    },
    {
     "name": "stdout",
     "output_type": "stream",
     "text": [
      "1/1 [==============================] - 0s 25ms/step\n",
      "111/111 - 5s - loss: 0.1411 - binary_accuracy: 0.9553 - 5s/epoch - 47ms/step\n"
     ]
    },
    {
     "name": "stderr",
     "output_type": "stream",
     "text": [
      " 14%|█▍        | 13/90 [01:14<06:52,  5.36s/it]"
     ]
    },
    {
     "name": "stdout",
     "output_type": "stream",
     "text": [
      "1/1 [==============================] - 0s 29ms/step\n",
      "111/111 - 5s - loss: 0.1403 - binary_accuracy: 0.9558 - 5s/epoch - 47ms/step\n"
     ]
    },
    {
     "name": "stderr",
     "output_type": "stream",
     "text": [
      " 16%|█▌        | 14/90 [01:19<06:46,  5.35s/it]"
     ]
    },
    {
     "name": "stdout",
     "output_type": "stream",
     "text": [
      "1/1 [==============================] - 0s 25ms/step\n",
      "111/111 - 5s - loss: 0.1378 - binary_accuracy: 0.9577 - 5s/epoch - 46ms/step\n"
     ]
    },
    {
     "name": "stderr",
     "output_type": "stream",
     "text": [
      " 17%|█▋        | 15/90 [01:25<06:39,  5.33s/it]"
     ]
    },
    {
     "name": "stdout",
     "output_type": "stream",
     "text": [
      "1/1 [==============================] - 0s 21ms/step\n",
      "111/111 - 5s - loss: 0.1294 - binary_accuracy: 0.9604 - 5s/epoch - 46ms/step\n"
     ]
    },
    {
     "name": "stderr",
     "output_type": "stream",
     "text": [
      " 18%|█▊        | 16/90 [01:30<06:33,  5.32s/it]"
     ]
    },
    {
     "name": "stdout",
     "output_type": "stream",
     "text": [
      "1/1 [==============================] - 0s 19ms/step\n",
      "111/111 - 5s - loss: 0.1274 - binary_accuracy: 0.9599 - 5s/epoch - 46ms/step\n"
     ]
    },
    {
     "name": "stderr",
     "output_type": "stream",
     "text": [
      " 19%|█▉        | 17/90 [01:35<06:27,  5.31s/it]"
     ]
    },
    {
     "name": "stdout",
     "output_type": "stream",
     "text": [
      "1/1 [==============================] - 0s 30ms/step\n",
      "111/111 - 5s - loss: 0.1195 - binary_accuracy: 0.9632 - 5s/epoch - 46ms/step\n"
     ]
    },
    {
     "name": "stderr",
     "output_type": "stream",
     "text": [
      " 20%|██        | 18/90 [01:41<06:22,  5.31s/it]"
     ]
    },
    {
     "name": "stdout",
     "output_type": "stream",
     "text": [
      "1/1 [==============================] - 0s 30ms/step\n",
      "111/111 - 5s - loss: 0.1182 - binary_accuracy: 0.9631 - 5s/epoch - 47ms/step\n"
     ]
    },
    {
     "name": "stderr",
     "output_type": "stream",
     "text": [
      " 21%|██        | 19/90 [01:46<06:18,  5.33s/it]"
     ]
    },
    {
     "name": "stdout",
     "output_type": "stream",
     "text": [
      "1/1 [==============================] - 0s 28ms/step\n",
      "111/111 - 5s - loss: 0.1183 - binary_accuracy: 0.9637 - 5s/epoch - 47ms/step\n"
     ]
    },
    {
     "name": "stderr",
     "output_type": "stream",
     "text": [
      " 22%|██▏       | 20/90 [01:51<06:13,  5.33s/it]"
     ]
    },
    {
     "name": "stdout",
     "output_type": "stream",
     "text": [
      "1/1 [==============================] - 0s 28ms/step\n",
      "111/111 - 5s - loss: 0.1148 - binary_accuracy: 0.9640 - 5s/epoch - 47ms/step\n"
     ]
    },
    {
     "name": "stderr",
     "output_type": "stream",
     "text": [
      " 23%|██▎       | 21/90 [01:57<06:09,  5.35s/it]"
     ]
    },
    {
     "name": "stdout",
     "output_type": "stream",
     "text": [
      "1/1 [==============================] - 0s 29ms/step\n",
      "111/111 - 5s - loss: 0.1123 - binary_accuracy: 0.9660 - 5s/epoch - 46ms/step\n"
     ]
    },
    {
     "name": "stderr",
     "output_type": "stream",
     "text": [
      " 24%|██▍       | 22/90 [02:02<06:03,  5.34s/it]"
     ]
    },
    {
     "name": "stdout",
     "output_type": "stream",
     "text": [
      "1/1 [==============================] - 0s 20ms/step\n",
      "111/111 - 5s - loss: 0.1087 - binary_accuracy: 0.9670 - 5s/epoch - 48ms/step\n"
     ]
    },
    {
     "name": "stderr",
     "output_type": "stream",
     "text": [
      " 26%|██▌       | 23/90 [02:08<06:01,  5.39s/it]"
     ]
    },
    {
     "name": "stdout",
     "output_type": "stream",
     "text": [
      "1/1 [==============================] - 0s 48ms/step\n",
      "111/111 - 5s - loss: 0.1161 - binary_accuracy: 0.9633 - 5s/epoch - 47ms/step\n"
     ]
    },
    {
     "name": "stderr",
     "output_type": "stream",
     "text": [
      " 27%|██▋       | 24/90 [02:13<05:57,  5.42s/it]"
     ]
    },
    {
     "name": "stdout",
     "output_type": "stream",
     "text": [
      "1/1 [==============================] - 0s 20ms/step\n",
      "111/111 - 5s - loss: 0.1082 - binary_accuracy: 0.9677 - 5s/epoch - 48ms/step\n"
     ]
    },
    {
     "name": "stderr",
     "output_type": "stream",
     "text": [
      " 28%|██▊       | 25/90 [02:18<05:53,  5.44s/it]"
     ]
    },
    {
     "name": "stdout",
     "output_type": "stream",
     "text": [
      "1/1 [==============================] - 0s 31ms/step\n",
      "111/111 - 5s - loss: 0.1065 - binary_accuracy: 0.9683 - 5s/epoch - 47ms/step\n"
     ]
    },
    {
     "name": "stderr",
     "output_type": "stream",
     "text": [
      " 29%|██▉       | 26/90 [02:24<05:47,  5.42s/it]"
     ]
    },
    {
     "name": "stdout",
     "output_type": "stream",
     "text": [
      "1/1 [==============================] - 0s 22ms/step\n",
      "111/111 - 5s - loss: 0.1014 - binary_accuracy: 0.9691 - 5s/epoch - 47ms/step\n"
     ]
    },
    {
     "name": "stderr",
     "output_type": "stream",
     "text": [
      " 30%|███       | 27/90 [02:29<05:41,  5.41s/it]"
     ]
    },
    {
     "name": "stdout",
     "output_type": "stream",
     "text": [
      "1/1 [==============================] - 0s 29ms/step\n",
      "111/111 - 5s - loss: 0.1024 - binary_accuracy: 0.9688 - 5s/epoch - 47ms/step\n"
     ]
    },
    {
     "name": "stderr",
     "output_type": "stream",
     "text": [
      " 31%|███       | 28/90 [02:35<05:35,  5.41s/it]"
     ]
    },
    {
     "name": "stdout",
     "output_type": "stream",
     "text": [
      "1/1 [==============================] - 0s 30ms/step\n",
      "111/111 - 5s - loss: 0.0965 - binary_accuracy: 0.9701 - 5s/epoch - 47ms/step\n"
     ]
    },
    {
     "name": "stderr",
     "output_type": "stream",
     "text": [
      " 32%|███▏      | 29/90 [02:40<05:30,  5.41s/it]"
     ]
    },
    {
     "name": "stdout",
     "output_type": "stream",
     "text": [
      "1/1 [==============================] - 0s 29ms/step\n",
      "111/111 - 5s - loss: 0.0935 - binary_accuracy: 0.9721 - 5s/epoch - 48ms/step\n"
     ]
    },
    {
     "name": "stderr",
     "output_type": "stream",
     "text": [
      " 33%|███▎      | 30/90 [02:46<05:25,  5.43s/it]"
     ]
    },
    {
     "name": "stdout",
     "output_type": "stream",
     "text": [
      "1/1 [==============================] - 0s 35ms/step\n",
      "111/111 - 5s - loss: 0.0951 - binary_accuracy: 0.9713 - 5s/epoch - 47ms/step\n"
     ]
    },
    {
     "name": "stderr",
     "output_type": "stream",
     "text": [
      " 34%|███▍      | 31/90 [02:51<05:21,  5.44s/it]"
     ]
    },
    {
     "name": "stdout",
     "output_type": "stream",
     "text": [
      "1/1 [==============================] - 0s 32ms/step\n",
      "111/111 - 5s - loss: 0.1077 - binary_accuracy: 0.9668 - 5s/epoch - 48ms/step\n"
     ]
    },
    {
     "name": "stderr",
     "output_type": "stream",
     "text": [
      " 36%|███▌      | 32/90 [02:56<05:16,  5.45s/it]"
     ]
    },
    {
     "name": "stdout",
     "output_type": "stream",
     "text": [
      "1/1 [==============================] - 0s 20ms/step\n",
      "112/112 - 5s - loss: 0.0925 - binary_accuracy: 0.9719 - 5s/epoch - 47ms/step\n"
     ]
    },
    {
     "name": "stderr",
     "output_type": "stream",
     "text": [
      " 37%|███▋      | 33/90 [03:02<05:10,  5.45s/it]"
     ]
    },
    {
     "name": "stdout",
     "output_type": "stream",
     "text": [
      "1/1 [==============================] - 0s 29ms/step\n",
      "112/112 - 5s - loss: 0.0906 - binary_accuracy: 0.9734 - 5s/epoch - 48ms/step\n"
     ]
    },
    {
     "name": "stderr",
     "output_type": "stream",
     "text": [
      " 38%|███▊      | 34/90 [03:08<05:07,  5.50s/it]"
     ]
    },
    {
     "name": "stdout",
     "output_type": "stream",
     "text": [
      "1/1 [==============================] - 0s 30ms/step\n",
      "112/112 - 5s - loss: 0.2821 - binary_accuracy: 0.9003 - 5s/epoch - 47ms/step\n"
     ]
    },
    {
     "name": "stderr",
     "output_type": "stream",
     "text": [
      " 39%|███▉      | 35/90 [03:13<05:00,  5.47s/it]"
     ]
    },
    {
     "name": "stdout",
     "output_type": "stream",
     "text": [
      "1/1 [==============================] - 0s 22ms/step\n",
      "112/112 - 5s - loss: 0.1456 - binary_accuracy: 0.9552 - 5s/epoch - 47ms/step\n"
     ]
    },
    {
     "name": "stderr",
     "output_type": "stream",
     "text": [
      " 40%|████      | 36/90 [03:18<04:55,  5.47s/it]"
     ]
    },
    {
     "name": "stdout",
     "output_type": "stream",
     "text": [
      "1/1 [==============================] - 0s 29ms/step\n",
      "112/112 - 5s - loss: 0.1715 - binary_accuracy: 0.9471 - 5s/epoch - 47ms/step\n"
     ]
    },
    {
     "name": "stderr",
     "output_type": "stream",
     "text": [
      " 41%|████      | 37/90 [03:24<04:48,  5.44s/it]"
     ]
    },
    {
     "name": "stdout",
     "output_type": "stream",
     "text": [
      "1/1 [==============================] - 0s 32ms/step\n",
      "112/112 - 5s - loss: 0.1174 - binary_accuracy: 0.9671 - 5s/epoch - 46ms/step\n"
     ]
    },
    {
     "name": "stderr",
     "output_type": "stream",
     "text": [
      " 42%|████▏     | 38/90 [03:29<04:41,  5.41s/it]"
     ]
    },
    {
     "name": "stdout",
     "output_type": "stream",
     "text": [
      "1/1 [==============================] - 0s 30ms/step\n",
      "112/112 - 5s - loss: 0.1046 - binary_accuracy: 0.9714 - 5s/epoch - 46ms/step\n"
     ]
    },
    {
     "name": "stderr",
     "output_type": "stream",
     "text": [
      " 43%|████▎     | 39/90 [03:34<04:33,  5.37s/it]"
     ]
    },
    {
     "name": "stdout",
     "output_type": "stream",
     "text": [
      "1/1 [==============================] - 0s 23ms/step\n",
      "112/112 - 5s - loss: 0.1017 - binary_accuracy: 0.9713 - 5s/epoch - 46ms/step\n"
     ]
    },
    {
     "name": "stderr",
     "output_type": "stream",
     "text": [
      " 44%|████▍     | 40/90 [03:40<04:26,  5.34s/it]"
     ]
    },
    {
     "name": "stdout",
     "output_type": "stream",
     "text": [
      "1/1 [==============================] - 0s 31ms/step\n",
      "112/112 - 5s - loss: 0.0948 - binary_accuracy: 0.9745 - 5s/epoch - 47ms/step\n"
     ]
    },
    {
     "name": "stderr",
     "output_type": "stream",
     "text": [
      " 46%|████▌     | 41/90 [03:45<04:22,  5.36s/it]"
     ]
    },
    {
     "name": "stdout",
     "output_type": "stream",
     "text": [
      "1/1 [==============================] - 0s 30ms/step\n",
      "112/112 - 5s - loss: 0.0912 - binary_accuracy: 0.9751 - 5s/epoch - 46ms/step\n"
     ]
    },
    {
     "name": "stderr",
     "output_type": "stream",
     "text": [
      " 47%|████▋     | 42/90 [03:50<04:16,  5.34s/it]"
     ]
    },
    {
     "name": "stdout",
     "output_type": "stream",
     "text": [
      "1/1 [==============================] - 0s 19ms/step\n",
      "112/112 - 5s - loss: 0.0903 - binary_accuracy: 0.9750 - 5s/epoch - 46ms/step\n"
     ]
    },
    {
     "name": "stderr",
     "output_type": "stream",
     "text": [
      " 48%|████▊     | 43/90 [03:56<04:10,  5.33s/it]"
     ]
    },
    {
     "name": "stdout",
     "output_type": "stream",
     "text": [
      "1/1 [==============================] - 0s 28ms/step\n",
      "112/112 - 5s - loss: 0.0902 - binary_accuracy: 0.9744 - 5s/epoch - 46ms/step\n"
     ]
    },
    {
     "name": "stderr",
     "output_type": "stream",
     "text": [
      " 49%|████▉     | 44/90 [04:01<04:04,  5.32s/it]"
     ]
    },
    {
     "name": "stdout",
     "output_type": "stream",
     "text": [
      "1/1 [==============================] - 0s 21ms/step\n",
      "112/112 - 5s - loss: 0.0856 - binary_accuracy: 0.9764 - 5s/epoch - 45ms/step\n"
     ]
    },
    {
     "name": "stderr",
     "output_type": "stream",
     "text": [
      " 50%|█████     | 45/90 [04:06<03:58,  5.29s/it]"
     ]
    },
    {
     "name": "stdout",
     "output_type": "stream",
     "text": [
      "1/1 [==============================] - 0s 28ms/step\n",
      "112/112 - 5s - loss: 0.0830 - binary_accuracy: 0.9775 - 5s/epoch - 45ms/step\n"
     ]
    },
    {
     "name": "stderr",
     "output_type": "stream",
     "text": [
      " 51%|█████     | 46/90 [04:11<03:52,  5.28s/it]"
     ]
    },
    {
     "name": "stdout",
     "output_type": "stream",
     "text": [
      "1/1 [==============================] - 0s 21ms/step\n",
      "112/112 - 5s - loss: 0.0856 - binary_accuracy: 0.9753 - 5s/epoch - 45ms/step\n"
     ]
    },
    {
     "name": "stderr",
     "output_type": "stream",
     "text": [
      " 52%|█████▏    | 47/90 [04:17<03:46,  5.26s/it]"
     ]
    },
    {
     "name": "stdout",
     "output_type": "stream",
     "text": [
      "1/1 [==============================] - 0s 30ms/step\n",
      "112/112 - 5s - loss: 0.0781 - binary_accuracy: 0.9783 - 5s/epoch - 44ms/step\n"
     ]
    },
    {
     "name": "stderr",
     "output_type": "stream",
     "text": [
      " 53%|█████▎    | 48/90 [04:22<03:39,  5.22s/it]"
     ]
    },
    {
     "name": "stdout",
     "output_type": "stream",
     "text": [
      "1/1 [==============================] - 0s 20ms/step\n",
      "112/112 - 5s - loss: 0.0749 - binary_accuracy: 0.9797 - 5s/epoch - 46ms/step\n"
     ]
    },
    {
     "name": "stderr",
     "output_type": "stream",
     "text": [
      " 54%|█████▍    | 49/90 [04:27<03:34,  5.24s/it]"
     ]
    },
    {
     "name": "stdout",
     "output_type": "stream",
     "text": [
      "1/1 [==============================] - 0s 28ms/step\n",
      "112/112 - 5s - loss: 0.0772 - binary_accuracy: 0.9789 - 5s/epoch - 45ms/step\n"
     ]
    },
    {
     "name": "stderr",
     "output_type": "stream",
     "text": [
      " 56%|█████▌    | 50/90 [04:32<03:29,  5.24s/it]"
     ]
    },
    {
     "name": "stdout",
     "output_type": "stream",
     "text": [
      "1/1 [==============================] - 0s 30ms/step\n",
      "112/112 - 5s - loss: 0.0777 - binary_accuracy: 0.9783 - 5s/epoch - 45ms/step\n"
     ]
    },
    {
     "name": "stderr",
     "output_type": "stream",
     "text": [
      " 57%|█████▋    | 51/90 [04:38<03:24,  5.23s/it]"
     ]
    },
    {
     "name": "stdout",
     "output_type": "stream",
     "text": [
      "1/1 [==============================] - 0s 20ms/step\n",
      "112/112 - 5s - loss: 0.0765 - binary_accuracy: 0.9781 - 5s/epoch - 46ms/step\n"
     ]
    },
    {
     "name": "stderr",
     "output_type": "stream",
     "text": [
      " 58%|█████▊    | 52/90 [04:43<03:20,  5.27s/it]"
     ]
    },
    {
     "name": "stdout",
     "output_type": "stream",
     "text": [
      "1/1 [==============================] - 0s 27ms/step\n",
      "112/112 - 5s - loss: 0.0758 - binary_accuracy: 0.9785 - 5s/epoch - 45ms/step\n"
     ]
    },
    {
     "name": "stderr",
     "output_type": "stream",
     "text": [
      " 59%|█████▉    | 53/90 [04:48<03:14,  5.26s/it]"
     ]
    },
    {
     "name": "stdout",
     "output_type": "stream",
     "text": [
      "1/1 [==============================] - 0s 26ms/step\n",
      "112/112 - 5s - loss: 0.0846 - binary_accuracy: 0.9757 - 5s/epoch - 46ms/step\n"
     ]
    },
    {
     "name": "stderr",
     "output_type": "stream",
     "text": [
      " 60%|██████    | 54/90 [04:53<03:10,  5.28s/it]"
     ]
    },
    {
     "name": "stdout",
     "output_type": "stream",
     "text": [
      "1/1 [==============================] - 0s 31ms/step\n",
      "112/112 - 5s - loss: 0.0752 - binary_accuracy: 0.9780 - 5s/epoch - 47ms/step\n"
     ]
    },
    {
     "name": "stderr",
     "output_type": "stream",
     "text": [
      " 61%|██████    | 55/90 [04:59<03:06,  5.31s/it]"
     ]
    },
    {
     "name": "stdout",
     "output_type": "stream",
     "text": [
      "1/1 [==============================] - 0s 28ms/step\n",
      "112/112 - 5s - loss: 0.0713 - binary_accuracy: 0.9800 - 5s/epoch - 47ms/step\n"
     ]
    },
    {
     "name": "stderr",
     "output_type": "stream",
     "text": [
      " 62%|██████▏   | 56/90 [05:04<03:01,  5.34s/it]"
     ]
    },
    {
     "name": "stdout",
     "output_type": "stream",
     "text": [
      "1/1 [==============================] - 0s 28ms/step\n",
      "112/112 - 5s - loss: 0.0736 - binary_accuracy: 0.9790 - 5s/epoch - 48ms/step\n"
     ]
    },
    {
     "name": "stderr",
     "output_type": "stream",
     "text": [
      " 63%|██████▎   | 57/90 [05:10<02:58,  5.42s/it]"
     ]
    },
    {
     "name": "stdout",
     "output_type": "stream",
     "text": [
      "1/1 [==============================] - 0s 20ms/step\n",
      "112/112 - 6s - loss: 0.0702 - binary_accuracy: 0.9799 - 6s/epoch - 52ms/step\n"
     ]
    },
    {
     "name": "stderr",
     "output_type": "stream",
     "text": [
      " 64%|██████▍   | 58/90 [05:16<02:58,  5.58s/it]"
     ]
    },
    {
     "name": "stdout",
     "output_type": "stream",
     "text": [
      "1/1 [==============================] - 0s 25ms/step\n",
      "112/112 - 5s - loss: 0.0669 - binary_accuracy: 0.9811 - 5s/epoch - 48ms/step\n"
     ]
    },
    {
     "name": "stderr",
     "output_type": "stream",
     "text": [
      " 66%|██████▌   | 59/90 [05:21<02:52,  5.58s/it]"
     ]
    },
    {
     "name": "stdout",
     "output_type": "stream",
     "text": [
      "1/1 [==============================] - 0s 29ms/step\n",
      "112/112 - 6s - loss: 0.0782 - binary_accuracy: 0.9757 - 6s/epoch - 50ms/step\n"
     ]
    },
    {
     "name": "stderr",
     "output_type": "stream",
     "text": [
      " 67%|██████▋   | 60/90 [05:27<02:48,  5.63s/it]"
     ]
    },
    {
     "name": "stdout",
     "output_type": "stream",
     "text": [
      "1/1 [==============================] - 0s 25ms/step\n",
      "112/112 - 6s - loss: 0.0761 - binary_accuracy: 0.9772 - 6s/epoch - 49ms/step\n"
     ]
    },
    {
     "name": "stderr",
     "output_type": "stream",
     "text": [
      " 68%|██████▊   | 61/90 [05:33<02:43,  5.65s/it]"
     ]
    },
    {
     "name": "stdout",
     "output_type": "stream",
     "text": [
      "1/1 [==============================] - 0s 29ms/step\n",
      "112/112 - 5s - loss: 0.0759 - binary_accuracy: 0.9774 - 5s/epoch - 48ms/step\n"
     ]
    },
    {
     "name": "stderr",
     "output_type": "stream",
     "text": [
      " 69%|██████▉   | 62/90 [05:38<02:37,  5.61s/it]"
     ]
    },
    {
     "name": "stdout",
     "output_type": "stream",
     "text": [
      "1/1 [==============================] - 0s 20ms/step\n",
      "112/112 - 5s - loss: 0.0858 - binary_accuracy: 0.9740 - 5s/epoch - 48ms/step\n"
     ]
    },
    {
     "name": "stderr",
     "output_type": "stream",
     "text": [
      " 70%|███████   | 63/90 [05:44<02:31,  5.60s/it]"
     ]
    },
    {
     "name": "stdout",
     "output_type": "stream",
     "text": [
      "1/1 [==============================] - 0s 29ms/step\n",
      "112/112 - 5s - loss: 0.0714 - binary_accuracy: 0.9793 - 5s/epoch - 49ms/step\n"
     ]
    },
    {
     "name": "stderr",
     "output_type": "stream",
     "text": [
      " 71%|███████   | 64/90 [05:50<02:25,  5.61s/it]"
     ]
    },
    {
     "name": "stdout",
     "output_type": "stream",
     "text": [
      "1/1 [==============================] - 0s 30ms/step\n",
      "113/113 - 6s - loss: 0.0650 - binary_accuracy: 0.9815 - 6s/epoch - 51ms/step\n"
     ]
    },
    {
     "name": "stderr",
     "output_type": "stream",
     "text": [
      " 72%|███████▏  | 65/90 [05:55<02:22,  5.69s/it]"
     ]
    },
    {
     "name": "stdout",
     "output_type": "stream",
     "text": [
      "1/1 [==============================] - 0s 20ms/step\n",
      "113/113 - 6s - loss: 0.0675 - binary_accuracy: 0.9808 - 6s/epoch - 49ms/step\n"
     ]
    },
    {
     "name": "stderr",
     "output_type": "stream",
     "text": [
      " 73%|███████▎  | 66/90 [06:01<02:16,  5.69s/it]"
     ]
    },
    {
     "name": "stdout",
     "output_type": "stream",
     "text": [
      "1/1 [==============================] - 0s 29ms/step\n",
      "113/113 - 5s - loss: 0.0818 - binary_accuracy: 0.9750 - 5s/epoch - 48ms/step\n"
     ]
    },
    {
     "name": "stderr",
     "output_type": "stream",
     "text": [
      " 74%|███████▍  | 67/90 [06:07<02:10,  5.67s/it]"
     ]
    },
    {
     "name": "stdout",
     "output_type": "stream",
     "text": [
      "1/1 [==============================] - 0s 27ms/step\n",
      "113/113 - 6s - loss: 0.0668 - binary_accuracy: 0.9809 - 6s/epoch - 49ms/step\n"
     ]
    },
    {
     "name": "stderr",
     "output_type": "stream",
     "text": [
      " 76%|███████▌  | 68/90 [06:13<02:05,  5.69s/it]"
     ]
    },
    {
     "name": "stdout",
     "output_type": "stream",
     "text": [
      "1/1 [==============================] - 0s 32ms/step\n",
      "113/113 - 5s - loss: 0.0635 - binary_accuracy: 0.9820 - 5s/epoch - 49ms/step\n"
     ]
    },
    {
     "name": "stderr",
     "output_type": "stream",
     "text": [
      " 77%|███████▋  | 69/90 [06:18<01:59,  5.68s/it]"
     ]
    },
    {
     "name": "stdout",
     "output_type": "stream",
     "text": [
      "1/1 [==============================] - 0s 28ms/step\n",
      "113/113 - 5s - loss: 0.0645 - binary_accuracy: 0.9808 - 5s/epoch - 47ms/step\n"
     ]
    },
    {
     "name": "stderr",
     "output_type": "stream",
     "text": [
      " 78%|███████▊  | 70/90 [06:24<01:52,  5.63s/it]"
     ]
    },
    {
     "name": "stdout",
     "output_type": "stream",
     "text": [
      "1/1 [==============================] - 0s 29ms/step\n",
      "113/113 - 5s - loss: 0.0758 - binary_accuracy: 0.9776 - 5s/epoch - 48ms/step\n"
     ]
    },
    {
     "name": "stderr",
     "output_type": "stream",
     "text": [
      " 79%|███████▉  | 71/90 [06:29<01:46,  5.61s/it]"
     ]
    },
    {
     "name": "stdout",
     "output_type": "stream",
     "text": [
      "1/1 [==============================] - 0s 26ms/step\n",
      "113/113 - 5s - loss: 0.0669 - binary_accuracy: 0.9815 - 5s/epoch - 47ms/step\n"
     ]
    },
    {
     "name": "stderr",
     "output_type": "stream",
     "text": [
      " 80%|████████  | 72/90 [06:35<01:40,  5.57s/it]"
     ]
    },
    {
     "name": "stdout",
     "output_type": "stream",
     "text": [
      "1/1 [==============================] - 0s 26ms/step\n",
      "113/113 - 5s - loss: 0.0655 - binary_accuracy: 0.9808 - 5s/epoch - 49ms/step\n"
     ]
    },
    {
     "name": "stderr",
     "output_type": "stream",
     "text": [
      " 81%|████████  | 73/90 [06:40<01:35,  5.59s/it]"
     ]
    },
    {
     "name": "stdout",
     "output_type": "stream",
     "text": [
      "1/1 [==============================] - 0s 24ms/step\n",
      "113/113 - 6s - loss: 0.0591 - binary_accuracy: 0.9836 - 6s/epoch - 52ms/step\n"
     ]
    },
    {
     "name": "stderr",
     "output_type": "stream",
     "text": [
      " 82%|████████▏ | 74/90 [06:46<01:31,  5.74s/it]"
     ]
    },
    {
     "name": "stdout",
     "output_type": "stream",
     "text": [
      "1/1 [==============================] - 0s 22ms/step\n",
      "113/113 - 5s - loss: 0.0580 - binary_accuracy: 0.9834 - 5s/epoch - 47ms/step\n"
     ]
    },
    {
     "name": "stderr",
     "output_type": "stream",
     "text": [
      " 83%|████████▎ | 75/90 [06:52<01:25,  5.67s/it]"
     ]
    },
    {
     "name": "stdout",
     "output_type": "stream",
     "text": [
      "1/1 [==============================] - 0s 20ms/step\n",
      "113/113 - 6s - loss: 0.0543 - binary_accuracy: 0.9849 - 6s/epoch - 49ms/step\n"
     ]
    },
    {
     "name": "stderr",
     "output_type": "stream",
     "text": [
      " 84%|████████▍ | 76/90 [06:58<01:19,  5.69s/it]"
     ]
    },
    {
     "name": "stdout",
     "output_type": "stream",
     "text": [
      "1/1 [==============================] - 0s 26ms/step\n",
      "113/113 - 5s - loss: 0.0617 - binary_accuracy: 0.9815 - 5s/epoch - 48ms/step\n"
     ]
    },
    {
     "name": "stderr",
     "output_type": "stream",
     "text": [
      " 86%|████████▌ | 77/90 [07:03<01:13,  5.66s/it]"
     ]
    },
    {
     "name": "stdout",
     "output_type": "stream",
     "text": [
      "1/1 [==============================] - 0s 25ms/step\n",
      "113/113 - 5s - loss: 0.0641 - binary_accuracy: 0.9805 - 5s/epoch - 48ms/step\n"
     ]
    },
    {
     "name": "stderr",
     "output_type": "stream",
     "text": [
      " 87%|████████▋ | 78/90 [07:09<01:07,  5.62s/it]"
     ]
    },
    {
     "name": "stdout",
     "output_type": "stream",
     "text": [
      "1/1 [==============================] - 0s 26ms/step\n",
      "113/113 - 5s - loss: 0.1137 - binary_accuracy: 0.9643 - 5s/epoch - 48ms/step\n"
     ]
    },
    {
     "name": "stderr",
     "output_type": "stream",
     "text": [
      " 88%|████████▊ | 79/90 [07:14<01:01,  5.60s/it]"
     ]
    },
    {
     "name": "stdout",
     "output_type": "stream",
     "text": [
      "1/1 [==============================] - 0s 30ms/step\n",
      "113/113 - 5s - loss: 0.0674 - binary_accuracy: 0.9809 - 5s/epoch - 48ms/step\n"
     ]
    },
    {
     "name": "stderr",
     "output_type": "stream",
     "text": [
      " 89%|████████▉ | 80/90 [07:20<00:56,  5.62s/it]"
     ]
    },
    {
     "name": "stdout",
     "output_type": "stream",
     "text": [
      "1/1 [==============================] - 0s 20ms/step\n",
      "113/113 - 5s - loss: 0.0796 - binary_accuracy: 0.9766 - 5s/epoch - 49ms/step\n"
     ]
    },
    {
     "name": "stderr",
     "output_type": "stream",
     "text": [
      " 90%|█████████ | 81/90 [07:26<00:50,  5.63s/it]"
     ]
    },
    {
     "name": "stdout",
     "output_type": "stream",
     "text": [
      "1/1 [==============================] - 0s 26ms/step\n",
      "113/113 - 5s - loss: 0.0683 - binary_accuracy: 0.9802 - 5s/epoch - 48ms/step\n"
     ]
    },
    {
     "name": "stderr",
     "output_type": "stream",
     "text": [
      " 91%|█████████ | 82/90 [07:31<00:45,  5.63s/it]"
     ]
    },
    {
     "name": "stdout",
     "output_type": "stream",
     "text": [
      "1/1 [==============================] - 0s 30ms/step\n",
      "113/113 - 6s - loss: 0.0582 - binary_accuracy: 0.9843 - 6s/epoch - 49ms/step\n"
     ]
    },
    {
     "name": "stderr",
     "output_type": "stream",
     "text": [
      " 92%|█████████▏| 83/90 [07:37<00:39,  5.66s/it]"
     ]
    },
    {
     "name": "stdout",
     "output_type": "stream",
     "text": [
      "1/1 [==============================] - 0s 31ms/step\n",
      "113/113 - 6s - loss: 0.0553 - binary_accuracy: 0.9851 - 6s/epoch - 50ms/step\n"
     ]
    },
    {
     "name": "stderr",
     "output_type": "stream",
     "text": [
      " 93%|█████████▎| 84/90 [07:43<00:34,  5.70s/it]"
     ]
    },
    {
     "name": "stdout",
     "output_type": "stream",
     "text": [
      "1/1 [==============================] - 0s 24ms/step\n",
      "113/113 - 6s - loss: 0.0577 - binary_accuracy: 0.9837 - 6s/epoch - 50ms/step\n"
     ]
    },
    {
     "name": "stderr",
     "output_type": "stream",
     "text": [
      " 94%|█████████▍| 85/90 [07:49<00:28,  5.75s/it]"
     ]
    },
    {
     "name": "stdout",
     "output_type": "stream",
     "text": [
      "1/1 [==============================] - 0s 30ms/step\n",
      "113/113 - 6s - loss: 0.0599 - binary_accuracy: 0.9828 - 6s/epoch - 50ms/step\n"
     ]
    },
    {
     "name": "stderr",
     "output_type": "stream",
     "text": [
      " 96%|█████████▌| 86/90 [07:55<00:23,  5.77s/it]"
     ]
    },
    {
     "name": "stdout",
     "output_type": "stream",
     "text": [
      "1/1 [==============================] - 0s 41ms/step\n",
      "113/113 - 6s - loss: 0.0544 - binary_accuracy: 0.9847 - 6s/epoch - 50ms/step\n"
     ]
    },
    {
     "name": "stderr",
     "output_type": "stream",
     "text": [
      " 97%|█████████▋| 87/90 [08:00<00:17,  5.78s/it]"
     ]
    },
    {
     "name": "stdout",
     "output_type": "stream",
     "text": [
      "1/1 [==============================] - 0s 30ms/step\n",
      "113/113 - 6s - loss: 0.0541 - binary_accuracy: 0.9844 - 6s/epoch - 50ms/step\n"
     ]
    },
    {
     "name": "stderr",
     "output_type": "stream",
     "text": [
      " 98%|█████████▊| 88/90 [08:06<00:11,  5.81s/it]"
     ]
    },
    {
     "name": "stdout",
     "output_type": "stream",
     "text": [
      "1/1 [==============================] - 0s 34ms/step\n",
      "113/113 - 6s - loss: 0.0524 - binary_accuracy: 0.9849 - 6s/epoch - 51ms/step\n"
     ]
    },
    {
     "name": "stderr",
     "output_type": "stream",
     "text": [
      " 99%|█████████▉| 89/90 [08:12<00:05,  5.84s/it]"
     ]
    },
    {
     "name": "stdout",
     "output_type": "stream",
     "text": [
      "1/1 [==============================] - 0s 24ms/step\n",
      "113/113 - 6s - loss: 0.0521 - binary_accuracy: 0.9852 - 6s/epoch - 50ms/step\n"
     ]
    },
    {
     "name": "stderr",
     "output_type": "stream",
     "text": [
      "100%|██████████| 90/90 [08:18<00:00,  5.54s/it]"
     ]
    },
    {
     "name": "stdout",
     "output_type": "stream",
     "text": [
      "Precision: 0.935348185075557\n",
      "Recall: 0.9107142857142857\n",
      "Accuracy: 0.9361111111111111\n",
      "F1 Score: 0.9218012164255223\n"
     ]
    },
    {
     "name": "stderr",
     "output_type": "stream",
     "text": [
      "\n"
     ]
    }
   ],
   "source": [
    "from tqdm import tqdm\n",
    "\n",
    "class OnlineTrainer:\n",
    "    def __init__(self, model):\n",
    "        self.model = model\n",
    "\n",
    "    def online_train(self, X_train, y_train, X_test, y_test):\n",
    "        training_losses = []\n",
    "        training_acc = []\n",
    "        val_losses = []\n",
    "        val_acc = []\n",
    "        y_preds = []\n",
    "        for i in tqdm(range(len(X_test))):\n",
    "            # Predict the next instance (optional, depending on your requirements)\n",
    "            y_pred = self.model.predict(X_test[i:i+1])\n",
    "            y_preds.append(y_pred[0])\n",
    "            # Add the instance and its actual result to the training dataset\n",
    "            X_train = np.append(X_train, X_test[i:i+1], axis=0)\n",
    "            y_train = np.append(y_train, y_test[i:i+1], axis=0)\n",
    "\n",
    "            # Retrain the model on this updated dataset\n",
    "            history = self.model.fit(\n",
    "                X_train, y_train,\n",
    "                epochs=1, verbose=2\n",
    "            )\n",
    "            # training_losses.append(history.history['loss'][0])\n",
    "            # training_acc.append(history.history['binary_accuracy'][0])\n",
    "            # val_losses.append(history.history['val_loss'][0])\n",
    "            # val_acc.append(history.history['val_binary_accuracy'][0])\n",
    "        y_preds = np.array(y_preds)\n",
    "        # Return training and validation metrics\n",
    "        return y_preds, training_losses, training_acc, val_losses, val_acc\n",
    "\n",
    "    def evaluate(self, y_preds, y_test):\n",
    "        # Flatten the 3D tensors for evaluation\n",
    "        y_test_flat = np.argmax(y_test.reshape(-1, y_test.shape[-1]), axis=1)\n",
    "        y_preds_flat = np.argmax(y_preds.reshape(-1, y_preds.shape[-1]), axis=1)\n",
    "\n",
    "        # Calculate evaluation metrics\n",
    "        precision = precision_score(y_test_flat, y_preds_flat, average='macro')\n",
    "        recall = recall_score(y_test_flat, y_preds_flat, average='macro')\n",
    "        accuracy = accuracy_score(y_test_flat, y_preds_flat)\n",
    "        f1 = f1_score(y_test_flat, y_preds_flat, average='macro')\n",
    "\n",
    "        return precision, recall, accuracy, f1\n",
    "\n",
    "# Usage example\n",
    "online_trainer = OnlineTrainer(seq2seq_model)\n",
    "y_preds, training_losses, training_acc, val_losses, val_acc = online_trainer.online_train(X_train, y_train, X_test, y_test)\n",
    "precision, recall, accuracy, f1 = online_trainer.evaluate(y_preds, y_test)\n",
    "\n",
    "# Output the evaluation metrics\n",
    "print(f'Precision: {precision}')\n",
    "print(f'Recall: {recall}')\n",
    "print(f'Accuracy: {accuracy}')\n",
    "print(f'F1 Score: {f1}')"
   ]
  },
  {
   "cell_type": "code",
   "execution_count": 50,
   "metadata": {},
   "outputs": [],
   "source": [
    "from sklearn.metrics import precision_score, recall_score, accuracy_score, f1_score\n",
    "\n",
    "class Evaluator:\n",
    "    def __init__(self, model):\n",
    "        self.model = model\n",
    "\n",
    "    def evaluate(self, X_test, y_test):\n",
    "        # Evaluate the model on the validation set\n",
    "        evaluation = self.model.evaluate(X_test, y_test, verbose=0)\n",
    "        return evaluation\n",
    "\n",
    "    def evaluate_metrics(self, y_preds, y_test):\n",
    "        # Flatten the 3D tensors for evaluation\n",
    "        y_test_flat = np.argmax(y_test.reshape(-1, y_test.shape[-1]), axis=1)\n",
    "        y_preds_flat = np.argmax(y_preds.reshape(-1, y_preds.shape[-1]), axis=1)\n",
    "\n",
    "        # Calculate evaluation metrics\n",
    "        precision = precision_score(y_test_flat, y_preds_flat, average='macro')\n",
    "        recall = recall_score(y_test_flat, y_preds_flat, average='macro')\n",
    "        accuracy = accuracy_score(y_test_flat, y_preds_flat)\n",
    "        f1 = f1_score(y_test_flat, y_preds_flat, average='macro')\n",
    "\n",
    "        return precision, recall, accuracy, f1\n"
   ]
  },
  {
   "cell_type": "code",
   "execution_count": 51,
   "metadata": {},
   "outputs": [
    {
     "name": "stdout",
     "output_type": "stream",
     "text": [
      "Validation Loss: 0.08720000833272934\n",
      "Validation Accuracy: 0.9743055701255798\n"
     ]
    }
   ],
   "source": [
    "# Usage example with Trainer\n",
    "params = {\n",
    "    'epochs': 1000,\n",
    "    'batch_size': 64,\n",
    "    'patience': 10  # You can add more parameters as needed\n",
    "}\n",
    "# trainer = Trainer(seq2seq_model, params)\n",
    "# history = trainer.train(X_train, y_train, X_test, y_test)\n",
    "\n",
    "# # After training, evaluate the model\n",
    "# evaluation = trainer.evaluate(X_test, y_test)\n",
    "\n",
    "# Create an Evaluator instance and use it to evaluate the model\n",
    "evaluator = Evaluator(seq2seq_model)\n",
    "evaluation = evaluator.evaluate(X_test, y_test)\n",
    "\n",
    "print(f\"Validation Loss: {evaluation[0]}\")\n",
    "print(f\"Validation Accuracy: {evaluation[1]}\")\n"
   ]
  },
  {
   "cell_type": "code",
   "execution_count": 52,
   "metadata": {},
   "outputs": [
    {
     "name": "stdout",
     "output_type": "stream",
     "text": [
      "Precision: 0.935348185075557\n",
      "Recall: 0.9107142857142857\n",
      "Accuracy: 0.9361111111111111\n",
      "F1 Score: 0.9218012164255223\n"
     ]
    }
   ],
   "source": [
    "# # Usage example with OnlineTrainer\n",
    "# online_trainer = OnlineTrainer(seq2seq_model)\n",
    "# y_preds, training_losses, training_acc, val_losses, val_acc = online_trainer.online_train(X_train, y_train, X_test, y_test)\n",
    "\n",
    "# Create an Evaluator instance and use it to evaluate the model\n",
    "evaluator = Evaluator(seq2seq_model)\n",
    "precision, recall, accuracy, f1 = evaluator.evaluate_metrics(y_preds, y_test)\n",
    "\n",
    "# Output the evaluation metrics\n",
    "print(f'Precision: {precision}')\n",
    "print(f'Recall: {recall}')\n",
    "print(f'Accuracy: {accuracy}')\n",
    "print(f'F1 Score: {f1}')\n"
   ]
  },
  {
   "cell_type": "code",
   "execution_count": 53,
   "metadata": {},
   "outputs": [],
   "source": [
    "y_test_flat = np.argmax(y_test.reshape(-1, y_test.shape[-1]), axis=1)\n",
    "y_preds_flat = np.argmax(y_preds.reshape(-1, y_preds.shape[-1]), axis=1)"
   ]
  },
  {
   "cell_type": "code",
   "execution_count": 54,
   "metadata": {},
   "outputs": [
    {
     "data": {
      "text/plain": [
       "[<matplotlib.lines.Line2D at 0x26a25845ea0>]"
      ]
     },
     "execution_count": 54,
     "metadata": {},
     "output_type": "execute_result"
    },
    {
     "data": {
      "image/png": "[encoded data removed]",
      "text/plain": [
       "<Figure size 2400x400 with 1 Axes>"
      ]
     },
     "metadata": {},
     "output_type": "display_data"
    }
   ],
   "source": [
    "plt.figure(figsize=(24, 4))\n",
    "plt.plot(y_preds_flat)\n",
    "plt.plot(y_test_flat)"
   ]
  }
 ],
 "metadata": {
  "kernelspec": {
   "display_name": "myenv",
   "language": "python",
   "name": "python3"
  },
  "language_info": {
   "codemirror_mode": {
    "name": "ipython",
    "version": 3
   },
   "file_extension": ".py",
   "mimetype": "text/x-python",
   "name": "python",
   "nbconvert_exporter": "python",
   "pygments_lexer": "ipython3",
   "version": "3.10.7"
  }
 },
 "nbformat": 4,
 "nbformat_minor": 2
}
