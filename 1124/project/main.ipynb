{
 "cells": [
  {
   "cell_type": "code",
   "execution_count": 1,
   "metadata": {},
   "outputs": [],
   "source": [
    "import json\n",
    "from preprocessor.preprocessor import Preprocessor\n",
    "from model.model_keras import Model\n",
    "from postprocessor.postprocessor import Postprocesser\n",
    "from evaluator.evaluator import Evaluator\n",
    "import numpy as np\n",
    "import pandas as pd\n",
    "import tensorflow as tf\n",
    "import random\n",
    "\n",
    "def set_seed(seed_value):\n",
    "    np.random.seed(seed_value)\n",
    "    tf.random.set_seed(seed_value)\n",
    "    random.seed(seed_value)\n",
    "set_seed(42)\n",
    "\n",
    "with open('parameters.json', 'r') as file:\n",
    "    params = json.load(file)"
   ]
  },
  {
   "cell_type": "code",
   "execution_count": 2,
   "metadata": {},
   "outputs": [
    {
     "name": "stdout",
     "output_type": "stream",
     "text": [
      "[*********************100%***********************]  1 of 1 completed\n"
     ]
    },
    {
     "name": "stderr",
     "output_type": "stream",
     "text": [
      "c:\\Users\\e4903\\Desktop\\code\\2023_hw\\reverse_prediction\\1124\\project\\preprocessor\\preprocessor.py:53: SettingWithCopyWarning: \n",
      "A value is trying to be set on a copy of a slice from a DataFrame\n",
      "\n",
      "See the caveats in the documentation: https://pandas.pydata.org/pandas-docs/stable/user_guide/indexing.html#returning-a-view-versus-a-copy\n",
      "  data['Trend'].iloc[i:i + trend_days] = 0\n",
      "c:\\Users\\e4903\\Desktop\\code\\2023_hw\\reverse_prediction\\1124\\project\\preprocessor\\preprocessor.py:55: SettingWithCopyWarning: \n",
      "A value is trying to be set on a copy of a slice from a DataFrame\n",
      "\n",
      "See the caveats in the documentation: https://pandas.pydata.org/pandas-docs/stable/user_guide/indexing.html#returning-a-view-versus-a-copy\n",
      "  data['Trend'].iloc[i:i + trend_days] = 1\n"
     ]
    },
    {
     "name": "stdout",
     "output_type": "stream",
     "text": [
      "[*********************100%***********************]  1 of 1 completed\n",
      "[*********************100%***********************]  1 of 1 completed\n",
      "[*********************100%***********************]  1 of 1 completed\n",
      "[*********************100%***********************]  1 of 1 completed\n"
     ]
    }
   ],
   "source": [
    "preprocessor = Preprocessor()\n",
    "data = preprocessor.fetch_stock_data(params['stock_symbol'], params['start_date'], params['stop_date'])\n",
    "for single_feature_params in params['features_params']:\n",
    "    feature_type = single_feature_params[\"type\"]\n",
    "    data = preprocessor.add_feature(data, feature_type, **single_feature_params)\n",
    "data, issues_detected = preprocessor.add_data_cleaner(data, \n",
    "    clean_type=params['data_cleaning']['clean_type'], strategy=params['data_cleaning']['strategy'])\n",
    "X_train, y_train, X_test, y_test, train_dates, test_dates = \\\n",
    "    preprocessor.process_data(data, split_ratio=params['split_ratio'], target_col=params['target_col'], \n",
    "                            feature_cols=None, look_back=params['look_back'],\n",
    "                            predict_steps=params['predict_steps'], \n",
    "                            train_slide_steps=params['train_slide_steps'], \n",
    "                            test_slide_steps=params['train_slide_steps'])\n",
    "X_newest, x_newest_date = preprocessor.create_x_newest_data(data, params['look_back'])\n"
   ]
  },
  {
   "cell_type": "code",
   "execution_count": 3,
   "metadata": {},
   "outputs": [
    {
     "name": "stdout",
     "output_type": "stream",
     "text": [
      "{'conv_1_filter': 32, 'conv_1_kernel': 4, 'conv_1_l2': 0.00016475815766673417, 'dropout_1': 0.2, 'conv_2_filter': 96, 'conv_2_kernel': 2, 'dropout_2': 0.2, 'lstm_1_units': 128, 'lstm_1_l2': 0.0002788818914602332, 'dropout_3': 0.2, 'lstm_2_units': 64, 'dropout_4': 0.1, 'learning_rate': 0.001, 'look_back': 64, 'predict_steps': 16}\n",
      "Model: \"sequential\"\n",
      "_________________________________________________________________\n",
      " Layer (type)                Output Shape              Param #   \n",
      "=================================================================\n",
      " conv1d (Conv1D)             (None, 64, 32)            2464      \n",
      "                                                                 \n",
      " batch_normalization (BatchN  (None, 64, 32)           128       \n",
      " ormalization)                                                   \n",
      "                                                                 \n",
      " activation (Activation)     (None, 64, 32)            0         \n",
      "                                                                 \n",
      " dropout (Dropout)           (None, 64, 32)            0         \n",
      "                                                                 \n",
      " max_pooling1d (MaxPooling1D  (None, 32, 32)           0         \n",
      " )                                                               \n",
      "                                                                 \n",
      " conv1d_1 (Conv1D)           (None, 31, 96)            6240      \n",
      "                                                                 \n",
      " batch_normalization_1 (Batc  (None, 31, 96)           384       \n",
      " hNormalization)                                                 \n",
      "                                                                 \n",
      " activation_1 (Activation)   (None, 31, 96)            0         \n",
      "                                                                 \n",
      " dropout_1 (Dropout)         (None, 31, 96)            0         \n",
      "                                                                 \n",
      " max_pooling1d_1 (MaxPooling  (None, 15, 96)           0         \n",
      " 1D)                                                             \n",
      "                                                                 \n",
      " lstm (LSTM)                 (None, 128)               115200    \n",
      "                                                                 \n",
      " batch_normalization_2 (Batc  (None, 128)              512       \n",
      " hNormalization)                                                 \n",
      "                                                                 \n",
      " activation_2 (Activation)   (None, 128)               0         \n",
      "                                                                 \n",
      " dropout_2 (Dropout)         (None, 128)               0         \n",
      "                                                                 \n",
      " repeat_vector (RepeatVector  (None, 16, 128)          0         \n",
      " )                                                               \n",
      "                                                                 \n",
      " lstm_1 (LSTM)               (None, 16, 64)            49408     \n",
      "                                                                 \n",
      " batch_normalization_3 (Batc  (None, 16, 64)           256       \n",
      " hNormalization)                                                 \n",
      "                                                                 \n",
      " activation_3 (Activation)   (None, 16, 64)            0         \n",
      "                                                                 \n",
      " dropout_3 (Dropout)         (None, 16, 64)            0         \n",
      "                                                                 \n",
      " time_distributed (TimeDistr  (None, 16, 2)            130       \n",
      " ibuted)                                                         \n",
      "                                                                 \n",
      "=================================================================\n",
      "Total params: 174,722\n",
      "Trainable params: 174,082\n",
      "Non-trainable params: 640\n",
      "_________________________________________________________________\n",
      "Epoch 1/10\n",
      "108/108 - 8s - loss: 0.5531 - binary_accuracy: 0.7583 - 8s/epoch - 71ms/step\n",
      "Epoch 2/10\n",
      "108/108 - 4s - loss: 0.4122 - binary_accuracy: 0.8388 - 4s/epoch - 38ms/step\n",
      "Epoch 3/10\n",
      "108/108 - 4s - loss: 0.3443 - binary_accuracy: 0.8734 - 4s/epoch - 36ms/step\n",
      "Epoch 4/10\n",
      "108/108 - 4s - loss: 0.3149 - binary_accuracy: 0.8868 - 4s/epoch - 37ms/step\n",
      "Epoch 5/10\n",
      "108/108 - 4s - loss: 0.2806 - binary_accuracy: 0.9005 - 4s/epoch - 36ms/step\n",
      "Epoch 6/10\n",
      "108/108 - 4s - loss: 0.2534 - binary_accuracy: 0.9128 - 4s/epoch - 36ms/step\n",
      "Epoch 7/10\n",
      "108/108 - 4s - loss: 0.2321 - binary_accuracy: 0.9209 - 4s/epoch - 37ms/step\n",
      "Epoch 8/10\n",
      "108/108 - 4s - loss: 0.2118 - binary_accuracy: 0.9299 - 4s/epoch - 37ms/step\n",
      "Epoch 9/10\n",
      "108/108 - 4s - loss: 0.2134 - binary_accuracy: 0.9294 - 4s/epoch - 40ms/step\n",
      "Epoch 10/10\n",
      "108/108 - 4s - loss: 0.1913 - binary_accuracy: 0.9364 - 4s/epoch - 37ms/step\n",
      "Model saved as model_20231125_015048.h5\n"
     ]
    },
    {
     "name": "stderr",
     "output_type": "stream",
     "text": [
      "  0%|          | 0/1425 [00:00<?, ?it/s]"
     ]
    },
    {
     "name": "stdout",
     "output_type": "stream",
     "text": [
      "Inferencing on instance 0\n",
      "1/1 [==============================] - 0s 446ms/step\n",
      "Online training on instance 0\n",
      "1/1 - 0s - loss: 0.5187 - binary_accuracy: 0.7500 - 21ms/epoch - 21ms/step\n"
     ]
    },
    {
     "name": "stderr",
     "output_type": "stream",
     "text": [
      "  0%|          | 1/1425 [00:00<15:41,  1.51it/s]"
     ]
    },
    {
     "name": "stdout",
     "output_type": "stream",
     "text": [
      "Inferencing on instance 1\n",
      "1/1 [==============================] - 0s 43ms/step\n",
      "Online training on instance 1\n",
      "1/1 - 0s - loss: 0.3577 - binary_accuracy: 0.8750 - 19ms/epoch - 19ms/step\n"
     ]
    },
    {
     "name": "stderr",
     "output_type": "stream",
     "text": [
      "  0%|          | 2/1425 [00:00<09:38,  2.46it/s]"
     ]
    },
    {
     "name": "stdout",
     "output_type": "stream",
     "text": [
      "Inferencing on instance 2\n",
      "1/1 [==============================] - 0s 29ms/step\n",
      "Online training on instance 2\n",
      "1/1 - 0s - loss: 0.3100 - binary_accuracy: 1.0000 - 17ms/epoch - 17ms/step\n"
     ]
    },
    {
     "name": "stderr",
     "output_type": "stream",
     "text": [
      "  0%|          | 3/1425 [00:01<07:13,  3.28it/s]"
     ]
    },
    {
     "name": "stdout",
     "output_type": "stream",
     "text": [
      "Inferencing on instance 3\n",
      "1/1 [==============================] - 0s 30ms/step\n",
      "Online training on instance 3\n",
      "1/1 - 0s - loss: 0.3823 - binary_accuracy: 0.8125 - 17ms/epoch - 17ms/step\n"
     ]
    },
    {
     "name": "stderr",
     "output_type": "stream",
     "text": [
      "  0%|          | 4/1425 [00:01<06:02,  3.92it/s]"
     ]
    },
    {
     "name": "stdout",
     "output_type": "stream",
     "text": [
      "Inferencing on instance 4\n",
      "1/1 [==============================] - 0s 49ms/step\n",
      "Online training on instance 4\n",
      "1/1 - 0s - loss: 0.4257 - binary_accuracy: 0.8750 - 18ms/epoch - 18ms/step\n"
     ]
    },
    {
     "name": "stderr",
     "output_type": "stream",
     "text": [
      "  0%|          | 5/1425 [00:01<05:53,  4.02it/s]"
     ]
    },
    {
     "name": "stdout",
     "output_type": "stream",
     "text": [
      "Inferencing on instance 5\n",
      "1/1 [==============================] - 0s 31ms/step\n",
      "Online training on instance 5\n",
      "1/1 - 0s - loss: 0.3669 - binary_accuracy: 1.0000 - 17ms/epoch - 17ms/step\n"
     ]
    },
    {
     "name": "stderr",
     "output_type": "stream",
     "text": [
      "  0%|          | 6/1425 [00:01<05:19,  4.44it/s]"
     ]
    },
    {
     "name": "stdout",
     "output_type": "stream",
     "text": [
      "Inferencing on instance 6\n",
      "1/1 [==============================] - 0s 36ms/step\n",
      "Online training on instance 6\n",
      "1/1 - 0s - loss: 0.3327 - binary_accuracy: 1.0000 - 17ms/epoch - 17ms/step\n"
     ]
    },
    {
     "name": "stderr",
     "output_type": "stream",
     "text": [
      "  0%|          | 7/1425 [00:01<04:59,  4.74it/s]"
     ]
    },
    {
     "name": "stdout",
     "output_type": "stream",
     "text": [
      "Inferencing on instance 7\n",
      "1/1 [==============================] - 0s 29ms/step\n",
      "Online training on instance 7\n",
      "1/1 - 0s - loss: 0.2801 - binary_accuracy: 1.0000 - 16ms/epoch - 16ms/step\n"
     ]
    },
    {
     "name": "stderr",
     "output_type": "stream",
     "text": [
      "  1%|          | 8/1425 [00:02<04:43,  5.00it/s]"
     ]
    },
    {
     "name": "stdout",
     "output_type": "stream",
     "text": [
      "Inferencing on instance 8\n",
      "1/1 [==============================] - 0s 32ms/step\n",
      "Online training on instance 8\n",
      "1/1 - 0s - loss: 0.2876 - binary_accuracy: 1.0000 - 15ms/epoch - 15ms/step\n"
     ]
    },
    {
     "name": "stderr",
     "output_type": "stream",
     "text": [
      "  1%|          | 9/1425 [00:02<04:31,  5.22it/s]"
     ]
    },
    {
     "name": "stdout",
     "output_type": "stream",
     "text": [
      "Inferencing on instance 9\n",
      "1/1 [==============================] - 0s 32ms/step\n",
      "Online training on instance 9\n",
      "1/1 - 0s - loss: 0.2955 - binary_accuracy: 1.0000 - 17ms/epoch - 17ms/step\n"
     ]
    },
    {
     "name": "stderr",
     "output_type": "stream",
     "text": [
      "  1%|          | 10/1425 [00:02<04:28,  5.27it/s]"
     ]
    },
    {
     "name": "stdout",
     "output_type": "stream",
     "text": [
      "Inferencing on instance 10\n",
      "1/1 [==============================] - 0s 28ms/step\n",
      "Online training on instance 10\n",
      "1/1 - 0s - loss: 0.3490 - binary_accuracy: 0.8125 - 18ms/epoch - 18ms/step\n"
     ]
    },
    {
     "name": "stderr",
     "output_type": "stream",
     "text": [
      "  1%|          | 11/1425 [00:02<04:19,  5.45it/s]"
     ]
    },
    {
     "name": "stdout",
     "output_type": "stream",
     "text": [
      "Inferencing on instance 11\n",
      "1/1 [==============================] - 0s 51ms/step\n",
      "Online training on instance 11\n",
      "1/1 - 0s - loss: 0.2778 - binary_accuracy: 0.9375 - 16ms/epoch - 16ms/step\n"
     ]
    },
    {
     "name": "stderr",
     "output_type": "stream",
     "text": [
      "  1%|          | 12/1425 [00:02<04:31,  5.20it/s]"
     ]
    },
    {
     "name": "stdout",
     "output_type": "stream",
     "text": [
      "Inferencing on instance 12\n",
      "1/1 [==============================] - 0s 28ms/step\n",
      "Online training on instance 12\n",
      "1/1 - 0s - loss: 0.2299 - binary_accuracy: 1.0000 - 15ms/epoch - 15ms/step\n"
     ]
    },
    {
     "name": "stderr",
     "output_type": "stream",
     "text": [
      "  1%|          | 13/1425 [00:02<04:24,  5.34it/s]"
     ]
    },
    {
     "name": "stdout",
     "output_type": "stream",
     "text": [
      "Inferencing on instance 13\n",
      "1/1 [==============================] - 0s 31ms/step\n",
      "Online training on instance 13\n",
      "1/1 - 0s - loss: 0.2112 - binary_accuracy: 1.0000 - 15ms/epoch - 15ms/step\n"
     ]
    },
    {
     "name": "stderr",
     "output_type": "stream",
     "text": [
      "  1%|          | 14/1425 [00:03<04:18,  5.47it/s]"
     ]
    },
    {
     "name": "stdout",
     "output_type": "stream",
     "text": [
      "Inferencing on instance 14\n",
      "1/1 [==============================] - 0s 34ms/step\n",
      "Online training on instance 14\n",
      "1/1 - 0s - loss: 0.1901 - binary_accuracy: 1.0000 - 16ms/epoch - 16ms/step\n"
     ]
    },
    {
     "name": "stderr",
     "output_type": "stream",
     "text": [
      "  1%|          | 15/1425 [00:03<04:15,  5.52it/s]"
     ]
    },
    {
     "name": "stdout",
     "output_type": "stream",
     "text": [
      "Inferencing on instance 15\n",
      "1/1 [==============================] - 0s 31ms/step\n",
      "Online training on instance 15\n",
      "1/1 - 0s - loss: 0.1784 - binary_accuracy: 1.0000 - 19ms/epoch - 19ms/step\n"
     ]
    },
    {
     "name": "stderr",
     "output_type": "stream",
     "text": [
      "  1%|          | 16/1425 [00:03<04:14,  5.54it/s]"
     ]
    },
    {
     "name": "stdout",
     "output_type": "stream",
     "text": [
      "Inferencing on instance 16\n",
      "1/1 [==============================] - 0s 26ms/step\n",
      "Online training on instance 16\n",
      "1/1 - 0s - loss: 0.2227 - binary_accuracy: 1.0000 - 17ms/epoch - 17ms/step\n"
     ]
    },
    {
     "name": "stderr",
     "output_type": "stream",
     "text": [
      "  1%|          | 17/1425 [00:03<04:13,  5.55it/s]"
     ]
    },
    {
     "name": "stdout",
     "output_type": "stream",
     "text": [
      "Inferencing on instance 17\n",
      "1/1 [==============================] - 0s 40ms/step\n",
      "Online training on instance 17\n",
      "1/1 - 0s - loss: 0.1946 - binary_accuracy: 1.0000 - 17ms/epoch - 17ms/step\n"
     ]
    },
    {
     "name": "stderr",
     "output_type": "stream",
     "text": [
      "  1%|▏         | 18/1425 [00:03<04:27,  5.26it/s]"
     ]
    },
    {
     "name": "stdout",
     "output_type": "stream",
     "text": [
      "Inferencing on instance 18\n",
      "1/1 [==============================] - 0s 28ms/step\n",
      "Online training on instance 18\n",
      "1/1 - 0s - loss: 0.1599 - binary_accuracy: 1.0000 - 12ms/epoch - 12ms/step\n"
     ]
    },
    {
     "name": "stderr",
     "output_type": "stream",
     "text": [
      "  1%|▏         | 19/1425 [00:04<04:19,  5.41it/s]"
     ]
    },
    {
     "name": "stdout",
     "output_type": "stream",
     "text": [
      "Inferencing on instance 19\n",
      "1/1 [==============================] - 0s 31ms/step\n",
      "Online training on instance 19\n",
      "1/1 - 0s - loss: 0.1711 - binary_accuracy: 1.0000 - 16ms/epoch - 16ms/step\n"
     ]
    },
    {
     "name": "stderr",
     "output_type": "stream",
     "text": [
      "  1%|▏         | 20/1425 [00:04<04:15,  5.50it/s]"
     ]
    },
    {
     "name": "stdout",
     "output_type": "stream",
     "text": [
      "Inferencing on instance 20\n",
      "1/1 [==============================] - 0s 30ms/step\n",
      "Online training on instance 20\n",
      "1/1 - 0s - loss: 0.1768 - binary_accuracy: 1.0000 - 17ms/epoch - 17ms/step\n"
     ]
    },
    {
     "name": "stderr",
     "output_type": "stream",
     "text": [
      "  1%|▏         | 21/1425 [00:04<04:12,  5.55it/s]"
     ]
    },
    {
     "name": "stdout",
     "output_type": "stream",
     "text": [
      "Inferencing on instance 21\n",
      "1/1 [==============================] - 0s 35ms/step\n",
      "Online training on instance 21\n",
      "1/1 - 0s - loss: 0.1323 - binary_accuracy: 1.0000 - 17ms/epoch - 17ms/step\n"
     ]
    },
    {
     "name": "stderr",
     "output_type": "stream",
     "text": [
      "  2%|▏         | 22/1425 [00:04<04:12,  5.55it/s]"
     ]
    },
    {
     "name": "stdout",
     "output_type": "stream",
     "text": [
      "Inferencing on instance 22\n",
      "1/1 [==============================] - 0s 29ms/step\n",
      "Online training on instance 22\n",
      "1/1 - 0s - loss: 0.1454 - binary_accuracy: 1.0000 - 17ms/epoch - 17ms/step\n"
     ]
    },
    {
     "name": "stderr",
     "output_type": "stream",
     "text": [
      "  2%|▏         | 23/1425 [00:04<04:09,  5.62it/s]"
     ]
    },
    {
     "name": "stdout",
     "output_type": "stream",
     "text": [
      "Inferencing on instance 23\n",
      "1/1 [==============================] - 0s 52ms/step\n",
      "Online training on instance 23\n",
      "1/1 - 0s - loss: 0.1395 - binary_accuracy: 1.0000 - 18ms/epoch - 18ms/step\n"
     ]
    },
    {
     "name": "stderr",
     "output_type": "stream",
     "text": [
      "  2%|▏         | 24/1425 [00:04<04:24,  5.31it/s]"
     ]
    },
    {
     "name": "stdout",
     "output_type": "stream",
     "text": [
      "Inferencing on instance 24\n",
      "1/1 [==============================] - 0s 26ms/step\n",
      "Online training on instance 24\n",
      "1/1 - 0s - loss: 0.2532 - binary_accuracy: 0.9375 - 17ms/epoch - 17ms/step\n"
     ]
    },
    {
     "name": "stderr",
     "output_type": "stream",
     "text": [
      "  2%|▏         | 25/1425 [00:05<04:20,  5.37it/s]"
     ]
    },
    {
     "name": "stdout",
     "output_type": "stream",
     "text": [
      "Inferencing on instance 25\n",
      "1/1 [==============================] - 0s 30ms/step\n",
      "Online training on instance 25\n",
      "1/1 - 0s - loss: 0.4091 - binary_accuracy: 0.8750 - 16ms/epoch - 16ms/step\n"
     ]
    },
    {
     "name": "stderr",
     "output_type": "stream",
     "text": [
      "  2%|▏         | 26/1425 [00:05<04:14,  5.50it/s]"
     ]
    },
    {
     "name": "stdout",
     "output_type": "stream",
     "text": [
      "Inferencing on instance 26\n",
      "1/1 [==============================] - 0s 29ms/step\n",
      "Online training on instance 26\n",
      "1/1 - 0s - loss: 0.5147 - binary_accuracy: 0.8125 - 17ms/epoch - 17ms/step\n"
     ]
    },
    {
     "name": "stderr",
     "output_type": "stream",
     "text": [
      "  2%|▏         | 27/1425 [00:05<04:10,  5.57it/s]"
     ]
    },
    {
     "name": "stdout",
     "output_type": "stream",
     "text": [
      "Inferencing on instance 27\n",
      "1/1 [==============================] - 0s 32ms/step\n",
      "Online training on instance 27\n",
      "1/1 - 0s - loss: 0.6613 - binary_accuracy: 0.7500 - 19ms/epoch - 19ms/step\n"
     ]
    },
    {
     "name": "stderr",
     "output_type": "stream",
     "text": [
      "  2%|▏         | 28/1425 [00:05<04:15,  5.46it/s]"
     ]
    },
    {
     "name": "stdout",
     "output_type": "stream",
     "text": [
      "Inferencing on instance 28\n",
      "1/1 [==============================] - 0s 28ms/step\n",
      "Online training on instance 28\n",
      "1/1 - 0s - loss: 0.8148 - binary_accuracy: 0.6875 - 15ms/epoch - 15ms/step\n"
     ]
    },
    {
     "name": "stderr",
     "output_type": "stream",
     "text": [
      "  2%|▏         | 29/1425 [00:05<04:13,  5.51it/s]"
     ]
    },
    {
     "name": "stdout",
     "output_type": "stream",
     "text": [
      "Inferencing on instance 29\n",
      "1/1 [==============================] - 0s 46ms/step\n",
      "Online training on instance 29\n",
      "1/1 - 0s - loss: 0.7448 - binary_accuracy: 0.6250 - 15ms/epoch - 15ms/step\n"
     ]
    },
    {
     "name": "stderr",
     "output_type": "stream",
     "text": [
      "  2%|▏         | 30/1425 [00:06<04:22,  5.31it/s]"
     ]
    },
    {
     "name": "stdout",
     "output_type": "stream",
     "text": [
      "Inferencing on instance 30\n",
      "1/1 [==============================] - 0s 26ms/step\n",
      "Online training on instance 30\n",
      "1/1 - 0s - loss: 0.6995 - binary_accuracy: 0.5625 - 16ms/epoch - 16ms/step\n"
     ]
    },
    {
     "name": "stderr",
     "output_type": "stream",
     "text": [
      "  2%|▏         | 31/1425 [00:06<04:18,  5.38it/s]"
     ]
    },
    {
     "name": "stdout",
     "output_type": "stream",
     "text": [
      "Inferencing on instance 31\n",
      "1/1 [==============================] - 0s 32ms/step\n",
      "Online training on instance 31\n",
      "1/1 - 0s - loss: 0.5497 - binary_accuracy: 0.6250 - 15ms/epoch - 15ms/step\n"
     ]
    },
    {
     "name": "stderr",
     "output_type": "stream",
     "text": [
      "  2%|▏         | 32/1425 [00:06<04:14,  5.47it/s]"
     ]
    },
    {
     "name": "stdout",
     "output_type": "stream",
     "text": [
      "Inferencing on instance 32\n",
      "1/1 [==============================] - 0s 30ms/step\n",
      "Online training on instance 32\n",
      "1/1 - 0s - loss: 0.4984 - binary_accuracy: 0.7500 - 17ms/epoch - 17ms/step\n"
     ]
    },
    {
     "name": "stderr",
     "output_type": "stream",
     "text": [
      "  2%|▏         | 33/1425 [00:06<04:17,  5.41it/s]"
     ]
    },
    {
     "name": "stdout",
     "output_type": "stream",
     "text": [
      "Inferencing on instance 33\n",
      "1/1 [==============================] - 0s 28ms/step\n",
      "Online training on instance 33\n",
      "1/1 - 0s - loss: 0.4619 - binary_accuracy: 0.8125 - 16ms/epoch - 16ms/step\n"
     ]
    },
    {
     "name": "stderr",
     "output_type": "stream",
     "text": [
      "  2%|▏         | 34/1425 [00:06<04:16,  5.43it/s]"
     ]
    },
    {
     "name": "stdout",
     "output_type": "stream",
     "text": [
      "Inferencing on instance 34\n",
      "1/1 [==============================] - 0s 35ms/step\n",
      "Online training on instance 34\n",
      "1/1 - 0s - loss: 0.6113 - binary_accuracy: 0.8125 - 16ms/epoch - 16ms/step\n"
     ]
    },
    {
     "name": "stderr",
     "output_type": "stream",
     "text": [
      "  2%|▏         | 35/1425 [00:06<04:13,  5.49it/s]"
     ]
    },
    {
     "name": "stdout",
     "output_type": "stream",
     "text": [
      "Inferencing on instance 35\n",
      "1/1 [==============================] - 0s 39ms/step\n",
      "Online training on instance 35\n",
      "1/1 - 0s - loss: 0.9779 - binary_accuracy: 0.7500 - 14ms/epoch - 14ms/step\n"
     ]
    },
    {
     "name": "stderr",
     "output_type": "stream",
     "text": [
      "  3%|▎         | 36/1425 [00:07<04:25,  5.23it/s]"
     ]
    },
    {
     "name": "stdout",
     "output_type": "stream",
     "text": [
      "Inferencing on instance 36\n",
      "1/1 [==============================] - 0s 27ms/step\n",
      "Online training on instance 36\n",
      "1/1 - 0s - loss: 1.4097 - binary_accuracy: 0.7500 - 16ms/epoch - 16ms/step\n"
     ]
    },
    {
     "name": "stderr",
     "output_type": "stream",
     "text": [
      "  3%|▎         | 37/1425 [00:07<04:17,  5.40it/s]"
     ]
    },
    {
     "name": "stdout",
     "output_type": "stream",
     "text": [
      "Inferencing on instance 37\n",
      "1/1 [==============================] - 0s 29ms/step\n",
      "Online training on instance 37\n",
      "1/1 - 0s - loss: 2.0968 - binary_accuracy: 0.6875 - 16ms/epoch - 16ms/step\n"
     ]
    },
    {
     "name": "stderr",
     "output_type": "stream",
     "text": [
      "  3%|▎         | 38/1425 [00:07<04:12,  5.50it/s]"
     ]
    },
    {
     "name": "stdout",
     "output_type": "stream",
     "text": [
      "Inferencing on instance 38\n",
      "1/1 [==============================] - 0s 27ms/step\n",
      "Online training on instance 38\n",
      "1/1 - 0s - loss: 2.2713 - binary_accuracy: 0.6875 - 16ms/epoch - 16ms/step\n"
     ]
    },
    {
     "name": "stderr",
     "output_type": "stream",
     "text": [
      "  3%|▎         | 39/1425 [00:07<04:11,  5.51it/s]"
     ]
    },
    {
     "name": "stdout",
     "output_type": "stream",
     "text": [
      "Inferencing on instance 39\n",
      "1/1 [==============================] - 0s 30ms/step\n",
      "Online training on instance 39\n",
      "1/1 - 0s - loss: 2.6723 - binary_accuracy: 0.6250 - 17ms/epoch - 17ms/step\n"
     ]
    },
    {
     "name": "stderr",
     "output_type": "stream",
     "text": [
      "  3%|▎         | 40/1425 [00:07<04:12,  5.48it/s]"
     ]
    },
    {
     "name": "stdout",
     "output_type": "stream",
     "text": [
      "Inferencing on instance 40\n",
      "1/1 [==============================] - 0s 27ms/step\n",
      "Online training on instance 40\n",
      "1/1 - 0s - loss: 2.2733 - binary_accuracy: 0.6875 - 17ms/epoch - 17ms/step\n"
     ]
    },
    {
     "name": "stderr",
     "output_type": "stream",
     "text": [
      "  3%|▎         | 41/1425 [00:08<04:07,  5.59it/s]"
     ]
    },
    {
     "name": "stdout",
     "output_type": "stream",
     "text": [
      "Inferencing on instance 41\n",
      "1/1 [==============================] - 0s 45ms/step\n",
      "Online training on instance 41\n",
      "1/1 - 0s - loss: 1.9706 - binary_accuracy: 0.4375 - 17ms/epoch - 17ms/step\n"
     ]
    },
    {
     "name": "stderr",
     "output_type": "stream",
     "text": [
      "  3%|▎         | 42/1425 [00:08<04:21,  5.29it/s]"
     ]
    },
    {
     "name": "stdout",
     "output_type": "stream",
     "text": [
      "Inferencing on instance 42\n",
      "1/1 [==============================] - 0s 30ms/step\n",
      "Online training on instance 42\n",
      "1/1 - 0s - loss: 1.5856 - binary_accuracy: 0.3750 - 15ms/epoch - 15ms/step\n"
     ]
    },
    {
     "name": "stderr",
     "output_type": "stream",
     "text": [
      "  3%|▎         | 43/1425 [00:08<04:16,  5.38it/s]"
     ]
    },
    {
     "name": "stdout",
     "output_type": "stream",
     "text": [
      "Inferencing on instance 43\n",
      "1/1 [==============================] - 0s 25ms/step\n",
      "Online training on instance 43\n",
      "1/1 - 0s - loss: 1.5492 - binary_accuracy: 0.3125 - 16ms/epoch - 16ms/step\n"
     ]
    },
    {
     "name": "stderr",
     "output_type": "stream",
     "text": [
      "  3%|▎         | 44/1425 [00:08<04:22,  5.26it/s]"
     ]
    },
    {
     "name": "stdout",
     "output_type": "stream",
     "text": [
      "Inferencing on instance 44\n",
      "1/1 [==============================] - 0s 26ms/step\n",
      "Online training on instance 44\n",
      "1/1 - 0s - loss: 1.2555 - binary_accuracy: 0.4375 - 16ms/epoch - 16ms/step\n"
     ]
    },
    {
     "name": "stderr",
     "output_type": "stream",
     "text": [
      "  3%|▎         | 45/1425 [00:08<04:14,  5.43it/s]"
     ]
    },
    {
     "name": "stdout",
     "output_type": "stream",
     "text": [
      "Inferencing on instance 45\n",
      "1/1 [==============================] - 0s 31ms/step\n",
      "Online training on instance 45\n",
      "1/1 - 0s - loss: 1.1004 - binary_accuracy: 0.4375 - 16ms/epoch - 16ms/step\n"
     ]
    },
    {
     "name": "stderr",
     "output_type": "stream",
     "text": [
      "  3%|▎         | 46/1425 [00:08<04:09,  5.53it/s]"
     ]
    },
    {
     "name": "stdout",
     "output_type": "stream",
     "text": [
      "Inferencing on instance 46\n",
      "1/1 [==============================] - 0s 37ms/step\n",
      "Online training on instance 46\n",
      "1/1 - 0s - loss: 1.3042 - binary_accuracy: 0.2500 - 16ms/epoch - 16ms/step\n"
     ]
    },
    {
     "name": "stderr",
     "output_type": "stream",
     "text": [
      "  3%|▎         | 47/1425 [00:09<04:10,  5.51it/s]"
     ]
    },
    {
     "name": "stdout",
     "output_type": "stream",
     "text": [
      "Inferencing on instance 47\n",
      "1/1 [==============================] - 0s 43ms/step\n",
      "Online training on instance 47\n",
      "1/1 - 0s - loss: 1.0730 - binary_accuracy: 0.4375 - 15ms/epoch - 15ms/step\n"
     ]
    },
    {
     "name": "stderr",
     "output_type": "stream",
     "text": [
      "  3%|▎         | 48/1425 [00:09<04:21,  5.27it/s]"
     ]
    },
    {
     "name": "stdout",
     "output_type": "stream",
     "text": [
      "Inferencing on instance 48\n",
      "1/1 [==============================] - 0s 29ms/step\n",
      "Online training on instance 48\n",
      "1/1 - 0s - loss: 0.9822 - binary_accuracy: 0.5000 - 17ms/epoch - 17ms/step\n"
     ]
    },
    {
     "name": "stderr",
     "output_type": "stream",
     "text": [
      "  3%|▎         | 49/1425 [00:09<04:15,  5.38it/s]"
     ]
    },
    {
     "name": "stdout",
     "output_type": "stream",
     "text": [
      "Inferencing on instance 49\n",
      "1/1 [==============================] - 0s 32ms/step\n",
      "Online training on instance 49\n",
      "1/1 - 0s - loss: 0.5827 - binary_accuracy: 0.7500 - 16ms/epoch - 16ms/step\n"
     ]
    },
    {
     "name": "stderr",
     "output_type": "stream",
     "text": [
      "  4%|▎         | 50/1425 [00:09<04:15,  5.37it/s]"
     ]
    },
    {
     "name": "stdout",
     "output_type": "stream",
     "text": [
      "Inferencing on instance 50\n",
      "1/1 [==============================] - 0s 28ms/step\n",
      "Online training on instance 50\n",
      "1/1 - 0s - loss: 0.5557 - binary_accuracy: 0.7500 - 16ms/epoch - 16ms/step\n"
     ]
    },
    {
     "name": "stderr",
     "output_type": "stream",
     "text": [
      "  4%|▎         | 51/1425 [00:09<04:11,  5.46it/s]"
     ]
    },
    {
     "name": "stdout",
     "output_type": "stream",
     "text": [
      "Inferencing on instance 51\n",
      "1/1 [==============================] - 0s 32ms/step\n",
      "Online training on instance 51\n",
      "1/1 - 0s - loss: 0.6458 - binary_accuracy: 0.8125 - 17ms/epoch - 17ms/step\n"
     ]
    },
    {
     "name": "stderr",
     "output_type": "stream",
     "text": [
      "  4%|▎         | 52/1425 [00:10<04:08,  5.53it/s]"
     ]
    },
    {
     "name": "stdout",
     "output_type": "stream",
     "text": [
      "Inferencing on instance 52\n",
      "1/1 [==============================] - 0s 34ms/step\n",
      "Online training on instance 52\n",
      "1/1 - 0s - loss: 0.7834 - binary_accuracy: 0.6875 - 15ms/epoch - 15ms/step\n"
     ]
    },
    {
     "name": "stderr",
     "output_type": "stream",
     "text": [
      "  4%|▎         | 53/1425 [00:10<04:06,  5.56it/s]"
     ]
    },
    {
     "name": "stdout",
     "output_type": "stream",
     "text": [
      "Inferencing on instance 53\n",
      "1/1 [==============================] - 0s 46ms/step\n",
      "Online training on instance 53\n",
      "1/1 - 0s - loss: 1.1619 - binary_accuracy: 0.6250 - 15ms/epoch - 15ms/step\n"
     ]
    },
    {
     "name": "stderr",
     "output_type": "stream",
     "text": [
      "  4%|▍         | 54/1425 [00:10<04:17,  5.32it/s]"
     ]
    },
    {
     "name": "stdout",
     "output_type": "stream",
     "text": [
      "Inferencing on instance 54\n",
      "1/1 [==============================] - 0s 35ms/step\n",
      "Online training on instance 54\n",
      "1/1 - 0s - loss: 1.2669 - binary_accuracy: 0.5625 - 16ms/epoch - 16ms/step\n"
     ]
    },
    {
     "name": "stderr",
     "output_type": "stream",
     "text": [
      "  4%|▍         | 55/1425 [00:10<04:15,  5.36it/s]"
     ]
    },
    {
     "name": "stdout",
     "output_type": "stream",
     "text": [
      "Inferencing on instance 55\n",
      "1/1 [==============================] - 0s 32ms/step\n",
      "Online training on instance 55\n",
      "1/1 - 0s - loss: 0.9576 - binary_accuracy: 0.5000 - 18ms/epoch - 18ms/step\n"
     ]
    },
    {
     "name": "stderr",
     "output_type": "stream",
     "text": [
      "  4%|▍         | 56/1425 [00:10<04:17,  5.31it/s]"
     ]
    },
    {
     "name": "stdout",
     "output_type": "stream",
     "text": [
      "Inferencing on instance 56\n",
      "1/1 [==============================] - 0s 31ms/step\n",
      "Online training on instance 56\n",
      "1/1 - 0s - loss: 0.9918 - binary_accuracy: 0.5000 - 17ms/epoch - 17ms/step\n"
     ]
    },
    {
     "name": "stderr",
     "output_type": "stream",
     "text": [
      "  4%|▍         | 57/1425 [00:11<04:20,  5.25it/s]"
     ]
    },
    {
     "name": "stdout",
     "output_type": "stream",
     "text": [
      "Inferencing on instance 57\n",
      "1/1 [==============================] - 0s 26ms/step\n",
      "Online training on instance 57\n",
      "1/1 - 0s - loss: 0.8913 - binary_accuracy: 0.5000 - 15ms/epoch - 15ms/step\n"
     ]
    },
    {
     "name": "stderr",
     "output_type": "stream",
     "text": [
      "  4%|▍         | 58/1425 [00:11<04:14,  5.38it/s]"
     ]
    },
    {
     "name": "stdout",
     "output_type": "stream",
     "text": [
      "Inferencing on instance 58\n",
      "1/1 [==============================] - 0s 36ms/step\n",
      "Online training on instance 58\n",
      "1/1 - 0s - loss: 0.9915 - binary_accuracy: 0.3750 - 18ms/epoch - 18ms/step\n"
     ]
    },
    {
     "name": "stderr",
     "output_type": "stream",
     "text": [
      "  4%|▍         | 59/1425 [00:11<04:18,  5.29it/s]"
     ]
    },
    {
     "name": "stdout",
     "output_type": "stream",
     "text": [
      "Inferencing on instance 59\n",
      "1/1 [==============================] - 0s 45ms/step\n",
      "Online training on instance 59\n",
      "1/1 - 0s - loss: 1.1462 - binary_accuracy: 0.3125 - 16ms/epoch - 16ms/step\n"
     ]
    },
    {
     "name": "stderr",
     "output_type": "stream",
     "text": [
      "  4%|▍         | 60/1425 [00:11<04:32,  5.01it/s]"
     ]
    },
    {
     "name": "stdout",
     "output_type": "stream",
     "text": [
      "Inferencing on instance 60\n",
      "1/1 [==============================] - 0s 32ms/step\n",
      "Online training on instance 60\n",
      "1/1 - 0s - loss: 1.0832 - binary_accuracy: 0.5000 - 17ms/epoch - 17ms/step\n"
     ]
    },
    {
     "name": "stderr",
     "output_type": "stream",
     "text": [
      "  4%|▍         | 61/1425 [00:11<04:34,  4.97it/s]"
     ]
    },
    {
     "name": "stdout",
     "output_type": "stream",
     "text": [
      "Inferencing on instance 61\n",
      "1/1 [==============================] - 0s 29ms/step\n",
      "Online training on instance 61\n",
      "1/1 - 0s - loss: 0.9713 - binary_accuracy: 0.5000 - 18ms/epoch - 18ms/step\n"
     ]
    },
    {
     "name": "stderr",
     "output_type": "stream",
     "text": [
      "  4%|▍         | 62/1425 [00:12<04:34,  4.97it/s]"
     ]
    },
    {
     "name": "stdout",
     "output_type": "stream",
     "text": [
      "Inferencing on instance 62\n",
      "1/1 [==============================] - 0s 31ms/step\n",
      "Online training on instance 62\n",
      "1/1 - 0s - loss: 0.8790 - binary_accuracy: 0.5000 - 17ms/epoch - 17ms/step\n"
     ]
    },
    {
     "name": "stderr",
     "output_type": "stream",
     "text": [
      "  4%|▍         | 63/1425 [00:12<04:27,  5.09it/s]"
     ]
    },
    {
     "name": "stdout",
     "output_type": "stream",
     "text": [
      "Inferencing on instance 63\n",
      "1/1 [==============================] - 0s 30ms/step\n",
      "Online training on instance 63\n",
      "1/1 - 0s - loss: 0.5958 - binary_accuracy: 0.6875 - 18ms/epoch - 18ms/step\n"
     ]
    },
    {
     "name": "stderr",
     "output_type": "stream",
     "text": [
      "  4%|▍         | 64/1425 [00:12<04:28,  5.07it/s]"
     ]
    },
    {
     "name": "stdout",
     "output_type": "stream",
     "text": [
      "Inferencing on instance 64\n",
      "1/1 [==============================] - 0s 31ms/step\n",
      "Online training on instance 64\n",
      "1/1 - 0s - loss: 0.5425 - binary_accuracy: 0.8125 - 17ms/epoch - 17ms/step\n"
     ]
    },
    {
     "name": "stderr",
     "output_type": "stream",
     "text": [
      "  5%|▍         | 65/1425 [00:12<04:30,  5.03it/s]"
     ]
    },
    {
     "name": "stdout",
     "output_type": "stream",
     "text": [
      "Inferencing on instance 65\n",
      "1/1 [==============================] - 0s 39ms/step\n",
      "Online training on instance 65\n",
      "1/1 - 0s - loss: 0.8329 - binary_accuracy: 0.5625 - 20ms/epoch - 20ms/step\n"
     ]
    },
    {
     "name": "stderr",
     "output_type": "stream",
     "text": [
      "  5%|▍         | 66/1425 [00:12<04:43,  4.80it/s]"
     ]
    },
    {
     "name": "stdout",
     "output_type": "stream",
     "text": [
      "Inferencing on instance 66\n",
      "1/1 [==============================] - 0s 32ms/step\n",
      "Online training on instance 66\n",
      "1/1 - 0s - loss: 0.8798 - binary_accuracy: 0.6250 - 16ms/epoch - 16ms/step\n"
     ]
    },
    {
     "name": "stderr",
     "output_type": "stream",
     "text": [
      "  5%|▍         | 67/1425 [00:13<04:34,  4.95it/s]"
     ]
    },
    {
     "name": "stdout",
     "output_type": "stream",
     "text": [
      "Inferencing on instance 67\n",
      "1/1 [==============================] - 0s 28ms/step\n",
      "Online training on instance 67\n",
      "1/1 - 0s - loss: 0.6923 - binary_accuracy: 0.5625 - 16ms/epoch - 16ms/step\n"
     ]
    },
    {
     "name": "stderr",
     "output_type": "stream",
     "text": [
      "  5%|▍         | 68/1425 [00:13<04:26,  5.10it/s]"
     ]
    },
    {
     "name": "stdout",
     "output_type": "stream",
     "text": [
      "Inferencing on instance 68\n",
      "1/1 [==============================] - 0s 31ms/step\n",
      "Online training on instance 68\n",
      "1/1 - 0s - loss: 0.5687 - binary_accuracy: 0.8125 - 16ms/epoch - 16ms/step\n"
     ]
    },
    {
     "name": "stderr",
     "output_type": "stream",
     "text": [
      "  5%|▍         | 69/1425 [00:13<04:17,  5.27it/s]"
     ]
    },
    {
     "name": "stdout",
     "output_type": "stream",
     "text": [
      "Inferencing on instance 69\n",
      "1/1 [==============================] - 0s 41ms/step\n",
      "Online training on instance 69\n",
      "1/1 - 0s - loss: 0.5329 - binary_accuracy: 0.7500 - 17ms/epoch - 17ms/step\n"
     ]
    },
    {
     "name": "stderr",
     "output_type": "stream",
     "text": [
      "  5%|▍         | 70/1425 [00:13<04:20,  5.21it/s]"
     ]
    },
    {
     "name": "stdout",
     "output_type": "stream",
     "text": [
      "Inferencing on instance 70\n",
      "1/1 [==============================] - 0s 31ms/step\n",
      "Online training on instance 70\n",
      "1/1 - 0s - loss: 0.6805 - binary_accuracy: 0.6875 - 17ms/epoch - 17ms/step\n"
     ]
    },
    {
     "name": "stderr",
     "output_type": "stream",
     "text": [
      "  5%|▍         | 71/1425 [00:13<04:17,  5.26it/s]"
     ]
    },
    {
     "name": "stdout",
     "output_type": "stream",
     "text": [
      "Inferencing on instance 71\n",
      "1/1 [==============================] - 0s 42ms/step\n",
      "Online training on instance 71\n",
      "1/1 - 0s - loss: 0.6375 - binary_accuracy: 0.6875 - 16ms/epoch - 16ms/step\n"
     ]
    },
    {
     "name": "stderr",
     "output_type": "stream",
     "text": [
      "  5%|▌         | 72/1425 [00:14<04:25,  5.10it/s]"
     ]
    },
    {
     "name": "stdout",
     "output_type": "stream",
     "text": [
      "Inferencing on instance 72\n",
      "1/1 [==============================] - 0s 28ms/step\n",
      "Online training on instance 72\n",
      "1/1 - 0s - loss: 0.4582 - binary_accuracy: 0.8125 - 15ms/epoch - 15ms/step\n"
     ]
    },
    {
     "name": "stderr",
     "output_type": "stream",
     "text": [
      "  5%|▌         | 73/1425 [00:14<04:18,  5.22it/s]"
     ]
    },
    {
     "name": "stdout",
     "output_type": "stream",
     "text": [
      "Inferencing on instance 73\n",
      "1/1 [==============================] - 0s 30ms/step\n",
      "Online training on instance 73\n",
      "1/1 - 0s - loss: 0.5758 - binary_accuracy: 0.8125 - 16ms/epoch - 16ms/step\n"
     ]
    },
    {
     "name": "stderr",
     "output_type": "stream",
     "text": [
      "  5%|▌         | 74/1425 [00:14<04:14,  5.31it/s]"
     ]
    },
    {
     "name": "stdout",
     "output_type": "stream",
     "text": [
      "Inferencing on instance 74\n",
      "1/1 [==============================] - 0s 31ms/step\n",
      "Online training on instance 74\n",
      "1/1 - 0s - loss: 0.5213 - binary_accuracy: 0.8125 - 19ms/epoch - 19ms/step\n"
     ]
    },
    {
     "name": "stderr",
     "output_type": "stream",
     "text": [
      "  5%|▌         | 75/1425 [00:14<04:12,  5.35it/s]"
     ]
    },
    {
     "name": "stdout",
     "output_type": "stream",
     "text": [
      "Inferencing on instance 75\n",
      "1/1 [==============================] - 0s 31ms/step\n",
      "Online training on instance 75\n",
      "1/1 - 0s - loss: 0.7254 - binary_accuracy: 0.8125 - 15ms/epoch - 15ms/step\n"
     ]
    },
    {
     "name": "stderr",
     "output_type": "stream",
     "text": [
      "  5%|▌         | 76/1425 [00:14<04:09,  5.40it/s]"
     ]
    },
    {
     "name": "stdout",
     "output_type": "stream",
     "text": [
      "Inferencing on instance 76\n",
      "1/1 [==============================] - 0s 32ms/step\n",
      "Online training on instance 76\n",
      "1/1 - 0s - loss: 0.8625 - binary_accuracy: 0.7500 - 15ms/epoch - 15ms/step\n"
     ]
    },
    {
     "name": "stderr",
     "output_type": "stream",
     "text": [
      "  5%|▌         | 77/1425 [00:14<04:08,  5.43it/s]"
     ]
    },
    {
     "name": "stdout",
     "output_type": "stream",
     "text": [
      "Inferencing on instance 77\n",
      "1/1 [==============================] - 0s 41ms/step\n",
      "Online training on instance 77\n",
      "1/1 - 0s - loss: 1.0932 - binary_accuracy: 0.6875 - 15ms/epoch - 15ms/step\n"
     ]
    },
    {
     "name": "stderr",
     "output_type": "stream",
     "text": [
      "  5%|▌         | 78/1425 [00:15<04:19,  5.18it/s]"
     ]
    },
    {
     "name": "stdout",
     "output_type": "stream",
     "text": [
      "Inferencing on instance 78\n",
      "1/1 [==============================] - 0s 33ms/step\n",
      "Online training on instance 78\n",
      "1/1 - 0s - loss: 1.1358 - binary_accuracy: 0.7500 - 18ms/epoch - 18ms/step\n"
     ]
    },
    {
     "name": "stderr",
     "output_type": "stream",
     "text": [
      "  6%|▌         | 79/1425 [00:15<04:15,  5.27it/s]"
     ]
    },
    {
     "name": "stdout",
     "output_type": "stream",
     "text": [
      "Inferencing on instance 79\n",
      "1/1 [==============================] - 0s 41ms/step\n",
      "Online training on instance 79\n",
      "1/1 - 0s - loss: 1.1818 - binary_accuracy: 0.6875 - 18ms/epoch - 18ms/step\n"
     ]
    },
    {
     "name": "stderr",
     "output_type": "stream",
     "text": [
      "  6%|▌         | 80/1425 [00:15<04:28,  5.00it/s]"
     ]
    },
    {
     "name": "stdout",
     "output_type": "stream",
     "text": [
      "Inferencing on instance 80\n",
      "1/1 [==============================] - 0s 40ms/step\n",
      "Online training on instance 80\n",
      "1/1 - 0s - loss: 1.1537 - binary_accuracy: 0.6875 - 19ms/epoch - 19ms/step\n"
     ]
    },
    {
     "name": "stderr",
     "output_type": "stream",
     "text": [
      "  6%|▌         | 81/1425 [00:15<04:42,  4.76it/s]"
     ]
    },
    {
     "name": "stdout",
     "output_type": "stream",
     "text": [
      "Inferencing on instance 81\n",
      "1/1 [==============================] - 0s 31ms/step\n",
      "Online training on instance 81\n",
      "1/1 - 0s - loss: 1.1326 - binary_accuracy: 0.6875 - 16ms/epoch - 16ms/step\n"
     ]
    },
    {
     "name": "stderr",
     "output_type": "stream",
     "text": [
      "  6%|▌         | 82/1425 [00:15<04:37,  4.85it/s]"
     ]
    },
    {
     "name": "stdout",
     "output_type": "stream",
     "text": [
      "Inferencing on instance 82\n",
      "1/1 [==============================] - 0s 44ms/step\n",
      "Online training on instance 82\n",
      "1/1 - 0s - loss: 1.0967 - binary_accuracy: 0.6875 - 16ms/epoch - 16ms/step\n"
     ]
    },
    {
     "name": "stderr",
     "output_type": "stream",
     "text": [
      "  6%|▌         | 83/1425 [00:16<04:45,  4.70it/s]"
     ]
    },
    {
     "name": "stdout",
     "output_type": "stream",
     "text": [
      "Inferencing on instance 83\n",
      "1/1 [==============================] - 0s 30ms/step\n",
      "Online training on instance 83\n",
      "1/1 - 0s - loss: 1.0412 - binary_accuracy: 0.6875 - 15ms/epoch - 15ms/step\n"
     ]
    },
    {
     "name": "stderr",
     "output_type": "stream",
     "text": [
      "  6%|▌         | 84/1425 [00:16<04:33,  4.90it/s]"
     ]
    },
    {
     "name": "stdout",
     "output_type": "stream",
     "text": [
      "Inferencing on instance 84\n",
      "1/1 [==============================] - 0s 31ms/step\n",
      "Online training on instance 84\n",
      "1/1 - 0s - loss: 0.9896 - binary_accuracy: 0.6875 - 16ms/epoch - 16ms/step\n"
     ]
    },
    {
     "name": "stderr",
     "output_type": "stream",
     "text": [
      "  6%|▌         | 85/1425 [00:16<04:31,  4.93it/s]"
     ]
    },
    {
     "name": "stdout",
     "output_type": "stream",
     "text": [
      "Inferencing on instance 85\n",
      "1/1 [==============================] - 0s 41ms/step\n",
      "Online training on instance 85\n",
      "1/1 - 0s - loss: 0.9913 - binary_accuracy: 0.7500 - 15ms/epoch - 15ms/step\n"
     ]
    },
    {
     "name": "stderr",
     "output_type": "stream",
     "text": [
      "  6%|▌         | 86/1425 [00:16<04:25,  5.04it/s]"
     ]
    },
    {
     "name": "stdout",
     "output_type": "stream",
     "text": [
      "Inferencing on instance 86\n",
      "1/1 [==============================] - 0s 32ms/step\n",
      "Online training on instance 86\n",
      "1/1 - 0s - loss: 0.8614 - binary_accuracy: 0.7500 - 17ms/epoch - 17ms/step\n"
     ]
    },
    {
     "name": "stderr",
     "output_type": "stream",
     "text": [
      "  6%|▌         | 87/1425 [00:16<04:18,  5.17it/s]"
     ]
    },
    {
     "name": "stdout",
     "output_type": "stream",
     "text": [
      "Inferencing on instance 87\n",
      "1/1 [==============================] - 0s 32ms/step\n",
      "Online training on instance 87\n",
      "1/1 - 0s - loss: 0.8977 - binary_accuracy: 0.7500 - 22ms/epoch - 22ms/step\n"
     ]
    },
    {
     "name": "stderr",
     "output_type": "stream",
     "text": [
      "  6%|▌         | 88/1425 [00:17<04:16,  5.21it/s]"
     ]
    },
    {
     "name": "stdout",
     "output_type": "stream",
     "text": [
      "Inferencing on instance 88\n",
      "1/1 [==============================] - 0s 34ms/step\n",
      "Online training on instance 88\n",
      "1/1 - 0s - loss: 0.8806 - binary_accuracy: 0.7500 - 17ms/epoch - 17ms/step\n"
     ]
    },
    {
     "name": "stderr",
     "output_type": "stream",
     "text": [
      "  6%|▌         | 89/1425 [00:17<04:25,  5.03it/s]"
     ]
    },
    {
     "name": "stdout",
     "output_type": "stream",
     "text": [
      "Inferencing on instance 89\n",
      "1/1 [==============================] - 0s 28ms/step\n",
      "Online training on instance 89\n",
      "1/1 - 0s - loss: 0.8143 - binary_accuracy: 0.7500 - 16ms/epoch - 16ms/step\n"
     ]
    },
    {
     "name": "stderr",
     "output_type": "stream",
     "text": [
      "  6%|▋         | 90/1425 [00:17<04:15,  5.22it/s]"
     ]
    },
    {
     "name": "stdout",
     "output_type": "stream",
     "text": [
      "Inferencing on instance 90\n",
      "1/1 [==============================] - 0s 34ms/step\n",
      "Online training on instance 90\n",
      "1/1 - 0s - loss: 0.8543 - binary_accuracy: 0.7500 - 19ms/epoch - 19ms/step\n"
     ]
    },
    {
     "name": "stderr",
     "output_type": "stream",
     "text": [
      "  6%|▋         | 91/1425 [00:17<04:20,  5.12it/s]"
     ]
    },
    {
     "name": "stdout",
     "output_type": "stream",
     "text": [
      "Inferencing on instance 91\n",
      "1/1 [==============================] - 0s 34ms/step\n",
      "Online training on instance 91\n",
      "1/1 - 0s - loss: 0.7509 - binary_accuracy: 0.8125 - 16ms/epoch - 16ms/step\n"
     ]
    },
    {
     "name": "stderr",
     "output_type": "stream",
     "text": [
      "  6%|▋         | 92/1425 [00:17<04:17,  5.19it/s]"
     ]
    },
    {
     "name": "stdout",
     "output_type": "stream",
     "text": [
      "Inferencing on instance 92\n",
      "1/1 [==============================] - 0s 31ms/step\n",
      "Online training on instance 92\n",
      "1/1 - 0s - loss: 0.7616 - binary_accuracy: 0.6250 - 17ms/epoch - 17ms/step\n"
     ]
    },
    {
     "name": "stderr",
     "output_type": "stream",
     "text": [
      "  7%|▋         | 93/1425 [00:18<04:16,  5.19it/s]"
     ]
    },
    {
     "name": "stdout",
     "output_type": "stream",
     "text": [
      "Inferencing on instance 93\n",
      "1/1 [==============================] - 0s 55ms/step\n",
      "Online training on instance 93\n",
      "1/1 - 0s - loss: 0.6430 - binary_accuracy: 0.7500 - 19ms/epoch - 19ms/step\n"
     ]
    },
    {
     "name": "stderr",
     "output_type": "stream",
     "text": [
      "  7%|▋         | 94/1425 [00:18<04:40,  4.74it/s]"
     ]
    },
    {
     "name": "stdout",
     "output_type": "stream",
     "text": [
      "Inferencing on instance 94\n",
      "1/1 [==============================] - 0s 36ms/step\n",
      "Online training on instance 94\n",
      "1/1 - 0s - loss: 0.6576 - binary_accuracy: 0.6875 - 19ms/epoch - 19ms/step\n"
     ]
    },
    {
     "name": "stderr",
     "output_type": "stream",
     "text": [
      "  7%|▋         | 95/1425 [00:18<04:41,  4.72it/s]"
     ]
    },
    {
     "name": "stdout",
     "output_type": "stream",
     "text": [
      "Inferencing on instance 95\n",
      "1/1 [==============================] - 0s 38ms/step\n",
      "Online training on instance 95\n",
      "1/1 - 0s - loss: 0.6381 - binary_accuracy: 0.7500 - 20ms/epoch - 20ms/step\n"
     ]
    },
    {
     "name": "stderr",
     "output_type": "stream",
     "text": [
      "  7%|▋         | 96/1425 [00:18<04:52,  4.55it/s]"
     ]
    },
    {
     "name": "stdout",
     "output_type": "stream",
     "text": [
      "Inferencing on instance 96\n",
      "1/1 [==============================] - 0s 43ms/step\n",
      "Online training on instance 96\n",
      "1/1 - 0s - loss: 0.5483 - binary_accuracy: 0.7500 - 20ms/epoch - 20ms/step\n"
     ]
    },
    {
     "name": "stderr",
     "output_type": "stream",
     "text": [
      "  7%|▋         | 97/1425 [00:19<04:57,  4.46it/s]"
     ]
    },
    {
     "name": "stdout",
     "output_type": "stream",
     "text": [
      "Inferencing on instance 97\n",
      "1/1 [==============================] - 0s 48ms/step\n",
      "Online training on instance 97\n",
      "1/1 - 0s - loss: 0.5651 - binary_accuracy: 0.7500 - 18ms/epoch - 18ms/step\n"
     ]
    },
    {
     "name": "stderr",
     "output_type": "stream",
     "text": [
      "  7%|▋         | 98/1425 [00:19<05:07,  4.32it/s]"
     ]
    },
    {
     "name": "stdout",
     "output_type": "stream",
     "text": [
      "Inferencing on instance 98\n",
      "1/1 [==============================] - 0s 46ms/step\n",
      "Online training on instance 98\n",
      "1/1 - 0s - loss: 0.6497 - binary_accuracy: 0.6250 - 21ms/epoch - 21ms/step\n"
     ]
    },
    {
     "name": "stderr",
     "output_type": "stream",
     "text": [
      "  7%|▋         | 99/1425 [00:19<05:06,  4.33it/s]"
     ]
    },
    {
     "name": "stdout",
     "output_type": "stream",
     "text": [
      "Inferencing on instance 99\n",
      "1/1 [==============================] - 0s 39ms/step\n",
      "Online training on instance 99\n",
      "1/1 - 0s - loss: 0.5544 - binary_accuracy: 0.6875 - 16ms/epoch - 16ms/step\n"
     ]
    },
    {
     "name": "stderr",
     "output_type": "stream",
     "text": [
      "  7%|▋         | 100/1425 [00:19<05:13,  4.23it/s]"
     ]
    },
    {
     "name": "stdout",
     "output_type": "stream",
     "text": [
      "Inferencing on instance 100\n",
      "1/1 [==============================] - 0s 37ms/step\n",
      "Online training on instance 100\n",
      "1/1 - 0s - loss: 0.5716 - binary_accuracy: 0.6875 - 15ms/epoch - 15ms/step\n"
     ]
    },
    {
     "name": "stderr",
     "output_type": "stream",
     "text": [
      "  7%|▋         | 101/1425 [00:19<04:56,  4.46it/s]"
     ]
    },
    {
     "name": "stdout",
     "output_type": "stream",
     "text": [
      "Inferencing on instance 101\n",
      "1/1 [==============================] - 0s 28ms/step\n",
      "Online training on instance 101\n",
      "1/1 - 0s - loss: 0.5800 - binary_accuracy: 0.6875 - 16ms/epoch - 16ms/step\n"
     ]
    },
    {
     "name": "stderr",
     "output_type": "stream",
     "text": [
      "  7%|▋         | 102/1425 [00:20<04:39,  4.74it/s]"
     ]
    },
    {
     "name": "stdout",
     "output_type": "stream",
     "text": [
      "Inferencing on instance 102\n",
      "1/1 [==============================] - 0s 33ms/step\n",
      "Online training on instance 102\n",
      "1/1 - 0s - loss: 0.5048 - binary_accuracy: 0.8125 - 17ms/epoch - 17ms/step\n"
     ]
    },
    {
     "name": "stderr",
     "output_type": "stream",
     "text": [
      "  7%|▋         | 103/1425 [00:20<04:30,  4.89it/s]"
     ]
    },
    {
     "name": "stdout",
     "output_type": "stream",
     "text": [
      "Inferencing on instance 103\n",
      "1/1 [==============================] - 0s 26ms/step\n",
      "Online training on instance 103\n",
      "1/1 - 0s - loss: 0.4120 - binary_accuracy: 0.8750 - 17ms/epoch - 17ms/step\n"
     ]
    },
    {
     "name": "stderr",
     "output_type": "stream",
     "text": [
      "  7%|▋         | 104/1425 [00:20<04:22,  5.03it/s]"
     ]
    },
    {
     "name": "stdout",
     "output_type": "stream",
     "text": [
      "Inferencing on instance 104\n",
      "1/1 [==============================] - 0s 75ms/step\n",
      "Online training on instance 104\n",
      "1/1 - 0s - loss: 0.3942 - binary_accuracy: 0.8750 - 17ms/epoch - 17ms/step\n"
     ]
    },
    {
     "name": "stderr",
     "output_type": "stream",
     "text": [
      "  7%|▋         | 105/1425 [00:20<05:05,  4.32it/s]"
     ]
    },
    {
     "name": "stdout",
     "output_type": "stream",
     "text": [
      "Inferencing on instance 105\n",
      "1/1 [==============================] - 0s 30ms/step\n",
      "Online training on instance 105\n",
      "1/1 - 0s - loss: 0.4680 - binary_accuracy: 0.8125 - 16ms/epoch - 16ms/step\n"
     ]
    },
    {
     "name": "stderr",
     "output_type": "stream",
     "text": [
      "  7%|▋         | 106/1425 [00:21<04:50,  4.54it/s]"
     ]
    },
    {
     "name": "stdout",
     "output_type": "stream",
     "text": [
      "Inferencing on instance 106\n",
      "1/1 [==============================] - 0s 37ms/step\n",
      "Online training on instance 106\n",
      "1/1 - 0s - loss: 0.5267 - binary_accuracy: 0.7500 - 17ms/epoch - 17ms/step\n"
     ]
    },
    {
     "name": "stderr",
     "output_type": "stream",
     "text": [
      "  8%|▊         | 107/1425 [00:21<04:55,  4.46it/s]"
     ]
    },
    {
     "name": "stdout",
     "output_type": "stream",
     "text": [
      "Inferencing on instance 107\n",
      "1/1 [==============================] - 0s 29ms/step\n",
      "Online training on instance 107\n",
      "1/1 - 0s - loss: 0.5769 - binary_accuracy: 0.8125 - 16ms/epoch - 16ms/step\n"
     ]
    },
    {
     "name": "stderr",
     "output_type": "stream",
     "text": [
      "  8%|▊         | 108/1425 [00:21<04:40,  4.70it/s]"
     ]
    },
    {
     "name": "stdout",
     "output_type": "stream",
     "text": [
      "Inferencing on instance 108\n",
      "1/1 [==============================] - 0s 28ms/step\n",
      "Online training on instance 108\n",
      "1/1 - 0s - loss: 0.6737 - binary_accuracy: 0.6875 - 18ms/epoch - 18ms/step\n"
     ]
    },
    {
     "name": "stderr",
     "output_type": "stream",
     "text": [
      "  8%|▊         | 109/1425 [00:21<04:27,  4.92it/s]"
     ]
    },
    {
     "name": "stdout",
     "output_type": "stream",
     "text": [
      "Inferencing on instance 109\n",
      "1/1 [==============================] - 0s 28ms/step\n",
      "Online training on instance 109\n",
      "1/1 - 0s - loss: 0.7523 - binary_accuracy: 0.6875 - 14ms/epoch - 14ms/step\n"
     ]
    },
    {
     "name": "stderr",
     "output_type": "stream",
     "text": [
      "  8%|▊         | 110/1425 [00:21<04:42,  4.66it/s]"
     ]
    },
    {
     "name": "stdout",
     "output_type": "stream",
     "text": [
      "Inferencing on instance 110\n",
      "1/1 [==============================] - 0s 33ms/step\n",
      "Online training on instance 110\n",
      "1/1 - 0s - loss: 0.8271 - binary_accuracy: 0.5000 - 17ms/epoch - 17ms/step\n"
     ]
    },
    {
     "name": "stderr",
     "output_type": "stream",
     "text": [
      "  8%|▊         | 111/1425 [00:22<04:31,  4.84it/s]"
     ]
    },
    {
     "name": "stdout",
     "output_type": "stream",
     "text": [
      "Inferencing on instance 111\n",
      "1/1 [==============================] - 0s 32ms/step\n",
      "Online training on instance 111\n",
      "1/1 - 0s - loss: 0.7555 - binary_accuracy: 0.5625 - 18ms/epoch - 18ms/step\n"
     ]
    },
    {
     "name": "stderr",
     "output_type": "stream",
     "text": [
      "  8%|▊         | 112/1425 [00:22<04:24,  4.96it/s]"
     ]
    },
    {
     "name": "stdout",
     "output_type": "stream",
     "text": [
      "Inferencing on instance 112\n",
      "1/1 [==============================] - 0s 28ms/step\n",
      "Online training on instance 112\n",
      "1/1 - 0s - loss: 0.9126 - binary_accuracy: 0.5000 - 17ms/epoch - 17ms/step\n"
     ]
    },
    {
     "name": "stderr",
     "output_type": "stream",
     "text": [
      "  8%|▊         | 113/1425 [00:22<04:15,  5.14it/s]"
     ]
    },
    {
     "name": "stdout",
     "output_type": "stream",
     "text": [
      "Inferencing on instance 113\n",
      "1/1 [==============================] - 0s 35ms/step\n",
      "Online training on instance 113\n",
      "1/1 - 0s - loss: 1.0479 - binary_accuracy: 0.4375 - 17ms/epoch - 17ms/step\n"
     ]
    },
    {
     "name": "stderr",
     "output_type": "stream",
     "text": [
      "  8%|▊         | 114/1425 [00:22<04:12,  5.20it/s]"
     ]
    },
    {
     "name": "stdout",
     "output_type": "stream",
     "text": [
      "Inferencing on instance 114\n",
      "1/1 [==============================] - 0s 37ms/step\n",
      "Online training on instance 114\n",
      "1/1 - 0s - loss: 0.9519 - binary_accuracy: 0.3750 - 16ms/epoch - 16ms/step\n"
     ]
    },
    {
     "name": "stderr",
     "output_type": "stream",
     "text": [
      "  8%|▊         | 115/1425 [00:22<04:12,  5.18it/s]"
     ]
    },
    {
     "name": "stdout",
     "output_type": "stream",
     "text": [
      "Inferencing on instance 115\n",
      "1/1 [==============================] - 0s 45ms/step\n",
      "Online training on instance 115\n",
      "1/1 - 0s - loss: 0.9963 - binary_accuracy: 0.3750 - 16ms/epoch - 16ms/step\n"
     ]
    },
    {
     "name": "stderr",
     "output_type": "stream",
     "text": [
      "  8%|▊         | 116/1425 [00:23<04:31,  4.83it/s]"
     ]
    },
    {
     "name": "stdout",
     "output_type": "stream",
     "text": [
      "Inferencing on instance 116\n",
      "1/1 [==============================] - 0s 28ms/step\n",
      "Online training on instance 116\n",
      "1/1 - 0s - loss: 1.1899 - binary_accuracy: 0.3125 - 15ms/epoch - 15ms/step\n"
     ]
    },
    {
     "name": "stderr",
     "output_type": "stream",
     "text": [
      "  8%|▊         | 117/1425 [00:23<04:17,  5.09it/s]"
     ]
    },
    {
     "name": "stdout",
     "output_type": "stream",
     "text": [
      "Inferencing on instance 117\n",
      "1/1 [==============================] - 0s 30ms/step\n",
      "Online training on instance 117\n",
      "1/1 - 0s - loss: 1.3463 - binary_accuracy: 0.2500 - 15ms/epoch - 15ms/step\n"
     ]
    },
    {
     "name": "stderr",
     "output_type": "stream",
     "text": [
      "  8%|▊         | 118/1425 [00:23<04:08,  5.26it/s]"
     ]
    },
    {
     "name": "stdout",
     "output_type": "stream",
     "text": [
      "Inferencing on instance 118\n",
      "1/1 [==============================] - 0s 32ms/step\n",
      "Online training on instance 118\n",
      "1/1 - 0s - loss: 1.2011 - binary_accuracy: 0.2500 - 19ms/epoch - 19ms/step\n"
     ]
    },
    {
     "name": "stderr",
     "output_type": "stream",
     "text": [
      "  8%|▊         | 119/1425 [00:23<04:07,  5.27it/s]"
     ]
    },
    {
     "name": "stdout",
     "output_type": "stream",
     "text": [
      "Inferencing on instance 119\n",
      "1/1 [==============================] - 0s 36ms/step\n",
      "Online training on instance 119\n",
      "1/1 - 0s - loss: 1.1542 - binary_accuracy: 0.3125 - 15ms/epoch - 15ms/step\n"
     ]
    },
    {
     "name": "stderr",
     "output_type": "stream",
     "text": [
      "  8%|▊         | 120/1425 [00:23<04:09,  5.23it/s]"
     ]
    },
    {
     "name": "stdout",
     "output_type": "stream",
     "text": [
      "Inferencing on instance 120\n",
      "1/1 [==============================] - 0s 48ms/step\n",
      "Online training on instance 120\n",
      "1/1 - 0s - loss: 1.2075 - binary_accuracy: 0.3125 - 16ms/epoch - 16ms/step\n"
     ]
    },
    {
     "name": "stderr",
     "output_type": "stream",
     "text": [
      "  8%|▊         | 121/1425 [00:24<04:25,  4.91it/s]"
     ]
    },
    {
     "name": "stdout",
     "output_type": "stream",
     "text": [
      "Inferencing on instance 121\n",
      "1/1 [==============================] - 0s 28ms/step\n",
      "Online training on instance 121\n",
      "1/1 - 0s - loss: 1.1488 - binary_accuracy: 0.3750 - 15ms/epoch - 15ms/step\n"
     ]
    },
    {
     "name": "stderr",
     "output_type": "stream",
     "text": [
      "  9%|▊         | 122/1425 [00:24<04:13,  5.13it/s]"
     ]
    },
    {
     "name": "stdout",
     "output_type": "stream",
     "text": [
      "Inferencing on instance 122\n",
      "1/1 [==============================] - 0s 32ms/step\n",
      "Online training on instance 122\n",
      "1/1 - 0s - loss: 1.1301 - binary_accuracy: 0.4375 - 15ms/epoch - 15ms/step\n"
     ]
    },
    {
     "name": "stderr",
     "output_type": "stream",
     "text": [
      "  9%|▊         | 123/1425 [00:24<04:05,  5.30it/s]"
     ]
    },
    {
     "name": "stdout",
     "output_type": "stream",
     "text": [
      "Inferencing on instance 123\n",
      "1/1 [==============================] - 0s 34ms/step\n",
      "Online training on instance 123\n",
      "1/1 - 0s - loss: 1.1070 - binary_accuracy: 0.6250 - 15ms/epoch - 15ms/step\n"
     ]
    },
    {
     "name": "stderr",
     "output_type": "stream",
     "text": [
      "  9%|▊         | 124/1425 [00:24<04:01,  5.39it/s]"
     ]
    },
    {
     "name": "stdout",
     "output_type": "stream",
     "text": [
      "Inferencing on instance 124\n",
      "1/1 [==============================] - 0s 36ms/step\n",
      "Online training on instance 124\n",
      "1/1 - 0s - loss: 0.9469 - binary_accuracy: 0.7500 - 15ms/epoch - 15ms/step\n"
     ]
    },
    {
     "name": "stderr",
     "output_type": "stream",
     "text": [
      "  9%|▉         | 125/1425 [00:24<04:05,  5.30it/s]"
     ]
    },
    {
     "name": "stdout",
     "output_type": "stream",
     "text": [
      "Inferencing on instance 125\n",
      "1/1 [==============================] - 0s 43ms/step\n",
      "Online training on instance 125\n",
      "1/1 - 0s - loss: 0.8961 - binary_accuracy: 0.7500 - 17ms/epoch - 17ms/step\n"
     ]
    },
    {
     "name": "stderr",
     "output_type": "stream",
     "text": [
      "  9%|▉         | 126/1425 [00:24<04:15,  5.09it/s]"
     ]
    },
    {
     "name": "stdout",
     "output_type": "stream",
     "text": [
      "Inferencing on instance 126\n",
      "1/1 [==============================] - 0s 29ms/step\n",
      "Online training on instance 126\n",
      "1/1 - 0s - loss: 0.9935 - binary_accuracy: 0.7500 - 16ms/epoch - 16ms/step\n"
     ]
    },
    {
     "name": "stderr",
     "output_type": "stream",
     "text": [
      "  9%|▉         | 127/1425 [00:25<04:08,  5.22it/s]"
     ]
    },
    {
     "name": "stdout",
     "output_type": "stream",
     "text": [
      "Inferencing on instance 127\n",
      "1/1 [==============================] - 0s 29ms/step\n",
      "Online training on instance 127\n",
      "1/1 - 0s - loss: 0.9077 - binary_accuracy: 0.7500 - 16ms/epoch - 16ms/step\n"
     ]
    },
    {
     "name": "stderr",
     "output_type": "stream",
     "text": [
      "  9%|▉         | 128/1425 [00:25<04:02,  5.34it/s]"
     ]
    },
    {
     "name": "stdout",
     "output_type": "stream",
     "text": [
      "Inferencing on instance 128\n",
      "1/1 [==============================] - 0s 35ms/step\n",
      "Online training on instance 128\n",
      "1/1 - 0s - loss: 0.9433 - binary_accuracy: 0.6875 - 20ms/epoch - 20ms/step\n"
     ]
    },
    {
     "name": "stderr",
     "output_type": "stream",
     "text": [
      "  9%|▉         | 129/1425 [00:25<04:02,  5.33it/s]"
     ]
    },
    {
     "name": "stdout",
     "output_type": "stream",
     "text": [
      "Inferencing on instance 129\n",
      "1/1 [==============================] - 0s 28ms/step\n",
      "Online training on instance 129\n",
      "1/1 - 0s - loss: 0.8621 - binary_accuracy: 0.7500 - 15ms/epoch - 15ms/step\n"
     ]
    },
    {
     "name": "stderr",
     "output_type": "stream",
     "text": [
      "  9%|▉         | 130/1425 [00:25<04:00,  5.38it/s]"
     ]
    },
    {
     "name": "stdout",
     "output_type": "stream",
     "text": [
      "Inferencing on instance 130\n",
      "1/1 [==============================] - 0s 32ms/step\n",
      "Online training on instance 130\n",
      "1/1 - 0s - loss: 0.8208 - binary_accuracy: 0.7500 - 16ms/epoch - 16ms/step\n"
     ]
    },
    {
     "name": "stderr",
     "output_type": "stream",
     "text": [
      "  9%|▉         | 131/1425 [00:25<03:59,  5.41it/s]"
     ]
    },
    {
     "name": "stdout",
     "output_type": "stream",
     "text": [
      "Inferencing on instance 131\n",
      "1/1 [==============================] - 0s 53ms/step\n",
      "Online training on instance 131\n",
      "1/1 - 0s - loss: 0.7937 - binary_accuracy: 0.7500 - 18ms/epoch - 18ms/step\n"
     ]
    },
    {
     "name": "stderr",
     "output_type": "stream",
     "text": [
      "  9%|▉         | 132/1425 [00:26<04:17,  5.02it/s]"
     ]
    },
    {
     "name": "stdout",
     "output_type": "stream",
     "text": [
      "Inferencing on instance 132\n",
      "1/1 [==============================] - 0s 34ms/step\n",
      "Online training on instance 132\n",
      "1/1 - 0s - loss: 0.7178 - binary_accuracy: 0.7500 - 17ms/epoch - 17ms/step\n"
     ]
    },
    {
     "name": "stderr",
     "output_type": "stream",
     "text": [
      "  9%|▉         | 133/1425 [00:26<04:18,  5.00it/s]"
     ]
    },
    {
     "name": "stdout",
     "output_type": "stream",
     "text": [
      "Inferencing on instance 133\n",
      "1/1 [==============================] - 0s 35ms/step\n",
      "Online training on instance 133\n",
      "1/1 - 0s - loss: 0.7367 - binary_accuracy: 0.8125 - 17ms/epoch - 17ms/step\n"
     ]
    },
    {
     "name": "stderr",
     "output_type": "stream",
     "text": [
      "  9%|▉         | 134/1425 [00:26<04:21,  4.93it/s]"
     ]
    },
    {
     "name": "stdout",
     "output_type": "stream",
     "text": [
      "Inferencing on instance 134\n",
      "1/1 [==============================] - 0s 35ms/step\n",
      "Online training on instance 134\n",
      "1/1 - 0s - loss: 0.6643 - binary_accuracy: 0.8125 - 16ms/epoch - 16ms/step\n"
     ]
    },
    {
     "name": "stderr",
     "output_type": "stream",
     "text": [
      "  9%|▉         | 135/1425 [00:26<04:27,  4.81it/s]"
     ]
    },
    {
     "name": "stdout",
     "output_type": "stream",
     "text": [
      "Inferencing on instance 135\n",
      "1/1 [==============================] - 0s 33ms/step\n",
      "Online training on instance 135\n",
      "1/1 - 0s - loss: 0.6716 - binary_accuracy: 0.8125 - 15ms/epoch - 15ms/step\n"
     ]
    },
    {
     "name": "stderr",
     "output_type": "stream",
     "text": [
      " 10%|▉         | 136/1425 [00:26<04:23,  4.90it/s]"
     ]
    },
    {
     "name": "stdout",
     "output_type": "stream",
     "text": [
      "Inferencing on instance 136\n",
      "1/1 [==============================] - 0s 39ms/step\n",
      "Online training on instance 136\n",
      "1/1 - 0s - loss: 0.6282 - binary_accuracy: 0.8125 - 18ms/epoch - 18ms/step\n"
     ]
    },
    {
     "name": "stderr",
     "output_type": "stream",
     "text": [
      " 10%|▉         | 137/1425 [00:27<04:24,  4.87it/s]"
     ]
    },
    {
     "name": "stdout",
     "output_type": "stream",
     "text": [
      "Inferencing on instance 137\n",
      "1/1 [==============================] - 0s 67ms/step\n",
      "Online training on instance 137\n",
      "1/1 - 0s - loss: 0.5854 - binary_accuracy: 0.8125 - 14ms/epoch - 14ms/step\n"
     ]
    },
    {
     "name": "stderr",
     "output_type": "stream",
     "text": [
      " 10%|▉         | 138/1425 [00:27<05:13,  4.11it/s]"
     ]
    },
    {
     "name": "stdout",
     "output_type": "stream",
     "text": [
      "Inferencing on instance 138\n",
      "1/1 [==============================] - 0s 46ms/step\n",
      "Online training on instance 138\n",
      "1/1 - 0s - loss: 0.5654 - binary_accuracy: 0.8125 - 19ms/epoch - 19ms/step\n"
     ]
    },
    {
     "name": "stderr",
     "output_type": "stream",
     "text": [
      " 10%|▉         | 139/1425 [00:27<05:21,  4.00it/s]"
     ]
    },
    {
     "name": "stdout",
     "output_type": "stream",
     "text": [
      "Inferencing on instance 139\n",
      "1/1 [==============================] - 0s 38ms/step\n",
      "Online training on instance 139\n",
      "1/1 - 0s - loss: 0.5347 - binary_accuracy: 0.8125 - 18ms/epoch - 18ms/step\n"
     ]
    },
    {
     "name": "stderr",
     "output_type": "stream",
     "text": [
      " 10%|▉         | 140/1425 [00:27<05:12,  4.11it/s]"
     ]
    },
    {
     "name": "stdout",
     "output_type": "stream",
     "text": [
      "Inferencing on instance 140\n",
      "1/1 [==============================] - 0s 46ms/step\n",
      "Online training on instance 140\n",
      "1/1 - 0s - loss: 0.5291 - binary_accuracy: 0.8125 - 16ms/epoch - 16ms/step\n"
     ]
    },
    {
     "name": "stderr",
     "output_type": "stream",
     "text": [
      " 10%|▉         | 141/1425 [00:28<05:15,  4.06it/s]"
     ]
    },
    {
     "name": "stdout",
     "output_type": "stream",
     "text": [
      "Inferencing on instance 141\n",
      "1/1 [==============================] - 0s 32ms/step\n",
      "Online training on instance 141\n",
      "1/1 - 0s - loss: 0.4851 - binary_accuracy: 0.8125 - 15ms/epoch - 15ms/step\n"
     ]
    },
    {
     "name": "stderr",
     "output_type": "stream",
     "text": [
      " 10%|▉         | 142/1425 [00:28<04:56,  4.32it/s]"
     ]
    },
    {
     "name": "stdout",
     "output_type": "stream",
     "text": [
      "Inferencing on instance 142\n",
      "1/1 [==============================] - 0s 27ms/step\n",
      "Online training on instance 142\n",
      "1/1 - 0s - loss: 0.5001 - binary_accuracy: 0.8750 - 17ms/epoch - 17ms/step\n"
     ]
    },
    {
     "name": "stderr",
     "output_type": "stream",
     "text": [
      " 10%|█         | 143/1425 [00:28<04:44,  4.50it/s]"
     ]
    },
    {
     "name": "stdout",
     "output_type": "stream",
     "text": [
      "Inferencing on instance 143\n",
      "1/1 [==============================] - 0s 30ms/step\n",
      "Online training on instance 143\n",
      "1/1 - 0s - loss: 0.5290 - binary_accuracy: 0.7500 - 16ms/epoch - 16ms/step\n"
     ]
    },
    {
     "name": "stderr",
     "output_type": "stream",
     "text": [
      " 10%|█         | 144/1425 [00:28<04:32,  4.71it/s]"
     ]
    },
    {
     "name": "stdout",
     "output_type": "stream",
     "text": [
      "Inferencing on instance 144\n",
      "1/1 [==============================] - 0s 32ms/step\n",
      "Online training on instance 144\n",
      "1/1 - 0s - loss: 0.5052 - binary_accuracy: 0.7500 - 18ms/epoch - 18ms/step\n"
     ]
    },
    {
     "name": "stderr",
     "output_type": "stream",
     "text": [
      " 10%|█         | 145/1425 [00:28<04:22,  4.87it/s]"
     ]
    },
    {
     "name": "stdout",
     "output_type": "stream",
     "text": [
      "Inferencing on instance 145\n",
      "1/1 [==============================] - 0s 29ms/step\n",
      "Online training on instance 145\n",
      "1/1 - 0s - loss: 0.5551 - binary_accuracy: 0.6250 - 20ms/epoch - 20ms/step\n"
     ]
    },
    {
     "name": "stderr",
     "output_type": "stream",
     "text": [
      " 10%|█         | 146/1425 [00:29<04:24,  4.83it/s]"
     ]
    },
    {
     "name": "stdout",
     "output_type": "stream",
     "text": [
      "Inferencing on instance 146\n",
      "1/1 [==============================] - 0s 28ms/step\n",
      "Online training on instance 146\n",
      "1/1 - 0s - loss: 0.5838 - binary_accuracy: 0.6250 - 17ms/epoch - 17ms/step\n"
     ]
    },
    {
     "name": "stderr",
     "output_type": "stream",
     "text": [
      " 10%|█         | 147/1425 [00:29<04:14,  5.02it/s]"
     ]
    },
    {
     "name": "stdout",
     "output_type": "stream",
     "text": [
      "Inferencing on instance 147\n",
      "1/1 [==============================] - 0s 29ms/step\n",
      "Online training on instance 147\n",
      "1/1 - 0s - loss: 0.6883 - binary_accuracy: 0.6875 - 17ms/epoch - 17ms/step\n"
     ]
    },
    {
     "name": "stderr",
     "output_type": "stream",
     "text": [
      " 10%|█         | 148/1425 [00:29<04:11,  5.08it/s]"
     ]
    },
    {
     "name": "stdout",
     "output_type": "stream",
     "text": [
      "Inferencing on instance 148\n",
      "1/1 [==============================] - 0s 35ms/step\n",
      "Online training on instance 148\n",
      "1/1 - 0s - loss: 0.7489 - binary_accuracy: 0.6250 - 16ms/epoch - 16ms/step\n"
     ]
    },
    {
     "name": "stderr",
     "output_type": "stream",
     "text": [
      " 10%|█         | 149/1425 [00:29<04:13,  5.03it/s]"
     ]
    },
    {
     "name": "stdout",
     "output_type": "stream",
     "text": [
      "Inferencing on instance 149\n",
      "1/1 [==============================] - 0s 28ms/step\n",
      "Online training on instance 149\n",
      "1/1 - 0s - loss: 0.7704 - binary_accuracy: 0.5625 - 17ms/epoch - 17ms/step\n"
     ]
    },
    {
     "name": "stderr",
     "output_type": "stream",
     "text": [
      " 11%|█         | 150/1425 [00:29<04:06,  5.17it/s]"
     ]
    },
    {
     "name": "stdout",
     "output_type": "stream",
     "text": [
      "Inferencing on instance 150\n",
      "1/1 [==============================] - 0s 37ms/step\n",
      "Online training on instance 150\n",
      "1/1 - 0s - loss: 0.8446 - binary_accuracy: 0.5625 - 17ms/epoch - 17ms/step\n"
     ]
    },
    {
     "name": "stderr",
     "output_type": "stream",
     "text": [
      " 11%|█         | 151/1425 [00:30<04:07,  5.14it/s]"
     ]
    },
    {
     "name": "stdout",
     "output_type": "stream",
     "text": [
      "Inferencing on instance 151\n",
      "1/1 [==============================] - 0s 50ms/step\n",
      "Online training on instance 151\n",
      "1/1 - 0s - loss: 0.9903 - binary_accuracy: 0.5000 - 16ms/epoch - 16ms/step\n"
     ]
    },
    {
     "name": "stderr",
     "output_type": "stream",
     "text": [
      " 11%|█         | 152/1425 [00:30<04:23,  4.83it/s]"
     ]
    },
    {
     "name": "stdout",
     "output_type": "stream",
     "text": [
      "Inferencing on instance 152\n",
      "1/1 [==============================] - 0s 42ms/step\n",
      "Online training on instance 152\n",
      "1/1 - 0s - loss: 0.9756 - binary_accuracy: 0.5000 - 17ms/epoch - 17ms/step\n"
     ]
    },
    {
     "name": "stderr",
     "output_type": "stream",
     "text": [
      " 11%|█         | 153/1425 [00:30<04:30,  4.70it/s]"
     ]
    },
    {
     "name": "stdout",
     "output_type": "stream",
     "text": [
      "Inferencing on instance 153\n",
      "1/1 [==============================] - 0s 37ms/step\n",
      "Online training on instance 153\n",
      "1/1 - 0s - loss: 1.0507 - binary_accuracy: 0.5000 - 16ms/epoch - 16ms/step\n"
     ]
    },
    {
     "name": "stderr",
     "output_type": "stream",
     "text": [
      " 11%|█         | 154/1425 [00:30<04:33,  4.66it/s]"
     ]
    },
    {
     "name": "stdout",
     "output_type": "stream",
     "text": [
      "Inferencing on instance 154\n",
      "1/1 [==============================] - 0s 35ms/step\n",
      "Online training on instance 154\n",
      "1/1 - 0s - loss: 1.0626 - binary_accuracy: 0.4375 - 17ms/epoch - 17ms/step\n"
     ]
    },
    {
     "name": "stderr",
     "output_type": "stream",
     "text": [
      " 11%|█         | 155/1425 [00:31<04:33,  4.65it/s]"
     ]
    },
    {
     "name": "stdout",
     "output_type": "stream",
     "text": [
      "Inferencing on instance 155\n",
      "1/1 [==============================] - 0s 31ms/step\n",
      "Online training on instance 155\n",
      "1/1 - 0s - loss: 1.1100 - binary_accuracy: 0.3750 - 20ms/epoch - 20ms/step\n"
     ]
    },
    {
     "name": "stderr",
     "output_type": "stream",
     "text": [
      " 11%|█         | 156/1425 [00:31<04:37,  4.58it/s]"
     ]
    },
    {
     "name": "stdout",
     "output_type": "stream",
     "text": [
      "Inferencing on instance 156\n",
      "1/1 [==============================] - 0s 32ms/step\n",
      "Online training on instance 156\n",
      "1/1 - 0s - loss: 1.1529 - binary_accuracy: 0.3125 - 16ms/epoch - 16ms/step\n"
     ]
    },
    {
     "name": "stderr",
     "output_type": "stream",
     "text": [
      " 11%|█         | 157/1425 [00:31<04:33,  4.64it/s]"
     ]
    },
    {
     "name": "stdout",
     "output_type": "stream",
     "text": [
      "Inferencing on instance 157\n",
      "1/1 [==============================] - 0s 35ms/step\n",
      "Online training on instance 157\n",
      "1/1 - 0s - loss: 1.3087 - binary_accuracy: 0.2500 - 16ms/epoch - 16ms/step\n"
     ]
    },
    {
     "name": "stderr",
     "output_type": "stream",
     "text": [
      " 11%|█         | 158/1425 [00:31<04:31,  4.67it/s]"
     ]
    },
    {
     "name": "stdout",
     "output_type": "stream",
     "text": [
      "Inferencing on instance 158\n",
      "1/1 [==============================] - 0s 34ms/step\n",
      "Online training on instance 158\n",
      "1/1 - 0s - loss: 1.2643 - binary_accuracy: 0.1875 - 16ms/epoch - 16ms/step\n"
     ]
    },
    {
     "name": "stderr",
     "output_type": "stream",
     "text": [
      " 11%|█         | 159/1425 [00:31<04:30,  4.69it/s]"
     ]
    },
    {
     "name": "stdout",
     "output_type": "stream",
     "text": [
      "Inferencing on instance 159\n",
      "1/1 [==============================] - 0s 38ms/step\n",
      "Online training on instance 159\n",
      "1/1 - 0s - loss: 1.2011 - binary_accuracy: 0.1875 - 16ms/epoch - 16ms/step\n"
     ]
    },
    {
     "name": "stderr",
     "output_type": "stream",
     "text": [
      " 11%|█         | 160/1425 [00:32<04:31,  4.66it/s]"
     ]
    },
    {
     "name": "stdout",
     "output_type": "stream",
     "text": [
      "Inferencing on instance 160\n",
      "1/1 [==============================] - 0s 39ms/step\n",
      "Online training on instance 160\n",
      "1/1 - 0s - loss: 1.2299 - binary_accuracy: 0.1875 - 19ms/epoch - 19ms/step\n"
     ]
    },
    {
     "name": "stderr",
     "output_type": "stream",
     "text": [
      " 11%|█▏        | 161/1425 [00:32<04:47,  4.39it/s]"
     ]
    },
    {
     "name": "stdout",
     "output_type": "stream",
     "text": [
      "Inferencing on instance 161\n",
      "1/1 [==============================] - 0s 40ms/step\n",
      "Online training on instance 161\n",
      "1/1 - 0s - loss: 1.1688 - binary_accuracy: 0.1875 - 19ms/epoch - 19ms/step\n"
     ]
    },
    {
     "name": "stderr",
     "output_type": "stream",
     "text": [
      " 11%|█▏        | 162/1425 [00:32<04:53,  4.31it/s]"
     ]
    },
    {
     "name": "stdout",
     "output_type": "stream",
     "text": [
      "Inferencing on instance 162\n",
      "1/1 [==============================] - 0s 49ms/step\n",
      "Online training on instance 162\n",
      "1/1 - 0s - loss: 1.0865 - binary_accuracy: 0.2500 - 19ms/epoch - 19ms/step\n"
     ]
    },
    {
     "name": "stderr",
     "output_type": "stream",
     "text": [
      " 11%|█▏        | 163/1425 [00:32<05:06,  4.12it/s]"
     ]
    },
    {
     "name": "stdout",
     "output_type": "stream",
     "text": [
      "Inferencing on instance 163\n",
      "1/1 [==============================] - 0s 43ms/step\n",
      "Online training on instance 163\n",
      "1/1 - 0s - loss: 1.0848 - binary_accuracy: 0.2500 - 17ms/epoch - 17ms/step\n"
     ]
    },
    {
     "name": "stderr",
     "output_type": "stream",
     "text": [
      " 12%|█▏        | 164/1425 [00:33<04:59,  4.22it/s]"
     ]
    },
    {
     "name": "stdout",
     "output_type": "stream",
     "text": [
      "Inferencing on instance 164\n",
      "1/1 [==============================] - 0s 37ms/step\n",
      "Online training on instance 164\n",
      "1/1 - 0s - loss: 1.0948 - binary_accuracy: 0.2500 - 17ms/epoch - 17ms/step\n"
     ]
    },
    {
     "name": "stderr",
     "output_type": "stream",
     "text": [
      " 12%|█▏        | 165/1425 [00:33<04:50,  4.34it/s]"
     ]
    },
    {
     "name": "stdout",
     "output_type": "stream",
     "text": [
      "Inferencing on instance 165\n",
      "1/1 [==============================] - 0s 54ms/step\n",
      "Online training on instance 165\n",
      "1/1 - 0s - loss: 1.0137 - binary_accuracy: 0.3750 - 19ms/epoch - 19ms/step\n"
     ]
    },
    {
     "name": "stderr",
     "output_type": "stream",
     "text": [
      " 12%|█▏        | 166/1425 [00:33<05:02,  4.17it/s]"
     ]
    },
    {
     "name": "stdout",
     "output_type": "stream",
     "text": [
      "Inferencing on instance 166\n",
      "1/1 [==============================] - 0s 43ms/step\n",
      "Online training on instance 166\n",
      "1/1 - 0s - loss: 0.9645 - binary_accuracy: 0.3750 - 15ms/epoch - 15ms/step\n"
     ]
    },
    {
     "name": "stderr",
     "output_type": "stream",
     "text": [
      " 12%|█▏        | 167/1425 [00:33<04:59,  4.20it/s]"
     ]
    },
    {
     "name": "stdout",
     "output_type": "stream",
     "text": [
      "Inferencing on instance 167\n",
      "1/1 [==============================] - 0s 37ms/step\n",
      "Online training on instance 167\n",
      "1/1 - 0s - loss: 0.9397 - binary_accuracy: 0.5625 - 17ms/epoch - 17ms/step\n"
     ]
    },
    {
     "name": "stderr",
     "output_type": "stream",
     "text": [
      " 12%|█▏        | 168/1425 [00:34<04:54,  4.28it/s]"
     ]
    },
    {
     "name": "stdout",
     "output_type": "stream",
     "text": [
      "Inferencing on instance 168\n",
      "1/1 [==============================] - 0s 38ms/step\n",
      "Online training on instance 168\n",
      "1/1 - 0s - loss: 0.8853 - binary_accuracy: 0.5625 - 18ms/epoch - 18ms/step\n"
     ]
    },
    {
     "name": "stderr",
     "output_type": "stream",
     "text": [
      " 12%|█▏        | 169/1425 [00:34<04:51,  4.31it/s]"
     ]
    },
    {
     "name": "stdout",
     "output_type": "stream",
     "text": [
      "Inferencing on instance 169\n",
      "1/1 [==============================] - 0s 36ms/step\n",
      "Online training on instance 169\n",
      "1/1 - 0s - loss: 0.9340 - binary_accuracy: 0.6250 - 18ms/epoch - 18ms/step\n"
     ]
    },
    {
     "name": "stderr",
     "output_type": "stream",
     "text": [
      " 12%|█▏        | 170/1425 [00:34<04:49,  4.34it/s]"
     ]
    },
    {
     "name": "stdout",
     "output_type": "stream",
     "text": [
      "Inferencing on instance 170\n",
      "1/1 [==============================] - 0s 61ms/step\n",
      "Online training on instance 170\n",
      "1/1 - 0s - loss: 0.8869 - binary_accuracy: 0.6250 - 17ms/epoch - 17ms/step\n"
     ]
    },
    {
     "name": "stderr",
     "output_type": "stream",
     "text": [
      " 12%|█▏        | 171/1425 [00:34<05:02,  4.14it/s]"
     ]
    },
    {
     "name": "stdout",
     "output_type": "stream",
     "text": [
      "Inferencing on instance 171\n",
      "1/1 [==============================] - 0s 42ms/step\n",
      "Online training on instance 171\n",
      "1/1 - 0s - loss: 0.8260 - binary_accuracy: 0.6875 - 20ms/epoch - 20ms/step\n"
     ]
    },
    {
     "name": "stderr",
     "output_type": "stream",
     "text": [
      " 12%|█▏        | 172/1425 [00:34<04:55,  4.24it/s]"
     ]
    },
    {
     "name": "stdout",
     "output_type": "stream",
     "text": [
      "Inferencing on instance 172\n",
      "1/1 [==============================] - 0s 35ms/step\n",
      "Online training on instance 172\n",
      "1/1 - 0s - loss: 0.8139 - binary_accuracy: 0.7500 - 20ms/epoch - 20ms/step\n"
     ]
    },
    {
     "name": "stderr",
     "output_type": "stream",
     "text": [
      " 12%|█▏        | 173/1425 [00:35<04:48,  4.33it/s]"
     ]
    },
    {
     "name": "stdout",
     "output_type": "stream",
     "text": [
      "Inferencing on instance 173\n",
      "1/1 [==============================] - 0s 32ms/step\n",
      "Online training on instance 173\n",
      "1/1 - 0s - loss: 0.7063 - binary_accuracy: 0.8125 - 19ms/epoch - 19ms/step\n"
     ]
    },
    {
     "name": "stderr",
     "output_type": "stream",
     "text": [
      " 12%|█▏        | 174/1425 [00:35<04:41,  4.44it/s]"
     ]
    },
    {
     "name": "stdout",
     "output_type": "stream",
     "text": [
      "Inferencing on instance 174\n",
      "1/1 [==============================] - 0s 36ms/step\n",
      "Online training on instance 174\n",
      "1/1 - 0s - loss: 0.7590 - binary_accuracy: 0.7500 - 20ms/epoch - 20ms/step\n"
     ]
    },
    {
     "name": "stderr",
     "output_type": "stream",
     "text": [
      " 12%|█▏        | 175/1425 [00:35<04:41,  4.43it/s]"
     ]
    },
    {
     "name": "stdout",
     "output_type": "stream",
     "text": [
      "Inferencing on instance 175\n",
      "1/1 [==============================] - 0s 37ms/step\n",
      "Online training on instance 175\n",
      "1/1 - 0s - loss: 0.7350 - binary_accuracy: 0.8125 - 18ms/epoch - 18ms/step\n"
     ]
    },
    {
     "name": "stderr",
     "output_type": "stream",
     "text": [
      " 12%|█▏        | 176/1425 [00:35<04:55,  4.23it/s]"
     ]
    },
    {
     "name": "stdout",
     "output_type": "stream",
     "text": [
      "Inferencing on instance 176\n",
      "1/1 [==============================] - 0s 37ms/step\n",
      "Online training on instance 176\n",
      "1/1 - 0s - loss: 0.6724 - binary_accuracy: 0.8125 - 17ms/epoch - 17ms/step\n"
     ]
    },
    {
     "name": "stderr",
     "output_type": "stream",
     "text": [
      " 12%|█▏        | 177/1425 [00:36<04:50,  4.29it/s]"
     ]
    },
    {
     "name": "stdout",
     "output_type": "stream",
     "text": [
      "Inferencing on instance 177\n",
      "1/1 [==============================] - 0s 33ms/step\n",
      "Online training on instance 177\n",
      "1/1 - 0s - loss: 0.6711 - binary_accuracy: 0.8125 - 18ms/epoch - 18ms/step\n"
     ]
    },
    {
     "name": "stderr",
     "output_type": "stream",
     "text": [
      " 12%|█▏        | 178/1425 [00:36<04:38,  4.48it/s]"
     ]
    },
    {
     "name": "stdout",
     "output_type": "stream",
     "text": [
      "Inferencing on instance 178\n",
      "1/1 [==============================] - 0s 34ms/step\n",
      "Online training on instance 178\n",
      "1/1 - 0s - loss: 0.6745 - binary_accuracy: 0.8125 - 17ms/epoch - 17ms/step\n"
     ]
    },
    {
     "name": "stderr",
     "output_type": "stream",
     "text": [
      " 13%|█▎        | 179/1425 [00:36<04:39,  4.46it/s]"
     ]
    },
    {
     "name": "stdout",
     "output_type": "stream",
     "text": [
      "Inferencing on instance 179\n",
      "1/1 [==============================] - 0s 40ms/step\n",
      "Online training on instance 179\n",
      "1/1 - 0s - loss: 0.6112 - binary_accuracy: 0.8125 - 15ms/epoch - 15ms/step\n"
     ]
    },
    {
     "name": "stderr",
     "output_type": "stream",
     "text": [
      " 13%|█▎        | 180/1425 [00:36<04:39,  4.46it/s]"
     ]
    },
    {
     "name": "stdout",
     "output_type": "stream",
     "text": [
      "Inferencing on instance 180\n",
      "1/1 [==============================] - 0s 35ms/step\n",
      "Online training on instance 180\n",
      "1/1 - 0s - loss: 0.5300 - binary_accuracy: 0.8125 - 27ms/epoch - 27ms/step\n"
     ]
    },
    {
     "name": "stderr",
     "output_type": "stream",
     "text": [
      " 13%|█▎        | 181/1425 [00:37<04:41,  4.41it/s]"
     ]
    },
    {
     "name": "stdout",
     "output_type": "stream",
     "text": [
      "Inferencing on instance 181\n",
      "1/1 [==============================] - 0s 43ms/step\n",
      "Online training on instance 181\n",
      "1/1 - 0s - loss: 0.5984 - binary_accuracy: 0.8125 - 20ms/epoch - 20ms/step\n"
     ]
    },
    {
     "name": "stderr",
     "output_type": "stream",
     "text": [
      " 13%|█▎        | 182/1425 [00:37<04:51,  4.27it/s]"
     ]
    },
    {
     "name": "stdout",
     "output_type": "stream",
     "text": [
      "Inferencing on instance 182\n",
      "1/1 [==============================] - 0s 38ms/step\n",
      "Online training on instance 182\n",
      "1/1 - 0s - loss: 0.5929 - binary_accuracy: 0.8125 - 18ms/epoch - 18ms/step\n"
     ]
    },
    {
     "name": "stderr",
     "output_type": "stream",
     "text": [
      " 13%|█▎        | 183/1425 [00:37<04:40,  4.43it/s]"
     ]
    },
    {
     "name": "stdout",
     "output_type": "stream",
     "text": [
      "Inferencing on instance 183\n",
      "1/1 [==============================] - 0s 41ms/step\n",
      "Online training on instance 183\n",
      "1/1 - 0s - loss: 0.5831 - binary_accuracy: 0.8125 - 18ms/epoch - 18ms/step\n"
     ]
    },
    {
     "name": "stderr",
     "output_type": "stream",
     "text": [
      " 13%|█▎        | 184/1425 [00:37<04:45,  4.35it/s]"
     ]
    },
    {
     "name": "stdout",
     "output_type": "stream",
     "text": [
      "Inferencing on instance 184\n",
      "1/1 [==============================] - 0s 37ms/step\n",
      "Online training on instance 184\n",
      "1/1 - 0s - loss: 0.6285 - binary_accuracy: 0.8125 - 18ms/epoch - 18ms/step\n"
     ]
    },
    {
     "name": "stderr",
     "output_type": "stream",
     "text": [
      " 13%|█▎        | 185/1425 [00:37<04:43,  4.37it/s]"
     ]
    },
    {
     "name": "stdout",
     "output_type": "stream",
     "text": [
      "Inferencing on instance 185\n",
      "1/1 [==============================] - 0s 35ms/step\n",
      "Online training on instance 185\n",
      "1/1 - 0s - loss: 0.5078 - binary_accuracy: 0.8125 - 19ms/epoch - 19ms/step\n"
     ]
    },
    {
     "name": "stderr",
     "output_type": "stream",
     "text": [
      " 13%|█▎        | 186/1425 [00:38<04:40,  4.41it/s]"
     ]
    },
    {
     "name": "stdout",
     "output_type": "stream",
     "text": [
      "Inferencing on instance 186\n",
      "1/1 [==============================] - 0s 61ms/step\n",
      "Online training on instance 186\n",
      "1/1 - 0s - loss: 0.5466 - binary_accuracy: 0.8125 - 17ms/epoch - 17ms/step\n"
     ]
    },
    {
     "name": "stderr",
     "output_type": "stream",
     "text": [
      " 13%|█▎        | 187/1425 [00:38<04:54,  4.21it/s]"
     ]
    },
    {
     "name": "stdout",
     "output_type": "stream",
     "text": [
      "Inferencing on instance 187\n",
      "1/1 [==============================] - 0s 38ms/step\n",
      "Online training on instance 187\n",
      "1/1 - 0s - loss: 0.5364 - binary_accuracy: 0.8125 - 18ms/epoch - 18ms/step\n"
     ]
    },
    {
     "name": "stderr",
     "output_type": "stream",
     "text": [
      " 13%|█▎        | 188/1425 [00:38<04:45,  4.33it/s]"
     ]
    },
    {
     "name": "stdout",
     "output_type": "stream",
     "text": [
      "Inferencing on instance 188\n",
      "1/1 [==============================] - 0s 37ms/step\n",
      "Online training on instance 188\n",
      "1/1 - 0s - loss: 0.5435 - binary_accuracy: 0.7500 - 17ms/epoch - 17ms/step\n"
     ]
    },
    {
     "name": "stderr",
     "output_type": "stream",
     "text": [
      " 13%|█▎        | 189/1425 [00:38<04:36,  4.47it/s]"
     ]
    },
    {
     "name": "stdout",
     "output_type": "stream",
     "text": [
      "Inferencing on instance 189\n",
      "1/1 [==============================] - 0s 33ms/step\n",
      "Online training on instance 189\n",
      "1/1 - 0s - loss: 0.5236 - binary_accuracy: 0.8125 - 17ms/epoch - 17ms/step\n"
     ]
    },
    {
     "name": "stderr",
     "output_type": "stream",
     "text": [
      " 13%|█▎        | 190/1425 [00:39<04:25,  4.65it/s]"
     ]
    },
    {
     "name": "stdout",
     "output_type": "stream",
     "text": [
      "Inferencing on instance 190\n",
      "1/1 [==============================] - 0s 30ms/step\n",
      "Online training on instance 190\n",
      "1/1 - 0s - loss: 0.4327 - binary_accuracy: 0.8750 - 18ms/epoch - 18ms/step\n"
     ]
    },
    {
     "name": "stderr",
     "output_type": "stream",
     "text": [
      " 13%|█▎        | 191/1425 [00:39<04:24,  4.66it/s]"
     ]
    },
    {
     "name": "stdout",
     "output_type": "stream",
     "text": [
      "Inferencing on instance 191\n",
      "1/1 [==============================] - 0s 39ms/step\n",
      "Online training on instance 191\n",
      "1/1 - 0s - loss: 0.4544 - binary_accuracy: 0.8125 - 18ms/epoch - 18ms/step\n"
     ]
    },
    {
     "name": "stderr",
     "output_type": "stream",
     "text": [
      " 13%|█▎        | 192/1425 [00:39<04:37,  4.45it/s]"
     ]
    },
    {
     "name": "stdout",
     "output_type": "stream",
     "text": [
      "Inferencing on instance 192\n",
      "1/1 [==============================] - 0s 40ms/step\n",
      "Online training on instance 192\n",
      "1/1 - 0s - loss: 0.4597 - binary_accuracy: 0.6875 - 19ms/epoch - 19ms/step\n"
     ]
    },
    {
     "name": "stderr",
     "output_type": "stream",
     "text": [
      " 14%|█▎        | 193/1425 [00:39<04:43,  4.35it/s]"
     ]
    },
    {
     "name": "stdout",
     "output_type": "stream",
     "text": [
      "Inferencing on instance 193\n",
      "1/1 [==============================] - 0s 35ms/step\n",
      "Online training on instance 193\n",
      "1/1 - 0s - loss: 0.4600 - binary_accuracy: 0.8125 - 17ms/epoch - 17ms/step\n"
     ]
    },
    {
     "name": "stderr",
     "output_type": "stream",
     "text": [
      " 14%|█▎        | 194/1425 [00:39<04:37,  4.44it/s]"
     ]
    },
    {
     "name": "stdout",
     "output_type": "stream",
     "text": [
      "Inferencing on instance 194\n",
      "1/1 [==============================] - 0s 30ms/step\n",
      "Online training on instance 194\n",
      "1/1 - 0s - loss: 0.4787 - binary_accuracy: 0.7500 - 15ms/epoch - 15ms/step\n"
     ]
    },
    {
     "name": "stderr",
     "output_type": "stream",
     "text": [
      " 14%|█▎        | 195/1425 [00:40<04:29,  4.56it/s]"
     ]
    },
    {
     "name": "stdout",
     "output_type": "stream",
     "text": [
      "Inferencing on instance 195\n",
      "1/1 [==============================] - 0s 37ms/step\n",
      "Online training on instance 195\n",
      "1/1 - 0s - loss: 0.4243 - binary_accuracy: 0.8125 - 16ms/epoch - 16ms/step\n"
     ]
    },
    {
     "name": "stderr",
     "output_type": "stream",
     "text": [
      " 14%|█▍        | 196/1425 [00:40<04:25,  4.63it/s]"
     ]
    },
    {
     "name": "stdout",
     "output_type": "stream",
     "text": [
      "Inferencing on instance 196\n",
      "1/1 [==============================] - 0s 34ms/step\n",
      "Online training on instance 196\n",
      "1/1 - 0s - loss: 0.4435 - binary_accuracy: 0.7500 - 17ms/epoch - 17ms/step\n"
     ]
    },
    {
     "name": "stderr",
     "output_type": "stream",
     "text": [
      " 14%|█▍        | 197/1425 [00:40<04:23,  4.66it/s]"
     ]
    },
    {
     "name": "stdout",
     "output_type": "stream",
     "text": [
      "Inferencing on instance 197\n",
      "1/1 [==============================] - 0s 42ms/step\n",
      "Online training on instance 197\n",
      "1/1 - 0s - loss: 0.4745 - binary_accuracy: 0.8125 - 17ms/epoch - 17ms/step\n"
     ]
    },
    {
     "name": "stderr",
     "output_type": "stream",
     "text": [
      " 14%|█▍        | 198/1425 [00:40<04:36,  4.44it/s]"
     ]
    },
    {
     "name": "stdout",
     "output_type": "stream",
     "text": [
      "Inferencing on instance 198\n",
      "1/1 [==============================] - 0s 35ms/step\n",
      "Online training on instance 198\n",
      "1/1 - 0s - loss: 0.6295 - binary_accuracy: 0.6875 - 17ms/epoch - 17ms/step\n"
     ]
    },
    {
     "name": "stderr",
     "output_type": "stream",
     "text": [
      " 14%|█▍        | 199/1425 [00:41<04:30,  4.52it/s]"
     ]
    },
    {
     "name": "stdout",
     "output_type": "stream",
     "text": [
      "Inferencing on instance 199\n",
      "1/1 [==============================] - 0s 40ms/step\n",
      "Online training on instance 199\n",
      "1/1 - 0s - loss: 0.7351 - binary_accuracy: 0.6250 - 17ms/epoch - 17ms/step\n"
     ]
    },
    {
     "name": "stderr",
     "output_type": "stream",
     "text": [
      " 14%|█▍        | 200/1425 [00:41<04:32,  4.49it/s]"
     ]
    },
    {
     "name": "stdout",
     "output_type": "stream",
     "text": [
      "Inferencing on instance 200\n",
      "1/1 [==============================] - 0s 31ms/step\n",
      "Online training on instance 200\n",
      "1/1 - 0s - loss: 0.8564 - binary_accuracy: 0.5000 - 19ms/epoch - 19ms/step\n"
     ]
    },
    {
     "name": "stderr",
     "output_type": "stream",
     "text": [
      " 14%|█▍        | 201/1425 [00:41<04:25,  4.61it/s]"
     ]
    },
    {
     "name": "stdout",
     "output_type": "stream",
     "text": [
      "Inferencing on instance 201\n",
      "1/1 [==============================] - 0s 41ms/step\n",
      "Online training on instance 201\n",
      "1/1 - 0s - loss: 0.9146 - binary_accuracy: 0.5625 - 15ms/epoch - 15ms/step\n"
     ]
    },
    {
     "name": "stderr",
     "output_type": "stream",
     "text": [
      " 14%|█▍        | 202/1425 [00:41<05:30,  3.70it/s]"
     ]
    },
    {
     "name": "stdout",
     "output_type": "stream",
     "text": [
      "Inferencing on instance 202\n",
      "1/1 [==============================] - 0s 53ms/step\n",
      "Online training on instance 202\n",
      "1/1 - 0s - loss: 0.9815 - binary_accuracy: 0.5000 - 17ms/epoch - 17ms/step\n"
     ]
    },
    {
     "name": "stderr",
     "output_type": "stream",
     "text": [
      " 14%|█▍        | 203/1425 [00:42<05:22,  3.79it/s]"
     ]
    },
    {
     "name": "stdout",
     "output_type": "stream",
     "text": [
      "Inferencing on instance 203\n",
      "1/1 [==============================] - 0s 36ms/step\n",
      "Online training on instance 203\n",
      "1/1 - 0s - loss: 1.1189 - binary_accuracy: 0.4375 - 15ms/epoch - 15ms/step\n"
     ]
    },
    {
     "name": "stderr",
     "output_type": "stream",
     "text": [
      " 14%|█▍        | 204/1425 [00:42<05:03,  4.02it/s]"
     ]
    },
    {
     "name": "stdout",
     "output_type": "stream",
     "text": [
      "Inferencing on instance 204\n",
      "1/1 [==============================] - 0s 32ms/step\n",
      "Online training on instance 204\n",
      "1/1 - 0s - loss: 1.1362 - binary_accuracy: 0.3750 - 16ms/epoch - 16ms/step\n"
     ]
    },
    {
     "name": "stderr",
     "output_type": "stream",
     "text": [
      " 14%|█▍        | 205/1425 [00:42<04:47,  4.24it/s]"
     ]
    },
    {
     "name": "stdout",
     "output_type": "stream",
     "text": [
      "Inferencing on instance 205\n",
      "1/1 [==============================] - 0s 35ms/step\n",
      "Online training on instance 205\n",
      "1/1 - 0s - loss: 1.2158 - binary_accuracy: 0.3750 - 20ms/epoch - 20ms/step\n"
     ]
    },
    {
     "name": "stderr",
     "output_type": "stream",
     "text": [
      " 14%|█▍        | 206/1425 [00:42<04:36,  4.42it/s]"
     ]
    },
    {
     "name": "stdout",
     "output_type": "stream",
     "text": [
      "Inferencing on instance 206\n",
      "1/1 [==============================] - 0s 36ms/step\n",
      "Online training on instance 206\n",
      "1/1 - 0s - loss: 1.2898 - binary_accuracy: 0.3750 - 16ms/epoch - 16ms/step\n"
     ]
    },
    {
     "name": "stderr",
     "output_type": "stream",
     "text": [
      " 15%|█▍        | 207/1425 [00:42<04:34,  4.44it/s]"
     ]
    },
    {
     "name": "stdout",
     "output_type": "stream",
     "text": [
      "Inferencing on instance 207\n",
      "1/1 [==============================] - 0s 34ms/step\n",
      "Online training on instance 207\n",
      "1/1 - 0s - loss: 1.2491 - binary_accuracy: 0.3125 - 16ms/epoch - 16ms/step\n"
     ]
    },
    {
     "name": "stderr",
     "output_type": "stream",
     "text": [
      " 15%|█▍        | 208/1425 [00:43<04:44,  4.28it/s]"
     ]
    },
    {
     "name": "stdout",
     "output_type": "stream",
     "text": [
      "Inferencing on instance 208\n",
      "1/1 [==============================] - 0s 37ms/step\n",
      "Online training on instance 208\n",
      "1/1 - 0s - loss: 1.2652 - binary_accuracy: 0.2500 - 16ms/epoch - 16ms/step\n"
     ]
    },
    {
     "name": "stderr",
     "output_type": "stream",
     "text": [
      " 15%|█▍        | 209/1425 [00:43<04:35,  4.41it/s]"
     ]
    },
    {
     "name": "stdout",
     "output_type": "stream",
     "text": [
      "Inferencing on instance 209\n",
      "1/1 [==============================] - 0s 35ms/step\n",
      "Online training on instance 209\n",
      "1/1 - 0s - loss: 1.2560 - binary_accuracy: 0.1875 - 21ms/epoch - 21ms/step\n"
     ]
    },
    {
     "name": "stderr",
     "output_type": "stream",
     "text": [
      " 15%|█▍        | 210/1425 [00:43<04:31,  4.48it/s]"
     ]
    },
    {
     "name": "stdout",
     "output_type": "stream",
     "text": [
      "Inferencing on instance 210\n",
      "1/1 [==============================] - 0s 35ms/step\n",
      "Online training on instance 210\n",
      "1/1 - 0s - loss: 1.2772 - binary_accuracy: 0.1875 - 17ms/epoch - 17ms/step\n"
     ]
    },
    {
     "name": "stderr",
     "output_type": "stream",
     "text": [
      " 15%|█▍        | 211/1425 [00:43<04:31,  4.48it/s]"
     ]
    },
    {
     "name": "stdout",
     "output_type": "stream",
     "text": [
      "Inferencing on instance 211\n",
      "1/1 [==============================] - 0s 38ms/step\n",
      "Online training on instance 211\n",
      "1/1 - 0s - loss: 1.1577 - binary_accuracy: 0.1875 - 19ms/epoch - 19ms/step\n"
     ]
    },
    {
     "name": "stderr",
     "output_type": "stream",
     "text": [
      " 15%|█▍        | 212/1425 [00:44<04:31,  4.47it/s]"
     ]
    },
    {
     "name": "stdout",
     "output_type": "stream",
     "text": [
      "Inferencing on instance 212\n",
      "1/1 [==============================] - 0s 36ms/step\n",
      "Online training on instance 212\n",
      "1/1 - 0s - loss: 1.1875 - binary_accuracy: 0.1875 - 16ms/epoch - 16ms/step\n"
     ]
    },
    {
     "name": "stderr",
     "output_type": "stream",
     "text": [
      " 15%|█▍        | 213/1425 [00:44<04:40,  4.32it/s]"
     ]
    },
    {
     "name": "stdout",
     "output_type": "stream",
     "text": [
      "Inferencing on instance 213\n",
      "1/1 [==============================] - 0s 38ms/step\n",
      "Online training on instance 213\n",
      "1/1 - 0s - loss: 1.1159 - binary_accuracy: 0.1875 - 16ms/epoch - 16ms/step\n"
     ]
    },
    {
     "name": "stderr",
     "output_type": "stream",
     "text": [
      " 15%|█▌        | 214/1425 [00:44<04:40,  4.32it/s]"
     ]
    },
    {
     "name": "stdout",
     "output_type": "stream",
     "text": [
      "Inferencing on instance 214\n",
      "1/1 [==============================] - 0s 43ms/step\n",
      "Online training on instance 214\n",
      "1/1 - 0s - loss: 1.1421 - binary_accuracy: 0.1875 - 19ms/epoch - 19ms/step\n"
     ]
    },
    {
     "name": "stderr",
     "output_type": "stream",
     "text": [
      " 15%|█▌        | 215/1425 [00:44<04:43,  4.27it/s]"
     ]
    },
    {
     "name": "stdout",
     "output_type": "stream",
     "text": [
      "Inferencing on instance 215\n",
      "1/1 [==============================] - 0s 39ms/step\n",
      "Online training on instance 215\n",
      "1/1 - 0s - loss: 0.9899 - binary_accuracy: 0.2500 - 17ms/epoch - 17ms/step\n"
     ]
    },
    {
     "name": "stderr",
     "output_type": "stream",
     "text": [
      " 15%|█▌        | 216/1425 [00:45<04:34,  4.40it/s]"
     ]
    },
    {
     "name": "stdout",
     "output_type": "stream",
     "text": [
      "Inferencing on instance 216\n",
      "1/1 [==============================] - 0s 41ms/step\n",
      "Online training on instance 216\n",
      "1/1 - 0s - loss: 0.9737 - binary_accuracy: 0.2500 - 17ms/epoch - 17ms/step\n"
     ]
    },
    {
     "name": "stderr",
     "output_type": "stream",
     "text": [
      " 15%|█▌        | 217/1425 [00:45<04:30,  4.46it/s]"
     ]
    },
    {
     "name": "stdout",
     "output_type": "stream",
     "text": [
      "Inferencing on instance 217\n",
      "1/1 [==============================] - 0s 38ms/step\n",
      "Online training on instance 217\n",
      "1/1 - 0s - loss: 0.9016 - binary_accuracy: 0.3750 - 17ms/epoch - 17ms/step\n"
     ]
    },
    {
     "name": "stderr",
     "output_type": "stream",
     "text": [
      " 15%|█▌        | 218/1425 [00:45<04:37,  4.35it/s]"
     ]
    },
    {
     "name": "stdout",
     "output_type": "stream",
     "text": [
      "Inferencing on instance 218\n",
      "1/1 [==============================] - 0s 36ms/step\n",
      "Online training on instance 218\n",
      "1/1 - 0s - loss: 0.8367 - binary_accuracy: 0.3125 - 21ms/epoch - 21ms/step\n"
     ]
    },
    {
     "name": "stderr",
     "output_type": "stream",
     "text": [
      " 15%|█▌        | 219/1425 [00:45<04:37,  4.35it/s]"
     ]
    },
    {
     "name": "stdout",
     "output_type": "stream",
     "text": [
      "Inferencing on instance 219\n",
      "1/1 [==============================] - 0s 37ms/step\n",
      "Online training on instance 219\n",
      "1/1 - 0s - loss: 0.9218 - binary_accuracy: 0.3750 - 18ms/epoch - 18ms/step\n"
     ]
    },
    {
     "name": "stderr",
     "output_type": "stream",
     "text": [
      " 15%|█▌        | 220/1425 [00:45<04:33,  4.40it/s]"
     ]
    },
    {
     "name": "stdout",
     "output_type": "stream",
     "text": [
      "Inferencing on instance 220\n",
      "1/1 [==============================] - 0s 36ms/step\n",
      "Online training on instance 220\n",
      "1/1 - 0s - loss: 0.7771 - binary_accuracy: 0.6250 - 17ms/epoch - 17ms/step\n"
     ]
    },
    {
     "name": "stderr",
     "output_type": "stream",
     "text": [
      " 16%|█▌        | 221/1425 [00:46<04:26,  4.52it/s]"
     ]
    },
    {
     "name": "stdout",
     "output_type": "stream",
     "text": [
      "Inferencing on instance 221\n",
      "1/1 [==============================] - 0s 37ms/step\n",
      "Online training on instance 221\n",
      "1/1 - 0s - loss: 0.8443 - binary_accuracy: 0.5000 - 19ms/epoch - 19ms/step\n"
     ]
    },
    {
     "name": "stderr",
     "output_type": "stream",
     "text": [
      " 16%|█▌        | 222/1425 [00:46<04:22,  4.59it/s]"
     ]
    },
    {
     "name": "stdout",
     "output_type": "stream",
     "text": [
      "Inferencing on instance 222\n",
      "1/1 [==============================] - 0s 35ms/step\n",
      "Online training on instance 222\n",
      "1/1 - 0s - loss: 0.8134 - binary_accuracy: 0.6875 - 17ms/epoch - 17ms/step\n"
     ]
    },
    {
     "name": "stderr",
     "output_type": "stream",
     "text": [
      " 16%|█▌        | 223/1425 [00:46<04:20,  4.62it/s]"
     ]
    },
    {
     "name": "stdout",
     "output_type": "stream",
     "text": [
      "Inferencing on instance 223\n",
      "1/1 [==============================] - 0s 46ms/step\n",
      "Online training on instance 223\n",
      "1/1 - 0s - loss: 0.7803 - binary_accuracy: 0.6875 - 18ms/epoch - 18ms/step\n"
     ]
    },
    {
     "name": "stderr",
     "output_type": "stream",
     "text": [
      " 16%|█▌        | 224/1425 [00:46<04:34,  4.37it/s]"
     ]
    },
    {
     "name": "stdout",
     "output_type": "stream",
     "text": [
      "Inferencing on instance 224\n",
      "1/1 [==============================] - 0s 37ms/step\n",
      "Online training on instance 224\n",
      "1/1 - 0s - loss: 0.6946 - binary_accuracy: 0.7500 - 18ms/epoch - 18ms/step\n"
     ]
    },
    {
     "name": "stderr",
     "output_type": "stream",
     "text": [
      " 16%|█▌        | 225/1425 [00:47<04:31,  4.42it/s]"
     ]
    },
    {
     "name": "stdout",
     "output_type": "stream",
     "text": [
      "Inferencing on instance 225\n",
      "1/1 [==============================] - 0s 38ms/step\n",
      "Online training on instance 225\n",
      "1/1 - 0s - loss: 0.7944 - binary_accuracy: 0.7500 - 20ms/epoch - 20ms/step\n"
     ]
    },
    {
     "name": "stderr",
     "output_type": "stream",
     "text": [
      " 16%|█▌        | 226/1425 [00:47<04:34,  4.37it/s]"
     ]
    },
    {
     "name": "stdout",
     "output_type": "stream",
     "text": [
      "Inferencing on instance 226\n",
      "1/1 [==============================] - 0s 49ms/step\n",
      "Online training on instance 226\n",
      "1/1 - 0s - loss: 0.7355 - binary_accuracy: 0.8125 - 19ms/epoch - 19ms/step\n"
     ]
    },
    {
     "name": "stderr",
     "output_type": "stream",
     "text": [
      " 16%|█▌        | 227/1425 [00:47<04:50,  4.12it/s]"
     ]
    },
    {
     "name": "stdout",
     "output_type": "stream",
     "text": [
      "Inferencing on instance 227\n",
      "1/1 [==============================] - 0s 43ms/step\n",
      "Online training on instance 227\n",
      "1/1 - 0s - loss: 0.7251 - binary_accuracy: 0.8125 - 19ms/epoch - 19ms/step\n"
     ]
    },
    {
     "name": "stderr",
     "output_type": "stream",
     "text": [
      " 16%|█▌        | 228/1425 [00:47<04:47,  4.17it/s]"
     ]
    },
    {
     "name": "stdout",
     "output_type": "stream",
     "text": [
      "Inferencing on instance 228\n",
      "1/1 [==============================] - 0s 51ms/step\n",
      "Online training on instance 228\n",
      "1/1 - 0s - loss: 0.6593 - binary_accuracy: 0.8125 - 19ms/epoch - 19ms/step\n"
     ]
    },
    {
     "name": "stderr",
     "output_type": "stream",
     "text": [
      " 16%|█▌        | 229/1425 [00:48<05:26,  3.67it/s]"
     ]
    },
    {
     "name": "stdout",
     "output_type": "stream",
     "text": [
      "Inferencing on instance 229\n",
      "1/1 [==============================] - 0s 49ms/step\n",
      "Online training on instance 229\n",
      "1/1 - 0s - loss: 0.6943 - binary_accuracy: 0.8125 - 30ms/epoch - 30ms/step\n"
     ]
    },
    {
     "name": "stderr",
     "output_type": "stream",
     "text": [
      " 16%|█▌        | 230/1425 [00:48<05:41,  3.50it/s]"
     ]
    },
    {
     "name": "stdout",
     "output_type": "stream",
     "text": [
      "Inferencing on instance 230\n",
      "1/1 [==============================] - 0s 42ms/step\n",
      "Online training on instance 230\n",
      "1/1 - 0s - loss: 0.7188 - binary_accuracy: 0.8125 - 20ms/epoch - 20ms/step\n"
     ]
    },
    {
     "name": "stderr",
     "output_type": "stream",
     "text": [
      " 16%|█▌        | 231/1425 [00:48<05:30,  3.61it/s]"
     ]
    },
    {
     "name": "stdout",
     "output_type": "stream",
     "text": [
      "Inferencing on instance 231\n",
      "1/1 [==============================] - 0s 44ms/step\n",
      "Online training on instance 231\n",
      "1/1 - 0s - loss: 0.5971 - binary_accuracy: 0.8125 - 19ms/epoch - 19ms/step\n"
     ]
    },
    {
     "name": "stderr",
     "output_type": "stream",
     "text": [
      " 16%|█▋        | 232/1425 [00:48<05:18,  3.74it/s]"
     ]
    },
    {
     "name": "stdout",
     "output_type": "stream",
     "text": [
      "Inferencing on instance 232\n",
      "1/1 [==============================] - 0s 42ms/step\n",
      "Online training on instance 232\n",
      "1/1 - 0s - loss: 0.6459 - binary_accuracy: 0.8125 - 18ms/epoch - 18ms/step\n"
     ]
    },
    {
     "name": "stderr",
     "output_type": "stream",
     "text": [
      " 16%|█▋        | 233/1425 [00:49<05:17,  3.76it/s]"
     ]
    },
    {
     "name": "stdout",
     "output_type": "stream",
     "text": [
      "Inferencing on instance 233\n",
      "1/1 [==============================] - 0s 61ms/step\n",
      "Online training on instance 233\n",
      "1/1 - 0s - loss: 0.6114 - binary_accuracy: 0.8125 - 18ms/epoch - 18ms/step\n"
     ]
    },
    {
     "name": "stderr",
     "output_type": "stream",
     "text": [
      " 16%|█▋        | 234/1425 [00:49<05:21,  3.71it/s]"
     ]
    },
    {
     "name": "stdout",
     "output_type": "stream",
     "text": [
      "Inferencing on instance 234\n",
      "1/1 [==============================] - 0s 34ms/step\n",
      "Online training on instance 234\n",
      "1/1 - 0s - loss: 0.6240 - binary_accuracy: 0.8125 - 16ms/epoch - 16ms/step\n"
     ]
    },
    {
     "name": "stderr",
     "output_type": "stream",
     "text": [
      " 16%|█▋        | 235/1425 [00:49<05:02,  3.93it/s]"
     ]
    },
    {
     "name": "stdout",
     "output_type": "stream",
     "text": [
      "Inferencing on instance 235\n",
      "1/1 [==============================] - 0s 36ms/step\n",
      "Online training on instance 235\n",
      "1/1 - 0s - loss: 0.6111 - binary_accuracy: 0.7500 - 18ms/epoch - 18ms/step\n"
     ]
    },
    {
     "name": "stderr",
     "output_type": "stream",
     "text": [
      " 17%|█▋        | 236/1425 [00:49<04:48,  4.12it/s]"
     ]
    },
    {
     "name": "stdout",
     "output_type": "stream",
     "text": [
      "Inferencing on instance 236\n",
      "1/1 [==============================] - 0s 34ms/step\n",
      "Online training on instance 236\n",
      "1/1 - 0s - loss: 0.5369 - binary_accuracy: 0.7500 - 17ms/epoch - 17ms/step\n"
     ]
    },
    {
     "name": "stderr",
     "output_type": "stream",
     "text": [
      " 17%|█▋        | 237/1425 [00:50<04:37,  4.29it/s]"
     ]
    },
    {
     "name": "stdout",
     "output_type": "stream",
     "text": [
      "Inferencing on instance 237\n",
      "1/1 [==============================] - 0s 31ms/step\n",
      "Online training on instance 237\n",
      "1/1 - 0s - loss: 0.5480 - binary_accuracy: 0.8125 - 15ms/epoch - 15ms/step\n"
     ]
    },
    {
     "name": "stderr",
     "output_type": "stream",
     "text": [
      " 17%|█▋        | 238/1425 [00:50<04:26,  4.45it/s]"
     ]
    },
    {
     "name": "stdout",
     "output_type": "stream",
     "text": [
      "Inferencing on instance 238\n",
      "1/1 [==============================] - 0s 34ms/step\n",
      "Online training on instance 238\n",
      "1/1 - 0s - loss: 0.5125 - binary_accuracy: 0.8125 - 19ms/epoch - 19ms/step\n"
     ]
    },
    {
     "name": "stderr",
     "output_type": "stream",
     "text": [
      " 17%|█▋        | 239/1425 [00:50<04:33,  4.34it/s]"
     ]
    },
    {
     "name": "stdout",
     "output_type": "stream",
     "text": [
      "Inferencing on instance 239\n",
      "1/1 [==============================] - 0s 35ms/step\n",
      "Online training on instance 239\n",
      "1/1 - 0s - loss: 0.5520 - binary_accuracy: 0.8125 - 19ms/epoch - 19ms/step\n"
     ]
    },
    {
     "name": "stderr",
     "output_type": "stream",
     "text": [
      " 17%|█▋        | 240/1425 [00:50<04:29,  4.39it/s]"
     ]
    },
    {
     "name": "stdout",
     "output_type": "stream",
     "text": [
      "Inferencing on instance 240\n",
      "1/1 [==============================] - 0s 45ms/step\n",
      "Online training on instance 240\n",
      "1/1 - 0s - loss: 0.5773 - binary_accuracy: 0.8125 - 17ms/epoch - 17ms/step\n"
     ]
    },
    {
     "name": "stderr",
     "output_type": "stream",
     "text": [
      " 17%|█▋        | 241/1425 [00:51<04:30,  4.37it/s]"
     ]
    },
    {
     "name": "stdout",
     "output_type": "stream",
     "text": [
      "Inferencing on instance 241\n",
      "1/1 [==============================] - 0s 38ms/step\n",
      "Online training on instance 241\n",
      "1/1 - 0s - loss: 0.5155 - binary_accuracy: 0.7500 - 16ms/epoch - 16ms/step\n"
     ]
    },
    {
     "name": "stderr",
     "output_type": "stream",
     "text": [
      " 17%|█▋        | 242/1425 [00:51<04:25,  4.46it/s]"
     ]
    },
    {
     "name": "stdout",
     "output_type": "stream",
     "text": [
      "Inferencing on instance 242\n",
      "1/1 [==============================] - 0s 34ms/step\n",
      "Online training on instance 242\n",
      "1/1 - 0s - loss: 0.5075 - binary_accuracy: 0.6875 - 17ms/epoch - 17ms/step\n"
     ]
    },
    {
     "name": "stderr",
     "output_type": "stream",
     "text": [
      " 17%|█▋        | 243/1425 [00:51<04:24,  4.47it/s]"
     ]
    },
    {
     "name": "stdout",
     "output_type": "stream",
     "text": [
      "Inferencing on instance 243\n",
      "1/1 [==============================] - 0s 35ms/step\n",
      "Online training on instance 243\n",
      "1/1 - 0s - loss: 0.5446 - binary_accuracy: 0.8125 - 18ms/epoch - 18ms/step\n"
     ]
    },
    {
     "name": "stderr",
     "output_type": "stream",
     "text": [
      " 17%|█▋        | 244/1425 [00:51<04:24,  4.47it/s]"
     ]
    },
    {
     "name": "stdout",
     "output_type": "stream",
     "text": [
      "Inferencing on instance 244\n",
      "1/1 [==============================] - 0s 48ms/step\n",
      "Online training on instance 244\n",
      "1/1 - 0s - loss: 0.5042 - binary_accuracy: 0.8125 - 16ms/epoch - 16ms/step\n"
     ]
    },
    {
     "name": "stderr",
     "output_type": "stream",
     "text": [
      " 17%|█▋        | 245/1425 [00:51<04:37,  4.25it/s]"
     ]
    },
    {
     "name": "stdout",
     "output_type": "stream",
     "text": [
      "Inferencing on instance 245\n",
      "1/1 [==============================] - 0s 35ms/step\n",
      "Online training on instance 245\n",
      "1/1 - 0s - loss: 0.4753 - binary_accuracy: 0.8125 - 21ms/epoch - 21ms/step\n"
     ]
    },
    {
     "name": "stderr",
     "output_type": "stream",
     "text": [
      " 17%|█▋        | 246/1425 [00:52<04:32,  4.33it/s]"
     ]
    },
    {
     "name": "stdout",
     "output_type": "stream",
     "text": [
      "Inferencing on instance 246\n",
      "1/1 [==============================] - 0s 34ms/step\n",
      "Online training on instance 246\n",
      "1/1 - 0s - loss: 0.5033 - binary_accuracy: 0.7500 - 17ms/epoch - 17ms/step\n"
     ]
    },
    {
     "name": "stderr",
     "output_type": "stream",
     "text": [
      " 17%|█▋        | 247/1425 [00:52<04:27,  4.41it/s]"
     ]
    },
    {
     "name": "stdout",
     "output_type": "stream",
     "text": [
      "Inferencing on instance 247\n",
      "1/1 [==============================] - 0s 53ms/step\n",
      "Online training on instance 247\n",
      "1/1 - 0s - loss: 0.4530 - binary_accuracy: 0.8125 - 21ms/epoch - 21ms/step\n"
     ]
    },
    {
     "name": "stderr",
     "output_type": "stream",
     "text": [
      " 17%|█▋        | 248/1425 [00:52<04:41,  4.18it/s]"
     ]
    },
    {
     "name": "stdout",
     "output_type": "stream",
     "text": [
      "Inferencing on instance 248\n",
      "1/1 [==============================] - 0s 35ms/step\n",
      "Online training on instance 248\n",
      "1/1 - 0s - loss: 0.5000 - binary_accuracy: 0.7500 - 21ms/epoch - 21ms/step\n"
     ]
    },
    {
     "name": "stderr",
     "output_type": "stream",
     "text": [
      " 17%|█▋        | 249/1425 [00:52<04:39,  4.21it/s]"
     ]
    },
    {
     "name": "stdout",
     "output_type": "stream",
     "text": [
      "Inferencing on instance 249\n",
      "1/1 [==============================] - 0s 38ms/step\n",
      "Online training on instance 249\n",
      "1/1 - 0s - loss: 0.5169 - binary_accuracy: 0.8125 - 14ms/epoch - 14ms/step\n"
     ]
    },
    {
     "name": "stderr",
     "output_type": "stream",
     "text": [
      " 18%|█▊        | 250/1425 [00:53<04:39,  4.20it/s]"
     ]
    },
    {
     "name": "stdout",
     "output_type": "stream",
     "text": [
      "Inferencing on instance 250\n",
      "1/1 [==============================] - 0s 35ms/step\n",
      "Online training on instance 250\n",
      "1/1 - 0s - loss: 0.4470 - binary_accuracy: 0.7500 - 14ms/epoch - 14ms/step\n"
     ]
    },
    {
     "name": "stderr",
     "output_type": "stream",
     "text": [
      " 18%|█▊        | 251/1425 [00:53<04:23,  4.46it/s]"
     ]
    },
    {
     "name": "stdout",
     "output_type": "stream",
     "text": [
      "Inferencing on instance 251\n",
      "1/1 [==============================] - 0s 33ms/step\n",
      "Online training on instance 251\n",
      "1/1 - 0s - loss: 0.4733 - binary_accuracy: 0.7500 - 17ms/epoch - 17ms/step\n"
     ]
    },
    {
     "name": "stderr",
     "output_type": "stream",
     "text": [
      " 18%|█▊        | 252/1425 [00:53<04:04,  4.80it/s]"
     ]
    },
    {
     "name": "stdout",
     "output_type": "stream",
     "text": [
      "Inferencing on instance 252\n",
      "1/1 [==============================] - 0s 28ms/step\n",
      "Online training on instance 252\n",
      "1/1 - 0s - loss: 0.4833 - binary_accuracy: 0.6875 - 17ms/epoch - 17ms/step\n"
     ]
    },
    {
     "name": "stderr",
     "output_type": "stream",
     "text": [
      " 18%|█▊        | 253/1425 [00:53<03:50,  5.09it/s]"
     ]
    },
    {
     "name": "stdout",
     "output_type": "stream",
     "text": [
      "Inferencing on instance 253\n",
      "1/1 [==============================] - 0s 26ms/step\n",
      "Online training on instance 253\n",
      "1/1 - 0s - loss: 0.4731 - binary_accuracy: 0.6875 - 16ms/epoch - 16ms/step\n"
     ]
    },
    {
     "name": "stderr",
     "output_type": "stream",
     "text": [
      " 18%|█▊        | 254/1425 [00:53<03:38,  5.36it/s]"
     ]
    },
    {
     "name": "stdout",
     "output_type": "stream",
     "text": [
      "Inferencing on instance 254\n",
      "1/1 [==============================] - 0s 33ms/step\n",
      "Online training on instance 254\n",
      "1/1 - 0s - loss: 0.4405 - binary_accuracy: 0.7500 - 16ms/epoch - 16ms/step\n"
     ]
    },
    {
     "name": "stderr",
     "output_type": "stream",
     "text": [
      " 18%|█▊        | 255/1425 [00:54<03:32,  5.51it/s]"
     ]
    },
    {
     "name": "stdout",
     "output_type": "stream",
     "text": [
      "Inferencing on instance 255\n",
      "1/1 [==============================] - 0s 35ms/step\n",
      "Online training on instance 255\n",
      "1/1 - 0s - loss: 0.4026 - binary_accuracy: 0.8125 - 15ms/epoch - 15ms/step\n"
     ]
    },
    {
     "name": "stderr",
     "output_type": "stream",
     "text": [
      " 18%|█▊        | 256/1425 [00:54<03:41,  5.28it/s]"
     ]
    },
    {
     "name": "stdout",
     "output_type": "stream",
     "text": [
      "Inferencing on instance 256\n",
      "1/1 [==============================] - 0s 25ms/step\n",
      "Online training on instance 256\n",
      "1/1 - 0s - loss: 0.4978 - binary_accuracy: 0.6875 - 16ms/epoch - 16ms/step\n"
     ]
    },
    {
     "name": "stderr",
     "output_type": "stream",
     "text": [
      " 18%|█▊        | 257/1425 [00:54<03:32,  5.50it/s]"
     ]
    },
    {
     "name": "stdout",
     "output_type": "stream",
     "text": [
      "Inferencing on instance 257\n",
      "1/1 [==============================] - 0s 30ms/step\n",
      "Online training on instance 257\n",
      "1/1 - 0s - loss: 0.5272 - binary_accuracy: 0.6875 - 15ms/epoch - 15ms/step\n"
     ]
    },
    {
     "name": "stderr",
     "output_type": "stream",
     "text": [
      " 18%|█▊        | 258/1425 [00:54<03:27,  5.62it/s]"
     ]
    },
    {
     "name": "stdout",
     "output_type": "stream",
     "text": [
      "Inferencing on instance 258\n",
      "1/1 [==============================] - 0s 32ms/step\n",
      "Online training on instance 258\n",
      "1/1 - 0s - loss: 0.6271 - binary_accuracy: 0.6250 - 15ms/epoch - 15ms/step\n"
     ]
    },
    {
     "name": "stderr",
     "output_type": "stream",
     "text": [
      " 18%|█▊        | 259/1425 [00:54<03:23,  5.73it/s]"
     ]
    },
    {
     "name": "stdout",
     "output_type": "stream",
     "text": [
      "Inferencing on instance 259\n",
      "1/1 [==============================] - 0s 24ms/step\n",
      "Online training on instance 259\n",
      "1/1 - 0s - loss: 0.7823 - binary_accuracy: 0.6250 - 17ms/epoch - 17ms/step\n"
     ]
    },
    {
     "name": "stderr",
     "output_type": "stream",
     "text": [
      " 18%|█▊        | 260/1425 [00:54<03:22,  5.76it/s]"
     ]
    },
    {
     "name": "stdout",
     "output_type": "stream",
     "text": [
      "Inferencing on instance 260\n",
      "1/1 [==============================] - 0s 27ms/step\n",
      "Online training on instance 260\n",
      "1/1 - 0s - loss: 0.8438 - binary_accuracy: 0.5625 - 16ms/epoch - 16ms/step\n"
     ]
    },
    {
     "name": "stderr",
     "output_type": "stream",
     "text": [
      " 18%|█▊        | 261/1425 [00:55<03:19,  5.84it/s]"
     ]
    },
    {
     "name": "stdout",
     "output_type": "stream",
     "text": [
      "Inferencing on instance 261\n",
      "1/1 [==============================] - 0s 25ms/step\n",
      "Online training on instance 261\n",
      "1/1 - 0s - loss: 0.9444 - binary_accuracy: 0.5000 - 16ms/epoch - 16ms/step\n"
     ]
    },
    {
     "name": "stderr",
     "output_type": "stream",
     "text": [
      " 18%|█▊        | 262/1425 [00:55<03:15,  5.94it/s]"
     ]
    },
    {
     "name": "stdout",
     "output_type": "stream",
     "text": [
      "Inferencing on instance 262\n",
      "1/1 [==============================] - 0s 39ms/step\n",
      "Online training on instance 262\n",
      "1/1 - 0s - loss: 1.0445 - binary_accuracy: 0.5000 - 14ms/epoch - 14ms/step\n"
     ]
    },
    {
     "name": "stderr",
     "output_type": "stream",
     "text": [
      " 18%|█▊        | 263/1425 [00:55<03:28,  5.58it/s]"
     ]
    },
    {
     "name": "stdout",
     "output_type": "stream",
     "text": [
      "Inferencing on instance 263\n",
      "1/1 [==============================] - 0s 29ms/step\n",
      "Online training on instance 263\n",
      "1/1 - 0s - loss: 1.0817 - binary_accuracy: 0.5000 - 16ms/epoch - 16ms/step\n"
     ]
    },
    {
     "name": "stderr",
     "output_type": "stream",
     "text": [
      " 19%|█▊        | 264/1425 [00:55<03:32,  5.46it/s]"
     ]
    },
    {
     "name": "stdout",
     "output_type": "stream",
     "text": [
      "Inferencing on instance 264\n",
      "1/1 [==============================] - 0s 31ms/step\n",
      "Online training on instance 264\n",
      "1/1 - 0s - loss: 1.2165 - binary_accuracy: 0.3750 - 16ms/epoch - 16ms/step\n"
     ]
    },
    {
     "name": "stderr",
     "output_type": "stream",
     "text": [
      " 19%|█▊        | 265/1425 [00:55<03:29,  5.53it/s]"
     ]
    },
    {
     "name": "stdout",
     "output_type": "stream",
     "text": [
      "Inferencing on instance 265\n",
      "1/1 [==============================] - 0s 26ms/step\n",
      "Online training on instance 265\n",
      "1/1 - 0s - loss: 1.2492 - binary_accuracy: 0.3125 - 19ms/epoch - 19ms/step\n"
     ]
    },
    {
     "name": "stderr",
     "output_type": "stream",
     "text": [
      " 19%|█▊        | 266/1425 [00:55<03:29,  5.53it/s]"
     ]
    },
    {
     "name": "stdout",
     "output_type": "stream",
     "text": [
      "Inferencing on instance 266\n",
      "1/1 [==============================] - 0s 31ms/step\n",
      "Online training on instance 266\n",
      "1/1 - 0s - loss: 1.4400 - binary_accuracy: 0.1875 - 15ms/epoch - 15ms/step\n"
     ]
    },
    {
     "name": "stderr",
     "output_type": "stream",
     "text": [
      " 19%|█▊        | 267/1425 [00:56<03:30,  5.51it/s]"
     ]
    },
    {
     "name": "stdout",
     "output_type": "stream",
     "text": [
      "Inferencing on instance 267\n",
      "1/1 [==============================] - 0s 28ms/step\n",
      "Online training on instance 267\n",
      "1/1 - 0s - loss: 1.4384 - binary_accuracy: 0.1250 - 17ms/epoch - 17ms/step\n"
     ]
    },
    {
     "name": "stderr",
     "output_type": "stream",
     "text": [
      " 19%|█▉        | 268/1425 [00:56<03:29,  5.53it/s]"
     ]
    },
    {
     "name": "stdout",
     "output_type": "stream",
     "text": [
      "Inferencing on instance 268\n",
      "1/1 [==============================] - 0s 35ms/step\n",
      "Online training on instance 268\n",
      "1/1 - 0s - loss: 1.4284 - binary_accuracy: 0.1250 - 16ms/epoch - 16ms/step\n"
     ]
    },
    {
     "name": "stderr",
     "output_type": "stream",
     "text": [
      " 19%|█▉        | 269/1425 [00:56<03:40,  5.23it/s]"
     ]
    },
    {
     "name": "stdout",
     "output_type": "stream",
     "text": [
      "Inferencing on instance 269\n",
      "1/1 [==============================] - 0s 33ms/step\n",
      "Online training on instance 269\n",
      "1/1 - 0s - loss: 1.3162 - binary_accuracy: 0.1250 - 17ms/epoch - 17ms/step\n"
     ]
    },
    {
     "name": "stderr",
     "output_type": "stream",
     "text": [
      " 19%|█▉        | 270/1425 [00:56<03:34,  5.37it/s]"
     ]
    },
    {
     "name": "stdout",
     "output_type": "stream",
     "text": [
      "Inferencing on instance 270\n",
      "1/1 [==============================] - 0s 30ms/step\n",
      "Online training on instance 270\n",
      "1/1 - 0s - loss: 1.2477 - binary_accuracy: 0.1875 - 17ms/epoch - 17ms/step\n"
     ]
    },
    {
     "name": "stderr",
     "output_type": "stream",
     "text": [
      " 19%|█▉        | 271/1425 [00:56<03:28,  5.54it/s]"
     ]
    },
    {
     "name": "stdout",
     "output_type": "stream",
     "text": [
      "Inferencing on instance 271\n",
      "1/1 [==============================] - 0s 37ms/step\n",
      "Online training on instance 271\n",
      "1/1 - 0s - loss: 1.0926 - binary_accuracy: 0.2500 - 16ms/epoch - 16ms/step\n"
     ]
    },
    {
     "name": "stderr",
     "output_type": "stream",
     "text": [
      " 19%|█▉        | 272/1425 [00:57<03:31,  5.45it/s]"
     ]
    },
    {
     "name": "stdout",
     "output_type": "stream",
     "text": [
      "Inferencing on instance 272\n",
      "1/1 [==============================] - 0s 27ms/step\n",
      "Online training on instance 272\n",
      "1/1 - 0s - loss: 1.1221 - binary_accuracy: 0.3125 - 16ms/epoch - 16ms/step\n"
     ]
    },
    {
     "name": "stderr",
     "output_type": "stream",
     "text": [
      " 19%|█▉        | 273/1425 [00:57<03:25,  5.60it/s]"
     ]
    },
    {
     "name": "stdout",
     "output_type": "stream",
     "text": [
      "Inferencing on instance 273\n",
      "1/1 [==============================] - 0s 32ms/step\n",
      "Online training on instance 273\n",
      "1/1 - 0s - loss: 1.0375 - binary_accuracy: 0.3750 - 18ms/epoch - 18ms/step\n"
     ]
    },
    {
     "name": "stderr",
     "output_type": "stream",
     "text": [
      " 19%|█▉        | 274/1425 [00:57<03:27,  5.53it/s]"
     ]
    },
    {
     "name": "stdout",
     "output_type": "stream",
     "text": [
      "Inferencing on instance 274\n",
      "1/1 [==============================] - 0s 58ms/step\n",
      "Online training on instance 274\n",
      "1/1 - 0s - loss: 0.9427 - binary_accuracy: 0.4375 - 14ms/epoch - 14ms/step\n"
     ]
    },
    {
     "name": "stderr",
     "output_type": "stream",
     "text": [
      " 19%|█▉        | 275/1425 [00:57<03:40,  5.22it/s]"
     ]
    },
    {
     "name": "stdout",
     "output_type": "stream",
     "text": [
      "Inferencing on instance 275\n",
      "1/1 [==============================] - 0s 24ms/step\n",
      "Online training on instance 275\n",
      "1/1 - 0s - loss: 0.8965 - binary_accuracy: 0.5000 - 16ms/epoch - 16ms/step\n"
     ]
    },
    {
     "name": "stderr",
     "output_type": "stream",
     "text": [
      " 19%|█▉        | 276/1425 [00:57<03:31,  5.42it/s]"
     ]
    },
    {
     "name": "stdout",
     "output_type": "stream",
     "text": [
      "Inferencing on instance 276\n",
      "1/1 [==============================] - 0s 34ms/step\n",
      "Online training on instance 276\n",
      "1/1 - 0s - loss: 0.8439 - binary_accuracy: 0.5625 - 22ms/epoch - 22ms/step\n"
     ]
    },
    {
     "name": "stderr",
     "output_type": "stream",
     "text": [
      " 19%|█▉        | 277/1425 [00:58<03:39,  5.22it/s]"
     ]
    },
    {
     "name": "stdout",
     "output_type": "stream",
     "text": [
      "Inferencing on instance 277\n",
      "1/1 [==============================] - 0s 39ms/step\n",
      "Online training on instance 277\n",
      "1/1 - 0s - loss: 0.7916 - binary_accuracy: 0.6250 - 17ms/epoch - 17ms/step\n"
     ]
    },
    {
     "name": "stderr",
     "output_type": "stream",
     "text": [
      " 20%|█▉        | 278/1425 [00:58<03:47,  5.03it/s]"
     ]
    },
    {
     "name": "stdout",
     "output_type": "stream",
     "text": [
      "Inferencing on instance 278\n",
      "1/1 [==============================] - 0s 32ms/step\n",
      "Online training on instance 278\n",
      "1/1 - 0s - loss: 0.7133 - binary_accuracy: 0.6875 - 18ms/epoch - 18ms/step\n"
     ]
    },
    {
     "name": "stderr",
     "output_type": "stream",
     "text": [
      " 20%|█▉        | 279/1425 [00:58<03:55,  4.87it/s]"
     ]
    },
    {
     "name": "stdout",
     "output_type": "stream",
     "text": [
      "Inferencing on instance 279\n",
      "1/1 [==============================] - 0s 27ms/step\n",
      "Online training on instance 279\n",
      "1/1 - 0s - loss: 0.6705 - binary_accuracy: 0.8125 - 18ms/epoch - 18ms/step\n"
     ]
    },
    {
     "name": "stderr",
     "output_type": "stream",
     "text": [
      " 20%|█▉        | 280/1425 [00:58<03:49,  4.98it/s]"
     ]
    },
    {
     "name": "stdout",
     "output_type": "stream",
     "text": [
      "Inferencing on instance 280\n",
      "1/1 [==============================] - 0s 40ms/step\n",
      "Online training on instance 280\n",
      "1/1 - 0s - loss: 0.5349 - binary_accuracy: 0.8125 - 16ms/epoch - 16ms/step\n"
     ]
    },
    {
     "name": "stderr",
     "output_type": "stream",
     "text": [
      " 20%|█▉        | 281/1425 [00:58<03:56,  4.84it/s]"
     ]
    },
    {
     "name": "stdout",
     "output_type": "stream",
     "text": [
      "Inferencing on instance 281\n",
      "1/1 [==============================] - 0s 28ms/step\n",
      "Online training on instance 281\n",
      "1/1 - 0s - loss: 0.5462 - binary_accuracy: 0.8125 - 16ms/epoch - 16ms/step\n"
     ]
    },
    {
     "name": "stderr",
     "output_type": "stream",
     "text": [
      " 20%|█▉        | 282/1425 [00:59<03:51,  4.94it/s]"
     ]
    },
    {
     "name": "stdout",
     "output_type": "stream",
     "text": [
      "Inferencing on instance 282\n",
      "1/1 [==============================] - 0s 27ms/step\n",
      "Online training on instance 282\n",
      "1/1 - 0s - loss: 0.5250 - binary_accuracy: 0.8125 - 15ms/epoch - 15ms/step\n"
     ]
    },
    {
     "name": "stderr",
     "output_type": "stream",
     "text": [
      " 20%|█▉        | 283/1425 [00:59<03:42,  5.13it/s]"
     ]
    },
    {
     "name": "stdout",
     "output_type": "stream",
     "text": [
      "Inferencing on instance 283\n",
      "1/1 [==============================] - 0s 25ms/step\n",
      "Online training on instance 283\n",
      "1/1 - 0s - loss: 0.5630 - binary_accuracy: 0.8125 - 16ms/epoch - 16ms/step\n"
     ]
    },
    {
     "name": "stderr",
     "output_type": "stream",
     "text": [
      " 20%|█▉        | 284/1425 [00:59<03:32,  5.37it/s]"
     ]
    },
    {
     "name": "stdout",
     "output_type": "stream",
     "text": [
      "Inferencing on instance 284\n",
      "1/1 [==============================] - 0s 30ms/step\n",
      "Online training on instance 284\n",
      "1/1 - 0s - loss: 0.4976 - binary_accuracy: 0.9375 - 17ms/epoch - 17ms/step\n"
     ]
    },
    {
     "name": "stderr",
     "output_type": "stream",
     "text": [
      " 20%|██        | 285/1425 [00:59<03:27,  5.49it/s]"
     ]
    },
    {
     "name": "stdout",
     "output_type": "stream",
     "text": [
      "Inferencing on instance 285\n",
      "1/1 [==============================] - 0s 33ms/step\n",
      "Online training on instance 285\n",
      "1/1 - 0s - loss: 0.5119 - binary_accuracy: 0.8750 - 16ms/epoch - 16ms/step\n"
     ]
    },
    {
     "name": "stderr",
     "output_type": "stream",
     "text": [
      " 20%|██        | 286/1425 [00:59<03:27,  5.49it/s]"
     ]
    },
    {
     "name": "stdout",
     "output_type": "stream",
     "text": [
      "Inferencing on instance 286\n",
      "1/1 [==============================] - 0s 43ms/step\n",
      "Online training on instance 286\n",
      "1/1 - 0s - loss: 0.4700 - binary_accuracy: 1.0000 - 17ms/epoch - 17ms/step\n"
     ]
    },
    {
     "name": "stderr",
     "output_type": "stream",
     "text": [
      " 20%|██        | 287/1425 [00:59<03:41,  5.14it/s]"
     ]
    },
    {
     "name": "stdout",
     "output_type": "stream",
     "text": [
      "Inferencing on instance 287\n",
      "1/1 [==============================] - 0s 26ms/step\n",
      "Online training on instance 287\n",
      "1/1 - 0s - loss: 0.5474 - binary_accuracy: 0.8125 - 15ms/epoch - 15ms/step\n"
     ]
    },
    {
     "name": "stderr",
     "output_type": "stream",
     "text": [
      " 20%|██        | 288/1425 [01:00<03:33,  5.31it/s]"
     ]
    },
    {
     "name": "stdout",
     "output_type": "stream",
     "text": [
      "Inferencing on instance 288\n",
      "1/1 [==============================] - 0s 28ms/step\n",
      "Online training on instance 288\n",
      "1/1 - 0s - loss: 0.5846 - binary_accuracy: 0.7500 - 15ms/epoch - 15ms/step\n"
     ]
    },
    {
     "name": "stderr",
     "output_type": "stream",
     "text": [
      " 20%|██        | 289/1425 [01:00<03:29,  5.43it/s]"
     ]
    },
    {
     "name": "stdout",
     "output_type": "stream",
     "text": [
      "Inferencing on instance 289\n",
      "1/1 [==============================] - 0s 36ms/step\n",
      "Online training on instance 289\n",
      "1/1 - 0s - loss: 0.6356 - binary_accuracy: 0.7500 - 19ms/epoch - 19ms/step\n"
     ]
    },
    {
     "name": "stderr",
     "output_type": "stream",
     "text": [
      " 20%|██        | 290/1425 [01:00<03:36,  5.24it/s]"
     ]
    },
    {
     "name": "stdout",
     "output_type": "stream",
     "text": [
      "Inferencing on instance 290\n",
      "1/1 [==============================] - 0s 36ms/step\n",
      "Online training on instance 290\n",
      "1/1 - 0s - loss: 0.6371 - binary_accuracy: 0.7500 - 16ms/epoch - 16ms/step\n"
     ]
    },
    {
     "name": "stderr",
     "output_type": "stream",
     "text": [
      " 20%|██        | 291/1425 [01:00<03:37,  5.22it/s]"
     ]
    },
    {
     "name": "stdout",
     "output_type": "stream",
     "text": [
      "Inferencing on instance 291\n",
      "1/1 [==============================] - 0s 24ms/step\n",
      "Online training on instance 291\n",
      "1/1 - 0s - loss: 0.7162 - binary_accuracy: 0.6250 - 16ms/epoch - 16ms/step\n"
     ]
    },
    {
     "name": "stderr",
     "output_type": "stream",
     "text": [
      " 20%|██        | 292/1425 [01:00<03:30,  5.38it/s]"
     ]
    },
    {
     "name": "stdout",
     "output_type": "stream",
     "text": [
      "Inferencing on instance 292\n",
      "1/1 [==============================] - 0s 45ms/step\n",
      "Online training on instance 292\n",
      "1/1 - 0s - loss: 0.7695 - binary_accuracy: 0.5625 - 17ms/epoch - 17ms/step\n"
     ]
    },
    {
     "name": "stderr",
     "output_type": "stream",
     "text": [
      " 21%|██        | 293/1425 [01:01<03:50,  4.91it/s]"
     ]
    },
    {
     "name": "stdout",
     "output_type": "stream",
     "text": [
      "Inferencing on instance 293\n",
      "1/1 [==============================] - 0s 30ms/step\n",
      "Online training on instance 293\n",
      "1/1 - 0s - loss: 0.8602 - binary_accuracy: 0.4375 - 16ms/epoch - 16ms/step\n"
     ]
    },
    {
     "name": "stderr",
     "output_type": "stream",
     "text": [
      " 21%|██        | 294/1425 [01:01<03:46,  4.99it/s]"
     ]
    },
    {
     "name": "stdout",
     "output_type": "stream",
     "text": [
      "Inferencing on instance 294\n",
      "1/1 [==============================] - 0s 31ms/step\n",
      "Online training on instance 294\n",
      "1/1 - 0s - loss: 0.9475 - binary_accuracy: 0.4375 - 16ms/epoch - 16ms/step\n"
     ]
    },
    {
     "name": "stderr",
     "output_type": "stream",
     "text": [
      " 21%|██        | 295/1425 [01:01<03:41,  5.10it/s]"
     ]
    },
    {
     "name": "stdout",
     "output_type": "stream",
     "text": [
      "Inferencing on instance 295\n",
      "1/1 [==============================] - 0s 33ms/step\n",
      "Online training on instance 295\n",
      "1/1 - 0s - loss: 0.9874 - binary_accuracy: 0.3125 - 16ms/epoch - 16ms/step\n"
     ]
    },
    {
     "name": "stderr",
     "output_type": "stream",
     "text": [
      " 21%|██        | 296/1425 [01:01<03:38,  5.17it/s]"
     ]
    },
    {
     "name": "stdout",
     "output_type": "stream",
     "text": [
      "Inferencing on instance 296\n",
      "1/1 [==============================] - 0s 24ms/step\n",
      "Online training on instance 296\n",
      "1/1 - 0s - loss: 0.9820 - binary_accuracy: 0.3125 - 15ms/epoch - 15ms/step\n"
     ]
    },
    {
     "name": "stderr",
     "output_type": "stream",
     "text": [
      " 21%|██        | 297/1425 [01:01<03:29,  5.39it/s]"
     ]
    },
    {
     "name": "stdout",
     "output_type": "stream",
     "text": [
      "Inferencing on instance 297\n",
      "1/1 [==============================] - 0s 30ms/step\n",
      "Online training on instance 297\n",
      "1/1 - 0s - loss: 0.9432 - binary_accuracy: 0.3750 - 18ms/epoch - 18ms/step\n"
     ]
    },
    {
     "name": "stderr",
     "output_type": "stream",
     "text": [
      " 21%|██        | 298/1425 [01:02<03:29,  5.38it/s]"
     ]
    },
    {
     "name": "stdout",
     "output_type": "stream",
     "text": [
      "Inferencing on instance 298\n",
      "1/1 [==============================] - 0s 35ms/step\n",
      "Online training on instance 298\n",
      "1/1 - 0s - loss: 0.9329 - binary_accuracy: 0.3750 - 18ms/epoch - 18ms/step\n"
     ]
    },
    {
     "name": "stderr",
     "output_type": "stream",
     "text": [
      " 21%|██        | 299/1425 [01:02<03:48,  4.93it/s]"
     ]
    },
    {
     "name": "stdout",
     "output_type": "stream",
     "text": [
      "Inferencing on instance 299\n",
      "1/1 [==============================] - 0s 30ms/step\n",
      "Online training on instance 299\n",
      "1/1 - 0s - loss: 0.8605 - binary_accuracy: 0.4375 - 14ms/epoch - 14ms/step\n"
     ]
    },
    {
     "name": "stderr",
     "output_type": "stream",
     "text": [
      " 21%|██        | 300/1425 [01:02<03:37,  5.16it/s]"
     ]
    },
    {
     "name": "stdout",
     "output_type": "stream",
     "text": [
      "Inferencing on instance 300\n",
      "1/1 [==============================] - 0s 31ms/step\n",
      "Online training on instance 300\n",
      "1/1 - 0s - loss: 0.9166 - binary_accuracy: 0.3125 - 19ms/epoch - 19ms/step\n"
     ]
    },
    {
     "name": "stderr",
     "output_type": "stream",
     "text": [
      " 21%|██        | 301/1425 [01:02<03:39,  5.13it/s]"
     ]
    },
    {
     "name": "stdout",
     "output_type": "stream",
     "text": [
      "Inferencing on instance 301\n",
      "1/1 [==============================] - 0s 33ms/step\n",
      "Online training on instance 301\n",
      "1/1 - 0s - loss: 0.8201 - binary_accuracy: 0.4375 - 17ms/epoch - 17ms/step\n"
     ]
    },
    {
     "name": "stderr",
     "output_type": "stream",
     "text": [
      " 21%|██        | 302/1425 [01:02<03:45,  4.98it/s]"
     ]
    },
    {
     "name": "stdout",
     "output_type": "stream",
     "text": [
      "Inferencing on instance 302\n",
      "1/1 [==============================] - 0s 31ms/step\n",
      "Online training on instance 302\n",
      "1/1 - 0s - loss: 0.8372 - binary_accuracy: 0.4375 - 17ms/epoch - 17ms/step\n"
     ]
    },
    {
     "name": "stderr",
     "output_type": "stream",
     "text": [
      " 21%|██▏       | 303/1425 [01:03<03:43,  5.02it/s]"
     ]
    },
    {
     "name": "stdout",
     "output_type": "stream",
     "text": [
      "Inferencing on instance 303\n",
      "1/1 [==============================] - 0s 27ms/step\n",
      "Online training on instance 303\n",
      "1/1 - 0s - loss: 0.7575 - binary_accuracy: 0.5625 - 16ms/epoch - 16ms/step\n"
     ]
    },
    {
     "name": "stderr",
     "output_type": "stream",
     "text": [
      " 21%|██▏       | 304/1425 [01:03<03:34,  5.23it/s]"
     ]
    },
    {
     "name": "stdout",
     "output_type": "stream",
     "text": [
      "Inferencing on instance 304\n",
      "1/1 [==============================] - 0s 44ms/step\n",
      "Online training on instance 304\n",
      "1/1 - 0s - loss: 0.6871 - binary_accuracy: 0.5625 - 16ms/epoch - 16ms/step\n"
     ]
    },
    {
     "name": "stderr",
     "output_type": "stream",
     "text": [
      " 21%|██▏       | 305/1425 [01:03<03:53,  4.80it/s]"
     ]
    },
    {
     "name": "stdout",
     "output_type": "stream",
     "text": [
      "Inferencing on instance 305\n",
      "1/1 [==============================] - 0s 31ms/step\n",
      "Online training on instance 305\n",
      "1/1 - 0s - loss: 0.6987 - binary_accuracy: 0.6875 - 15ms/epoch - 15ms/step\n"
     ]
    },
    {
     "name": "stderr",
     "output_type": "stream",
     "text": [
      " 21%|██▏       | 306/1425 [01:03<03:44,  4.97it/s]"
     ]
    },
    {
     "name": "stdout",
     "output_type": "stream",
     "text": [
      "Inferencing on instance 306\n",
      "1/1 [==============================] - 0s 36ms/step\n",
      "Online training on instance 306\n",
      "1/1 - 0s - loss: 0.6337 - binary_accuracy: 0.6875 - 16ms/epoch - 16ms/step\n"
     ]
    },
    {
     "name": "stderr",
     "output_type": "stream",
     "text": [
      " 22%|██▏       | 307/1425 [01:03<03:35,  5.19it/s]"
     ]
    },
    {
     "name": "stdout",
     "output_type": "stream",
     "text": [
      "Inferencing on instance 307\n",
      "1/1 [==============================] - 0s 30ms/step\n",
      "Online training on instance 307\n",
      "1/1 - 0s - loss: 0.6001 - binary_accuracy: 0.8750 - 19ms/epoch - 19ms/step\n"
     ]
    },
    {
     "name": "stderr",
     "output_type": "stream",
     "text": [
      " 22%|██▏       | 308/1425 [01:04<03:36,  5.16it/s]"
     ]
    },
    {
     "name": "stdout",
     "output_type": "stream",
     "text": [
      "Inferencing on instance 308\n",
      "1/1 [==============================] - 0s 33ms/step\n",
      "Online training on instance 308\n",
      "1/1 - 0s - loss: 0.5479 - binary_accuracy: 0.9375 - 18ms/epoch - 18ms/step\n"
     ]
    },
    {
     "name": "stderr",
     "output_type": "stream",
     "text": [
      " 22%|██▏       | 309/1425 [01:04<03:36,  5.14it/s]"
     ]
    },
    {
     "name": "stdout",
     "output_type": "stream",
     "text": [
      "Inferencing on instance 309\n",
      "1/1 [==============================] - 0s 35ms/step\n",
      "Online training on instance 309\n",
      "1/1 - 0s - loss: 0.5147 - binary_accuracy: 1.0000 - 15ms/epoch - 15ms/step\n"
     ]
    },
    {
     "name": "stderr",
     "output_type": "stream",
     "text": [
      " 22%|██▏       | 310/1425 [01:04<03:34,  5.20it/s]"
     ]
    },
    {
     "name": "stdout",
     "output_type": "stream",
     "text": [
      "Inferencing on instance 310\n",
      "1/1 [==============================] - 0s 56ms/step\n",
      "Online training on instance 310\n",
      "1/1 - 0s - loss: 0.4594 - binary_accuracy: 1.0000 - 16ms/epoch - 16ms/step\n"
     ]
    },
    {
     "name": "stderr",
     "output_type": "stream",
     "text": [
      " 22%|██▏       | 311/1425 [01:04<03:38,  5.09it/s]"
     ]
    },
    {
     "name": "stdout",
     "output_type": "stream",
     "text": [
      "Inferencing on instance 311\n",
      "1/1 [==============================] - 0s 25ms/step\n",
      "Online training on instance 311\n",
      "1/1 - 0s - loss: 0.5382 - binary_accuracy: 0.9375 - 15ms/epoch - 15ms/step\n"
     ]
    },
    {
     "name": "stderr",
     "output_type": "stream",
     "text": [
      " 22%|██▏       | 312/1425 [01:04<03:28,  5.35it/s]"
     ]
    },
    {
     "name": "stdout",
     "output_type": "stream",
     "text": [
      "Inferencing on instance 312\n",
      "1/1 [==============================] - 0s 25ms/step\n",
      "Online training on instance 312\n",
      "1/1 - 0s - loss: 0.5085 - binary_accuracy: 1.0000 - 16ms/epoch - 16ms/step\n"
     ]
    },
    {
     "name": "stderr",
     "output_type": "stream",
     "text": [
      " 22%|██▏       | 313/1425 [01:04<03:22,  5.50it/s]"
     ]
    },
    {
     "name": "stdout",
     "output_type": "stream",
     "text": [
      "Inferencing on instance 313\n",
      "1/1 [==============================] - 0s 30ms/step\n",
      "Online training on instance 313\n",
      "1/1 - 0s - loss: 0.4763 - binary_accuracy: 1.0000 - 15ms/epoch - 15ms/step\n"
     ]
    },
    {
     "name": "stderr",
     "output_type": "stream",
     "text": [
      " 22%|██▏       | 314/1425 [01:05<03:18,  5.59it/s]"
     ]
    },
    {
     "name": "stdout",
     "output_type": "stream",
     "text": [
      "Inferencing on instance 314\n",
      "1/1 [==============================] - 0s 36ms/step\n",
      "Online training on instance 314\n",
      "1/1 - 0s - loss: 0.5498 - binary_accuracy: 0.8750 - 17ms/epoch - 17ms/step\n"
     ]
    },
    {
     "name": "stderr",
     "output_type": "stream",
     "text": [
      " 22%|██▏       | 315/1425 [01:05<03:24,  5.43it/s]"
     ]
    },
    {
     "name": "stdout",
     "output_type": "stream",
     "text": [
      "Inferencing on instance 315\n",
      "1/1 [==============================] - 0s 32ms/step\n",
      "Online training on instance 315\n",
      "1/1 - 0s - loss: 0.4934 - binary_accuracy: 1.0000 - 18ms/epoch - 18ms/step\n"
     ]
    },
    {
     "name": "stderr",
     "output_type": "stream",
     "text": [
      " 22%|██▏       | 316/1425 [01:05<03:32,  5.22it/s]"
     ]
    },
    {
     "name": "stdout",
     "output_type": "stream",
     "text": [
      "Inferencing on instance 316\n",
      "1/1 [==============================] - 0s 47ms/step\n",
      "Online training on instance 316\n",
      "1/1 - 0s - loss: 0.4913 - binary_accuracy: 0.8750 - 19ms/epoch - 19ms/step\n"
     ]
    },
    {
     "name": "stderr",
     "output_type": "stream",
     "text": [
      " 22%|██▏       | 317/1425 [01:05<03:58,  4.65it/s]"
     ]
    },
    {
     "name": "stdout",
     "output_type": "stream",
     "text": [
      "Inferencing on instance 317\n",
      "1/1 [==============================] - 0s 28ms/step\n",
      "Online training on instance 317\n",
      "1/1 - 0s - loss: 0.5159 - binary_accuracy: 0.7500 - 16ms/epoch - 16ms/step\n"
     ]
    },
    {
     "name": "stderr",
     "output_type": "stream",
     "text": [
      " 22%|██▏       | 318/1425 [01:06<03:46,  4.90it/s]"
     ]
    },
    {
     "name": "stdout",
     "output_type": "stream",
     "text": [
      "Inferencing on instance 318\n",
      "1/1 [==============================] - 0s 28ms/step\n",
      "Online training on instance 318\n",
      "1/1 - 0s - loss: 0.4933 - binary_accuracy: 0.9375 - 16ms/epoch - 16ms/step\n"
     ]
    },
    {
     "name": "stderr",
     "output_type": "stream",
     "text": [
      " 22%|██▏       | 319/1425 [01:06<03:43,  4.94it/s]"
     ]
    },
    {
     "name": "stdout",
     "output_type": "stream",
     "text": [
      "Inferencing on instance 319\n",
      "1/1 [==============================] - 0s 25ms/step\n",
      "Online training on instance 319\n",
      "1/1 - 0s - loss: 0.4694 - binary_accuracy: 0.8125 - 16ms/epoch - 16ms/step\n"
     ]
    },
    {
     "name": "stderr",
     "output_type": "stream",
     "text": [
      " 22%|██▏       | 320/1425 [01:06<03:35,  5.14it/s]"
     ]
    },
    {
     "name": "stdout",
     "output_type": "stream",
     "text": [
      "Inferencing on instance 320\n",
      "1/1 [==============================] - 0s 32ms/step\n",
      "Online training on instance 320\n",
      "1/1 - 0s - loss: 0.4778 - binary_accuracy: 0.9375 - 15ms/epoch - 15ms/step\n"
     ]
    },
    {
     "name": "stderr",
     "output_type": "stream",
     "text": [
      " 23%|██▎       | 321/1425 [01:06<03:37,  5.07it/s]"
     ]
    },
    {
     "name": "stdout",
     "output_type": "stream",
     "text": [
      "Inferencing on instance 321\n",
      "1/1 [==============================] - 0s 37ms/step\n",
      "Online training on instance 321\n",
      "1/1 - 0s - loss: 0.4463 - binary_accuracy: 0.9375 - 18ms/epoch - 18ms/step\n"
     ]
    },
    {
     "name": "stderr",
     "output_type": "stream",
     "text": [
      " 23%|██▎       | 322/1425 [01:06<03:43,  4.93it/s]"
     ]
    },
    {
     "name": "stdout",
     "output_type": "stream",
     "text": [
      "Inferencing on instance 322\n",
      "1/1 [==============================] - 0s 38ms/step\n",
      "Online training on instance 322\n",
      "1/1 - 0s - loss: 0.4315 - binary_accuracy: 0.9375 - 17ms/epoch - 17ms/step\n"
     ]
    },
    {
     "name": "stderr",
     "output_type": "stream",
     "text": [
      " 23%|██▎       | 323/1425 [01:07<04:03,  4.52it/s]"
     ]
    },
    {
     "name": "stdout",
     "output_type": "stream",
     "text": [
      "Inferencing on instance 323\n",
      "1/1 [==============================] - 0s 30ms/step\n",
      "Online training on instance 323\n",
      "1/1 - 0s - loss: 0.4666 - binary_accuracy: 0.9375 - 17ms/epoch - 17ms/step\n"
     ]
    },
    {
     "name": "stderr",
     "output_type": "stream",
     "text": [
      " 23%|██▎       | 324/1425 [01:07<03:54,  4.69it/s]"
     ]
    },
    {
     "name": "stdout",
     "output_type": "stream",
     "text": [
      "Inferencing on instance 324\n",
      "1/1 [==============================] - 0s 25ms/step\n",
      "Online training on instance 324\n",
      "1/1 - 0s - loss: 0.4423 - binary_accuracy: 0.8750 - 15ms/epoch - 15ms/step\n"
     ]
    },
    {
     "name": "stderr",
     "output_type": "stream",
     "text": [
      " 23%|██▎       | 325/1425 [01:07<03:37,  5.05it/s]"
     ]
    },
    {
     "name": "stdout",
     "output_type": "stream",
     "text": [
      "Inferencing on instance 325\n",
      "1/1 [==============================] - 0s 28ms/step\n",
      "Online training on instance 325\n",
      "1/1 - 0s - loss: 0.4540 - binary_accuracy: 0.8750 - 19ms/epoch - 19ms/step\n"
     ]
    },
    {
     "name": "stderr",
     "output_type": "stream",
     "text": [
      " 23%|██▎       | 326/1425 [01:07<03:31,  5.20it/s]"
     ]
    },
    {
     "name": "stdout",
     "output_type": "stream",
     "text": [
      "Inferencing on instance 326\n",
      "1/1 [==============================] - 0s 28ms/step\n",
      "Online training on instance 326\n",
      "1/1 - 0s - loss: 0.4413 - binary_accuracy: 0.8750 - 16ms/epoch - 16ms/step\n"
     ]
    },
    {
     "name": "stderr",
     "output_type": "stream",
     "text": [
      " 23%|██▎       | 327/1425 [01:07<03:27,  5.29it/s]"
     ]
    },
    {
     "name": "stdout",
     "output_type": "stream",
     "text": [
      "Inferencing on instance 327\n",
      "1/1 [==============================] - 0s 25ms/step\n",
      "Online training on instance 327\n",
      "1/1 - 0s - loss: 0.4421 - binary_accuracy: 0.8750 - 15ms/epoch - 15ms/step\n"
     ]
    },
    {
     "name": "stderr",
     "output_type": "stream",
     "text": [
      " 23%|██▎       | 328/1425 [01:07<03:21,  5.45it/s]"
     ]
    },
    {
     "name": "stdout",
     "output_type": "stream",
     "text": [
      "Inferencing on instance 328\n",
      "1/1 [==============================] - 0s 30ms/step\n",
      "Online training on instance 328\n",
      "1/1 - 0s - loss: 0.4397 - binary_accuracy: 0.8125 - 16ms/epoch - 16ms/step\n"
     ]
    },
    {
     "name": "stderr",
     "output_type": "stream",
     "text": [
      " 23%|██▎       | 329/1425 [01:08<03:14,  5.64it/s]"
     ]
    },
    {
     "name": "stdout",
     "output_type": "stream",
     "text": [
      "Inferencing on instance 329\n",
      "1/1 [==============================] - 0s 34ms/step\n",
      "Online training on instance 329\n",
      "1/1 - 0s - loss: 0.4148 - binary_accuracy: 0.8750 - 21ms/epoch - 21ms/step\n"
     ]
    },
    {
     "name": "stderr",
     "output_type": "stream",
     "text": [
      " 23%|██▎       | 330/1425 [01:08<03:20,  5.45it/s]"
     ]
    },
    {
     "name": "stdout",
     "output_type": "stream",
     "text": [
      "Inferencing on instance 330\n",
      "1/1 [==============================] - 0s 25ms/step\n",
      "Online training on instance 330\n",
      "1/1 - 0s - loss: 0.4061 - binary_accuracy: 0.8750 - 15ms/epoch - 15ms/step\n"
     ]
    },
    {
     "name": "stderr",
     "output_type": "stream",
     "text": [
      " 23%|██▎       | 331/1425 [01:08<03:16,  5.58it/s]"
     ]
    },
    {
     "name": "stdout",
     "output_type": "stream",
     "text": [
      "Inferencing on instance 331\n",
      "1/1 [==============================] - 0s 27ms/step\n",
      "Online training on instance 331\n",
      "1/1 - 0s - loss: 0.3955 - binary_accuracy: 0.8750 - 15ms/epoch - 15ms/step\n"
     ]
    },
    {
     "name": "stderr",
     "output_type": "stream",
     "text": [
      " 23%|██▎       | 332/1425 [01:08<03:12,  5.69it/s]"
     ]
    },
    {
     "name": "stdout",
     "output_type": "stream",
     "text": [
      "Inferencing on instance 332\n",
      "1/1 [==============================] - 0s 27ms/step\n",
      "Online training on instance 332\n",
      "1/1 - 0s - loss: 0.3761 - binary_accuracy: 0.9375 - 16ms/epoch - 16ms/step\n"
     ]
    },
    {
     "name": "stderr",
     "output_type": "stream",
     "text": [
      " 23%|██▎       | 333/1425 [01:08<03:06,  5.86it/s]"
     ]
    },
    {
     "name": "stdout",
     "output_type": "stream",
     "text": [
      "Inferencing on instance 333\n",
      "1/1 [==============================] - 0s 27ms/step\n",
      "Online training on instance 333\n",
      "1/1 - 0s - loss: 0.3850 - binary_accuracy: 0.8750 - 15ms/epoch - 15ms/step\n"
     ]
    },
    {
     "name": "stderr",
     "output_type": "stream",
     "text": [
      " 23%|██▎       | 334/1425 [01:08<03:04,  5.91it/s]"
     ]
    },
    {
     "name": "stdout",
     "output_type": "stream",
     "text": [
      "Inferencing on instance 334\n",
      "1/1 [==============================] - 0s 36ms/step\n",
      "Online training on instance 334\n",
      "1/1 - 0s - loss: 0.3570 - binary_accuracy: 0.9375 - 17ms/epoch - 17ms/step\n"
     ]
    },
    {
     "name": "stderr",
     "output_type": "stream",
     "text": [
      " 24%|██▎       | 335/1425 [01:09<03:09,  5.75it/s]"
     ]
    },
    {
     "name": "stdout",
     "output_type": "stream",
     "text": [
      "Inferencing on instance 335\n",
      "1/1 [==============================] - 0s 33ms/step\n",
      "Online training on instance 335\n",
      "1/1 - 0s - loss: 0.3725 - binary_accuracy: 0.9375 - 16ms/epoch - 16ms/step\n"
     ]
    },
    {
     "name": "stderr",
     "output_type": "stream",
     "text": [
      " 24%|██▎       | 336/1425 [01:09<03:16,  5.55it/s]"
     ]
    },
    {
     "name": "stdout",
     "output_type": "stream",
     "text": [
      "Inferencing on instance 336\n",
      "1/1 [==============================] - 0s 26ms/step\n",
      "Online training on instance 336\n",
      "1/1 - 0s - loss: 0.3677 - binary_accuracy: 0.8750 - 16ms/epoch - 16ms/step\n"
     ]
    },
    {
     "name": "stderr",
     "output_type": "stream",
     "text": [
      " 24%|██▎       | 337/1425 [01:09<03:13,  5.61it/s]"
     ]
    },
    {
     "name": "stdout",
     "output_type": "stream",
     "text": [
      "Inferencing on instance 337\n",
      "1/1 [==============================] - 0s 41ms/step\n",
      "Online training on instance 337\n",
      "1/1 - 0s - loss: 0.3386 - binary_accuracy: 0.9375 - 17ms/epoch - 17ms/step\n"
     ]
    },
    {
     "name": "stderr",
     "output_type": "stream",
     "text": [
      " 24%|██▎       | 338/1425 [01:09<03:27,  5.23it/s]"
     ]
    },
    {
     "name": "stdout",
     "output_type": "stream",
     "text": [
      "Inferencing on instance 338\n",
      "1/1 [==============================] - 0s 34ms/step\n",
      "Online training on instance 338\n",
      "1/1 - 0s - loss: 0.4235 - binary_accuracy: 0.8125 - 18ms/epoch - 18ms/step\n"
     ]
    },
    {
     "name": "stderr",
     "output_type": "stream",
     "text": [
      " 24%|██▍       | 339/1425 [01:09<03:26,  5.25it/s]"
     ]
    },
    {
     "name": "stdout",
     "output_type": "stream",
     "text": [
      "Inferencing on instance 339\n",
      "1/1 [==============================] - 0s 33ms/step\n",
      "Online training on instance 339\n",
      "1/1 - 0s - loss: 0.4372 - binary_accuracy: 0.8125 - 15ms/epoch - 15ms/step\n"
     ]
    },
    {
     "name": "stderr",
     "output_type": "stream",
     "text": [
      " 24%|██▍       | 340/1425 [01:10<03:24,  5.30it/s]"
     ]
    },
    {
     "name": "stdout",
     "output_type": "stream",
     "text": [
      "Inferencing on instance 340\n",
      "1/1 [==============================] - 0s 31ms/step\n",
      "Online training on instance 340\n",
      "1/1 - 0s - loss: 0.5592 - binary_accuracy: 0.6875 - 19ms/epoch - 19ms/step\n"
     ]
    },
    {
     "name": "stderr",
     "output_type": "stream",
     "text": [
      " 24%|██▍       | 341/1425 [01:10<03:23,  5.33it/s]"
     ]
    },
    {
     "name": "stdout",
     "output_type": "stream",
     "text": [
      "Inferencing on instance 341\n",
      "1/1 [==============================] - 0s 25ms/step\n",
      "Online training on instance 341\n",
      "1/1 - 0s - loss: 0.6114 - binary_accuracy: 0.6875 - 17ms/epoch - 17ms/step\n"
     ]
    },
    {
     "name": "stderr",
     "output_type": "stream",
     "text": [
      " 24%|██▍       | 342/1425 [01:10<03:18,  5.45it/s]"
     ]
    },
    {
     "name": "stdout",
     "output_type": "stream",
     "text": [
      "Inferencing on instance 342\n",
      "1/1 [==============================] - 0s 42ms/step\n",
      "Online training on instance 342\n",
      "1/1 - 0s - loss: 0.7113 - binary_accuracy: 0.5625 - 20ms/epoch - 20ms/step\n"
     ]
    },
    {
     "name": "stderr",
     "output_type": "stream",
     "text": [
      " 24%|██▍       | 343/1425 [01:10<03:33,  5.07it/s]"
     ]
    },
    {
     "name": "stdout",
     "output_type": "stream",
     "text": [
      "Inferencing on instance 343\n",
      "1/1 [==============================] - 0s 34ms/step\n",
      "Online training on instance 343\n",
      "1/1 - 0s - loss: 0.8177 - binary_accuracy: 0.5625 - 18ms/epoch - 18ms/step\n"
     ]
    },
    {
     "name": "stderr",
     "output_type": "stream",
     "text": [
      " 24%|██▍       | 344/1425 [01:10<03:40,  4.91it/s]"
     ]
    },
    {
     "name": "stdout",
     "output_type": "stream",
     "text": [
      "Inferencing on instance 344\n",
      "1/1 [==============================] - 0s 46ms/step\n",
      "Online training on instance 344\n",
      "1/1 - 0s - loss: 0.8895 - binary_accuracy: 0.5625 - 16ms/epoch - 16ms/step\n"
     ]
    },
    {
     "name": "stderr",
     "output_type": "stream",
     "text": [
      " 24%|██▍       | 345/1425 [01:11<03:51,  4.67it/s]"
     ]
    },
    {
     "name": "stdout",
     "output_type": "stream",
     "text": [
      "Inferencing on instance 345\n",
      "1/1 [==============================] - 0s 29ms/step\n",
      "Online training on instance 345\n",
      "1/1 - 0s - loss: 1.0220 - binary_accuracy: 0.5625 - 20ms/epoch - 20ms/step\n"
     ]
    },
    {
     "name": "stderr",
     "output_type": "stream",
     "text": [
      " 24%|██▍       | 346/1425 [01:11<03:48,  4.73it/s]"
     ]
    },
    {
     "name": "stdout",
     "output_type": "stream",
     "text": [
      "Inferencing on instance 346\n",
      "1/1 [==============================] - 0s 32ms/step\n",
      "Online training on instance 346\n",
      "1/1 - 0s - loss: 1.1082 - binary_accuracy: 0.5000 - 16ms/epoch - 16ms/step\n"
     ]
    },
    {
     "name": "stderr",
     "output_type": "stream",
     "text": [
      " 24%|██▍       | 347/1425 [01:11<03:43,  4.82it/s]"
     ]
    },
    {
     "name": "stdout",
     "output_type": "stream",
     "text": [
      "Inferencing on instance 347\n",
      "1/1 [==============================] - 0s 37ms/step\n",
      "Online training on instance 347\n",
      "1/1 - 0s - loss: 1.1581 - binary_accuracy: 0.3750 - 16ms/epoch - 16ms/step\n"
     ]
    },
    {
     "name": "stderr",
     "output_type": "stream",
     "text": [
      " 24%|██▍       | 348/1425 [01:11<03:43,  4.83it/s]"
     ]
    },
    {
     "name": "stdout",
     "output_type": "stream",
     "text": [
      "Inferencing on instance 348\n",
      "1/1 [==============================] - 0s 30ms/step\n",
      "Online training on instance 348\n",
      "1/1 - 0s - loss: 1.2581 - binary_accuracy: 0.3125 - 16ms/epoch - 16ms/step\n"
     ]
    },
    {
     "name": "stderr",
     "output_type": "stream",
     "text": [
      " 24%|██▍       | 349/1425 [01:11<03:36,  4.96it/s]"
     ]
    },
    {
     "name": "stdout",
     "output_type": "stream",
     "text": [
      "Inferencing on instance 349\n",
      "1/1 [==============================] - 0s 31ms/step\n",
      "Online training on instance 349\n",
      "1/1 - 0s - loss: 1.3066 - binary_accuracy: 0.2500 - 16ms/epoch - 16ms/step\n"
     ]
    },
    {
     "name": "stderr",
     "output_type": "stream",
     "text": [
      " 25%|██▍       | 350/1425 [01:12<03:33,  5.05it/s]"
     ]
    },
    {
     "name": "stdout",
     "output_type": "stream",
     "text": [
      "Inferencing on instance 350\n",
      "1/1 [==============================] - 0s 21ms/step\n",
      "Online training on instance 350\n",
      "1/1 - 0s - loss: 1.3511 - binary_accuracy: 0.2500 - 18ms/epoch - 18ms/step\n"
     ]
    },
    {
     "name": "stderr",
     "output_type": "stream",
     "text": [
      " 25%|██▍       | 351/1425 [01:12<03:36,  4.95it/s]"
     ]
    },
    {
     "name": "stdout",
     "output_type": "stream",
     "text": [
      "Inferencing on instance 351\n",
      "1/1 [==============================] - 0s 29ms/step\n",
      "Online training on instance 351\n",
      "1/1 - 0s - loss: 1.3117 - binary_accuracy: 0.2500 - 15ms/epoch - 15ms/step\n"
     ]
    },
    {
     "name": "stderr",
     "output_type": "stream",
     "text": [
      " 25%|██▍       | 352/1425 [01:12<03:29,  5.11it/s]"
     ]
    },
    {
     "name": "stdout",
     "output_type": "stream",
     "text": [
      "Inferencing on instance 352\n",
      "1/1 [==============================] - 0s 36ms/step\n",
      "Online training on instance 352\n",
      "1/1 - 0s - loss: 1.3463 - binary_accuracy: 0.1875 - 19ms/epoch - 19ms/step\n"
     ]
    },
    {
     "name": "stderr",
     "output_type": "stream",
     "text": [
      " 25%|██▍       | 353/1425 [01:12<03:31,  5.06it/s]"
     ]
    },
    {
     "name": "stdout",
     "output_type": "stream",
     "text": [
      "Inferencing on instance 353\n",
      "1/1 [==============================] - 0s 28ms/step\n",
      "Online training on instance 353\n",
      "1/1 - 0s - loss: 1.4318 - binary_accuracy: 0.0625 - 18ms/epoch - 18ms/step\n"
     ]
    },
    {
     "name": "stderr",
     "output_type": "stream",
     "text": [
      " 25%|██▍       | 354/1425 [01:12<03:35,  4.97it/s]"
     ]
    },
    {
     "name": "stdout",
     "output_type": "stream",
     "text": [
      "Inferencing on instance 354\n",
      "1/1 [==============================] - 0s 27ms/step\n",
      "Online training on instance 354\n",
      "1/1 - 0s - loss: 1.4128 - binary_accuracy: 0.1250 - 15ms/epoch - 15ms/step\n"
     ]
    },
    {
     "name": "stderr",
     "output_type": "stream",
     "text": [
      " 25%|██▍       | 355/1425 [01:13<03:30,  5.08it/s]"
     ]
    },
    {
     "name": "stdout",
     "output_type": "stream",
     "text": [
      "Inferencing on instance 355\n",
      "1/1 [==============================] - 0s 25ms/step\n",
      "Online training on instance 355\n",
      "1/1 - 0s - loss: 1.3762 - binary_accuracy: 0.1250 - 16ms/epoch - 16ms/step\n"
     ]
    },
    {
     "name": "stderr",
     "output_type": "stream",
     "text": [
      " 25%|██▍       | 356/1425 [01:13<03:20,  5.33it/s]"
     ]
    },
    {
     "name": "stdout",
     "output_type": "stream",
     "text": [
      "Inferencing on instance 356\n",
      "1/1 [==============================] - 0s 35ms/step\n",
      "Online training on instance 356\n",
      "1/1 - 0s - loss: 1.3013 - binary_accuracy: 0.1250 - 22ms/epoch - 22ms/step\n"
     ]
    },
    {
     "name": "stderr",
     "output_type": "stream",
     "text": [
      " 25%|██▌       | 357/1425 [01:13<03:29,  5.10it/s]"
     ]
    },
    {
     "name": "stdout",
     "output_type": "stream",
     "text": [
      "Inferencing on instance 357\n",
      "1/1 [==============================] - 0s 28ms/step\n",
      "Online training on instance 357\n",
      "1/1 - 0s - loss: 1.3272 - binary_accuracy: 0.1250 - 17ms/epoch - 17ms/step\n"
     ]
    },
    {
     "name": "stderr",
     "output_type": "stream",
     "text": [
      " 25%|██▌       | 358/1425 [01:13<03:28,  5.12it/s]"
     ]
    },
    {
     "name": "stdout",
     "output_type": "stream",
     "text": [
      "Inferencing on instance 358\n",
      "1/1 [==============================] - 0s 36ms/step\n",
      "Online training on instance 358\n",
      "1/1 - 0s - loss: 1.2842 - binary_accuracy: 0.0625 - 15ms/epoch - 15ms/step\n"
     ]
    },
    {
     "name": "stderr",
     "output_type": "stream",
     "text": [
      " 25%|██▌       | 359/1425 [01:13<03:28,  5.10it/s]"
     ]
    },
    {
     "name": "stdout",
     "output_type": "stream",
     "text": [
      "Inferencing on instance 359\n",
      "1/1 [==============================] - 0s 24ms/step\n",
      "Online training on instance 359\n",
      "1/1 - 0s - loss: 1.3216 - binary_accuracy: 0.0000e+00 - 17ms/epoch - 17ms/step\n"
     ]
    },
    {
     "name": "stderr",
     "output_type": "stream",
     "text": [
      " 25%|██▌       | 360/1425 [01:14<03:34,  4.98it/s]"
     ]
    },
    {
     "name": "stdout",
     "output_type": "stream",
     "text": [
      "Inferencing on instance 360\n",
      "1/1 [==============================] - 0s 26ms/step\n",
      "Online training on instance 360\n",
      "1/1 - 0s - loss: 1.2158 - binary_accuracy: 0.0000e+00 - 17ms/epoch - 17ms/step\n"
     ]
    },
    {
     "name": "stderr",
     "output_type": "stream",
     "text": [
      " 25%|██▌       | 361/1425 [01:14<03:22,  5.24it/s]"
     ]
    },
    {
     "name": "stdout",
     "output_type": "stream",
     "text": [
      "Inferencing on instance 361\n",
      "1/1 [==============================] - 0s 32ms/step\n",
      "Online training on instance 361\n",
      "1/1 - 0s - loss: 1.2465 - binary_accuracy: 0.0625 - 15ms/epoch - 15ms/step\n"
     ]
    },
    {
     "name": "stderr",
     "output_type": "stream",
     "text": [
      " 25%|██▌       | 362/1425 [01:14<03:18,  5.35it/s]"
     ]
    },
    {
     "name": "stdout",
     "output_type": "stream",
     "text": [
      "Inferencing on instance 362\n",
      "1/1 [==============================] - 0s 29ms/step\n",
      "Online training on instance 362\n",
      "1/1 - 0s - loss: 1.1372 - binary_accuracy: 0.1875 - 16ms/epoch - 16ms/step\n"
     ]
    },
    {
     "name": "stderr",
     "output_type": "stream",
     "text": [
      " 25%|██▌       | 363/1425 [01:14<03:14,  5.47it/s]"
     ]
    },
    {
     "name": "stdout",
     "output_type": "stream",
     "text": [
      "Inferencing on instance 363\n",
      "1/1 [==============================] - 0s 28ms/step\n",
      "Online training on instance 363\n",
      "1/1 - 0s - loss: 1.0414 - binary_accuracy: 0.3125 - 25ms/epoch - 25ms/step\n"
     ]
    },
    {
     "name": "stderr",
     "output_type": "stream",
     "text": [
      " 26%|██▌       | 364/1425 [01:14<03:16,  5.40it/s]"
     ]
    },
    {
     "name": "stdout",
     "output_type": "stream",
     "text": [
      "Inferencing on instance 364\n",
      "1/1 [==============================] - 0s 25ms/step\n",
      "Online training on instance 364\n",
      "1/1 - 0s - loss: 0.9785 - binary_accuracy: 0.2500 - 16ms/epoch - 16ms/step\n"
     ]
    },
    {
     "name": "stderr",
     "output_type": "stream",
     "text": [
      " 26%|██▌       | 365/1425 [01:15<03:14,  5.46it/s]"
     ]
    },
    {
     "name": "stdout",
     "output_type": "stream",
     "text": [
      "Inferencing on instance 365\n",
      "1/1 [==============================] - 0s 41ms/step\n",
      "Online training on instance 365\n",
      "1/1 - 0s - loss: 0.9212 - binary_accuracy: 0.4375 - 19ms/epoch - 19ms/step\n"
     ]
    },
    {
     "name": "stderr",
     "output_type": "stream",
     "text": [
      " 26%|██▌       | 366/1425 [01:15<03:24,  5.18it/s]"
     ]
    },
    {
     "name": "stdout",
     "output_type": "stream",
     "text": [
      "Inferencing on instance 366\n",
      "1/1 [==============================] - 0s 37ms/step\n",
      "Online training on instance 366\n",
      "1/1 - 0s - loss: 0.8623 - binary_accuracy: 0.5000 - 18ms/epoch - 18ms/step\n"
     ]
    },
    {
     "name": "stderr",
     "output_type": "stream",
     "text": [
      " 26%|██▌       | 367/1425 [01:15<03:33,  4.96it/s]"
     ]
    },
    {
     "name": "stdout",
     "output_type": "stream",
     "text": [
      "Inferencing on instance 367\n",
      "1/1 [==============================] - 0s 28ms/step\n",
      "Online training on instance 367\n",
      "1/1 - 0s - loss: 0.8622 - binary_accuracy: 0.3750 - 18ms/epoch - 18ms/step\n"
     ]
    },
    {
     "name": "stderr",
     "output_type": "stream",
     "text": [
      " 26%|██▌       | 368/1425 [01:15<03:29,  5.04it/s]"
     ]
    },
    {
     "name": "stdout",
     "output_type": "stream",
     "text": [
      "Inferencing on instance 368\n",
      "1/1 [==============================] - 0s 36ms/step\n",
      "Online training on instance 368\n",
      "1/1 - 0s - loss: 0.8978 - binary_accuracy: 0.3750 - 18ms/epoch - 18ms/step\n"
     ]
    },
    {
     "name": "stderr",
     "output_type": "stream",
     "text": [
      " 26%|██▌       | 369/1425 [01:15<03:50,  4.58it/s]"
     ]
    },
    {
     "name": "stdout",
     "output_type": "stream",
     "text": [
      "Inferencing on instance 369\n",
      "1/1 [==============================] - 0s 35ms/step\n",
      "Online training on instance 369\n",
      "1/1 - 0s - loss: 0.8944 - binary_accuracy: 0.3750 - 18ms/epoch - 18ms/step\n"
     ]
    },
    {
     "name": "stderr",
     "output_type": "stream",
     "text": [
      " 26%|██▌       | 370/1425 [01:16<03:42,  4.75it/s]"
     ]
    },
    {
     "name": "stdout",
     "output_type": "stream",
     "text": [
      "Inferencing on instance 370\n",
      "1/1 [==============================] - 0s 28ms/step\n",
      "Online training on instance 370\n",
      "1/1 - 0s - loss: 0.8626 - binary_accuracy: 0.5625 - 18ms/epoch - 18ms/step\n"
     ]
    },
    {
     "name": "stderr",
     "output_type": "stream",
     "text": [
      " 26%|██▌       | 371/1425 [01:16<03:34,  4.91it/s]"
     ]
    },
    {
     "name": "stdout",
     "output_type": "stream",
     "text": [
      "Inferencing on instance 371\n",
      "1/1 [==============================] - 0s 32ms/step\n",
      "Online training on instance 371\n",
      "1/1 - 0s - loss: 0.8965 - binary_accuracy: 0.1875 - 17ms/epoch - 17ms/step\n"
     ]
    },
    {
     "name": "stderr",
     "output_type": "stream",
     "text": [
      " 26%|██▌       | 372/1425 [01:16<03:33,  4.92it/s]"
     ]
    },
    {
     "name": "stdout",
     "output_type": "stream",
     "text": [
      "Inferencing on instance 372\n",
      "1/1 [==============================] - 0s 35ms/step\n",
      "Online training on instance 372\n",
      "1/1 - 0s - loss: 0.7179 - binary_accuracy: 0.6875 - 17ms/epoch - 17ms/step\n"
     ]
    },
    {
     "name": "stderr",
     "output_type": "stream",
     "text": [
      " 26%|██▌       | 373/1425 [01:16<03:31,  4.97it/s]"
     ]
    },
    {
     "name": "stdout",
     "output_type": "stream",
     "text": [
      "Inferencing on instance 373\n",
      "1/1 [==============================] - 0s 28ms/step\n",
      "Online training on instance 373\n",
      "1/1 - 0s - loss: 0.6319 - binary_accuracy: 0.8125 - 16ms/epoch - 16ms/step\n"
     ]
    },
    {
     "name": "stderr",
     "output_type": "stream",
     "text": [
      " 26%|██▌       | 374/1425 [01:16<03:23,  5.17it/s]"
     ]
    },
    {
     "name": "stdout",
     "output_type": "stream",
     "text": [
      "Inferencing on instance 374\n",
      "1/1 [==============================] - 0s 54ms/step\n",
      "Online training on instance 374\n",
      "1/1 - 0s - loss: 0.6409 - binary_accuracy: 0.6875 - 16ms/epoch - 16ms/step\n"
     ]
    },
    {
     "name": "stderr",
     "output_type": "stream",
     "text": [
      " 26%|██▋       | 375/1425 [01:17<03:27,  5.06it/s]"
     ]
    },
    {
     "name": "stdout",
     "output_type": "stream",
     "text": [
      "Inferencing on instance 375\n",
      "1/1 [==============================] - 0s 31ms/step\n",
      "Online training on instance 375\n",
      "1/1 - 0s - loss: 0.6901 - binary_accuracy: 0.5000 - 18ms/epoch - 18ms/step\n"
     ]
    },
    {
     "name": "stderr",
     "output_type": "stream",
     "text": [
      " 26%|██▋       | 376/1425 [01:17<03:19,  5.27it/s]"
     ]
    },
    {
     "name": "stdout",
     "output_type": "stream",
     "text": [
      "Inferencing on instance 376\n",
      "1/1 [==============================] - 0s 33ms/step\n",
      "Online training on instance 376\n",
      "1/1 - 0s - loss: 0.7253 - binary_accuracy: 0.8750 - 17ms/epoch - 17ms/step\n"
     ]
    },
    {
     "name": "stderr",
     "output_type": "stream",
     "text": [
      " 26%|██▋       | 377/1425 [01:17<03:16,  5.34it/s]"
     ]
    },
    {
     "name": "stdout",
     "output_type": "stream",
     "text": [
      "Inferencing on instance 377\n",
      "1/1 [==============================] - 0s 24ms/step\n",
      "Online training on instance 377\n",
      "1/1 - 0s - loss: 0.7946 - binary_accuracy: 0.7500 - 18ms/epoch - 18ms/step\n"
     ]
    },
    {
     "name": "stderr",
     "output_type": "stream",
     "text": [
      " 27%|██▋       | 378/1425 [01:17<03:11,  5.46it/s]"
     ]
    },
    {
     "name": "stdout",
     "output_type": "stream",
     "text": [
      "Inferencing on instance 378\n",
      "1/1 [==============================] - 0s 32ms/step\n",
      "Online training on instance 378\n",
      "1/1 - 0s - loss: 0.8234 - binary_accuracy: 0.6875 - 16ms/epoch - 16ms/step\n"
     ]
    },
    {
     "name": "stderr",
     "output_type": "stream",
     "text": [
      " 27%|██▋       | 379/1425 [01:17<03:12,  5.44it/s]"
     ]
    },
    {
     "name": "stdout",
     "output_type": "stream",
     "text": [
      "Inferencing on instance 379\n",
      "1/1 [==============================] - 0s 27ms/step\n",
      "Online training on instance 379\n",
      "1/1 - 0s - loss: 0.8292 - binary_accuracy: 0.8125 - 16ms/epoch - 16ms/step\n"
     ]
    },
    {
     "name": "stderr",
     "output_type": "stream",
     "text": [
      " 27%|██▋       | 380/1425 [01:17<03:11,  5.46it/s]"
     ]
    },
    {
     "name": "stdout",
     "output_type": "stream",
     "text": [
      "Inferencing on instance 380\n",
      "1/1 [==============================] - 0s 37ms/step\n",
      "Online training on instance 380\n",
      "1/1 - 0s - loss: 0.7803 - binary_accuracy: 0.6250 - 16ms/epoch - 16ms/step\n"
     ]
    },
    {
     "name": "stderr",
     "output_type": "stream",
     "text": [
      " 27%|██▋       | 381/1425 [01:18<03:18,  5.26it/s]"
     ]
    },
    {
     "name": "stdout",
     "output_type": "stream",
     "text": [
      "Inferencing on instance 381\n",
      "1/1 [==============================] - 0s 29ms/step\n",
      "Online training on instance 381\n",
      "1/1 - 0s - loss: 0.7503 - binary_accuracy: 0.6875 - 18ms/epoch - 18ms/step\n"
     ]
    },
    {
     "name": "stderr",
     "output_type": "stream",
     "text": [
      " 27%|██▋       | 382/1425 [01:18<03:16,  5.32it/s]"
     ]
    },
    {
     "name": "stdout",
     "output_type": "stream",
     "text": [
      "Inferencing on instance 382\n",
      "1/1 [==============================] - 0s 32ms/step\n",
      "Online training on instance 382\n",
      "1/1 - 0s - loss: 0.7523 - binary_accuracy: 0.7500 - 20ms/epoch - 20ms/step\n"
     ]
    },
    {
     "name": "stderr",
     "output_type": "stream",
     "text": [
      " 27%|██▋       | 383/1425 [01:18<03:17,  5.27it/s]"
     ]
    },
    {
     "name": "stdout",
     "output_type": "stream",
     "text": [
      "Inferencing on instance 383\n",
      "1/1 [==============================] - 0s 28ms/step\n",
      "Online training on instance 383\n",
      "1/1 - 0s - loss: 0.8598 - binary_accuracy: 0.6250 - 16ms/epoch - 16ms/step\n"
     ]
    },
    {
     "name": "stderr",
     "output_type": "stream",
     "text": [
      " 27%|██▋       | 384/1425 [01:18<03:13,  5.38it/s]"
     ]
    },
    {
     "name": "stdout",
     "output_type": "stream",
     "text": [
      "Inferencing on instance 384\n",
      "1/1 [==============================] - 0s 37ms/step\n",
      "Online training on instance 384\n",
      "1/1 - 0s - loss: 0.8697 - binary_accuracy: 0.5000 - 16ms/epoch - 16ms/step\n"
     ]
    },
    {
     "name": "stderr",
     "output_type": "stream",
     "text": [
      " 27%|██▋       | 385/1425 [01:18<03:12,  5.40it/s]"
     ]
    },
    {
     "name": "stdout",
     "output_type": "stream",
     "text": [
      "Inferencing on instance 385\n",
      "1/1 [==============================] - 0s 26ms/step\n",
      "Online training on instance 385\n",
      "1/1 - 0s - loss: 0.8080 - binary_accuracy: 0.5000 - 16ms/epoch - 16ms/step\n"
     ]
    },
    {
     "name": "stderr",
     "output_type": "stream",
     "text": [
      " 27%|██▋       | 386/1425 [01:19<03:08,  5.52it/s]"
     ]
    },
    {
     "name": "stdout",
     "output_type": "stream",
     "text": [
      "Inferencing on instance 386\n",
      "1/1 [==============================] - 0s 28ms/step\n",
      "Online training on instance 386\n",
      "1/1 - 0s - loss: 0.8720 - binary_accuracy: 0.3750 - 17ms/epoch - 17ms/step\n"
     ]
    },
    {
     "name": "stderr",
     "output_type": "stream",
     "text": [
      " 27%|██▋       | 387/1425 [01:19<03:18,  5.22it/s]"
     ]
    },
    {
     "name": "stdout",
     "output_type": "stream",
     "text": [
      "Inferencing on instance 387\n",
      "1/1 [==============================] - 0s 31ms/step\n",
      "Online training on instance 387\n",
      "1/1 - 0s - loss: 0.8967 - binary_accuracy: 0.3750 - 18ms/epoch - 18ms/step\n"
     ]
    },
    {
     "name": "stderr",
     "output_type": "stream",
     "text": [
      " 27%|██▋       | 388/1425 [01:19<03:24,  5.08it/s]"
     ]
    },
    {
     "name": "stdout",
     "output_type": "stream",
     "text": [
      "Inferencing on instance 388\n",
      "1/1 [==============================] - 0s 38ms/step\n",
      "Online training on instance 388\n",
      "1/1 - 0s - loss: 0.9045 - binary_accuracy: 0.3750 - 19ms/epoch - 19ms/step\n"
     ]
    },
    {
     "name": "stderr",
     "output_type": "stream",
     "text": [
      " 27%|██▋       | 389/1425 [01:19<03:36,  4.79it/s]"
     ]
    },
    {
     "name": "stdout",
     "output_type": "stream",
     "text": [
      "Inferencing on instance 389\n",
      "1/1 [==============================] - 0s 28ms/step\n",
      "Online training on instance 389\n",
      "1/1 - 0s - loss: 0.9355 - binary_accuracy: 0.3125 - 17ms/epoch - 17ms/step\n"
     ]
    },
    {
     "name": "stderr",
     "output_type": "stream",
     "text": [
      " 27%|██▋       | 390/1425 [01:19<03:30,  4.91it/s]"
     ]
    },
    {
     "name": "stdout",
     "output_type": "stream",
     "text": [
      "Inferencing on instance 390\n",
      "1/1 [==============================] - 0s 28ms/step\n",
      "Online training on instance 390\n",
      "1/1 - 0s - loss: 0.9556 - binary_accuracy: 0.3125 - 15ms/epoch - 15ms/step\n"
     ]
    },
    {
     "name": "stderr",
     "output_type": "stream",
     "text": [
      " 27%|██▋       | 391/1425 [01:20<03:26,  5.02it/s]"
     ]
    },
    {
     "name": "stdout",
     "output_type": "stream",
     "text": [
      "Inferencing on instance 391\n",
      "1/1 [==============================] - 0s 24ms/step\n",
      "Online training on instance 391\n",
      "1/1 - 0s - loss: 1.0131 - binary_accuracy: 0.1875 - 20ms/epoch - 20ms/step\n"
     ]
    },
    {
     "name": "stderr",
     "output_type": "stream",
     "text": [
      " 28%|██▊       | 392/1425 [01:20<03:21,  5.13it/s]"
     ]
    },
    {
     "name": "stdout",
     "output_type": "stream",
     "text": [
      "Inferencing on instance 392\n",
      "1/1 [==============================] - 0s 33ms/step\n",
      "Online training on instance 392\n",
      "1/1 - 0s - loss: 1.0152 - binary_accuracy: 0.1250 - 18ms/epoch - 18ms/step\n"
     ]
    },
    {
     "name": "stderr",
     "output_type": "stream",
     "text": [
      " 28%|██▊       | 393/1425 [01:20<03:18,  5.21it/s]"
     ]
    },
    {
     "name": "stdout",
     "output_type": "stream",
     "text": [
      "Inferencing on instance 393\n",
      "1/1 [==============================] - 0s 29ms/step\n",
      "Online training on instance 393\n",
      "1/1 - 0s - loss: 0.9763 - binary_accuracy: 0.3125 - 15ms/epoch - 15ms/step\n"
     ]
    },
    {
     "name": "stderr",
     "output_type": "stream",
     "text": [
      " 28%|██▊       | 394/1425 [01:20<03:12,  5.35it/s]"
     ]
    },
    {
     "name": "stdout",
     "output_type": "stream",
     "text": [
      "Inferencing on instance 394\n",
      "1/1 [==============================] - 0s 30ms/step\n",
      "Online training on instance 394\n",
      "1/1 - 0s - loss: 0.9076 - binary_accuracy: 0.3125 - 16ms/epoch - 16ms/step\n"
     ]
    },
    {
     "name": "stderr",
     "output_type": "stream",
     "text": [
      " 28%|██▊       | 395/1425 [01:20<03:08,  5.46it/s]"
     ]
    },
    {
     "name": "stdout",
     "output_type": "stream",
     "text": [
      "Inferencing on instance 395\n",
      "1/1 [==============================] - 0s 31ms/step\n",
      "Online training on instance 395\n",
      "1/1 - 0s - loss: 0.8158 - binary_accuracy: 0.3750 - 17ms/epoch - 17ms/step\n"
     ]
    },
    {
     "name": "stderr",
     "output_type": "stream",
     "text": [
      " 28%|██▊       | 396/1425 [01:21<03:12,  5.34it/s]"
     ]
    },
    {
     "name": "stdout",
     "output_type": "stream",
     "text": [
      "Inferencing on instance 396\n",
      "1/1 [==============================] - 0s 33ms/step\n",
      "Online training on instance 396\n",
      "1/1 - 0s - loss: 0.8640 - binary_accuracy: 0.3750 - 19ms/epoch - 19ms/step\n"
     ]
    },
    {
     "name": "stderr",
     "output_type": "stream",
     "text": [
      " 28%|██▊       | 397/1425 [01:21<03:12,  5.33it/s]"
     ]
    },
    {
     "name": "stdout",
     "output_type": "stream",
     "text": [
      "Inferencing on instance 397\n",
      "1/1 [==============================] - 0s 46ms/step\n",
      "Online training on instance 397\n",
      "1/1 - 0s - loss: 0.8429 - binary_accuracy: 0.3125 - 17ms/epoch - 17ms/step\n"
     ]
    },
    {
     "name": "stderr",
     "output_type": "stream",
     "text": [
      " 28%|██▊       | 398/1425 [01:21<03:26,  4.97it/s]"
     ]
    },
    {
     "name": "stdout",
     "output_type": "stream",
     "text": [
      "Inferencing on instance 398\n",
      "1/1 [==============================] - 0s 28ms/step\n",
      "Online training on instance 398\n",
      "1/1 - 0s - loss: 0.8082 - binary_accuracy: 0.3750 - 16ms/epoch - 16ms/step\n"
     ]
    },
    {
     "name": "stderr",
     "output_type": "stream",
     "text": [
      " 28%|██▊       | 399/1425 [01:21<03:19,  5.13it/s]"
     ]
    },
    {
     "name": "stdout",
     "output_type": "stream",
     "text": [
      "Inferencing on instance 399\n",
      "1/1 [==============================] - 0s 25ms/step\n",
      "Online training on instance 399\n",
      "1/1 - 0s - loss: 0.7541 - binary_accuracy: 0.3750 - 16ms/epoch - 16ms/step\n"
     ]
    },
    {
     "name": "stderr",
     "output_type": "stream",
     "text": [
      " 28%|██▊       | 400/1425 [01:21<03:19,  5.15it/s]"
     ]
    },
    {
     "name": "stdout",
     "output_type": "stream",
     "text": [
      "Inferencing on instance 400\n",
      "1/1 [==============================] - 0s 28ms/step\n",
      "Online training on instance 400\n",
      "1/1 - 0s - loss: 0.7282 - binary_accuracy: 0.4375 - 17ms/epoch - 17ms/step\n"
     ]
    },
    {
     "name": "stderr",
     "output_type": "stream",
     "text": [
      " 28%|██▊       | 401/1425 [01:22<03:12,  5.32it/s]"
     ]
    },
    {
     "name": "stdout",
     "output_type": "stream",
     "text": [
      "Inferencing on instance 401\n",
      "1/1 [==============================] - 0s 35ms/step\n",
      "Online training on instance 401\n",
      "1/1 - 0s - loss: 0.7925 - binary_accuracy: 0.2500 - 15ms/epoch - 15ms/step\n"
     ]
    },
    {
     "name": "stderr",
     "output_type": "stream",
     "text": [
      " 28%|██▊       | 402/1425 [01:22<03:12,  5.32it/s]"
     ]
    },
    {
     "name": "stdout",
     "output_type": "stream",
     "text": [
      "Inferencing on instance 402\n",
      "1/1 [==============================] - 0s 25ms/step\n",
      "Online training on instance 402\n",
      "1/1 - 0s - loss: 0.7461 - binary_accuracy: 0.3750 - 17ms/epoch - 17ms/step\n"
     ]
    },
    {
     "name": "stderr",
     "output_type": "stream",
     "text": [
      " 28%|██▊       | 403/1425 [01:22<03:21,  5.06it/s]"
     ]
    },
    {
     "name": "stdout",
     "output_type": "stream",
     "text": [
      "Inferencing on instance 403\n",
      "1/1 [==============================] - 0s 28ms/step\n",
      "Online training on instance 403\n",
      "1/1 - 0s - loss: 0.7193 - binary_accuracy: 0.2500 - 15ms/epoch - 15ms/step\n"
     ]
    },
    {
     "name": "stderr",
     "output_type": "stream",
     "text": [
      " 28%|██▊       | 404/1425 [01:22<03:20,  5.10it/s]"
     ]
    },
    {
     "name": "stdout",
     "output_type": "stream",
     "text": [
      "Inferencing on instance 404\n",
      "1/1 [==============================] - 0s 29ms/step\n",
      "Online training on instance 404\n",
      "1/1 - 0s - loss: 0.7294 - binary_accuracy: 0.4375 - 15ms/epoch - 15ms/step\n"
     ]
    },
    {
     "name": "stderr",
     "output_type": "stream",
     "text": [
      " 28%|██▊       | 405/1425 [01:22<03:11,  5.33it/s]"
     ]
    },
    {
     "name": "stdout",
     "output_type": "stream",
     "text": [
      "Inferencing on instance 405\n",
      "1/1 [==============================] - 0s 28ms/step\n",
      "Online training on instance 405\n",
      "1/1 - 0s - loss: 0.7364 - binary_accuracy: 0.5625 - 18ms/epoch - 18ms/step\n"
     ]
    },
    {
     "name": "stderr",
     "output_type": "stream",
     "text": [
      " 28%|██▊       | 406/1425 [01:22<03:14,  5.24it/s]"
     ]
    },
    {
     "name": "stdout",
     "output_type": "stream",
     "text": [
      "Inferencing on instance 406\n",
      "1/1 [==============================] - 0s 33ms/step\n",
      "Online training on instance 406\n",
      "1/1 - 0s - loss: 0.6452 - binary_accuracy: 0.5000 - 19ms/epoch - 19ms/step\n"
     ]
    },
    {
     "name": "stderr",
     "output_type": "stream",
     "text": [
      " 29%|██▊       | 407/1425 [01:23<03:20,  5.07it/s]"
     ]
    },
    {
     "name": "stdout",
     "output_type": "stream",
     "text": [
      "Inferencing on instance 407\n",
      "1/1 [==============================] - 0s 33ms/step\n",
      "Online training on instance 407\n",
      "1/1 - 0s - loss: 0.6218 - binary_accuracy: 0.8125 - 18ms/epoch - 18ms/step\n"
     ]
    },
    {
     "name": "stderr",
     "output_type": "stream",
     "text": [
      " 29%|██▊       | 408/1425 [01:23<03:38,  4.66it/s]"
     ]
    },
    {
     "name": "stdout",
     "output_type": "stream",
     "text": [
      "Inferencing on instance 408\n",
      "1/1 [==============================] - 0s 38ms/step\n",
      "Online training on instance 408\n",
      "1/1 - 0s - loss: 0.5839 - binary_accuracy: 0.8750 - 19ms/epoch - 19ms/step\n"
     ]
    },
    {
     "name": "stderr",
     "output_type": "stream",
     "text": [
      " 29%|██▊       | 409/1425 [01:23<03:42,  4.56it/s]"
     ]
    },
    {
     "name": "stdout",
     "output_type": "stream",
     "text": [
      "Inferencing on instance 409\n",
      "1/1 [==============================] - 0s 32ms/step\n",
      "Online training on instance 409\n",
      "1/1 - 0s - loss: 0.6186 - binary_accuracy: 0.8125 - 20ms/epoch - 20ms/step\n"
     ]
    },
    {
     "name": "stderr",
     "output_type": "stream",
     "text": [
      " 29%|██▉       | 410/1425 [01:23<03:39,  4.63it/s]"
     ]
    },
    {
     "name": "stdout",
     "output_type": "stream",
     "text": [
      "Inferencing on instance 410\n",
      "1/1 [==============================] - 0s 39ms/step\n",
      "Online training on instance 410\n",
      "1/1 - 0s - loss: 0.5788 - binary_accuracy: 0.8750 - 20ms/epoch - 20ms/step\n"
     ]
    },
    {
     "name": "stderr",
     "output_type": "stream",
     "text": [
      " 29%|██▉       | 411/1425 [01:24<03:46,  4.48it/s]"
     ]
    },
    {
     "name": "stdout",
     "output_type": "stream",
     "text": [
      "Inferencing on instance 411\n",
      "1/1 [==============================] - 0s 50ms/step\n",
      "Online training on instance 411\n",
      "1/1 - 0s - loss: 0.6101 - binary_accuracy: 0.8125 - 15ms/epoch - 15ms/step\n"
     ]
    },
    {
     "name": "stderr",
     "output_type": "stream",
     "text": [
      " 29%|██▉       | 412/1425 [01:24<03:43,  4.53it/s]"
     ]
    },
    {
     "name": "stdout",
     "output_type": "stream",
     "text": [
      "Inferencing on instance 412\n",
      "1/1 [==============================] - 0s 25ms/step\n",
      "Online training on instance 412\n",
      "1/1 - 0s - loss: 0.5993 - binary_accuracy: 0.8125 - 16ms/epoch - 16ms/step\n"
     ]
    },
    {
     "name": "stderr",
     "output_type": "stream",
     "text": [
      " 29%|██▉       | 413/1425 [01:24<03:26,  4.89it/s]"
     ]
    },
    {
     "name": "stdout",
     "output_type": "stream",
     "text": [
      "Inferencing on instance 413\n",
      "1/1 [==============================] - 0s 32ms/step\n",
      "Online training on instance 413\n",
      "1/1 - 0s - loss: 0.5737 - binary_accuracy: 0.8125 - 17ms/epoch - 17ms/step\n"
     ]
    },
    {
     "name": "stderr",
     "output_type": "stream",
     "text": [
      " 29%|██▉       | 414/1425 [01:24<03:23,  4.96it/s]"
     ]
    },
    {
     "name": "stdout",
     "output_type": "stream",
     "text": [
      "Inferencing on instance 414\n",
      "1/1 [==============================] - 0s 25ms/step\n",
      "Online training on instance 414\n",
      "1/1 - 0s - loss: 0.5560 - binary_accuracy: 0.8125 - 16ms/epoch - 16ms/step\n"
     ]
    },
    {
     "name": "stderr",
     "output_type": "stream",
     "text": [
      " 29%|██▉       | 415/1425 [01:24<03:12,  5.25it/s]"
     ]
    },
    {
     "name": "stdout",
     "output_type": "stream",
     "text": [
      "Inferencing on instance 415\n",
      "1/1 [==============================] - 0s 20ms/step\n",
      "Online training on instance 415\n",
      "1/1 - 0s - loss: 0.5373 - binary_accuracy: 0.8125 - 15ms/epoch - 15ms/step\n"
     ]
    },
    {
     "name": "stderr",
     "output_type": "stream",
     "text": [
      " 29%|██▉       | 416/1425 [01:25<03:05,  5.43it/s]"
     ]
    },
    {
     "name": "stdout",
     "output_type": "stream",
     "text": [
      "Inferencing on instance 416\n",
      "1/1 [==============================] - 0s 24ms/step\n",
      "Online training on instance 416\n",
      "1/1 - 0s - loss: 0.5064 - binary_accuracy: 0.8750 - 16ms/epoch - 16ms/step\n"
     ]
    },
    {
     "name": "stderr",
     "output_type": "stream",
     "text": [
      " 29%|██▉       | 417/1425 [01:25<02:59,  5.60it/s]"
     ]
    },
    {
     "name": "stdout",
     "output_type": "stream",
     "text": [
      "Inferencing on instance 417\n",
      "1/1 [==============================] - 0s 30ms/step\n",
      "Online training on instance 417\n",
      "1/1 - 0s - loss: 0.5264 - binary_accuracy: 0.8125 - 18ms/epoch - 18ms/step\n"
     ]
    },
    {
     "name": "stderr",
     "output_type": "stream",
     "text": [
      " 29%|██▉       | 418/1425 [01:25<03:09,  5.32it/s]"
     ]
    },
    {
     "name": "stdout",
     "output_type": "stream",
     "text": [
      "Inferencing on instance 418\n",
      "1/1 [==============================] - 0s 31ms/step\n",
      "Online training on instance 418\n",
      "1/1 - 0s - loss: 0.5325 - binary_accuracy: 0.8125 - 18ms/epoch - 18ms/step\n"
     ]
    },
    {
     "name": "stderr",
     "output_type": "stream",
     "text": [
      " 29%|██▉       | 419/1425 [01:25<03:15,  5.14it/s]"
     ]
    },
    {
     "name": "stdout",
     "output_type": "stream",
     "text": [
      "Inferencing on instance 419\n",
      "1/1 [==============================] - 0s 28ms/step\n",
      "Online training on instance 419\n",
      "1/1 - 0s - loss: 0.4811 - binary_accuracy: 0.9375 - 16ms/epoch - 16ms/step\n"
     ]
    },
    {
     "name": "stderr",
     "output_type": "stream",
     "text": [
      " 29%|██▉       | 420/1425 [01:25<03:08,  5.33it/s]"
     ]
    },
    {
     "name": "stdout",
     "output_type": "stream",
     "text": [
      "Inferencing on instance 420\n",
      "1/1 [==============================] - 0s 30ms/step\n",
      "Online training on instance 420\n",
      "1/1 - 0s - loss: 0.4771 - binary_accuracy: 0.8750 - 17ms/epoch - 17ms/step\n"
     ]
    },
    {
     "name": "stderr",
     "output_type": "stream",
     "text": [
      " 30%|██▉       | 421/1425 [01:25<03:02,  5.49it/s]"
     ]
    },
    {
     "name": "stdout",
     "output_type": "stream",
     "text": [
      "Inferencing on instance 421\n",
      "1/1 [==============================] - 0s 29ms/step\n",
      "Online training on instance 421\n",
      "1/1 - 0s - loss: 0.4895 - binary_accuracy: 0.8750 - 16ms/epoch - 16ms/step\n"
     ]
    },
    {
     "name": "stderr",
     "output_type": "stream",
     "text": [
      " 30%|██▉       | 422/1425 [01:26<03:01,  5.52it/s]"
     ]
    },
    {
     "name": "stdout",
     "output_type": "stream",
     "text": [
      "Inferencing on instance 422\n",
      "1/1 [==============================] - 0s 25ms/step\n",
      "Online training on instance 422\n",
      "1/1 - 0s - loss: 0.5334 - binary_accuracy: 0.8125 - 17ms/epoch - 17ms/step\n"
     ]
    },
    {
     "name": "stderr",
     "output_type": "stream",
     "text": [
      " 30%|██▉       | 423/1425 [01:26<02:56,  5.67it/s]"
     ]
    },
    {
     "name": "stdout",
     "output_type": "stream",
     "text": [
      "Inferencing on instance 423\n",
      "1/1 [==============================] - 0s 39ms/step\n",
      "Online training on instance 423\n",
      "1/1 - 0s - loss: 0.4894 - binary_accuracy: 0.8125 - 20ms/epoch - 20ms/step\n"
     ]
    },
    {
     "name": "stderr",
     "output_type": "stream",
     "text": [
      " 30%|██▉       | 424/1425 [01:26<03:13,  5.18it/s]"
     ]
    },
    {
     "name": "stdout",
     "output_type": "stream",
     "text": [
      "Inferencing on instance 424\n",
      "1/1 [==============================] - 0s 55ms/step\n",
      "Online training on instance 424\n",
      "1/1 - 0s - loss: 0.4703 - binary_accuracy: 0.8125 - 15ms/epoch - 15ms/step\n"
     ]
    },
    {
     "name": "stderr",
     "output_type": "stream",
     "text": [
      " 30%|██▉       | 425/1425 [01:26<03:29,  4.78it/s]"
     ]
    },
    {
     "name": "stdout",
     "output_type": "stream",
     "text": [
      "Inferencing on instance 425\n",
      "1/1 [==============================] - 0s 28ms/step\n",
      "Online training on instance 425\n",
      "1/1 - 0s - loss: 0.4520 - binary_accuracy: 0.8125 - 17ms/epoch - 17ms/step\n"
     ]
    },
    {
     "name": "stderr",
     "output_type": "stream",
     "text": [
      " 30%|██▉       | 426/1425 [01:26<03:21,  4.95it/s]"
     ]
    },
    {
     "name": "stdout",
     "output_type": "stream",
     "text": [
      "Inferencing on instance 426\n",
      "1/1 [==============================] - 0s 31ms/step\n",
      "Online training on instance 426\n",
      "1/1 - 0s - loss: 0.4296 - binary_accuracy: 0.8750 - 18ms/epoch - 18ms/step\n"
     ]
    },
    {
     "name": "stderr",
     "output_type": "stream",
     "text": [
      " 30%|██▉       | 427/1425 [01:27<03:24,  4.88it/s]"
     ]
    },
    {
     "name": "stdout",
     "output_type": "stream",
     "text": [
      "Inferencing on instance 427\n",
      "1/1 [==============================] - 0s 37ms/step\n",
      "Online training on instance 427\n",
      "1/1 - 0s - loss: 0.4304 - binary_accuracy: 0.8750 - 21ms/epoch - 21ms/step\n"
     ]
    },
    {
     "name": "stderr",
     "output_type": "stream",
     "text": [
      " 30%|███       | 428/1425 [01:27<03:28,  4.79it/s]"
     ]
    },
    {
     "name": "stdout",
     "output_type": "stream",
     "text": [
      "Inferencing on instance 428\n",
      "1/1 [==============================] - 0s 41ms/step\n",
      "Online training on instance 428\n",
      "1/1 - 0s - loss: 0.4582 - binary_accuracy: 0.8750 - 24ms/epoch - 24ms/step\n"
     ]
    },
    {
     "name": "stderr",
     "output_type": "stream",
     "text": [
      " 30%|███       | 429/1425 [01:27<03:46,  4.41it/s]"
     ]
    },
    {
     "name": "stdout",
     "output_type": "stream",
     "text": [
      "Inferencing on instance 429\n",
      "1/1 [==============================] - 0s 37ms/step\n",
      "Online training on instance 429\n",
      "1/1 - 0s - loss: 0.4386 - binary_accuracy: 0.8750 - 16ms/epoch - 16ms/step\n"
     ]
    },
    {
     "name": "stderr",
     "output_type": "stream",
     "text": [
      " 30%|███       | 430/1425 [01:27<03:36,  4.59it/s]"
     ]
    },
    {
     "name": "stdout",
     "output_type": "stream",
     "text": [
      "Inferencing on instance 430\n",
      "1/1 [==============================] - 0s 33ms/step\n",
      "Online training on instance 430\n",
      "1/1 - 0s - loss: 0.4326 - binary_accuracy: 0.8750 - 19ms/epoch - 19ms/step\n"
     ]
    },
    {
     "name": "stderr",
     "output_type": "stream",
     "text": [
      " 30%|███       | 431/1425 [01:28<03:32,  4.68it/s]"
     ]
    },
    {
     "name": "stdout",
     "output_type": "stream",
     "text": [
      "Inferencing on instance 431\n",
      "1/1 [==============================] - 0s 33ms/step\n",
      "Online training on instance 431\n",
      "1/1 - 0s - loss: 0.4061 - binary_accuracy: 0.8750 - 17ms/epoch - 17ms/step\n"
     ]
    },
    {
     "name": "stderr",
     "output_type": "stream",
     "text": [
      " 30%|███       | 432/1425 [01:28<03:27,  4.78it/s]"
     ]
    },
    {
     "name": "stdout",
     "output_type": "stream",
     "text": [
      "Inferencing on instance 432\n",
      "1/1 [==============================] - 0s 27ms/step\n",
      "Online training on instance 432\n",
      "1/1 - 0s - loss: 0.4234 - binary_accuracy: 0.8750 - 16ms/epoch - 16ms/step\n"
     ]
    },
    {
     "name": "stderr",
     "output_type": "stream",
     "text": [
      " 30%|███       | 433/1425 [01:28<03:15,  5.06it/s]"
     ]
    },
    {
     "name": "stdout",
     "output_type": "stream",
     "text": [
      "Inferencing on instance 433\n",
      "1/1 [==============================] - 0s 25ms/step\n",
      "Online training on instance 433\n",
      "1/1 - 0s - loss: 0.4001 - binary_accuracy: 0.8750 - 18ms/epoch - 18ms/step\n"
     ]
    },
    {
     "name": "stderr",
     "output_type": "stream",
     "text": [
      " 30%|███       | 434/1425 [01:28<03:08,  5.26it/s]"
     ]
    },
    {
     "name": "stdout",
     "output_type": "stream",
     "text": [
      "Inferencing on instance 434\n",
      "1/1 [==============================] - 0s 30ms/step\n",
      "Online training on instance 434\n",
      "1/1 - 0s - loss: 0.3756 - binary_accuracy: 0.8750 - 17ms/epoch - 17ms/step\n"
     ]
    },
    {
     "name": "stderr",
     "output_type": "stream",
     "text": [
      " 31%|███       | 435/1425 [01:28<03:14,  5.09it/s]"
     ]
    },
    {
     "name": "stdout",
     "output_type": "stream",
     "text": [
      "Inferencing on instance 435\n",
      "1/1 [==============================] - 0s 26ms/step\n",
      "Online training on instance 435\n",
      "1/1 - 0s - loss: 0.3918 - binary_accuracy: 0.8750 - 16ms/epoch - 16ms/step\n"
     ]
    },
    {
     "name": "stderr",
     "output_type": "stream",
     "text": [
      " 31%|███       | 436/1425 [01:29<03:09,  5.22it/s]"
     ]
    },
    {
     "name": "stdout",
     "output_type": "stream",
     "text": [
      "Inferencing on instance 436\n",
      "1/1 [==============================] - 0s 25ms/step\n",
      "Online training on instance 436\n",
      "1/1 - 0s - loss: 0.3880 - binary_accuracy: 0.8750 - 18ms/epoch - 18ms/step\n"
     ]
    },
    {
     "name": "stderr",
     "output_type": "stream",
     "text": [
      " 31%|███       | 437/1425 [01:29<03:01,  5.43it/s]"
     ]
    },
    {
     "name": "stdout",
     "output_type": "stream",
     "text": [
      "Inferencing on instance 437\n",
      "1/1 [==============================] - 0s 32ms/step\n",
      "Online training on instance 437\n",
      "1/1 - 0s - loss: 0.3927 - binary_accuracy: 0.8750 - 15ms/epoch - 15ms/step\n"
     ]
    },
    {
     "name": "stderr",
     "output_type": "stream",
     "text": [
      " 31%|███       | 438/1425 [01:29<03:01,  5.44it/s]"
     ]
    },
    {
     "name": "stdout",
     "output_type": "stream",
     "text": [
      "Inferencing on instance 438\n",
      "1/1 [==============================] - 0s 27ms/step\n",
      "Online training on instance 438\n",
      "1/1 - 0s - loss: 0.4009 - binary_accuracy: 0.8750 - 17ms/epoch - 17ms/step\n"
     ]
    },
    {
     "name": "stderr",
     "output_type": "stream",
     "text": [
      " 31%|███       | 439/1425 [01:29<03:04,  5.33it/s]"
     ]
    },
    {
     "name": "stdout",
     "output_type": "stream",
     "text": [
      "Inferencing on instance 439\n",
      "1/1 [==============================] - 0s 24ms/step\n",
      "Online training on instance 439\n",
      "1/1 - 0s - loss: 0.3773 - binary_accuracy: 0.9375 - 17ms/epoch - 17ms/step\n"
     ]
    },
    {
     "name": "stderr",
     "output_type": "stream",
     "text": [
      " 31%|███       | 440/1425 [01:29<03:06,  5.29it/s]"
     ]
    },
    {
     "name": "stdout",
     "output_type": "stream",
     "text": [
      "Inferencing on instance 440\n",
      "1/1 [==============================] - 0s 26ms/step\n",
      "Online training on instance 440\n",
      "1/1 - 0s - loss: 0.3832 - binary_accuracy: 0.8750 - 17ms/epoch - 17ms/step\n"
     ]
    },
    {
     "name": "stderr",
     "output_type": "stream",
     "text": [
      " 31%|███       | 441/1425 [01:29<02:59,  5.48it/s]"
     ]
    },
    {
     "name": "stdout",
     "output_type": "stream",
     "text": [
      "Inferencing on instance 441\n",
      "1/1 [==============================] - 0s 28ms/step\n",
      "Online training on instance 441\n",
      "1/1 - 0s - loss: 0.3598 - binary_accuracy: 0.9375 - 15ms/epoch - 15ms/step\n"
     ]
    },
    {
     "name": "stderr",
     "output_type": "stream",
     "text": [
      " 31%|███       | 442/1425 [01:30<03:12,  5.10it/s]"
     ]
    },
    {
     "name": "stdout",
     "output_type": "stream",
     "text": [
      "Inferencing on instance 442\n",
      "1/1 [==============================] - 0s 25ms/step\n",
      "Online training on instance 442\n",
      "1/1 - 0s - loss: 0.3676 - binary_accuracy: 0.8750 - 16ms/epoch - 16ms/step\n"
     ]
    },
    {
     "name": "stderr",
     "output_type": "stream",
     "text": [
      " 31%|███       | 443/1425 [01:30<03:04,  5.31it/s]"
     ]
    },
    {
     "name": "stdout",
     "output_type": "stream",
     "text": [
      "Inferencing on instance 443\n",
      "1/1 [==============================] - 0s 32ms/step\n",
      "Online training on instance 443\n",
      "1/1 - 0s - loss: 0.3539 - binary_accuracy: 0.8750 - 16ms/epoch - 16ms/step\n"
     ]
    },
    {
     "name": "stderr",
     "output_type": "stream",
     "text": [
      " 31%|███       | 444/1425 [01:30<03:01,  5.39it/s]"
     ]
    },
    {
     "name": "stdout",
     "output_type": "stream",
     "text": [
      "Inferencing on instance 444\n",
      "1/1 [==============================] - 0s 28ms/step\n",
      "Online training on instance 444\n",
      "1/1 - 0s - loss: 0.3629 - binary_accuracy: 0.8750 - 15ms/epoch - 15ms/step\n"
     ]
    },
    {
     "name": "stderr",
     "output_type": "stream",
     "text": [
      " 31%|███       | 445/1425 [01:30<02:59,  5.45it/s]"
     ]
    },
    {
     "name": "stdout",
     "output_type": "stream",
     "text": [
      "Inferencing on instance 445\n",
      "1/1 [==============================] - 0s 38ms/step\n",
      "Online training on instance 445\n",
      "1/1 - 0s - loss: 0.3494 - binary_accuracy: 0.9375 - 26ms/epoch - 26ms/step\n"
     ]
    },
    {
     "name": "stderr",
     "output_type": "stream",
     "text": [
      " 31%|███▏      | 446/1425 [01:30<03:07,  5.22it/s]"
     ]
    },
    {
     "name": "stdout",
     "output_type": "stream",
     "text": [
      "Inferencing on instance 446\n",
      "1/1 [==============================] - 0s 38ms/step\n",
      "Online training on instance 446\n",
      "1/1 - 0s - loss: 0.3779 - binary_accuracy: 0.9375 - 18ms/epoch - 18ms/step\n"
     ]
    },
    {
     "name": "stderr",
     "output_type": "stream",
     "text": [
      " 31%|███▏      | 447/1425 [01:31<03:21,  4.86it/s]"
     ]
    },
    {
     "name": "stdout",
     "output_type": "stream",
     "text": [
      "Inferencing on instance 447\n",
      "1/1 [==============================] - 0s 33ms/step\n",
      "Online training on instance 447\n",
      "1/1 - 0s - loss: 0.3631 - binary_accuracy: 0.9375 - 24ms/epoch - 24ms/step\n"
     ]
    },
    {
     "name": "stderr",
     "output_type": "stream",
     "text": [
      " 31%|███▏      | 448/1425 [01:31<03:30,  4.65it/s]"
     ]
    },
    {
     "name": "stdout",
     "output_type": "stream",
     "text": [
      "Inferencing on instance 448\n",
      "1/1 [==============================] - 0s 36ms/step\n",
      "Online training on instance 448\n",
      "1/1 - 0s - loss: 0.3277 - binary_accuracy: 0.9375 - 20ms/epoch - 20ms/step\n"
     ]
    },
    {
     "name": "stderr",
     "output_type": "stream",
     "text": [
      " 32%|███▏      | 449/1425 [01:31<03:38,  4.47it/s]"
     ]
    },
    {
     "name": "stdout",
     "output_type": "stream",
     "text": [
      "Inferencing on instance 449\n",
      "1/1 [==============================] - 0s 46ms/step\n",
      "Online training on instance 449\n",
      "1/1 - 0s - loss: 0.3280 - binary_accuracy: 0.8750 - 18ms/epoch - 18ms/step\n"
     ]
    },
    {
     "name": "stderr",
     "output_type": "stream",
     "text": [
      " 32%|███▏      | 450/1425 [01:31<03:49,  4.26it/s]"
     ]
    },
    {
     "name": "stdout",
     "output_type": "stream",
     "text": [
      "Inferencing on instance 450\n",
      "1/1 [==============================] - 0s 37ms/step\n",
      "Online training on instance 450\n",
      "1/1 - 0s - loss: 0.3479 - binary_accuracy: 0.8750 - 33ms/epoch - 33ms/step\n"
     ]
    },
    {
     "name": "stderr",
     "output_type": "stream",
     "text": [
      " 32%|███▏      | 451/1425 [01:32<03:55,  4.14it/s]"
     ]
    },
    {
     "name": "stdout",
     "output_type": "stream",
     "text": [
      "Inferencing on instance 451\n",
      "1/1 [==============================] - 0s 36ms/step\n",
      "Online training on instance 451\n",
      "1/1 - 0s - loss: 0.3435 - binary_accuracy: 0.9375 - 18ms/epoch - 18ms/step\n"
     ]
    },
    {
     "name": "stderr",
     "output_type": "stream",
     "text": [
      " 32%|███▏      | 452/1425 [01:32<03:47,  4.27it/s]"
     ]
    },
    {
     "name": "stdout",
     "output_type": "stream",
     "text": [
      "Inferencing on instance 452\n",
      "1/1 [==============================] - 0s 30ms/step\n",
      "Online training on instance 452\n",
      "1/1 - 0s - loss: 0.3405 - binary_accuracy: 0.8750 - 16ms/epoch - 16ms/step\n"
     ]
    },
    {
     "name": "stderr",
     "output_type": "stream",
     "text": [
      " 32%|███▏      | 453/1425 [01:32<03:36,  4.50it/s]"
     ]
    },
    {
     "name": "stdout",
     "output_type": "stream",
     "text": [
      "Inferencing on instance 453\n",
      "1/1 [==============================] - 0s 34ms/step\n",
      "Online training on instance 453\n",
      "1/1 - 0s - loss: 0.3797 - binary_accuracy: 0.8750 - 16ms/epoch - 16ms/step\n"
     ]
    },
    {
     "name": "stderr",
     "output_type": "stream",
     "text": [
      " 32%|███▏      | 454/1425 [01:32<03:24,  4.74it/s]"
     ]
    },
    {
     "name": "stdout",
     "output_type": "stream",
     "text": [
      "Inferencing on instance 454\n",
      "1/1 [==============================] - 0s 29ms/step\n",
      "Online training on instance 454\n",
      "1/1 - 0s - loss: 0.3087 - binary_accuracy: 1.0000 - 17ms/epoch - 17ms/step\n"
     ]
    },
    {
     "name": "stderr",
     "output_type": "stream",
     "text": [
      " 32%|███▏      | 455/1425 [01:32<03:16,  4.92it/s]"
     ]
    },
    {
     "name": "stdout",
     "output_type": "stream",
     "text": [
      "Inferencing on instance 455\n",
      "1/1 [==============================] - 0s 30ms/step\n",
      "Online training on instance 455\n",
      "1/1 - 0s - loss: 0.3523 - binary_accuracy: 0.8750 - 16ms/epoch - 16ms/step\n"
     ]
    },
    {
     "name": "stderr",
     "output_type": "stream",
     "text": [
      " 32%|███▏      | 456/1425 [01:33<03:08,  5.15it/s]"
     ]
    },
    {
     "name": "stdout",
     "output_type": "stream",
     "text": [
      "Inferencing on instance 456\n",
      "1/1 [==============================] - 0s 28ms/step\n",
      "Online training on instance 456\n",
      "1/1 - 0s - loss: 0.2692 - binary_accuracy: 1.0000 - 15ms/epoch - 15ms/step\n"
     ]
    },
    {
     "name": "stderr",
     "output_type": "stream",
     "text": [
      " 32%|███▏      | 457/1425 [01:33<02:54,  5.54it/s]"
     ]
    },
    {
     "name": "stdout",
     "output_type": "stream",
     "text": [
      "Inferencing on instance 457\n",
      "1/1 [==============================] - 0s 26ms/step\n",
      "Online training on instance 457\n",
      "1/1 - 0s - loss: 0.3187 - binary_accuracy: 1.0000 - 15ms/epoch - 15ms/step\n"
     ]
    },
    {
     "name": "stderr",
     "output_type": "stream",
     "text": [
      " 32%|███▏      | 458/1425 [01:33<03:00,  5.35it/s]"
     ]
    },
    {
     "name": "stdout",
     "output_type": "stream",
     "text": [
      "Inferencing on instance 458\n",
      "1/1 [==============================] - 0s 22ms/step\n",
      "Online training on instance 458\n",
      "1/1 - 0s - loss: 0.2787 - binary_accuracy: 1.0000 - 14ms/epoch - 14ms/step\n"
     ]
    },
    {
     "name": "stderr",
     "output_type": "stream",
     "text": [
      " 32%|███▏      | 459/1425 [01:33<02:48,  5.74it/s]"
     ]
    },
    {
     "name": "stdout",
     "output_type": "stream",
     "text": [
      "Inferencing on instance 459\n",
      "1/1 [==============================] - 0s 28ms/step\n",
      "Online training on instance 459\n",
      "1/1 - 0s - loss: 0.2951 - binary_accuracy: 1.0000 - 15ms/epoch - 15ms/step\n"
     ]
    },
    {
     "name": "stderr",
     "output_type": "stream",
     "text": [
      " 32%|███▏      | 460/1425 [01:33<02:48,  5.72it/s]"
     ]
    },
    {
     "name": "stdout",
     "output_type": "stream",
     "text": [
      "Inferencing on instance 460\n",
      "1/1 [==============================] - 0s 25ms/step\n",
      "Online training on instance 460\n",
      "1/1 - 0s - loss: 0.3061 - binary_accuracy: 1.0000 - 15ms/epoch - 15ms/step\n"
     ]
    },
    {
     "name": "stderr",
     "output_type": "stream",
     "text": [
      " 32%|███▏      | 461/1425 [01:33<02:43,  5.91it/s]"
     ]
    },
    {
     "name": "stdout",
     "output_type": "stream",
     "text": [
      "Inferencing on instance 461\n",
      "1/1 [==============================] - 0s 25ms/step\n",
      "Online training on instance 461\n",
      "1/1 - 0s - loss: 0.3085 - binary_accuracy: 0.9375 - 18ms/epoch - 18ms/step\n"
     ]
    },
    {
     "name": "stderr",
     "output_type": "stream",
     "text": [
      " 32%|███▏      | 462/1425 [01:34<02:39,  6.04it/s]"
     ]
    },
    {
     "name": "stdout",
     "output_type": "stream",
     "text": [
      "Inferencing on instance 462\n",
      "1/1 [==============================] - 0s 30ms/step\n",
      "Online training on instance 462\n",
      "1/1 - 0s - loss: 0.2985 - binary_accuracy: 0.9375 - 15ms/epoch - 15ms/step\n"
     ]
    },
    {
     "name": "stderr",
     "output_type": "stream",
     "text": [
      " 32%|███▏      | 463/1425 [01:34<02:39,  6.05it/s]"
     ]
    },
    {
     "name": "stdout",
     "output_type": "stream",
     "text": [
      "Inferencing on instance 463\n",
      "1/1 [==============================] - 0s 23ms/step\n",
      "Online training on instance 463\n",
      "1/1 - 0s - loss: 0.3100 - binary_accuracy: 0.9375 - 16ms/epoch - 16ms/step\n"
     ]
    },
    {
     "name": "stderr",
     "output_type": "stream",
     "text": [
      " 33%|███▎      | 464/1425 [01:34<02:36,  6.14it/s]"
     ]
    },
    {
     "name": "stdout",
     "output_type": "stream",
     "text": [
      "Inferencing on instance 464\n",
      "1/1 [==============================] - 0s 44ms/step\n",
      "Online training on instance 464\n",
      "1/1 - 0s - loss: 0.2874 - binary_accuracy: 0.9375 - 15ms/epoch - 15ms/step\n"
     ]
    },
    {
     "name": "stderr",
     "output_type": "stream",
     "text": [
      " 33%|███▎      | 465/1425 [01:34<02:46,  5.77it/s]"
     ]
    },
    {
     "name": "stdout",
     "output_type": "stream",
     "text": [
      "Inferencing on instance 465\n",
      "1/1 [==============================] - 0s 27ms/step\n",
      "Online training on instance 465\n",
      "1/1 - 0s - loss: 0.3085 - binary_accuracy: 0.9375 - 15ms/epoch - 15ms/step\n"
     ]
    },
    {
     "name": "stderr",
     "output_type": "stream",
     "text": [
      " 33%|███▎      | 466/1425 [01:34<02:40,  5.99it/s]"
     ]
    },
    {
     "name": "stdout",
     "output_type": "stream",
     "text": [
      "Inferencing on instance 466\n",
      "1/1 [==============================] - 0s 28ms/step\n",
      "Online training on instance 466\n",
      "1/1 - 0s - loss: 0.3070 - binary_accuracy: 0.9375 - 16ms/epoch - 16ms/step\n"
     ]
    },
    {
     "name": "stderr",
     "output_type": "stream",
     "text": [
      " 33%|███▎      | 467/1425 [01:34<02:37,  6.09it/s]"
     ]
    },
    {
     "name": "stdout",
     "output_type": "stream",
     "text": [
      "Inferencing on instance 467\n",
      "1/1 [==============================] - 0s 27ms/step\n",
      "Online training on instance 467\n",
      "1/1 - 0s - loss: 0.2673 - binary_accuracy: 1.0000 - 14ms/epoch - 14ms/step\n"
     ]
    },
    {
     "name": "stderr",
     "output_type": "stream",
     "text": [
      " 33%|███▎      | 468/1425 [01:35<02:35,  6.17it/s]"
     ]
    },
    {
     "name": "stdout",
     "output_type": "stream",
     "text": [
      "Inferencing on instance 468\n",
      "1/1 [==============================] - 0s 25ms/step\n",
      "Online training on instance 468\n",
      "1/1 - 0s - loss: 0.3002 - binary_accuracy: 0.9375 - 15ms/epoch - 15ms/step\n"
     ]
    },
    {
     "name": "stderr",
     "output_type": "stream",
     "text": [
      " 33%|███▎      | 469/1425 [01:35<02:35,  6.15it/s]"
     ]
    },
    {
     "name": "stdout",
     "output_type": "stream",
     "text": [
      "Inferencing on instance 469\n",
      "1/1 [==============================] - 0s 26ms/step\n",
      "Online training on instance 469\n",
      "1/1 - 0s - loss: 0.3051 - binary_accuracy: 0.9375 - 16ms/epoch - 16ms/step\n"
     ]
    },
    {
     "name": "stderr",
     "output_type": "stream",
     "text": [
      " 33%|███▎      | 470/1425 [01:35<02:32,  6.25it/s]"
     ]
    },
    {
     "name": "stdout",
     "output_type": "stream",
     "text": [
      "Inferencing on instance 470\n",
      "1/1 [==============================] - 0s 47ms/step\n",
      "Online training on instance 470\n",
      "1/1 - 0s - loss: 0.3146 - binary_accuracy: 0.9375 - 15ms/epoch - 15ms/step\n"
     ]
    },
    {
     "name": "stderr",
     "output_type": "stream",
     "text": [
      " 33%|███▎      | 471/1425 [01:35<02:41,  5.92it/s]"
     ]
    },
    {
     "name": "stdout",
     "output_type": "stream",
     "text": [
      "Inferencing on instance 471\n",
      "1/1 [==============================] - 0s 20ms/step\n",
      "Online training on instance 471\n",
      "1/1 - 0s - loss: 0.3477 - binary_accuracy: 0.8125 - 14ms/epoch - 14ms/step\n"
     ]
    },
    {
     "name": "stderr",
     "output_type": "stream",
     "text": [
      " 33%|███▎      | 472/1425 [01:35<02:40,  5.93it/s]"
     ]
    },
    {
     "name": "stdout",
     "output_type": "stream",
     "text": [
      "Inferencing on instance 472\n",
      "1/1 [==============================] - 0s 24ms/step\n",
      "Online training on instance 472\n",
      "1/1 - 0s - loss: 0.4420 - binary_accuracy: 0.7500 - 16ms/epoch - 16ms/step\n"
     ]
    },
    {
     "name": "stderr",
     "output_type": "stream",
     "text": [
      " 33%|███▎      | 473/1425 [01:35<02:42,  5.84it/s]"
     ]
    },
    {
     "name": "stdout",
     "output_type": "stream",
     "text": [
      "Inferencing on instance 473\n",
      "1/1 [==============================] - 0s 28ms/step\n",
      "Online training on instance 473\n",
      "1/1 - 0s - loss: 0.4809 - binary_accuracy: 0.8125 - 15ms/epoch - 15ms/step\n"
     ]
    },
    {
     "name": "stderr",
     "output_type": "stream",
     "text": [
      " 33%|███▎      | 474/1425 [01:36<02:38,  6.01it/s]"
     ]
    },
    {
     "name": "stdout",
     "output_type": "stream",
     "text": [
      "Inferencing on instance 474\n",
      "1/1 [==============================] - 0s 25ms/step\n",
      "Online training on instance 474\n",
      "1/1 - 0s - loss: 0.6203 - binary_accuracy: 0.7500 - 15ms/epoch - 15ms/step\n"
     ]
    },
    {
     "name": "stderr",
     "output_type": "stream",
     "text": [
      " 33%|███▎      | 475/1425 [01:36<02:34,  6.14it/s]"
     ]
    },
    {
     "name": "stdout",
     "output_type": "stream",
     "text": [
      "Inferencing on instance 475\n",
      "1/1 [==============================] - 0s 25ms/step\n",
      "Online training on instance 475\n",
      "1/1 - 0s - loss: 0.7632 - binary_accuracy: 0.6250 - 22ms/epoch - 22ms/step\n"
     ]
    },
    {
     "name": "stderr",
     "output_type": "stream",
     "text": [
      " 33%|███▎      | 476/1425 [01:36<02:40,  5.90it/s]"
     ]
    },
    {
     "name": "stdout",
     "output_type": "stream",
     "text": [
      "Inferencing on instance 476\n",
      "1/1 [==============================] - 0s 29ms/step\n",
      "Online training on instance 476\n",
      "1/1 - 0s - loss: 0.9438 - binary_accuracy: 0.5625 - 14ms/epoch - 14ms/step\n"
     ]
    },
    {
     "name": "stderr",
     "output_type": "stream",
     "text": [
      " 33%|███▎      | 477/1425 [01:36<02:44,  5.76it/s]"
     ]
    },
    {
     "name": "stdout",
     "output_type": "stream",
     "text": [
      "Inferencing on instance 477\n",
      "1/1 [==============================] - 0s 26ms/step\n",
      "Online training on instance 477\n",
      "1/1 - 0s - loss: 0.9790 - binary_accuracy: 0.5000 - 14ms/epoch - 14ms/step\n"
     ]
    },
    {
     "name": "stderr",
     "output_type": "stream",
     "text": [
      " 34%|███▎      | 478/1425 [01:36<02:44,  5.77it/s]"
     ]
    },
    {
     "name": "stdout",
     "output_type": "stream",
     "text": [
      "Inferencing on instance 478\n",
      "1/1 [==============================] - 0s 27ms/step\n",
      "Online training on instance 478\n",
      "1/1 - 0s - loss: 1.1586 - binary_accuracy: 0.3750 - 15ms/epoch - 15ms/step\n"
     ]
    },
    {
     "name": "stderr",
     "output_type": "stream",
     "text": [
      " 34%|███▎      | 479/1425 [01:36<02:37,  5.99it/s]"
     ]
    },
    {
     "name": "stdout",
     "output_type": "stream",
     "text": [
      "Inferencing on instance 479\n",
      "1/1 [==============================] - 0s 24ms/step\n",
      "Online training on instance 479\n",
      "1/1 - 0s - loss: 1.2812 - binary_accuracy: 0.3750 - 16ms/epoch - 16ms/step\n"
     ]
    },
    {
     "name": "stderr",
     "output_type": "stream",
     "text": [
      " 34%|███▎      | 480/1425 [01:37<02:33,  6.17it/s]"
     ]
    },
    {
     "name": "stdout",
     "output_type": "stream",
     "text": [
      "Inferencing on instance 480\n",
      "1/1 [==============================] - 0s 23ms/step\n",
      "Online training on instance 480\n",
      "1/1 - 0s - loss: 1.3371 - binary_accuracy: 0.3125 - 14ms/epoch - 14ms/step\n"
     ]
    },
    {
     "name": "stderr",
     "output_type": "stream",
     "text": [
      " 34%|███▍      | 481/1425 [01:37<02:32,  6.19it/s]"
     ]
    },
    {
     "name": "stdout",
     "output_type": "stream",
     "text": [
      "Inferencing on instance 481\n",
      "1/1 [==============================] - 0s 25ms/step\n",
      "Online training on instance 481\n",
      "1/1 - 0s - loss: 1.3969 - binary_accuracy: 0.2500 - 15ms/epoch - 15ms/step\n"
     ]
    },
    {
     "name": "stderr",
     "output_type": "stream",
     "text": [
      " 34%|███▍      | 482/1425 [01:37<02:29,  6.32it/s]"
     ]
    },
    {
     "name": "stdout",
     "output_type": "stream",
     "text": [
      "Inferencing on instance 482\n",
      "1/1 [==============================] - 0s 32ms/step\n",
      "Online training on instance 482\n",
      "1/1 - 0s - loss: 1.3635 - binary_accuracy: 0.3125 - 15ms/epoch - 15ms/step\n"
     ]
    },
    {
     "name": "stderr",
     "output_type": "stream",
     "text": [
      " 34%|███▍      | 483/1425 [01:37<02:31,  6.22it/s]"
     ]
    },
    {
     "name": "stdout",
     "output_type": "stream",
     "text": [
      "Inferencing on instance 483\n",
      "1/1 [==============================] - 0s 29ms/step\n",
      "Online training on instance 483\n",
      "1/1 - 0s - loss: 1.5356 - binary_accuracy: 0.2500 - 23ms/epoch - 23ms/step\n"
     ]
    },
    {
     "name": "stderr",
     "output_type": "stream",
     "text": [
      " 34%|███▍      | 484/1425 [01:37<02:37,  5.99it/s]"
     ]
    },
    {
     "name": "stdout",
     "output_type": "stream",
     "text": [
      "Inferencing on instance 484\n",
      "1/1 [==============================] - 0s 30ms/step\n",
      "Online training on instance 484\n",
      "1/1 - 0s - loss: 1.6004 - binary_accuracy: 0.1875 - 14ms/epoch - 14ms/step\n"
     ]
    },
    {
     "name": "stderr",
     "output_type": "stream",
     "text": [
      " 34%|███▍      | 485/1425 [01:37<02:37,  5.96it/s]"
     ]
    },
    {
     "name": "stdout",
     "output_type": "stream",
     "text": [
      "Inferencing on instance 485\n",
      "1/1 [==============================] - 0s 24ms/step\n",
      "Online training on instance 485\n",
      "1/1 - 0s - loss: 1.6194 - binary_accuracy: 0.0625 - 17ms/epoch - 17ms/step\n"
     ]
    },
    {
     "name": "stderr",
     "output_type": "stream",
     "text": [
      " 34%|███▍      | 486/1425 [01:38<02:33,  6.11it/s]"
     ]
    },
    {
     "name": "stdout",
     "output_type": "stream",
     "text": [
      "Inferencing on instance 486\n",
      "1/1 [==============================] - 0s 26ms/step\n",
      "Online training on instance 486\n",
      "1/1 - 0s - loss: 1.5417 - binary_accuracy: 0.0625 - 15ms/epoch - 15ms/step\n"
     ]
    },
    {
     "name": "stderr",
     "output_type": "stream",
     "text": [
      " 34%|███▍      | 487/1425 [01:38<02:34,  6.09it/s]"
     ]
    },
    {
     "name": "stdout",
     "output_type": "stream",
     "text": [
      "Inferencing on instance 487\n",
      "1/1 [==============================] - 0s 24ms/step\n",
      "Online training on instance 487\n",
      "1/1 - 0s - loss: 1.5948 - binary_accuracy: 0.0625 - 15ms/epoch - 15ms/step\n"
     ]
    },
    {
     "name": "stderr",
     "output_type": "stream",
     "text": [
      " 34%|███▍      | 488/1425 [01:38<02:30,  6.23it/s]"
     ]
    },
    {
     "name": "stdout",
     "output_type": "stream",
     "text": [
      "Inferencing on instance 488\n",
      "1/1 [==============================] - 0s 26ms/step\n",
      "Online training on instance 488\n",
      "1/1 - 0s - loss: 1.4900 - binary_accuracy: 0.1250 - 16ms/epoch - 16ms/step\n"
     ]
    },
    {
     "name": "stderr",
     "output_type": "stream",
     "text": [
      " 34%|███▍      | 489/1425 [01:38<02:31,  6.18it/s]"
     ]
    },
    {
     "name": "stdout",
     "output_type": "stream",
     "text": [
      "Inferencing on instance 489\n",
      "1/1 [==============================] - 0s 44ms/step\n",
      "Online training on instance 489\n",
      "1/1 - 0s - loss: 1.4060 - binary_accuracy: 0.1250 - 15ms/epoch - 15ms/step\n"
     ]
    },
    {
     "name": "stderr",
     "output_type": "stream",
     "text": [
      " 34%|███▍      | 490/1425 [01:38<02:45,  5.63it/s]"
     ]
    },
    {
     "name": "stdout",
     "output_type": "stream",
     "text": [
      "Inferencing on instance 490\n",
      "1/1 [==============================] - 0s 22ms/step\n",
      "Online training on instance 490\n",
      "1/1 - 0s - loss: 1.4185 - binary_accuracy: 0.1250 - 14ms/epoch - 14ms/step\n"
     ]
    },
    {
     "name": "stderr",
     "output_type": "stream",
     "text": [
      " 34%|███▍      | 491/1425 [01:38<02:40,  5.82it/s]"
     ]
    },
    {
     "name": "stdout",
     "output_type": "stream",
     "text": [
      "Inferencing on instance 491\n",
      "1/1 [==============================] - 0s 27ms/step\n",
      "Online training on instance 491\n",
      "1/1 - 0s - loss: 1.3550 - binary_accuracy: 0.1250 - 14ms/epoch - 14ms/step\n"
     ]
    },
    {
     "name": "stderr",
     "output_type": "stream",
     "text": [
      " 35%|███▍      | 492/1425 [01:39<02:35,  5.99it/s]"
     ]
    },
    {
     "name": "stdout",
     "output_type": "stream",
     "text": [
      "Inferencing on instance 492\n",
      "1/1 [==============================] - 0s 29ms/step\n",
      "Online training on instance 492\n",
      "1/1 - 0s - loss: 1.4391 - binary_accuracy: 0.0625 - 21ms/epoch - 21ms/step\n"
     ]
    },
    {
     "name": "stderr",
     "output_type": "stream",
     "text": [
      " 35%|███▍      | 493/1425 [01:39<02:36,  5.96it/s]"
     ]
    },
    {
     "name": "stdout",
     "output_type": "stream",
     "text": [
      "Inferencing on instance 493\n",
      "1/1 [==============================] - 0s 26ms/step\n",
      "Online training on instance 493\n",
      "1/1 - 0s - loss: 1.3397 - binary_accuracy: 0.0000e+00 - 16ms/epoch - 16ms/step\n"
     ]
    },
    {
     "name": "stderr",
     "output_type": "stream",
     "text": [
      " 35%|███▍      | 494/1425 [01:39<02:34,  6.02it/s]"
     ]
    },
    {
     "name": "stdout",
     "output_type": "stream",
     "text": [
      "Inferencing on instance 494\n",
      "1/1 [==============================] - 0s 27ms/step\n",
      "Online training on instance 494\n",
      "1/1 - 0s - loss: 1.3117 - binary_accuracy: 0.1250 - 15ms/epoch - 15ms/step\n"
     ]
    },
    {
     "name": "stderr",
     "output_type": "stream",
     "text": [
      " 35%|███▍      | 495/1425 [01:39<02:33,  6.06it/s]"
     ]
    },
    {
     "name": "stdout",
     "output_type": "stream",
     "text": [
      "Inferencing on instance 495\n",
      "1/1 [==============================] - 0s 39ms/step\n",
      "Online training on instance 495\n",
      "1/1 - 0s - loss: 1.1764 - binary_accuracy: 0.1250 - 16ms/epoch - 16ms/step\n"
     ]
    },
    {
     "name": "stderr",
     "output_type": "stream",
     "text": [
      " 35%|███▍      | 496/1425 [01:39<02:46,  5.59it/s]"
     ]
    },
    {
     "name": "stdout",
     "output_type": "stream",
     "text": [
      "Inferencing on instance 496\n",
      "1/1 [==============================] - 0s 27ms/step\n",
      "Online training on instance 496\n",
      "1/1 - 0s - loss: 1.1349 - binary_accuracy: 0.2500 - 16ms/epoch - 16ms/step\n"
     ]
    },
    {
     "name": "stderr",
     "output_type": "stream",
     "text": [
      " 35%|███▍      | 497/1425 [01:39<02:44,  5.63it/s]"
     ]
    },
    {
     "name": "stdout",
     "output_type": "stream",
     "text": [
      "Inferencing on instance 497\n",
      "1/1 [==============================] - 0s 29ms/step\n",
      "Online training on instance 497\n",
      "1/1 - 0s - loss: 1.0413 - binary_accuracy: 0.3125 - 16ms/epoch - 16ms/step\n"
     ]
    },
    {
     "name": "stderr",
     "output_type": "stream",
     "text": [
      " 35%|███▍      | 498/1425 [01:40<02:45,  5.59it/s]"
     ]
    },
    {
     "name": "stdout",
     "output_type": "stream",
     "text": [
      "Inferencing on instance 498\n",
      "1/1 [==============================] - 0s 28ms/step\n",
      "Online training on instance 498\n",
      "1/1 - 0s - loss: 1.0760 - binary_accuracy: 0.3750 - 17ms/epoch - 17ms/step\n"
     ]
    },
    {
     "name": "stderr",
     "output_type": "stream",
     "text": [
      " 35%|███▌      | 499/1425 [01:40<02:49,  5.48it/s]"
     ]
    },
    {
     "name": "stdout",
     "output_type": "stream",
     "text": [
      "Inferencing on instance 499\n",
      "1/1 [==============================] - 0s 24ms/step\n",
      "Online training on instance 499\n",
      "1/1 - 0s - loss: 0.9778 - binary_accuracy: 0.3750 - 16ms/epoch - 16ms/step\n"
     ]
    },
    {
     "name": "stderr",
     "output_type": "stream",
     "text": [
      " 35%|███▌      | 500/1425 [01:40<02:43,  5.65it/s]"
     ]
    },
    {
     "name": "stdout",
     "output_type": "stream",
     "text": [
      "Inferencing on instance 500\n",
      "1/1 [==============================] - 0s 26ms/step\n",
      "Online training on instance 500\n",
      "1/1 - 0s - loss: 0.8695 - binary_accuracy: 0.5625 - 16ms/epoch - 16ms/step\n"
     ]
    },
    {
     "name": "stderr",
     "output_type": "stream",
     "text": [
      " 35%|███▌      | 501/1425 [01:40<02:43,  5.67it/s]"
     ]
    },
    {
     "name": "stdout",
     "output_type": "stream",
     "text": [
      "Inferencing on instance 501\n",
      "1/1 [==============================] - 0s 29ms/step\n",
      "Online training on instance 501\n",
      "1/1 - 0s - loss: 0.9035 - binary_accuracy: 0.5000 - 16ms/epoch - 16ms/step\n"
     ]
    },
    {
     "name": "stderr",
     "output_type": "stream",
     "text": [
      " 35%|███▌      | 502/1425 [01:40<02:39,  5.78it/s]"
     ]
    },
    {
     "name": "stdout",
     "output_type": "stream",
     "text": [
      "Inferencing on instance 502\n",
      "1/1 [==============================] - 0s 25ms/step\n",
      "Online training on instance 502\n",
      "1/1 - 0s - loss: 0.8626 - binary_accuracy: 0.7500 - 14ms/epoch - 14ms/step\n"
     ]
    },
    {
     "name": "stderr",
     "output_type": "stream",
     "text": [
      " 35%|███▌      | 503/1425 [01:41<02:46,  5.53it/s]"
     ]
    },
    {
     "name": "stdout",
     "output_type": "stream",
     "text": [
      "Inferencing on instance 503\n",
      "1/1 [==============================] - 0s 29ms/step\n",
      "Online training on instance 503\n",
      "1/1 - 0s - loss: 0.8164 - binary_accuracy: 0.7500 - 17ms/epoch - 17ms/step\n"
     ]
    },
    {
     "name": "stderr",
     "output_type": "stream",
     "text": [
      " 35%|███▌      | 504/1425 [01:41<02:42,  5.66it/s]"
     ]
    },
    {
     "name": "stdout",
     "output_type": "stream",
     "text": [
      "Inferencing on instance 504\n",
      "1/1 [==============================] - 0s 29ms/step\n",
      "Online training on instance 504\n",
      "1/1 - 0s - loss: 0.7724 - binary_accuracy: 0.7500 - 19ms/epoch - 19ms/step\n"
     ]
    },
    {
     "name": "stderr",
     "output_type": "stream",
     "text": [
      " 35%|███▌      | 505/1425 [01:41<02:51,  5.37it/s]"
     ]
    },
    {
     "name": "stdout",
     "output_type": "stream",
     "text": [
      "Inferencing on instance 505\n",
      "1/1 [==============================] - 0s 36ms/step\n",
      "Online training on instance 505\n",
      "1/1 - 0s - loss: 0.6572 - binary_accuracy: 0.8125 - 17ms/epoch - 17ms/step\n"
     ]
    },
    {
     "name": "stderr",
     "output_type": "stream",
     "text": [
      " 36%|███▌      | 506/1425 [01:41<02:51,  5.37it/s]"
     ]
    },
    {
     "name": "stdout",
     "output_type": "stream",
     "text": [
      "Inferencing on instance 506\n",
      "1/1 [==============================] - 0s 32ms/step\n",
      "Online training on instance 506\n",
      "1/1 - 0s - loss: 0.5319 - binary_accuracy: 0.8750 - 18ms/epoch - 18ms/step\n"
     ]
    },
    {
     "name": "stderr",
     "output_type": "stream",
     "text": [
      " 36%|███▌      | 507/1425 [01:41<02:54,  5.26it/s]"
     ]
    },
    {
     "name": "stdout",
     "output_type": "stream",
     "text": [
      "Inferencing on instance 507\n",
      "1/1 [==============================] - 0s 26ms/step\n",
      "Online training on instance 507\n",
      "1/1 - 0s - loss: 0.5515 - binary_accuracy: 0.9375 - 22ms/epoch - 22ms/step\n"
     ]
    },
    {
     "name": "stderr",
     "output_type": "stream",
     "text": [
      " 36%|███▌      | 508/1425 [01:41<02:58,  5.13it/s]"
     ]
    },
    {
     "name": "stdout",
     "output_type": "stream",
     "text": [
      "Inferencing on instance 508\n",
      "1/1 [==============================] - 0s 35ms/step\n",
      "Online training on instance 508\n",
      "1/1 - 0s - loss: 0.5642 - binary_accuracy: 0.8125 - 20ms/epoch - 20ms/step\n"
     ]
    },
    {
     "name": "stderr",
     "output_type": "stream",
     "text": [
      " 36%|███▌      | 509/1425 [01:42<03:09,  4.82it/s]"
     ]
    },
    {
     "name": "stdout",
     "output_type": "stream",
     "text": [
      "Inferencing on instance 509\n",
      "1/1 [==============================] - 0s 50ms/step\n",
      "Online training on instance 509\n",
      "1/1 - 0s - loss: 0.5121 - binary_accuracy: 1.0000 - 17ms/epoch - 17ms/step\n"
     ]
    },
    {
     "name": "stderr",
     "output_type": "stream",
     "text": [
      " 36%|███▌      | 510/1425 [01:42<03:26,  4.42it/s]"
     ]
    },
    {
     "name": "stdout",
     "output_type": "stream",
     "text": [
      "Inferencing on instance 510\n",
      "1/1 [==============================] - 0s 38ms/step\n",
      "Online training on instance 510\n",
      "1/1 - 0s - loss: 0.5009 - binary_accuracy: 1.0000 - 18ms/epoch - 18ms/step\n"
     ]
    },
    {
     "name": "stderr",
     "output_type": "stream",
     "text": [
      " 36%|███▌      | 511/1425 [01:42<03:25,  4.46it/s]"
     ]
    },
    {
     "name": "stdout",
     "output_type": "stream",
     "text": [
      "Inferencing on instance 511\n",
      "1/1 [==============================] - 0s 36ms/step\n",
      "Online training on instance 511\n",
      "1/1 - 0s - loss: 0.5501 - binary_accuracy: 0.8750 - 18ms/epoch - 18ms/step\n"
     ]
    },
    {
     "name": "stderr",
     "output_type": "stream",
     "text": [
      " 36%|███▌      | 512/1425 [01:42<03:23,  4.48it/s]"
     ]
    },
    {
     "name": "stdout",
     "output_type": "stream",
     "text": [
      "Inferencing on instance 512\n",
      "1/1 [==============================] - 0s 31ms/step\n",
      "Online training on instance 512\n",
      "1/1 - 0s - loss: 0.5055 - binary_accuracy: 0.9375 - 18ms/epoch - 18ms/step\n"
     ]
    },
    {
     "name": "stderr",
     "output_type": "stream",
     "text": [
      " 36%|███▌      | 513/1425 [01:43<03:13,  4.72it/s]"
     ]
    },
    {
     "name": "stdout",
     "output_type": "stream",
     "text": [
      "Inferencing on instance 513\n",
      "1/1 [==============================] - 0s 24ms/step\n",
      "Online training on instance 513\n",
      "1/1 - 0s - loss: 0.4981 - binary_accuracy: 0.9375 - 18ms/epoch - 18ms/step\n"
     ]
    },
    {
     "name": "stderr",
     "output_type": "stream",
     "text": [
      " 36%|███▌      | 514/1425 [01:43<03:15,  4.65it/s]"
     ]
    },
    {
     "name": "stdout",
     "output_type": "stream",
     "text": [
      "Inferencing on instance 514\n",
      "1/1 [==============================] - 0s 29ms/step\n",
      "Online training on instance 514\n",
      "1/1 - 0s - loss: 0.4839 - binary_accuracy: 0.9375 - 17ms/epoch - 17ms/step\n"
     ]
    },
    {
     "name": "stderr",
     "output_type": "stream",
     "text": [
      " 36%|███▌      | 515/1425 [01:43<03:06,  4.89it/s]"
     ]
    },
    {
     "name": "stdout",
     "output_type": "stream",
     "text": [
      "Inferencing on instance 515\n",
      "1/1 [==============================] - 0s 31ms/step\n",
      "Online training on instance 515\n",
      "1/1 - 0s - loss: 0.5151 - binary_accuracy: 1.0000 - 17ms/epoch - 17ms/step\n"
     ]
    },
    {
     "name": "stderr",
     "output_type": "stream",
     "text": [
      " 36%|███▌      | 516/1425 [01:43<02:59,  5.05it/s]"
     ]
    },
    {
     "name": "stdout",
     "output_type": "stream",
     "text": [
      "Inferencing on instance 516\n",
      "1/1 [==============================] - 0s 21ms/step\n",
      "Online training on instance 516\n",
      "1/1 - 0s - loss: 0.4781 - binary_accuracy: 1.0000 - 17ms/epoch - 17ms/step\n"
     ]
    },
    {
     "name": "stderr",
     "output_type": "stream",
     "text": [
      " 36%|███▋      | 517/1425 [01:43<02:54,  5.21it/s]"
     ]
    },
    {
     "name": "stdout",
     "output_type": "stream",
     "text": [
      "Inferencing on instance 517\n",
      "1/1 [==============================] - 0s 36ms/step\n",
      "Online training on instance 517\n",
      "1/1 - 0s - loss: 0.4506 - binary_accuracy: 1.0000 - 17ms/epoch - 17ms/step\n"
     ]
    },
    {
     "name": "stderr",
     "output_type": "stream",
     "text": [
      " 36%|███▋      | 518/1425 [01:44<02:57,  5.11it/s]"
     ]
    },
    {
     "name": "stdout",
     "output_type": "stream",
     "text": [
      "Inferencing on instance 518\n",
      "1/1 [==============================] - 0s 50ms/step\n",
      "Online training on instance 518\n",
      "1/1 - 0s - loss: 0.4551 - binary_accuracy: 1.0000 - 18ms/epoch - 18ms/step\n"
     ]
    },
    {
     "name": "stderr",
     "output_type": "stream",
     "text": [
      " 36%|███▋      | 519/1425 [01:44<03:03,  4.93it/s]"
     ]
    },
    {
     "name": "stdout",
     "output_type": "stream",
     "text": [
      "Inferencing on instance 519\n",
      "1/1 [==============================] - 0s 36ms/step\n",
      "Online training on instance 519\n",
      "1/1 - 0s - loss: 0.4470 - binary_accuracy: 1.0000 - 17ms/epoch - 17ms/step\n"
     ]
    },
    {
     "name": "stderr",
     "output_type": "stream",
     "text": [
      " 36%|███▋      | 520/1425 [01:44<03:01,  4.98it/s]"
     ]
    },
    {
     "name": "stdout",
     "output_type": "stream",
     "text": [
      "Inferencing on instance 520\n",
      "1/1 [==============================] - 0s 25ms/step\n",
      "Online training on instance 520\n",
      "1/1 - 0s - loss: 0.4427 - binary_accuracy: 0.9375 - 18ms/epoch - 18ms/step\n"
     ]
    },
    {
     "name": "stderr",
     "output_type": "stream",
     "text": [
      " 37%|███▋      | 521/1425 [01:44<03:00,  5.00it/s]"
     ]
    },
    {
     "name": "stdout",
     "output_type": "stream",
     "text": [
      "Inferencing on instance 521\n",
      "1/1 [==============================] - 0s 24ms/step\n",
      "Online training on instance 521\n",
      "1/1 - 0s - loss: 0.4166 - binary_accuracy: 1.0000 - 16ms/epoch - 16ms/step\n"
     ]
    },
    {
     "name": "stderr",
     "output_type": "stream",
     "text": [
      " 37%|███▋      | 522/1425 [01:44<02:53,  5.21it/s]"
     ]
    },
    {
     "name": "stdout",
     "output_type": "stream",
     "text": [
      "Inferencing on instance 522\n",
      "1/1 [==============================] - 0s 38ms/step\n",
      "Online training on instance 522\n",
      "1/1 - 0s - loss: 0.3944 - binary_accuracy: 1.0000 - 16ms/epoch - 16ms/step\n"
     ]
    },
    {
     "name": "stderr",
     "output_type": "stream",
     "text": [
      " 37%|███▋      | 523/1425 [01:45<02:54,  5.17it/s]"
     ]
    },
    {
     "name": "stdout",
     "output_type": "stream",
     "text": [
      "Inferencing on instance 523\n",
      "1/1 [==============================] - 0s 28ms/step\n",
      "Online training on instance 523\n",
      "1/1 - 0s - loss: 0.3907 - binary_accuracy: 1.0000 - 19ms/epoch - 19ms/step\n"
     ]
    },
    {
     "name": "stderr",
     "output_type": "stream",
     "text": [
      " 37%|███▋      | 524/1425 [01:45<03:13,  4.66it/s]"
     ]
    },
    {
     "name": "stdout",
     "output_type": "stream",
     "text": [
      "Inferencing on instance 524\n",
      "1/1 [==============================] - 0s 43ms/step\n",
      "Online training on instance 524\n",
      "1/1 - 0s - loss: 0.4374 - binary_accuracy: 1.0000 - 15ms/epoch - 15ms/step\n"
     ]
    },
    {
     "name": "stderr",
     "output_type": "stream",
     "text": [
      " 37%|███▋      | 525/1425 [01:45<03:19,  4.50it/s]"
     ]
    },
    {
     "name": "stdout",
     "output_type": "stream",
     "text": [
      "Inferencing on instance 525\n",
      "1/1 [==============================] - 0s 32ms/step\n",
      "Online training on instance 525\n",
      "1/1 - 0s - loss: 0.4145 - binary_accuracy: 1.0000 - 15ms/epoch - 15ms/step\n"
     ]
    },
    {
     "name": "stderr",
     "output_type": "stream",
     "text": [
      " 37%|███▋      | 526/1425 [01:45<03:11,  4.70it/s]"
     ]
    },
    {
     "name": "stdout",
     "output_type": "stream",
     "text": [
      "Inferencing on instance 526\n",
      "1/1 [==============================] - 0s 27ms/step\n",
      "Online training on instance 526\n",
      "1/1 - 0s - loss: 0.3793 - binary_accuracy: 0.9375 - 17ms/epoch - 17ms/step\n"
     ]
    },
    {
     "name": "stderr",
     "output_type": "stream",
     "text": [
      " 37%|███▋      | 527/1425 [01:45<03:02,  4.91it/s]"
     ]
    },
    {
     "name": "stdout",
     "output_type": "stream",
     "text": [
      "Inferencing on instance 527\n",
      "1/1 [==============================] - 0s 36ms/step\n",
      "Online training on instance 527\n",
      "1/1 - 0s - loss: 0.4235 - binary_accuracy: 1.0000 - 16ms/epoch - 16ms/step\n"
     ]
    },
    {
     "name": "stderr",
     "output_type": "stream",
     "text": [
      " 37%|███▋      | 528/1425 [01:46<02:58,  5.03it/s]"
     ]
    },
    {
     "name": "stdout",
     "output_type": "stream",
     "text": [
      "Inferencing on instance 528\n",
      "1/1 [==============================] - 0s 55ms/step\n",
      "Online training on instance 528\n",
      "1/1 - 0s - loss: 0.4046 - binary_accuracy: 0.9375 - 16ms/epoch - 16ms/step\n"
     ]
    },
    {
     "name": "stderr",
     "output_type": "stream",
     "text": [
      " 37%|███▋      | 529/1425 [01:46<03:07,  4.77it/s]"
     ]
    },
    {
     "name": "stdout",
     "output_type": "stream",
     "text": [
      "Inferencing on instance 529\n",
      "1/1 [==============================] - 0s 26ms/step\n",
      "Online training on instance 529\n",
      "1/1 - 0s - loss: 0.3720 - binary_accuracy: 1.0000 - 18ms/epoch - 18ms/step\n"
     ]
    },
    {
     "name": "stderr",
     "output_type": "stream",
     "text": [
      " 37%|███▋      | 530/1425 [01:46<03:04,  4.85it/s]"
     ]
    },
    {
     "name": "stdout",
     "output_type": "stream",
     "text": [
      "Inferencing on instance 530\n",
      "1/1 [==============================] - 0s 29ms/step\n",
      "Online training on instance 530\n",
      "1/1 - 0s - loss: 0.3676 - binary_accuracy: 1.0000 - 17ms/epoch - 17ms/step\n"
     ]
    },
    {
     "name": "stderr",
     "output_type": "stream",
     "text": [
      " 37%|███▋      | 531/1425 [01:46<02:59,  4.97it/s]"
     ]
    },
    {
     "name": "stdout",
     "output_type": "stream",
     "text": [
      "Inferencing on instance 531\n",
      "1/1 [==============================] - 0s 32ms/step\n",
      "Online training on instance 531\n",
      "1/1 - 0s - loss: 0.3787 - binary_accuracy: 0.9375 - 19ms/epoch - 19ms/step\n"
     ]
    },
    {
     "name": "stderr",
     "output_type": "stream",
     "text": [
      " 37%|███▋      | 532/1425 [01:46<03:00,  4.96it/s]"
     ]
    },
    {
     "name": "stdout",
     "output_type": "stream",
     "text": [
      "Inferencing on instance 532\n",
      "1/1 [==============================] - 0s 36ms/step\n",
      "Online training on instance 532\n",
      "1/1 - 0s - loss: 0.3589 - binary_accuracy: 1.0000 - 26ms/epoch - 26ms/step\n"
     ]
    },
    {
     "name": "stderr",
     "output_type": "stream",
     "text": [
      " 37%|███▋      | 533/1425 [01:47<03:13,  4.60it/s]"
     ]
    },
    {
     "name": "stdout",
     "output_type": "stream",
     "text": [
      "Inferencing on instance 533\n",
      "1/1 [==============================] - 0s 35ms/step\n",
      "Online training on instance 533\n",
      "1/1 - 0s - loss: 0.3260 - binary_accuracy: 1.0000 - 17ms/epoch - 17ms/step\n"
     ]
    },
    {
     "name": "stderr",
     "output_type": "stream",
     "text": [
      " 37%|███▋      | 534/1425 [01:47<03:09,  4.71it/s]"
     ]
    },
    {
     "name": "stdout",
     "output_type": "stream",
     "text": [
      "Inferencing on instance 534\n",
      "1/1 [==============================] - 0s 30ms/step\n",
      "Online training on instance 534\n",
      "1/1 - 0s - loss: 0.3245 - binary_accuracy: 1.0000 - 18ms/epoch - 18ms/step\n"
     ]
    },
    {
     "name": "stderr",
     "output_type": "stream",
     "text": [
      " 38%|███▊      | 535/1425 [01:47<03:05,  4.81it/s]"
     ]
    },
    {
     "name": "stdout",
     "output_type": "stream",
     "text": [
      "Inferencing on instance 535\n",
      "1/1 [==============================] - 0s 39ms/step\n",
      "Online training on instance 535\n",
      "1/1 - 0s - loss: 0.3476 - binary_accuracy: 1.0000 - 17ms/epoch - 17ms/step\n"
     ]
    },
    {
     "name": "stderr",
     "output_type": "stream",
     "text": [
      " 38%|███▊      | 536/1425 [01:47<03:03,  4.83it/s]"
     ]
    },
    {
     "name": "stdout",
     "output_type": "stream",
     "text": [
      "Inferencing on instance 536\n",
      "1/1 [==============================] - 0s 24ms/step\n",
      "Online training on instance 536\n",
      "1/1 - 0s - loss: 0.3367 - binary_accuracy: 1.0000 - 17ms/epoch - 17ms/step\n"
     ]
    },
    {
     "name": "stderr",
     "output_type": "stream",
     "text": [
      " 38%|███▊      | 537/1425 [01:47<02:56,  5.04it/s]"
     ]
    },
    {
     "name": "stdout",
     "output_type": "stream",
     "text": [
      "Inferencing on instance 537\n",
      "1/1 [==============================] - 0s 47ms/step\n",
      "Online training on instance 537\n",
      "1/1 - 0s - loss: 0.3350 - binary_accuracy: 1.0000 - 21ms/epoch - 21ms/step\n"
     ]
    },
    {
     "name": "stderr",
     "output_type": "stream",
     "text": [
      " 38%|███▊      | 538/1425 [01:48<03:08,  4.71it/s]"
     ]
    },
    {
     "name": "stdout",
     "output_type": "stream",
     "text": [
      "Inferencing on instance 538\n",
      "1/1 [==============================] - 0s 29ms/step\n",
      "Online training on instance 538\n",
      "1/1 - 0s - loss: 0.3106 - binary_accuracy: 1.0000 - 15ms/epoch - 15ms/step\n"
     ]
    },
    {
     "name": "stderr",
     "output_type": "stream",
     "text": [
      " 38%|███▊      | 539/1425 [01:48<03:00,  4.91it/s]"
     ]
    },
    {
     "name": "stdout",
     "output_type": "stream",
     "text": [
      "Inferencing on instance 539\n",
      "1/1 [==============================] - 0s 31ms/step\n",
      "Online training on instance 539\n",
      "1/1 - 0s - loss: 0.3264 - binary_accuracy: 0.9375 - 18ms/epoch - 18ms/step\n"
     ]
    },
    {
     "name": "stderr",
     "output_type": "stream",
     "text": [
      " 38%|███▊      | 540/1425 [01:48<02:56,  5.01it/s]"
     ]
    },
    {
     "name": "stdout",
     "output_type": "stream",
     "text": [
      "Inferencing on instance 540\n",
      "1/1 [==============================] - 0s 34ms/step\n",
      "Online training on instance 540\n",
      "1/1 - 0s - loss: 0.3326 - binary_accuracy: 0.9375 - 15ms/epoch - 15ms/step\n"
     ]
    },
    {
     "name": "stderr",
     "output_type": "stream",
     "text": [
      " 38%|███▊      | 541/1425 [01:48<02:56,  5.01it/s]"
     ]
    },
    {
     "name": "stdout",
     "output_type": "stream",
     "text": [
      "Inferencing on instance 541\n",
      "1/1 [==============================] - 0s 31ms/step\n",
      "Online training on instance 541\n",
      "1/1 - 0s - loss: 0.2989 - binary_accuracy: 1.0000 - 16ms/epoch - 16ms/step\n"
     ]
    },
    {
     "name": "stderr",
     "output_type": "stream",
     "text": [
      " 38%|███▊      | 542/1425 [01:48<02:49,  5.20it/s]"
     ]
    },
    {
     "name": "stdout",
     "output_type": "stream",
     "text": [
      "Inferencing on instance 542\n",
      "1/1 [==============================] - 0s 49ms/step\n",
      "Online training on instance 542\n",
      "1/1 - 0s - loss: 0.3192 - binary_accuracy: 1.0000 - 18ms/epoch - 18ms/step\n"
     ]
    },
    {
     "name": "stderr",
     "output_type": "stream",
     "text": [
      " 38%|███▊      | 543/1425 [01:49<03:03,  4.79it/s]"
     ]
    },
    {
     "name": "stdout",
     "output_type": "stream",
     "text": [
      "Inferencing on instance 543\n",
      "1/1 [==============================] - 0s 37ms/step\n",
      "Online training on instance 543\n",
      "1/1 - 0s - loss: 0.3339 - binary_accuracy: 0.9375 - 18ms/epoch - 18ms/step\n"
     ]
    },
    {
     "name": "stderr",
     "output_type": "stream",
     "text": [
      " 38%|███▊      | 544/1425 [01:49<03:07,  4.71it/s]"
     ]
    },
    {
     "name": "stdout",
     "output_type": "stream",
     "text": [
      "Inferencing on instance 544\n",
      "1/1 [==============================] - 0s 35ms/step\n",
      "Online training on instance 544\n",
      "1/1 - 0s - loss: 0.3946 - binary_accuracy: 0.8750 - 18ms/epoch - 18ms/step\n"
     ]
    },
    {
     "name": "stderr",
     "output_type": "stream",
     "text": [
      " 38%|███▊      | 545/1425 [01:49<03:12,  4.58it/s]"
     ]
    },
    {
     "name": "stdout",
     "output_type": "stream",
     "text": [
      "Inferencing on instance 545\n",
      "1/1 [==============================] - 0s 39ms/step\n",
      "Online training on instance 545\n",
      "1/1 - 0s - loss: 0.4413 - binary_accuracy: 0.8750 - 18ms/epoch - 18ms/step\n"
     ]
    },
    {
     "name": "stderr",
     "output_type": "stream",
     "text": [
      " 38%|███▊      | 546/1425 [01:49<03:11,  4.58it/s]"
     ]
    },
    {
     "name": "stdout",
     "output_type": "stream",
     "text": [
      "Inferencing on instance 546\n",
      "1/1 [==============================] - 0s 34ms/step\n",
      "Online training on instance 546\n",
      "1/1 - 0s - loss: 0.5266 - binary_accuracy: 0.8125 - 20ms/epoch - 20ms/step\n"
     ]
    },
    {
     "name": "stderr",
     "output_type": "stream",
     "text": [
      " 38%|███▊      | 547/1425 [01:50<03:09,  4.64it/s]"
     ]
    },
    {
     "name": "stdout",
     "output_type": "stream",
     "text": [
      "Inferencing on instance 547\n",
      "1/1 [==============================] - 0s 39ms/step\n",
      "Online training on instance 547\n",
      "1/1 - 0s - loss: 0.6251 - binary_accuracy: 0.7500 - 14ms/epoch - 14ms/step\n"
     ]
    },
    {
     "name": "stderr",
     "output_type": "stream",
     "text": [
      " 38%|███▊      | 548/1425 [01:50<03:21,  4.36it/s]"
     ]
    },
    {
     "name": "stdout",
     "output_type": "stream",
     "text": [
      "Inferencing on instance 548\n",
      "1/1 [==============================] - 0s 31ms/step\n",
      "Online training on instance 548\n",
      "1/1 - 0s - loss: 0.6789 - binary_accuracy: 0.6875 - 18ms/epoch - 18ms/step\n"
     ]
    },
    {
     "name": "stderr",
     "output_type": "stream",
     "text": [
      " 39%|███▊      | 549/1425 [01:50<03:11,  4.58it/s]"
     ]
    },
    {
     "name": "stdout",
     "output_type": "stream",
     "text": [
      "Inferencing on instance 549\n",
      "1/1 [==============================] - 0s 33ms/step\n",
      "Online training on instance 549\n",
      "1/1 - 0s - loss: 0.6969 - binary_accuracy: 0.7500 - 17ms/epoch - 17ms/step\n"
     ]
    },
    {
     "name": "stderr",
     "output_type": "stream",
     "text": [
      " 39%|███▊      | 550/1425 [01:50<03:08,  4.65it/s]"
     ]
    },
    {
     "name": "stdout",
     "output_type": "stream",
     "text": [
      "Inferencing on instance 550\n",
      "1/1 [==============================] - 0s 28ms/step\n",
      "Online training on instance 550\n",
      "1/1 - 0s - loss: 0.6619 - binary_accuracy: 0.7500 - 18ms/epoch - 18ms/step\n"
     ]
    },
    {
     "name": "stderr",
     "output_type": "stream",
     "text": [
      " 39%|███▊      | 551/1425 [01:50<03:08,  4.63it/s]"
     ]
    },
    {
     "name": "stdout",
     "output_type": "stream",
     "text": [
      "Inferencing on instance 551\n",
      "1/1 [==============================] - 0s 36ms/step\n",
      "Online training on instance 551\n",
      "1/1 - 0s - loss: 0.6601 - binary_accuracy: 0.7500 - 20ms/epoch - 20ms/step\n"
     ]
    },
    {
     "name": "stderr",
     "output_type": "stream",
     "text": [
      " 39%|███▊      | 552/1425 [01:51<03:15,  4.47it/s]"
     ]
    },
    {
     "name": "stdout",
     "output_type": "stream",
     "text": [
      "Inferencing on instance 552\n",
      "1/1 [==============================] - 0s 43ms/step\n",
      "Online training on instance 552\n",
      "1/1 - 0s - loss: 0.6639 - binary_accuracy: 0.7500 - 20ms/epoch - 20ms/step\n"
     ]
    },
    {
     "name": "stderr",
     "output_type": "stream",
     "text": [
      " 39%|███▉      | 553/1425 [01:51<03:21,  4.33it/s]"
     ]
    },
    {
     "name": "stdout",
     "output_type": "stream",
     "text": [
      "Inferencing on instance 553\n",
      "1/1 [==============================] - 0s 31ms/step\n",
      "Online training on instance 553\n",
      "1/1 - 0s - loss: 0.6664 - binary_accuracy: 0.7500 - 18ms/epoch - 18ms/step\n"
     ]
    },
    {
     "name": "stderr",
     "output_type": "stream",
     "text": [
      " 39%|███▉      | 554/1425 [01:51<03:11,  4.55it/s]"
     ]
    },
    {
     "name": "stdout",
     "output_type": "stream",
     "text": [
      "Inferencing on instance 554\n",
      "1/1 [==============================] - 0s 36ms/step\n",
      "Online training on instance 554\n",
      "1/1 - 0s - loss: 0.6878 - binary_accuracy: 0.7500 - 16ms/epoch - 16ms/step\n"
     ]
    },
    {
     "name": "stderr",
     "output_type": "stream",
     "text": [
      " 39%|███▉      | 555/1425 [01:51<03:04,  4.72it/s]"
     ]
    },
    {
     "name": "stdout",
     "output_type": "stream",
     "text": [
      "Inferencing on instance 555\n",
      "1/1 [==============================] - 0s 35ms/step\n",
      "Online training on instance 555\n",
      "1/1 - 0s - loss: 0.6512 - binary_accuracy: 0.7500 - 16ms/epoch - 16ms/step\n"
     ]
    },
    {
     "name": "stderr",
     "output_type": "stream",
     "text": [
      " 39%|███▉      | 556/1425 [01:52<02:55,  4.94it/s]"
     ]
    },
    {
     "name": "stdout",
     "output_type": "stream",
     "text": [
      "Inferencing on instance 556\n",
      "1/1 [==============================] - 0s 27ms/step\n",
      "Online training on instance 556\n",
      "1/1 - 0s - loss: 0.6393 - binary_accuracy: 0.7500 - 20ms/epoch - 20ms/step\n"
     ]
    },
    {
     "name": "stderr",
     "output_type": "stream",
     "text": [
      " 39%|███▉      | 557/1425 [01:52<02:57,  4.89it/s]"
     ]
    },
    {
     "name": "stdout",
     "output_type": "stream",
     "text": [
      "Inferencing on instance 557\n",
      "1/1 [==============================] - 0s 40ms/step\n",
      "Online training on instance 557\n",
      "1/1 - 0s - loss: 0.6118 - binary_accuracy: 0.7500 - 18ms/epoch - 18ms/step\n"
     ]
    },
    {
     "name": "stderr",
     "output_type": "stream",
     "text": [
      " 39%|███▉      | 558/1425 [01:52<03:11,  4.53it/s]"
     ]
    },
    {
     "name": "stdout",
     "output_type": "stream",
     "text": [
      "Inferencing on instance 558\n",
      "1/1 [==============================] - 0s 38ms/step\n",
      "Online training on instance 558\n",
      "1/1 - 0s - loss: 0.5929 - binary_accuracy: 0.7500 - 16ms/epoch - 16ms/step\n"
     ]
    },
    {
     "name": "stderr",
     "output_type": "stream",
     "text": [
      " 39%|███▉      | 559/1425 [01:52<03:07,  4.61it/s]"
     ]
    },
    {
     "name": "stdout",
     "output_type": "stream",
     "text": [
      "Inferencing on instance 559\n",
      "1/1 [==============================] - 0s 34ms/step\n",
      "Online training on instance 559\n",
      "1/1 - 0s - loss: 0.5143 - binary_accuracy: 0.7500 - 20ms/epoch - 20ms/step\n"
     ]
    },
    {
     "name": "stderr",
     "output_type": "stream",
     "text": [
      " 39%|███▉      | 560/1425 [01:52<03:05,  4.67it/s]"
     ]
    },
    {
     "name": "stdout",
     "output_type": "stream",
     "text": [
      "Inferencing on instance 560\n",
      "1/1 [==============================] - 0s 34ms/step\n",
      "Online training on instance 560\n",
      "1/1 - 0s - loss: 0.4652 - binary_accuracy: 0.8125 - 19ms/epoch - 19ms/step\n"
     ]
    },
    {
     "name": "stderr",
     "output_type": "stream",
     "text": [
      " 39%|███▉      | 561/1425 [01:53<03:06,  4.63it/s]"
     ]
    },
    {
     "name": "stdout",
     "output_type": "stream",
     "text": [
      "Inferencing on instance 561\n",
      "1/1 [==============================] - 0s 47ms/step\n",
      "Online training on instance 561\n",
      "1/1 - 0s - loss: 0.3466 - binary_accuracy: 0.8750 - 19ms/epoch - 19ms/step\n"
     ]
    },
    {
     "name": "stderr",
     "output_type": "stream",
     "text": [
      " 39%|███▉      | 562/1425 [01:53<03:12,  4.48it/s]"
     ]
    },
    {
     "name": "stdout",
     "output_type": "stream",
     "text": [
      "Inferencing on instance 562\n",
      "1/1 [==============================] - 0s 42ms/step\n",
      "Online training on instance 562\n",
      "1/1 - 0s - loss: 0.3342 - binary_accuracy: 0.9375 - 19ms/epoch - 19ms/step\n"
     ]
    },
    {
     "name": "stderr",
     "output_type": "stream",
     "text": [
      " 40%|███▉      | 563/1425 [01:53<03:23,  4.24it/s]"
     ]
    },
    {
     "name": "stdout",
     "output_type": "stream",
     "text": [
      "Inferencing on instance 563\n",
      "1/1 [==============================] - 0s 36ms/step\n",
      "Online training on instance 563\n",
      "1/1 - 0s - loss: 0.2635 - binary_accuracy: 1.0000 - 16ms/epoch - 16ms/step\n"
     ]
    },
    {
     "name": "stderr",
     "output_type": "stream",
     "text": [
      " 40%|███▉      | 564/1425 [01:53<03:14,  4.43it/s]"
     ]
    },
    {
     "name": "stdout",
     "output_type": "stream",
     "text": [
      "Inferencing on instance 564\n",
      "1/1 [==============================] - 0s 25ms/step\n",
      "Online training on instance 564\n",
      "1/1 - 0s - loss: 0.2766 - binary_accuracy: 1.0000 - 16ms/epoch - 16ms/step\n"
     ]
    },
    {
     "name": "stderr",
     "output_type": "stream",
     "text": [
      " 40%|███▉      | 565/1425 [01:54<03:01,  4.73it/s]"
     ]
    },
    {
     "name": "stdout",
     "output_type": "stream",
     "text": [
      "Inferencing on instance 565\n",
      "1/1 [==============================] - 0s 34ms/step\n",
      "Online training on instance 565\n",
      "1/1 - 0s - loss: 0.2665 - binary_accuracy: 1.0000 - 19ms/epoch - 19ms/step\n"
     ]
    },
    {
     "name": "stderr",
     "output_type": "stream",
     "text": [
      " 40%|███▉      | 566/1425 [01:54<03:00,  4.76it/s]"
     ]
    },
    {
     "name": "stdout",
     "output_type": "stream",
     "text": [
      "Inferencing on instance 566\n",
      "1/1 [==============================] - 0s 39ms/step\n",
      "Online training on instance 566\n",
      "1/1 - 0s - loss: 0.2794 - binary_accuracy: 1.0000 - 21ms/epoch - 21ms/step\n"
     ]
    },
    {
     "name": "stderr",
     "output_type": "stream",
     "text": [
      " 40%|███▉      | 567/1425 [01:54<03:10,  4.51it/s]"
     ]
    },
    {
     "name": "stdout",
     "output_type": "stream",
     "text": [
      "Inferencing on instance 567\n",
      "1/1 [==============================] - 0s 39ms/step\n",
      "Online training on instance 567\n",
      "1/1 - 0s - loss: 0.2773 - binary_accuracy: 1.0000 - 17ms/epoch - 17ms/step\n"
     ]
    },
    {
     "name": "stderr",
     "output_type": "stream",
     "text": [
      " 40%|███▉      | 568/1425 [01:54<03:12,  4.46it/s]"
     ]
    },
    {
     "name": "stdout",
     "output_type": "stream",
     "text": [
      "Inferencing on instance 568\n",
      "1/1 [==============================] - 0s 35ms/step\n",
      "Online training on instance 568\n",
      "1/1 - 0s - loss: 0.2670 - binary_accuracy: 1.0000 - 18ms/epoch - 18ms/step\n"
     ]
    },
    {
     "name": "stderr",
     "output_type": "stream",
     "text": [
      " 40%|███▉      | 569/1425 [01:54<03:07,  4.56it/s]"
     ]
    },
    {
     "name": "stdout",
     "output_type": "stream",
     "text": [
      "Inferencing on instance 569\n",
      "1/1 [==============================] - 0s 34ms/step\n",
      "Online training on instance 569\n",
      "1/1 - 0s - loss: 0.2693 - binary_accuracy: 1.0000 - 16ms/epoch - 16ms/step\n"
     ]
    },
    {
     "name": "stderr",
     "output_type": "stream",
     "text": [
      " 40%|████      | 570/1425 [01:55<03:05,  4.60it/s]"
     ]
    },
    {
     "name": "stdout",
     "output_type": "stream",
     "text": [
      "Inferencing on instance 570\n",
      "1/1 [==============================] - 0s 24ms/step\n",
      "Online training on instance 570\n",
      "1/1 - 0s - loss: 0.2707 - binary_accuracy: 1.0000 - 17ms/epoch - 17ms/step\n"
     ]
    },
    {
     "name": "stderr",
     "output_type": "stream",
     "text": [
      " 40%|████      | 571/1425 [01:55<02:58,  4.79it/s]"
     ]
    },
    {
     "name": "stdout",
     "output_type": "stream",
     "text": [
      "Inferencing on instance 571\n",
      "1/1 [==============================] - 0s 37ms/step\n",
      "Online training on instance 571\n",
      "1/1 - 0s - loss: 0.2782 - binary_accuracy: 1.0000 - 17ms/epoch - 17ms/step\n"
     ]
    },
    {
     "name": "stderr",
     "output_type": "stream",
     "text": [
      " 40%|████      | 572/1425 [01:55<02:59,  4.74it/s]"
     ]
    },
    {
     "name": "stdout",
     "output_type": "stream",
     "text": [
      "Inferencing on instance 572\n",
      "1/1 [==============================] - 0s 30ms/step\n",
      "Online training on instance 572\n",
      "1/1 - 0s - loss: 0.2490 - binary_accuracy: 1.0000 - 17ms/epoch - 17ms/step\n"
     ]
    },
    {
     "name": "stderr",
     "output_type": "stream",
     "text": [
      " 40%|████      | 573/1425 [01:55<02:54,  4.88it/s]"
     ]
    },
    {
     "name": "stdout",
     "output_type": "stream",
     "text": [
      "Inferencing on instance 573\n",
      "1/1 [==============================] - 0s 28ms/step\n",
      "Online training on instance 573\n",
      "1/1 - 0s - loss: 0.3103 - binary_accuracy: 0.9375 - 16ms/epoch - 16ms/step\n"
     ]
    },
    {
     "name": "stderr",
     "output_type": "stream",
     "text": [
      " 40%|████      | 574/1425 [01:55<02:46,  5.12it/s]"
     ]
    },
    {
     "name": "stdout",
     "output_type": "stream",
     "text": [
      "Inferencing on instance 574\n",
      "1/1 [==============================] - 0s 36ms/step\n",
      "Online training on instance 574\n",
      "1/1 - 0s - loss: 0.4042 - binary_accuracy: 0.8750 - 16ms/epoch - 16ms/step\n"
     ]
    },
    {
     "name": "stderr",
     "output_type": "stream",
     "text": [
      " 40%|████      | 575/1425 [01:56<02:41,  5.27it/s]"
     ]
    },
    {
     "name": "stdout",
     "output_type": "stream",
     "text": [
      "Inferencing on instance 575\n",
      "1/1 [==============================] - 0s 34ms/step\n",
      "Online training on instance 575\n",
      "1/1 - 0s - loss: 0.4935 - binary_accuracy: 0.8125 - 16ms/epoch - 16ms/step\n"
     ]
    },
    {
     "name": "stderr",
     "output_type": "stream",
     "text": [
      " 40%|████      | 576/1425 [01:56<02:39,  5.33it/s]"
     ]
    },
    {
     "name": "stdout",
     "output_type": "stream",
     "text": [
      "Inferencing on instance 576\n",
      "1/1 [==============================] - 0s 47ms/step\n",
      "Online training on instance 576\n",
      "1/1 - 0s - loss: 0.5903 - binary_accuracy: 0.7500 - 16ms/epoch - 16ms/step\n"
     ]
    },
    {
     "name": "stderr",
     "output_type": "stream",
     "text": [
      " 40%|████      | 577/1425 [01:56<02:46,  5.11it/s]"
     ]
    },
    {
     "name": "stdout",
     "output_type": "stream",
     "text": [
      "Inferencing on instance 577\n",
      "1/1 [==============================] - 0s 24ms/step\n",
      "Online training on instance 577\n",
      "1/1 - 0s - loss: 0.7019 - binary_accuracy: 0.6875 - 16ms/epoch - 16ms/step\n"
     ]
    },
    {
     "name": "stderr",
     "output_type": "stream",
     "text": [
      " 41%|████      | 578/1425 [01:56<02:40,  5.27it/s]"
     ]
    },
    {
     "name": "stdout",
     "output_type": "stream",
     "text": [
      "Inferencing on instance 578\n",
      "1/1 [==============================] - 0s 29ms/step\n",
      "Online training on instance 578\n",
      "1/1 - 0s - loss: 0.7919 - binary_accuracy: 0.6250 - 18ms/epoch - 18ms/step\n"
     ]
    },
    {
     "name": "stderr",
     "output_type": "stream",
     "text": [
      " 41%|████      | 579/1425 [01:56<02:39,  5.29it/s]"
     ]
    },
    {
     "name": "stdout",
     "output_type": "stream",
     "text": [
      "Inferencing on instance 579\n",
      "1/1 [==============================] - 0s 31ms/step\n",
      "Online training on instance 579\n",
      "1/1 - 0s - loss: 1.0067 - binary_accuracy: 0.5625 - 16ms/epoch - 16ms/step\n"
     ]
    },
    {
     "name": "stderr",
     "output_type": "stream",
     "text": [
      " 41%|████      | 580/1425 [01:57<02:45,  5.12it/s]"
     ]
    },
    {
     "name": "stdout",
     "output_type": "stream",
     "text": [
      "Inferencing on instance 580\n",
      "1/1 [==============================] - 0s 30ms/step\n",
      "Online training on instance 580\n",
      "1/1 - 0s - loss: 1.0113 - binary_accuracy: 0.5000 - 16ms/epoch - 16ms/step\n"
     ]
    },
    {
     "name": "stderr",
     "output_type": "stream",
     "text": [
      " 41%|████      | 581/1425 [01:57<02:40,  5.25it/s]"
     ]
    },
    {
     "name": "stdout",
     "output_type": "stream",
     "text": [
      "Inferencing on instance 581\n",
      "1/1 [==============================] - 0s 37ms/step\n",
      "Online training on instance 581\n",
      "1/1 - 0s - loss: 1.1343 - binary_accuracy: 0.4375 - 17ms/epoch - 17ms/step\n"
     ]
    },
    {
     "name": "stderr",
     "output_type": "stream",
     "text": [
      " 41%|████      | 582/1425 [01:57<02:50,  4.94it/s]"
     ]
    },
    {
     "name": "stdout",
     "output_type": "stream",
     "text": [
      "Inferencing on instance 582\n",
      "1/1 [==============================] - 0s 27ms/step\n",
      "Online training on instance 582\n",
      "1/1 - 0s - loss: 1.1790 - binary_accuracy: 0.3750 - 15ms/epoch - 15ms/step\n"
     ]
    },
    {
     "name": "stderr",
     "output_type": "stream",
     "text": [
      " 41%|████      | 583/1425 [01:57<02:48,  4.99it/s]"
     ]
    },
    {
     "name": "stdout",
     "output_type": "stream",
     "text": [
      "Inferencing on instance 583\n",
      "1/1 [==============================] - 0s 30ms/step\n",
      "Online training on instance 583\n",
      "1/1 - 0s - loss: 1.3585 - binary_accuracy: 0.3125 - 15ms/epoch - 15ms/step\n"
     ]
    },
    {
     "name": "stderr",
     "output_type": "stream",
     "text": [
      " 41%|████      | 584/1425 [01:57<02:48,  4.99it/s]"
     ]
    },
    {
     "name": "stdout",
     "output_type": "stream",
     "text": [
      "Inferencing on instance 584\n",
      "1/1 [==============================] - 0s 31ms/step\n",
      "Online training on instance 584\n",
      "1/1 - 0s - loss: 1.3527 - binary_accuracy: 0.2500 - 19ms/epoch - 19ms/step\n"
     ]
    },
    {
     "name": "stderr",
     "output_type": "stream",
     "text": [
      " 41%|████      | 585/1425 [01:58<02:50,  4.93it/s]"
     ]
    },
    {
     "name": "stdout",
     "output_type": "stream",
     "text": [
      "Inferencing on instance 585\n",
      "1/1 [==============================] - 0s 46ms/step\n",
      "Online training on instance 585\n",
      "1/1 - 0s - loss: 1.3990 - binary_accuracy: 0.1875 - 16ms/epoch - 16ms/step\n"
     ]
    },
    {
     "name": "stderr",
     "output_type": "stream",
     "text": [
      " 41%|████      | 586/1425 [01:58<02:55,  4.77it/s]"
     ]
    },
    {
     "name": "stdout",
     "output_type": "stream",
     "text": [
      "Inferencing on instance 586\n",
      "1/1 [==============================] - 0s 27ms/step\n",
      "Online training on instance 586\n",
      "1/1 - 0s - loss: 1.4798 - binary_accuracy: 0.1250 - 15ms/epoch - 15ms/step\n"
     ]
    },
    {
     "name": "stderr",
     "output_type": "stream",
     "text": [
      " 41%|████      | 587/1425 [01:58<02:46,  5.05it/s]"
     ]
    },
    {
     "name": "stdout",
     "output_type": "stream",
     "text": [
      "Inferencing on instance 587\n",
      "1/1 [==============================] - 0s 30ms/step\n",
      "Online training on instance 587\n",
      "1/1 - 0s - loss: 1.5825 - binary_accuracy: 0.0625 - 15ms/epoch - 15ms/step\n"
     ]
    },
    {
     "name": "stderr",
     "output_type": "stream",
     "text": [
      " 41%|████▏     | 588/1425 [01:58<02:40,  5.22it/s]"
     ]
    },
    {
     "name": "stdout",
     "output_type": "stream",
     "text": [
      "Inferencing on instance 588\n",
      "1/1 [==============================] - 0s 36ms/step\n",
      "Online training on instance 588\n",
      "1/1 - 0s - loss: 1.5819 - binary_accuracy: 0.0625 - 18ms/epoch - 18ms/step\n"
     ]
    },
    {
     "name": "stderr",
     "output_type": "stream",
     "text": [
      " 41%|████▏     | 589/1425 [01:58<02:46,  5.01it/s]"
     ]
    },
    {
     "name": "stdout",
     "output_type": "stream",
     "text": [
      "Inferencing on instance 589\n",
      "1/1 [==============================] - 0s 39ms/step\n",
      "Online training on instance 589\n",
      "1/1 - 0s - loss: 1.5594 - binary_accuracy: 0.0625 - 19ms/epoch - 19ms/step\n"
     ]
    },
    {
     "name": "stderr",
     "output_type": "stream",
     "text": [
      " 41%|████▏     | 590/1425 [01:59<02:52,  4.83it/s]"
     ]
    },
    {
     "name": "stdout",
     "output_type": "stream",
     "text": [
      "Inferencing on instance 590\n",
      "1/1 [==============================] - 0s 39ms/step\n",
      "Online training on instance 590\n",
      "1/1 - 0s - loss: 1.4307 - binary_accuracy: 0.1250 - 22ms/epoch - 22ms/step\n"
     ]
    },
    {
     "name": "stderr",
     "output_type": "stream",
     "text": [
      " 41%|████▏     | 591/1425 [01:59<03:06,  4.47it/s]"
     ]
    },
    {
     "name": "stdout",
     "output_type": "stream",
     "text": [
      "Inferencing on instance 591\n",
      "1/1 [==============================] - 0s 30ms/step\n",
      "Online training on instance 591\n",
      "1/1 - 0s - loss: 1.4462 - binary_accuracy: 0.1250 - 15ms/epoch - 15ms/step\n"
     ]
    },
    {
     "name": "stderr",
     "output_type": "stream",
     "text": [
      " 42%|████▏     | 592/1425 [01:59<02:58,  4.68it/s]"
     ]
    },
    {
     "name": "stdout",
     "output_type": "stream",
     "text": [
      "Inferencing on instance 592\n",
      "1/1 [==============================] - 0s 30ms/step\n",
      "Online training on instance 592\n",
      "1/1 - 0s - loss: 1.2610 - binary_accuracy: 0.1875 - 17ms/epoch - 17ms/step\n"
     ]
    },
    {
     "name": "stderr",
     "output_type": "stream",
     "text": [
      " 42%|████▏     | 593/1425 [01:59<02:54,  4.77it/s]"
     ]
    },
    {
     "name": "stdout",
     "output_type": "stream",
     "text": [
      "Inferencing on instance 593\n",
      "1/1 [==============================] - 0s 26ms/step\n",
      "Online training on instance 593\n",
      "1/1 - 0s - loss: 1.1990 - binary_accuracy: 0.2500 - 15ms/epoch - 15ms/step\n"
     ]
    },
    {
     "name": "stderr",
     "output_type": "stream",
     "text": [
      " 42%|████▏     | 594/1425 [01:59<02:46,  4.99it/s]"
     ]
    },
    {
     "name": "stdout",
     "output_type": "stream",
     "text": [
      "Inferencing on instance 594\n",
      "1/1 [==============================] - 0s 30ms/step\n",
      "Online training on instance 594\n",
      "1/1 - 0s - loss: 1.1146 - binary_accuracy: 0.3125 - 16ms/epoch - 16ms/step\n"
     ]
    },
    {
     "name": "stderr",
     "output_type": "stream",
     "text": [
      " 42%|████▏     | 595/1425 [02:00<02:41,  5.14it/s]"
     ]
    },
    {
     "name": "stdout",
     "output_type": "stream",
     "text": [
      "Inferencing on instance 595\n",
      "1/1 [==============================] - 0s 32ms/step\n",
      "Online training on instance 595\n",
      "1/1 - 0s - loss: 1.0929 - binary_accuracy: 0.3750 - 21ms/epoch - 21ms/step\n"
     ]
    },
    {
     "name": "stderr",
     "output_type": "stream",
     "text": [
      " 42%|████▏     | 596/1425 [02:00<02:54,  4.76it/s]"
     ]
    },
    {
     "name": "stdout",
     "output_type": "stream",
     "text": [
      "Inferencing on instance 596\n",
      "1/1 [==============================] - 0s 33ms/step\n",
      "Online training on instance 596\n",
      "1/1 - 0s - loss: 1.0541 - binary_accuracy: 0.4375 - 15ms/epoch - 15ms/step\n"
     ]
    },
    {
     "name": "stderr",
     "output_type": "stream",
     "text": [
      " 42%|████▏     | 597/1425 [02:00<02:46,  4.98it/s]"
     ]
    },
    {
     "name": "stdout",
     "output_type": "stream",
     "text": [
      "Inferencing on instance 597\n",
      "1/1 [==============================] - 0s 28ms/step\n",
      "Online training on instance 597\n",
      "1/1 - 0s - loss: 0.8958 - binary_accuracy: 0.5625 - 16ms/epoch - 16ms/step\n"
     ]
    },
    {
     "name": "stderr",
     "output_type": "stream",
     "text": [
      " 42%|████▏     | 598/1425 [02:00<02:40,  5.17it/s]"
     ]
    },
    {
     "name": "stdout",
     "output_type": "stream",
     "text": [
      "Inferencing on instance 598\n",
      "1/1 [==============================] - 0s 36ms/step\n",
      "Online training on instance 598\n",
      "1/1 - 0s - loss: 0.9729 - binary_accuracy: 0.5000 - 15ms/epoch - 15ms/step\n"
     ]
    },
    {
     "name": "stderr",
     "output_type": "stream",
     "text": [
      " 42%|████▏     | 599/1425 [02:00<02:36,  5.27it/s]"
     ]
    },
    {
     "name": "stdout",
     "output_type": "stream",
     "text": [
      "Inferencing on instance 599\n",
      "1/1 [==============================] - 0s 27ms/step\n",
      "Online training on instance 599\n",
      "1/1 - 0s - loss: 0.9905 - binary_accuracy: 0.5625 - 20ms/epoch - 20ms/step\n"
     ]
    },
    {
     "name": "stderr",
     "output_type": "stream",
     "text": [
      " 42%|████▏     | 600/1425 [02:01<02:43,  5.05it/s]"
     ]
    },
    {
     "name": "stdout",
     "output_type": "stream",
     "text": [
      "Inferencing on instance 600\n",
      "1/1 [==============================] - 0s 38ms/step\n",
      "Online training on instance 600\n",
      "1/1 - 0s - loss: 0.8836 - binary_accuracy: 0.6250 - 18ms/epoch - 18ms/step\n"
     ]
    },
    {
     "name": "stderr",
     "output_type": "stream",
     "text": [
      " 42%|████▏     | 601/1425 [02:01<02:43,  5.04it/s]"
     ]
    },
    {
     "name": "stdout",
     "output_type": "stream",
     "text": [
      "Inferencing on instance 601\n",
      "1/1 [==============================] - 0s 33ms/step\n",
      "Online training on instance 601\n",
      "1/1 - 0s - loss: 0.7919 - binary_accuracy: 0.7500 - 19ms/epoch - 19ms/step\n"
     ]
    },
    {
     "name": "stderr",
     "output_type": "stream",
     "text": [
      " 42%|████▏     | 602/1425 [02:01<02:44,  5.00it/s]"
     ]
    },
    {
     "name": "stdout",
     "output_type": "stream",
     "text": [
      "Inferencing on instance 602\n",
      "1/1 [==============================] - 0s 33ms/step\n",
      "Online training on instance 602\n",
      "1/1 - 0s - loss: 0.6405 - binary_accuracy: 0.8750 - 17ms/epoch - 17ms/step\n"
     ]
    },
    {
     "name": "stderr",
     "output_type": "stream",
     "text": [
      " 42%|████▏     | 603/1425 [02:01<02:44,  5.00it/s]"
     ]
    },
    {
     "name": "stdout",
     "output_type": "stream",
     "text": [
      "Inferencing on instance 603\n",
      "1/1 [==============================] - 0s 26ms/step\n",
      "Online training on instance 603\n",
      "1/1 - 0s - loss: 0.5670 - binary_accuracy: 0.9375 - 16ms/epoch - 16ms/step\n"
     ]
    },
    {
     "name": "stderr",
     "output_type": "stream",
     "text": [
      " 42%|████▏     | 604/1425 [02:01<02:38,  5.18it/s]"
     ]
    },
    {
     "name": "stdout",
     "output_type": "stream",
     "text": [
      "Inferencing on instance 604\n",
      "1/1 [==============================] - 0s 43ms/step\n",
      "Online training on instance 604\n",
      "1/1 - 0s - loss: 0.4233 - binary_accuracy: 1.0000 - 15ms/epoch - 15ms/step\n"
     ]
    },
    {
     "name": "stderr",
     "output_type": "stream",
     "text": [
      " 42%|████▏     | 605/1425 [02:02<02:42,  5.05it/s]"
     ]
    },
    {
     "name": "stdout",
     "output_type": "stream",
     "text": [
      "Inferencing on instance 605\n",
      "1/1 [==============================] - 0s 28ms/step\n",
      "Online training on instance 605\n",
      "1/1 - 0s - loss: 0.4539 - binary_accuracy: 1.0000 - 16ms/epoch - 16ms/step\n"
     ]
    },
    {
     "name": "stderr",
     "output_type": "stream",
     "text": [
      " 43%|████▎     | 606/1425 [02:02<02:35,  5.26it/s]"
     ]
    },
    {
     "name": "stdout",
     "output_type": "stream",
     "text": [
      "Inferencing on instance 606\n",
      "1/1 [==============================] - 0s 35ms/step\n",
      "Online training on instance 606\n",
      "1/1 - 0s - loss: 0.4653 - binary_accuracy: 1.0000 - 16ms/epoch - 16ms/step\n"
     ]
    },
    {
     "name": "stderr",
     "output_type": "stream",
     "text": [
      " 43%|████▎     | 607/1425 [02:02<02:34,  5.28it/s]"
     ]
    },
    {
     "name": "stdout",
     "output_type": "stream",
     "text": [
      "Inferencing on instance 607\n",
      "1/1 [==============================] - 0s 33ms/step\n",
      "Online training on instance 607\n",
      "1/1 - 0s - loss: 0.4383 - binary_accuracy: 1.0000 - 18ms/epoch - 18ms/step\n"
     ]
    },
    {
     "name": "stderr",
     "output_type": "stream",
     "text": [
      " 43%|████▎     | 608/1425 [02:02<02:39,  5.13it/s]"
     ]
    },
    {
     "name": "stdout",
     "output_type": "stream",
     "text": [
      "Inferencing on instance 608\n",
      "1/1 [==============================] - 0s 33ms/step\n",
      "Online training on instance 608\n",
      "1/1 - 0s - loss: 0.4175 - binary_accuracy: 1.0000 - 16ms/epoch - 16ms/step\n"
     ]
    },
    {
     "name": "stderr",
     "output_type": "stream",
     "text": [
      " 43%|████▎     | 609/1425 [02:02<02:35,  5.24it/s]"
     ]
    },
    {
     "name": "stdout",
     "output_type": "stream",
     "text": [
      "Inferencing on instance 609\n",
      "1/1 [==============================] - 0s 53ms/step\n",
      "Online training on instance 609\n",
      "1/1 - 0s - loss: 0.4440 - binary_accuracy: 1.0000 - 10ms/epoch - 10ms/step\n"
     ]
    },
    {
     "name": "stderr",
     "output_type": "stream",
     "text": [
      " 43%|████▎     | 610/1425 [02:03<02:45,  4.92it/s]"
     ]
    },
    {
     "name": "stdout",
     "output_type": "stream",
     "text": [
      "Inferencing on instance 610\n",
      "1/1 [==============================] - 0s 35ms/step\n",
      "Online training on instance 610\n",
      "1/1 - 0s - loss: 0.4292 - binary_accuracy: 1.0000 - 17ms/epoch - 17ms/step\n"
     ]
    },
    {
     "name": "stderr",
     "output_type": "stream",
     "text": [
      " 43%|████▎     | 611/1425 [02:03<02:43,  4.98it/s]"
     ]
    },
    {
     "name": "stdout",
     "output_type": "stream",
     "text": [
      "Inferencing on instance 611\n",
      "1/1 [==============================] - 0s 30ms/step\n",
      "Online training on instance 611\n",
      "1/1 - 0s - loss: 0.4539 - binary_accuracy: 1.0000 - 17ms/epoch - 17ms/step\n"
     ]
    },
    {
     "name": "stderr",
     "output_type": "stream",
     "text": [
      " 43%|████▎     | 612/1425 [02:03<02:44,  4.95it/s]"
     ]
    },
    {
     "name": "stdout",
     "output_type": "stream",
     "text": [
      "Inferencing on instance 612\n",
      "1/1 [==============================] - 0s 25ms/step\n",
      "Online training on instance 612\n",
      "1/1 - 0s - loss: 0.4027 - binary_accuracy: 1.0000 - 15ms/epoch - 15ms/step\n"
     ]
    },
    {
     "name": "stderr",
     "output_type": "stream",
     "text": [
      " 43%|████▎     | 613/1425 [02:03<02:38,  5.12it/s]"
     ]
    },
    {
     "name": "stdout",
     "output_type": "stream",
     "text": [
      "Inferencing on instance 613\n",
      "1/1 [==============================] - 0s 27ms/step\n",
      "Online training on instance 613\n",
      "1/1 - 0s - loss: 0.4036 - binary_accuracy: 1.0000 - 16ms/epoch - 16ms/step\n"
     ]
    },
    {
     "name": "stderr",
     "output_type": "stream",
     "text": [
      " 43%|████▎     | 614/1425 [02:03<02:33,  5.27it/s]"
     ]
    },
    {
     "name": "stdout",
     "output_type": "stream",
     "text": [
      "Inferencing on instance 614\n",
      "1/1 [==============================] - 0s 50ms/step\n",
      "Online training on instance 614\n",
      "1/1 - 0s - loss: 0.4198 - binary_accuracy: 1.0000 - 17ms/epoch - 17ms/step\n"
     ]
    },
    {
     "name": "stderr",
     "output_type": "stream",
     "text": [
      " 43%|████▎     | 615/1425 [02:04<02:40,  5.04it/s]"
     ]
    },
    {
     "name": "stdout",
     "output_type": "stream",
     "text": [
      "Inferencing on instance 615\n",
      "1/1 [==============================] - 0s 27ms/step\n",
      "Online training on instance 615\n",
      "1/1 - 0s - loss: 0.4187 - binary_accuracy: 1.0000 - 17ms/epoch - 17ms/step\n"
     ]
    },
    {
     "name": "stderr",
     "output_type": "stream",
     "text": [
      " 43%|████▎     | 616/1425 [02:04<02:38,  5.10it/s]"
     ]
    },
    {
     "name": "stdout",
     "output_type": "stream",
     "text": [
      "Inferencing on instance 616\n",
      "1/1 [==============================] - 0s 24ms/step\n",
      "Online training on instance 616\n",
      "1/1 - 0s - loss: 0.3910 - binary_accuracy: 1.0000 - 16ms/epoch - 16ms/step\n"
     ]
    },
    {
     "name": "stderr",
     "output_type": "stream",
     "text": [
      " 43%|████▎     | 617/1425 [02:04<02:37,  5.15it/s]"
     ]
    },
    {
     "name": "stdout",
     "output_type": "stream",
     "text": [
      "Inferencing on instance 617\n",
      "1/1 [==============================] - 0s 30ms/step\n",
      "Online training on instance 617\n",
      "1/1 - 0s - loss: 0.3898 - binary_accuracy: 1.0000 - 16ms/epoch - 16ms/step\n"
     ]
    },
    {
     "name": "stderr",
     "output_type": "stream",
     "text": [
      " 43%|████▎     | 618/1425 [02:04<02:33,  5.25it/s]"
     ]
    },
    {
     "name": "stdout",
     "output_type": "stream",
     "text": [
      "Inferencing on instance 618\n",
      "1/1 [==============================] - 0s 31ms/step\n",
      "Online training on instance 618\n",
      "1/1 - 0s - loss: 0.3862 - binary_accuracy: 1.0000 - 16ms/epoch - 16ms/step\n"
     ]
    },
    {
     "name": "stderr",
     "output_type": "stream",
     "text": [
      " 43%|████▎     | 619/1425 [02:04<02:33,  5.26it/s]"
     ]
    },
    {
     "name": "stdout",
     "output_type": "stream",
     "text": [
      "Inferencing on instance 619\n",
      "1/1 [==============================] - 0s 48ms/step\n",
      "Online training on instance 619\n",
      "1/1 - 0s - loss: 0.3663 - binary_accuracy: 1.0000 - 15ms/epoch - 15ms/step\n"
     ]
    },
    {
     "name": "stderr",
     "output_type": "stream",
     "text": [
      " 44%|████▎     | 620/1425 [02:05<02:39,  5.06it/s]"
     ]
    },
    {
     "name": "stdout",
     "output_type": "stream",
     "text": [
      "Inferencing on instance 620\n",
      "1/1 [==============================] - 0s 31ms/step\n",
      "Online training on instance 620\n",
      "1/1 - 0s - loss: 0.3632 - binary_accuracy: 1.0000 - 16ms/epoch - 16ms/step\n"
     ]
    },
    {
     "name": "stderr",
     "output_type": "stream",
     "text": [
      " 44%|████▎     | 621/1425 [02:05<02:33,  5.24it/s]"
     ]
    },
    {
     "name": "stdout",
     "output_type": "stream",
     "text": [
      "Inferencing on instance 621\n",
      "1/1 [==============================] - 0s 40ms/step\n",
      "Online training on instance 621\n",
      "1/1 - 0s - loss: 0.3760 - binary_accuracy: 1.0000 - 17ms/epoch - 17ms/step\n"
     ]
    },
    {
     "name": "stderr",
     "output_type": "stream",
     "text": [
      " 44%|████▎     | 622/1425 [02:05<02:34,  5.18it/s]"
     ]
    },
    {
     "name": "stdout",
     "output_type": "stream",
     "text": [
      "Inferencing on instance 622\n",
      "1/1 [==============================] - 0s 34ms/step\n",
      "Online training on instance 622\n",
      "1/1 - 0s - loss: 0.3600 - binary_accuracy: 1.0000 - 11ms/epoch - 11ms/step\n"
     ]
    },
    {
     "name": "stderr",
     "output_type": "stream",
     "text": [
      " 44%|████▎     | 623/1425 [02:05<02:38,  5.07it/s]"
     ]
    },
    {
     "name": "stdout",
     "output_type": "stream",
     "text": [
      "Inferencing on instance 623\n",
      "1/1 [==============================] - 0s 34ms/step\n",
      "Online training on instance 623\n",
      "1/1 - 0s - loss: 0.3669 - binary_accuracy: 1.0000 - 21ms/epoch - 21ms/step\n"
     ]
    },
    {
     "name": "stderr",
     "output_type": "stream",
     "text": [
      " 44%|████▍     | 624/1425 [02:05<02:52,  4.65it/s]"
     ]
    },
    {
     "name": "stdout",
     "output_type": "stream",
     "text": [
      "Inferencing on instance 624\n",
      "1/1 [==============================] - 0s 40ms/step\n",
      "Online training on instance 624\n",
      "1/1 - 0s - loss: 0.3353 - binary_accuracy: 1.0000 - 18ms/epoch - 18ms/step\n"
     ]
    },
    {
     "name": "stderr",
     "output_type": "stream",
     "text": [
      " 44%|████▍     | 625/1425 [02:06<02:55,  4.55it/s]"
     ]
    },
    {
     "name": "stdout",
     "output_type": "stream",
     "text": [
      "Inferencing on instance 625\n",
      "1/1 [==============================] - 0s 35ms/step\n",
      "Online training on instance 625\n",
      "1/1 - 0s - loss: 0.3305 - binary_accuracy: 1.0000 - 17ms/epoch - 17ms/step\n"
     ]
    },
    {
     "name": "stderr",
     "output_type": "stream",
     "text": [
      " 44%|████▍     | 626/1425 [02:06<02:49,  4.72it/s]"
     ]
    },
    {
     "name": "stdout",
     "output_type": "stream",
     "text": [
      "Inferencing on instance 626\n",
      "1/1 [==============================] - 0s 34ms/step\n",
      "Online training on instance 626\n",
      "1/1 - 0s - loss: 0.3280 - binary_accuracy: 1.0000 - 19ms/epoch - 19ms/step\n"
     ]
    },
    {
     "name": "stderr",
     "output_type": "stream",
     "text": [
      " 44%|████▍     | 627/1425 [02:06<02:52,  4.63it/s]"
     ]
    },
    {
     "name": "stdout",
     "output_type": "stream",
     "text": [
      "Inferencing on instance 627\n",
      "1/1 [==============================] - 0s 49ms/step\n",
      "Online training on instance 627\n",
      "1/1 - 0s - loss: 0.3453 - binary_accuracy: 1.0000 - 20ms/epoch - 20ms/step\n"
     ]
    },
    {
     "name": "stderr",
     "output_type": "stream",
     "text": [
      " 44%|████▍     | 628/1425 [02:06<03:12,  4.15it/s]"
     ]
    },
    {
     "name": "stdout",
     "output_type": "stream",
     "text": [
      "Inferencing on instance 628\n",
      "1/1 [==============================] - 0s 36ms/step\n",
      "Online training on instance 628\n",
      "1/1 - 0s - loss: 0.3089 - binary_accuracy: 1.0000 - 19ms/epoch - 19ms/step\n"
     ]
    },
    {
     "name": "stderr",
     "output_type": "stream",
     "text": [
      " 44%|████▍     | 629/1425 [02:07<03:07,  4.24it/s]"
     ]
    },
    {
     "name": "stdout",
     "output_type": "stream",
     "text": [
      "Inferencing on instance 629\n",
      "1/1 [==============================] - 0s 31ms/step\n",
      "Online training on instance 629\n",
      "1/1 - 0s - loss: 0.3199 - binary_accuracy: 1.0000 - 17ms/epoch - 17ms/step\n"
     ]
    },
    {
     "name": "stderr",
     "output_type": "stream",
     "text": [
      " 44%|████▍     | 630/1425 [02:07<03:01,  4.38it/s]"
     ]
    },
    {
     "name": "stdout",
     "output_type": "stream",
     "text": [
      "Inferencing on instance 630\n",
      "1/1 [==============================] - 0s 39ms/step\n",
      "Online training on instance 630\n",
      "1/1 - 0s - loss: 0.3234 - binary_accuracy: 1.0000 - 20ms/epoch - 20ms/step\n"
     ]
    },
    {
     "name": "stderr",
     "output_type": "stream",
     "text": [
      " 44%|████▍     | 631/1425 [02:07<03:00,  4.40it/s]"
     ]
    },
    {
     "name": "stdout",
     "output_type": "stream",
     "text": [
      "Inferencing on instance 631\n",
      "1/1 [==============================] - 0s 37ms/step\n",
      "Online training on instance 631\n",
      "1/1 - 0s - loss: 0.2923 - binary_accuracy: 1.0000 - 19ms/epoch - 19ms/step\n"
     ]
    },
    {
     "name": "stderr",
     "output_type": "stream",
     "text": [
      " 44%|████▍     | 632/1425 [02:07<03:04,  4.30it/s]"
     ]
    },
    {
     "name": "stdout",
     "output_type": "stream",
     "text": [
      "Inferencing on instance 632\n",
      "1/1 [==============================] - 0s 34ms/step\n",
      "Online training on instance 632\n",
      "1/1 - 0s - loss: 0.2974 - binary_accuracy: 1.0000 - 18ms/epoch - 18ms/step\n"
     ]
    },
    {
     "name": "stderr",
     "output_type": "stream",
     "text": [
      " 44%|████▍     | 633/1425 [02:07<03:00,  4.38it/s]"
     ]
    },
    {
     "name": "stdout",
     "output_type": "stream",
     "text": [
      "Inferencing on instance 633\n",
      "1/1 [==============================] - 0s 32ms/step\n",
      "Online training on instance 633\n",
      "1/1 - 0s - loss: 0.3130 - binary_accuracy: 1.0000 - 18ms/epoch - 18ms/step\n"
     ]
    },
    {
     "name": "stderr",
     "output_type": "stream",
     "text": [
      " 44%|████▍     | 634/1425 [02:08<02:57,  4.46it/s]"
     ]
    },
    {
     "name": "stdout",
     "output_type": "stream",
     "text": [
      "Inferencing on instance 634\n",
      "1/1 [==============================] - 0s 35ms/step\n",
      "Online training on instance 634\n",
      "1/1 - 0s - loss: 0.3011 - binary_accuracy: 1.0000 - 19ms/epoch - 19ms/step\n"
     ]
    },
    {
     "name": "stderr",
     "output_type": "stream",
     "text": [
      " 45%|████▍     | 635/1425 [02:08<02:55,  4.50it/s]"
     ]
    },
    {
     "name": "stdout",
     "output_type": "stream",
     "text": [
      "Inferencing on instance 635\n",
      "1/1 [==============================] - 0s 36ms/step\n",
      "Online training on instance 635\n",
      "1/1 - 0s - loss: 0.2943 - binary_accuracy: 1.0000 - 22ms/epoch - 22ms/step\n"
     ]
    },
    {
     "name": "stderr",
     "output_type": "stream",
     "text": [
      " 45%|████▍     | 636/1425 [02:08<03:01,  4.34it/s]"
     ]
    },
    {
     "name": "stdout",
     "output_type": "stream",
     "text": [
      "Inferencing on instance 636\n",
      "1/1 [==============================] - 0s 41ms/step\n",
      "Online training on instance 636\n",
      "1/1 - 0s - loss: 0.2703 - binary_accuracy: 1.0000 - 19ms/epoch - 19ms/step\n"
     ]
    },
    {
     "name": "stderr",
     "output_type": "stream",
     "text": [
      " 45%|████▍     | 637/1425 [02:08<02:59,  4.39it/s]"
     ]
    },
    {
     "name": "stdout",
     "output_type": "stream",
     "text": [
      "Inferencing on instance 637\n",
      "1/1 [==============================] - 0s 39ms/step\n",
      "Online training on instance 637\n",
      "1/1 - 0s - loss: 0.3160 - binary_accuracy: 1.0000 - 16ms/epoch - 16ms/step\n"
     ]
    },
    {
     "name": "stderr",
     "output_type": "stream",
     "text": [
      " 45%|████▍     | 638/1425 [02:09<02:56,  4.47it/s]"
     ]
    },
    {
     "name": "stdout",
     "output_type": "stream",
     "text": [
      "Inferencing on instance 638\n",
      "1/1 [==============================] - 0s 30ms/step\n",
      "Online training on instance 638\n",
      "1/1 - 0s - loss: 0.2744 - binary_accuracy: 1.0000 - 18ms/epoch - 18ms/step\n"
     ]
    },
    {
     "name": "stderr",
     "output_type": "stream",
     "text": [
      " 45%|████▍     | 639/1425 [02:09<02:48,  4.68it/s]"
     ]
    },
    {
     "name": "stdout",
     "output_type": "stream",
     "text": [
      "Inferencing on instance 639\n",
      "1/1 [==============================] - 0s 29ms/step\n",
      "Online training on instance 639\n",
      "1/1 - 0s - loss: 0.2867 - binary_accuracy: 1.0000 - 17ms/epoch - 17ms/step\n"
     ]
    },
    {
     "name": "stderr",
     "output_type": "stream",
     "text": [
      " 45%|████▍     | 640/1425 [02:09<02:46,  4.70it/s]"
     ]
    },
    {
     "name": "stdout",
     "output_type": "stream",
     "text": [
      "Inferencing on instance 640\n",
      "1/1 [==============================] - 0s 48ms/step\n",
      "Online training on instance 640\n",
      "1/1 - 0s - loss: 0.3027 - binary_accuracy: 1.0000 - 16ms/epoch - 16ms/step\n"
     ]
    },
    {
     "name": "stderr",
     "output_type": "stream",
     "text": [
      " 45%|████▍     | 641/1425 [02:09<02:54,  4.49it/s]"
     ]
    },
    {
     "name": "stdout",
     "output_type": "stream",
     "text": [
      "Inferencing on instance 641\n",
      "1/1 [==============================] - 0s 44ms/step\n",
      "Online training on instance 641\n",
      "1/1 - 0s - loss: 0.2884 - binary_accuracy: 1.0000 - 19ms/epoch - 19ms/step\n"
     ]
    },
    {
     "name": "stderr",
     "output_type": "stream",
     "text": [
      " 45%|████▌     | 642/1425 [02:09<02:55,  4.47it/s]"
     ]
    },
    {
     "name": "stdout",
     "output_type": "stream",
     "text": [
      "Inferencing on instance 642\n",
      "1/1 [==============================] - 0s 42ms/step\n",
      "Online training on instance 642\n",
      "1/1 - 0s - loss: 0.2646 - binary_accuracy: 1.0000 - 19ms/epoch - 19ms/step\n"
     ]
    },
    {
     "name": "stderr",
     "output_type": "stream",
     "text": [
      " 45%|████▌     | 643/1425 [02:10<02:55,  4.47it/s]"
     ]
    },
    {
     "name": "stdout",
     "output_type": "stream",
     "text": [
      "Inferencing on instance 643\n",
      "1/1 [==============================] - 0s 30ms/step\n",
      "Online training on instance 643\n",
      "1/1 - 0s - loss: 0.2855 - binary_accuracy: 1.0000 - 18ms/epoch - 18ms/step\n"
     ]
    },
    {
     "name": "stderr",
     "output_type": "stream",
     "text": [
      " 45%|████▌     | 644/1425 [02:10<02:45,  4.71it/s]"
     ]
    },
    {
     "name": "stdout",
     "output_type": "stream",
     "text": [
      "Inferencing on instance 644\n",
      "1/1 [==============================] - 0s 33ms/step\n",
      "Online training on instance 644\n",
      "1/1 - 0s - loss: 0.2523 - binary_accuracy: 1.0000 - 27ms/epoch - 27ms/step\n"
     ]
    },
    {
     "name": "stderr",
     "output_type": "stream",
     "text": [
      " 45%|████▌     | 645/1425 [02:10<02:51,  4.54it/s]"
     ]
    },
    {
     "name": "stdout",
     "output_type": "stream",
     "text": [
      "Inferencing on instance 645\n",
      "1/1 [==============================] - 0s 39ms/step\n",
      "Online training on instance 645\n",
      "1/1 - 0s - loss: 0.2703 - binary_accuracy: 1.0000 - 17ms/epoch - 17ms/step\n"
     ]
    },
    {
     "name": "stderr",
     "output_type": "stream",
     "text": [
      " 45%|████▌     | 646/1425 [02:10<02:52,  4.51it/s]"
     ]
    },
    {
     "name": "stdout",
     "output_type": "stream",
     "text": [
      "Inferencing on instance 646\n",
      "1/1 [==============================] - 0s 33ms/step\n",
      "Online training on instance 646\n",
      "1/1 - 0s - loss: 0.2519 - binary_accuracy: 1.0000 - 18ms/epoch - 18ms/step\n"
     ]
    },
    {
     "name": "stderr",
     "output_type": "stream",
     "text": [
      " 45%|████▌     | 647/1425 [02:10<02:49,  4.58it/s]"
     ]
    },
    {
     "name": "stdout",
     "output_type": "stream",
     "text": [
      "Inferencing on instance 647\n",
      "1/1 [==============================] - 0s 37ms/step\n",
      "Online training on instance 647\n",
      "1/1 - 0s - loss: 0.2737 - binary_accuracy: 1.0000 - 20ms/epoch - 20ms/step\n"
     ]
    },
    {
     "name": "stderr",
     "output_type": "stream",
     "text": [
      " 45%|████▌     | 648/1425 [02:11<02:47,  4.63it/s]"
     ]
    },
    {
     "name": "stdout",
     "output_type": "stream",
     "text": [
      "Inferencing on instance 648\n",
      "1/1 [==============================] - 0s 39ms/step\n",
      "Online training on instance 648\n",
      "1/1 - 0s - loss: 0.2643 - binary_accuracy: 1.0000 - 16ms/epoch - 16ms/step\n"
     ]
    },
    {
     "name": "stderr",
     "output_type": "stream",
     "text": [
      " 46%|████▌     | 649/1425 [02:11<02:50,  4.56it/s]"
     ]
    },
    {
     "name": "stdout",
     "output_type": "stream",
     "text": [
      "Inferencing on instance 649\n",
      "1/1 [==============================] - 0s 47ms/step\n",
      "Online training on instance 649\n",
      "1/1 - 0s - loss: 0.2651 - binary_accuracy: 0.9375 - 17ms/epoch - 17ms/step\n"
     ]
    },
    {
     "name": "stderr",
     "output_type": "stream",
     "text": [
      " 46%|████▌     | 650/1425 [02:11<02:56,  4.39it/s]"
     ]
    },
    {
     "name": "stdout",
     "output_type": "stream",
     "text": [
      "Inferencing on instance 650\n",
      "1/1 [==============================] - 0s 34ms/step\n",
      "Online training on instance 650\n",
      "1/1 - 0s - loss: 0.2790 - binary_accuracy: 1.0000 - 16ms/epoch - 16ms/step\n"
     ]
    },
    {
     "name": "stderr",
     "output_type": "stream",
     "text": [
      " 46%|████▌     | 651/1425 [02:11<02:50,  4.55it/s]"
     ]
    },
    {
     "name": "stdout",
     "output_type": "stream",
     "text": [
      "Inferencing on instance 651\n",
      "1/1 [==============================] - 0s 27ms/step\n",
      "Online training on instance 651\n",
      "1/1 - 0s - loss: 0.2599 - binary_accuracy: 1.0000 - 15ms/epoch - 15ms/step\n"
     ]
    },
    {
     "name": "stderr",
     "output_type": "stream",
     "text": [
      " 46%|████▌     | 652/1425 [02:12<02:41,  4.78it/s]"
     ]
    },
    {
     "name": "stdout",
     "output_type": "stream",
     "text": [
      "Inferencing on instance 652\n",
      "1/1 [==============================] - 0s 31ms/step\n",
      "Online training on instance 652\n",
      "1/1 - 0s - loss: 0.2269 - binary_accuracy: 1.0000 - 21ms/epoch - 21ms/step\n"
     ]
    },
    {
     "name": "stderr",
     "output_type": "stream",
     "text": [
      " 46%|████▌     | 653/1425 [02:12<02:45,  4.66it/s]"
     ]
    },
    {
     "name": "stdout",
     "output_type": "stream",
     "text": [
      "Inferencing on instance 653\n",
      "1/1 [==============================] - 0s 37ms/step\n",
      "Online training on instance 653\n",
      "1/1 - 0s - loss: 0.2461 - binary_accuracy: 1.0000 - 17ms/epoch - 17ms/step\n"
     ]
    },
    {
     "name": "stderr",
     "output_type": "stream",
     "text": [
      " 46%|████▌     | 654/1425 [02:12<02:50,  4.53it/s]"
     ]
    },
    {
     "name": "stdout",
     "output_type": "stream",
     "text": [
      "Inferencing on instance 654\n",
      "1/1 [==============================] - 0s 31ms/step\n",
      "Online training on instance 654\n",
      "1/1 - 0s - loss: 0.2573 - binary_accuracy: 1.0000 - 23ms/epoch - 23ms/step\n"
     ]
    },
    {
     "name": "stderr",
     "output_type": "stream",
     "text": [
      " 46%|████▌     | 655/1425 [02:12<02:56,  4.36it/s]"
     ]
    },
    {
     "name": "stdout",
     "output_type": "stream",
     "text": [
      "Inferencing on instance 655\n",
      "1/1 [==============================] - 0s 43ms/step\n",
      "Online training on instance 655\n",
      "1/1 - 0s - loss: 0.2525 - binary_accuracy: 1.0000 - 19ms/epoch - 19ms/step\n"
     ]
    },
    {
     "name": "stderr",
     "output_type": "stream",
     "text": [
      " 46%|████▌     | 656/1425 [02:13<03:00,  4.25it/s]"
     ]
    },
    {
     "name": "stdout",
     "output_type": "stream",
     "text": [
      "Inferencing on instance 656\n",
      "1/1 [==============================] - 0s 35ms/step\n",
      "Online training on instance 656\n",
      "1/1 - 0s - loss: 0.2330 - binary_accuracy: 1.0000 - 17ms/epoch - 17ms/step\n"
     ]
    },
    {
     "name": "stderr",
     "output_type": "stream",
     "text": [
      " 46%|████▌     | 657/1425 [02:13<02:55,  4.38it/s]"
     ]
    },
    {
     "name": "stdout",
     "output_type": "stream",
     "text": [
      "Inferencing on instance 657\n",
      "1/1 [==============================] - 0s 35ms/step\n",
      "Online training on instance 657\n",
      "1/1 - 0s - loss: 0.2558 - binary_accuracy: 1.0000 - 15ms/epoch - 15ms/step\n"
     ]
    },
    {
     "name": "stderr",
     "output_type": "stream",
     "text": [
      " 46%|████▌     | 658/1425 [02:13<02:48,  4.56it/s]"
     ]
    },
    {
     "name": "stdout",
     "output_type": "stream",
     "text": [
      "Inferencing on instance 658\n",
      "1/1 [==============================] - 0s 39ms/step\n",
      "Online training on instance 658\n",
      "1/1 - 0s - loss: 0.2431 - binary_accuracy: 1.0000 - 19ms/epoch - 19ms/step\n"
     ]
    },
    {
     "name": "stderr",
     "output_type": "stream",
     "text": [
      " 46%|████▌     | 659/1425 [02:13<02:46,  4.60it/s]"
     ]
    },
    {
     "name": "stdout",
     "output_type": "stream",
     "text": [
      "Inferencing on instance 659\n",
      "1/1 [==============================] - 0s 45ms/step\n",
      "Online training on instance 659\n",
      "1/1 - 0s - loss: 0.2109 - binary_accuracy: 1.0000 - 15ms/epoch - 15ms/step\n"
     ]
    },
    {
     "name": "stderr",
     "output_type": "stream",
     "text": [
      " 46%|████▋     | 660/1425 [02:13<02:51,  4.47it/s]"
     ]
    },
    {
     "name": "stdout",
     "output_type": "stream",
     "text": [
      "Inferencing on instance 660\n",
      "1/1 [==============================] - 0s 26ms/step\n",
      "Online training on instance 660\n",
      "1/1 - 0s - loss: 0.2171 - binary_accuracy: 1.0000 - 16ms/epoch - 16ms/step\n"
     ]
    },
    {
     "name": "stderr",
     "output_type": "stream",
     "text": [
      " 46%|████▋     | 661/1425 [02:14<02:42,  4.70it/s]"
     ]
    },
    {
     "name": "stdout",
     "output_type": "stream",
     "text": [
      "Inferencing on instance 661\n",
      "1/1 [==============================] - 0s 25ms/step\n",
      "Online training on instance 661\n",
      "1/1 - 0s - loss: 0.2286 - binary_accuracy: 1.0000 - 16ms/epoch - 16ms/step\n"
     ]
    },
    {
     "name": "stderr",
     "output_type": "stream",
     "text": [
      " 46%|████▋     | 662/1425 [02:14<02:35,  4.90it/s]"
     ]
    },
    {
     "name": "stdout",
     "output_type": "stream",
     "text": [
      "Inferencing on instance 662\n",
      "1/1 [==============================] - 0s 34ms/step\n",
      "Online training on instance 662\n",
      "1/1 - 0s - loss: 0.2079 - binary_accuracy: 1.0000 - 17ms/epoch - 17ms/step\n"
     ]
    },
    {
     "name": "stderr",
     "output_type": "stream",
     "text": [
      " 47%|████▋     | 663/1425 [02:14<02:31,  5.02it/s]"
     ]
    },
    {
     "name": "stdout",
     "output_type": "stream",
     "text": [
      "Inferencing on instance 663\n",
      "1/1 [==============================] - 0s 36ms/step\n",
      "Online training on instance 663\n",
      "1/1 - 0s - loss: 0.2046 - binary_accuracy: 1.0000 - 26ms/epoch - 26ms/step\n"
     ]
    },
    {
     "name": "stderr",
     "output_type": "stream",
     "text": [
      " 47%|████▋     | 664/1425 [02:14<02:37,  4.84it/s]"
     ]
    },
    {
     "name": "stdout",
     "output_type": "stream",
     "text": [
      "Inferencing on instance 664\n",
      "1/1 [==============================] - 0s 34ms/step\n",
      "Online training on instance 664\n",
      "1/1 - 0s - loss: 0.2157 - binary_accuracy: 1.0000 - 13ms/epoch - 13ms/step\n"
     ]
    },
    {
     "name": "stderr",
     "output_type": "stream",
     "text": [
      " 47%|████▋     | 665/1425 [02:14<02:41,  4.71it/s]"
     ]
    },
    {
     "name": "stdout",
     "output_type": "stream",
     "text": [
      "Inferencing on instance 665\n",
      "1/1 [==============================] - 0s 30ms/step\n",
      "Online training on instance 665\n",
      "1/1 - 0s - loss: 0.2134 - binary_accuracy: 1.0000 - 16ms/epoch - 16ms/step\n"
     ]
    },
    {
     "name": "stderr",
     "output_type": "stream",
     "text": [
      " 47%|████▋     | 666/1425 [02:15<02:32,  4.98it/s]"
     ]
    },
    {
     "name": "stdout",
     "output_type": "stream",
     "text": [
      "Inferencing on instance 666\n",
      "1/1 [==============================] - 0s 31ms/step\n",
      "Online training on instance 666\n",
      "1/1 - 0s - loss: 0.2262 - binary_accuracy: 1.0000 - 16ms/epoch - 16ms/step\n"
     ]
    },
    {
     "name": "stderr",
     "output_type": "stream",
     "text": [
      " 47%|████▋     | 667/1425 [02:15<02:27,  5.13it/s]"
     ]
    },
    {
     "name": "stdout",
     "output_type": "stream",
     "text": [
      "Inferencing on instance 667\n",
      "1/1 [==============================] - 0s 42ms/step\n",
      "Online training on instance 667\n",
      "1/1 - 0s - loss: 0.1938 - binary_accuracy: 1.0000 - 15ms/epoch - 15ms/step\n"
     ]
    },
    {
     "name": "stderr",
     "output_type": "stream",
     "text": [
      " 47%|████▋     | 668/1425 [02:15<02:24,  5.24it/s]"
     ]
    },
    {
     "name": "stdout",
     "output_type": "stream",
     "text": [
      "Inferencing on instance 668\n",
      "1/1 [==============================] - 0s 25ms/step\n",
      "Online training on instance 668\n",
      "1/1 - 0s - loss: 0.2070 - binary_accuracy: 1.0000 - 20ms/epoch - 20ms/step\n"
     ]
    },
    {
     "name": "stderr",
     "output_type": "stream",
     "text": [
      " 47%|████▋     | 669/1425 [02:15<02:28,  5.08it/s]"
     ]
    },
    {
     "name": "stdout",
     "output_type": "stream",
     "text": [
      "Inferencing on instance 669\n",
      "1/1 [==============================] - 0s 35ms/step\n",
      "Online training on instance 669\n",
      "1/1 - 0s - loss: 0.2353 - binary_accuracy: 0.9375 - 17ms/epoch - 17ms/step\n"
     ]
    },
    {
     "name": "stderr",
     "output_type": "stream",
     "text": [
      " 47%|████▋     | 670/1425 [02:15<02:26,  5.17it/s]"
     ]
    },
    {
     "name": "stdout",
     "output_type": "stream",
     "text": [
      "Inferencing on instance 670\n",
      "1/1 [==============================] - 0s 29ms/step\n",
      "Online training on instance 670\n",
      "1/1 - 0s - loss: 0.1877 - binary_accuracy: 1.0000 - 14ms/epoch - 14ms/step\n"
     ]
    },
    {
     "name": "stderr",
     "output_type": "stream",
     "text": [
      " 47%|████▋     | 671/1425 [02:16<02:23,  5.27it/s]"
     ]
    },
    {
     "name": "stdout",
     "output_type": "stream",
     "text": [
      "Inferencing on instance 671\n",
      "1/1 [==============================] - 0s 30ms/step\n",
      "Online training on instance 671\n",
      "1/1 - 0s - loss: 0.1969 - binary_accuracy: 1.0000 - 17ms/epoch - 17ms/step\n"
     ]
    },
    {
     "name": "stderr",
     "output_type": "stream",
     "text": [
      " 47%|████▋     | 672/1425 [02:16<02:19,  5.39it/s]"
     ]
    },
    {
     "name": "stdout",
     "output_type": "stream",
     "text": [
      "Inferencing on instance 672\n",
      "1/1 [==============================] - 0s 33ms/step\n",
      "Online training on instance 672\n",
      "1/1 - 0s - loss: 0.2204 - binary_accuracy: 1.0000 - 18ms/epoch - 18ms/step\n"
     ]
    },
    {
     "name": "stderr",
     "output_type": "stream",
     "text": [
      " 47%|████▋     | 673/1425 [02:16<02:27,  5.10it/s]"
     ]
    },
    {
     "name": "stdout",
     "output_type": "stream",
     "text": [
      "Inferencing on instance 673\n",
      "1/1 [==============================] - 0s 28ms/step\n",
      "Online training on instance 673\n",
      "1/1 - 0s - loss: 0.2102 - binary_accuracy: 1.0000 - 16ms/epoch - 16ms/step\n"
     ]
    },
    {
     "name": "stderr",
     "output_type": "stream",
     "text": [
      " 47%|████▋     | 674/1425 [02:16<02:26,  5.11it/s]"
     ]
    },
    {
     "name": "stdout",
     "output_type": "stream",
     "text": [
      "Inferencing on instance 674\n",
      "1/1 [==============================] - 0s 24ms/step\n",
      "Online training on instance 674\n",
      "1/1 - 0s - loss: 0.1954 - binary_accuracy: 1.0000 - 15ms/epoch - 15ms/step\n"
     ]
    },
    {
     "name": "stderr",
     "output_type": "stream",
     "text": [
      " 47%|████▋     | 675/1425 [02:16<02:22,  5.27it/s]"
     ]
    },
    {
     "name": "stdout",
     "output_type": "stream",
     "text": [
      "Inferencing on instance 675\n",
      "1/1 [==============================] - 0s 32ms/step\n",
      "Online training on instance 675\n",
      "1/1 - 0s - loss: 0.1915 - binary_accuracy: 1.0000 - 15ms/epoch - 15ms/step\n"
     ]
    },
    {
     "name": "stderr",
     "output_type": "stream",
     "text": [
      " 47%|████▋     | 676/1425 [02:16<02:19,  5.39it/s]"
     ]
    },
    {
     "name": "stdout",
     "output_type": "stream",
     "text": [
      "Inferencing on instance 676\n",
      "1/1 [==============================] - 0s 30ms/step\n",
      "Online training on instance 676\n",
      "1/1 - 0s - loss: 0.1875 - binary_accuracy: 1.0000 - 17ms/epoch - 17ms/step\n"
     ]
    },
    {
     "name": "stderr",
     "output_type": "stream",
     "text": [
      " 48%|████▊     | 677/1425 [02:17<02:25,  5.13it/s]"
     ]
    },
    {
     "name": "stdout",
     "output_type": "stream",
     "text": [
      "Inferencing on instance 677\n",
      "1/1 [==============================] - 0s 32ms/step\n",
      "Online training on instance 677\n",
      "1/1 - 0s - loss: 0.1986 - binary_accuracy: 1.0000 - 16ms/epoch - 16ms/step\n"
     ]
    },
    {
     "name": "stderr",
     "output_type": "stream",
     "text": [
      " 48%|████▊     | 678/1425 [02:17<02:24,  5.18it/s]"
     ]
    },
    {
     "name": "stdout",
     "output_type": "stream",
     "text": [
      "Inferencing on instance 678\n",
      "1/1 [==============================] - 0s 26ms/step\n",
      "Online training on instance 678\n",
      "1/1 - 0s - loss: 0.1962 - binary_accuracy: 1.0000 - 16ms/epoch - 16ms/step\n"
     ]
    },
    {
     "name": "stderr",
     "output_type": "stream",
     "text": [
      " 48%|████▊     | 679/1425 [02:17<02:22,  5.23it/s]"
     ]
    },
    {
     "name": "stdout",
     "output_type": "stream",
     "text": [
      "Inferencing on instance 679\n",
      "1/1 [==============================] - 0s 29ms/step\n",
      "Online training on instance 679\n",
      "1/1 - 0s - loss: 0.1969 - binary_accuracy: 0.9375 - 16ms/epoch - 16ms/step\n"
     ]
    },
    {
     "name": "stderr",
     "output_type": "stream",
     "text": [
      " 48%|████▊     | 680/1425 [02:17<02:20,  5.30it/s]"
     ]
    },
    {
     "name": "stdout",
     "output_type": "stream",
     "text": [
      "Inferencing on instance 680\n",
      "1/1 [==============================] - 0s 34ms/step\n",
      "Online training on instance 680\n",
      "1/1 - 0s - loss: 0.1764 - binary_accuracy: 1.0000 - 20ms/epoch - 20ms/step\n"
     ]
    },
    {
     "name": "stderr",
     "output_type": "stream",
     "text": [
      " 48%|████▊     | 681/1425 [02:17<02:28,  5.00it/s]"
     ]
    },
    {
     "name": "stdout",
     "output_type": "stream",
     "text": [
      "Inferencing on instance 681\n",
      "1/1 [==============================] - 0s 33ms/step\n",
      "Online training on instance 681\n",
      "1/1 - 0s - loss: 0.1881 - binary_accuracy: 1.0000 - 16ms/epoch - 16ms/step\n"
     ]
    },
    {
     "name": "stderr",
     "output_type": "stream",
     "text": [
      " 48%|████▊     | 682/1425 [02:18<02:24,  5.15it/s]"
     ]
    },
    {
     "name": "stdout",
     "output_type": "stream",
     "text": [
      "Inferencing on instance 682\n",
      "1/1 [==============================] - 0s 30ms/step\n",
      "Online training on instance 682\n",
      "1/1 - 0s - loss: 0.1799 - binary_accuracy: 1.0000 - 17ms/epoch - 17ms/step\n"
     ]
    },
    {
     "name": "stderr",
     "output_type": "stream",
     "text": [
      " 48%|████▊     | 683/1425 [02:18<02:21,  5.23it/s]"
     ]
    },
    {
     "name": "stdout",
     "output_type": "stream",
     "text": [
      "Inferencing on instance 683\n",
      "1/1 [==============================] - 0s 28ms/step\n",
      "Online training on instance 683\n",
      "1/1 - 0s - loss: 0.1891 - binary_accuracy: 1.0000 - 16ms/epoch - 16ms/step\n"
     ]
    },
    {
     "name": "stderr",
     "output_type": "stream",
     "text": [
      " 48%|████▊     | 684/1425 [02:18<02:21,  5.23it/s]"
     ]
    },
    {
     "name": "stdout",
     "output_type": "stream",
     "text": [
      "Inferencing on instance 684\n",
      "1/1 [==============================] - 0s 27ms/step\n",
      "Online training on instance 684\n",
      "1/1 - 0s - loss: 0.1865 - binary_accuracy: 1.0000 - 25ms/epoch - 25ms/step\n"
     ]
    },
    {
     "name": "stderr",
     "output_type": "stream",
     "text": [
      " 48%|████▊     | 685/1425 [02:18<02:27,  5.01it/s]"
     ]
    },
    {
     "name": "stdout",
     "output_type": "stream",
     "text": [
      "Inferencing on instance 685\n",
      "1/1 [==============================] - 0s 37ms/step\n",
      "Online training on instance 685\n",
      "1/1 - 0s - loss: 0.1789 - binary_accuracy: 1.0000 - 17ms/epoch - 17ms/step\n"
     ]
    },
    {
     "name": "stderr",
     "output_type": "stream",
     "text": [
      " 48%|████▊     | 686/1425 [02:18<02:28,  4.97it/s]"
     ]
    },
    {
     "name": "stdout",
     "output_type": "stream",
     "text": [
      "Inferencing on instance 686\n",
      "1/1 [==============================] - 0s 32ms/step\n",
      "Online training on instance 686\n",
      "1/1 - 0s - loss: 0.1961 - binary_accuracy: 1.0000 - 15ms/epoch - 15ms/step\n"
     ]
    },
    {
     "name": "stderr",
     "output_type": "stream",
     "text": [
      " 48%|████▊     | 687/1425 [02:19<02:27,  5.01it/s]"
     ]
    },
    {
     "name": "stdout",
     "output_type": "stream",
     "text": [
      "Inferencing on instance 687\n",
      "1/1 [==============================] - 0s 28ms/step\n",
      "Online training on instance 687\n",
      "1/1 - 0s - loss: 0.1522 - binary_accuracy: 1.0000 - 16ms/epoch - 16ms/step\n"
     ]
    },
    {
     "name": "stderr",
     "output_type": "stream",
     "text": [
      " 48%|████▊     | 688/1425 [02:19<02:21,  5.20it/s]"
     ]
    },
    {
     "name": "stdout",
     "output_type": "stream",
     "text": [
      "Inferencing on instance 688\n",
      "1/1 [==============================] - 0s 35ms/step\n",
      "Online training on instance 688\n",
      "1/1 - 0s - loss: 0.1687 - binary_accuracy: 1.0000 - 33ms/epoch - 33ms/step\n"
     ]
    },
    {
     "name": "stderr",
     "output_type": "stream",
     "text": [
      " 48%|████▊     | 689/1425 [02:19<02:29,  4.93it/s]"
     ]
    },
    {
     "name": "stdout",
     "output_type": "stream",
     "text": [
      "Inferencing on instance 689\n",
      "1/1 [==============================] - 0s 43ms/step\n",
      "Online training on instance 689\n",
      "1/1 - 0s - loss: 0.1704 - binary_accuracy: 1.0000 - 21ms/epoch - 21ms/step\n"
     ]
    },
    {
     "name": "stderr",
     "output_type": "stream",
     "text": [
      " 48%|████▊     | 690/1425 [02:19<02:37,  4.66it/s]"
     ]
    },
    {
     "name": "stdout",
     "output_type": "stream",
     "text": [
      "Inferencing on instance 690\n",
      "1/1 [==============================] - 0s 46ms/step\n",
      "Online training on instance 690\n",
      "1/1 - 0s - loss: 0.1851 - binary_accuracy: 1.0000 - 17ms/epoch - 17ms/step\n"
     ]
    },
    {
     "name": "stderr",
     "output_type": "stream",
     "text": [
      " 48%|████▊     | 691/1425 [02:20<02:41,  4.54it/s]"
     ]
    },
    {
     "name": "stdout",
     "output_type": "stream",
     "text": [
      "Inferencing on instance 691\n",
      "1/1 [==============================] - 0s 35ms/step\n",
      "Online training on instance 691\n",
      "1/1 - 0s - loss: 0.1912 - binary_accuracy: 0.9375 - 20ms/epoch - 20ms/step\n"
     ]
    },
    {
     "name": "stderr",
     "output_type": "stream",
     "text": [
      " 49%|████▊     | 692/1425 [02:20<02:41,  4.54it/s]"
     ]
    },
    {
     "name": "stdout",
     "output_type": "stream",
     "text": [
      "Inferencing on instance 692\n",
      "1/1 [==============================] - 0s 40ms/step\n",
      "Online training on instance 692\n",
      "1/1 - 0s - loss: 0.4346 - binary_accuracy: 0.8750 - 19ms/epoch - 19ms/step\n"
     ]
    },
    {
     "name": "stderr",
     "output_type": "stream",
     "text": [
      " 49%|████▊     | 693/1425 [02:20<02:45,  4.41it/s]"
     ]
    },
    {
     "name": "stdout",
     "output_type": "stream",
     "text": [
      "Inferencing on instance 693\n",
      "1/1 [==============================] - 0s 45ms/step\n",
      "Online training on instance 693\n",
      "1/1 - 0s - loss: 0.4049 - binary_accuracy: 0.8125 - 19ms/epoch - 19ms/step\n"
     ]
    },
    {
     "name": "stderr",
     "output_type": "stream",
     "text": [
      " 49%|████▊     | 694/1425 [02:20<02:59,  4.08it/s]"
     ]
    },
    {
     "name": "stdout",
     "output_type": "stream",
     "text": [
      "Inferencing on instance 694\n",
      "1/1 [==============================] - 0s 39ms/step\n",
      "Online training on instance 694\n",
      "1/1 - 0s - loss: 0.6490 - binary_accuracy: 0.7500 - 19ms/epoch - 19ms/step\n"
     ]
    },
    {
     "name": "stderr",
     "output_type": "stream",
     "text": [
      " 49%|████▉     | 695/1425 [02:21<02:59,  4.06it/s]"
     ]
    },
    {
     "name": "stdout",
     "output_type": "stream",
     "text": [
      "Inferencing on instance 695\n",
      "1/1 [==============================] - 0s 44ms/step\n",
      "Online training on instance 695\n",
      "1/1 - 0s - loss: 0.7724 - binary_accuracy: 0.6875 - 17ms/epoch - 17ms/step\n"
     ]
    },
    {
     "name": "stderr",
     "output_type": "stream",
     "text": [
      " 49%|████▉     | 696/1425 [02:21<02:55,  4.15it/s]"
     ]
    },
    {
     "name": "stdout",
     "output_type": "stream",
     "text": [
      "Inferencing on instance 696\n",
      "1/1 [==============================] - 0s 28ms/step\n",
      "Online training on instance 696\n",
      "1/1 - 0s - loss: 0.8651 - binary_accuracy: 0.6250 - 16ms/epoch - 16ms/step\n"
     ]
    },
    {
     "name": "stderr",
     "output_type": "stream",
     "text": [
      " 49%|████▉     | 697/1425 [02:21<02:46,  4.36it/s]"
     ]
    },
    {
     "name": "stdout",
     "output_type": "stream",
     "text": [
      "Inferencing on instance 697\n",
      "1/1 [==============================] - 0s 33ms/step\n",
      "Online training on instance 697\n",
      "1/1 - 0s - loss: 1.0986 - binary_accuracy: 0.5625 - 22ms/epoch - 22ms/step\n"
     ]
    },
    {
     "name": "stderr",
     "output_type": "stream",
     "text": [
      " 49%|████▉     | 698/1425 [02:21<02:49,  4.30it/s]"
     ]
    },
    {
     "name": "stdout",
     "output_type": "stream",
     "text": [
      "Inferencing on instance 698\n",
      "1/1 [==============================] - 0s 38ms/step\n",
      "Online training on instance 698\n",
      "1/1 - 0s - loss: 1.2143 - binary_accuracy: 0.5000 - 19ms/epoch - 19ms/step\n"
     ]
    },
    {
     "name": "stderr",
     "output_type": "stream",
     "text": [
      " 49%|████▉     | 699/1425 [02:21<02:46,  4.37it/s]"
     ]
    },
    {
     "name": "stdout",
     "output_type": "stream",
     "text": [
      "Inferencing on instance 699\n",
      "1/1 [==============================] - 0s 35ms/step\n",
      "Online training on instance 699\n",
      "1/1 - 0s - loss: 1.3173 - binary_accuracy: 0.4375 - 17ms/epoch - 17ms/step\n"
     ]
    },
    {
     "name": "stderr",
     "output_type": "stream",
     "text": [
      " 49%|████▉     | 700/1425 [02:22<02:43,  4.43it/s]"
     ]
    },
    {
     "name": "stdout",
     "output_type": "stream",
     "text": [
      "Inferencing on instance 700\n",
      "1/1 [==============================] - 0s 32ms/step\n",
      "Online training on instance 700\n",
      "1/1 - 0s - loss: 1.5015 - binary_accuracy: 0.3750 - 18ms/epoch - 18ms/step\n"
     ]
    },
    {
     "name": "stderr",
     "output_type": "stream",
     "text": [
      " 49%|████▉     | 701/1425 [02:22<02:37,  4.60it/s]"
     ]
    },
    {
     "name": "stdout",
     "output_type": "stream",
     "text": [
      "Inferencing on instance 701\n",
      "1/1 [==============================] - 0s 34ms/step\n",
      "Online training on instance 701\n",
      "1/1 - 0s - loss: 1.5673 - binary_accuracy: 0.3125 - 25ms/epoch - 25ms/step\n"
     ]
    },
    {
     "name": "stderr",
     "output_type": "stream",
     "text": [
      " 49%|████▉     | 702/1425 [02:22<02:45,  4.37it/s]"
     ]
    },
    {
     "name": "stdout",
     "output_type": "stream",
     "text": [
      "Inferencing on instance 702\n",
      "1/1 [==============================] - 0s 36ms/step\n",
      "Online training on instance 702\n",
      "1/1 - 0s - loss: 1.6813 - binary_accuracy: 0.2500 - 17ms/epoch - 17ms/step\n"
     ]
    },
    {
     "name": "stderr",
     "output_type": "stream",
     "text": [
      " 49%|████▉     | 703/1425 [02:22<02:45,  4.36it/s]"
     ]
    },
    {
     "name": "stdout",
     "output_type": "stream",
     "text": [
      "Inferencing on instance 703\n",
      "1/1 [==============================] - 0s 38ms/step\n",
      "Online training on instance 703\n",
      "1/1 - 0s - loss: 1.7815 - binary_accuracy: 0.1875 - 17ms/epoch - 17ms/step\n"
     ]
    },
    {
     "name": "stderr",
     "output_type": "stream",
     "text": [
      " 49%|████▉     | 704/1425 [02:22<02:37,  4.57it/s]"
     ]
    },
    {
     "name": "stdout",
     "output_type": "stream",
     "text": [
      "Inferencing on instance 704\n",
      "1/1 [==============================] - 0s 31ms/step\n",
      "Online training on instance 704\n",
      "1/1 - 0s - loss: 1.8581 - binary_accuracy: 0.1250 - 16ms/epoch - 16ms/step\n"
     ]
    },
    {
     "name": "stderr",
     "output_type": "stream",
     "text": [
      " 49%|████▉     | 705/1425 [02:23<02:32,  4.72it/s]"
     ]
    },
    {
     "name": "stdout",
     "output_type": "stream",
     "text": [
      "Inferencing on instance 705\n",
      "1/1 [==============================] - 0s 26ms/step\n",
      "Online training on instance 705\n",
      "1/1 - 0s - loss: 1.9536 - binary_accuracy: 0.0625 - 15ms/epoch - 15ms/step\n"
     ]
    },
    {
     "name": "stderr",
     "output_type": "stream",
     "text": [
      " 50%|████▉     | 706/1425 [02:23<02:35,  4.61it/s]"
     ]
    },
    {
     "name": "stdout",
     "output_type": "stream",
     "text": [
      "Inferencing on instance 706\n",
      "1/1 [==============================] - 0s 27ms/step\n",
      "Online training on instance 706\n",
      "1/1 - 0s - loss: 2.0044 - binary_accuracy: 0.0000e+00 - 17ms/epoch - 17ms/step\n"
     ]
    },
    {
     "name": "stderr",
     "output_type": "stream",
     "text": [
      " 50%|████▉     | 707/1425 [02:23<02:30,  4.79it/s]"
     ]
    },
    {
     "name": "stdout",
     "output_type": "stream",
     "text": [
      "Inferencing on instance 707\n",
      "1/1 [==============================] - 0s 44ms/step\n",
      "Online training on instance 707\n",
      "1/1 - 0s - loss: 1.9991 - binary_accuracy: 0.0000e+00 - 16ms/epoch - 16ms/step\n"
     ]
    },
    {
     "name": "stderr",
     "output_type": "stream",
     "text": [
      " 50%|████▉     | 708/1425 [02:23<02:30,  4.75it/s]"
     ]
    },
    {
     "name": "stdout",
     "output_type": "stream",
     "text": [
      "Inferencing on instance 708\n",
      "1/1 [==============================] - 0s 27ms/step\n",
      "Online training on instance 708\n",
      "1/1 - 0s - loss: 1.9664 - binary_accuracy: 0.0000e+00 - 21ms/epoch - 21ms/step\n"
     ]
    },
    {
     "name": "stderr",
     "output_type": "stream",
     "text": [
      " 50%|████▉     | 709/1425 [02:24<02:33,  4.65it/s]"
     ]
    },
    {
     "name": "stdout",
     "output_type": "stream",
     "text": [
      "Inferencing on instance 709\n",
      "1/1 [==============================] - 0s 38ms/step\n",
      "Online training on instance 709\n",
      "1/1 - 0s - loss: 1.8673 - binary_accuracy: 0.0000e+00 - 18ms/epoch - 18ms/step\n"
     ]
    },
    {
     "name": "stderr",
     "output_type": "stream",
     "text": [
      " 50%|████▉     | 710/1425 [02:24<02:31,  4.72it/s]"
     ]
    },
    {
     "name": "stdout",
     "output_type": "stream",
     "text": [
      "Inferencing on instance 710\n",
      "1/1 [==============================] - 0s 40ms/step\n",
      "Online training on instance 710\n",
      "1/1 - 0s - loss: 1.8510 - binary_accuracy: 0.0000e+00 - 19ms/epoch - 19ms/step\n"
     ]
    },
    {
     "name": "stderr",
     "output_type": "stream",
     "text": [
      " 50%|████▉     | 711/1425 [02:24<02:31,  4.70it/s]"
     ]
    },
    {
     "name": "stdout",
     "output_type": "stream",
     "text": [
      "Inferencing on instance 711\n",
      "1/1 [==============================] - 0s 30ms/step\n",
      "Online training on instance 711\n",
      "1/1 - 0s - loss: 1.7377 - binary_accuracy: 0.0000e+00 - 17ms/epoch - 17ms/step\n"
     ]
    },
    {
     "name": "stderr",
     "output_type": "stream",
     "text": [
      " 50%|████▉     | 712/1425 [02:24<02:22,  5.02it/s]"
     ]
    },
    {
     "name": "stdout",
     "output_type": "stream",
     "text": [
      "Inferencing on instance 712\n",
      "1/1 [==============================] - 0s 42ms/step\n",
      "Online training on instance 712\n",
      "1/1 - 0s - loss: 1.7429 - binary_accuracy: 0.0625 - 20ms/epoch - 20ms/step\n"
     ]
    },
    {
     "name": "stderr",
     "output_type": "stream",
     "text": [
      " 50%|█████     | 713/1425 [02:24<02:33,  4.65it/s]"
     ]
    },
    {
     "name": "stdout",
     "output_type": "stream",
     "text": [
      "Inferencing on instance 713\n",
      "1/1 [==============================] - 0s 41ms/step\n",
      "Online training on instance 713\n",
      "1/1 - 0s - loss: 1.5795 - binary_accuracy: 0.1875 - 18ms/epoch - 18ms/step\n"
     ]
    },
    {
     "name": "stderr",
     "output_type": "stream",
     "text": [
      " 50%|█████     | 714/1425 [02:25<02:37,  4.52it/s]"
     ]
    },
    {
     "name": "stdout",
     "output_type": "stream",
     "text": [
      "Inferencing on instance 714\n",
      "1/1 [==============================] - 0s 23ms/step\n",
      "Online training on instance 714\n",
      "1/1 - 0s - loss: 1.4905 - binary_accuracy: 0.2500 - 18ms/epoch - 18ms/step\n"
     ]
    },
    {
     "name": "stderr",
     "output_type": "stream",
     "text": [
      " 50%|█████     | 715/1425 [02:25<02:28,  4.77it/s]"
     ]
    },
    {
     "name": "stdout",
     "output_type": "stream",
     "text": [
      "Inferencing on instance 715\n",
      "1/1 [==============================] - 0s 42ms/step\n",
      "Online training on instance 715\n",
      "1/1 - 0s - loss: 1.3814 - binary_accuracy: 0.3125 - 18ms/epoch - 18ms/step\n"
     ]
    },
    {
     "name": "stderr",
     "output_type": "stream",
     "text": [
      " 50%|█████     | 716/1425 [02:25<02:32,  4.65it/s]"
     ]
    },
    {
     "name": "stdout",
     "output_type": "stream",
     "text": [
      "Inferencing on instance 716\n",
      "1/1 [==============================] - 0s 30ms/step\n",
      "Online training on instance 716\n",
      "1/1 - 0s - loss: 1.2230 - binary_accuracy: 0.3750 - 15ms/epoch - 15ms/step\n"
     ]
    },
    {
     "name": "stderr",
     "output_type": "stream",
     "text": [
      " 50%|█████     | 717/1425 [02:25<02:26,  4.82it/s]"
     ]
    },
    {
     "name": "stdout",
     "output_type": "stream",
     "text": [
      "Inferencing on instance 717\n",
      "1/1 [==============================] - 0s 41ms/step\n",
      "Online training on instance 717\n",
      "1/1 - 0s - loss: 1.1446 - binary_accuracy: 0.4375 - 15ms/epoch - 15ms/step\n"
     ]
    },
    {
     "name": "stderr",
     "output_type": "stream",
     "text": [
      " 50%|█████     | 718/1425 [02:25<02:25,  4.86it/s]"
     ]
    },
    {
     "name": "stdout",
     "output_type": "stream",
     "text": [
      "Inferencing on instance 718\n",
      "1/1 [==============================] - 0s 31ms/step\n",
      "Online training on instance 718\n",
      "1/1 - 0s - loss: 1.1197 - binary_accuracy: 0.4375 - 15ms/epoch - 15ms/step\n"
     ]
    },
    {
     "name": "stderr",
     "output_type": "stream",
     "text": [
      " 50%|█████     | 719/1425 [02:26<02:20,  5.04it/s]"
     ]
    },
    {
     "name": "stdout",
     "output_type": "stream",
     "text": [
      "Inferencing on instance 719\n",
      "1/1 [==============================] - 0s 26ms/step\n",
      "Online training on instance 719\n",
      "1/1 - 0s - loss: 0.9807 - binary_accuracy: 0.5000 - 16ms/epoch - 16ms/step\n"
     ]
    },
    {
     "name": "stderr",
     "output_type": "stream",
     "text": [
      " 51%|█████     | 720/1425 [02:26<02:15,  5.21it/s]"
     ]
    },
    {
     "name": "stdout",
     "output_type": "stream",
     "text": [
      "Inferencing on instance 720\n",
      "1/1 [==============================] - 0s 23ms/step\n",
      "Online training on instance 720\n",
      "1/1 - 0s - loss: 0.9382 - binary_accuracy: 0.5625 - 15ms/epoch - 15ms/step\n"
     ]
    },
    {
     "name": "stderr",
     "output_type": "stream",
     "text": [
      " 51%|█████     | 721/1425 [02:26<02:07,  5.52it/s]"
     ]
    },
    {
     "name": "stdout",
     "output_type": "stream",
     "text": [
      "Inferencing on instance 721\n",
      "1/1 [==============================] - 0s 27ms/step\n",
      "Online training on instance 721\n",
      "1/1 - 0s - loss: 0.8025 - binary_accuracy: 0.6875 - 21ms/epoch - 21ms/step\n"
     ]
    },
    {
     "name": "stderr",
     "output_type": "stream",
     "text": [
      " 51%|█████     | 722/1425 [02:26<02:08,  5.46it/s]"
     ]
    },
    {
     "name": "stdout",
     "output_type": "stream",
     "text": [
      "Inferencing on instance 722\n",
      "1/1 [==============================] - 0s 31ms/step\n",
      "Online training on instance 722\n",
      "1/1 - 0s - loss: 0.7917 - binary_accuracy: 0.6875 - 23ms/epoch - 23ms/step\n"
     ]
    },
    {
     "name": "stderr",
     "output_type": "stream",
     "text": [
      " 51%|█████     | 723/1425 [02:26<02:12,  5.28it/s]"
     ]
    },
    {
     "name": "stdout",
     "output_type": "stream",
     "text": [
      "Inferencing on instance 723\n",
      "1/1 [==============================] - 0s 36ms/step\n",
      "Online training on instance 723\n",
      "1/1 - 0s - loss: 0.8195 - binary_accuracy: 0.7500 - 19ms/epoch - 19ms/step\n"
     ]
    },
    {
     "name": "stderr",
     "output_type": "stream",
     "text": [
      " 51%|█████     | 724/1425 [02:27<03:27,  3.37it/s]"
     ]
    },
    {
     "name": "stdout",
     "output_type": "stream",
     "text": [
      "Inferencing on instance 724\n",
      "1/1 [==============================] - 0s 38ms/step\n",
      "Online training on instance 724\n",
      "1/1 - 0s - loss: 0.7222 - binary_accuracy: 0.7500 - 20ms/epoch - 20ms/step\n"
     ]
    },
    {
     "name": "stderr",
     "output_type": "stream",
     "text": [
      " 51%|█████     | 725/1425 [02:27<03:13,  3.61it/s]"
     ]
    },
    {
     "name": "stdout",
     "output_type": "stream",
     "text": [
      "Inferencing on instance 725\n",
      "1/1 [==============================] - 0s 38ms/step\n",
      "Online training on instance 725\n",
      "1/1 - 0s - loss: 0.6854 - binary_accuracy: 0.7500 - 16ms/epoch - 16ms/step\n"
     ]
    },
    {
     "name": "stderr",
     "output_type": "stream",
     "text": [
      " 51%|█████     | 726/1425 [02:27<03:09,  3.69it/s]"
     ]
    },
    {
     "name": "stdout",
     "output_type": "stream",
     "text": [
      "Inferencing on instance 726\n",
      "1/1 [==============================] - 0s 34ms/step\n",
      "Online training on instance 726\n",
      "1/1 - 0s - loss: 0.5695 - binary_accuracy: 0.7500 - 17ms/epoch - 17ms/step\n"
     ]
    },
    {
     "name": "stderr",
     "output_type": "stream",
     "text": [
      " 51%|█████     | 727/1425 [02:28<02:54,  4.01it/s]"
     ]
    },
    {
     "name": "stdout",
     "output_type": "stream",
     "text": [
      "Inferencing on instance 727\n",
      "1/1 [==============================] - 0s 33ms/step\n",
      "Online training on instance 727\n",
      "1/1 - 0s - loss: 0.6034 - binary_accuracy: 0.6875 - 15ms/epoch - 15ms/step\n"
     ]
    },
    {
     "name": "stderr",
     "output_type": "stream",
     "text": [
      " 51%|█████     | 728/1425 [02:28<02:46,  4.19it/s]"
     ]
    },
    {
     "name": "stdout",
     "output_type": "stream",
     "text": [
      "Inferencing on instance 728\n",
      "1/1 [==============================] - 0s 24ms/step\n",
      "Online training on instance 728\n",
      "1/1 - 0s - loss: 0.6358 - binary_accuracy: 0.6250 - 15ms/epoch - 15ms/step\n"
     ]
    },
    {
     "name": "stderr",
     "output_type": "stream",
     "text": [
      " 51%|█████     | 729/1425 [02:28<02:33,  4.54it/s]"
     ]
    },
    {
     "name": "stdout",
     "output_type": "stream",
     "text": [
      "Inferencing on instance 729\n",
      "1/1 [==============================] - 0s 36ms/step\n",
      "Online training on instance 729\n",
      "1/1 - 0s - loss: 0.7184 - binary_accuracy: 0.5625 - 15ms/epoch - 15ms/step\n"
     ]
    },
    {
     "name": "stderr",
     "output_type": "stream",
     "text": [
      " 51%|█████     | 730/1425 [02:28<02:28,  4.69it/s]"
     ]
    },
    {
     "name": "stdout",
     "output_type": "stream",
     "text": [
      "Inferencing on instance 730\n",
      "1/1 [==============================] - 0s 58ms/step\n",
      "Online training on instance 730\n",
      "1/1 - 0s - loss: 0.7107 - binary_accuracy: 0.5000 - 16ms/epoch - 16ms/step\n"
     ]
    },
    {
     "name": "stderr",
     "output_type": "stream",
     "text": [
      " 51%|█████▏    | 731/1425 [02:28<02:36,  4.43it/s]"
     ]
    },
    {
     "name": "stdout",
     "output_type": "stream",
     "text": [
      "Inferencing on instance 731\n",
      "1/1 [==============================] - 0s 33ms/step\n",
      "Online training on instance 731\n",
      "1/1 - 0s - loss: 0.7449 - binary_accuracy: 0.4375 - 15ms/epoch - 15ms/step\n"
     ]
    },
    {
     "name": "stderr",
     "output_type": "stream",
     "text": [
      " 51%|█████▏    | 732/1425 [02:29<02:25,  4.75it/s]"
     ]
    },
    {
     "name": "stdout",
     "output_type": "stream",
     "text": [
      "Inferencing on instance 732\n",
      "1/1 [==============================] - 0s 33ms/step\n",
      "Online training on instance 732\n",
      "1/1 - 0s - loss: 0.8403 - binary_accuracy: 0.3750 - 16ms/epoch - 16ms/step\n"
     ]
    },
    {
     "name": "stderr",
     "output_type": "stream",
     "text": [
      " 51%|█████▏    | 733/1425 [02:29<02:20,  4.92it/s]"
     ]
    },
    {
     "name": "stdout",
     "output_type": "stream",
     "text": [
      "Inferencing on instance 733\n",
      "1/1 [==============================] - 0s 41ms/step\n",
      "Online training on instance 733\n",
      "1/1 - 0s - loss: 0.8382 - binary_accuracy: 0.3125 - 17ms/epoch - 17ms/step\n"
     ]
    },
    {
     "name": "stderr",
     "output_type": "stream",
     "text": [
      " 52%|█████▏    | 734/1425 [02:29<02:22,  4.85it/s]"
     ]
    },
    {
     "name": "stdout",
     "output_type": "stream",
     "text": [
      "Inferencing on instance 734\n",
      "1/1 [==============================] - 0s 34ms/step\n",
      "Online training on instance 734\n",
      "1/1 - 0s - loss: 0.9109 - binary_accuracy: 0.2500 - 18ms/epoch - 18ms/step\n"
     ]
    },
    {
     "name": "stderr",
     "output_type": "stream",
     "text": [
      " 52%|█████▏    | 735/1425 [02:29<02:25,  4.73it/s]"
     ]
    },
    {
     "name": "stdout",
     "output_type": "stream",
     "text": [
      "Inferencing on instance 735\n",
      "1/1 [==============================] - 0s 42ms/step\n",
      "Online training on instance 735\n",
      "1/1 - 0s - loss: 0.9359 - binary_accuracy: 0.1875 - 16ms/epoch - 16ms/step\n"
     ]
    },
    {
     "name": "stderr",
     "output_type": "stream",
     "text": [
      " 52%|█████▏    | 736/1425 [02:29<02:29,  4.60it/s]"
     ]
    },
    {
     "name": "stdout",
     "output_type": "stream",
     "text": [
      "Inferencing on instance 736\n",
      "1/1 [==============================] - 0s 44ms/step\n",
      "Online training on instance 736\n",
      "1/1 - 0s - loss: 0.9773 - binary_accuracy: 0.1250 - 16ms/epoch - 16ms/step\n"
     ]
    },
    {
     "name": "stderr",
     "output_type": "stream",
     "text": [
      " 52%|█████▏    | 737/1425 [02:30<02:31,  4.54it/s]"
     ]
    },
    {
     "name": "stdout",
     "output_type": "stream",
     "text": [
      "Inferencing on instance 737\n",
      "1/1 [==============================] - 0s 29ms/step\n",
      "Online training on instance 737\n",
      "1/1 - 0s - loss: 1.1301 - binary_accuracy: 0.1250 - 16ms/epoch - 16ms/step\n"
     ]
    },
    {
     "name": "stderr",
     "output_type": "stream",
     "text": [
      " 52%|█████▏    | 738/1425 [02:30<02:25,  4.74it/s]"
     ]
    },
    {
     "name": "stdout",
     "output_type": "stream",
     "text": [
      "Inferencing on instance 738\n",
      "1/1 [==============================] - 0s 35ms/step\n",
      "Online training on instance 738\n",
      "1/1 - 0s - loss: 1.2195 - binary_accuracy: 0.0625 - 20ms/epoch - 20ms/step\n"
     ]
    },
    {
     "name": "stderr",
     "output_type": "stream",
     "text": [
      " 52%|█████▏    | 739/1425 [02:30<02:27,  4.66it/s]"
     ]
    },
    {
     "name": "stdout",
     "output_type": "stream",
     "text": [
      "Inferencing on instance 739\n",
      "1/1 [==============================] - 0s 31ms/step\n",
      "Online training on instance 739\n",
      "1/1 - 0s - loss: 1.2068 - binary_accuracy: 0.0000e+00 - 16ms/epoch - 16ms/step\n"
     ]
    },
    {
     "name": "stderr",
     "output_type": "stream",
     "text": [
      " 52%|█████▏    | 740/1425 [02:30<02:23,  4.78it/s]"
     ]
    },
    {
     "name": "stdout",
     "output_type": "stream",
     "text": [
      "Inferencing on instance 740\n",
      "1/1 [==============================] - 0s 35ms/step\n",
      "Online training on instance 740\n",
      "1/1 - 0s - loss: 1.1504 - binary_accuracy: 0.0000e+00 - 17ms/epoch - 17ms/step\n"
     ]
    },
    {
     "name": "stderr",
     "output_type": "stream",
     "text": [
      " 52%|█████▏    | 741/1425 [02:30<02:21,  4.82it/s]"
     ]
    },
    {
     "name": "stdout",
     "output_type": "stream",
     "text": [
      "Inferencing on instance 741\n",
      "1/1 [==============================] - 0s 27ms/step\n",
      "Online training on instance 741\n",
      "1/1 - 0s - loss: 1.0920 - binary_accuracy: 0.1250 - 16ms/epoch - 16ms/step\n"
     ]
    },
    {
     "name": "stderr",
     "output_type": "stream",
     "text": [
      " 52%|█████▏    | 742/1425 [02:31<02:19,  4.88it/s]"
     ]
    },
    {
     "name": "stdout",
     "output_type": "stream",
     "text": [
      "Inferencing on instance 742\n",
      "1/1 [==============================] - 0s 37ms/step\n",
      "Online training on instance 742\n",
      "1/1 - 0s - loss: 1.0895 - binary_accuracy: 0.1250 - 16ms/epoch - 16ms/step\n"
     ]
    },
    {
     "name": "stderr",
     "output_type": "stream",
     "text": [
      " 52%|█████▏    | 743/1425 [02:31<02:15,  5.02it/s]"
     ]
    },
    {
     "name": "stdout",
     "output_type": "stream",
     "text": [
      "Inferencing on instance 743\n",
      "1/1 [==============================] - 0s 28ms/step\n",
      "Online training on instance 743\n",
      "1/1 - 0s - loss: 1.0813 - binary_accuracy: 0.0625 - 17ms/epoch - 17ms/step\n"
     ]
    },
    {
     "name": "stderr",
     "output_type": "stream",
     "text": [
      " 52%|█████▏    | 744/1425 [02:31<02:20,  4.85it/s]"
     ]
    },
    {
     "name": "stdout",
     "output_type": "stream",
     "text": [
      "Inferencing on instance 744\n",
      "1/1 [==============================] - 0s 42ms/step\n",
      "Online training on instance 744\n",
      "1/1 - 0s - loss: 1.0093 - binary_accuracy: 0.1875 - 16ms/epoch - 16ms/step\n"
     ]
    },
    {
     "name": "stderr",
     "output_type": "stream",
     "text": [
      " 52%|█████▏    | 745/1425 [02:31<02:21,  4.80it/s]"
     ]
    },
    {
     "name": "stdout",
     "output_type": "stream",
     "text": [
      "Inferencing on instance 745\n",
      "1/1 [==============================] - 0s 36ms/step\n",
      "Online training on instance 745\n",
      "1/1 - 0s - loss: 1.0580 - binary_accuracy: 0.3125 - 15ms/epoch - 15ms/step\n"
     ]
    },
    {
     "name": "stderr",
     "output_type": "stream",
     "text": [
      " 52%|█████▏    | 746/1425 [02:31<02:20,  4.85it/s]"
     ]
    },
    {
     "name": "stdout",
     "output_type": "stream",
     "text": [
      "Inferencing on instance 746\n",
      "1/1 [==============================] - 0s 34ms/step\n",
      "Online training on instance 746\n",
      "1/1 - 0s - loss: 1.0134 - binary_accuracy: 0.3125 - 16ms/epoch - 16ms/step\n"
     ]
    },
    {
     "name": "stderr",
     "output_type": "stream",
     "text": [
      " 52%|█████▏    | 747/1425 [02:32<02:16,  4.97it/s]"
     ]
    },
    {
     "name": "stdout",
     "output_type": "stream",
     "text": [
      "Inferencing on instance 747\n",
      "1/1 [==============================] - 0s 33ms/step\n",
      "Online training on instance 747\n",
      "1/1 - 0s - loss: 1.0697 - binary_accuracy: 0.1250 - 19ms/epoch - 19ms/step\n"
     ]
    },
    {
     "name": "stderr",
     "output_type": "stream",
     "text": [
      " 52%|█████▏    | 748/1425 [02:32<02:21,  4.78it/s]"
     ]
    },
    {
     "name": "stdout",
     "output_type": "stream",
     "text": [
      "Inferencing on instance 748\n",
      "1/1 [==============================] - 0s 40ms/step\n",
      "Online training on instance 748\n",
      "1/1 - 0s - loss: 0.9782 - binary_accuracy: 0.6250 - 19ms/epoch - 19ms/step\n"
     ]
    },
    {
     "name": "stderr",
     "output_type": "stream",
     "text": [
      " 53%|█████▎    | 749/1425 [02:32<02:28,  4.55it/s]"
     ]
    },
    {
     "name": "stdout",
     "output_type": "stream",
     "text": [
      "Inferencing on instance 749\n",
      "1/1 [==============================] - 0s 30ms/step\n",
      "Online training on instance 749\n",
      "1/1 - 0s - loss: 1.0013 - binary_accuracy: 0.3125 - 16ms/epoch - 16ms/step\n"
     ]
    },
    {
     "name": "stderr",
     "output_type": "stream",
     "text": [
      " 53%|█████▎    | 750/1425 [02:32<02:22,  4.74it/s]"
     ]
    },
    {
     "name": "stdout",
     "output_type": "stream",
     "text": [
      "Inferencing on instance 750\n",
      "1/1 [==============================] - 0s 37ms/step\n",
      "Online training on instance 750\n",
      "1/1 - 0s - loss: 0.9559 - binary_accuracy: 0.6250 - 16ms/epoch - 16ms/step\n"
     ]
    },
    {
     "name": "stderr",
     "output_type": "stream",
     "text": [
      " 53%|█████▎    | 751/1425 [02:33<02:23,  4.69it/s]"
     ]
    },
    {
     "name": "stdout",
     "output_type": "stream",
     "text": [
      "Inferencing on instance 751\n",
      "1/1 [==============================] - 0s 54ms/step\n",
      "Online training on instance 751\n",
      "1/1 - 0s - loss: 0.9445 - binary_accuracy: 0.6250 - 17ms/epoch - 17ms/step\n"
     ]
    },
    {
     "name": "stderr",
     "output_type": "stream",
     "text": [
      " 53%|█████▎    | 752/1425 [02:33<02:32,  4.42it/s]"
     ]
    },
    {
     "name": "stdout",
     "output_type": "stream",
     "text": [
      "Inferencing on instance 752\n",
      "1/1 [==============================] - 0s 36ms/step\n",
      "Online training on instance 752\n",
      "1/1 - 0s - loss: 0.9764 - binary_accuracy: 0.5000 - 19ms/epoch - 19ms/step\n"
     ]
    },
    {
     "name": "stderr",
     "output_type": "stream",
     "text": [
      " 53%|█████▎    | 753/1425 [02:33<02:28,  4.51it/s]"
     ]
    },
    {
     "name": "stdout",
     "output_type": "stream",
     "text": [
      "Inferencing on instance 753\n",
      "1/1 [==============================] - 0s 45ms/step\n",
      "Online training on instance 753\n",
      "1/1 - 0s - loss: 0.9423 - binary_accuracy: 0.5000 - 16ms/epoch - 16ms/step\n"
     ]
    },
    {
     "name": "stderr",
     "output_type": "stream",
     "text": [
      " 53%|█████▎    | 754/1425 [02:33<02:39,  4.21it/s]"
     ]
    },
    {
     "name": "stdout",
     "output_type": "stream",
     "text": [
      "Inferencing on instance 754\n",
      "1/1 [==============================] - 0s 35ms/step\n",
      "Online training on instance 754\n",
      "1/1 - 0s - loss: 0.9939 - binary_accuracy: 0.4375 - 16ms/epoch - 16ms/step\n"
     ]
    },
    {
     "name": "stderr",
     "output_type": "stream",
     "text": [
      " 53%|█████▎    | 755/1425 [02:34<02:34,  4.33it/s]"
     ]
    },
    {
     "name": "stdout",
     "output_type": "stream",
     "text": [
      "Inferencing on instance 755\n",
      "1/1 [==============================] - 0s 32ms/step\n",
      "Online training on instance 755\n",
      "1/1 - 0s - loss: 0.9950 - binary_accuracy: 0.3750 - 17ms/epoch - 17ms/step\n"
     ]
    },
    {
     "name": "stderr",
     "output_type": "stream",
     "text": [
      " 53%|█████▎    | 756/1425 [02:34<02:26,  4.56it/s]"
     ]
    },
    {
     "name": "stdout",
     "output_type": "stream",
     "text": [
      "Inferencing on instance 756\n",
      "1/1 [==============================] - 0s 56ms/step\n",
      "Online training on instance 756\n",
      "1/1 - 0s - loss: 0.9667 - binary_accuracy: 0.3750 - 16ms/epoch - 16ms/step\n"
     ]
    },
    {
     "name": "stderr",
     "output_type": "stream",
     "text": [
      " 53%|█████▎    | 757/1425 [02:34<02:31,  4.41it/s]"
     ]
    },
    {
     "name": "stdout",
     "output_type": "stream",
     "text": [
      "Inferencing on instance 757\n",
      "1/1 [==============================] - 0s 33ms/step\n",
      "Online training on instance 757\n",
      "1/1 - 0s - loss: 0.9849 - binary_accuracy: 0.2500 - 18ms/epoch - 18ms/step\n"
     ]
    },
    {
     "name": "stderr",
     "output_type": "stream",
     "text": [
      " 53%|█████▎    | 758/1425 [02:34<02:32,  4.37it/s]"
     ]
    },
    {
     "name": "stdout",
     "output_type": "stream",
     "text": [
      "Inferencing on instance 758\n",
      "1/1 [==============================] - 0s 32ms/step\n",
      "Online training on instance 758\n",
      "1/1 - 0s - loss: 1.0152 - binary_accuracy: 0.1875 - 16ms/epoch - 16ms/step\n"
     ]
    },
    {
     "name": "stderr",
     "output_type": "stream",
     "text": [
      " 53%|█████▎    | 759/1425 [02:34<02:25,  4.59it/s]"
     ]
    },
    {
     "name": "stdout",
     "output_type": "stream",
     "text": [
      "Inferencing on instance 759\n",
      "1/1 [==============================] - 0s 29ms/step\n",
      "Online training on instance 759\n",
      "1/1 - 0s - loss: 0.9087 - binary_accuracy: 0.2500 - 15ms/epoch - 15ms/step\n"
     ]
    },
    {
     "name": "stderr",
     "output_type": "stream",
     "text": [
      " 53%|█████▎    | 760/1425 [02:35<02:24,  4.61it/s]"
     ]
    },
    {
     "name": "stdout",
     "output_type": "stream",
     "text": [
      "Inferencing on instance 760\n",
      "1/1 [==============================] - 0s 57ms/step\n",
      "Online training on instance 760\n",
      "1/1 - 0s - loss: 0.7842 - binary_accuracy: 0.3750 - 15ms/epoch - 15ms/step\n"
     ]
    },
    {
     "name": "stderr",
     "output_type": "stream",
     "text": [
      " 53%|█████▎    | 761/1425 [02:35<02:30,  4.42it/s]"
     ]
    },
    {
     "name": "stdout",
     "output_type": "stream",
     "text": [
      "Inferencing on instance 761\n",
      "1/1 [==============================] - 0s 38ms/step\n",
      "Online training on instance 761\n",
      "1/1 - 0s - loss: 0.6540 - binary_accuracy: 0.5000 - 16ms/epoch - 16ms/step\n"
     ]
    },
    {
     "name": "stderr",
     "output_type": "stream",
     "text": [
      " 53%|█████▎    | 762/1425 [02:35<02:24,  4.59it/s]"
     ]
    },
    {
     "name": "stdout",
     "output_type": "stream",
     "text": [
      "Inferencing on instance 762\n",
      "1/1 [==============================] - 0s 34ms/step\n",
      "Online training on instance 762\n",
      "1/1 - 0s - loss: 0.6640 - binary_accuracy: 0.4375 - 18ms/epoch - 18ms/step\n"
     ]
    },
    {
     "name": "stderr",
     "output_type": "stream",
     "text": [
      " 54%|█████▎    | 763/1425 [02:35<02:22,  4.66it/s]"
     ]
    },
    {
     "name": "stdout",
     "output_type": "stream",
     "text": [
      "Inferencing on instance 763\n",
      "1/1 [==============================] - 0s 35ms/step\n",
      "Online training on instance 763\n",
      "1/1 - 0s - loss: 0.6371 - binary_accuracy: 0.4375 - 17ms/epoch - 17ms/step\n"
     ]
    },
    {
     "name": "stderr",
     "output_type": "stream",
     "text": [
      " 54%|█████▎    | 764/1425 [02:35<02:21,  4.67it/s]"
     ]
    },
    {
     "name": "stdout",
     "output_type": "stream",
     "text": [
      "Inferencing on instance 764\n",
      "1/1 [==============================] - 0s 35ms/step\n",
      "Online training on instance 764\n",
      "1/1 - 0s - loss: 0.6021 - binary_accuracy: 0.5000 - 30ms/epoch - 30ms/step\n"
     ]
    },
    {
     "name": "stderr",
     "output_type": "stream",
     "text": [
      " 54%|█████▎    | 765/1425 [02:36<02:32,  4.33it/s]"
     ]
    },
    {
     "name": "stdout",
     "output_type": "stream",
     "text": [
      "Inferencing on instance 765\n",
      "1/1 [==============================] - 0s 42ms/step\n",
      "Online training on instance 765\n",
      "1/1 - 0s - loss: 0.6047 - binary_accuracy: 0.6875 - 19ms/epoch - 19ms/step\n"
     ]
    },
    {
     "name": "stderr",
     "output_type": "stream",
     "text": [
      " 54%|█████▍    | 766/1425 [02:36<02:37,  4.18it/s]"
     ]
    },
    {
     "name": "stdout",
     "output_type": "stream",
     "text": [
      "Inferencing on instance 766\n",
      "1/1 [==============================] - 0s 43ms/step\n",
      "Online training on instance 766\n",
      "1/1 - 0s - loss: 0.5886 - binary_accuracy: 0.6250 - 20ms/epoch - 20ms/step\n"
     ]
    },
    {
     "name": "stderr",
     "output_type": "stream",
     "text": [
      " 54%|█████▍    | 767/1425 [02:36<02:38,  4.16it/s]"
     ]
    },
    {
     "name": "stdout",
     "output_type": "stream",
     "text": [
      "Inferencing on instance 767\n",
      "1/1 [==============================] - 0s 44ms/step\n",
      "Online training on instance 767\n",
      "1/1 - 0s - loss: 0.5778 - binary_accuracy: 0.6875 - 18ms/epoch - 18ms/step\n"
     ]
    },
    {
     "name": "stderr",
     "output_type": "stream",
     "text": [
      " 54%|█████▍    | 768/1425 [02:36<02:36,  4.19it/s]"
     ]
    },
    {
     "name": "stdout",
     "output_type": "stream",
     "text": [
      "Inferencing on instance 768\n",
      "1/1 [==============================] - 0s 31ms/step\n",
      "Online training on instance 768\n",
      "1/1 - 0s - loss: 0.5504 - binary_accuracy: 0.8750 - 23ms/epoch - 23ms/step\n"
     ]
    },
    {
     "name": "stderr",
     "output_type": "stream",
     "text": [
      " 54%|█████▍    | 769/1425 [02:37<02:46,  3.95it/s]"
     ]
    },
    {
     "name": "stdout",
     "output_type": "stream",
     "text": [
      "Inferencing on instance 769\n",
      "1/1 [==============================] - 0s 44ms/step\n",
      "Online training on instance 769\n",
      "1/1 - 0s - loss: 0.5741 - binary_accuracy: 0.9375 - 20ms/epoch - 20ms/step\n"
     ]
    },
    {
     "name": "stderr",
     "output_type": "stream",
     "text": [
      " 54%|█████▍    | 770/1425 [02:37<02:50,  3.83it/s]"
     ]
    },
    {
     "name": "stdout",
     "output_type": "stream",
     "text": [
      "Inferencing on instance 770\n",
      "1/1 [==============================] - 0s 41ms/step\n",
      "Online training on instance 770\n",
      "1/1 - 0s - loss: 0.5519 - binary_accuracy: 0.8750 - 19ms/epoch - 19ms/step\n"
     ]
    },
    {
     "name": "stderr",
     "output_type": "stream",
     "text": [
      " 54%|█████▍    | 771/1425 [02:37<02:50,  3.84it/s]"
     ]
    },
    {
     "name": "stdout",
     "output_type": "stream",
     "text": [
      "Inferencing on instance 771\n",
      "1/1 [==============================] - 0s 39ms/step\n",
      "Online training on instance 771\n",
      "1/1 - 0s - loss: 0.5106 - binary_accuracy: 1.0000 - 14ms/epoch - 14ms/step\n"
     ]
    },
    {
     "name": "stderr",
     "output_type": "stream",
     "text": [
      " 54%|█████▍    | 772/1425 [02:38<02:39,  4.09it/s]"
     ]
    },
    {
     "name": "stdout",
     "output_type": "stream",
     "text": [
      "Inferencing on instance 772\n",
      "1/1 [==============================] - 0s 54ms/step\n",
      "Online training on instance 772\n",
      "1/1 - 0s - loss: 0.5189 - binary_accuracy: 0.9375 - 15ms/epoch - 15ms/step\n"
     ]
    },
    {
     "name": "stderr",
     "output_type": "stream",
     "text": [
      " 54%|█████▍    | 773/1425 [02:38<02:38,  4.12it/s]"
     ]
    },
    {
     "name": "stdout",
     "output_type": "stream",
     "text": [
      "Inferencing on instance 773\n",
      "1/1 [==============================] - 0s 36ms/step\n",
      "Online training on instance 773\n",
      "1/1 - 0s - loss: 0.5348 - binary_accuracy: 1.0000 - 18ms/epoch - 18ms/step\n"
     ]
    },
    {
     "name": "stderr",
     "output_type": "stream",
     "text": [
      " 54%|█████▍    | 774/1425 [02:38<02:30,  4.33it/s]"
     ]
    },
    {
     "name": "stdout",
     "output_type": "stream",
     "text": [
      "Inferencing on instance 774\n",
      "1/1 [==============================] - 0s 33ms/step\n",
      "Online training on instance 774\n",
      "1/1 - 0s - loss: 0.4686 - binary_accuracy: 1.0000 - 16ms/epoch - 16ms/step\n"
     ]
    },
    {
     "name": "stderr",
     "output_type": "stream",
     "text": [
      " 54%|█████▍    | 775/1425 [02:38<02:28,  4.37it/s]"
     ]
    },
    {
     "name": "stdout",
     "output_type": "stream",
     "text": [
      "Inferencing on instance 775\n",
      "1/1 [==============================] - 0s 30ms/step\n",
      "Online training on instance 775\n",
      "1/1 - 0s - loss: 0.4949 - binary_accuracy: 1.0000 - 17ms/epoch - 17ms/step\n"
     ]
    },
    {
     "name": "stderr",
     "output_type": "stream",
     "text": [
      " 54%|█████▍    | 776/1425 [02:38<02:18,  4.70it/s]"
     ]
    },
    {
     "name": "stdout",
     "output_type": "stream",
     "text": [
      "Inferencing on instance 776\n",
      "1/1 [==============================] - 0s 47ms/step\n",
      "Online training on instance 776\n",
      "1/1 - 0s - loss: 0.4874 - binary_accuracy: 0.9375 - 17ms/epoch - 17ms/step\n"
     ]
    },
    {
     "name": "stderr",
     "output_type": "stream",
     "text": [
      " 55%|█████▍    | 777/1425 [02:39<02:23,  4.53it/s]"
     ]
    },
    {
     "name": "stdout",
     "output_type": "stream",
     "text": [
      "Inferencing on instance 777\n",
      "1/1 [==============================] - 0s 28ms/step\n",
      "Online training on instance 777\n",
      "1/1 - 0s - loss: 0.4515 - binary_accuracy: 1.0000 - 15ms/epoch - 15ms/step\n"
     ]
    },
    {
     "name": "stderr",
     "output_type": "stream",
     "text": [
      " 55%|█████▍    | 778/1425 [02:39<02:20,  4.61it/s]"
     ]
    },
    {
     "name": "stdout",
     "output_type": "stream",
     "text": [
      "Inferencing on instance 778\n",
      "1/1 [==============================] - 0s 29ms/step\n",
      "Online training on instance 778\n",
      "1/1 - 0s - loss: 0.4278 - binary_accuracy: 1.0000 - 17ms/epoch - 17ms/step\n"
     ]
    },
    {
     "name": "stderr",
     "output_type": "stream",
     "text": [
      " 55%|█████▍    | 779/1425 [02:39<02:18,  4.67it/s]"
     ]
    },
    {
     "name": "stdout",
     "output_type": "stream",
     "text": [
      "Inferencing on instance 779\n",
      "1/1 [==============================] - 0s 25ms/step\n",
      "Online training on instance 779\n",
      "1/1 - 0s - loss: 0.4173 - binary_accuracy: 1.0000 - 19ms/epoch - 19ms/step\n"
     ]
    },
    {
     "name": "stderr",
     "output_type": "stream",
     "text": [
      " 55%|█████▍    | 780/1425 [02:39<02:11,  4.90it/s]"
     ]
    },
    {
     "name": "stdout",
     "output_type": "stream",
     "text": [
      "Inferencing on instance 780\n",
      "1/1 [==============================] - 0s 50ms/step\n",
      "Online training on instance 780\n",
      "1/1 - 0s - loss: 0.4205 - binary_accuracy: 1.0000 - 16ms/epoch - 16ms/step\n"
     ]
    },
    {
     "name": "stderr",
     "output_type": "stream",
     "text": [
      " 55%|█████▍    | 781/1425 [02:39<02:16,  4.70it/s]"
     ]
    },
    {
     "name": "stdout",
     "output_type": "stream",
     "text": [
      "Inferencing on instance 781\n",
      "1/1 [==============================] - 0s 29ms/step\n",
      "Online training on instance 781\n",
      "1/1 - 0s - loss: 0.4154 - binary_accuracy: 1.0000 - 18ms/epoch - 18ms/step\n"
     ]
    },
    {
     "name": "stderr",
     "output_type": "stream",
     "text": [
      " 55%|█████▍    | 782/1425 [02:40<02:15,  4.75it/s]"
     ]
    },
    {
     "name": "stdout",
     "output_type": "stream",
     "text": [
      "Inferencing on instance 782\n",
      "1/1 [==============================] - 0s 36ms/step\n",
      "Online training on instance 782\n",
      "1/1 - 0s - loss: 0.4179 - binary_accuracy: 0.9375 - 17ms/epoch - 17ms/step\n"
     ]
    },
    {
     "name": "stderr",
     "output_type": "stream",
     "text": [
      " 55%|█████▍    | 783/1425 [02:40<02:09,  4.96it/s]"
     ]
    },
    {
     "name": "stdout",
     "output_type": "stream",
     "text": [
      "Inferencing on instance 783\n",
      "1/1 [==============================] - 0s 30ms/step\n",
      "Online training on instance 783\n",
      "1/1 - 0s - loss: 0.4189 - binary_accuracy: 1.0000 - 17ms/epoch - 17ms/step\n"
     ]
    },
    {
     "name": "stderr",
     "output_type": "stream",
     "text": [
      " 55%|█████▌    | 784/1425 [02:40<02:08,  4.98it/s]"
     ]
    },
    {
     "name": "stdout",
     "output_type": "stream",
     "text": [
      "Inferencing on instance 784\n",
      "1/1 [==============================] - 0s 57ms/step\n",
      "Online training on instance 784\n",
      "1/1 - 0s - loss: 0.4032 - binary_accuracy: 1.0000 - 18ms/epoch - 18ms/step\n"
     ]
    },
    {
     "name": "stderr",
     "output_type": "stream",
     "text": [
      " 55%|█████▌    | 785/1425 [02:40<02:13,  4.79it/s]"
     ]
    },
    {
     "name": "stdout",
     "output_type": "stream",
     "text": [
      "Inferencing on instance 785\n",
      "1/1 [==============================] - 0s 30ms/step\n",
      "Online training on instance 785\n",
      "1/1 - 0s - loss: 0.3861 - binary_accuracy: 1.0000 - 16ms/epoch - 16ms/step\n"
     ]
    },
    {
     "name": "stderr",
     "output_type": "stream",
     "text": [
      " 55%|█████▌    | 786/1425 [02:40<02:09,  4.95it/s]"
     ]
    },
    {
     "name": "stdout",
     "output_type": "stream",
     "text": [
      "Inferencing on instance 786\n",
      "1/1 [==============================] - 0s 33ms/step\n",
      "Online training on instance 786\n",
      "1/1 - 0s - loss: 0.3803 - binary_accuracy: 1.0000 - 16ms/epoch - 16ms/step\n"
     ]
    },
    {
     "name": "stderr",
     "output_type": "stream",
     "text": [
      " 55%|█████▌    | 787/1425 [02:41<02:04,  5.10it/s]"
     ]
    },
    {
     "name": "stdout",
     "output_type": "stream",
     "text": [
      "Inferencing on instance 787\n",
      "1/1 [==============================] - 0s 26ms/step\n",
      "Online training on instance 787\n",
      "1/1 - 0s - loss: 0.3926 - binary_accuracy: 0.8750 - 18ms/epoch - 18ms/step\n"
     ]
    },
    {
     "name": "stderr",
     "output_type": "stream",
     "text": [
      " 55%|█████▌    | 788/1425 [02:41<02:03,  5.16it/s]"
     ]
    },
    {
     "name": "stdout",
     "output_type": "stream",
     "text": [
      "Inferencing on instance 788\n",
      "1/1 [==============================] - 0s 33ms/step\n",
      "Online training on instance 788\n",
      "1/1 - 0s - loss: 0.3889 - binary_accuracy: 0.9375 - 22ms/epoch - 22ms/step\n"
     ]
    },
    {
     "name": "stderr",
     "output_type": "stream",
     "text": [
      " 55%|█████▌    | 789/1425 [02:41<02:09,  4.92it/s]"
     ]
    },
    {
     "name": "stdout",
     "output_type": "stream",
     "text": [
      "Inferencing on instance 789\n",
      "1/1 [==============================] - 0s 39ms/step\n",
      "Online training on instance 789\n",
      "1/1 - 0s - loss: 0.3607 - binary_accuracy: 1.0000 - 16ms/epoch - 16ms/step\n"
     ]
    },
    {
     "name": "stderr",
     "output_type": "stream",
     "text": [
      " 55%|█████▌    | 790/1425 [02:41<02:08,  4.95it/s]"
     ]
    },
    {
     "name": "stdout",
     "output_type": "stream",
     "text": [
      "Inferencing on instance 790\n",
      "1/1 [==============================] - 0s 38ms/step\n",
      "Online training on instance 790\n",
      "1/1 - 0s - loss: 0.3657 - binary_accuracy: 1.0000 - 16ms/epoch - 16ms/step\n"
     ]
    },
    {
     "name": "stderr",
     "output_type": "stream",
     "text": [
      " 56%|█████▌    | 791/1425 [02:41<02:07,  4.97it/s]"
     ]
    },
    {
     "name": "stdout",
     "output_type": "stream",
     "text": [
      "Inferencing on instance 791\n",
      "1/1 [==============================] - 0s 41ms/step\n",
      "Online training on instance 791\n",
      "1/1 - 0s - loss: 0.3859 - binary_accuracy: 0.8750 - 15ms/epoch - 15ms/step\n"
     ]
    },
    {
     "name": "stderr",
     "output_type": "stream",
     "text": [
      " 56%|█████▌    | 792/1425 [02:42<02:07,  4.95it/s]"
     ]
    },
    {
     "name": "stdout",
     "output_type": "stream",
     "text": [
      "Inferencing on instance 792\n",
      "1/1 [==============================] - 0s 32ms/step\n",
      "Online training on instance 792\n",
      "1/1 - 0s - loss: 0.4586 - binary_accuracy: 0.9375 - 18ms/epoch - 18ms/step\n"
     ]
    },
    {
     "name": "stderr",
     "output_type": "stream",
     "text": [
      " 56%|█████▌    | 793/1425 [02:42<02:05,  5.04it/s]"
     ]
    },
    {
     "name": "stdout",
     "output_type": "stream",
     "text": [
      "Inferencing on instance 793\n",
      "1/1 [==============================] - 0s 55ms/step\n",
      "Online training on instance 793\n",
      "1/1 - 0s - loss: 0.5131 - binary_accuracy: 0.8125 - 16ms/epoch - 16ms/step\n"
     ]
    },
    {
     "name": "stderr",
     "output_type": "stream",
     "text": [
      " 56%|█████▌    | 794/1425 [02:42<02:13,  4.74it/s]"
     ]
    },
    {
     "name": "stdout",
     "output_type": "stream",
     "text": [
      "Inferencing on instance 794\n",
      "1/1 [==============================] - 0s 41ms/step\n",
      "Online training on instance 794\n",
      "1/1 - 0s - loss: 0.6183 - binary_accuracy: 0.8125 - 16ms/epoch - 16ms/step\n"
     ]
    },
    {
     "name": "stderr",
     "output_type": "stream",
     "text": [
      " 56%|█████▌    | 795/1425 [02:42<02:10,  4.81it/s]"
     ]
    },
    {
     "name": "stdout",
     "output_type": "stream",
     "text": [
      "Inferencing on instance 795\n",
      "1/1 [==============================] - 0s 31ms/step\n",
      "Online training on instance 795\n",
      "1/1 - 0s - loss: 0.6712 - binary_accuracy: 0.7500 - 16ms/epoch - 16ms/step\n"
     ]
    },
    {
     "name": "stderr",
     "output_type": "stream",
     "text": [
      " 56%|█████▌    | 796/1425 [02:42<02:09,  4.84it/s]"
     ]
    },
    {
     "name": "stdout",
     "output_type": "stream",
     "text": [
      "Inferencing on instance 796\n",
      "1/1 [==============================] - 0s 32ms/step\n",
      "Online training on instance 796\n",
      "1/1 - 0s - loss: 0.7420 - binary_accuracy: 0.6875 - 17ms/epoch - 17ms/step\n"
     ]
    },
    {
     "name": "stderr",
     "output_type": "stream",
     "text": [
      " 56%|█████▌    | 797/1425 [02:43<02:08,  4.88it/s]"
     ]
    },
    {
     "name": "stdout",
     "output_type": "stream",
     "text": [
      "Inferencing on instance 797\n",
      "1/1 [==============================] - 0s 44ms/step\n",
      "Online training on instance 797\n",
      "1/1 - 0s - loss: 0.8354 - binary_accuracy: 0.5625 - 15ms/epoch - 15ms/step\n"
     ]
    },
    {
     "name": "stderr",
     "output_type": "stream",
     "text": [
      " 56%|█████▌    | 798/1425 [02:43<02:16,  4.58it/s]"
     ]
    },
    {
     "name": "stdout",
     "output_type": "stream",
     "text": [
      "Inferencing on instance 798\n",
      "1/1 [==============================] - 0s 34ms/step\n",
      "Online training on instance 798\n",
      "1/1 - 0s - loss: 0.8753 - binary_accuracy: 0.5625 - 17ms/epoch - 17ms/step\n"
     ]
    },
    {
     "name": "stderr",
     "output_type": "stream",
     "text": [
      " 56%|█████▌    | 799/1425 [02:43<02:13,  4.70it/s]"
     ]
    },
    {
     "name": "stdout",
     "output_type": "stream",
     "text": [
      "Inferencing on instance 799\n",
      "1/1 [==============================] - 0s 35ms/step\n",
      "Online training on instance 799\n",
      "1/1 - 0s - loss: 0.9796 - binary_accuracy: 0.5000 - 16ms/epoch - 16ms/step\n"
     ]
    },
    {
     "name": "stderr",
     "output_type": "stream",
     "text": [
      " 56%|█████▌    | 800/1425 [02:43<02:10,  4.77it/s]"
     ]
    },
    {
     "name": "stdout",
     "output_type": "stream",
     "text": [
      "Inferencing on instance 800\n",
      "1/1 [==============================] - 0s 38ms/step\n",
      "Online training on instance 800\n",
      "1/1 - 0s - loss: 0.9216 - binary_accuracy: 0.5000 - 18ms/epoch - 18ms/step\n"
     ]
    },
    {
     "name": "stderr",
     "output_type": "stream",
     "text": [
      " 56%|█████▌    | 801/1425 [02:44<02:10,  4.78it/s]"
     ]
    },
    {
     "name": "stdout",
     "output_type": "stream",
     "text": [
      "Inferencing on instance 801\n",
      "1/1 [==============================] - 0s 32ms/step\n",
      "Online training on instance 801\n",
      "1/1 - 0s - loss: 0.9875 - binary_accuracy: 0.5000 - 17ms/epoch - 17ms/step\n"
     ]
    },
    {
     "name": "stderr",
     "output_type": "stream",
     "text": [
      " 56%|█████▋    | 802/1425 [02:44<02:18,  4.49it/s]"
     ]
    },
    {
     "name": "stdout",
     "output_type": "stream",
     "text": [
      "Inferencing on instance 802\n",
      "1/1 [==============================] - 0s 33ms/step\n",
      "Online training on instance 802\n",
      "1/1 - 0s - loss: 0.9366 - binary_accuracy: 0.5000 - 16ms/epoch - 16ms/step\n"
     ]
    },
    {
     "name": "stderr",
     "output_type": "stream",
     "text": [
      " 56%|█████▋    | 803/1425 [02:44<02:11,  4.72it/s]"
     ]
    },
    {
     "name": "stdout",
     "output_type": "stream",
     "text": [
      "Inferencing on instance 803\n",
      "1/1 [==============================] - 0s 46ms/step\n",
      "Online training on instance 803\n",
      "1/1 - 0s - loss: 0.9184 - binary_accuracy: 0.5000 - 15ms/epoch - 15ms/step\n"
     ]
    },
    {
     "name": "stderr",
     "output_type": "stream",
     "text": [
      " 56%|█████▋    | 804/1425 [02:44<02:08,  4.82it/s]"
     ]
    },
    {
     "name": "stdout",
     "output_type": "stream",
     "text": [
      "Inferencing on instance 804\n",
      "1/1 [==============================] - 0s 29ms/step\n",
      "Online training on instance 804\n",
      "1/1 - 0s - loss: 0.9604 - binary_accuracy: 0.5000 - 18ms/epoch - 18ms/step\n"
     ]
    },
    {
     "name": "stderr",
     "output_type": "stream",
     "text": [
      " 56%|█████▋    | 805/1425 [02:44<02:09,  4.77it/s]"
     ]
    },
    {
     "name": "stdout",
     "output_type": "stream",
     "text": [
      "Inferencing on instance 805\n",
      "1/1 [==============================] - 0s 38ms/step\n",
      "Online training on instance 805\n",
      "1/1 - 0s - loss: 0.8698 - binary_accuracy: 0.5000 - 16ms/epoch - 16ms/step\n"
     ]
    },
    {
     "name": "stderr",
     "output_type": "stream",
     "text": [
      " 57%|█████▋    | 806/1425 [02:45<02:18,  4.48it/s]"
     ]
    },
    {
     "name": "stdout",
     "output_type": "stream",
     "text": [
      "Inferencing on instance 806\n",
      "1/1 [==============================] - 0s 33ms/step\n",
      "Online training on instance 806\n",
      "1/1 - 0s - loss: 0.8440 - binary_accuracy: 0.5000 - 16ms/epoch - 16ms/step\n"
     ]
    },
    {
     "name": "stderr",
     "output_type": "stream",
     "text": [
      " 57%|█████▋    | 807/1425 [02:45<02:10,  4.73it/s]"
     ]
    },
    {
     "name": "stdout",
     "output_type": "stream",
     "text": [
      "Inferencing on instance 807\n",
      "1/1 [==============================] - 0s 38ms/step\n",
      "Online training on instance 807\n",
      "1/1 - 0s - loss: 0.8476 - binary_accuracy: 0.5000 - 16ms/epoch - 16ms/step\n"
     ]
    },
    {
     "name": "stderr",
     "output_type": "stream",
     "text": [
      " 57%|█████▋    | 808/1425 [02:45<02:06,  4.88it/s]"
     ]
    },
    {
     "name": "stdout",
     "output_type": "stream",
     "text": [
      "Inferencing on instance 808\n",
      "1/1 [==============================] - 0s 37ms/step\n",
      "Online training on instance 808\n",
      "1/1 - 0s - loss: 0.7802 - binary_accuracy: 0.5625 - 15ms/epoch - 15ms/step\n"
     ]
    },
    {
     "name": "stderr",
     "output_type": "stream",
     "text": [
      " 57%|█████▋    | 809/1425 [02:45<02:02,  5.03it/s]"
     ]
    },
    {
     "name": "stdout",
     "output_type": "stream",
     "text": [
      "Inferencing on instance 809\n",
      "1/1 [==============================] - 0s 28ms/step\n",
      "Online training on instance 809\n",
      "1/1 - 0s - loss: 0.7274 - binary_accuracy: 0.6250 - 17ms/epoch - 17ms/step\n"
     ]
    },
    {
     "name": "stderr",
     "output_type": "stream",
     "text": [
      " 57%|█████▋    | 810/1425 [02:45<02:08,  4.77it/s]"
     ]
    },
    {
     "name": "stdout",
     "output_type": "stream",
     "text": [
      "Inferencing on instance 810\n",
      "1/1 [==============================] - 0s 34ms/step\n",
      "Online training on instance 810\n",
      "1/1 - 0s - loss: 0.6594 - binary_accuracy: 0.6875 - 16ms/epoch - 16ms/step\n"
     ]
    },
    {
     "name": "stderr",
     "output_type": "stream",
     "text": [
      " 57%|█████▋    | 811/1425 [02:46<02:04,  4.91it/s]"
     ]
    },
    {
     "name": "stdout",
     "output_type": "stream",
     "text": [
      "Inferencing on instance 811\n",
      "1/1 [==============================] - 0s 43ms/step\n",
      "Online training on instance 811\n",
      "1/1 - 0s - loss: 0.5455 - binary_accuracy: 0.7500 - 16ms/epoch - 16ms/step\n"
     ]
    },
    {
     "name": "stderr",
     "output_type": "stream",
     "text": [
      " 57%|█████▋    | 812/1425 [02:46<02:03,  4.95it/s]"
     ]
    },
    {
     "name": "stdout",
     "output_type": "stream",
     "text": [
      "Inferencing on instance 812\n",
      "1/1 [==============================] - 0s 33ms/step\n",
      "Online training on instance 812\n",
      "1/1 - 0s - loss: 0.5067 - binary_accuracy: 0.8125 - 17ms/epoch - 17ms/step\n"
     ]
    },
    {
     "name": "stderr",
     "output_type": "stream",
     "text": [
      " 57%|█████▋    | 813/1425 [02:46<02:02,  4.98it/s]"
     ]
    },
    {
     "name": "stdout",
     "output_type": "stream",
     "text": [
      "Inferencing on instance 813\n",
      "1/1 [==============================] - 0s 31ms/step\n",
      "Online training on instance 813\n",
      "1/1 - 0s - loss: 0.4321 - binary_accuracy: 0.8750 - 20ms/epoch - 20ms/step\n"
     ]
    },
    {
     "name": "stderr",
     "output_type": "stream",
     "text": [
      " 57%|█████▋    | 814/1425 [02:46<02:09,  4.73it/s]"
     ]
    },
    {
     "name": "stdout",
     "output_type": "stream",
     "text": [
      "Inferencing on instance 814\n",
      "1/1 [==============================] - 0s 32ms/step\n",
      "Online training on instance 814\n",
      "1/1 - 0s - loss: 0.3869 - binary_accuracy: 0.9375 - 17ms/epoch - 17ms/step\n"
     ]
    },
    {
     "name": "stderr",
     "output_type": "stream",
     "text": [
      " 57%|█████▋    | 815/1425 [02:46<02:05,  4.85it/s]"
     ]
    },
    {
     "name": "stdout",
     "output_type": "stream",
     "text": [
      "Inferencing on instance 815\n",
      "1/1 [==============================] - 0s 35ms/step\n",
      "Online training on instance 815\n",
      "1/1 - 0s - loss: 0.3617 - binary_accuracy: 1.0000 - 16ms/epoch - 16ms/step\n"
     ]
    },
    {
     "name": "stderr",
     "output_type": "stream",
     "text": [
      " 57%|█████▋    | 816/1425 [02:47<02:04,  4.88it/s]"
     ]
    },
    {
     "name": "stdout",
     "output_type": "stream",
     "text": [
      "Inferencing on instance 816\n",
      "1/1 [==============================] - 0s 35ms/step\n",
      "Online training on instance 816\n",
      "1/1 - 0s - loss: 0.3499 - binary_accuracy: 1.0000 - 17ms/epoch - 17ms/step\n"
     ]
    },
    {
     "name": "stderr",
     "output_type": "stream",
     "text": [
      " 57%|█████▋    | 817/1425 [02:47<02:01,  5.02it/s]"
     ]
    },
    {
     "name": "stdout",
     "output_type": "stream",
     "text": [
      "Inferencing on instance 817\n",
      "1/1 [==============================] - 0s 50ms/step\n",
      "Online training on instance 817\n",
      "1/1 - 0s - loss: 0.3476 - binary_accuracy: 1.0000 - 15ms/epoch - 15ms/step\n"
     ]
    },
    {
     "name": "stderr",
     "output_type": "stream",
     "text": [
      " 57%|█████▋    | 818/1425 [02:47<02:08,  4.72it/s]"
     ]
    },
    {
     "name": "stdout",
     "output_type": "stream",
     "text": [
      "Inferencing on instance 818\n",
      "1/1 [==============================] - 0s 34ms/step\n",
      "Online training on instance 818\n",
      "1/1 - 0s - loss: 0.3357 - binary_accuracy: 1.0000 - 16ms/epoch - 16ms/step\n"
     ]
    },
    {
     "name": "stderr",
     "output_type": "stream",
     "text": [
      " 57%|█████▋    | 819/1425 [02:47<02:06,  4.81it/s]"
     ]
    },
    {
     "name": "stdout",
     "output_type": "stream",
     "text": [
      "Inferencing on instance 819\n",
      "1/1 [==============================] - 0s 37ms/step\n",
      "Online training on instance 819\n",
      "1/1 - 0s - loss: 0.3359 - binary_accuracy: 1.0000 - 16ms/epoch - 16ms/step\n"
     ]
    },
    {
     "name": "stderr",
     "output_type": "stream",
     "text": [
      " 58%|█████▊    | 820/1425 [02:47<02:03,  4.91it/s]"
     ]
    },
    {
     "name": "stdout",
     "output_type": "stream",
     "text": [
      "Inferencing on instance 820\n",
      "1/1 [==============================] - 0s 34ms/step\n",
      "Online training on instance 820\n",
      "1/1 - 0s - loss: 0.3632 - binary_accuracy: 1.0000 - 16ms/epoch - 16ms/step\n"
     ]
    },
    {
     "name": "stderr",
     "output_type": "stream",
     "text": [
      " 58%|█████▊    | 821/1425 [02:48<01:58,  5.08it/s]"
     ]
    },
    {
     "name": "stdout",
     "output_type": "stream",
     "text": [
      "Inferencing on instance 821\n",
      "1/1 [==============================] - 0s 32ms/step\n",
      "Online training on instance 821\n",
      "1/1 - 0s - loss: 0.3408 - binary_accuracy: 1.0000 - 16ms/epoch - 16ms/step\n"
     ]
    },
    {
     "name": "stderr",
     "output_type": "stream",
     "text": [
      " 58%|█████▊    | 822/1425 [02:48<01:57,  5.14it/s]"
     ]
    },
    {
     "name": "stdout",
     "output_type": "stream",
     "text": [
      "Inferencing on instance 822\n",
      "1/1 [==============================] - 0s 38ms/step\n",
      "Online training on instance 822\n",
      "1/1 - 0s - loss: 0.3210 - binary_accuracy: 1.0000 - 18ms/epoch - 18ms/step\n"
     ]
    },
    {
     "name": "stderr",
     "output_type": "stream",
     "text": [
      " 58%|█████▊    | 823/1425 [02:48<02:03,  4.88it/s]"
     ]
    },
    {
     "name": "stdout",
     "output_type": "stream",
     "text": [
      "Inferencing on instance 823\n",
      "1/1 [==============================] - 0s 35ms/step\n",
      "Online training on instance 823\n",
      "1/1 - 0s - loss: 0.3438 - binary_accuracy: 1.0000 - 16ms/epoch - 16ms/step\n"
     ]
    },
    {
     "name": "stderr",
     "output_type": "stream",
     "text": [
      " 58%|█████▊    | 824/1425 [02:48<02:02,  4.90it/s]"
     ]
    },
    {
     "name": "stdout",
     "output_type": "stream",
     "text": [
      "Inferencing on instance 824\n",
      "1/1 [==============================] - 0s 32ms/step\n",
      "Online training on instance 824\n",
      "1/1 - 0s - loss: 0.3281 - binary_accuracy: 1.0000 - 15ms/epoch - 15ms/step\n"
     ]
    },
    {
     "name": "stderr",
     "output_type": "stream",
     "text": [
      " 58%|█████▊    | 825/1425 [02:48<01:58,  5.06it/s]"
     ]
    },
    {
     "name": "stdout",
     "output_type": "stream",
     "text": [
      "Inferencing on instance 825\n",
      "1/1 [==============================] - 0s 27ms/step\n",
      "Online training on instance 825\n",
      "1/1 - 0s - loss: 0.3300 - binary_accuracy: 1.0000 - 18ms/epoch - 18ms/step\n"
     ]
    },
    {
     "name": "stderr",
     "output_type": "stream",
     "text": [
      " 58%|█████▊    | 826/1425 [02:49<01:58,  5.06it/s]"
     ]
    },
    {
     "name": "stdout",
     "output_type": "stream",
     "text": [
      "Inferencing on instance 826\n",
      "1/1 [==============================] - 0s 44ms/step\n",
      "Online training on instance 826\n",
      "1/1 - 0s - loss: 0.3431 - binary_accuracy: 1.0000 - 18ms/epoch - 18ms/step\n"
     ]
    },
    {
     "name": "stderr",
     "output_type": "stream",
     "text": [
      " 58%|█████▊    | 827/1425 [02:49<02:14,  4.43it/s]"
     ]
    },
    {
     "name": "stdout",
     "output_type": "stream",
     "text": [
      "Inferencing on instance 827\n",
      "1/1 [==============================] - 0s 43ms/step\n",
      "Online training on instance 827\n",
      "1/1 - 0s - loss: 0.3092 - binary_accuracy: 1.0000 - 21ms/epoch - 21ms/step\n"
     ]
    },
    {
     "name": "stderr",
     "output_type": "stream",
     "text": [
      " 58%|█████▊    | 828/1425 [02:49<02:23,  4.16it/s]"
     ]
    },
    {
     "name": "stdout",
     "output_type": "stream",
     "text": [
      "Inferencing on instance 828\n",
      "1/1 [==============================] - 0s 39ms/step\n",
      "Online training on instance 828\n",
      "1/1 - 0s - loss: 0.3324 - binary_accuracy: 1.0000 - 18ms/epoch - 18ms/step\n"
     ]
    },
    {
     "name": "stderr",
     "output_type": "stream",
     "text": [
      " 58%|█████▊    | 829/1425 [02:49<02:23,  4.17it/s]"
     ]
    },
    {
     "name": "stdout",
     "output_type": "stream",
     "text": [
      "Inferencing on instance 829\n",
      "1/1 [==============================] - 0s 38ms/step\n",
      "Online training on instance 829\n",
      "1/1 - 0s - loss: 0.3025 - binary_accuracy: 1.0000 - 19ms/epoch - 19ms/step\n"
     ]
    },
    {
     "name": "stderr",
     "output_type": "stream",
     "text": [
      " 58%|█████▊    | 830/1425 [02:50<02:20,  4.24it/s]"
     ]
    },
    {
     "name": "stdout",
     "output_type": "stream",
     "text": [
      "Inferencing on instance 830\n",
      "1/1 [==============================] - 0s 63ms/step\n",
      "Online training on instance 830\n",
      "1/1 - 0s - loss: 0.3079 - binary_accuracy: 1.0000 - 18ms/epoch - 18ms/step\n"
     ]
    },
    {
     "name": "stderr",
     "output_type": "stream",
     "text": [
      " 58%|█████▊    | 831/1425 [02:50<02:24,  4.12it/s]"
     ]
    },
    {
     "name": "stdout",
     "output_type": "stream",
     "text": [
      "Inferencing on instance 831\n",
      "1/1 [==============================] - 0s 37ms/step\n",
      "Online training on instance 831\n",
      "1/1 - 0s - loss: 0.3083 - binary_accuracy: 1.0000 - 17ms/epoch - 17ms/step\n"
     ]
    },
    {
     "name": "stderr",
     "output_type": "stream",
     "text": [
      " 58%|█████▊    | 832/1425 [02:50<02:23,  4.12it/s]"
     ]
    },
    {
     "name": "stdout",
     "output_type": "stream",
     "text": [
      "Inferencing on instance 832\n",
      "1/1 [==============================] - 0s 37ms/step\n",
      "Online training on instance 832\n",
      "1/1 - 0s - loss: 0.3112 - binary_accuracy: 0.9375 - 16ms/epoch - 16ms/step\n"
     ]
    },
    {
     "name": "stderr",
     "output_type": "stream",
     "text": [
      " 58%|█████▊    | 833/1425 [02:50<02:17,  4.30it/s]"
     ]
    },
    {
     "name": "stdout",
     "output_type": "stream",
     "text": [
      "Inferencing on instance 833\n",
      "1/1 [==============================] - 0s 32ms/step\n",
      "Online training on instance 833\n",
      "1/1 - 0s - loss: 0.3041 - binary_accuracy: 1.0000 - 15ms/epoch - 15ms/step\n"
     ]
    },
    {
     "name": "stderr",
     "output_type": "stream",
     "text": [
      " 59%|█████▊    | 834/1425 [02:51<02:08,  4.60it/s]"
     ]
    },
    {
     "name": "stdout",
     "output_type": "stream",
     "text": [
      "Inferencing on instance 834\n",
      "1/1 [==============================] - 0s 27ms/step\n",
      "Online training on instance 834\n",
      "1/1 - 0s - loss: 0.3270 - binary_accuracy: 1.0000 - 22ms/epoch - 22ms/step\n"
     ]
    },
    {
     "name": "stderr",
     "output_type": "stream",
     "text": [
      " 59%|█████▊    | 835/1425 [02:51<02:08,  4.60it/s]"
     ]
    },
    {
     "name": "stdout",
     "output_type": "stream",
     "text": [
      "Inferencing on instance 835\n",
      "1/1 [==============================] - 0s 35ms/step\n",
      "Online training on instance 835\n",
      "1/1 - 0s - loss: 0.3114 - binary_accuracy: 1.0000 - 15ms/epoch - 15ms/step\n"
     ]
    },
    {
     "name": "stderr",
     "output_type": "stream",
     "text": [
      " 59%|█████▊    | 836/1425 [02:51<02:03,  4.76it/s]"
     ]
    },
    {
     "name": "stdout",
     "output_type": "stream",
     "text": [
      "Inferencing on instance 836\n",
      "1/1 [==============================] - 0s 26ms/step\n",
      "Online training on instance 836\n",
      "1/1 - 0s - loss: 0.2919 - binary_accuracy: 1.0000 - 16ms/epoch - 16ms/step\n"
     ]
    },
    {
     "name": "stderr",
     "output_type": "stream",
     "text": [
      " 59%|█████▊    | 837/1425 [02:51<02:00,  4.89it/s]"
     ]
    },
    {
     "name": "stdout",
     "output_type": "stream",
     "text": [
      "Inferencing on instance 837\n",
      "1/1 [==============================] - 0s 35ms/step\n",
      "Online training on instance 837\n",
      "1/1 - 0s - loss: 0.2985 - binary_accuracy: 1.0000 - 20ms/epoch - 20ms/step\n"
     ]
    },
    {
     "name": "stderr",
     "output_type": "stream",
     "text": [
      " 59%|█████▉    | 838/1425 [02:51<02:03,  4.74it/s]"
     ]
    },
    {
     "name": "stdout",
     "output_type": "stream",
     "text": [
      "Inferencing on instance 838\n",
      "1/1 [==============================] - 0s 37ms/step\n",
      "Online training on instance 838\n",
      "1/1 - 0s - loss: 0.2997 - binary_accuracy: 1.0000 - 16ms/epoch - 16ms/step\n"
     ]
    },
    {
     "name": "stderr",
     "output_type": "stream",
     "text": [
      " 59%|█████▉    | 839/1425 [02:52<02:09,  4.53it/s]"
     ]
    },
    {
     "name": "stdout",
     "output_type": "stream",
     "text": [
      "Inferencing on instance 839\n",
      "1/1 [==============================] - 0s 38ms/step\n",
      "Online training on instance 839\n",
      "1/1 - 0s - loss: 0.2773 - binary_accuracy: 1.0000 - 16ms/epoch - 16ms/step\n"
     ]
    },
    {
     "name": "stderr",
     "output_type": "stream",
     "text": [
      " 59%|█████▉    | 840/1425 [02:52<02:06,  4.61it/s]"
     ]
    },
    {
     "name": "stdout",
     "output_type": "stream",
     "text": [
      "Inferencing on instance 840\n",
      "1/1 [==============================] - 0s 32ms/step\n",
      "Online training on instance 840\n",
      "1/1 - 0s - loss: 0.3012 - binary_accuracy: 1.0000 - 18ms/epoch - 18ms/step\n"
     ]
    },
    {
     "name": "stderr",
     "output_type": "stream",
     "text": [
      " 59%|█████▉    | 841/1425 [02:52<02:02,  4.76it/s]"
     ]
    },
    {
     "name": "stdout",
     "output_type": "stream",
     "text": [
      "Inferencing on instance 841\n",
      "1/1 [==============================] - 0s 42ms/step\n",
      "Online training on instance 841\n",
      "1/1 - 0s - loss: 0.2665 - binary_accuracy: 1.0000 - 16ms/epoch - 16ms/step\n"
     ]
    },
    {
     "name": "stderr",
     "output_type": "stream",
     "text": [
      " 59%|█████▉    | 842/1425 [02:52<02:04,  4.68it/s]"
     ]
    },
    {
     "name": "stdout",
     "output_type": "stream",
     "text": [
      "Inferencing on instance 842\n",
      "1/1 [==============================] - 0s 34ms/step\n",
      "Online training on instance 842\n",
      "1/1 - 0s - loss: 0.2718 - binary_accuracy: 1.0000 - 20ms/epoch - 20ms/step\n"
     ]
    },
    {
     "name": "stderr",
     "output_type": "stream",
     "text": [
      " 59%|█████▉    | 843/1425 [02:52<02:08,  4.53it/s]"
     ]
    },
    {
     "name": "stdout",
     "output_type": "stream",
     "text": [
      "Inferencing on instance 843\n",
      "1/1 [==============================] - 0s 37ms/step\n",
      "Online training on instance 843\n",
      "1/1 - 0s - loss: 0.2727 - binary_accuracy: 1.0000 - 17ms/epoch - 17ms/step\n"
     ]
    },
    {
     "name": "stderr",
     "output_type": "stream",
     "text": [
      " 59%|█████▉    | 844/1425 [02:53<02:04,  4.68it/s]"
     ]
    },
    {
     "name": "stdout",
     "output_type": "stream",
     "text": [
      "Inferencing on instance 844\n",
      "1/1 [==============================] - 0s 35ms/step\n",
      "Online training on instance 844\n",
      "1/1 - 0s - loss: 0.2773 - binary_accuracy: 1.0000 - 17ms/epoch - 17ms/step\n"
     ]
    },
    {
     "name": "stderr",
     "output_type": "stream",
     "text": [
      " 59%|█████▉    | 845/1425 [02:53<02:02,  4.75it/s]"
     ]
    },
    {
     "name": "stdout",
     "output_type": "stream",
     "text": [
      "Inferencing on instance 845\n",
      "1/1 [==============================] - 0s 31ms/step\n",
      "Online training on instance 845\n",
      "1/1 - 0s - loss: 0.2816 - binary_accuracy: 1.0000 - 17ms/epoch - 17ms/step\n"
     ]
    },
    {
     "name": "stderr",
     "output_type": "stream",
     "text": [
      " 59%|█████▉    | 846/1425 [02:53<02:00,  4.82it/s]"
     ]
    },
    {
     "name": "stdout",
     "output_type": "stream",
     "text": [
      "Inferencing on instance 846\n",
      "1/1 [==============================] - 0s 34ms/step\n",
      "Online training on instance 846\n",
      "1/1 - 0s - loss: 0.2759 - binary_accuracy: 1.0000 - 16ms/epoch - 16ms/step\n"
     ]
    },
    {
     "name": "stderr",
     "output_type": "stream",
     "text": [
      " 59%|█████▉    | 847/1425 [02:53<02:05,  4.60it/s]"
     ]
    },
    {
     "name": "stdout",
     "output_type": "stream",
     "text": [
      "Inferencing on instance 847\n",
      "1/1 [==============================] - 0s 37ms/step\n",
      "Online training on instance 847\n",
      "1/1 - 0s - loss: 0.2547 - binary_accuracy: 1.0000 - 19ms/epoch - 19ms/step\n"
     ]
    },
    {
     "name": "stderr",
     "output_type": "stream",
     "text": [
      " 60%|█████▉    | 848/1425 [02:54<02:06,  4.56it/s]"
     ]
    },
    {
     "name": "stdout",
     "output_type": "stream",
     "text": [
      "Inferencing on instance 848\n",
      "1/1 [==============================] - 0s 49ms/step\n",
      "Online training on instance 848\n",
      "1/1 - 0s - loss: 0.2830 - binary_accuracy: 1.0000 - 20ms/epoch - 20ms/step\n"
     ]
    },
    {
     "name": "stderr",
     "output_type": "stream",
     "text": [
      " 60%|█████▉    | 849/1425 [02:54<02:12,  4.34it/s]"
     ]
    },
    {
     "name": "stdout",
     "output_type": "stream",
     "text": [
      "Inferencing on instance 849\n",
      "1/1 [==============================] - 0s 31ms/step\n",
      "Online training on instance 849\n",
      "1/1 - 0s - loss: 0.2611 - binary_accuracy: 1.0000 - 16ms/epoch - 16ms/step\n"
     ]
    },
    {
     "name": "stderr",
     "output_type": "stream",
     "text": [
      " 60%|█████▉    | 850/1425 [02:54<02:10,  4.41it/s]"
     ]
    },
    {
     "name": "stdout",
     "output_type": "stream",
     "text": [
      "Inferencing on instance 850\n",
      "1/1 [==============================] - 0s 47ms/step\n",
      "Online training on instance 850\n",
      "1/1 - 0s - loss: 0.2578 - binary_accuracy: 1.0000 - 17ms/epoch - 17ms/step\n"
     ]
    },
    {
     "name": "stderr",
     "output_type": "stream",
     "text": [
      " 60%|█████▉    | 851/1425 [02:54<02:12,  4.35it/s]"
     ]
    },
    {
     "name": "stdout",
     "output_type": "stream",
     "text": [
      "Inferencing on instance 851\n",
      "1/1 [==============================] - 0s 33ms/step\n",
      "Online training on instance 851\n",
      "1/1 - 0s - loss: 0.2752 - binary_accuracy: 1.0000 - 14ms/epoch - 14ms/step\n"
     ]
    },
    {
     "name": "stderr",
     "output_type": "stream",
     "text": [
      " 60%|█████▉    | 852/1425 [02:54<02:03,  4.62it/s]"
     ]
    },
    {
     "name": "stdout",
     "output_type": "stream",
     "text": [
      "Inferencing on instance 852\n",
      "1/1 [==============================] - 0s 34ms/step\n",
      "Online training on instance 852\n",
      "1/1 - 0s - loss: 0.2515 - binary_accuracy: 1.0000 - 18ms/epoch - 18ms/step\n"
     ]
    },
    {
     "name": "stderr",
     "output_type": "stream",
     "text": [
      " 60%|█████▉    | 853/1425 [02:55<02:00,  4.74it/s]"
     ]
    },
    {
     "name": "stdout",
     "output_type": "stream",
     "text": [
      "Inferencing on instance 853\n",
      "1/1 [==============================] - 0s 35ms/step\n",
      "Online training on instance 853\n",
      "1/1 - 0s - loss: 0.2390 - binary_accuracy: 1.0000 - 16ms/epoch - 16ms/step\n"
     ]
    },
    {
     "name": "stderr",
     "output_type": "stream",
     "text": [
      " 60%|█████▉    | 854/1425 [02:55<01:59,  4.78it/s]"
     ]
    },
    {
     "name": "stdout",
     "output_type": "stream",
     "text": [
      "Inferencing on instance 854\n",
      "1/1 [==============================] - 0s 47ms/step\n",
      "Online training on instance 854\n",
      "1/1 - 0s - loss: 0.2708 - binary_accuracy: 0.9375 - 16ms/epoch - 16ms/step\n"
     ]
    },
    {
     "name": "stderr",
     "output_type": "stream",
     "text": [
      " 60%|██████    | 855/1425 [02:55<02:07,  4.47it/s]"
     ]
    },
    {
     "name": "stdout",
     "output_type": "stream",
     "text": [
      "Inferencing on instance 855\n",
      "1/1 [==============================] - 0s 30ms/step\n",
      "Online training on instance 855\n",
      "1/1 - 0s - loss: 0.2319 - binary_accuracy: 1.0000 - 15ms/epoch - 15ms/step\n"
     ]
    },
    {
     "name": "stderr",
     "output_type": "stream",
     "text": [
      " 60%|██████    | 856/1425 [02:55<02:02,  4.63it/s]"
     ]
    },
    {
     "name": "stdout",
     "output_type": "stream",
     "text": [
      "Inferencing on instance 856\n",
      "1/1 [==============================] - 0s 42ms/step\n",
      "Online training on instance 856\n",
      "1/1 - 0s - loss: 0.2433 - binary_accuracy: 1.0000 - 9ms/epoch - 9ms/step\n"
     ]
    },
    {
     "name": "stderr",
     "output_type": "stream",
     "text": [
      " 60%|██████    | 857/1425 [02:56<02:00,  4.71it/s]"
     ]
    },
    {
     "name": "stdout",
     "output_type": "stream",
     "text": [
      "Inferencing on instance 857\n",
      "1/1 [==============================] - 0s 33ms/step\n",
      "Online training on instance 857\n",
      "1/1 - 0s - loss: 0.2367 - binary_accuracy: 1.0000 - 17ms/epoch - 17ms/step\n"
     ]
    },
    {
     "name": "stderr",
     "output_type": "stream",
     "text": [
      " 60%|██████    | 858/1425 [02:56<01:55,  4.90it/s]"
     ]
    },
    {
     "name": "stdout",
     "output_type": "stream",
     "text": [
      "Inferencing on instance 858\n",
      "1/1 [==============================] - 0s 56ms/step\n",
      "Online training on instance 858\n",
      "1/1 - 0s - loss: 0.2406 - binary_accuracy: 1.0000 - 16ms/epoch - 16ms/step\n"
     ]
    },
    {
     "name": "stderr",
     "output_type": "stream",
     "text": [
      " 60%|██████    | 859/1425 [02:56<02:09,  4.35it/s]"
     ]
    },
    {
     "name": "stdout",
     "output_type": "stream",
     "text": [
      "Inferencing on instance 859\n",
      "1/1 [==============================] - 0s 38ms/step\n",
      "Online training on instance 859\n",
      "1/1 - 0s - loss: 0.2564 - binary_accuracy: 1.0000 - 22ms/epoch - 22ms/step\n"
     ]
    },
    {
     "name": "stderr",
     "output_type": "stream",
     "text": [
      " 60%|██████    | 860/1425 [02:56<02:15,  4.15it/s]"
     ]
    },
    {
     "name": "stdout",
     "output_type": "stream",
     "text": [
      "Inferencing on instance 860\n",
      "1/1 [==============================] - 0s 42ms/step\n",
      "Online training on instance 860\n",
      "1/1 - 0s - loss: 0.2292 - binary_accuracy: 0.9375 - 21ms/epoch - 21ms/step\n"
     ]
    },
    {
     "name": "stderr",
     "output_type": "stream",
     "text": [
      " 60%|██████    | 861/1425 [02:57<02:18,  4.07it/s]"
     ]
    },
    {
     "name": "stdout",
     "output_type": "stream",
     "text": [
      "Inferencing on instance 861\n",
      "1/1 [==============================] - 0s 35ms/step\n",
      "Online training on instance 861\n",
      "1/1 - 0s - loss: 0.2296 - binary_accuracy: 1.0000 - 17ms/epoch - 17ms/step\n"
     ]
    },
    {
     "name": "stderr",
     "output_type": "stream",
     "text": [
      " 60%|██████    | 862/1425 [02:57<02:10,  4.31it/s]"
     ]
    },
    {
     "name": "stdout",
     "output_type": "stream",
     "text": [
      "Inferencing on instance 862\n",
      "1/1 [==============================] - 0s 54ms/step\n",
      "Online training on instance 862\n",
      "1/1 - 0s - loss: 0.3657 - binary_accuracy: 0.9375 - 14ms/epoch - 14ms/step\n"
     ]
    },
    {
     "name": "stderr",
     "output_type": "stream",
     "text": [
      " 61%|██████    | 863/1425 [02:57<02:11,  4.27it/s]"
     ]
    },
    {
     "name": "stdout",
     "output_type": "stream",
     "text": [
      "Inferencing on instance 863\n",
      "1/1 [==============================] - 0s 33ms/step\n",
      "Online training on instance 863\n",
      "1/1 - 0s - loss: 0.3886 - binary_accuracy: 0.8750 - 17ms/epoch - 17ms/step\n"
     ]
    },
    {
     "name": "stderr",
     "output_type": "stream",
     "text": [
      " 61%|██████    | 864/1425 [02:57<02:07,  4.40it/s]"
     ]
    },
    {
     "name": "stdout",
     "output_type": "stream",
     "text": [
      "Inferencing on instance 864\n",
      "1/1 [==============================] - 0s 32ms/step\n",
      "Online training on instance 864\n",
      "1/1 - 0s - loss: 0.5235 - binary_accuracy: 0.8125 - 19ms/epoch - 19ms/step\n"
     ]
    },
    {
     "name": "stderr",
     "output_type": "stream",
     "text": [
      " 61%|██████    | 865/1425 [02:57<02:05,  4.48it/s]"
     ]
    },
    {
     "name": "stdout",
     "output_type": "stream",
     "text": [
      "Inferencing on instance 865\n",
      "1/1 [==============================] - 0s 40ms/step\n",
      "Online training on instance 865\n",
      "1/1 - 0s - loss: 0.6005 - binary_accuracy: 0.7500 - 18ms/epoch - 18ms/step\n"
     ]
    },
    {
     "name": "stderr",
     "output_type": "stream",
     "text": [
      " 61%|██████    | 866/1425 [02:58<02:07,  4.40it/s]"
     ]
    },
    {
     "name": "stdout",
     "output_type": "stream",
     "text": [
      "Inferencing on instance 866\n",
      "1/1 [==============================] - 0s 58ms/step\n",
      "Online training on instance 866\n",
      "1/1 - 0s - loss: 0.7341 - binary_accuracy: 0.6875 - 18ms/epoch - 18ms/step\n"
     ]
    },
    {
     "name": "stderr",
     "output_type": "stream",
     "text": [
      " 61%|██████    | 867/1425 [02:58<02:14,  4.16it/s]"
     ]
    },
    {
     "name": "stdout",
     "output_type": "stream",
     "text": [
      "Inferencing on instance 867\n",
      "1/1 [==============================] - 0s 38ms/step\n",
      "Online training on instance 867\n",
      "1/1 - 0s - loss: 0.8388 - binary_accuracy: 0.6250 - 21ms/epoch - 21ms/step\n"
     ]
    },
    {
     "name": "stderr",
     "output_type": "stream",
     "text": [
      " 61%|██████    | 868/1425 [02:58<02:12,  4.20it/s]"
     ]
    },
    {
     "name": "stdout",
     "output_type": "stream",
     "text": [
      "Inferencing on instance 868\n",
      "1/1 [==============================] - 0s 43ms/step\n",
      "Online training on instance 868\n",
      "1/1 - 0s - loss: 0.9645 - binary_accuracy: 0.5625 - 18ms/epoch - 18ms/step\n"
     ]
    },
    {
     "name": "stderr",
     "output_type": "stream",
     "text": [
      " 61%|██████    | 869/1425 [02:58<02:13,  4.18it/s]"
     ]
    },
    {
     "name": "stdout",
     "output_type": "stream",
     "text": [
      "Inferencing on instance 869\n",
      "1/1 [==============================] - 0s 41ms/step\n",
      "Online training on instance 869\n",
      "1/1 - 0s - loss: 1.0558 - binary_accuracy: 0.5000 - 18ms/epoch - 18ms/step\n"
     ]
    },
    {
     "name": "stderr",
     "output_type": "stream",
     "text": [
      " 61%|██████    | 870/1425 [02:59<02:11,  4.23it/s]"
     ]
    },
    {
     "name": "stdout",
     "output_type": "stream",
     "text": [
      "Inferencing on instance 870\n",
      "1/1 [==============================] - 0s 56ms/step\n",
      "Online training on instance 870\n",
      "1/1 - 0s - loss: 1.1699 - binary_accuracy: 0.4375 - 16ms/epoch - 16ms/step\n"
     ]
    },
    {
     "name": "stderr",
     "output_type": "stream",
     "text": [
      " 61%|██████    | 871/1425 [02:59<02:15,  4.10it/s]"
     ]
    },
    {
     "name": "stdout",
     "output_type": "stream",
     "text": [
      "Inferencing on instance 871\n",
      "1/1 [==============================] - 0s 37ms/step\n",
      "Online training on instance 871\n",
      "1/1 - 0s - loss: 1.3332 - binary_accuracy: 0.3750 - 21ms/epoch - 21ms/step\n"
     ]
    },
    {
     "name": "stderr",
     "output_type": "stream",
     "text": [
      " 61%|██████    | 872/1425 [02:59<02:13,  4.14it/s]"
     ]
    },
    {
     "name": "stdout",
     "output_type": "stream",
     "text": [
      "Inferencing on instance 872\n",
      "1/1 [==============================] - 0s 41ms/step\n",
      "Online training on instance 872\n",
      "1/1 - 0s - loss: 1.4098 - binary_accuracy: 0.3125 - 19ms/epoch - 19ms/step\n"
     ]
    },
    {
     "name": "stderr",
     "output_type": "stream",
     "text": [
      " 61%|██████▏   | 873/1425 [02:59<02:11,  4.19it/s]"
     ]
    },
    {
     "name": "stdout",
     "output_type": "stream",
     "text": [
      "Inferencing on instance 873\n",
      "1/1 [==============================] - 0s 45ms/step\n",
      "Online training on instance 873\n",
      "1/1 - 0s - loss: 1.4385 - binary_accuracy: 0.2500 - 18ms/epoch - 18ms/step\n"
     ]
    },
    {
     "name": "stderr",
     "output_type": "stream",
     "text": [
      " 61%|██████▏   | 874/1425 [03:00<02:16,  4.05it/s]"
     ]
    },
    {
     "name": "stdout",
     "output_type": "stream",
     "text": [
      "Inferencing on instance 874\n",
      "1/1 [==============================] - 0s 36ms/step\n",
      "Online training on instance 874\n",
      "1/1 - 0s - loss: 1.4519 - binary_accuracy: 0.1875 - 18ms/epoch - 18ms/step\n"
     ]
    },
    {
     "name": "stderr",
     "output_type": "stream",
     "text": [
      " 61%|██████▏   | 875/1425 [03:00<02:10,  4.20it/s]"
     ]
    },
    {
     "name": "stdout",
     "output_type": "stream",
     "text": [
      "Inferencing on instance 875\n",
      "1/1 [==============================] - 0s 37ms/step\n",
      "Online training on instance 875\n",
      "1/1 - 0s - loss: 1.5266 - binary_accuracy: 0.1250 - 17ms/epoch - 17ms/step\n"
     ]
    },
    {
     "name": "stderr",
     "output_type": "stream",
     "text": [
      " 61%|██████▏   | 876/1425 [03:00<02:07,  4.30it/s]"
     ]
    },
    {
     "name": "stdout",
     "output_type": "stream",
     "text": [
      "Inferencing on instance 876\n",
      "1/1 [==============================] - 0s 38ms/step\n",
      "Online training on instance 876\n",
      "1/1 - 0s - loss: 1.6559 - binary_accuracy: 0.0625 - 18ms/epoch - 18ms/step\n"
     ]
    },
    {
     "name": "stderr",
     "output_type": "stream",
     "text": [
      " 62%|██████▏   | 877/1425 [03:00<02:06,  4.33it/s]"
     ]
    },
    {
     "name": "stdout",
     "output_type": "stream",
     "text": [
      "Inferencing on instance 877\n",
      "1/1 [==============================] - 0s 35ms/step\n",
      "Online training on instance 877\n",
      "1/1 - 0s - loss: 1.6883 - binary_accuracy: 0.0000e+00 - 15ms/epoch - 15ms/step\n"
     ]
    },
    {
     "name": "stderr",
     "output_type": "stream",
     "text": [
      " 62%|██████▏   | 878/1425 [03:01<02:10,  4.18it/s]"
     ]
    },
    {
     "name": "stdout",
     "output_type": "stream",
     "text": [
      "Inferencing on instance 878\n",
      "1/1 [==============================] - 0s 37ms/step\n",
      "Online training on instance 878\n",
      "1/1 - 0s - loss: 1.6710 - binary_accuracy: 0.0000e+00 - 17ms/epoch - 17ms/step\n"
     ]
    },
    {
     "name": "stderr",
     "output_type": "stream",
     "text": [
      " 62%|██████▏   | 879/1425 [03:01<02:06,  4.32it/s]"
     ]
    },
    {
     "name": "stdout",
     "output_type": "stream",
     "text": [
      "Inferencing on instance 879\n",
      "1/1 [==============================] - 0s 35ms/step\n",
      "Online training on instance 879\n",
      "1/1 - 0s - loss: 1.6678 - binary_accuracy: 0.0000e+00 - 16ms/epoch - 16ms/step\n"
     ]
    },
    {
     "name": "stderr",
     "output_type": "stream",
     "text": [
      " 62%|██████▏   | 880/1425 [03:01<02:00,  4.52it/s]"
     ]
    },
    {
     "name": "stdout",
     "output_type": "stream",
     "text": [
      "Inferencing on instance 880\n",
      "1/1 [==============================] - 0s 38ms/step\n",
      "Online training on instance 880\n",
      "1/1 - 0s - loss: 1.6042 - binary_accuracy: 0.0000e+00 - 20ms/epoch - 20ms/step\n"
     ]
    },
    {
     "name": "stderr",
     "output_type": "stream",
     "text": [
      " 62%|██████▏   | 881/1425 [03:01<02:01,  4.49it/s]"
     ]
    },
    {
     "name": "stdout",
     "output_type": "stream",
     "text": [
      "Inferencing on instance 881\n",
      "1/1 [==============================] - 0s 33ms/step\n",
      "Online training on instance 881\n",
      "1/1 - 0s - loss: 1.5524 - binary_accuracy: 0.0000e+00 - 16ms/epoch - 16ms/step\n"
     ]
    },
    {
     "name": "stderr",
     "output_type": "stream",
     "text": [
      " 62%|██████▏   | 882/1425 [03:01<02:04,  4.35it/s]"
     ]
    },
    {
     "name": "stdout",
     "output_type": "stream",
     "text": [
      "Inferencing on instance 882\n",
      "1/1 [==============================] - 0s 40ms/step\n",
      "Online training on instance 882\n",
      "1/1 - 0s - loss: 1.5184 - binary_accuracy: 0.0625 - 15ms/epoch - 15ms/step\n"
     ]
    },
    {
     "name": "stderr",
     "output_type": "stream",
     "text": [
      " 62%|██████▏   | 883/1425 [03:02<01:59,  4.53it/s]"
     ]
    },
    {
     "name": "stdout",
     "output_type": "stream",
     "text": [
      "Inferencing on instance 883\n",
      "1/1 [==============================] - 0s 39ms/step\n",
      "Online training on instance 883\n",
      "1/1 - 0s - loss: 1.4755 - binary_accuracy: 0.0625 - 16ms/epoch - 16ms/step\n"
     ]
    },
    {
     "name": "stderr",
     "output_type": "stream",
     "text": [
      " 62%|██████▏   | 884/1425 [03:02<01:56,  4.64it/s]"
     ]
    },
    {
     "name": "stdout",
     "output_type": "stream",
     "text": [
      "Inferencing on instance 884\n",
      "1/1 [==============================] - 0s 30ms/step\n",
      "Online training on instance 884\n",
      "1/1 - 0s - loss: 1.4523 - binary_accuracy: 0.0000e+00 - 16ms/epoch - 16ms/step\n"
     ]
    },
    {
     "name": "stderr",
     "output_type": "stream",
     "text": [
      " 62%|██████▏   | 885/1425 [03:02<01:52,  4.82it/s]"
     ]
    },
    {
     "name": "stdout",
     "output_type": "stream",
     "text": [
      "Inferencing on instance 885\n",
      "1/1 [==============================] - 0s 34ms/step\n",
      "Online training on instance 885\n",
      "1/1 - 0s - loss: 1.3836 - binary_accuracy: 0.0000e+00 - 23ms/epoch - 23ms/step\n"
     ]
    },
    {
     "name": "stderr",
     "output_type": "stream",
     "text": [
      " 62%|██████▏   | 886/1425 [03:02<02:10,  4.14it/s]"
     ]
    },
    {
     "name": "stdout",
     "output_type": "stream",
     "text": [
      "Inferencing on instance 886\n",
      "1/1 [==============================] - 0s 47ms/step\n",
      "Online training on instance 886\n",
      "1/1 - 0s - loss: 1.3771 - binary_accuracy: 0.0000e+00 - 17ms/epoch - 17ms/step\n"
     ]
    },
    {
     "name": "stderr",
     "output_type": "stream",
     "text": [
      " 62%|██████▏   | 887/1425 [03:03<02:12,  4.05it/s]"
     ]
    },
    {
     "name": "stdout",
     "output_type": "stream",
     "text": [
      "Inferencing on instance 887\n",
      "1/1 [==============================] - 0s 41ms/step\n",
      "Online training on instance 887\n",
      "1/1 - 0s - loss: 1.3811 - binary_accuracy: 0.0000e+00 - 17ms/epoch - 17ms/step\n"
     ]
    },
    {
     "name": "stderr",
     "output_type": "stream",
     "text": [
      " 62%|██████▏   | 888/1425 [03:03<02:10,  4.12it/s]"
     ]
    },
    {
     "name": "stdout",
     "output_type": "stream",
     "text": [
      "Inferencing on instance 888\n",
      "1/1 [==============================] - 0s 31ms/step\n",
      "Online training on instance 888\n",
      "1/1 - 0s - loss: 1.3213 - binary_accuracy: 0.0625 - 17ms/epoch - 17ms/step\n"
     ]
    },
    {
     "name": "stderr",
     "output_type": "stream",
     "text": [
      " 62%|██████▏   | 889/1425 [03:03<02:03,  4.35it/s]"
     ]
    },
    {
     "name": "stdout",
     "output_type": "stream",
     "text": [
      "Inferencing on instance 889\n",
      "1/1 [==============================] - 0s 57ms/step\n",
      "Online training on instance 889\n",
      "1/1 - 0s - loss: 1.2713 - binary_accuracy: 0.1250 - 19ms/epoch - 19ms/step\n"
     ]
    },
    {
     "name": "stderr",
     "output_type": "stream",
     "text": [
      " 62%|██████▏   | 890/1425 [03:03<02:06,  4.23it/s]"
     ]
    },
    {
     "name": "stdout",
     "output_type": "stream",
     "text": [
      "Inferencing on instance 890\n",
      "1/1 [==============================] - 0s 31ms/step\n",
      "Online training on instance 890\n",
      "1/1 - 0s - loss: 1.2511 - binary_accuracy: 0.0625 - 17ms/epoch - 17ms/step\n"
     ]
    },
    {
     "name": "stderr",
     "output_type": "stream",
     "text": [
      " 63%|██████▎   | 891/1425 [03:03<02:02,  4.37it/s]"
     ]
    },
    {
     "name": "stdout",
     "output_type": "stream",
     "text": [
      "Inferencing on instance 891\n",
      "1/1 [==============================] - 0s 36ms/step\n",
      "Online training on instance 891\n",
      "1/1 - 0s - loss: 1.2362 - binary_accuracy: 0.0625 - 17ms/epoch - 17ms/step\n"
     ]
    },
    {
     "name": "stderr",
     "output_type": "stream",
     "text": [
      " 63%|██████▎   | 892/1425 [03:04<01:56,  4.57it/s]"
     ]
    },
    {
     "name": "stdout",
     "output_type": "stream",
     "text": [
      "Inferencing on instance 892\n",
      "1/1 [==============================] - 0s 36ms/step\n",
      "Online training on instance 892\n",
      "1/1 - 0s - loss: 1.1947 - binary_accuracy: 0.1250 - 17ms/epoch - 17ms/step\n"
     ]
    },
    {
     "name": "stderr",
     "output_type": "stream",
     "text": [
      " 63%|██████▎   | 893/1425 [03:04<01:52,  4.74it/s]"
     ]
    },
    {
     "name": "stdout",
     "output_type": "stream",
     "text": [
      "Inferencing on instance 893\n",
      "1/1 [==============================] - 0s 40ms/step\n",
      "Online training on instance 893\n",
      "1/1 - 0s - loss: 1.1996 - binary_accuracy: 0.1250 - 17ms/epoch - 17ms/step\n"
     ]
    },
    {
     "name": "stderr",
     "output_type": "stream",
     "text": [
      " 63%|██████▎   | 894/1425 [03:04<02:01,  4.35it/s]"
     ]
    },
    {
     "name": "stdout",
     "output_type": "stream",
     "text": [
      "Inferencing on instance 894\n",
      "1/1 [==============================] - 0s 33ms/step\n",
      "Online training on instance 894\n",
      "1/1 - 0s - loss: 1.1695 - binary_accuracy: 0.1250 - 16ms/epoch - 16ms/step\n"
     ]
    },
    {
     "name": "stderr",
     "output_type": "stream",
     "text": [
      " 63%|██████▎   | 895/1425 [03:04<01:58,  4.47it/s]"
     ]
    },
    {
     "name": "stdout",
     "output_type": "stream",
     "text": [
      "Inferencing on instance 895\n",
      "1/1 [==============================] - 0s 34ms/step\n",
      "Online training on instance 895\n",
      "1/1 - 0s - loss: 1.1179 - binary_accuracy: 0.0625 - 16ms/epoch - 16ms/step\n"
     ]
    },
    {
     "name": "stderr",
     "output_type": "stream",
     "text": [
      " 63%|██████▎   | 896/1425 [03:05<01:53,  4.64it/s]"
     ]
    },
    {
     "name": "stdout",
     "output_type": "stream",
     "text": [
      "Inferencing on instance 896\n",
      "1/1 [==============================] - 0s 30ms/step\n",
      "Online training on instance 896\n",
      "1/1 - 0s - loss: 1.0775 - binary_accuracy: 0.0625 - 16ms/epoch - 16ms/step\n"
     ]
    },
    {
     "name": "stderr",
     "output_type": "stream",
     "text": [
      " 63%|██████▎   | 897/1425 [03:05<01:49,  4.84it/s]"
     ]
    },
    {
     "name": "stdout",
     "output_type": "stream",
     "text": [
      "Inferencing on instance 897\n",
      "1/1 [==============================] - 0s 50ms/step\n",
      "Online training on instance 897\n",
      "1/1 - 0s - loss: 1.1023 - binary_accuracy: 0.0000e+00 - 16ms/epoch - 16ms/step\n"
     ]
    },
    {
     "name": "stderr",
     "output_type": "stream",
     "text": [
      " 63%|██████▎   | 898/1425 [03:05<01:53,  4.66it/s]"
     ]
    },
    {
     "name": "stdout",
     "output_type": "stream",
     "text": [
      "Inferencing on instance 898\n",
      "1/1 [==============================] - 0s 39ms/step\n",
      "Online training on instance 898\n",
      "1/1 - 0s - loss: 1.0332 - binary_accuracy: 0.2500 - 19ms/epoch - 19ms/step\n"
     ]
    },
    {
     "name": "stderr",
     "output_type": "stream",
     "text": [
      " 63%|██████▎   | 899/1425 [03:05<01:52,  4.69it/s]"
     ]
    },
    {
     "name": "stdout",
     "output_type": "stream",
     "text": [
      "Inferencing on instance 899\n",
      "1/1 [==============================] - 0s 34ms/step\n",
      "Online training on instance 899\n",
      "1/1 - 0s - loss: 0.9723 - binary_accuracy: 0.3125 - 16ms/epoch - 16ms/step\n"
     ]
    },
    {
     "name": "stderr",
     "output_type": "stream",
     "text": [
      " 63%|██████▎   | 900/1425 [03:05<01:48,  4.85it/s]"
     ]
    },
    {
     "name": "stdout",
     "output_type": "stream",
     "text": [
      "Inferencing on instance 900\n",
      "1/1 [==============================] - 0s 37ms/step\n",
      "Online training on instance 900\n",
      "1/1 - 0s - loss: 1.0085 - binary_accuracy: 0.3750 - 16ms/epoch - 16ms/step\n"
     ]
    },
    {
     "name": "stderr",
     "output_type": "stream",
     "text": [
      " 63%|██████▎   | 901/1425 [03:06<01:46,  4.93it/s]"
     ]
    },
    {
     "name": "stdout",
     "output_type": "stream",
     "text": [
      "Inferencing on instance 901\n",
      "1/1 [==============================] - 0s 49ms/step\n",
      "Online training on instance 901\n",
      "1/1 - 0s - loss: 0.9222 - binary_accuracy: 0.6250 - 17ms/epoch - 17ms/step\n"
     ]
    },
    {
     "name": "stderr",
     "output_type": "stream",
     "text": [
      " 63%|██████▎   | 902/1425 [03:06<01:51,  4.69it/s]"
     ]
    },
    {
     "name": "stdout",
     "output_type": "stream",
     "text": [
      "Inferencing on instance 902\n",
      "1/1 [==============================] - 0s 31ms/step\n",
      "Online training on instance 902\n",
      "1/1 - 0s - loss: 0.9263 - binary_accuracy: 0.6250 - 16ms/epoch - 16ms/step\n"
     ]
    },
    {
     "name": "stderr",
     "output_type": "stream",
     "text": [
      " 63%|██████▎   | 903/1425 [03:06<01:48,  4.80it/s]"
     ]
    },
    {
     "name": "stdout",
     "output_type": "stream",
     "text": [
      "Inferencing on instance 903\n",
      "1/1 [==============================] - 0s 37ms/step\n",
      "Online training on instance 903\n",
      "1/1 - 0s - loss: 0.9475 - binary_accuracy: 0.4375 - 17ms/epoch - 17ms/step\n"
     ]
    },
    {
     "name": "stderr",
     "output_type": "stream",
     "text": [
      " 63%|██████▎   | 904/1425 [03:06<01:50,  4.71it/s]"
     ]
    },
    {
     "name": "stdout",
     "output_type": "stream",
     "text": [
      "Inferencing on instance 904\n",
      "1/1 [==============================] - 0s 37ms/step\n",
      "Online training on instance 904\n",
      "1/1 - 0s - loss: 0.9538 - binary_accuracy: 0.5625 - 17ms/epoch - 17ms/step\n"
     ]
    },
    {
     "name": "stderr",
     "output_type": "stream",
     "text": [
      " 64%|██████▎   | 905/1425 [03:06<01:47,  4.84it/s]"
     ]
    },
    {
     "name": "stdout",
     "output_type": "stream",
     "text": [
      "Inferencing on instance 905\n",
      "1/1 [==============================] - 0s 69ms/step\n",
      "Online training on instance 905\n",
      "1/1 - 0s - loss: 0.9255 - binary_accuracy: 0.5625 - 14ms/epoch - 14ms/step\n"
     ]
    },
    {
     "name": "stderr",
     "output_type": "stream",
     "text": [
      " 64%|██████▎   | 906/1425 [03:07<01:53,  4.59it/s]"
     ]
    },
    {
     "name": "stdout",
     "output_type": "stream",
     "text": [
      "Inferencing on instance 906\n",
      "1/1 [==============================] - 0s 26ms/step\n",
      "Online training on instance 906\n",
      "1/1 - 0s - loss: 0.9294 - binary_accuracy: 0.3125 - 16ms/epoch - 16ms/step\n"
     ]
    },
    {
     "name": "stderr",
     "output_type": "stream",
     "text": [
      " 64%|██████▎   | 907/1425 [03:07<01:48,  4.75it/s]"
     ]
    },
    {
     "name": "stdout",
     "output_type": "stream",
     "text": [
      "Inferencing on instance 907\n",
      "1/1 [==============================] - 0s 27ms/step\n",
      "Online training on instance 907\n",
      "1/1 - 0s - loss: 0.9813 - binary_accuracy: 0.2500 - 16ms/epoch - 16ms/step\n"
     ]
    },
    {
     "name": "stderr",
     "output_type": "stream",
     "text": [
      " 64%|██████▎   | 908/1425 [03:07<01:46,  4.87it/s]"
     ]
    },
    {
     "name": "stdout",
     "output_type": "stream",
     "text": [
      "Inferencing on instance 908\n",
      "1/1 [==============================] - 0s 37ms/step\n",
      "Online training on instance 908\n",
      "1/1 - 0s - loss: 0.8378 - binary_accuracy: 0.5625 - 16ms/epoch - 16ms/step\n"
     ]
    },
    {
     "name": "stderr",
     "output_type": "stream",
     "text": [
      " 64%|██████▍   | 909/1425 [03:07<01:45,  4.89it/s]"
     ]
    },
    {
     "name": "stdout",
     "output_type": "stream",
     "text": [
      "Inferencing on instance 909\n",
      "1/1 [==============================] - 0s 31ms/step\n",
      "Online training on instance 909\n",
      "1/1 - 0s - loss: 0.7435 - binary_accuracy: 0.6250 - 18ms/epoch - 18ms/step\n"
     ]
    },
    {
     "name": "stderr",
     "output_type": "stream",
     "text": [
      " 64%|██████▍   | 910/1425 [03:07<01:51,  4.62it/s]"
     ]
    },
    {
     "name": "stdout",
     "output_type": "stream",
     "text": [
      "Inferencing on instance 910\n",
      "1/1 [==============================] - 0s 38ms/step\n",
      "Online training on instance 910\n",
      "1/1 - 0s - loss: 0.6123 - binary_accuracy: 0.6250 - 16ms/epoch - 16ms/step\n"
     ]
    },
    {
     "name": "stderr",
     "output_type": "stream",
     "text": [
      " 64%|██████▍   | 911/1425 [03:08<01:48,  4.75it/s]"
     ]
    },
    {
     "name": "stdout",
     "output_type": "stream",
     "text": [
      "Inferencing on instance 911\n",
      "1/1 [==============================] - 0s 38ms/step\n",
      "Online training on instance 911\n",
      "1/1 - 0s - loss: 0.6276 - binary_accuracy: 0.7500 - 18ms/epoch - 18ms/step\n"
     ]
    },
    {
     "name": "stderr",
     "output_type": "stream",
     "text": [
      " 64%|██████▍   | 912/1425 [03:08<01:46,  4.81it/s]"
     ]
    },
    {
     "name": "stdout",
     "output_type": "stream",
     "text": [
      "Inferencing on instance 912\n",
      "1/1 [==============================] - 0s 32ms/step\n",
      "Online training on instance 912\n",
      "1/1 - 0s - loss: 0.5850 - binary_accuracy: 0.8125 - 19ms/epoch - 19ms/step\n"
     ]
    },
    {
     "name": "stderr",
     "output_type": "stream",
     "text": [
      " 64%|██████▍   | 913/1425 [03:08<01:48,  4.70it/s]"
     ]
    },
    {
     "name": "stdout",
     "output_type": "stream",
     "text": [
      "Inferencing on instance 913\n",
      "1/1 [==============================] - 0s 47ms/step\n",
      "Online training on instance 913\n",
      "1/1 - 0s - loss: 0.5766 - binary_accuracy: 0.8750 - 21ms/epoch - 21ms/step\n"
     ]
    },
    {
     "name": "stderr",
     "output_type": "stream",
     "text": [
      " 64%|██████▍   | 914/1425 [03:08<01:56,  4.40it/s]"
     ]
    },
    {
     "name": "stdout",
     "output_type": "stream",
     "text": [
      "Inferencing on instance 914\n",
      "1/1 [==============================] - 0s 52ms/step\n",
      "Online training on instance 914\n",
      "1/1 - 0s - loss: 0.6063 - binary_accuracy: 0.8750 - 23ms/epoch - 23ms/step\n"
     ]
    },
    {
     "name": "stderr",
     "output_type": "stream",
     "text": [
      " 64%|██████▍   | 915/1425 [03:09<02:02,  4.17it/s]"
     ]
    },
    {
     "name": "stdout",
     "output_type": "stream",
     "text": [
      "Inferencing on instance 915\n",
      "1/1 [==============================] - 0s 38ms/step\n",
      "Online training on instance 915\n",
      "1/1 - 0s - loss: 0.7822 - binary_accuracy: 0.6250 - 17ms/epoch - 17ms/step\n"
     ]
    },
    {
     "name": "stderr",
     "output_type": "stream",
     "text": [
      " 64%|██████▍   | 916/1425 [03:09<02:00,  4.21it/s]"
     ]
    },
    {
     "name": "stdout",
     "output_type": "stream",
     "text": [
      "Inferencing on instance 916\n",
      "1/1 [==============================] - 0s 32ms/step\n",
      "Online training on instance 916\n",
      "1/1 - 0s - loss: 0.8895 - binary_accuracy: 0.7500 - 20ms/epoch - 20ms/step\n"
     ]
    },
    {
     "name": "stderr",
     "output_type": "stream",
     "text": [
      " 64%|██████▍   | 917/1425 [03:09<02:01,  4.17it/s]"
     ]
    },
    {
     "name": "stdout",
     "output_type": "stream",
     "text": [
      "Inferencing on instance 917\n",
      "1/1 [==============================] - 0s 37ms/step\n",
      "Online training on instance 917\n",
      "1/1 - 0s - loss: 0.8458 - binary_accuracy: 0.8125 - 17ms/epoch - 17ms/step\n"
     ]
    },
    {
     "name": "stderr",
     "output_type": "stream",
     "text": [
      " 64%|██████▍   | 918/1425 [03:09<01:58,  4.28it/s]"
     ]
    },
    {
     "name": "stdout",
     "output_type": "stream",
     "text": [
      "Inferencing on instance 918\n",
      "1/1 [==============================] - 0s 35ms/step\n",
      "Online training on instance 918\n",
      "1/1 - 0s - loss: 0.8007 - binary_accuracy: 0.8125 - 16ms/epoch - 16ms/step\n"
     ]
    },
    {
     "name": "stderr",
     "output_type": "stream",
     "text": [
      " 64%|██████▍   | 919/1425 [03:10<01:52,  4.51it/s]"
     ]
    },
    {
     "name": "stdout",
     "output_type": "stream",
     "text": [
      "Inferencing on instance 919\n",
      "1/1 [==============================] - 0s 28ms/step\n",
      "Online training on instance 919\n",
      "1/1 - 0s - loss: 0.8555 - binary_accuracy: 0.6250 - 16ms/epoch - 16ms/step\n"
     ]
    },
    {
     "name": "stderr",
     "output_type": "stream",
     "text": [
      " 65%|██████▍   | 920/1425 [03:10<01:46,  4.73it/s]"
     ]
    },
    {
     "name": "stdout",
     "output_type": "stream",
     "text": [
      "Inferencing on instance 920\n",
      "1/1 [==============================] - 0s 74ms/step\n",
      "Online training on instance 920\n",
      "1/1 - 0s - loss: 0.8177 - binary_accuracy: 0.7500 - 14ms/epoch - 14ms/step\n"
     ]
    },
    {
     "name": "stderr",
     "output_type": "stream",
     "text": [
      " 65%|██████▍   | 921/1425 [03:10<01:54,  4.40it/s]"
     ]
    },
    {
     "name": "stdout",
     "output_type": "stream",
     "text": [
      "Inferencing on instance 921\n",
      "1/1 [==============================] - 0s 30ms/step\n",
      "Online training on instance 921\n",
      "1/1 - 0s - loss: 0.8209 - binary_accuracy: 0.8125 - 16ms/epoch - 16ms/step\n"
     ]
    },
    {
     "name": "stderr",
     "output_type": "stream",
     "text": [
      " 65%|██████▍   | 922/1425 [03:10<01:50,  4.54it/s]"
     ]
    },
    {
     "name": "stdout",
     "output_type": "stream",
     "text": [
      "Inferencing on instance 922\n",
      "1/1 [==============================] - 0s 31ms/step\n",
      "Online training on instance 922\n",
      "1/1 - 0s - loss: 0.7907 - binary_accuracy: 0.8125 - 19ms/epoch - 19ms/step\n"
     ]
    },
    {
     "name": "stderr",
     "output_type": "stream",
     "text": [
      " 65%|██████▍   | 923/1425 [03:10<01:47,  4.67it/s]"
     ]
    },
    {
     "name": "stdout",
     "output_type": "stream",
     "text": [
      "Inferencing on instance 923\n",
      "1/1 [==============================] - 0s 29ms/step\n",
      "Online training on instance 923\n",
      "1/1 - 0s - loss: 0.7771 - binary_accuracy: 0.8125 - 16ms/epoch - 16ms/step\n"
     ]
    },
    {
     "name": "stderr",
     "output_type": "stream",
     "text": [
      " 65%|██████▍   | 924/1425 [03:11<01:44,  4.79it/s]"
     ]
    },
    {
     "name": "stdout",
     "output_type": "stream",
     "text": [
      "Inferencing on instance 924\n",
      "1/1 [==============================] - 0s 65ms/step\n",
      "Online training on instance 924\n",
      "1/1 - 0s - loss: 0.7700 - binary_accuracy: 0.8125 - 18ms/epoch - 18ms/step\n"
     ]
    },
    {
     "name": "stderr",
     "output_type": "stream",
     "text": [
      " 65%|██████▍   | 925/1425 [03:11<01:49,  4.55it/s]"
     ]
    },
    {
     "name": "stdout",
     "output_type": "stream",
     "text": [
      "Inferencing on instance 925\n",
      "1/1 [==============================] - 0s 39ms/step\n",
      "Online training on instance 925\n",
      "1/1 - 0s - loss: 0.7871 - binary_accuracy: 0.8125 - 20ms/epoch - 20ms/step\n"
     ]
    },
    {
     "name": "stderr",
     "output_type": "stream",
     "text": [
      " 65%|██████▍   | 926/1425 [03:11<01:54,  4.36it/s]"
     ]
    },
    {
     "name": "stdout",
     "output_type": "stream",
     "text": [
      "Inferencing on instance 926\n",
      "1/1 [==============================] - 0s 41ms/step\n",
      "Online training on instance 926\n",
      "1/1 - 0s - loss: 0.7713 - binary_accuracy: 0.7500 - 18ms/epoch - 18ms/step\n"
     ]
    },
    {
     "name": "stderr",
     "output_type": "stream",
     "text": [
      " 65%|██████▌   | 927/1425 [03:11<01:53,  4.37it/s]"
     ]
    },
    {
     "name": "stdout",
     "output_type": "stream",
     "text": [
      "Inferencing on instance 927\n",
      "1/1 [==============================] - 0s 38ms/step\n",
      "Online training on instance 927\n",
      "1/1 - 0s - loss: 0.7716 - binary_accuracy: 0.8125 - 27ms/epoch - 27ms/step\n"
     ]
    },
    {
     "name": "stderr",
     "output_type": "stream",
     "text": [
      " 65%|██████▌   | 928/1425 [03:12<01:55,  4.30it/s]"
     ]
    },
    {
     "name": "stdout",
     "output_type": "stream",
     "text": [
      "Inferencing on instance 928\n",
      "1/1 [==============================] - 0s 44ms/step\n",
      "Online training on instance 928\n",
      "1/1 - 0s - loss: 0.7826 - binary_accuracy: 0.7500 - 17ms/epoch - 17ms/step\n"
     ]
    },
    {
     "name": "stderr",
     "output_type": "stream",
     "text": [
      " 65%|██████▌   | 929/1425 [03:12<01:52,  4.40it/s]"
     ]
    },
    {
     "name": "stdout",
     "output_type": "stream",
     "text": [
      "Inferencing on instance 929\n",
      "1/1 [==============================] - 0s 27ms/step\n",
      "Online training on instance 929\n",
      "1/1 - 0s - loss: 0.8086 - binary_accuracy: 0.6875 - 16ms/epoch - 16ms/step\n"
     ]
    },
    {
     "name": "stderr",
     "output_type": "stream",
     "text": [
      " 65%|██████▌   | 930/1425 [03:12<01:46,  4.65it/s]"
     ]
    },
    {
     "name": "stdout",
     "output_type": "stream",
     "text": [
      "Inferencing on instance 930\n",
      "1/1 [==============================] - 0s 32ms/step\n",
      "Online training on instance 930\n",
      "1/1 - 0s - loss: 0.7834 - binary_accuracy: 0.6875 - 17ms/epoch - 17ms/step\n"
     ]
    },
    {
     "name": "stderr",
     "output_type": "stream",
     "text": [
      " 65%|██████▌   | 931/1425 [03:12<01:45,  4.70it/s]"
     ]
    },
    {
     "name": "stdout",
     "output_type": "stream",
     "text": [
      "Inferencing on instance 931\n",
      "1/1 [==============================] - 0s 49ms/step\n",
      "Online training on instance 931\n",
      "1/1 - 0s - loss: 0.8384 - binary_accuracy: 0.5625 - 16ms/epoch - 16ms/step\n"
     ]
    },
    {
     "name": "stderr",
     "output_type": "stream",
     "text": [
      " 65%|██████▌   | 932/1425 [03:12<01:47,  4.58it/s]"
     ]
    },
    {
     "name": "stdout",
     "output_type": "stream",
     "text": [
      "Inferencing on instance 932\n",
      "1/1 [==============================] - 0s 30ms/step\n",
      "Online training on instance 932\n",
      "1/1 - 0s - loss: 0.8904 - binary_accuracy: 0.5000 - 18ms/epoch - 18ms/step\n"
     ]
    },
    {
     "name": "stderr",
     "output_type": "stream",
     "text": [
      " 65%|██████▌   | 933/1425 [03:13<01:41,  4.84it/s]"
     ]
    },
    {
     "name": "stdout",
     "output_type": "stream",
     "text": [
      "Inferencing on instance 933\n",
      "1/1 [==============================] - 0s 26ms/step\n",
      "Online training on instance 933\n",
      "1/1 - 0s - loss: 0.9140 - binary_accuracy: 0.4375 - 15ms/epoch - 15ms/step\n"
     ]
    },
    {
     "name": "stderr",
     "output_type": "stream",
     "text": [
      " 66%|██████▌   | 934/1425 [03:13<01:36,  5.08it/s]"
     ]
    },
    {
     "name": "stdout",
     "output_type": "stream",
     "text": [
      "Inferencing on instance 934\n",
      "1/1 [==============================] - 0s 29ms/step\n",
      "Online training on instance 934\n",
      "1/1 - 0s - loss: 0.8739 - binary_accuracy: 0.4375 - 14ms/epoch - 14ms/step\n"
     ]
    },
    {
     "name": "stderr",
     "output_type": "stream",
     "text": [
      " 66%|██████▌   | 935/1425 [03:13<01:33,  5.27it/s]"
     ]
    },
    {
     "name": "stdout",
     "output_type": "stream",
     "text": [
      "Inferencing on instance 935\n",
      "1/1 [==============================] - 0s 42ms/step\n",
      "Online training on instance 935\n",
      "1/1 - 0s - loss: 0.9317 - binary_accuracy: 0.3125 - 22ms/epoch - 22ms/step\n"
     ]
    },
    {
     "name": "stderr",
     "output_type": "stream",
     "text": [
      " 66%|██████▌   | 936/1425 [03:13<01:35,  5.15it/s]"
     ]
    },
    {
     "name": "stdout",
     "output_type": "stream",
     "text": [
      "Inferencing on instance 936\n",
      "1/1 [==============================] - 0s 34ms/step\n",
      "Online training on instance 936\n",
      "1/1 - 0s - loss: 0.9818 - binary_accuracy: 0.3750 - 16ms/epoch - 16ms/step\n"
     ]
    },
    {
     "name": "stderr",
     "output_type": "stream",
     "text": [
      " 66%|██████▌   | 937/1425 [03:13<01:38,  4.98it/s]"
     ]
    },
    {
     "name": "stdout",
     "output_type": "stream",
     "text": [
      "Inferencing on instance 937\n",
      "1/1 [==============================] - 0s 36ms/step\n",
      "Online training on instance 937\n",
      "1/1 - 0s - loss: 1.0644 - binary_accuracy: 0.1875 - 17ms/epoch - 17ms/step\n"
     ]
    },
    {
     "name": "stderr",
     "output_type": "stream",
     "text": [
      " 66%|██████▌   | 938/1425 [03:14<01:39,  4.91it/s]"
     ]
    },
    {
     "name": "stdout",
     "output_type": "stream",
     "text": [
      "Inferencing on instance 938\n",
      "1/1 [==============================] - 0s 43ms/step\n",
      "Online training on instance 938\n",
      "1/1 - 0s - loss: 1.1107 - binary_accuracy: 0.1875 - 14ms/epoch - 14ms/step\n"
     ]
    },
    {
     "name": "stderr",
     "output_type": "stream",
     "text": [
      " 66%|██████▌   | 939/1425 [03:14<01:37,  4.96it/s]"
     ]
    },
    {
     "name": "stdout",
     "output_type": "stream",
     "text": [
      "Inferencing on instance 939\n",
      "1/1 [==============================] - 0s 31ms/step\n",
      "Online training on instance 939\n",
      "1/1 - 0s - loss: 1.1118 - binary_accuracy: 0.1250 - 15ms/epoch - 15ms/step\n"
     ]
    },
    {
     "name": "stderr",
     "output_type": "stream",
     "text": [
      " 66%|██████▌   | 940/1425 [03:14<01:32,  5.24it/s]"
     ]
    },
    {
     "name": "stdout",
     "output_type": "stream",
     "text": [
      "Inferencing on instance 940\n",
      "1/1 [==============================] - 0s 35ms/step\n",
      "Online training on instance 940\n",
      "1/1 - 0s - loss: 1.1324 - binary_accuracy: 0.1250 - 15ms/epoch - 15ms/step\n"
     ]
    },
    {
     "name": "stderr",
     "output_type": "stream",
     "text": [
      " 66%|██████▌   | 941/1425 [03:14<01:31,  5.28it/s]"
     ]
    },
    {
     "name": "stdout",
     "output_type": "stream",
     "text": [
      "Inferencing on instance 941\n",
      "1/1 [==============================] - 0s 29ms/step\n",
      "Online training on instance 941\n",
      "1/1 - 0s - loss: 1.0561 - binary_accuracy: 0.2500 - 14ms/epoch - 14ms/step\n"
     ]
    },
    {
     "name": "stderr",
     "output_type": "stream",
     "text": [
      " 66%|██████▌   | 942/1425 [03:14<01:28,  5.47it/s]"
     ]
    },
    {
     "name": "stdout",
     "output_type": "stream",
     "text": [
      "Inferencing on instance 942\n",
      "1/1 [==============================] - 0s 31ms/step\n",
      "Online training on instance 942\n",
      "1/1 - 0s - loss: 0.9363 - binary_accuracy: 0.2500 - 16ms/epoch - 16ms/step\n"
     ]
    },
    {
     "name": "stderr",
     "output_type": "stream",
     "text": [
      " 66%|██████▌   | 943/1425 [03:14<01:25,  5.66it/s]"
     ]
    },
    {
     "name": "stdout",
     "output_type": "stream",
     "text": [
      "Inferencing on instance 943\n",
      "1/1 [==============================] - 0s 33ms/step\n",
      "Online training on instance 943\n",
      "1/1 - 0s - loss: 0.8545 - binary_accuracy: 0.3750 - 14ms/epoch - 14ms/step\n"
     ]
    },
    {
     "name": "stderr",
     "output_type": "stream",
     "text": [
      " 66%|██████▌   | 944/1425 [03:15<01:31,  5.27it/s]"
     ]
    },
    {
     "name": "stdout",
     "output_type": "stream",
     "text": [
      "Inferencing on instance 944\n",
      "1/1 [==============================] - 0s 32ms/step\n",
      "Online training on instance 944\n",
      "1/1 - 0s - loss: 0.8272 - binary_accuracy: 0.3125 - 15ms/epoch - 15ms/step\n"
     ]
    },
    {
     "name": "stderr",
     "output_type": "stream",
     "text": [
      " 66%|██████▋   | 945/1425 [03:15<01:28,  5.43it/s]"
     ]
    },
    {
     "name": "stdout",
     "output_type": "stream",
     "text": [
      "Inferencing on instance 945\n",
      "1/1 [==============================] - 0s 33ms/step\n",
      "Online training on instance 945\n",
      "1/1 - 0s - loss: 0.8413 - binary_accuracy: 0.3750 - 15ms/epoch - 15ms/step\n"
     ]
    },
    {
     "name": "stderr",
     "output_type": "stream",
     "text": [
      " 66%|██████▋   | 946/1425 [03:15<01:26,  5.51it/s]"
     ]
    },
    {
     "name": "stdout",
     "output_type": "stream",
     "text": [
      "Inferencing on instance 946\n",
      "1/1 [==============================] - 0s 31ms/step\n",
      "Online training on instance 946\n",
      "1/1 - 0s - loss: 0.8294 - binary_accuracy: 0.3750 - 15ms/epoch - 15ms/step\n"
     ]
    },
    {
     "name": "stderr",
     "output_type": "stream",
     "text": [
      " 66%|██████▋   | 947/1425 [03:15<01:25,  5.60it/s]"
     ]
    },
    {
     "name": "stdout",
     "output_type": "stream",
     "text": [
      "Inferencing on instance 947\n",
      "1/1 [==============================] - 0s 33ms/step\n",
      "Online training on instance 947\n",
      "1/1 - 0s - loss: 0.8062 - binary_accuracy: 0.3125 - 16ms/epoch - 16ms/step\n"
     ]
    },
    {
     "name": "stderr",
     "output_type": "stream",
     "text": [
      " 67%|██████▋   | 948/1425 [03:15<01:24,  5.63it/s]"
     ]
    },
    {
     "name": "stdout",
     "output_type": "stream",
     "text": [
      "Inferencing on instance 948\n",
      "1/1 [==============================] - 0s 42ms/step\n",
      "Online training on instance 948\n",
      "1/1 - 0s - loss: 0.7628 - binary_accuracy: 0.4375 - 15ms/epoch - 15ms/step\n"
     ]
    },
    {
     "name": "stderr",
     "output_type": "stream",
     "text": [
      " 67%|██████▋   | 949/1425 [03:16<01:28,  5.40it/s]"
     ]
    },
    {
     "name": "stdout",
     "output_type": "stream",
     "text": [
      "Inferencing on instance 949\n",
      "1/1 [==============================] - 0s 29ms/step\n",
      "Online training on instance 949\n",
      "1/1 - 0s - loss: 0.6984 - binary_accuracy: 0.4375 - 16ms/epoch - 16ms/step\n"
     ]
    },
    {
     "name": "stderr",
     "output_type": "stream",
     "text": [
      " 67%|██████▋   | 950/1425 [03:16<01:25,  5.58it/s]"
     ]
    },
    {
     "name": "stdout",
     "output_type": "stream",
     "text": [
      "Inferencing on instance 950\n",
      "1/1 [==============================] - 0s 33ms/step\n",
      "Online training on instance 950\n",
      "1/1 - 0s - loss: 0.7113 - binary_accuracy: 0.4375 - 14ms/epoch - 14ms/step\n"
     ]
    },
    {
     "name": "stderr",
     "output_type": "stream",
     "text": [
      " 67%|██████▋   | 951/1425 [03:16<01:23,  5.68it/s]"
     ]
    },
    {
     "name": "stdout",
     "output_type": "stream",
     "text": [
      "Inferencing on instance 951\n",
      "1/1 [==============================] - 0s 30ms/step\n",
      "Online training on instance 951\n",
      "1/1 - 0s - loss: 0.6762 - binary_accuracy: 0.5000 - 15ms/epoch - 15ms/step\n"
     ]
    },
    {
     "name": "stderr",
     "output_type": "stream",
     "text": [
      " 67%|██████▋   | 952/1425 [03:16<01:22,  5.76it/s]"
     ]
    },
    {
     "name": "stdout",
     "output_type": "stream",
     "text": [
      "Inferencing on instance 952\n",
      "1/1 [==============================] - 0s 28ms/step\n",
      "Online training on instance 952\n",
      "1/1 - 0s - loss: 0.6489 - binary_accuracy: 0.5625 - 15ms/epoch - 15ms/step\n"
     ]
    },
    {
     "name": "stderr",
     "output_type": "stream",
     "text": [
      " 67%|██████▋   | 953/1425 [03:16<01:25,  5.53it/s]"
     ]
    },
    {
     "name": "stdout",
     "output_type": "stream",
     "text": [
      "Inferencing on instance 953\n",
      "1/1 [==============================] - 0s 36ms/step\n",
      "Online training on instance 953\n",
      "1/1 - 0s - loss: 0.6135 - binary_accuracy: 0.6875 - 20ms/epoch - 20ms/step\n"
     ]
    },
    {
     "name": "stderr",
     "output_type": "stream",
     "text": [
      " 67%|██████▋   | 954/1425 [03:16<01:30,  5.21it/s]"
     ]
    },
    {
     "name": "stdout",
     "output_type": "stream",
     "text": [
      "Inferencing on instance 954\n",
      "1/1 [==============================] - 0s 37ms/step\n",
      "Online training on instance 954\n",
      "1/1 - 0s - loss: 0.6398 - binary_accuracy: 0.5625 - 16ms/epoch - 16ms/step\n"
     ]
    },
    {
     "name": "stderr",
     "output_type": "stream",
     "text": [
      " 67%|██████▋   | 955/1425 [03:17<01:32,  5.08it/s]"
     ]
    },
    {
     "name": "stdout",
     "output_type": "stream",
     "text": [
      "Inferencing on instance 955\n",
      "1/1 [==============================] - 0s 36ms/step\n",
      "Online training on instance 955\n",
      "1/1 - 0s - loss: 0.6247 - binary_accuracy: 0.5625 - 14ms/epoch - 14ms/step\n"
     ]
    },
    {
     "name": "stderr",
     "output_type": "stream",
     "text": [
      " 67%|██████▋   | 956/1425 [03:17<01:29,  5.23it/s]"
     ]
    },
    {
     "name": "stdout",
     "output_type": "stream",
     "text": [
      "Inferencing on instance 956\n",
      "1/1 [==============================] - 0s 38ms/step\n",
      "Online training on instance 956\n",
      "1/1 - 0s - loss: 0.5823 - binary_accuracy: 0.8125 - 15ms/epoch - 15ms/step\n"
     ]
    },
    {
     "name": "stderr",
     "output_type": "stream",
     "text": [
      " 67%|██████▋   | 957/1425 [03:17<01:26,  5.42it/s]"
     ]
    },
    {
     "name": "stdout",
     "output_type": "stream",
     "text": [
      "Inferencing on instance 957\n",
      "1/1 [==============================] - 0s 30ms/step\n",
      "Online training on instance 957\n",
      "1/1 - 0s - loss: 0.5827 - binary_accuracy: 0.8750 - 15ms/epoch - 15ms/step\n"
     ]
    },
    {
     "name": "stderr",
     "output_type": "stream",
     "text": [
      " 67%|██████▋   | 958/1425 [03:17<01:25,  5.44it/s]"
     ]
    },
    {
     "name": "stdout",
     "output_type": "stream",
     "text": [
      "Inferencing on instance 958\n",
      "1/1 [==============================] - 0s 30ms/step\n",
      "Online training on instance 958\n",
      "1/1 - 0s - loss: 0.5638 - binary_accuracy: 0.8125 - 15ms/epoch - 15ms/step\n"
     ]
    },
    {
     "name": "stderr",
     "output_type": "stream",
     "text": [
      " 67%|██████▋   | 959/1425 [03:17<01:26,  5.38it/s]"
     ]
    },
    {
     "name": "stdout",
     "output_type": "stream",
     "text": [
      "Inferencing on instance 959\n",
      "1/1 [==============================] - 0s 28ms/step\n",
      "Online training on instance 959\n",
      "1/1 - 0s - loss: 0.5376 - binary_accuracy: 0.8750 - 15ms/epoch - 15ms/step\n"
     ]
    },
    {
     "name": "stderr",
     "output_type": "stream",
     "text": [
      " 67%|██████▋   | 960/1425 [03:18<01:23,  5.55it/s]"
     ]
    },
    {
     "name": "stdout",
     "output_type": "stream",
     "text": [
      "Inferencing on instance 960\n",
      "1/1 [==============================] - 0s 32ms/step\n",
      "Online training on instance 960\n",
      "1/1 - 0s - loss: 0.5472 - binary_accuracy: 0.9375 - 14ms/epoch - 14ms/step\n"
     ]
    },
    {
     "name": "stderr",
     "output_type": "stream",
     "text": [
      " 67%|██████▋   | 961/1425 [03:18<01:23,  5.58it/s]"
     ]
    },
    {
     "name": "stdout",
     "output_type": "stream",
     "text": [
      "Inferencing on instance 961\n",
      "1/1 [==============================] - 0s 32ms/step\n",
      "Online training on instance 961\n",
      "1/1 - 0s - loss: 0.5107 - binary_accuracy: 0.9375 - 15ms/epoch - 15ms/step\n"
     ]
    },
    {
     "name": "stderr",
     "output_type": "stream",
     "text": [
      " 68%|██████▊   | 962/1425 [03:18<01:22,  5.62it/s]"
     ]
    },
    {
     "name": "stdout",
     "output_type": "stream",
     "text": [
      "Inferencing on instance 962\n",
      "1/1 [==============================] - 0s 30ms/step\n",
      "Online training on instance 962\n",
      "1/1 - 0s - loss: 0.4984 - binary_accuracy: 0.9375 - 16ms/epoch - 16ms/step\n"
     ]
    },
    {
     "name": "stderr",
     "output_type": "stream",
     "text": [
      " 68%|██████▊   | 963/1425 [03:18<01:21,  5.66it/s]"
     ]
    },
    {
     "name": "stdout",
     "output_type": "stream",
     "text": [
      "Inferencing on instance 963\n",
      "1/1 [==============================] - 0s 39ms/step\n",
      "Online training on instance 963\n",
      "1/1 - 0s - loss: 0.4854 - binary_accuracy: 0.9375 - 14ms/epoch - 14ms/step\n"
     ]
    },
    {
     "name": "stderr",
     "output_type": "stream",
     "text": [
      " 68%|██████▊   | 964/1425 [03:18<01:26,  5.34it/s]"
     ]
    },
    {
     "name": "stdout",
     "output_type": "stream",
     "text": [
      "Inferencing on instance 964\n",
      "1/1 [==============================] - 0s 31ms/step\n",
      "Online training on instance 964\n",
      "1/1 - 0s - loss: 0.5193 - binary_accuracy: 0.8750 - 15ms/epoch - 15ms/step\n"
     ]
    },
    {
     "name": "stderr",
     "output_type": "stream",
     "text": [
      " 68%|██████▊   | 965/1425 [03:18<01:24,  5.48it/s]"
     ]
    },
    {
     "name": "stdout",
     "output_type": "stream",
     "text": [
      "Inferencing on instance 965\n",
      "1/1 [==============================] - 0s 33ms/step\n",
      "Online training on instance 965\n",
      "1/1 - 0s - loss: 0.5091 - binary_accuracy: 0.8750 - 16ms/epoch - 16ms/step\n"
     ]
    },
    {
     "name": "stderr",
     "output_type": "stream",
     "text": [
      " 68%|██████▊   | 966/1425 [03:19<01:20,  5.71it/s]"
     ]
    },
    {
     "name": "stdout",
     "output_type": "stream",
     "text": [
      "Inferencing on instance 966\n",
      "1/1 [==============================] - 0s 34ms/step\n",
      "Online training on instance 966\n",
      "1/1 - 0s - loss: 0.4722 - binary_accuracy: 0.9375 - 15ms/epoch - 15ms/step\n"
     ]
    },
    {
     "name": "stderr",
     "output_type": "stream",
     "text": [
      " 68%|██████▊   | 967/1425 [03:19<01:20,  5.67it/s]"
     ]
    },
    {
     "name": "stdout",
     "output_type": "stream",
     "text": [
      "Inferencing on instance 967\n",
      "1/1 [==============================] - 0s 28ms/step\n",
      "Online training on instance 967\n",
      "1/1 - 0s - loss: 0.4675 - binary_accuracy: 0.8750 - 14ms/epoch - 14ms/step\n"
     ]
    },
    {
     "name": "stderr",
     "output_type": "stream",
     "text": [
      " 68%|██████▊   | 968/1425 [03:19<01:19,  5.75it/s]"
     ]
    },
    {
     "name": "stdout",
     "output_type": "stream",
     "text": [
      "Inferencing on instance 968\n",
      "1/1 [==============================] - 0s 33ms/step\n",
      "Online training on instance 968\n",
      "1/1 - 0s - loss: 0.4665 - binary_accuracy: 0.8750 - 22ms/epoch - 22ms/step\n"
     ]
    },
    {
     "name": "stderr",
     "output_type": "stream",
     "text": [
      " 68%|██████▊   | 969/1425 [03:19<01:21,  5.59it/s]"
     ]
    },
    {
     "name": "stdout",
     "output_type": "stream",
     "text": [
      "Inferencing on instance 969\n",
      "1/1 [==============================] - 0s 33ms/step\n",
      "Online training on instance 969\n",
      "1/1 - 0s - loss: 0.4832 - binary_accuracy: 0.8750 - 14ms/epoch - 14ms/step\n"
     ]
    },
    {
     "name": "stderr",
     "output_type": "stream",
     "text": [
      " 68%|██████▊   | 970/1425 [03:19<01:24,  5.40it/s]"
     ]
    },
    {
     "name": "stdout",
     "output_type": "stream",
     "text": [
      "Inferencing on instance 970\n",
      "1/1 [==============================] - 0s 31ms/step\n",
      "Online training on instance 970\n",
      "1/1 - 0s - loss: 0.4444 - binary_accuracy: 0.8750 - 15ms/epoch - 15ms/step\n"
     ]
    },
    {
     "name": "stderr",
     "output_type": "stream",
     "text": [
      " 68%|██████▊   | 971/1425 [03:20<01:21,  5.57it/s]"
     ]
    },
    {
     "name": "stdout",
     "output_type": "stream",
     "text": [
      "Inferencing on instance 971\n",
      "1/1 [==============================] - 0s 33ms/step\n",
      "Online training on instance 971\n",
      "1/1 - 0s - loss: 0.4510 - binary_accuracy: 0.8750 - 14ms/epoch - 14ms/step\n"
     ]
    },
    {
     "name": "stderr",
     "output_type": "stream",
     "text": [
      " 68%|██████▊   | 972/1425 [03:20<01:20,  5.63it/s]"
     ]
    },
    {
     "name": "stdout",
     "output_type": "stream",
     "text": [
      "Inferencing on instance 972\n",
      "1/1 [==============================] - 0s 30ms/step\n",
      "Online training on instance 972\n",
      "1/1 - 0s - loss: 0.4425 - binary_accuracy: 0.8750 - 15ms/epoch - 15ms/step\n"
     ]
    },
    {
     "name": "stderr",
     "output_type": "stream",
     "text": [
      " 68%|██████▊   | 973/1425 [03:20<01:19,  5.66it/s]"
     ]
    },
    {
     "name": "stdout",
     "output_type": "stream",
     "text": [
      "Inferencing on instance 973\n",
      "1/1 [==============================] - 0s 30ms/step\n",
      "Online training on instance 973\n",
      "1/1 - 0s - loss: 0.4480 - binary_accuracy: 0.8750 - 15ms/epoch - 15ms/step\n"
     ]
    },
    {
     "name": "stderr",
     "output_type": "stream",
     "text": [
      " 68%|██████▊   | 974/1425 [03:20<01:19,  5.69it/s]"
     ]
    },
    {
     "name": "stdout",
     "output_type": "stream",
     "text": [
      "Inferencing on instance 974\n",
      "1/1 [==============================] - 0s 47ms/step\n",
      "Online training on instance 974\n",
      "1/1 - 0s - loss: 0.4229 - binary_accuracy: 0.8750 - 16ms/epoch - 16ms/step\n"
     ]
    },
    {
     "name": "stderr",
     "output_type": "stream",
     "text": [
      " 68%|██████▊   | 975/1425 [03:20<01:24,  5.31it/s]"
     ]
    },
    {
     "name": "stdout",
     "output_type": "stream",
     "text": [
      "Inferencing on instance 975\n",
      "1/1 [==============================] - 0s 26ms/step\n",
      "Online training on instance 975\n",
      "1/1 - 0s - loss: 0.4502 - binary_accuracy: 0.8750 - 23ms/epoch - 23ms/step\n"
     ]
    },
    {
     "name": "stderr",
     "output_type": "stream",
     "text": [
      " 68%|██████▊   | 976/1425 [03:20<01:23,  5.35it/s]"
     ]
    },
    {
     "name": "stdout",
     "output_type": "stream",
     "text": [
      "Inferencing on instance 976\n",
      "1/1 [==============================] - 0s 46ms/step\n",
      "Online training on instance 976\n",
      "1/1 - 0s - loss: 0.3945 - binary_accuracy: 0.8750 - 18ms/epoch - 18ms/step\n"
     ]
    },
    {
     "name": "stderr",
     "output_type": "stream",
     "text": [
      " 69%|██████▊   | 977/1425 [03:21<01:24,  5.29it/s]"
     ]
    },
    {
     "name": "stdout",
     "output_type": "stream",
     "text": [
      "Inferencing on instance 977\n",
      "1/1 [==============================] - 0s 33ms/step\n",
      "Online training on instance 977\n",
      "1/1 - 0s - loss: 0.4056 - binary_accuracy: 0.8750 - 16ms/epoch - 16ms/step\n"
     ]
    },
    {
     "name": "stderr",
     "output_type": "stream",
     "text": [
      " 69%|██████▊   | 978/1425 [03:21<01:25,  5.23it/s]"
     ]
    },
    {
     "name": "stdout",
     "output_type": "stream",
     "text": [
      "Inferencing on instance 978\n",
      "1/1 [==============================] - 0s 36ms/step\n",
      "Online training on instance 978\n",
      "1/1 - 0s - loss: 0.3969 - binary_accuracy: 0.8750 - 15ms/epoch - 15ms/step\n"
     ]
    },
    {
     "name": "stderr",
     "output_type": "stream",
     "text": [
      " 69%|██████▊   | 979/1425 [03:21<01:25,  5.20it/s]"
     ]
    },
    {
     "name": "stdout",
     "output_type": "stream",
     "text": [
      "Inferencing on instance 979\n",
      "1/1 [==============================] - 0s 30ms/step\n",
      "Online training on instance 979\n",
      "1/1 - 0s - loss: 0.3963 - binary_accuracy: 0.8750 - 19ms/epoch - 19ms/step\n"
     ]
    },
    {
     "name": "stderr",
     "output_type": "stream",
     "text": [
      " 69%|██████▉   | 980/1425 [03:21<01:30,  4.91it/s]"
     ]
    },
    {
     "name": "stdout",
     "output_type": "stream",
     "text": [
      "Inferencing on instance 980\n",
      "1/1 [==============================] - 0s 45ms/step\n",
      "Online training on instance 980\n",
      "1/1 - 0s - loss: 0.4002 - binary_accuracy: 0.8750 - 19ms/epoch - 19ms/step\n"
     ]
    },
    {
     "name": "stderr",
     "output_type": "stream",
     "text": [
      " 69%|██████▉   | 981/1425 [03:21<01:32,  4.81it/s]"
     ]
    },
    {
     "name": "stdout",
     "output_type": "stream",
     "text": [
      "Inferencing on instance 981\n",
      "1/1 [==============================] - 0s 36ms/step\n",
      "Online training on instance 981\n",
      "1/1 - 0s - loss: 0.3886 - binary_accuracy: 0.8750 - 14ms/epoch - 14ms/step\n"
     ]
    },
    {
     "name": "stderr",
     "output_type": "stream",
     "text": [
      " 69%|██████▉   | 982/1425 [03:22<01:29,  4.96it/s]"
     ]
    },
    {
     "name": "stdout",
     "output_type": "stream",
     "text": [
      "Inferencing on instance 982\n",
      "1/1 [==============================] - 0s 26ms/step\n",
      "Online training on instance 982\n",
      "1/1 - 0s - loss: 0.3857 - binary_accuracy: 0.8750 - 16ms/epoch - 16ms/step\n"
     ]
    },
    {
     "name": "stderr",
     "output_type": "stream",
     "text": [
      " 69%|██████▉   | 983/1425 [03:22<01:25,  5.20it/s]"
     ]
    },
    {
     "name": "stdout",
     "output_type": "stream",
     "text": [
      "Inferencing on instance 983\n",
      "1/1 [==============================] - 0s 37ms/step\n",
      "Online training on instance 983\n",
      "1/1 - 0s - loss: 0.3907 - binary_accuracy: 0.8750 - 15ms/epoch - 15ms/step\n"
     ]
    },
    {
     "name": "stderr",
     "output_type": "stream",
     "text": [
      " 69%|██████▉   | 984/1425 [03:22<01:22,  5.37it/s]"
     ]
    },
    {
     "name": "stdout",
     "output_type": "stream",
     "text": [
      "Inferencing on instance 984\n",
      "1/1 [==============================] - 0s 29ms/step\n",
      "Online training on instance 984\n",
      "1/1 - 0s - loss: 0.3698 - binary_accuracy: 0.8750 - 16ms/epoch - 16ms/step\n"
     ]
    },
    {
     "name": "stderr",
     "output_type": "stream",
     "text": [
      " 69%|██████▉   | 985/1425 [03:22<01:26,  5.07it/s]"
     ]
    },
    {
     "name": "stdout",
     "output_type": "stream",
     "text": [
      "Inferencing on instance 985\n",
      "1/1 [==============================] - 0s 33ms/step\n",
      "Online training on instance 985\n",
      "1/1 - 0s - loss: 0.3639 - binary_accuracy: 0.8750 - 15ms/epoch - 15ms/step\n"
     ]
    },
    {
     "name": "stderr",
     "output_type": "stream",
     "text": [
      " 69%|██████▉   | 986/1425 [03:22<01:23,  5.26it/s]"
     ]
    },
    {
     "name": "stdout",
     "output_type": "stream",
     "text": [
      "Inferencing on instance 986\n",
      "1/1 [==============================] - 0s 29ms/step\n",
      "Online training on instance 986\n",
      "1/1 - 0s - loss: 0.3709 - binary_accuracy: 0.8750 - 15ms/epoch - 15ms/step\n"
     ]
    },
    {
     "name": "stderr",
     "output_type": "stream",
     "text": [
      " 69%|██████▉   | 987/1425 [03:23<01:20,  5.42it/s]"
     ]
    },
    {
     "name": "stdout",
     "output_type": "stream",
     "text": [
      "Inferencing on instance 987\n",
      "1/1 [==============================] - 0s 30ms/step\n",
      "Online training on instance 987\n",
      "1/1 - 0s - loss: 0.3538 - binary_accuracy: 0.8750 - 15ms/epoch - 15ms/step\n"
     ]
    },
    {
     "name": "stderr",
     "output_type": "stream",
     "text": [
      " 69%|██████▉   | 988/1425 [03:23<01:19,  5.52it/s]"
     ]
    },
    {
     "name": "stdout",
     "output_type": "stream",
     "text": [
      "Inferencing on instance 988\n",
      "1/1 [==============================] - 0s 26ms/step\n",
      "Online training on instance 988\n",
      "1/1 - 0s - loss: 0.3659 - binary_accuracy: 0.9375 - 16ms/epoch - 16ms/step\n"
     ]
    },
    {
     "name": "stderr",
     "output_type": "stream",
     "text": [
      " 69%|██████▉   | 989/1425 [03:23<01:18,  5.58it/s]"
     ]
    },
    {
     "name": "stdout",
     "output_type": "stream",
     "text": [
      "Inferencing on instance 989\n",
      "1/1 [==============================] - 0s 41ms/step\n",
      "Online training on instance 989\n",
      "1/1 - 0s - loss: 0.3558 - binary_accuracy: 0.8750 - 14ms/epoch - 14ms/step\n"
     ]
    },
    {
     "name": "stderr",
     "output_type": "stream",
     "text": [
      " 69%|██████▉   | 990/1425 [03:23<01:21,  5.34it/s]"
     ]
    },
    {
     "name": "stdout",
     "output_type": "stream",
     "text": [
      "Inferencing on instance 990\n",
      "1/1 [==============================] - 0s 36ms/step\n",
      "Online training on instance 990\n",
      "1/1 - 0s - loss: 0.3627 - binary_accuracy: 0.8750 - 15ms/epoch - 15ms/step\n"
     ]
    },
    {
     "name": "stderr",
     "output_type": "stream",
     "text": [
      " 70%|██████▉   | 991/1425 [03:23<01:19,  5.44it/s]"
     ]
    },
    {
     "name": "stdout",
     "output_type": "stream",
     "text": [
      "Inferencing on instance 991\n",
      "1/1 [==============================] - 0s 34ms/step\n",
      "Online training on instance 991\n",
      "1/1 - 0s - loss: 0.3605 - binary_accuracy: 0.8750 - 14ms/epoch - 14ms/step\n"
     ]
    },
    {
     "name": "stderr",
     "output_type": "stream",
     "text": [
      " 70%|██████▉   | 992/1425 [03:23<01:17,  5.57it/s]"
     ]
    },
    {
     "name": "stdout",
     "output_type": "stream",
     "text": [
      "Inferencing on instance 992\n",
      "1/1 [==============================] - 0s 30ms/step\n",
      "Online training on instance 992\n",
      "1/1 - 0s - loss: 0.3660 - binary_accuracy: 0.8750 - 15ms/epoch - 15ms/step\n"
     ]
    },
    {
     "name": "stderr",
     "output_type": "stream",
     "text": [
      " 70%|██████▉   | 993/1425 [03:24<01:14,  5.76it/s]"
     ]
    },
    {
     "name": "stdout",
     "output_type": "stream",
     "text": [
      "Inferencing on instance 993\n",
      "1/1 [==============================] - 0s 24ms/step\n",
      "Online training on instance 993\n",
      "1/1 - 0s - loss: 0.3482 - binary_accuracy: 0.8750 - 15ms/epoch - 15ms/step\n"
     ]
    },
    {
     "name": "stderr",
     "output_type": "stream",
     "text": [
      " 70%|██████▉   | 994/1425 [03:24<01:13,  5.84it/s]"
     ]
    },
    {
     "name": "stdout",
     "output_type": "stream",
     "text": [
      "Inferencing on instance 994\n",
      "1/1 [==============================] - 0s 29ms/step\n",
      "Online training on instance 994\n",
      "1/1 - 0s - loss: 0.3436 - binary_accuracy: 0.8750 - 16ms/epoch - 16ms/step\n"
     ]
    },
    {
     "name": "stderr",
     "output_type": "stream",
     "text": [
      " 70%|██████▉   | 995/1425 [03:24<01:14,  5.78it/s]"
     ]
    },
    {
     "name": "stdout",
     "output_type": "stream",
     "text": [
      "Inferencing on instance 995\n",
      "1/1 [==============================] - 0s 42ms/step\n",
      "Online training on instance 995\n",
      "1/1 - 0s - loss: 0.3320 - binary_accuracy: 0.8750 - 15ms/epoch - 15ms/step\n"
     ]
    },
    {
     "name": "stderr",
     "output_type": "stream",
     "text": [
      " 70%|██████▉   | 996/1425 [03:24<01:19,  5.38it/s]"
     ]
    },
    {
     "name": "stdout",
     "output_type": "stream",
     "text": [
      "Inferencing on instance 996\n",
      "1/1 [==============================] - 0s 32ms/step\n",
      "Online training on instance 996\n",
      "1/1 - 0s - loss: 0.3145 - binary_accuracy: 0.9375 - 15ms/epoch - 15ms/step\n"
     ]
    },
    {
     "name": "stderr",
     "output_type": "stream",
     "text": [
      " 70%|██████▉   | 997/1425 [03:24<01:17,  5.53it/s]"
     ]
    },
    {
     "name": "stdout",
     "output_type": "stream",
     "text": [
      "Inferencing on instance 997\n",
      "1/1 [==============================] - 0s 32ms/step\n",
      "Online training on instance 997\n",
      "1/1 - 0s - loss: 0.3149 - binary_accuracy: 0.9375 - 15ms/epoch - 15ms/step\n"
     ]
    },
    {
     "name": "stderr",
     "output_type": "stream",
     "text": [
      " 70%|███████   | 998/1425 [03:25<01:16,  5.61it/s]"
     ]
    },
    {
     "name": "stdout",
     "output_type": "stream",
     "text": [
      "Inferencing on instance 998\n",
      "1/1 [==============================] - 0s 28ms/step\n",
      "Online training on instance 998\n",
      "1/1 - 0s - loss: 0.3208 - binary_accuracy: 0.9375 - 15ms/epoch - 15ms/step\n"
     ]
    },
    {
     "name": "stderr",
     "output_type": "stream",
     "text": [
      " 70%|███████   | 999/1425 [03:25<01:14,  5.72it/s]"
     ]
    },
    {
     "name": "stdout",
     "output_type": "stream",
     "text": [
      "Inferencing on instance 999\n",
      "1/1 [==============================] - 0s 37ms/step\n",
      "Online training on instance 999\n",
      "1/1 - 0s - loss: 0.3296 - binary_accuracy: 0.8750 - 18ms/epoch - 18ms/step\n"
     ]
    },
    {
     "name": "stderr",
     "output_type": "stream",
     "text": [
      " 70%|███████   | 1000/1425 [03:25<01:18,  5.39it/s]"
     ]
    },
    {
     "name": "stdout",
     "output_type": "stream",
     "text": [
      "Inferencing on instance 1000\n",
      "1/1 [==============================] - 0s 31ms/step\n",
      "Online training on instance 1000\n",
      "1/1 - 0s - loss: 0.3252 - binary_accuracy: 0.8750 - 15ms/epoch - 15ms/step\n"
     ]
    },
    {
     "name": "stderr",
     "output_type": "stream",
     "text": [
      " 70%|███████   | 1001/1425 [03:25<01:16,  5.52it/s]"
     ]
    },
    {
     "name": "stdout",
     "output_type": "stream",
     "text": [
      "Inferencing on instance 1001\n",
      "1/1 [==============================] - 0s 33ms/step\n",
      "Online training on instance 1001\n",
      "1/1 - 0s - loss: 0.3238 - binary_accuracy: 0.8750 - 15ms/epoch - 15ms/step\n"
     ]
    },
    {
     "name": "stderr",
     "output_type": "stream",
     "text": [
      " 70%|███████   | 1002/1425 [03:25<01:18,  5.42it/s]"
     ]
    },
    {
     "name": "stdout",
     "output_type": "stream",
     "text": [
      "Inferencing on instance 1002\n",
      "1/1 [==============================] - 0s 25ms/step\n",
      "Online training on instance 1002\n",
      "1/1 - 0s - loss: 0.3042 - binary_accuracy: 0.9375 - 14ms/epoch - 14ms/step\n"
     ]
    },
    {
     "name": "stderr",
     "output_type": "stream",
     "text": [
      " 70%|███████   | 1003/1425 [03:25<01:16,  5.52it/s]"
     ]
    },
    {
     "name": "stdout",
     "output_type": "stream",
     "text": [
      "Inferencing on instance 1003\n",
      "1/1 [==============================] - 0s 34ms/step\n",
      "Online training on instance 1003\n",
      "1/1 - 0s - loss: 0.3292 - binary_accuracy: 0.8750 - 15ms/epoch - 15ms/step\n"
     ]
    },
    {
     "name": "stderr",
     "output_type": "stream",
     "text": [
      " 70%|███████   | 1004/1425 [03:26<01:14,  5.63it/s]"
     ]
    },
    {
     "name": "stdout",
     "output_type": "stream",
     "text": [
      "Inferencing on instance 1004\n",
      "1/1 [==============================] - 0s 31ms/step\n",
      "Online training on instance 1004\n",
      "1/1 - 0s - loss: 0.3237 - binary_accuracy: 0.8750 - 14ms/epoch - 14ms/step\n"
     ]
    },
    {
     "name": "stderr",
     "output_type": "stream",
     "text": [
      " 71%|███████   | 1005/1425 [03:26<01:18,  5.35it/s]"
     ]
    },
    {
     "name": "stdout",
     "output_type": "stream",
     "text": [
      "Inferencing on instance 1005\n",
      "1/1 [==============================] - 0s 34ms/step\n",
      "Online training on instance 1005\n",
      "1/1 - 0s - loss: 0.3105 - binary_accuracy: 0.8750 - 25ms/epoch - 25ms/step\n"
     ]
    },
    {
     "name": "stderr",
     "output_type": "stream",
     "text": [
      " 71%|███████   | 1006/1425 [03:26<01:19,  5.25it/s]"
     ]
    },
    {
     "name": "stdout",
     "output_type": "stream",
     "text": [
      "Inferencing on instance 1006\n",
      "1/1 [==============================] - 0s 28ms/step\n",
      "Online training on instance 1006\n",
      "1/1 - 0s - loss: 0.2913 - binary_accuracy: 0.8750 - 14ms/epoch - 14ms/step\n"
     ]
    },
    {
     "name": "stderr",
     "output_type": "stream",
     "text": [
      " 71%|███████   | 1007/1425 [03:26<01:18,  5.33it/s]"
     ]
    },
    {
     "name": "stdout",
     "output_type": "stream",
     "text": [
      "Inferencing on instance 1007\n",
      "1/1 [==============================] - 0s 28ms/step\n",
      "Online training on instance 1007\n",
      "1/1 - 0s - loss: 0.3846 - binary_accuracy: 0.8750 - 15ms/epoch - 15ms/step\n"
     ]
    },
    {
     "name": "stderr",
     "output_type": "stream",
     "text": [
      " 71%|███████   | 1008/1425 [03:26<01:15,  5.55it/s]"
     ]
    },
    {
     "name": "stdout",
     "output_type": "stream",
     "text": [
      "Inferencing on instance 1008\n",
      "1/1 [==============================] - 0s 32ms/step\n",
      "Online training on instance 1008\n",
      "1/1 - 0s - loss: 0.4667 - binary_accuracy: 0.7500 - 15ms/epoch - 15ms/step\n"
     ]
    },
    {
     "name": "stderr",
     "output_type": "stream",
     "text": [
      " 71%|███████   | 1009/1425 [03:27<01:13,  5.64it/s]"
     ]
    },
    {
     "name": "stdout",
     "output_type": "stream",
     "text": [
      "Inferencing on instance 1009\n",
      "1/1 [==============================] - 0s 31ms/step\n",
      "Online training on instance 1009\n",
      "1/1 - 0s - loss: 0.5777 - binary_accuracy: 0.7500 - 14ms/epoch - 14ms/step\n"
     ]
    },
    {
     "name": "stderr",
     "output_type": "stream",
     "text": [
      " 71%|███████   | 1010/1425 [03:27<01:18,  5.30it/s]"
     ]
    },
    {
     "name": "stdout",
     "output_type": "stream",
     "text": [
      "Inferencing on instance 1010\n",
      "1/1 [==============================] - 0s 31ms/step\n",
      "Online training on instance 1010\n",
      "1/1 - 0s - loss: 0.6652 - binary_accuracy: 0.6250 - 15ms/epoch - 15ms/step\n"
     ]
    },
    {
     "name": "stderr",
     "output_type": "stream",
     "text": [
      " 71%|███████   | 1011/1425 [03:27<01:16,  5.40it/s]"
     ]
    },
    {
     "name": "stdout",
     "output_type": "stream",
     "text": [
      "Inferencing on instance 1011\n",
      "1/1 [==============================] - 0s 26ms/step\n",
      "Online training on instance 1011\n",
      "1/1 - 0s - loss: 0.7996 - binary_accuracy: 0.5625 - 15ms/epoch - 15ms/step\n"
     ]
    },
    {
     "name": "stderr",
     "output_type": "stream",
     "text": [
      " 71%|███████   | 1012/1425 [03:27<01:14,  5.52it/s]"
     ]
    },
    {
     "name": "stdout",
     "output_type": "stream",
     "text": [
      "Inferencing on instance 1012\n",
      "1/1 [==============================] - 0s 35ms/step\n",
      "Online training on instance 1012\n",
      "1/1 - 0s - loss: 0.8415 - binary_accuracy: 0.5625 - 14ms/epoch - 14ms/step\n"
     ]
    },
    {
     "name": "stderr",
     "output_type": "stream",
     "text": [
      " 71%|███████   | 1013/1425 [03:27<01:14,  5.49it/s]"
     ]
    },
    {
     "name": "stdout",
     "output_type": "stream",
     "text": [
      "Inferencing on instance 1013\n",
      "1/1 [==============================] - 0s 30ms/step\n",
      "Online training on instance 1013\n",
      "1/1 - 0s - loss: 0.9306 - binary_accuracy: 0.5000 - 15ms/epoch - 15ms/step\n"
     ]
    },
    {
     "name": "stderr",
     "output_type": "stream",
     "text": [
      " 71%|███████   | 1014/1425 [03:27<01:12,  5.69it/s]"
     ]
    },
    {
     "name": "stdout",
     "output_type": "stream",
     "text": [
      "Inferencing on instance 1014\n",
      "1/1 [==============================] - 0s 26ms/step\n",
      "Online training on instance 1014\n",
      "1/1 - 0s - loss: 1.0304 - binary_accuracy: 0.4375 - 17ms/epoch - 17ms/step\n"
     ]
    },
    {
     "name": "stderr",
     "output_type": "stream",
     "text": [
      " 71%|███████   | 1015/1425 [03:28<01:16,  5.37it/s]"
     ]
    },
    {
     "name": "stdout",
     "output_type": "stream",
     "text": [
      "Inferencing on instance 1015\n",
      "1/1 [==============================] - 0s 28ms/step\n",
      "Online training on instance 1015\n",
      "1/1 - 0s - loss: 1.1633 - binary_accuracy: 0.3750 - 14ms/epoch - 14ms/step\n"
     ]
    },
    {
     "name": "stderr",
     "output_type": "stream",
     "text": [
      " 71%|███████▏  | 1016/1425 [03:28<01:15,  5.41it/s]"
     ]
    },
    {
     "name": "stdout",
     "output_type": "stream",
     "text": [
      "Inferencing on instance 1016\n",
      "1/1 [==============================] - 0s 32ms/step\n",
      "Online training on instance 1016\n",
      "1/1 - 0s - loss: 1.1826 - binary_accuracy: 0.3125 - 12ms/epoch - 12ms/step\n"
     ]
    },
    {
     "name": "stderr",
     "output_type": "stream",
     "text": [
      " 71%|███████▏  | 1017/1425 [03:28<01:13,  5.54it/s]"
     ]
    },
    {
     "name": "stdout",
     "output_type": "stream",
     "text": [
      "Inferencing on instance 1017\n",
      "1/1 [==============================] - 0s 27ms/step\n",
      "Online training on instance 1017\n",
      "1/1 - 0s - loss: 1.2505 - binary_accuracy: 0.3125 - 16ms/epoch - 16ms/step\n"
     ]
    },
    {
     "name": "stderr",
     "output_type": "stream",
     "text": [
      " 71%|███████▏  | 1018/1425 [03:28<01:13,  5.53it/s]"
     ]
    },
    {
     "name": "stdout",
     "output_type": "stream",
     "text": [
      "Inferencing on instance 1018\n",
      "1/1 [==============================] - 0s 30ms/step\n",
      "Online training on instance 1018\n",
      "1/1 - 0s - loss: 1.2749 - binary_accuracy: 0.2500 - 14ms/epoch - 14ms/step\n"
     ]
    },
    {
     "name": "stderr",
     "output_type": "stream",
     "text": [
      " 72%|███████▏  | 1019/1425 [03:28<01:12,  5.61it/s]"
     ]
    },
    {
     "name": "stdout",
     "output_type": "stream",
     "text": [
      "Inferencing on instance 1019\n",
      "1/1 [==============================] - 0s 44ms/step\n",
      "Online training on instance 1019\n",
      "1/1 - 0s - loss: 1.4228 - binary_accuracy: 0.1875 - 14ms/epoch - 14ms/step\n"
     ]
    },
    {
     "name": "stderr",
     "output_type": "stream",
     "text": [
      " 72%|███████▏  | 1020/1425 [03:29<01:15,  5.37it/s]"
     ]
    },
    {
     "name": "stdout",
     "output_type": "stream",
     "text": [
      "Inferencing on instance 1020\n",
      "1/1 [==============================] - 0s 34ms/step\n",
      "Online training on instance 1020\n",
      "1/1 - 0s - loss: 1.4228 - binary_accuracy: 0.1250 - 18ms/epoch - 18ms/step\n"
     ]
    },
    {
     "name": "stderr",
     "output_type": "stream",
     "text": [
      " 72%|███████▏  | 1021/1425 [03:29<01:15,  5.36it/s]"
     ]
    },
    {
     "name": "stdout",
     "output_type": "stream",
     "text": [
      "Inferencing on instance 1021\n",
      "1/1 [==============================] - 0s 33ms/step\n",
      "Online training on instance 1021\n",
      "1/1 - 0s - loss: 1.3999 - binary_accuracy: 0.0625 - 15ms/epoch - 15ms/step\n"
     ]
    },
    {
     "name": "stderr",
     "output_type": "stream",
     "text": [
      " 72%|███████▏  | 1022/1425 [03:29<01:15,  5.33it/s]"
     ]
    },
    {
     "name": "stdout",
     "output_type": "stream",
     "text": [
      "Inferencing on instance 1022\n",
      "1/1 [==============================] - 0s 38ms/step\n",
      "Online training on instance 1022\n",
      "1/1 - 0s - loss: 1.4216 - binary_accuracy: 0.0625 - 16ms/epoch - 16ms/step\n"
     ]
    },
    {
     "name": "stderr",
     "output_type": "stream",
     "text": [
      " 72%|███████▏  | 1023/1425 [03:29<01:16,  5.26it/s]"
     ]
    },
    {
     "name": "stdout",
     "output_type": "stream",
     "text": [
      "Inferencing on instance 1023\n",
      "1/1 [==============================] - 0s 35ms/step\n",
      "Online training on instance 1023\n",
      "1/1 - 0s - loss: 1.3687 - binary_accuracy: 0.0000e+00 - 18ms/epoch - 18ms/step\n"
     ]
    },
    {
     "name": "stderr",
     "output_type": "stream",
     "text": [
      " 72%|███████▏  | 1024/1425 [03:29<01:20,  4.99it/s]"
     ]
    },
    {
     "name": "stdout",
     "output_type": "stream",
     "text": [
      "Inferencing on instance 1024\n",
      "1/1 [==============================] - 0s 36ms/step\n",
      "Online training on instance 1024\n",
      "1/1 - 0s - loss: 1.3214 - binary_accuracy: 0.0625 - 18ms/epoch - 18ms/step\n"
     ]
    },
    {
     "name": "stderr",
     "output_type": "stream",
     "text": [
      " 72%|███████▏  | 1025/1425 [03:30<01:27,  4.58it/s]"
     ]
    },
    {
     "name": "stdout",
     "output_type": "stream",
     "text": [
      "Inferencing on instance 1025\n",
      "1/1 [==============================] - 0s 32ms/step\n",
      "Online training on instance 1025\n",
      "1/1 - 0s - loss: 1.3510 - binary_accuracy: 0.0625 - 15ms/epoch - 15ms/step\n"
     ]
    },
    {
     "name": "stderr",
     "output_type": "stream",
     "text": [
      " 72%|███████▏  | 1026/1425 [03:30<01:23,  4.80it/s]"
     ]
    },
    {
     "name": "stdout",
     "output_type": "stream",
     "text": [
      "Inferencing on instance 1026\n",
      "1/1 [==============================] - 0s 33ms/step\n",
      "Online training on instance 1026\n",
      "1/1 - 0s - loss: 1.2990 - binary_accuracy: 0.1250 - 18ms/epoch - 18ms/step\n"
     ]
    },
    {
     "name": "stderr",
     "output_type": "stream",
     "text": [
      " 72%|███████▏  | 1027/1425 [03:30<01:19,  5.00it/s]"
     ]
    },
    {
     "name": "stdout",
     "output_type": "stream",
     "text": [
      "Inferencing on instance 1027\n",
      "1/1 [==============================] - 0s 30ms/step\n",
      "Online training on instance 1027\n",
      "1/1 - 0s - loss: 1.2855 - binary_accuracy: 0.0625 - 15ms/epoch - 15ms/step\n"
     ]
    },
    {
     "name": "stderr",
     "output_type": "stream",
     "text": [
      " 72%|███████▏  | 1028/1425 [03:30<01:18,  5.05it/s]"
     ]
    },
    {
     "name": "stdout",
     "output_type": "stream",
     "text": [
      "Inferencing on instance 1028\n",
      "1/1 [==============================] - 0s 29ms/step\n",
      "Online training on instance 1028\n",
      "1/1 - 0s - loss: 1.2599 - binary_accuracy: 0.0000e+00 - 18ms/epoch - 18ms/step\n"
     ]
    },
    {
     "name": "stderr",
     "output_type": "stream",
     "text": [
      " 72%|███████▏  | 1029/1425 [03:30<01:16,  5.21it/s]"
     ]
    },
    {
     "name": "stdout",
     "output_type": "stream",
     "text": [
      "Inferencing on instance 1029\n",
      "1/1 [==============================] - 0s 51ms/step\n",
      "Online training on instance 1029\n",
      "1/1 - 0s - loss: 1.1946 - binary_accuracy: 0.1250 - 15ms/epoch - 15ms/step\n"
     ]
    },
    {
     "name": "stderr",
     "output_type": "stream",
     "text": [
      " 72%|███████▏  | 1030/1425 [03:31<01:21,  4.84it/s]"
     ]
    },
    {
     "name": "stdout",
     "output_type": "stream",
     "text": [
      "Inferencing on instance 1030\n",
      "1/1 [==============================] - 0s 30ms/step\n",
      "Online training on instance 1030\n",
      "1/1 - 0s - loss: 1.1651 - binary_accuracy: 0.2500 - 15ms/epoch - 15ms/step\n"
     ]
    },
    {
     "name": "stderr",
     "output_type": "stream",
     "text": [
      " 72%|███████▏  | 1031/1425 [03:31<01:16,  5.14it/s]"
     ]
    },
    {
     "name": "stdout",
     "output_type": "stream",
     "text": [
      "Inferencing on instance 1031\n",
      "1/1 [==============================] - 0s 32ms/step\n",
      "Online training on instance 1031\n",
      "1/1 - 0s - loss: 1.0765 - binary_accuracy: 0.2500 - 14ms/epoch - 14ms/step\n"
     ]
    },
    {
     "name": "stderr",
     "output_type": "stream",
     "text": [
      " 72%|███████▏  | 1032/1425 [03:31<01:15,  5.23it/s]"
     ]
    },
    {
     "name": "stdout",
     "output_type": "stream",
     "text": [
      "Inferencing on instance 1032\n",
      "1/1 [==============================] - 0s 32ms/step\n",
      "Online training on instance 1032\n",
      "1/1 - 0s - loss: 1.0298 - binary_accuracy: 0.2500 - 16ms/epoch - 16ms/step\n"
     ]
    },
    {
     "name": "stderr",
     "output_type": "stream",
     "text": [
      " 72%|███████▏  | 1033/1425 [03:31<01:12,  5.38it/s]"
     ]
    },
    {
     "name": "stdout",
     "output_type": "stream",
     "text": [
      "Inferencing on instance 1033\n",
      "1/1 [==============================] - 0s 32ms/step\n",
      "Online training on instance 1033\n",
      "1/1 - 0s - loss: 0.9365 - binary_accuracy: 0.4375 - 16ms/epoch - 16ms/step\n"
     ]
    },
    {
     "name": "stderr",
     "output_type": "stream",
     "text": [
      " 73%|███████▎  | 1034/1425 [03:31<01:12,  5.43it/s]"
     ]
    },
    {
     "name": "stdout",
     "output_type": "stream",
     "text": [
      "Inferencing on instance 1034\n",
      "1/1 [==============================] - 0s 37ms/step\n",
      "Online training on instance 1034\n",
      "1/1 - 0s - loss: 0.9304 - binary_accuracy: 0.4375 - 17ms/epoch - 17ms/step\n"
     ]
    },
    {
     "name": "stderr",
     "output_type": "stream",
     "text": [
      " 73%|███████▎  | 1035/1425 [03:32<01:15,  5.15it/s]"
     ]
    },
    {
     "name": "stdout",
     "output_type": "stream",
     "text": [
      "Inferencing on instance 1035\n",
      "1/1 [==============================] - 0s 30ms/step\n",
      "Online training on instance 1035\n",
      "1/1 - 0s - loss: 0.8668 - binary_accuracy: 0.4375 - 14ms/epoch - 14ms/step\n"
     ]
    },
    {
     "name": "stderr",
     "output_type": "stream",
     "text": [
      " 73%|███████▎  | 1036/1425 [03:32<01:13,  5.33it/s]"
     ]
    },
    {
     "name": "stdout",
     "output_type": "stream",
     "text": [
      "Inferencing on instance 1036\n",
      "1/1 [==============================] - 0s 30ms/step\n",
      "Online training on instance 1036\n",
      "1/1 - 0s - loss: 0.8489 - binary_accuracy: 0.5000 - 16ms/epoch - 16ms/step\n"
     ]
    },
    {
     "name": "stderr",
     "output_type": "stream",
     "text": [
      " 73%|███████▎  | 1037/1425 [03:32<01:11,  5.46it/s]"
     ]
    },
    {
     "name": "stdout",
     "output_type": "stream",
     "text": [
      "Inferencing on instance 1037\n",
      "1/1 [==============================] - 0s 36ms/step\n",
      "Online training on instance 1037\n",
      "1/1 - 0s - loss: 0.8129 - binary_accuracy: 0.6250 - 15ms/epoch - 15ms/step\n"
     ]
    },
    {
     "name": "stderr",
     "output_type": "stream",
     "text": [
      " 73%|███████▎  | 1038/1425 [03:32<01:11,  5.43it/s]"
     ]
    },
    {
     "name": "stdout",
     "output_type": "stream",
     "text": [
      "Inferencing on instance 1038\n",
      "1/1 [==============================] - 0s 35ms/step\n",
      "Online training on instance 1038\n",
      "1/1 - 0s - loss: 0.7364 - binary_accuracy: 0.7500 - 14ms/epoch - 14ms/step\n"
     ]
    },
    {
     "name": "stderr",
     "output_type": "stream",
     "text": [
      " 73%|███████▎  | 1039/1425 [03:32<01:12,  5.34it/s]"
     ]
    },
    {
     "name": "stdout",
     "output_type": "stream",
     "text": [
      "Inferencing on instance 1039\n",
      "1/1 [==============================] - 0s 26ms/step\n",
      "Online training on instance 1039\n",
      "1/1 - 0s - loss: 0.7326 - binary_accuracy: 0.7500 - 19ms/epoch - 19ms/step\n"
     ]
    },
    {
     "name": "stderr",
     "output_type": "stream",
     "text": [
      " 73%|███████▎  | 1040/1425 [03:32<01:14,  5.16it/s]"
     ]
    },
    {
     "name": "stdout",
     "output_type": "stream",
     "text": [
      "Inferencing on instance 1040\n",
      "1/1 [==============================] - 0s 31ms/step\n",
      "Online training on instance 1040\n",
      "1/1 - 0s - loss: 0.6444 - binary_accuracy: 0.8125 - 15ms/epoch - 15ms/step\n"
     ]
    },
    {
     "name": "stderr",
     "output_type": "stream",
     "text": [
      " 73%|███████▎  | 1041/1425 [03:33<01:12,  5.30it/s]"
     ]
    },
    {
     "name": "stdout",
     "output_type": "stream",
     "text": [
      "Inferencing on instance 1041\n",
      "1/1 [==============================] - 0s 33ms/step\n",
      "Online training on instance 1041\n",
      "1/1 - 0s - loss: 0.5576 - binary_accuracy: 0.9375 - 15ms/epoch - 15ms/step\n"
     ]
    },
    {
     "name": "stderr",
     "output_type": "stream",
     "text": [
      " 73%|███████▎  | 1042/1425 [03:33<01:11,  5.39it/s]"
     ]
    },
    {
     "name": "stdout",
     "output_type": "stream",
     "text": [
      "Inferencing on instance 1042\n",
      "1/1 [==============================] - 0s 31ms/step\n",
      "Online training on instance 1042\n",
      "1/1 - 0s - loss: 0.4966 - binary_accuracy: 0.9375 - 14ms/epoch - 14ms/step\n"
     ]
    },
    {
     "name": "stderr",
     "output_type": "stream",
     "text": [
      " 73%|███████▎  | 1043/1425 [03:33<01:09,  5.50it/s]"
     ]
    },
    {
     "name": "stdout",
     "output_type": "stream",
     "text": [
      "Inferencing on instance 1043\n",
      "1/1 [==============================] - 0s 33ms/step\n",
      "Online training on instance 1043\n",
      "1/1 - 0s - loss: 0.4881 - binary_accuracy: 0.9375 - 15ms/epoch - 15ms/step\n"
     ]
    },
    {
     "name": "stderr",
     "output_type": "stream",
     "text": [
      " 73%|███████▎  | 1044/1425 [03:33<01:09,  5.48it/s]"
     ]
    },
    {
     "name": "stdout",
     "output_type": "stream",
     "text": [
      "Inferencing on instance 1044\n",
      "1/1 [==============================] - 0s 31ms/step\n",
      "Online training on instance 1044\n",
      "1/1 - 0s - loss: 0.4759 - binary_accuracy: 0.9375 - 14ms/epoch - 14ms/step\n"
     ]
    },
    {
     "name": "stderr",
     "output_type": "stream",
     "text": [
      " 73%|███████▎  | 1045/1425 [03:33<01:13,  5.18it/s]"
     ]
    },
    {
     "name": "stdout",
     "output_type": "stream",
     "text": [
      "Inferencing on instance 1045\n",
      "1/1 [==============================] - 0s 35ms/step\n",
      "Online training on instance 1045\n",
      "1/1 - 0s - loss: 0.4672 - binary_accuracy: 1.0000 - 15ms/epoch - 15ms/step\n"
     ]
    },
    {
     "name": "stderr",
     "output_type": "stream",
     "text": [
      " 73%|███████▎  | 1046/1425 [03:34<01:11,  5.31it/s]"
     ]
    },
    {
     "name": "stdout",
     "output_type": "stream",
     "text": [
      "Inferencing on instance 1046\n",
      "1/1 [==============================] - 0s 40ms/step\n",
      "Online training on instance 1046\n",
      "1/1 - 0s - loss: 0.4744 - binary_accuracy: 1.0000 - 14ms/epoch - 14ms/step\n"
     ]
    },
    {
     "name": "stderr",
     "output_type": "stream",
     "text": [
      " 73%|███████▎  | 1047/1425 [03:34<01:07,  5.56it/s]"
     ]
    },
    {
     "name": "stdout",
     "output_type": "stream",
     "text": [
      "Inferencing on instance 1047\n",
      "1/1 [==============================] - 0s 27ms/step\n",
      "Online training on instance 1047\n",
      "1/1 - 0s - loss: 0.4621 - binary_accuracy: 1.0000 - 15ms/epoch - 15ms/step\n"
     ]
    },
    {
     "name": "stderr",
     "output_type": "stream",
     "text": [
      " 74%|███████▎  | 1048/1425 [03:34<01:08,  5.47it/s]"
     ]
    },
    {
     "name": "stdout",
     "output_type": "stream",
     "text": [
      "Inferencing on instance 1048\n",
      "1/1 [==============================] - 0s 27ms/step\n",
      "Online training on instance 1048\n",
      "1/1 - 0s - loss: 0.4424 - binary_accuracy: 1.0000 - 18ms/epoch - 18ms/step\n"
     ]
    },
    {
     "name": "stderr",
     "output_type": "stream",
     "text": [
      " 74%|███████▎  | 1049/1425 [03:34<01:10,  5.33it/s]"
     ]
    },
    {
     "name": "stdout",
     "output_type": "stream",
     "text": [
      "Inferencing on instance 1049\n",
      "1/1 [==============================] - 0s 27ms/step\n",
      "Online training on instance 1049\n",
      "1/1 - 0s - loss: 0.4508 - binary_accuracy: 0.9375 - 18ms/epoch - 18ms/step\n"
     ]
    },
    {
     "name": "stderr",
     "output_type": "stream",
     "text": [
      " 74%|███████▎  | 1050/1425 [03:34<01:13,  5.10it/s]"
     ]
    },
    {
     "name": "stdout",
     "output_type": "stream",
     "text": [
      "Inferencing on instance 1050\n",
      "1/1 [==============================] - 0s 32ms/step\n",
      "Online training on instance 1050\n",
      "1/1 - 0s - loss: 0.4804 - binary_accuracy: 1.0000 - 14ms/epoch - 14ms/step\n"
     ]
    },
    {
     "name": "stderr",
     "output_type": "stream",
     "text": [
      " 74%|███████▍  | 1051/1425 [03:35<01:13,  5.12it/s]"
     ]
    },
    {
     "name": "stdout",
     "output_type": "stream",
     "text": [
      "Inferencing on instance 1051\n",
      "1/1 [==============================] - 0s 37ms/step\n",
      "Online training on instance 1051\n",
      "1/1 - 0s - loss: 0.4547 - binary_accuracy: 1.0000 - 14ms/epoch - 14ms/step\n"
     ]
    },
    {
     "name": "stderr",
     "output_type": "stream",
     "text": [
      " 74%|███████▍  | 1052/1425 [03:35<01:13,  5.08it/s]"
     ]
    },
    {
     "name": "stdout",
     "output_type": "stream",
     "text": [
      "Inferencing on instance 1052\n",
      "1/1 [==============================] - 0s 33ms/step\n",
      "Online training on instance 1052\n",
      "1/1 - 0s - loss: 0.4500 - binary_accuracy: 1.0000 - 16ms/epoch - 16ms/step\n"
     ]
    },
    {
     "name": "stderr",
     "output_type": "stream",
     "text": [
      " 74%|███████▍  | 1053/1425 [03:35<01:12,  5.13it/s]"
     ]
    },
    {
     "name": "stdout",
     "output_type": "stream",
     "text": [
      "Inferencing on instance 1053\n",
      "1/1 [==============================] - 0s 31ms/step\n",
      "Online training on instance 1053\n",
      "1/1 - 0s - loss: 0.4148 - binary_accuracy: 1.0000 - 15ms/epoch - 15ms/step\n"
     ]
    },
    {
     "name": "stderr",
     "output_type": "stream",
     "text": [
      " 74%|███████▍  | 1054/1425 [03:35<01:11,  5.19it/s]"
     ]
    },
    {
     "name": "stdout",
     "output_type": "stream",
     "text": [
      "Inferencing on instance 1054\n",
      "1/1 [==============================] - 0s 30ms/step\n",
      "Online training on instance 1054\n",
      "1/1 - 0s - loss: 0.4283 - binary_accuracy: 1.0000 - 15ms/epoch - 15ms/step\n"
     ]
    },
    {
     "name": "stderr",
     "output_type": "stream",
     "text": [
      " 74%|███████▍  | 1055/1425 [03:35<01:09,  5.30it/s]"
     ]
    },
    {
     "name": "stdout",
     "output_type": "stream",
     "text": [
      "Inferencing on instance 1055\n",
      "1/1 [==============================] - 0s 47ms/step\n",
      "Online training on instance 1055\n",
      "1/1 - 0s - loss: 0.4336 - binary_accuracy: 1.0000 - 14ms/epoch - 14ms/step\n"
     ]
    },
    {
     "name": "stderr",
     "output_type": "stream",
     "text": [
      " 74%|███████▍  | 1056/1425 [03:35<01:12,  5.10it/s]"
     ]
    },
    {
     "name": "stdout",
     "output_type": "stream",
     "text": [
      "Inferencing on instance 1056\n",
      "1/1 [==============================] - 0s 27ms/step\n",
      "Online training on instance 1056\n",
      "1/1 - 0s - loss: 0.4029 - binary_accuracy: 1.0000 - 15ms/epoch - 15ms/step\n"
     ]
    },
    {
     "name": "stderr",
     "output_type": "stream",
     "text": [
      " 74%|███████▍  | 1057/1425 [03:36<01:11,  5.13it/s]"
     ]
    },
    {
     "name": "stdout",
     "output_type": "stream",
     "text": [
      "Inferencing on instance 1057\n",
      "1/1 [==============================] - 0s 35ms/step\n",
      "Online training on instance 1057\n",
      "1/1 - 0s - loss: 0.4004 - binary_accuracy: 1.0000 - 17ms/epoch - 17ms/step\n"
     ]
    },
    {
     "name": "stderr",
     "output_type": "stream",
     "text": [
      " 74%|███████▍  | 1058/1425 [03:36<01:09,  5.26it/s]"
     ]
    },
    {
     "name": "stdout",
     "output_type": "stream",
     "text": [
      "Inferencing on instance 1058\n",
      "1/1 [==============================] - 0s 37ms/step\n",
      "Online training on instance 1058\n",
      "1/1 - 0s - loss: 0.4129 - binary_accuracy: 1.0000 - 14ms/epoch - 14ms/step\n"
     ]
    },
    {
     "name": "stderr",
     "output_type": "stream",
     "text": [
      " 74%|███████▍  | 1059/1425 [03:36<01:08,  5.35it/s]"
     ]
    },
    {
     "name": "stdout",
     "output_type": "stream",
     "text": [
      "Inferencing on instance 1059\n",
      "1/1 [==============================] - 0s 35ms/step\n",
      "Online training on instance 1059\n",
      "1/1 - 0s - loss: 0.3945 - binary_accuracy: 1.0000 - 14ms/epoch - 14ms/step\n"
     ]
    },
    {
     "name": "stderr",
     "output_type": "stream",
     "text": [
      " 74%|███████▍  | 1060/1425 [03:36<01:08,  5.32it/s]"
     ]
    },
    {
     "name": "stdout",
     "output_type": "stream",
     "text": [
      "Inferencing on instance 1060\n",
      "1/1 [==============================] - 0s 31ms/step\n",
      "Online training on instance 1060\n",
      "1/1 - 0s - loss: 0.3987 - binary_accuracy: 1.0000 - 15ms/epoch - 15ms/step\n"
     ]
    },
    {
     "name": "stderr",
     "output_type": "stream",
     "text": [
      " 74%|███████▍  | 1061/1425 [03:36<01:06,  5.50it/s]"
     ]
    },
    {
     "name": "stdout",
     "output_type": "stream",
     "text": [
      "Inferencing on instance 1061\n",
      "1/1 [==============================] - 0s 40ms/step\n",
      "Online training on instance 1061\n",
      "1/1 - 0s - loss: 0.3867 - binary_accuracy: 1.0000 - 14ms/epoch - 14ms/step\n"
     ]
    },
    {
     "name": "stderr",
     "output_type": "stream",
     "text": [
      " 75%|███████▍  | 1062/1425 [03:37<01:08,  5.28it/s]"
     ]
    },
    {
     "name": "stdout",
     "output_type": "stream",
     "text": [
      "Inferencing on instance 1062\n",
      "1/1 [==============================] - 0s 29ms/step\n",
      "Online training on instance 1062\n",
      "1/1 - 0s - loss: 0.3945 - binary_accuracy: 1.0000 - 15ms/epoch - 15ms/step\n"
     ]
    },
    {
     "name": "stderr",
     "output_type": "stream",
     "text": [
      " 75%|███████▍  | 1063/1425 [03:37<01:07,  5.40it/s]"
     ]
    },
    {
     "name": "stdout",
     "output_type": "stream",
     "text": [
      "Inferencing on instance 1063\n",
      "1/1 [==============================] - 0s 32ms/step\n",
      "Online training on instance 1063\n",
      "1/1 - 0s - loss: 0.3737 - binary_accuracy: 1.0000 - 15ms/epoch - 15ms/step\n"
     ]
    },
    {
     "name": "stderr",
     "output_type": "stream",
     "text": [
      " 75%|███████▍  | 1064/1425 [03:37<01:05,  5.48it/s]"
     ]
    },
    {
     "name": "stdout",
     "output_type": "stream",
     "text": [
      "Inferencing on instance 1064\n",
      "1/1 [==============================] - 0s 31ms/step\n",
      "Online training on instance 1064\n",
      "1/1 - 0s - loss: 0.3903 - binary_accuracy: 1.0000 - 14ms/epoch - 14ms/step\n"
     ]
    },
    {
     "name": "stderr",
     "output_type": "stream",
     "text": [
      " 75%|███████▍  | 1065/1425 [03:37<01:06,  5.45it/s]"
     ]
    },
    {
     "name": "stdout",
     "output_type": "stream",
     "text": [
      "Inferencing on instance 1065\n",
      "1/1 [==============================] - 0s 48ms/step\n",
      "Online training on instance 1065\n",
      "1/1 - 0s - loss: 0.4447 - binary_accuracy: 0.9375 - 15ms/epoch - 15ms/step\n"
     ]
    },
    {
     "name": "stderr",
     "output_type": "stream",
     "text": [
      " 75%|███████▍  | 1066/1425 [03:37<01:14,  4.84it/s]"
     ]
    },
    {
     "name": "stdout",
     "output_type": "stream",
     "text": [
      "Inferencing on instance 1066\n",
      "1/1 [==============================] - 0s 38ms/step\n",
      "Online training on instance 1066\n",
      "1/1 - 0s - loss: 0.5065 - binary_accuracy: 0.8750 - 21ms/epoch - 21ms/step\n"
     ]
    },
    {
     "name": "stderr",
     "output_type": "stream",
     "text": [
      " 75%|███████▍  | 1067/1425 [03:38<01:16,  4.69it/s]"
     ]
    },
    {
     "name": "stdout",
     "output_type": "stream",
     "text": [
      "Inferencing on instance 1067\n",
      "1/1 [==============================] - 0s 32ms/step\n",
      "Online training on instance 1067\n",
      "1/1 - 0s - loss: 0.5853 - binary_accuracy: 0.8125 - 13ms/epoch - 13ms/step\n"
     ]
    },
    {
     "name": "stderr",
     "output_type": "stream",
     "text": [
      " 75%|███████▍  | 1068/1425 [03:38<01:12,  4.94it/s]"
     ]
    },
    {
     "name": "stdout",
     "output_type": "stream",
     "text": [
      "Inferencing on instance 1068\n",
      "1/1 [==============================] - 0s 33ms/step\n",
      "Online training on instance 1068\n",
      "1/1 - 0s - loss: 0.6137 - binary_accuracy: 0.7500 - 16ms/epoch - 16ms/step\n"
     ]
    },
    {
     "name": "stderr",
     "output_type": "stream",
     "text": [
      " 75%|███████▌  | 1069/1425 [03:38<01:08,  5.19it/s]"
     ]
    },
    {
     "name": "stdout",
     "output_type": "stream",
     "text": [
      "Inferencing on instance 1069\n",
      "1/1 [==============================] - 0s 30ms/step\n",
      "Online training on instance 1069\n",
      "1/1 - 0s - loss: 0.7026 - binary_accuracy: 0.6875 - 15ms/epoch - 15ms/step\n"
     ]
    },
    {
     "name": "stderr",
     "output_type": "stream",
     "text": [
      " 75%|███████▌  | 1070/1425 [03:38<01:08,  5.17it/s]"
     ]
    },
    {
     "name": "stdout",
     "output_type": "stream",
     "text": [
      "Inferencing on instance 1070\n",
      "1/1 [==============================] - 0s 47ms/step\n",
      "Online training on instance 1070\n",
      "1/1 - 0s - loss: 0.8111 - binary_accuracy: 0.6250 - 15ms/epoch - 15ms/step\n"
     ]
    },
    {
     "name": "stderr",
     "output_type": "stream",
     "text": [
      " 75%|███████▌  | 1071/1425 [03:38<01:10,  5.00it/s]"
     ]
    },
    {
     "name": "stdout",
     "output_type": "stream",
     "text": [
      "Inferencing on instance 1071\n",
      "1/1 [==============================] - 0s 28ms/step\n",
      "Online training on instance 1071\n",
      "1/1 - 0s - loss: 0.8398 - binary_accuracy: 0.5625 - 15ms/epoch - 15ms/step\n"
     ]
    },
    {
     "name": "stderr",
     "output_type": "stream",
     "text": [
      " 75%|███████▌  | 1072/1425 [03:39<01:08,  5.15it/s]"
     ]
    },
    {
     "name": "stdout",
     "output_type": "stream",
     "text": [
      "Inferencing on instance 1072\n",
      "1/1 [==============================] - 0s 31ms/step\n",
      "Online training on instance 1072\n",
      "1/1 - 0s - loss: 0.8622 - binary_accuracy: 0.5000 - 16ms/epoch - 16ms/step\n"
     ]
    },
    {
     "name": "stderr",
     "output_type": "stream",
     "text": [
      " 75%|███████▌  | 1073/1425 [03:39<01:08,  5.16it/s]"
     ]
    },
    {
     "name": "stdout",
     "output_type": "stream",
     "text": [
      "Inferencing on instance 1073\n",
      "1/1 [==============================] - 0s 32ms/step\n",
      "Online training on instance 1073\n",
      "1/1 - 0s - loss: 0.9320 - binary_accuracy: 0.4375 - 18ms/epoch - 18ms/step\n"
     ]
    },
    {
     "name": "stderr",
     "output_type": "stream",
     "text": [
      " 75%|███████▌  | 1074/1425 [03:39<01:07,  5.24it/s]"
     ]
    },
    {
     "name": "stdout",
     "output_type": "stream",
     "text": [
      "Inferencing on instance 1074\n",
      "1/1 [==============================] - 0s 33ms/step\n",
      "Online training on instance 1074\n",
      "1/1 - 0s - loss: 1.0595 - binary_accuracy: 0.3750 - 16ms/epoch - 16ms/step\n"
     ]
    },
    {
     "name": "stderr",
     "output_type": "stream",
     "text": [
      " 75%|███████▌  | 1075/1425 [03:39<01:06,  5.29it/s]"
     ]
    },
    {
     "name": "stdout",
     "output_type": "stream",
     "text": [
      "Inferencing on instance 1075\n",
      "1/1 [==============================] - 0s 34ms/step\n",
      "Online training on instance 1075\n",
      "1/1 - 0s - loss: 1.0779 - binary_accuracy: 0.3125 - 22ms/epoch - 22ms/step\n"
     ]
    },
    {
     "name": "stderr",
     "output_type": "stream",
     "text": [
      " 76%|███████▌  | 1076/1425 [03:39<01:08,  5.08it/s]"
     ]
    },
    {
     "name": "stdout",
     "output_type": "stream",
     "text": [
      "Inferencing on instance 1076\n",
      "1/1 [==============================] - 0s 36ms/step\n",
      "Online training on instance 1076\n",
      "1/1 - 0s - loss: 1.0708 - binary_accuracy: 0.2500 - 15ms/epoch - 15ms/step\n"
     ]
    },
    {
     "name": "stderr",
     "output_type": "stream",
     "text": [
      " 76%|███████▌  | 1077/1425 [03:40<01:09,  5.02it/s]"
     ]
    },
    {
     "name": "stdout",
     "output_type": "stream",
     "text": [
      "Inferencing on instance 1077\n",
      "1/1 [==============================] - 0s 30ms/step\n",
      "Online training on instance 1077\n",
      "1/1 - 0s - loss: 1.2115 - binary_accuracy: 0.1875 - 14ms/epoch - 14ms/step\n"
     ]
    },
    {
     "name": "stderr",
     "output_type": "stream",
     "text": [
      " 76%|███████▌  | 1078/1425 [03:40<01:07,  5.15it/s]"
     ]
    },
    {
     "name": "stdout",
     "output_type": "stream",
     "text": [
      "Inferencing on instance 1078\n",
      "1/1 [==============================] - 0s 29ms/step\n",
      "Online training on instance 1078\n",
      "1/1 - 0s - loss: 1.2332 - binary_accuracy: 0.1250 - 15ms/epoch - 15ms/step\n"
     ]
    },
    {
     "name": "stderr",
     "output_type": "stream",
     "text": [
      " 76%|███████▌  | 1079/1425 [03:40<01:04,  5.33it/s]"
     ]
    },
    {
     "name": "stdout",
     "output_type": "stream",
     "text": [
      "Inferencing on instance 1079\n",
      "1/1 [==============================] - 0s 30ms/step\n",
      "Online training on instance 1079\n",
      "1/1 - 0s - loss: 1.3246 - binary_accuracy: 0.0625 - 15ms/epoch - 15ms/step\n"
     ]
    },
    {
     "name": "stderr",
     "output_type": "stream",
     "text": [
      " 76%|███████▌  | 1080/1425 [03:40<01:04,  5.38it/s]"
     ]
    },
    {
     "name": "stdout",
     "output_type": "stream",
     "text": [
      "Inferencing on instance 1080\n",
      "1/1 [==============================] - 0s 52ms/step\n",
      "Online training on instance 1080\n",
      "1/1 - 0s - loss: 1.2864 - binary_accuracy: 0.0000e+00 - 15ms/epoch - 15ms/step\n"
     ]
    },
    {
     "name": "stderr",
     "output_type": "stream",
     "text": [
      " 76%|███████▌  | 1081/1425 [03:40<01:07,  5.09it/s]"
     ]
    },
    {
     "name": "stdout",
     "output_type": "stream",
     "text": [
      "Inferencing on instance 1081\n",
      "1/1 [==============================] - 0s 31ms/step\n",
      "Online training on instance 1081\n",
      "1/1 - 0s - loss: 1.2198 - binary_accuracy: 0.0000e+00 - 15ms/epoch - 15ms/step\n"
     ]
    },
    {
     "name": "stderr",
     "output_type": "stream",
     "text": [
      " 76%|███████▌  | 1082/1425 [03:40<01:05,  5.21it/s]"
     ]
    },
    {
     "name": "stdout",
     "output_type": "stream",
     "text": [
      "Inferencing on instance 1082\n",
      "1/1 [==============================] - 0s 37ms/step\n",
      "Online training on instance 1082\n",
      "1/1 - 0s - loss: 1.2459 - binary_accuracy: 0.0000e+00 - 16ms/epoch - 16ms/step\n"
     ]
    },
    {
     "name": "stderr",
     "output_type": "stream",
     "text": [
      " 76%|███████▌  | 1083/1425 [03:41<01:05,  5.21it/s]"
     ]
    },
    {
     "name": "stdout",
     "output_type": "stream",
     "text": [
      "Inferencing on instance 1083\n",
      "1/1 [==============================] - 0s 33ms/step\n",
      "Online training on instance 1083\n",
      "1/1 - 0s - loss: 1.2349 - binary_accuracy: 0.0625 - 15ms/epoch - 15ms/step\n"
     ]
    },
    {
     "name": "stderr",
     "output_type": "stream",
     "text": [
      " 76%|███████▌  | 1084/1425 [03:41<01:04,  5.26it/s]"
     ]
    },
    {
     "name": "stdout",
     "output_type": "stream",
     "text": [
      "Inferencing on instance 1084\n",
      "1/1 [==============================] - 0s 31ms/step\n",
      "Online training on instance 1084\n",
      "1/1 - 0s - loss: 1.1871 - binary_accuracy: 0.0625 - 18ms/epoch - 18ms/step\n"
     ]
    },
    {
     "name": "stderr",
     "output_type": "stream",
     "text": [
      " 76%|███████▌  | 1085/1425 [03:41<01:03,  5.35it/s]"
     ]
    },
    {
     "name": "stdout",
     "output_type": "stream",
     "text": [
      "Inferencing on instance 1085\n",
      "1/1 [==============================] - 0s 31ms/step\n",
      "Online training on instance 1085\n",
      "1/1 - 0s - loss: 1.1951 - binary_accuracy: 0.0000e+00 - 14ms/epoch - 14ms/step\n"
     ]
    },
    {
     "name": "stderr",
     "output_type": "stream",
     "text": [
      " 76%|███████▌  | 1086/1425 [03:41<01:07,  5.01it/s]"
     ]
    },
    {
     "name": "stdout",
     "output_type": "stream",
     "text": [
      "Inferencing on instance 1086\n",
      "1/1 [==============================] - 0s 33ms/step\n",
      "Online training on instance 1086\n",
      "1/1 - 0s - loss: 1.1893 - binary_accuracy: 0.1250 - 14ms/epoch - 14ms/step\n"
     ]
    },
    {
     "name": "stderr",
     "output_type": "stream",
     "text": [
      " 76%|███████▋  | 1087/1425 [03:41<01:06,  5.06it/s]"
     ]
    },
    {
     "name": "stdout",
     "output_type": "stream",
     "text": [
      "Inferencing on instance 1087\n",
      "1/1 [==============================] - 0s 29ms/step\n",
      "Online training on instance 1087\n",
      "1/1 - 0s - loss: 1.1443 - binary_accuracy: 0.0000e+00 - 15ms/epoch - 15ms/step\n"
     ]
    },
    {
     "name": "stderr",
     "output_type": "stream",
     "text": [
      " 76%|███████▋  | 1088/1425 [03:42<01:04,  5.24it/s]"
     ]
    },
    {
     "name": "stdout",
     "output_type": "stream",
     "text": [
      "Inferencing on instance 1088\n",
      "1/1 [==============================] - 0s 32ms/step\n",
      "Online training on instance 1088\n",
      "1/1 - 0s - loss: 1.1133 - binary_accuracy: 0.0625 - 17ms/epoch - 17ms/step\n"
     ]
    },
    {
     "name": "stderr",
     "output_type": "stream",
     "text": [
      " 76%|███████▋  | 1089/1425 [03:42<01:03,  5.29it/s]"
     ]
    },
    {
     "name": "stdout",
     "output_type": "stream",
     "text": [
      "Inferencing on instance 1089\n",
      "1/1 [==============================] - 0s 26ms/step\n",
      "Online training on instance 1089\n",
      "1/1 - 0s - loss: 1.0769 - binary_accuracy: 0.1250 - 17ms/epoch - 17ms/step\n"
     ]
    },
    {
     "name": "stderr",
     "output_type": "stream",
     "text": [
      " 76%|███████▋  | 1090/1425 [03:42<01:03,  5.28it/s]"
     ]
    },
    {
     "name": "stdout",
     "output_type": "stream",
     "text": [
      "Inferencing on instance 1090\n",
      "1/1 [==============================] - 0s 55ms/step\n",
      "Online training on instance 1090\n",
      "1/1 - 0s - loss: 1.0677 - binary_accuracy: 0.1250 - 17ms/epoch - 17ms/step\n"
     ]
    },
    {
     "name": "stderr",
     "output_type": "stream",
     "text": [
      " 77%|███████▋  | 1091/1425 [03:42<01:09,  4.83it/s]"
     ]
    },
    {
     "name": "stdout",
     "output_type": "stream",
     "text": [
      "Inferencing on instance 1091\n",
      "1/1 [==============================] - 0s 43ms/step\n",
      "Online training on instance 1091\n",
      "1/1 - 0s - loss: 0.9993 - binary_accuracy: 0.1875 - 14ms/epoch - 14ms/step\n"
     ]
    },
    {
     "name": "stderr",
     "output_type": "stream",
     "text": [
      " 77%|███████▋  | 1092/1425 [03:42<01:10,  4.71it/s]"
     ]
    },
    {
     "name": "stdout",
     "output_type": "stream",
     "text": [
      "Inferencing on instance 1092\n",
      "1/1 [==============================] - 0s 31ms/step\n",
      "Online training on instance 1092\n",
      "1/1 - 0s - loss: 0.9212 - binary_accuracy: 0.3750 - 15ms/epoch - 15ms/step\n"
     ]
    },
    {
     "name": "stderr",
     "output_type": "stream",
     "text": [
      " 77%|███████▋  | 1093/1425 [03:43<01:07,  4.93it/s]"
     ]
    },
    {
     "name": "stdout",
     "output_type": "stream",
     "text": [
      "Inferencing on instance 1093\n",
      "1/1 [==============================] - 0s 31ms/step\n",
      "Online training on instance 1093\n",
      "1/1 - 0s - loss: 0.9101 - binary_accuracy: 0.3750 - 18ms/epoch - 18ms/step\n"
     ]
    },
    {
     "name": "stderr",
     "output_type": "stream",
     "text": [
      " 77%|███████▋  | 1094/1425 [03:43<01:04,  5.13it/s]"
     ]
    },
    {
     "name": "stdout",
     "output_type": "stream",
     "text": [
      "Inferencing on instance 1094\n",
      "1/1 [==============================] - 0s 32ms/step\n",
      "Online training on instance 1094\n",
      "1/1 - 0s - loss: 0.8799 - binary_accuracy: 0.3750 - 15ms/epoch - 15ms/step\n"
     ]
    },
    {
     "name": "stderr",
     "output_type": "stream",
     "text": [
      " 77%|███████▋  | 1095/1425 [03:43<01:03,  5.23it/s]"
     ]
    },
    {
     "name": "stdout",
     "output_type": "stream",
     "text": [
      "Inferencing on instance 1095\n",
      "1/1 [==============================] - 0s 39ms/step\n",
      "Online training on instance 1095\n",
      "1/1 - 0s - loss: 0.8504 - binary_accuracy: 0.5000 - 14ms/epoch - 14ms/step\n"
     ]
    },
    {
     "name": "stderr",
     "output_type": "stream",
     "text": [
      " 77%|███████▋  | 1096/1425 [03:43<01:06,  4.98it/s]"
     ]
    },
    {
     "name": "stdout",
     "output_type": "stream",
     "text": [
      "Inferencing on instance 1096\n",
      "1/1 [==============================] - 0s 41ms/step\n",
      "Online training on instance 1096\n",
      "1/1 - 0s - loss: 0.7810 - binary_accuracy: 0.5000 - 17ms/epoch - 17ms/step\n"
     ]
    },
    {
     "name": "stderr",
     "output_type": "stream",
     "text": [
      " 77%|███████▋  | 1097/1425 [03:43<01:06,  4.94it/s]"
     ]
    },
    {
     "name": "stdout",
     "output_type": "stream",
     "text": [
      "Inferencing on instance 1097\n",
      "1/1 [==============================] - 0s 31ms/step\n",
      "Online training on instance 1097\n",
      "1/1 - 0s - loss: 0.7921 - binary_accuracy: 0.6250 - 15ms/epoch - 15ms/step\n"
     ]
    },
    {
     "name": "stderr",
     "output_type": "stream",
     "text": [
      " 77%|███████▋  | 1098/1425 [03:44<01:02,  5.23it/s]"
     ]
    },
    {
     "name": "stdout",
     "output_type": "stream",
     "text": [
      "Inferencing on instance 1098\n",
      "1/1 [==============================] - 0s 34ms/step\n",
      "Online training on instance 1098\n",
      "1/1 - 0s - loss: 0.7771 - binary_accuracy: 0.6250 - 19ms/epoch - 19ms/step\n"
     ]
    },
    {
     "name": "stderr",
     "output_type": "stream",
     "text": [
      " 77%|███████▋  | 1099/1425 [03:44<01:02,  5.22it/s]"
     ]
    },
    {
     "name": "stdout",
     "output_type": "stream",
     "text": [
      "Inferencing on instance 1099\n",
      "1/1 [==============================] - 0s 39ms/step\n",
      "Online training on instance 1099\n",
      "1/1 - 0s - loss: 0.7387 - binary_accuracy: 0.8125 - 14ms/epoch - 14ms/step\n"
     ]
    },
    {
     "name": "stderr",
     "output_type": "stream",
     "text": [
      " 77%|███████▋  | 1100/1425 [03:44<01:03,  5.12it/s]"
     ]
    },
    {
     "name": "stdout",
     "output_type": "stream",
     "text": [
      "Inferencing on instance 1100\n",
      "1/1 [==============================] - 0s 45ms/step\n",
      "Online training on instance 1100\n",
      "1/1 - 0s - loss: 0.6275 - binary_accuracy: 0.8750 - 16ms/epoch - 16ms/step\n"
     ]
    },
    {
     "name": "stderr",
     "output_type": "stream",
     "text": [
      " 77%|███████▋  | 1101/1425 [03:44<01:07,  4.82it/s]"
     ]
    },
    {
     "name": "stdout",
     "output_type": "stream",
     "text": [
      "Inferencing on instance 1101\n",
      "1/1 [==============================] - 0s 37ms/step\n",
      "Online training on instance 1101\n",
      "1/1 - 0s - loss: 0.5755 - binary_accuracy: 0.9375 - 18ms/epoch - 18ms/step\n"
     ]
    },
    {
     "name": "stderr",
     "output_type": "stream",
     "text": [
      " 77%|███████▋  | 1102/1425 [03:44<01:10,  4.59it/s]"
     ]
    },
    {
     "name": "stdout",
     "output_type": "stream",
     "text": [
      "Inferencing on instance 1102\n",
      "1/1 [==============================] - 0s 43ms/step\n",
      "Online training on instance 1102\n",
      "1/1 - 0s - loss: 0.5590 - binary_accuracy: 0.9375 - 19ms/epoch - 19ms/step\n"
     ]
    },
    {
     "name": "stderr",
     "output_type": "stream",
     "text": [
      " 77%|███████▋  | 1103/1425 [03:45<01:11,  4.53it/s]"
     ]
    },
    {
     "name": "stdout",
     "output_type": "stream",
     "text": [
      "Inferencing on instance 1103\n",
      "1/1 [==============================] - 0s 43ms/step\n",
      "Online training on instance 1103\n",
      "1/1 - 0s - loss: 0.5180 - binary_accuracy: 1.0000 - 16ms/epoch - 16ms/step\n"
     ]
    },
    {
     "name": "stderr",
     "output_type": "stream",
     "text": [
      " 77%|███████▋  | 1104/1425 [03:45<01:11,  4.47it/s]"
     ]
    },
    {
     "name": "stdout",
     "output_type": "stream",
     "text": [
      "Inferencing on instance 1104\n",
      "1/1 [==============================] - 0s 49ms/step\n",
      "Online training on instance 1104\n",
      "1/1 - 0s - loss: 0.4941 - binary_accuracy: 1.0000 - 16ms/epoch - 16ms/step\n"
     ]
    },
    {
     "name": "stderr",
     "output_type": "stream",
     "text": [
      " 78%|███████▊  | 1105/1425 [03:45<01:12,  4.43it/s]"
     ]
    },
    {
     "name": "stdout",
     "output_type": "stream",
     "text": [
      "Inferencing on instance 1105\n",
      "1/1 [==============================] - 0s 44ms/step\n",
      "Online training on instance 1105\n",
      "1/1 - 0s - loss: 0.5269 - binary_accuracy: 0.9375 - 18ms/epoch - 18ms/step\n"
     ]
    },
    {
     "name": "stderr",
     "output_type": "stream",
     "text": [
      " 78%|███████▊  | 1106/1425 [03:45<01:11,  4.43it/s]"
     ]
    },
    {
     "name": "stdout",
     "output_type": "stream",
     "text": [
      "Inferencing on instance 1106\n",
      "1/1 [==============================] - 0s 41ms/step\n",
      "Online training on instance 1106\n",
      "1/1 - 0s - loss: 0.5058 - binary_accuracy: 1.0000 - 19ms/epoch - 19ms/step\n"
     ]
    },
    {
     "name": "stderr",
     "output_type": "stream",
     "text": [
      " 78%|███████▊  | 1107/1425 [03:46<01:16,  4.18it/s]"
     ]
    },
    {
     "name": "stdout",
     "output_type": "stream",
     "text": [
      "Inferencing on instance 1107\n",
      "1/1 [==============================] - 0s 47ms/step\n",
      "Online training on instance 1107\n",
      "1/1 - 0s - loss: 0.4890 - binary_accuracy: 1.0000 - 20ms/epoch - 20ms/step\n"
     ]
    },
    {
     "name": "stderr",
     "output_type": "stream",
     "text": [
      " 78%|███████▊  | 1108/1425 [03:46<01:16,  4.13it/s]"
     ]
    },
    {
     "name": "stdout",
     "output_type": "stream",
     "text": [
      "Inferencing on instance 1108\n",
      "1/1 [==============================] - 0s 49ms/step\n",
      "Online training on instance 1108\n",
      "1/1 - 0s - loss: 0.5284 - binary_accuracy: 0.9375 - 20ms/epoch - 20ms/step\n"
     ]
    },
    {
     "name": "stderr",
     "output_type": "stream",
     "text": [
      " 78%|███████▊  | 1109/1425 [03:46<01:15,  4.17it/s]"
     ]
    },
    {
     "name": "stdout",
     "output_type": "stream",
     "text": [
      "Inferencing on instance 1109\n",
      "1/1 [==============================] - 0s 38ms/step\n",
      "Online training on instance 1109\n",
      "1/1 - 0s - loss: 0.5714 - binary_accuracy: 0.8750 - 27ms/epoch - 27ms/step\n"
     ]
    },
    {
     "name": "stderr",
     "output_type": "stream",
     "text": [
      " 78%|███████▊  | 1110/1425 [03:46<01:17,  4.07it/s]"
     ]
    },
    {
     "name": "stdout",
     "output_type": "stream",
     "text": [
      "Inferencing on instance 1110\n",
      "1/1 [==============================] - 0s 39ms/step\n",
      "Online training on instance 1110\n",
      "1/1 - 0s - loss: 0.6039 - binary_accuracy: 0.8125 - 18ms/epoch - 18ms/step\n"
     ]
    },
    {
     "name": "stderr",
     "output_type": "stream",
     "text": [
      " 78%|███████▊  | 1111/1425 [03:47<01:15,  4.15it/s]"
     ]
    },
    {
     "name": "stdout",
     "output_type": "stream",
     "text": [
      "Inferencing on instance 1111\n",
      "1/1 [==============================] - 0s 38ms/step\n",
      "Online training on instance 1111\n",
      "1/1 - 0s - loss: 0.6438 - binary_accuracy: 0.7500 - 20ms/epoch - 20ms/step\n"
     ]
    },
    {
     "name": "stderr",
     "output_type": "stream",
     "text": [
      " 78%|███████▊  | 1112/1425 [03:47<01:12,  4.31it/s]"
     ]
    },
    {
     "name": "stdout",
     "output_type": "stream",
     "text": [
      "Inferencing on instance 1112\n",
      "1/1 [==============================] - 0s 37ms/step\n",
      "Online training on instance 1112\n",
      "1/1 - 0s - loss: 0.6786 - binary_accuracy: 0.6875 - 17ms/epoch - 17ms/step\n"
     ]
    },
    {
     "name": "stderr",
     "output_type": "stream",
     "text": [
      " 78%|███████▊  | 1113/1425 [03:47<01:09,  4.48it/s]"
     ]
    },
    {
     "name": "stdout",
     "output_type": "stream",
     "text": [
      "Inferencing on instance 1113\n",
      "1/1 [==============================] - 0s 39ms/step\n",
      "Online training on instance 1113\n",
      "1/1 - 0s - loss: 0.7022 - binary_accuracy: 0.6250 - 20ms/epoch - 20ms/step\n"
     ]
    },
    {
     "name": "stderr",
     "output_type": "stream",
     "text": [
      " 78%|███████▊  | 1114/1425 [03:47<01:10,  4.43it/s]"
     ]
    },
    {
     "name": "stdout",
     "output_type": "stream",
     "text": [
      "Inferencing on instance 1114\n",
      "1/1 [==============================] - 0s 46ms/step\n",
      "Online training on instance 1114\n",
      "1/1 - 0s - loss: 0.7502 - binary_accuracy: 0.5625 - 24ms/epoch - 24ms/step\n"
     ]
    },
    {
     "name": "stderr",
     "output_type": "stream",
     "text": [
      " 78%|███████▊  | 1115/1425 [03:48<01:13,  4.25it/s]"
     ]
    },
    {
     "name": "stdout",
     "output_type": "stream",
     "text": [
      "Inferencing on instance 1115\n",
      "1/1 [==============================] - 0s 40ms/step\n",
      "Online training on instance 1115\n",
      "1/1 - 0s - loss: 0.7439 - binary_accuracy: 0.5000 - 15ms/epoch - 15ms/step\n"
     ]
    },
    {
     "name": "stderr",
     "output_type": "stream",
     "text": [
      " 78%|███████▊  | 1116/1425 [03:48<01:10,  4.36it/s]"
     ]
    },
    {
     "name": "stdout",
     "output_type": "stream",
     "text": [
      "Inferencing on instance 1116\n",
      "1/1 [==============================] - 0s 40ms/step\n",
      "Online training on instance 1116\n",
      "1/1 - 0s - loss: 0.7779 - binary_accuracy: 0.4375 - 16ms/epoch - 16ms/step\n"
     ]
    },
    {
     "name": "stderr",
     "output_type": "stream",
     "text": [
      " 78%|███████▊  | 1117/1425 [03:48<01:10,  4.39it/s]"
     ]
    },
    {
     "name": "stdout",
     "output_type": "stream",
     "text": [
      "Inferencing on instance 1117\n",
      "1/1 [==============================] - 0s 45ms/step\n",
      "Online training on instance 1117\n",
      "1/1 - 0s - loss: 0.8922 - binary_accuracy: 0.3750 - 21ms/epoch - 21ms/step\n"
     ]
    },
    {
     "name": "stderr",
     "output_type": "stream",
     "text": [
      " 78%|███████▊  | 1118/1425 [03:48<01:15,  4.05it/s]"
     ]
    },
    {
     "name": "stdout",
     "output_type": "stream",
     "text": [
      "Inferencing on instance 1118\n",
      "1/1 [==============================] - 0s 39ms/step\n",
      "Online training on instance 1118\n",
      "1/1 - 0s - loss: 0.8616 - binary_accuracy: 0.3125 - 21ms/epoch - 21ms/step\n"
     ]
    },
    {
     "name": "stderr",
     "output_type": "stream",
     "text": [
      " 79%|███████▊  | 1119/1425 [03:49<01:15,  4.04it/s]"
     ]
    },
    {
     "name": "stdout",
     "output_type": "stream",
     "text": [
      "Inferencing on instance 1119\n",
      "1/1 [==============================] - 0s 43ms/step\n",
      "Online training on instance 1119\n",
      "1/1 - 0s - loss: 0.8928 - binary_accuracy: 0.2500 - 16ms/epoch - 16ms/step\n"
     ]
    },
    {
     "name": "stderr",
     "output_type": "stream",
     "text": [
      " 79%|███████▊  | 1120/1425 [03:49<01:14,  4.10it/s]"
     ]
    },
    {
     "name": "stdout",
     "output_type": "stream",
     "text": [
      "Inferencing on instance 1120\n",
      "1/1 [==============================] - 0s 44ms/step\n",
      "Online training on instance 1120\n",
      "1/1 - 0s - loss: 0.8960 - binary_accuracy: 0.1875 - 23ms/epoch - 23ms/step\n"
     ]
    },
    {
     "name": "stderr",
     "output_type": "stream",
     "text": [
      " 79%|███████▊  | 1121/1425 [03:49<01:12,  4.22it/s]"
     ]
    },
    {
     "name": "stdout",
     "output_type": "stream",
     "text": [
      "Inferencing on instance 1121\n",
      "1/1 [==============================] - 0s 37ms/step\n",
      "Online training on instance 1121\n",
      "1/1 - 0s - loss: 0.9288 - binary_accuracy: 0.1875 - 18ms/epoch - 18ms/step\n"
     ]
    },
    {
     "name": "stderr",
     "output_type": "stream",
     "text": [
      " 79%|███████▊  | 1122/1425 [03:49<01:11,  4.22it/s]"
     ]
    },
    {
     "name": "stdout",
     "output_type": "stream",
     "text": [
      "Inferencing on instance 1122\n",
      "1/1 [==============================] - 0s 41ms/step\n",
      "Online training on instance 1122\n",
      "1/1 - 0s - loss: 0.9454 - binary_accuracy: 0.1875 - 18ms/epoch - 18ms/step\n"
     ]
    },
    {
     "name": "stderr",
     "output_type": "stream",
     "text": [
      " 79%|███████▉  | 1123/1425 [03:49<01:10,  4.31it/s]"
     ]
    },
    {
     "name": "stdout",
     "output_type": "stream",
     "text": [
      "Inferencing on instance 1123\n",
      "1/1 [==============================] - 0s 42ms/step\n",
      "Online training on instance 1123\n",
      "1/1 - 0s - loss: 0.9917 - binary_accuracy: 0.1250 - 25ms/epoch - 25ms/step\n"
     ]
    },
    {
     "name": "stderr",
     "output_type": "stream",
     "text": [
      " 79%|███████▉  | 1124/1425 [03:50<01:10,  4.24it/s]"
     ]
    },
    {
     "name": "stdout",
     "output_type": "stream",
     "text": [
      "Inferencing on instance 1124\n",
      "1/1 [==============================] - 0s 46ms/step\n",
      "Online training on instance 1124\n",
      "1/1 - 0s - loss: 0.8890 - binary_accuracy: 0.2500 - 20ms/epoch - 20ms/step\n"
     ]
    },
    {
     "name": "stderr",
     "output_type": "stream",
     "text": [
      " 79%|███████▉  | 1125/1425 [03:50<01:09,  4.31it/s]"
     ]
    },
    {
     "name": "stdout",
     "output_type": "stream",
     "text": [
      "Inferencing on instance 1125\n",
      "1/1 [==============================] - 0s 36ms/step\n",
      "Online training on instance 1125\n",
      "1/1 - 0s - loss: 0.8525 - binary_accuracy: 0.3125 - 20ms/epoch - 20ms/step\n"
     ]
    },
    {
     "name": "stderr",
     "output_type": "stream",
     "text": [
      " 79%|███████▉  | 1126/1425 [03:50<01:07,  4.46it/s]"
     ]
    },
    {
     "name": "stdout",
     "output_type": "stream",
     "text": [
      "Inferencing on instance 1126\n",
      "1/1 [==============================] - 0s 35ms/step\n",
      "Online training on instance 1126\n",
      "1/1 - 0s - loss: 0.8238 - binary_accuracy: 0.3750 - 16ms/epoch - 16ms/step\n"
     ]
    },
    {
     "name": "stderr",
     "output_type": "stream",
     "text": [
      " 79%|███████▉  | 1127/1425 [03:50<01:06,  4.49it/s]"
     ]
    },
    {
     "name": "stdout",
     "output_type": "stream",
     "text": [
      "Inferencing on instance 1127\n",
      "1/1 [==============================] - 0s 47ms/step\n",
      "Online training on instance 1127\n",
      "1/1 - 0s - loss: 0.8379 - binary_accuracy: 0.4375 - 16ms/epoch - 16ms/step\n"
     ]
    },
    {
     "name": "stderr",
     "output_type": "stream",
     "text": [
      " 79%|███████▉  | 1128/1425 [03:51<01:10,  4.21it/s]"
     ]
    },
    {
     "name": "stdout",
     "output_type": "stream",
     "text": [
      "Inferencing on instance 1128\n",
      "1/1 [==============================] - 0s 35ms/step\n",
      "Online training on instance 1128\n",
      "1/1 - 0s - loss: 0.7719 - binary_accuracy: 0.5000 - 17ms/epoch - 17ms/step\n"
     ]
    },
    {
     "name": "stderr",
     "output_type": "stream",
     "text": [
      " 79%|███████▉  | 1129/1425 [03:51<01:07,  4.40it/s]"
     ]
    },
    {
     "name": "stdout",
     "output_type": "stream",
     "text": [
      "Inferencing on instance 1129\n",
      "1/1 [==============================] - 0s 35ms/step\n",
      "Online training on instance 1129\n",
      "1/1 - 0s - loss: 0.7631 - binary_accuracy: 0.5625 - 17ms/epoch - 17ms/step\n"
     ]
    },
    {
     "name": "stderr",
     "output_type": "stream",
     "text": [
      " 79%|███████▉  | 1130/1425 [03:51<01:03,  4.61it/s]"
     ]
    },
    {
     "name": "stdout",
     "output_type": "stream",
     "text": [
      "Inferencing on instance 1130\n",
      "1/1 [==============================] - 0s 41ms/step\n",
      "Online training on instance 1130\n",
      "1/1 - 0s - loss: 0.7573 - binary_accuracy: 0.6250 - 15ms/epoch - 15ms/step\n"
     ]
    },
    {
     "name": "stderr",
     "output_type": "stream",
     "text": [
      " 79%|███████▉  | 1131/1425 [03:51<01:03,  4.64it/s]"
     ]
    },
    {
     "name": "stdout",
     "output_type": "stream",
     "text": [
      "Inferencing on instance 1131\n",
      "1/1 [==============================] - 0s 34ms/step\n",
      "Online training on instance 1131\n",
      "1/1 - 0s - loss: 0.7031 - binary_accuracy: 0.6875 - 15ms/epoch - 15ms/step\n"
     ]
    },
    {
     "name": "stderr",
     "output_type": "stream",
     "text": [
      " 79%|███████▉  | 1132/1425 [03:51<01:02,  4.69it/s]"
     ]
    },
    {
     "name": "stdout",
     "output_type": "stream",
     "text": [
      "Inferencing on instance 1132\n",
      "1/1 [==============================] - 0s 54ms/step\n",
      "Online training on instance 1132\n",
      "1/1 - 0s - loss: 0.6764 - binary_accuracy: 0.8125 - 16ms/epoch - 16ms/step\n"
     ]
    },
    {
     "name": "stderr",
     "output_type": "stream",
     "text": [
      " 80%|███████▉  | 1133/1425 [03:52<01:05,  4.45it/s]"
     ]
    },
    {
     "name": "stdout",
     "output_type": "stream",
     "text": [
      "Inferencing on instance 1133\n",
      "1/1 [==============================] - 0s 37ms/step\n",
      "Online training on instance 1133\n",
      "1/1 - 0s - loss: 0.6997 - binary_accuracy: 0.8125 - 15ms/epoch - 15ms/step\n"
     ]
    },
    {
     "name": "stderr",
     "output_type": "stream",
     "text": [
      " 80%|███████▉  | 1134/1425 [03:52<01:03,  4.58it/s]"
     ]
    },
    {
     "name": "stdout",
     "output_type": "stream",
     "text": [
      "Inferencing on instance 1134\n",
      "1/1 [==============================] - 0s 36ms/step\n",
      "Online training on instance 1134\n",
      "1/1 - 0s - loss: 0.6214 - binary_accuracy: 0.8125 - 17ms/epoch - 17ms/step\n"
     ]
    },
    {
     "name": "stderr",
     "output_type": "stream",
     "text": [
      " 80%|███████▉  | 1135/1425 [03:52<01:02,  4.66it/s]"
     ]
    },
    {
     "name": "stdout",
     "output_type": "stream",
     "text": [
      "Inferencing on instance 1135\n",
      "1/1 [==============================] - 0s 38ms/step\n",
      "Online training on instance 1135\n",
      "1/1 - 0s - loss: 0.5463 - binary_accuracy: 0.9375 - 22ms/epoch - 22ms/step\n"
     ]
    },
    {
     "name": "stderr",
     "output_type": "stream",
     "text": [
      " 80%|███████▉  | 1136/1425 [03:52<01:02,  4.59it/s]"
     ]
    },
    {
     "name": "stdout",
     "output_type": "stream",
     "text": [
      "Inferencing on instance 1136\n",
      "1/1 [==============================] - 0s 39ms/step\n",
      "Online training on instance 1136\n",
      "1/1 - 0s - loss: 0.5093 - binary_accuracy: 0.9375 - 16ms/epoch - 16ms/step\n"
     ]
    },
    {
     "name": "stderr",
     "output_type": "stream",
     "text": [
      " 80%|███████▉  | 1137/1425 [03:53<01:02,  4.61it/s]"
     ]
    },
    {
     "name": "stdout",
     "output_type": "stream",
     "text": [
      "Inferencing on instance 1137\n",
      "1/1 [==============================] - 0s 34ms/step\n",
      "Online training on instance 1137\n",
      "1/1 - 0s - loss: 0.5082 - binary_accuracy: 1.0000 - 16ms/epoch - 16ms/step\n"
     ]
    },
    {
     "name": "stderr",
     "output_type": "stream",
     "text": [
      " 80%|███████▉  | 1138/1425 [03:53<01:00,  4.77it/s]"
     ]
    },
    {
     "name": "stdout",
     "output_type": "stream",
     "text": [
      "Inferencing on instance 1138\n",
      "1/1 [==============================] - 0s 32ms/step\n",
      "Online training on instance 1138\n",
      "1/1 - 0s - loss: 0.5121 - binary_accuracy: 1.0000 - 16ms/epoch - 16ms/step\n"
     ]
    },
    {
     "name": "stderr",
     "output_type": "stream",
     "text": [
      " 80%|███████▉  | 1139/1425 [03:53<00:58,  4.88it/s]"
     ]
    },
    {
     "name": "stdout",
     "output_type": "stream",
     "text": [
      "Inferencing on instance 1139\n",
      "1/1 [==============================] - 0s 33ms/step\n",
      "Online training on instance 1139\n",
      "1/1 - 0s - loss: 0.4921 - binary_accuracy: 1.0000 - 16ms/epoch - 16ms/step\n"
     ]
    },
    {
     "name": "stderr",
     "output_type": "stream",
     "text": [
      " 80%|████████  | 1140/1425 [03:53<00:57,  4.98it/s]"
     ]
    },
    {
     "name": "stdout",
     "output_type": "stream",
     "text": [
      "Inferencing on instance 1140\n",
      "1/1 [==============================] - 0s 36ms/step\n",
      "Online training on instance 1140\n",
      "1/1 - 0s - loss: 0.4888 - binary_accuracy: 1.0000 - 15ms/epoch - 15ms/step\n"
     ]
    },
    {
     "name": "stderr",
     "output_type": "stream",
     "text": [
      " 80%|████████  | 1141/1425 [03:53<00:58,  4.89it/s]"
     ]
    },
    {
     "name": "stdout",
     "output_type": "stream",
     "text": [
      "Inferencing on instance 1141\n",
      "1/1 [==============================] - 0s 53ms/step\n",
      "Online training on instance 1141\n",
      "1/1 - 0s - loss: 0.4929 - binary_accuracy: 1.0000 - 16ms/epoch - 16ms/step\n"
     ]
    },
    {
     "name": "stderr",
     "output_type": "stream",
     "text": [
      " 80%|████████  | 1142/1425 [03:54<00:59,  4.72it/s]"
     ]
    },
    {
     "name": "stdout",
     "output_type": "stream",
     "text": [
      "Inferencing on instance 1142\n",
      "1/1 [==============================] - 0s 36ms/step\n",
      "Online training on instance 1142\n",
      "1/1 - 0s - loss: 0.4737 - binary_accuracy: 1.0000 - 20ms/epoch - 20ms/step\n"
     ]
    },
    {
     "name": "stderr",
     "output_type": "stream",
     "text": [
      " 80%|████████  | 1143/1425 [03:54<00:59,  4.77it/s]"
     ]
    },
    {
     "name": "stdout",
     "output_type": "stream",
     "text": [
      "Inferencing on instance 1143\n",
      "1/1 [==============================] - 0s 36ms/step\n",
      "Online training on instance 1143\n",
      "1/1 - 0s - loss: 0.4779 - binary_accuracy: 1.0000 - 16ms/epoch - 16ms/step\n"
     ]
    },
    {
     "name": "stderr",
     "output_type": "stream",
     "text": [
      " 80%|████████  | 1144/1425 [03:54<00:58,  4.79it/s]"
     ]
    },
    {
     "name": "stdout",
     "output_type": "stream",
     "text": [
      "Inferencing on instance 1144\n",
      "1/1 [==============================] - 0s 33ms/step\n",
      "Online training on instance 1144\n",
      "1/1 - 0s - loss: 0.4996 - binary_accuracy: 1.0000 - 25ms/epoch - 25ms/step\n"
     ]
    },
    {
     "name": "stderr",
     "output_type": "stream",
     "text": [
      " 80%|████████  | 1145/1425 [03:54<00:59,  4.71it/s]"
     ]
    },
    {
     "name": "stdout",
     "output_type": "stream",
     "text": [
      "Inferencing on instance 1145\n",
      "1/1 [==============================] - 0s 39ms/step\n",
      "Online training on instance 1145\n",
      "1/1 - 0s - loss: 0.4614 - binary_accuracy: 1.0000 - 18ms/epoch - 18ms/step\n"
     ]
    },
    {
     "name": "stderr",
     "output_type": "stream",
     "text": [
      " 80%|████████  | 1146/1425 [03:54<00:59,  4.66it/s]"
     ]
    },
    {
     "name": "stdout",
     "output_type": "stream",
     "text": [
      "Inferencing on instance 1146\n",
      "1/1 [==============================] - 0s 32ms/step\n",
      "Online training on instance 1146\n",
      "1/1 - 0s - loss: 0.4586 - binary_accuracy: 1.0000 - 16ms/epoch - 16ms/step\n"
     ]
    },
    {
     "name": "stderr",
     "output_type": "stream",
     "text": [
      " 80%|████████  | 1147/1425 [03:55<00:57,  4.80it/s]"
     ]
    },
    {
     "name": "stdout",
     "output_type": "stream",
     "text": [
      "Inferencing on instance 1147\n",
      "1/1 [==============================] - 0s 31ms/step\n",
      "Online training on instance 1147\n",
      "1/1 - 0s - loss: 0.4355 - binary_accuracy: 1.0000 - 15ms/epoch - 15ms/step\n"
     ]
    },
    {
     "name": "stderr",
     "output_type": "stream",
     "text": [
      " 81%|████████  | 1148/1425 [03:55<00:56,  4.89it/s]"
     ]
    },
    {
     "name": "stdout",
     "output_type": "stream",
     "text": [
      "Inferencing on instance 1148\n",
      "1/1 [==============================] - 0s 40ms/step\n",
      "Online training on instance 1148\n",
      "1/1 - 0s - loss: 0.4355 - binary_accuracy: 1.0000 - 15ms/epoch - 15ms/step\n"
     ]
    },
    {
     "name": "stderr",
     "output_type": "stream",
     "text": [
      " 81%|████████  | 1149/1425 [03:55<00:57,  4.76it/s]"
     ]
    },
    {
     "name": "stdout",
     "output_type": "stream",
     "text": [
      "Inferencing on instance 1149\n",
      "1/1 [==============================] - 0s 32ms/step\n",
      "Online training on instance 1149\n",
      "1/1 - 0s - loss: 0.4584 - binary_accuracy: 1.0000 - 18ms/epoch - 18ms/step\n"
     ]
    },
    {
     "name": "stderr",
     "output_type": "stream",
     "text": [
      " 81%|████████  | 1150/1425 [03:55<00:56,  4.87it/s]"
     ]
    },
    {
     "name": "stdout",
     "output_type": "stream",
     "text": [
      "Inferencing on instance 1150\n",
      "1/1 [==============================] - 0s 34ms/step\n",
      "Online training on instance 1150\n",
      "1/1 - 0s - loss: 0.4328 - binary_accuracy: 1.0000 - 15ms/epoch - 15ms/step\n"
     ]
    },
    {
     "name": "stderr",
     "output_type": "stream",
     "text": [
      " 81%|████████  | 1151/1425 [03:55<00:55,  4.93it/s]"
     ]
    },
    {
     "name": "stdout",
     "output_type": "stream",
     "text": [
      "Inferencing on instance 1151\n",
      "1/1 [==============================] - 0s 66ms/step\n",
      "Online training on instance 1151\n",
      "1/1 - 0s - loss: 0.4400 - binary_accuracy: 1.0000 - 15ms/epoch - 15ms/step\n"
     ]
    },
    {
     "name": "stderr",
     "output_type": "stream",
     "text": [
      " 81%|████████  | 1152/1425 [03:56<00:58,  4.66it/s]"
     ]
    },
    {
     "name": "stdout",
     "output_type": "stream",
     "text": [
      "Inferencing on instance 1152\n",
      "1/1 [==============================] - 0s 37ms/step\n",
      "Online training on instance 1152\n",
      "1/1 - 0s - loss: 0.4380 - binary_accuracy: 1.0000 - 16ms/epoch - 16ms/step\n"
     ]
    },
    {
     "name": "stderr",
     "output_type": "stream",
     "text": [
      " 81%|████████  | 1153/1425 [03:56<00:56,  4.78it/s]"
     ]
    },
    {
     "name": "stdout",
     "output_type": "stream",
     "text": [
      "Inferencing on instance 1153\n",
      "1/1 [==============================] - 0s 39ms/step\n",
      "Online training on instance 1153\n",
      "1/1 - 0s - loss: 0.4021 - binary_accuracy: 1.0000 - 16ms/epoch - 16ms/step\n"
     ]
    },
    {
     "name": "stderr",
     "output_type": "stream",
     "text": [
      " 81%|████████  | 1154/1425 [03:56<00:57,  4.72it/s]"
     ]
    },
    {
     "name": "stdout",
     "output_type": "stream",
     "text": [
      "Inferencing on instance 1154\n",
      "1/1 [==============================] - 0s 35ms/step\n",
      "Online training on instance 1154\n",
      "1/1 - 0s - loss: 0.4332 - binary_accuracy: 1.0000 - 16ms/epoch - 16ms/step\n"
     ]
    },
    {
     "name": "stderr",
     "output_type": "stream",
     "text": [
      " 81%|████████  | 1155/1425 [03:56<00:55,  4.85it/s]"
     ]
    },
    {
     "name": "stdout",
     "output_type": "stream",
     "text": [
      "Inferencing on instance 1155\n",
      "1/1 [==============================] - 0s 44ms/step\n",
      "Online training on instance 1155\n",
      "1/1 - 0s - loss: 0.3966 - binary_accuracy: 1.0000 - 20ms/epoch - 20ms/step\n"
     ]
    },
    {
     "name": "stderr",
     "output_type": "stream",
     "text": [
      " 81%|████████  | 1156/1425 [03:57<01:01,  4.34it/s]"
     ]
    },
    {
     "name": "stdout",
     "output_type": "stream",
     "text": [
      "Inferencing on instance 1156\n",
      "1/1 [==============================] - 0s 43ms/step\n",
      "Online training on instance 1156\n",
      "1/1 - 0s - loss: 0.4182 - binary_accuracy: 1.0000 - 15ms/epoch - 15ms/step\n"
     ]
    },
    {
     "name": "stderr",
     "output_type": "stream",
     "text": [
      " 81%|████████  | 1157/1425 [03:57<01:01,  4.37it/s]"
     ]
    },
    {
     "name": "stdout",
     "output_type": "stream",
     "text": [
      "Inferencing on instance 1157\n",
      "1/1 [==============================] - 0s 30ms/step\n",
      "Online training on instance 1157\n",
      "1/1 - 0s - loss: 0.4000 - binary_accuracy: 1.0000 - 18ms/epoch - 18ms/step\n"
     ]
    },
    {
     "name": "stderr",
     "output_type": "stream",
     "text": [
      " 81%|████████▏ | 1158/1425 [03:57<00:58,  4.54it/s]"
     ]
    },
    {
     "name": "stdout",
     "output_type": "stream",
     "text": [
      "Inferencing on instance 1158\n",
      "1/1 [==============================] - 0s 33ms/step\n",
      "Online training on instance 1158\n",
      "1/1 - 0s - loss: 0.4099 - binary_accuracy: 1.0000 - 21ms/epoch - 21ms/step\n"
     ]
    },
    {
     "name": "stderr",
     "output_type": "stream",
     "text": [
      " 81%|████████▏ | 1159/1425 [03:57<01:00,  4.41it/s]"
     ]
    },
    {
     "name": "stdout",
     "output_type": "stream",
     "text": [
      "Inferencing on instance 1159\n",
      "1/1 [==============================] - 0s 37ms/step\n",
      "Online training on instance 1159\n",
      "1/1 - 0s - loss: 0.4053 - binary_accuracy: 1.0000 - 15ms/epoch - 15ms/step\n"
     ]
    },
    {
     "name": "stderr",
     "output_type": "stream",
     "text": [
      " 81%|████████▏ | 1160/1425 [03:57<00:59,  4.47it/s]"
     ]
    },
    {
     "name": "stdout",
     "output_type": "stream",
     "text": [
      "Inferencing on instance 1160\n",
      "1/1 [==============================] - 0s 34ms/step\n",
      "Online training on instance 1160\n",
      "1/1 - 0s - loss: 0.3997 - binary_accuracy: 1.0000 - 20ms/epoch - 20ms/step\n"
     ]
    },
    {
     "name": "stderr",
     "output_type": "stream",
     "text": [
      " 81%|████████▏ | 1161/1425 [03:58<00:56,  4.69it/s]"
     ]
    },
    {
     "name": "stdout",
     "output_type": "stream",
     "text": [
      "Inferencing on instance 1161\n",
      "1/1 [==============================] - 0s 37ms/step\n",
      "Online training on instance 1161\n",
      "1/1 - 0s - loss: 0.3888 - binary_accuracy: 1.0000 - 16ms/epoch - 16ms/step\n"
     ]
    },
    {
     "name": "stderr",
     "output_type": "stream",
     "text": [
      " 82%|████████▏ | 1162/1425 [03:58<00:54,  4.86it/s]"
     ]
    },
    {
     "name": "stdout",
     "output_type": "stream",
     "text": [
      "Inferencing on instance 1162\n",
      "1/1 [==============================] - 0s 32ms/step\n",
      "Online training on instance 1162\n",
      "1/1 - 0s - loss: 0.3795 - binary_accuracy: 1.0000 - 16ms/epoch - 16ms/step\n"
     ]
    },
    {
     "name": "stderr",
     "output_type": "stream",
     "text": [
      " 82%|████████▏ | 1163/1425 [03:58<00:55,  4.68it/s]"
     ]
    },
    {
     "name": "stdout",
     "output_type": "stream",
     "text": [
      "Inferencing on instance 1163\n",
      "1/1 [==============================] - 0s 41ms/step\n",
      "Online training on instance 1163\n",
      "1/1 - 0s - loss: 0.3869 - binary_accuracy: 1.0000 - 16ms/epoch - 16ms/step\n"
     ]
    },
    {
     "name": "stderr",
     "output_type": "stream",
     "text": [
      " 82%|████████▏ | 1164/1425 [03:58<00:55,  4.71it/s]"
     ]
    },
    {
     "name": "stdout",
     "output_type": "stream",
     "text": [
      "Inferencing on instance 1164\n",
      "1/1 [==============================] - 0s 30ms/step\n",
      "Online training on instance 1164\n",
      "1/1 - 0s - loss: 0.3700 - binary_accuracy: 1.0000 - 15ms/epoch - 15ms/step\n"
     ]
    },
    {
     "name": "stderr",
     "output_type": "stream",
     "text": [
      " 82%|████████▏ | 1165/1425 [03:58<00:53,  4.85it/s]"
     ]
    },
    {
     "name": "stdout",
     "output_type": "stream",
     "text": [
      "Inferencing on instance 1165\n",
      "1/1 [==============================] - 0s 37ms/step\n",
      "Online training on instance 1165\n",
      "1/1 - 0s - loss: 0.3860 - binary_accuracy: 0.9375 - 19ms/epoch - 19ms/step\n"
     ]
    },
    {
     "name": "stderr",
     "output_type": "stream",
     "text": [
      " 82%|████████▏ | 1166/1425 [03:59<00:54,  4.72it/s]"
     ]
    },
    {
     "name": "stdout",
     "output_type": "stream",
     "text": [
      "Inferencing on instance 1166\n",
      "1/1 [==============================] - 0s 41ms/step\n",
      "Online training on instance 1166\n",
      "1/1 - 0s - loss: 0.3635 - binary_accuracy: 1.0000 - 16ms/epoch - 16ms/step\n"
     ]
    },
    {
     "name": "stderr",
     "output_type": "stream",
     "text": [
      " 82%|████████▏ | 1167/1425 [03:59<00:56,  4.54it/s]"
     ]
    },
    {
     "name": "stdout",
     "output_type": "stream",
     "text": [
      "Inferencing on instance 1167\n",
      "1/1 [==============================] - 0s 38ms/step\n",
      "Online training on instance 1167\n",
      "1/1 - 0s - loss: 0.3484 - binary_accuracy: 1.0000 - 18ms/epoch - 18ms/step\n"
     ]
    },
    {
     "name": "stderr",
     "output_type": "stream",
     "text": [
      " 82%|████████▏ | 1168/1425 [03:59<00:55,  4.65it/s]"
     ]
    },
    {
     "name": "stdout",
     "output_type": "stream",
     "text": [
      "Inferencing on instance 1168\n",
      "1/1 [==============================] - 0s 37ms/step\n",
      "Online training on instance 1168\n",
      "1/1 - 0s - loss: 0.3561 - binary_accuracy: 1.0000 - 17ms/epoch - 17ms/step\n"
     ]
    },
    {
     "name": "stderr",
     "output_type": "stream",
     "text": [
      " 82%|████████▏ | 1169/1425 [03:59<00:54,  4.66it/s]"
     ]
    },
    {
     "name": "stdout",
     "output_type": "stream",
     "text": [
      "Inferencing on instance 1169\n",
      "1/1 [==============================] - 0s 32ms/step\n",
      "Online training on instance 1169\n",
      "1/1 - 0s - loss: 0.3578 - binary_accuracy: 1.0000 - 20ms/epoch - 20ms/step\n"
     ]
    },
    {
     "name": "stderr",
     "output_type": "stream",
     "text": [
      " 82%|████████▏ | 1170/1425 [04:00<00:56,  4.53it/s]"
     ]
    },
    {
     "name": "stdout",
     "output_type": "stream",
     "text": [
      "Inferencing on instance 1170\n",
      "1/1 [==============================] - 0s 41ms/step\n",
      "Online training on instance 1170\n",
      "1/1 - 0s - loss: 0.3601 - binary_accuracy: 1.0000 - 16ms/epoch - 16ms/step\n"
     ]
    },
    {
     "name": "stderr",
     "output_type": "stream",
     "text": [
      " 82%|████████▏ | 1171/1425 [04:00<00:56,  4.46it/s]"
     ]
    },
    {
     "name": "stdout",
     "output_type": "stream",
     "text": [
      "Inferencing on instance 1171\n",
      "1/1 [==============================] - 0s 36ms/step\n",
      "Online training on instance 1171\n",
      "1/1 - 0s - loss: 0.3496 - binary_accuracy: 1.0000 - 19ms/epoch - 19ms/step\n"
     ]
    },
    {
     "name": "stderr",
     "output_type": "stream",
     "text": [
      " 82%|████████▏ | 1172/1425 [04:00<00:55,  4.57it/s]"
     ]
    },
    {
     "name": "stdout",
     "output_type": "stream",
     "text": [
      "Inferencing on instance 1172\n",
      "1/1 [==============================] - 0s 66ms/step\n",
      "Online training on instance 1172\n",
      "1/1 - 0s - loss: 0.3535 - binary_accuracy: 1.0000 - 19ms/epoch - 19ms/step\n"
     ]
    },
    {
     "name": "stderr",
     "output_type": "stream",
     "text": [
      " 82%|████████▏ | 1173/1425 [04:00<00:58,  4.28it/s]"
     ]
    },
    {
     "name": "stdout",
     "output_type": "stream",
     "text": [
      "Inferencing on instance 1173\n",
      "1/1 [==============================] - 0s 41ms/step\n",
      "Online training on instance 1173\n",
      "1/1 - 0s - loss: 0.3437 - binary_accuracy: 1.0000 - 17ms/epoch - 17ms/step\n"
     ]
    },
    {
     "name": "stderr",
     "output_type": "stream",
     "text": [
      " 82%|████████▏ | 1174/1425 [04:00<00:57,  4.37it/s]"
     ]
    },
    {
     "name": "stdout",
     "output_type": "stream",
     "text": [
      "Inferencing on instance 1174\n",
      "1/1 [==============================] - 0s 37ms/step\n",
      "Online training on instance 1174\n",
      "1/1 - 0s - loss: 0.3331 - binary_accuracy: 1.0000 - 15ms/epoch - 15ms/step\n"
     ]
    },
    {
     "name": "stderr",
     "output_type": "stream",
     "text": [
      " 82%|████████▏ | 1175/1425 [04:01<00:55,  4.52it/s]"
     ]
    },
    {
     "name": "stdout",
     "output_type": "stream",
     "text": [
      "Inferencing on instance 1175\n",
      "1/1 [==============================] - 0s 45ms/step\n",
      "Online training on instance 1175\n",
      "1/1 - 0s - loss: 0.3224 - binary_accuracy: 1.0000 - 23ms/epoch - 23ms/step\n"
     ]
    },
    {
     "name": "stderr",
     "output_type": "stream",
     "text": [
      " 83%|████████▎ | 1176/1425 [04:01<00:58,  4.25it/s]"
     ]
    },
    {
     "name": "stdout",
     "output_type": "stream",
     "text": [
      "Inferencing on instance 1176\n",
      "1/1 [==============================] - 0s 48ms/step\n",
      "Online training on instance 1176\n",
      "1/1 - 0s - loss: 0.3250 - binary_accuracy: 1.0000 - 18ms/epoch - 18ms/step\n"
     ]
    },
    {
     "name": "stderr",
     "output_type": "stream",
     "text": [
      " 83%|████████▎ | 1177/1425 [04:01<01:00,  4.10it/s]"
     ]
    },
    {
     "name": "stdout",
     "output_type": "stream",
     "text": [
      "Inferencing on instance 1177\n",
      "1/1 [==============================] - 0s 47ms/step\n",
      "Online training on instance 1177\n",
      "1/1 - 0s - loss: 0.3156 - binary_accuracy: 1.0000 - 18ms/epoch - 18ms/step\n"
     ]
    },
    {
     "name": "stderr",
     "output_type": "stream",
     "text": [
      " 83%|████████▎ | 1178/1425 [04:01<01:00,  4.06it/s]"
     ]
    },
    {
     "name": "stdout",
     "output_type": "stream",
     "text": [
      "Inferencing on instance 1178\n",
      "1/1 [==============================] - 0s 37ms/step\n",
      "Online training on instance 1178\n",
      "1/1 - 0s - loss: 0.3381 - binary_accuracy: 0.9375 - 17ms/epoch - 17ms/step\n"
     ]
    },
    {
     "name": "stderr",
     "output_type": "stream",
     "text": [
      " 83%|████████▎ | 1179/1425 [04:02<01:00,  4.08it/s]"
     ]
    },
    {
     "name": "stdout",
     "output_type": "stream",
     "text": [
      "Inferencing on instance 1179\n",
      "1/1 [==============================] - 0s 41ms/step\n",
      "Online training on instance 1179\n",
      "1/1 - 0s - loss: 0.3350 - binary_accuracy: 1.0000 - 16ms/epoch - 16ms/step\n"
     ]
    },
    {
     "name": "stderr",
     "output_type": "stream",
     "text": [
      " 83%|████████▎ | 1180/1425 [04:02<00:57,  4.23it/s]"
     ]
    },
    {
     "name": "stdout",
     "output_type": "stream",
     "text": [
      "Inferencing on instance 1180\n",
      "1/1 [==============================] - 0s 37ms/step\n",
      "Online training on instance 1180\n",
      "1/1 - 0s - loss: 0.3326 - binary_accuracy: 0.9375 - 16ms/epoch - 16ms/step\n"
     ]
    },
    {
     "name": "stderr",
     "output_type": "stream",
     "text": [
      " 83%|████████▎ | 1181/1425 [04:02<00:54,  4.44it/s]"
     ]
    },
    {
     "name": "stdout",
     "output_type": "stream",
     "text": [
      "Inferencing on instance 1181\n",
      "1/1 [==============================] - 0s 46ms/step\n",
      "Online training on instance 1181\n",
      "1/1 - 0s - loss: 0.3029 - binary_accuracy: 1.0000 - 24ms/epoch - 24ms/step\n"
     ]
    },
    {
     "name": "stderr",
     "output_type": "stream",
     "text": [
      " 83%|████████▎ | 1182/1425 [04:02<00:55,  4.37it/s]"
     ]
    },
    {
     "name": "stdout",
     "output_type": "stream",
     "text": [
      "Inferencing on instance 1182\n",
      "1/1 [==============================] - 0s 40ms/step\n",
      "Online training on instance 1182\n",
      "1/1 - 0s - loss: 0.3215 - binary_accuracy: 1.0000 - 20ms/epoch - 20ms/step\n"
     ]
    },
    {
     "name": "stderr",
     "output_type": "stream",
     "text": [
      " 83%|████████▎ | 1183/1425 [04:03<00:55,  4.39it/s]"
     ]
    },
    {
     "name": "stdout",
     "output_type": "stream",
     "text": [
      "Inferencing on instance 1183\n",
      "1/1 [==============================] - 0s 51ms/step\n",
      "Online training on instance 1183\n",
      "1/1 - 0s - loss: 0.3233 - binary_accuracy: 0.9375 - 16ms/epoch - 16ms/step\n"
     ]
    },
    {
     "name": "stderr",
     "output_type": "stream",
     "text": [
      " 83%|████████▎ | 1184/1425 [04:03<00:53,  4.47it/s]"
     ]
    },
    {
     "name": "stdout",
     "output_type": "stream",
     "text": [
      "Inferencing on instance 1184\n",
      "1/1 [==============================] - 0s 39ms/step\n",
      "Online training on instance 1184\n",
      "1/1 - 0s - loss: 0.3201 - binary_accuracy: 1.0000 - 16ms/epoch - 16ms/step\n"
     ]
    },
    {
     "name": "stderr",
     "output_type": "stream",
     "text": [
      " 83%|████████▎ | 1185/1425 [04:03<00:52,  4.57it/s]"
     ]
    },
    {
     "name": "stdout",
     "output_type": "stream",
     "text": [
      "Inferencing on instance 1185\n",
      "1/1 [==============================] - 0s 43ms/step\n",
      "Online training on instance 1185\n",
      "1/1 - 0s - loss: 0.2916 - binary_accuracy: 1.0000 - 19ms/epoch - 19ms/step\n"
     ]
    },
    {
     "name": "stderr",
     "output_type": "stream",
     "text": [
      " 83%|████████▎ | 1186/1425 [04:03<00:55,  4.31it/s]"
     ]
    },
    {
     "name": "stdout",
     "output_type": "stream",
     "text": [
      "Inferencing on instance 1186\n",
      "1/1 [==============================] - 0s 37ms/step\n",
      "Online training on instance 1186\n",
      "1/1 - 0s - loss: 0.2867 - binary_accuracy: 1.0000 - 18ms/epoch - 18ms/step\n"
     ]
    },
    {
     "name": "stderr",
     "output_type": "stream",
     "text": [
      " 83%|████████▎ | 1187/1425 [04:03<00:53,  4.44it/s]"
     ]
    },
    {
     "name": "stdout",
     "output_type": "stream",
     "text": [
      "Inferencing on instance 1187\n",
      "1/1 [==============================] - 0s 37ms/step\n",
      "Online training on instance 1187\n",
      "1/1 - 0s - loss: 0.2943 - binary_accuracy: 1.0000 - 15ms/epoch - 15ms/step\n"
     ]
    },
    {
     "name": "stderr",
     "output_type": "stream",
     "text": [
      " 83%|████████▎ | 1188/1425 [04:04<00:51,  4.57it/s]"
     ]
    },
    {
     "name": "stdout",
     "output_type": "stream",
     "text": [
      "Inferencing on instance 1188\n",
      "1/1 [==============================] - 0s 36ms/step\n",
      "Online training on instance 1188\n",
      "1/1 - 0s - loss: 0.2933 - binary_accuracy: 1.0000 - 25ms/epoch - 25ms/step\n"
     ]
    },
    {
     "name": "stderr",
     "output_type": "stream",
     "text": [
      " 83%|████████▎ | 1189/1425 [04:04<00:52,  4.48it/s]"
     ]
    },
    {
     "name": "stdout",
     "output_type": "stream",
     "text": [
      "Inferencing on instance 1189\n",
      "1/1 [==============================] - 0s 39ms/step\n",
      "Online training on instance 1189\n",
      "1/1 - 0s - loss: 0.2810 - binary_accuracy: 1.0000 - 17ms/epoch - 17ms/step\n"
     ]
    },
    {
     "name": "stderr",
     "output_type": "stream",
     "text": [
      " 84%|████████▎ | 1190/1425 [04:04<00:52,  4.50it/s]"
     ]
    },
    {
     "name": "stdout",
     "output_type": "stream",
     "text": [
      "Inferencing on instance 1190\n",
      "1/1 [==============================] - 0s 35ms/step\n",
      "Online training on instance 1190\n",
      "1/1 - 0s - loss: 0.2904 - binary_accuracy: 1.0000 - 18ms/epoch - 18ms/step\n"
     ]
    },
    {
     "name": "stderr",
     "output_type": "stream",
     "text": [
      " 84%|████████▎ | 1191/1425 [04:04<00:50,  4.60it/s]"
     ]
    },
    {
     "name": "stdout",
     "output_type": "stream",
     "text": [
      "Inferencing on instance 1191\n",
      "1/1 [==============================] - 0s 36ms/step\n",
      "Online training on instance 1191\n",
      "1/1 - 0s - loss: 0.2795 - binary_accuracy: 1.0000 - 22ms/epoch - 22ms/step\n"
     ]
    },
    {
     "name": "stderr",
     "output_type": "stream",
     "text": [
      " 84%|████████▎ | 1192/1425 [04:05<00:51,  4.54it/s]"
     ]
    },
    {
     "name": "stdout",
     "output_type": "stream",
     "text": [
      "Inferencing on instance 1192\n",
      "1/1 [==============================] - 0s 38ms/step\n",
      "Online training on instance 1192\n",
      "1/1 - 0s - loss: 0.2859 - binary_accuracy: 0.9375 - 16ms/epoch - 16ms/step\n"
     ]
    },
    {
     "name": "stderr",
     "output_type": "stream",
     "text": [
      " 84%|████████▎ | 1193/1425 [04:05<00:51,  4.52it/s]"
     ]
    },
    {
     "name": "stdout",
     "output_type": "stream",
     "text": [
      "Inferencing on instance 1193\n",
      "1/1 [==============================] - 0s 34ms/step\n",
      "Online training on instance 1193\n",
      "1/1 - 0s - loss: 0.2810 - binary_accuracy: 0.9375 - 18ms/epoch - 18ms/step\n"
     ]
    },
    {
     "name": "stderr",
     "output_type": "stream",
     "text": [
      " 84%|████████▍ | 1194/1425 [04:05<00:50,  4.58it/s]"
     ]
    },
    {
     "name": "stdout",
     "output_type": "stream",
     "text": [
      "Inferencing on instance 1194\n",
      "1/1 [==============================] - 0s 38ms/step\n",
      "Online training on instance 1194\n",
      "1/1 - 0s - loss: 0.2855 - binary_accuracy: 1.0000 - 22ms/epoch - 22ms/step\n"
     ]
    },
    {
     "name": "stderr",
     "output_type": "stream",
     "text": [
      " 84%|████████▍ | 1195/1425 [04:05<00:52,  4.38it/s]"
     ]
    },
    {
     "name": "stdout",
     "output_type": "stream",
     "text": [
      "Inferencing on instance 1195\n",
      "1/1 [==============================] - 0s 35ms/step\n",
      "Online training on instance 1195\n",
      "1/1 - 0s - loss: 0.2780 - binary_accuracy: 1.0000 - 16ms/epoch - 16ms/step\n"
     ]
    },
    {
     "name": "stderr",
     "output_type": "stream",
     "text": [
      " 84%|████████▍ | 1196/1425 [04:05<00:51,  4.46it/s]"
     ]
    },
    {
     "name": "stdout",
     "output_type": "stream",
     "text": [
      "Inferencing on instance 1196\n",
      "1/1 [==============================] - 0s 43ms/step\n",
      "Online training on instance 1196\n",
      "1/1 - 0s - loss: 0.2831 - binary_accuracy: 0.9375 - 18ms/epoch - 18ms/step\n"
     ]
    },
    {
     "name": "stderr",
     "output_type": "stream",
     "text": [
      " 84%|████████▍ | 1197/1425 [04:06<00:50,  4.56it/s]"
     ]
    },
    {
     "name": "stdout",
     "output_type": "stream",
     "text": [
      "Inferencing on instance 1197\n",
      "1/1 [==============================] - 0s 39ms/step\n",
      "Online training on instance 1197\n",
      "1/1 - 0s - loss: 0.2668 - binary_accuracy: 1.0000 - 26ms/epoch - 26ms/step\n"
     ]
    },
    {
     "name": "stderr",
     "output_type": "stream",
     "text": [
      " 84%|████████▍ | 1198/1425 [04:06<00:49,  4.56it/s]"
     ]
    },
    {
     "name": "stdout",
     "output_type": "stream",
     "text": [
      "Inferencing on instance 1198\n",
      "1/1 [==============================] - 0s 35ms/step\n",
      "Online training on instance 1198\n",
      "1/1 - 0s - loss: 0.2895 - binary_accuracy: 0.9375 - 19ms/epoch - 19ms/step\n"
     ]
    },
    {
     "name": "stderr",
     "output_type": "stream",
     "text": [
      " 84%|████████▍ | 1199/1425 [04:06<00:50,  4.47it/s]"
     ]
    },
    {
     "name": "stdout",
     "output_type": "stream",
     "text": [
      "Inferencing on instance 1199\n",
      "1/1 [==============================] - 0s 46ms/step\n",
      "Online training on instance 1199\n",
      "1/1 - 0s - loss: 0.2881 - binary_accuracy: 0.9375 - 16ms/epoch - 16ms/step\n"
     ]
    },
    {
     "name": "stderr",
     "output_type": "stream",
     "text": [
      " 84%|████████▍ | 1200/1425 [04:06<00:50,  4.45it/s]"
     ]
    },
    {
     "name": "stdout",
     "output_type": "stream",
     "text": [
      "Inferencing on instance 1200\n",
      "1/1 [==============================] - 0s 34ms/step\n",
      "Online training on instance 1200\n",
      "1/1 - 0s - loss: 0.2544 - binary_accuracy: 1.0000 - 20ms/epoch - 20ms/step\n"
     ]
    },
    {
     "name": "stderr",
     "output_type": "stream",
     "text": [
      " 84%|████████▍ | 1201/1425 [04:07<00:49,  4.56it/s]"
     ]
    },
    {
     "name": "stdout",
     "output_type": "stream",
     "text": [
      "Inferencing on instance 1201\n",
      "1/1 [==============================] - 0s 46ms/step\n",
      "Online training on instance 1201\n",
      "1/1 - 0s - loss: 0.2650 - binary_accuracy: 0.9375 - 20ms/epoch - 20ms/step\n"
     ]
    },
    {
     "name": "stderr",
     "output_type": "stream",
     "text": [
      " 84%|████████▍ | 1202/1425 [04:07<00:51,  4.36it/s]"
     ]
    },
    {
     "name": "stdout",
     "output_type": "stream",
     "text": [
      "Inferencing on instance 1202\n",
      "1/1 [==============================] - 0s 40ms/step\n",
      "Online training on instance 1202\n",
      "1/1 - 0s - loss: 0.2540 - binary_accuracy: 1.0000 - 18ms/epoch - 18ms/step\n"
     ]
    },
    {
     "name": "stderr",
     "output_type": "stream",
     "text": [
      " 84%|████████▍ | 1203/1425 [04:07<00:49,  4.48it/s]"
     ]
    },
    {
     "name": "stdout",
     "output_type": "stream",
     "text": [
      "Inferencing on instance 1203\n",
      "1/1 [==============================] - 0s 39ms/step\n",
      "Online training on instance 1203\n",
      "1/1 - 0s - loss: 0.2662 - binary_accuracy: 1.0000 - 17ms/epoch - 17ms/step\n"
     ]
    },
    {
     "name": "stderr",
     "output_type": "stream",
     "text": [
      " 84%|████████▍ | 1204/1425 [04:07<00:48,  4.55it/s]"
     ]
    },
    {
     "name": "stdout",
     "output_type": "stream",
     "text": [
      "Inferencing on instance 1204\n",
      "1/1 [==============================] - 0s 41ms/step\n",
      "Online training on instance 1204\n",
      "1/1 - 0s - loss: 0.2378 - binary_accuracy: 1.0000 - 20ms/epoch - 20ms/step\n"
     ]
    },
    {
     "name": "stderr",
     "output_type": "stream",
     "text": [
      " 85%|████████▍ | 1205/1425 [04:07<00:50,  4.37it/s]"
     ]
    },
    {
     "name": "stdout",
     "output_type": "stream",
     "text": [
      "Inferencing on instance 1205\n",
      "1/1 [==============================] - 0s 39ms/step\n",
      "Online training on instance 1205\n",
      "1/1 - 0s - loss: 0.2506 - binary_accuracy: 1.0000 - 20ms/epoch - 20ms/step\n"
     ]
    },
    {
     "name": "stderr",
     "output_type": "stream",
     "text": [
      " 85%|████████▍ | 1206/1425 [04:08<00:49,  4.42it/s]"
     ]
    },
    {
     "name": "stdout",
     "output_type": "stream",
     "text": [
      "Inferencing on instance 1206\n",
      "1/1 [==============================] - 0s 38ms/step\n",
      "Online training on instance 1206\n",
      "1/1 - 0s - loss: 0.3361 - binary_accuracy: 0.9375 - 16ms/epoch - 16ms/step\n"
     ]
    },
    {
     "name": "stderr",
     "output_type": "stream",
     "text": [
      " 85%|████████▍ | 1207/1425 [04:08<00:47,  4.55it/s]"
     ]
    },
    {
     "name": "stdout",
     "output_type": "stream",
     "text": [
      "Inferencing on instance 1207\n",
      "1/1 [==============================] - 0s 47ms/step\n",
      "Online training on instance 1207\n",
      "1/1 - 0s - loss: 0.4740 - binary_accuracy: 0.8125 - 20ms/epoch - 20ms/step\n"
     ]
    },
    {
     "name": "stderr",
     "output_type": "stream",
     "text": [
      " 85%|████████▍ | 1208/1425 [04:08<00:50,  4.33it/s]"
     ]
    },
    {
     "name": "stdout",
     "output_type": "stream",
     "text": [
      "Inferencing on instance 1208\n",
      "1/1 [==============================] - 0s 39ms/step\n",
      "Online training on instance 1208\n",
      "1/1 - 0s - loss: 0.4938 - binary_accuracy: 0.8125 - 16ms/epoch - 16ms/step\n"
     ]
    },
    {
     "name": "stderr",
     "output_type": "stream",
     "text": [
      " 85%|████████▍ | 1209/1425 [04:08<00:48,  4.44it/s]"
     ]
    },
    {
     "name": "stdout",
     "output_type": "stream",
     "text": [
      "Inferencing on instance 1209\n",
      "1/1 [==============================] - 0s 38ms/step\n",
      "Online training on instance 1209\n",
      "1/1 - 0s - loss: 0.6883 - binary_accuracy: 0.6875 - 16ms/epoch - 16ms/step\n"
     ]
    },
    {
     "name": "stderr",
     "output_type": "stream",
     "text": [
      " 85%|████████▍ | 1210/1425 [04:09<00:47,  4.53it/s]"
     ]
    },
    {
     "name": "stdout",
     "output_type": "stream",
     "text": [
      "Inferencing on instance 1210\n",
      "1/1 [==============================] - 0s 37ms/step\n",
      "Online training on instance 1210\n",
      "1/1 - 0s - loss: 0.7511 - binary_accuracy: 0.6875 - 20ms/epoch - 20ms/step\n"
     ]
    },
    {
     "name": "stderr",
     "output_type": "stream",
     "text": [
      " 85%|████████▍ | 1211/1425 [04:09<00:49,  4.34it/s]"
     ]
    },
    {
     "name": "stdout",
     "output_type": "stream",
     "text": [
      "Inferencing on instance 1211\n",
      "1/1 [==============================] - 0s 38ms/step\n",
      "Online training on instance 1211\n",
      "1/1 - 0s - loss: 0.8915 - binary_accuracy: 0.6250 - 18ms/epoch - 18ms/step\n"
     ]
    },
    {
     "name": "stderr",
     "output_type": "stream",
     "text": [
      " 85%|████████▌ | 1212/1425 [04:09<00:48,  4.35it/s]"
     ]
    },
    {
     "name": "stdout",
     "output_type": "stream",
     "text": [
      "Inferencing on instance 1212\n",
      "1/1 [==============================] - 0s 41ms/step\n",
      "Online training on instance 1212\n",
      "1/1 - 0s - loss: 0.9315 - binary_accuracy: 0.5625 - 17ms/epoch - 17ms/step\n"
     ]
    },
    {
     "name": "stderr",
     "output_type": "stream",
     "text": [
      " 85%|████████▌ | 1213/1425 [04:09<00:49,  4.29it/s]"
     ]
    },
    {
     "name": "stdout",
     "output_type": "stream",
     "text": [
      "Inferencing on instance 1213\n",
      "1/1 [==============================] - 0s 40ms/step\n",
      "Online training on instance 1213\n",
      "1/1 - 0s - loss: 1.1086 - binary_accuracy: 0.5000 - 21ms/epoch - 21ms/step\n"
     ]
    },
    {
     "name": "stderr",
     "output_type": "stream",
     "text": [
      " 85%|████████▌ | 1214/1425 [04:10<00:51,  4.13it/s]"
     ]
    },
    {
     "name": "stdout",
     "output_type": "stream",
     "text": [
      "Inferencing on instance 1214\n",
      "1/1 [==============================] - 0s 41ms/step\n",
      "Online training on instance 1214\n",
      "1/1 - 0s - loss: 1.1329 - binary_accuracy: 0.4375 - 18ms/epoch - 18ms/step\n"
     ]
    },
    {
     "name": "stderr",
     "output_type": "stream",
     "text": [
      " 85%|████████▌ | 1215/1425 [04:10<00:49,  4.22it/s]"
     ]
    },
    {
     "name": "stdout",
     "output_type": "stream",
     "text": [
      "Inferencing on instance 1215\n",
      "1/1 [==============================] - 0s 40ms/step\n",
      "Online training on instance 1215\n",
      "1/1 - 0s - loss: 1.2639 - binary_accuracy: 0.3750 - 18ms/epoch - 18ms/step\n"
     ]
    },
    {
     "name": "stderr",
     "output_type": "stream",
     "text": [
      " 85%|████████▌ | 1216/1425 [04:10<00:48,  4.29it/s]"
     ]
    },
    {
     "name": "stdout",
     "output_type": "stream",
     "text": [
      "Inferencing on instance 1216\n",
      "1/1 [==============================] - 0s 40ms/step\n",
      "Online training on instance 1216\n",
      "1/1 - 0s - loss: 1.3226 - binary_accuracy: 0.3125 - 21ms/epoch - 21ms/step\n"
     ]
    },
    {
     "name": "stderr",
     "output_type": "stream",
     "text": [
      " 85%|████████▌ | 1217/1425 [04:10<00:49,  4.21it/s]"
     ]
    },
    {
     "name": "stdout",
     "output_type": "stream",
     "text": [
      "Inferencing on instance 1217\n",
      "1/1 [==============================] - 0s 39ms/step\n",
      "Online training on instance 1217\n",
      "1/1 - 0s - loss: 1.4615 - binary_accuracy: 0.2500 - 21ms/epoch - 21ms/step\n"
     ]
    },
    {
     "name": "stderr",
     "output_type": "stream",
     "text": [
      " 85%|████████▌ | 1218/1425 [04:11<00:50,  4.10it/s]"
     ]
    },
    {
     "name": "stdout",
     "output_type": "stream",
     "text": [
      "Inferencing on instance 1218\n",
      "1/1 [==============================] - 0s 35ms/step\n",
      "Online training on instance 1218\n",
      "1/1 - 0s - loss: 1.5069 - binary_accuracy: 0.1875 - 14ms/epoch - 14ms/step\n"
     ]
    },
    {
     "name": "stderr",
     "output_type": "stream",
     "text": [
      " 86%|████████▌ | 1219/1425 [04:11<00:48,  4.25it/s]"
     ]
    },
    {
     "name": "stdout",
     "output_type": "stream",
     "text": [
      "Inferencing on instance 1219\n",
      "1/1 [==============================] - 0s 41ms/step\n",
      "Online training on instance 1219\n",
      "1/1 - 0s - loss: 1.5667 - binary_accuracy: 0.1250 - 17ms/epoch - 17ms/step\n"
     ]
    },
    {
     "name": "stderr",
     "output_type": "stream",
     "text": [
      " 86%|████████▌ | 1220/1425 [04:11<00:46,  4.37it/s]"
     ]
    },
    {
     "name": "stdout",
     "output_type": "stream",
     "text": [
      "Inferencing on instance 1220\n",
      "1/1 [==============================] - 0s 39ms/step\n",
      "Online training on instance 1220\n",
      "1/1 - 0s - loss: 1.5580 - binary_accuracy: 0.0625 - 16ms/epoch - 16ms/step\n"
     ]
    },
    {
     "name": "stderr",
     "output_type": "stream",
     "text": [
      " 86%|████████▌ | 1221/1425 [04:11<00:47,  4.31it/s]"
     ]
    },
    {
     "name": "stdout",
     "output_type": "stream",
     "text": [
      "Inferencing on instance 1221\n",
      "1/1 [==============================] - 0s 49ms/step\n",
      "Online training on instance 1221\n",
      "1/1 - 0s - loss: 1.5428 - binary_accuracy: 0.0000e+00 - 22ms/epoch - 22ms/step\n"
     ]
    },
    {
     "name": "stderr",
     "output_type": "stream",
     "text": [
      " 86%|████████▌ | 1222/1425 [04:11<00:49,  4.14it/s]"
     ]
    },
    {
     "name": "stdout",
     "output_type": "stream",
     "text": [
      "Inferencing on instance 1222\n",
      "1/1 [==============================] - 0s 44ms/step\n",
      "Online training on instance 1222\n",
      "1/1 - 0s - loss: 1.5665 - binary_accuracy: 0.0000e+00 - 21ms/epoch - 21ms/step\n"
     ]
    },
    {
     "name": "stderr",
     "output_type": "stream",
     "text": [
      " 86%|████████▌ | 1223/1425 [04:12<00:51,  3.95it/s]"
     ]
    },
    {
     "name": "stdout",
     "output_type": "stream",
     "text": [
      "Inferencing on instance 1223\n",
      "1/1 [==============================] - 0s 48ms/step\n",
      "Online training on instance 1223\n",
      "1/1 - 0s - loss: 1.4618 - binary_accuracy: 0.0625 - 19ms/epoch - 19ms/step\n"
     ]
    },
    {
     "name": "stderr",
     "output_type": "stream",
     "text": [
      " 86%|████████▌ | 1224/1425 [04:12<00:50,  3.98it/s]"
     ]
    },
    {
     "name": "stdout",
     "output_type": "stream",
     "text": [
      "Inferencing on instance 1224\n",
      "1/1 [==============================] - 0s 38ms/step\n",
      "Online training on instance 1224\n",
      "1/1 - 0s - loss: 1.4915 - binary_accuracy: 0.0000e+00 - 20ms/epoch - 20ms/step\n"
     ]
    },
    {
     "name": "stderr",
     "output_type": "stream",
     "text": [
      " 86%|████████▌ | 1225/1425 [04:12<00:51,  3.85it/s]"
     ]
    },
    {
     "name": "stdout",
     "output_type": "stream",
     "text": [
      "Inferencing on instance 1225\n",
      "1/1 [==============================] - 0s 47ms/step\n",
      "Online training on instance 1225\n",
      "1/1 - 0s - loss: 1.5037 - binary_accuracy: 0.0000e+00 - 18ms/epoch - 18ms/step\n"
     ]
    },
    {
     "name": "stderr",
     "output_type": "stream",
     "text": [
      " 86%|████████▌ | 1226/1425 [04:13<00:51,  3.88it/s]"
     ]
    },
    {
     "name": "stdout",
     "output_type": "stream",
     "text": [
      "Inferencing on instance 1226\n",
      "1/1 [==============================] - 0s 38ms/step\n",
      "Online training on instance 1226\n",
      "1/1 - 0s - loss: 1.4086 - binary_accuracy: 0.0000e+00 - 19ms/epoch - 19ms/step\n"
     ]
    },
    {
     "name": "stderr",
     "output_type": "stream",
     "text": [
      " 86%|████████▌ | 1227/1425 [04:13<00:48,  4.06it/s]"
     ]
    },
    {
     "name": "stdout",
     "output_type": "stream",
     "text": [
      "Inferencing on instance 1227\n",
      "1/1 [==============================] - 0s 49ms/step\n",
      "Online training on instance 1227\n",
      "1/1 - 0s - loss: 1.4264 - binary_accuracy: 0.0000e+00 - 22ms/epoch - 22ms/step\n"
     ]
    },
    {
     "name": "stderr",
     "output_type": "stream",
     "text": [
      " 86%|████████▌ | 1228/1425 [04:13<00:52,  3.77it/s]"
     ]
    },
    {
     "name": "stdout",
     "output_type": "stream",
     "text": [
      "Inferencing on instance 1228\n",
      "1/1 [==============================] - 0s 36ms/step\n",
      "Online training on instance 1228\n",
      "1/1 - 0s - loss: 1.3674 - binary_accuracy: 0.0000e+00 - 19ms/epoch - 19ms/step\n"
     ]
    },
    {
     "name": "stderr",
     "output_type": "stream",
     "text": [
      " 86%|████████▌ | 1229/1425 [04:13<00:50,  3.88it/s]"
     ]
    },
    {
     "name": "stdout",
     "output_type": "stream",
     "text": [
      "Inferencing on instance 1229\n",
      "1/1 [==============================] - 0s 42ms/step\n",
      "Online training on instance 1229\n",
      "1/1 - 0s - loss: 1.3234 - binary_accuracy: 0.0000e+00 - 21ms/epoch - 21ms/step\n"
     ]
    },
    {
     "name": "stderr",
     "output_type": "stream",
     "text": [
      " 86%|████████▋ | 1230/1425 [04:14<00:50,  3.90it/s]"
     ]
    },
    {
     "name": "stdout",
     "output_type": "stream",
     "text": [
      "Inferencing on instance 1230\n",
      "1/1 [==============================] - 0s 38ms/step\n",
      "Online training on instance 1230\n",
      "1/1 - 0s - loss: 1.3781 - binary_accuracy: 0.0000e+00 - 17ms/epoch - 17ms/step\n"
     ]
    },
    {
     "name": "stderr",
     "output_type": "stream",
     "text": [
      " 86%|████████▋ | 1231/1425 [04:14<00:46,  4.21it/s]"
     ]
    },
    {
     "name": "stdout",
     "output_type": "stream",
     "text": [
      "Inferencing on instance 1231\n",
      "1/1 [==============================] - 0s 45ms/step\n",
      "Online training on instance 1231\n",
      "1/1 - 0s - loss: 1.2960 - binary_accuracy: 0.0000e+00 - 16ms/epoch - 16ms/step\n"
     ]
    },
    {
     "name": "stderr",
     "output_type": "stream",
     "text": [
      " 86%|████████▋ | 1232/1425 [04:14<00:45,  4.28it/s]"
     ]
    },
    {
     "name": "stdout",
     "output_type": "stream",
     "text": [
      "Inferencing on instance 1232\n",
      "1/1 [==============================] - 0s 40ms/step\n",
      "Online training on instance 1232\n",
      "1/1 - 0s - loss: 1.2754 - binary_accuracy: 0.0625 - 26ms/epoch - 26ms/step\n"
     ]
    },
    {
     "name": "stderr",
     "output_type": "stream",
     "text": [
      " 87%|████████▋ | 1233/1425 [04:14<00:44,  4.32it/s]"
     ]
    },
    {
     "name": "stdout",
     "output_type": "stream",
     "text": [
      "Inferencing on instance 1233\n",
      "1/1 [==============================] - 0s 35ms/step\n",
      "Online training on instance 1233\n",
      "1/1 - 0s - loss: 1.2428 - binary_accuracy: 0.0625 - 17ms/epoch - 17ms/step\n"
     ]
    },
    {
     "name": "stderr",
     "output_type": "stream",
     "text": [
      " 87%|████████▋ | 1234/1425 [04:14<00:44,  4.32it/s]"
     ]
    },
    {
     "name": "stdout",
     "output_type": "stream",
     "text": [
      "Inferencing on instance 1234\n",
      "1/1 [==============================] - 0s 37ms/step\n",
      "Online training on instance 1234\n",
      "1/1 - 0s - loss: 1.2187 - binary_accuracy: 0.0625 - 16ms/epoch - 16ms/step\n"
     ]
    },
    {
     "name": "stderr",
     "output_type": "stream",
     "text": [
      " 87%|████████▋ | 1235/1425 [04:15<00:42,  4.49it/s]"
     ]
    },
    {
     "name": "stdout",
     "output_type": "stream",
     "text": [
      "Inferencing on instance 1235\n",
      "1/1 [==============================] - 0s 43ms/step\n",
      "Online training on instance 1235\n",
      "1/1 - 0s - loss: 1.1982 - binary_accuracy: 0.1250 - 20ms/epoch - 20ms/step\n"
     ]
    },
    {
     "name": "stderr",
     "output_type": "stream",
     "text": [
      " 87%|████████▋ | 1236/1425 [04:15<00:43,  4.39it/s]"
     ]
    },
    {
     "name": "stdout",
     "output_type": "stream",
     "text": [
      "Inferencing on instance 1236\n",
      "1/1 [==============================] - 0s 34ms/step\n",
      "Online training on instance 1236\n",
      "1/1 - 0s - loss: 1.1526 - binary_accuracy: 0.1250 - 15ms/epoch - 15ms/step\n"
     ]
    },
    {
     "name": "stderr",
     "output_type": "stream",
     "text": [
      " 87%|████████▋ | 1237/1425 [04:15<00:41,  4.53it/s]"
     ]
    },
    {
     "name": "stdout",
     "output_type": "stream",
     "text": [
      "Inferencing on instance 1237\n",
      "1/1 [==============================] - 0s 46ms/step\n",
      "Online training on instance 1237\n",
      "1/1 - 0s - loss: 1.1365 - binary_accuracy: 0.1250 - 19ms/epoch - 19ms/step\n"
     ]
    },
    {
     "name": "stderr",
     "output_type": "stream",
     "text": [
      " 87%|████████▋ | 1238/1425 [04:15<00:42,  4.44it/s]"
     ]
    },
    {
     "name": "stdout",
     "output_type": "stream",
     "text": [
      "Inferencing on instance 1238\n",
      "1/1 [==============================] - 0s 36ms/step\n",
      "Online training on instance 1238\n",
      "1/1 - 0s - loss: 1.1199 - binary_accuracy: 0.0000e+00 - 18ms/epoch - 18ms/step\n"
     ]
    },
    {
     "name": "stderr",
     "output_type": "stream",
     "text": [
      " 87%|████████▋ | 1239/1425 [04:16<00:41,  4.44it/s]"
     ]
    },
    {
     "name": "stdout",
     "output_type": "stream",
     "text": [
      "Inferencing on instance 1239\n",
      "1/1 [==============================] - 0s 39ms/step\n",
      "Online training on instance 1239\n",
      "1/1 - 0s - loss: 1.1644 - binary_accuracy: 0.0000e+00 - 15ms/epoch - 15ms/step\n"
     ]
    },
    {
     "name": "stderr",
     "output_type": "stream",
     "text": [
      " 87%|████████▋ | 1240/1425 [04:16<00:41,  4.48it/s]"
     ]
    },
    {
     "name": "stdout",
     "output_type": "stream",
     "text": [
      "Inferencing on instance 1240\n",
      "1/1 [==============================] - 0s 36ms/step\n",
      "Online training on instance 1240\n",
      "1/1 - 0s - loss: 1.1453 - binary_accuracy: 0.0625 - 17ms/epoch - 17ms/step\n"
     ]
    },
    {
     "name": "stderr",
     "output_type": "stream",
     "text": [
      " 87%|████████▋ | 1241/1425 [04:16<00:40,  4.57it/s]"
     ]
    },
    {
     "name": "stdout",
     "output_type": "stream",
     "text": [
      "Inferencing on instance 1241\n",
      "1/1 [==============================] - 0s 40ms/step\n",
      "Online training on instance 1241\n",
      "1/1 - 0s - loss: 1.0626 - binary_accuracy: 0.1875 - 19ms/epoch - 19ms/step\n"
     ]
    },
    {
     "name": "stderr",
     "output_type": "stream",
     "text": [
      " 87%|████████▋ | 1242/1425 [04:16<00:43,  4.22it/s]"
     ]
    },
    {
     "name": "stdout",
     "output_type": "stream",
     "text": [
      "Inferencing on instance 1242\n",
      "1/1 [==============================] - 0s 36ms/step\n",
      "Online training on instance 1242\n",
      "1/1 - 0s - loss: 0.9896 - binary_accuracy: 0.3125 - 20ms/epoch - 20ms/step\n"
     ]
    },
    {
     "name": "stderr",
     "output_type": "stream",
     "text": [
      " 87%|████████▋ | 1243/1425 [04:16<00:42,  4.32it/s]"
     ]
    },
    {
     "name": "stdout",
     "output_type": "stream",
     "text": [
      "Inferencing on instance 1243\n",
      "1/1 [==============================] - 0s 34ms/step\n",
      "Online training on instance 1243\n",
      "1/1 - 0s - loss: 0.9767 - binary_accuracy: 0.2500 - 18ms/epoch - 18ms/step\n"
     ]
    },
    {
     "name": "stderr",
     "output_type": "stream",
     "text": [
      " 87%|████████▋ | 1244/1425 [04:17<00:40,  4.50it/s]"
     ]
    },
    {
     "name": "stdout",
     "output_type": "stream",
     "text": [
      "Inferencing on instance 1244\n",
      "1/1 [==============================] - 0s 39ms/step\n",
      "Online training on instance 1244\n",
      "1/1 - 0s - loss: 0.9604 - binary_accuracy: 0.3750 - 17ms/epoch - 17ms/step\n"
     ]
    },
    {
     "name": "stderr",
     "output_type": "stream",
     "text": [
      " 87%|████████▋ | 1245/1425 [04:17<00:41,  4.37it/s]"
     ]
    },
    {
     "name": "stdout",
     "output_type": "stream",
     "text": [
      "Inferencing on instance 1245\n",
      "1/1 [==============================] - 0s 41ms/step\n",
      "Online training on instance 1245\n",
      "1/1 - 0s - loss: 0.8977 - binary_accuracy: 0.3750 - 19ms/epoch - 19ms/step\n"
     ]
    },
    {
     "name": "stderr",
     "output_type": "stream",
     "text": [
      " 87%|████████▋ | 1246/1425 [04:17<00:52,  3.43it/s]"
     ]
    },
    {
     "name": "stdout",
     "output_type": "stream",
     "text": [
      "Inferencing on instance 1246\n",
      "1/1 [==============================] - 0s 40ms/step\n",
      "Online training on instance 1246\n",
      "1/1 - 0s - loss: 0.8778 - binary_accuracy: 0.4375 - 19ms/epoch - 19ms/step\n"
     ]
    },
    {
     "name": "stderr",
     "output_type": "stream",
     "text": [
      " 88%|████████▊ | 1247/1425 [04:18<00:48,  3.65it/s]"
     ]
    },
    {
     "name": "stdout",
     "output_type": "stream",
     "text": [
      "Inferencing on instance 1247\n",
      "1/1 [==============================] - 0s 34ms/step\n",
      "Online training on instance 1247\n",
      "1/1 - 0s - loss: 0.8644 - binary_accuracy: 0.5625 - 24ms/epoch - 24ms/step\n"
     ]
    },
    {
     "name": "stderr",
     "output_type": "stream",
     "text": [
      " 88%|████████▊ | 1248/1425 [04:18<00:47,  3.76it/s]"
     ]
    },
    {
     "name": "stdout",
     "output_type": "stream",
     "text": [
      "Inferencing on instance 1248\n",
      "1/1 [==============================] - 0s 47ms/step\n",
      "Online training on instance 1248\n",
      "1/1 - 0s - loss: 0.8243 - binary_accuracy: 0.6250 - 21ms/epoch - 21ms/step\n"
     ]
    },
    {
     "name": "stderr",
     "output_type": "stream",
     "text": [
      " 88%|████████▊ | 1249/1425 [04:18<00:45,  3.83it/s]"
     ]
    },
    {
     "name": "stdout",
     "output_type": "stream",
     "text": [
      "Inferencing on instance 1249\n",
      "1/1 [==============================] - 0s 38ms/step\n",
      "Online training on instance 1249\n",
      "1/1 - 0s - loss: 0.8183 - binary_accuracy: 0.7500 - 20ms/epoch - 20ms/step\n"
     ]
    },
    {
     "name": "stderr",
     "output_type": "stream",
     "text": [
      " 88%|████████▊ | 1250/1425 [04:18<00:44,  3.92it/s]"
     ]
    },
    {
     "name": "stdout",
     "output_type": "stream",
     "text": [
      "Inferencing on instance 1250\n",
      "1/1 [==============================] - 0s 59ms/step\n",
      "Online training on instance 1250\n",
      "1/1 - 0s - loss: 0.7637 - binary_accuracy: 0.8125 - 17ms/epoch - 17ms/step\n"
     ]
    },
    {
     "name": "stderr",
     "output_type": "stream",
     "text": [
      " 88%|████████▊ | 1251/1425 [04:19<00:44,  3.94it/s]"
     ]
    },
    {
     "name": "stdout",
     "output_type": "stream",
     "text": [
      "Inferencing on instance 1251\n",
      "1/1 [==============================] - 0s 37ms/step\n",
      "Online training on instance 1251\n",
      "1/1 - 0s - loss: 0.7865 - binary_accuracy: 0.6875 - 16ms/epoch - 16ms/step\n"
     ]
    },
    {
     "name": "stderr",
     "output_type": "stream",
     "text": [
      " 88%|████████▊ | 1252/1425 [04:19<00:41,  4.18it/s]"
     ]
    },
    {
     "name": "stdout",
     "output_type": "stream",
     "text": [
      "Inferencing on instance 1252\n",
      "1/1 [==============================] - 0s 33ms/step\n",
      "Online training on instance 1252\n",
      "1/1 - 0s - loss: 0.6454 - binary_accuracy: 0.8750 - 15ms/epoch - 15ms/step\n"
     ]
    },
    {
     "name": "stderr",
     "output_type": "stream",
     "text": [
      " 88%|████████▊ | 1253/1425 [04:19<00:38,  4.41it/s]"
     ]
    },
    {
     "name": "stdout",
     "output_type": "stream",
     "text": [
      "Inferencing on instance 1253\n",
      "1/1 [==============================] - 0s 44ms/step\n",
      "Online training on instance 1253\n",
      "1/1 - 0s - loss: 0.5598 - binary_accuracy: 0.8750 - 21ms/epoch - 21ms/step\n"
     ]
    },
    {
     "name": "stderr",
     "output_type": "stream",
     "text": [
      " 88%|████████▊ | 1254/1425 [04:19<00:41,  4.15it/s]"
     ]
    },
    {
     "name": "stdout",
     "output_type": "stream",
     "text": [
      "Inferencing on instance 1254\n",
      "1/1 [==============================] - 0s 33ms/step\n",
      "Online training on instance 1254\n",
      "1/1 - 0s - loss: 0.5589 - binary_accuracy: 0.8750 - 19ms/epoch - 19ms/step\n"
     ]
    },
    {
     "name": "stderr",
     "output_type": "stream",
     "text": [
      " 88%|████████▊ | 1255/1425 [04:19<00:41,  4.10it/s]"
     ]
    },
    {
     "name": "stdout",
     "output_type": "stream",
     "text": [
      "Inferencing on instance 1255\n",
      "1/1 [==============================] - 0s 31ms/step\n",
      "Online training on instance 1255\n",
      "1/1 - 0s - loss: 0.5548 - binary_accuracy: 0.9375 - 18ms/epoch - 18ms/step\n"
     ]
    },
    {
     "name": "stderr",
     "output_type": "stream",
     "text": [
      " 88%|████████▊ | 1256/1425 [04:20<00:39,  4.30it/s]"
     ]
    },
    {
     "name": "stdout",
     "output_type": "stream",
     "text": [
      "Inferencing on instance 1256\n",
      "1/1 [==============================] - 0s 66ms/step\n",
      "Online training on instance 1256\n",
      "1/1 - 0s - loss: 0.5329 - binary_accuracy: 0.9375 - 20ms/epoch - 20ms/step\n"
     ]
    },
    {
     "name": "stderr",
     "output_type": "stream",
     "text": [
      " 88%|████████▊ | 1257/1425 [04:20<00:42,  4.00it/s]"
     ]
    },
    {
     "name": "stdout",
     "output_type": "stream",
     "text": [
      "Inferencing on instance 1257\n",
      "1/1 [==============================] - 0s 41ms/step\n",
      "Online training on instance 1257\n",
      "1/1 - 0s - loss: 0.5442 - binary_accuracy: 0.9375 - 15ms/epoch - 15ms/step\n"
     ]
    },
    {
     "name": "stderr",
     "output_type": "stream",
     "text": [
      " 88%|████████▊ | 1258/1425 [04:20<00:41,  4.06it/s]"
     ]
    },
    {
     "name": "stdout",
     "output_type": "stream",
     "text": [
      "Inferencing on instance 1258\n",
      "1/1 [==============================] - 0s 37ms/step\n",
      "Online training on instance 1258\n",
      "1/1 - 0s - loss: 0.5581 - binary_accuracy: 0.9375 - 17ms/epoch - 17ms/step\n"
     ]
    },
    {
     "name": "stderr",
     "output_type": "stream",
     "text": [
      " 88%|████████▊ | 1259/1425 [04:20<00:38,  4.26it/s]"
     ]
    },
    {
     "name": "stdout",
     "output_type": "stream",
     "text": [
      "Inferencing on instance 1259\n",
      "1/1 [==============================] - 0s 42ms/step\n",
      "Online training on instance 1259\n",
      "1/1 - 0s - loss: 0.5592 - binary_accuracy: 0.9375 - 35ms/epoch - 35ms/step\n"
     ]
    },
    {
     "name": "stderr",
     "output_type": "stream",
     "text": [
      " 88%|████████▊ | 1260/1425 [04:21<00:42,  3.91it/s]"
     ]
    },
    {
     "name": "stdout",
     "output_type": "stream",
     "text": [
      "Inferencing on instance 1260\n",
      "1/1 [==============================] - 0s 51ms/step\n",
      "Online training on instance 1260\n",
      "1/1 - 0s - loss: 0.5232 - binary_accuracy: 1.0000 - 21ms/epoch - 21ms/step\n"
     ]
    },
    {
     "name": "stderr",
     "output_type": "stream",
     "text": [
      " 88%|████████▊ | 1261/1425 [04:21<00:42,  3.87it/s]"
     ]
    },
    {
     "name": "stdout",
     "output_type": "stream",
     "text": [
      "Inferencing on instance 1261\n",
      "1/1 [==============================] - 0s 53ms/step\n",
      "Online training on instance 1261\n",
      "1/1 - 0s - loss: 0.4974 - binary_accuracy: 0.9375 - 18ms/epoch - 18ms/step\n"
     ]
    },
    {
     "name": "stderr",
     "output_type": "stream",
     "text": [
      " 89%|████████▊ | 1262/1425 [04:21<00:42,  3.85it/s]"
     ]
    },
    {
     "name": "stdout",
     "output_type": "stream",
     "text": [
      "Inferencing on instance 1262\n",
      "1/1 [==============================] - 0s 38ms/step\n",
      "Online training on instance 1262\n",
      "1/1 - 0s - loss: 0.5118 - binary_accuracy: 0.9375 - 17ms/epoch - 17ms/step\n"
     ]
    },
    {
     "name": "stderr",
     "output_type": "stream",
     "text": [
      " 89%|████████▊ | 1263/1425 [04:21<00:40,  4.02it/s]"
     ]
    },
    {
     "name": "stdout",
     "output_type": "stream",
     "text": [
      "Inferencing on instance 1263\n",
      "1/1 [==============================] - 0s 35ms/step\n",
      "Online training on instance 1263\n",
      "1/1 - 0s - loss: 0.4874 - binary_accuracy: 0.9375 - 23ms/epoch - 23ms/step\n"
     ]
    },
    {
     "name": "stderr",
     "output_type": "stream",
     "text": [
      " 89%|████████▊ | 1264/1425 [04:22<00:40,  3.95it/s]"
     ]
    },
    {
     "name": "stdout",
     "output_type": "stream",
     "text": [
      "Inferencing on instance 1264\n",
      "1/1 [==============================] - 0s 40ms/step\n",
      "Online training on instance 1264\n",
      "1/1 - 0s - loss: 0.5031 - binary_accuracy: 0.9375 - 21ms/epoch - 21ms/step\n"
     ]
    },
    {
     "name": "stderr",
     "output_type": "stream",
     "text": [
      " 89%|████████▉ | 1265/1425 [04:22<00:40,  3.91it/s]"
     ]
    },
    {
     "name": "stdout",
     "output_type": "stream",
     "text": [
      "Inferencing on instance 1265\n",
      "1/1 [==============================] - 0s 50ms/step\n",
      "Online training on instance 1265\n",
      "1/1 - 0s - loss: 0.4745 - binary_accuracy: 1.0000 - 14ms/epoch - 14ms/step\n"
     ]
    },
    {
     "name": "stderr",
     "output_type": "stream",
     "text": [
      " 89%|████████▉ | 1266/1425 [04:22<00:39,  3.98it/s]"
     ]
    },
    {
     "name": "stdout",
     "output_type": "stream",
     "text": [
      "Inferencing on instance 1266\n",
      "1/1 [==============================] - 0s 39ms/step\n",
      "Online training on instance 1266\n",
      "1/1 - 0s - loss: 0.4617 - binary_accuracy: 1.0000 - 21ms/epoch - 21ms/step\n"
     ]
    },
    {
     "name": "stderr",
     "output_type": "stream",
     "text": [
      " 89%|████████▉ | 1267/1425 [04:23<00:39,  3.96it/s]"
     ]
    },
    {
     "name": "stdout",
     "output_type": "stream",
     "text": [
      "Inferencing on instance 1267\n",
      "1/1 [==============================] - 0s 39ms/step\n",
      "Online training on instance 1267\n",
      "1/1 - 0s - loss: 0.4662 - binary_accuracy: 1.0000 - 19ms/epoch - 19ms/step\n"
     ]
    },
    {
     "name": "stderr",
     "output_type": "stream",
     "text": [
      " 89%|████████▉ | 1268/1425 [04:23<00:39,  3.95it/s]"
     ]
    },
    {
     "name": "stdout",
     "output_type": "stream",
     "text": [
      "Inferencing on instance 1268\n",
      "1/1 [==============================] - 0s 45ms/step\n",
      "Online training on instance 1268\n",
      "1/1 - 0s - loss: 0.4586 - binary_accuracy: 0.9375 - 21ms/epoch - 21ms/step\n"
     ]
    },
    {
     "name": "stderr",
     "output_type": "stream",
     "text": [
      " 89%|████████▉ | 1269/1425 [04:23<00:40,  3.81it/s]"
     ]
    },
    {
     "name": "stdout",
     "output_type": "stream",
     "text": [
      "Inferencing on instance 1269\n",
      "1/1 [==============================] - 0s 59ms/step\n",
      "Online training on instance 1269\n",
      "1/1 - 0s - loss: 0.4478 - binary_accuracy: 1.0000 - 22ms/epoch - 22ms/step\n"
     ]
    },
    {
     "name": "stderr",
     "output_type": "stream",
     "text": [
      " 89%|████████▉ | 1270/1425 [04:23<00:41,  3.70it/s]"
     ]
    },
    {
     "name": "stdout",
     "output_type": "stream",
     "text": [
      "Inferencing on instance 1270\n",
      "1/1 [==============================] - 0s 38ms/step\n",
      "Online training on instance 1270\n",
      "1/1 - 0s - loss: 0.4445 - binary_accuracy: 1.0000 - 16ms/epoch - 16ms/step\n"
     ]
    },
    {
     "name": "stderr",
     "output_type": "stream",
     "text": [
      " 89%|████████▉ | 1271/1425 [04:24<00:39,  3.87it/s]"
     ]
    },
    {
     "name": "stdout",
     "output_type": "stream",
     "text": [
      "Inferencing on instance 1271\n",
      "1/1 [==============================] - 0s 43ms/step\n",
      "Online training on instance 1271\n",
      "1/1 - 0s - loss: 0.4427 - binary_accuracy: 1.0000 - 19ms/epoch - 19ms/step\n"
     ]
    },
    {
     "name": "stderr",
     "output_type": "stream",
     "text": [
      " 89%|████████▉ | 1272/1425 [04:24<00:39,  3.89it/s]"
     ]
    },
    {
     "name": "stdout",
     "output_type": "stream",
     "text": [
      "Inferencing on instance 1272\n",
      "1/1 [==============================] - 0s 88ms/step\n",
      "Online training on instance 1272\n",
      "1/1 - 0s - loss: 0.4231 - binary_accuracy: 1.0000 - 21ms/epoch - 21ms/step\n"
     ]
    },
    {
     "name": "stderr",
     "output_type": "stream",
     "text": [
      " 89%|████████▉ | 1273/1425 [04:24<00:42,  3.55it/s]"
     ]
    },
    {
     "name": "stdout",
     "output_type": "stream",
     "text": [
      "Inferencing on instance 1273\n",
      "1/1 [==============================] - 0s 53ms/step\n",
      "Online training on instance 1273\n",
      "1/1 - 0s - loss: 0.4372 - binary_accuracy: 0.9375 - 21ms/epoch - 21ms/step\n"
     ]
    },
    {
     "name": "stderr",
     "output_type": "stream",
     "text": [
      " 89%|████████▉ | 1274/1425 [04:24<00:43,  3.44it/s]"
     ]
    },
    {
     "name": "stdout",
     "output_type": "stream",
     "text": [
      "Inferencing on instance 1274\n",
      "1/1 [==============================] - 0s 45ms/step\n",
      "Online training on instance 1274\n",
      "1/1 - 0s - loss: 0.4162 - binary_accuracy: 1.0000 - 28ms/epoch - 28ms/step\n"
     ]
    },
    {
     "name": "stderr",
     "output_type": "stream",
     "text": [
      " 89%|████████▉ | 1275/1425 [04:25<00:43,  3.45it/s]"
     ]
    },
    {
     "name": "stdout",
     "output_type": "stream",
     "text": [
      "Inferencing on instance 1275\n",
      "1/1 [==============================] - 0s 32ms/step\n",
      "Online training on instance 1275\n",
      "1/1 - 0s - loss: 0.4023 - binary_accuracy: 1.0000 - 20ms/epoch - 20ms/step\n"
     ]
    },
    {
     "name": "stderr",
     "output_type": "stream",
     "text": [
      " 90%|████████▉ | 1276/1425 [04:25<00:39,  3.76it/s]"
     ]
    },
    {
     "name": "stdout",
     "output_type": "stream",
     "text": [
      "Inferencing on instance 1276\n",
      "1/1 [==============================] - 0s 36ms/step\n",
      "Online training on instance 1276\n",
      "1/1 - 0s - loss: 0.4163 - binary_accuracy: 1.0000 - 21ms/epoch - 21ms/step\n"
     ]
    },
    {
     "name": "stderr",
     "output_type": "stream",
     "text": [
      " 90%|████████▉ | 1277/1425 [04:25<00:38,  3.87it/s]"
     ]
    },
    {
     "name": "stdout",
     "output_type": "stream",
     "text": [
      "Inferencing on instance 1277\n",
      "1/1 [==============================] - 0s 67ms/step\n",
      "Online training on instance 1277\n",
      "1/1 - 0s - loss: 0.4025 - binary_accuracy: 1.0000 - 27ms/epoch - 27ms/step\n"
     ]
    },
    {
     "name": "stderr",
     "output_type": "stream",
     "text": [
      " 90%|████████▉ | 1278/1425 [04:26<00:40,  3.66it/s]"
     ]
    },
    {
     "name": "stdout",
     "output_type": "stream",
     "text": [
      "Inferencing on instance 1278\n",
      "1/1 [==============================] - 0s 46ms/step\n",
      "Online training on instance 1278\n",
      "1/1 - 0s - loss: 0.3919 - binary_accuracy: 1.0000 - 22ms/epoch - 22ms/step\n"
     ]
    },
    {
     "name": "stderr",
     "output_type": "stream",
     "text": [
      " 90%|████████▉ | 1279/1425 [04:26<00:39,  3.74it/s]"
     ]
    },
    {
     "name": "stdout",
     "output_type": "stream",
     "text": [
      "Inferencing on instance 1279\n",
      "1/1 [==============================] - 0s 37ms/step\n",
      "Online training on instance 1279\n",
      "1/1 - 0s - loss: 0.4049 - binary_accuracy: 1.0000 - 17ms/epoch - 17ms/step\n"
     ]
    },
    {
     "name": "stderr",
     "output_type": "stream",
     "text": [
      " 90%|████████▉ | 1280/1425 [04:26<00:37,  3.82it/s]"
     ]
    },
    {
     "name": "stdout",
     "output_type": "stream",
     "text": [
      "Inferencing on instance 1280\n",
      "1/1 [==============================] - 0s 38ms/step\n",
      "Online training on instance 1280\n",
      "1/1 - 0s - loss: 0.4213 - binary_accuracy: 1.0000 - 19ms/epoch - 19ms/step\n"
     ]
    },
    {
     "name": "stderr",
     "output_type": "stream",
     "text": [
      " 90%|████████▉ | 1281/1425 [04:26<00:36,  3.93it/s]"
     ]
    },
    {
     "name": "stdout",
     "output_type": "stream",
     "text": [
      "Inferencing on instance 1281\n",
      "1/1 [==============================] - 0s 37ms/step\n",
      "Online training on instance 1281\n",
      "1/1 - 0s - loss: 0.3926 - binary_accuracy: 1.0000 - 18ms/epoch - 18ms/step\n"
     ]
    },
    {
     "name": "stderr",
     "output_type": "stream",
     "text": [
      " 90%|████████▉ | 1282/1425 [04:26<00:35,  4.08it/s]"
     ]
    },
    {
     "name": "stdout",
     "output_type": "stream",
     "text": [
      "Inferencing on instance 1282\n",
      "1/1 [==============================] - 0s 42ms/step\n",
      "Online training on instance 1282\n",
      "1/1 - 0s - loss: 0.3826 - binary_accuracy: 1.0000 - 20ms/epoch - 20ms/step\n"
     ]
    },
    {
     "name": "stderr",
     "output_type": "stream",
     "text": [
      " 90%|█████████ | 1283/1425 [04:27<00:35,  4.02it/s]"
     ]
    },
    {
     "name": "stdout",
     "output_type": "stream",
     "text": [
      "Inferencing on instance 1283\n",
      "1/1 [==============================] - 0s 41ms/step\n",
      "Online training on instance 1283\n",
      "1/1 - 0s - loss: 0.4009 - binary_accuracy: 1.0000 - 20ms/epoch - 20ms/step\n"
     ]
    },
    {
     "name": "stderr",
     "output_type": "stream",
     "text": [
      " 90%|█████████ | 1284/1425 [04:27<00:34,  4.09it/s]"
     ]
    },
    {
     "name": "stdout",
     "output_type": "stream",
     "text": [
      "Inferencing on instance 1284\n",
      "1/1 [==============================] - 0s 42ms/step\n",
      "Online training on instance 1284\n",
      "1/1 - 0s - loss: 0.3753 - binary_accuracy: 1.0000 - 20ms/epoch - 20ms/step\n"
     ]
    },
    {
     "name": "stderr",
     "output_type": "stream",
     "text": [
      " 90%|█████████ | 1285/1425 [04:27<00:33,  4.16it/s]"
     ]
    },
    {
     "name": "stdout",
     "output_type": "stream",
     "text": [
      "Inferencing on instance 1285\n",
      "1/1 [==============================] - 0s 37ms/step\n",
      "Online training on instance 1285\n",
      "1/1 - 0s - loss: 0.3661 - binary_accuracy: 1.0000 - 21ms/epoch - 21ms/step\n"
     ]
    },
    {
     "name": "stderr",
     "output_type": "stream",
     "text": [
      " 90%|█████████ | 1286/1425 [04:27<00:34,  4.03it/s]"
     ]
    },
    {
     "name": "stdout",
     "output_type": "stream",
     "text": [
      "Inferencing on instance 1286\n",
      "1/1 [==============================] - 0s 37ms/step\n",
      "Online training on instance 1286\n",
      "1/1 - 0s - loss: 0.3640 - binary_accuracy: 1.0000 - 20ms/epoch - 20ms/step\n"
     ]
    },
    {
     "name": "stderr",
     "output_type": "stream",
     "text": [
      " 90%|█████████ | 1287/1425 [04:28<00:32,  4.22it/s]"
     ]
    },
    {
     "name": "stdout",
     "output_type": "stream",
     "text": [
      "Inferencing on instance 1287\n",
      "1/1 [==============================] - 0s 42ms/step\n",
      "Online training on instance 1287\n",
      "1/1 - 0s - loss: 0.3578 - binary_accuracy: 1.0000 - 18ms/epoch - 18ms/step\n"
     ]
    },
    {
     "name": "stderr",
     "output_type": "stream",
     "text": [
      " 90%|█████████ | 1288/1425 [04:28<00:32,  4.28it/s]"
     ]
    },
    {
     "name": "stdout",
     "output_type": "stream",
     "text": [
      "Inferencing on instance 1288\n",
      "1/1 [==============================] - 0s 41ms/step\n",
      "Online training on instance 1288\n",
      "1/1 - 0s - loss: 0.3507 - binary_accuracy: 1.0000 - 23ms/epoch - 23ms/step\n"
     ]
    },
    {
     "name": "stderr",
     "output_type": "stream",
     "text": [
      " 90%|█████████ | 1289/1425 [04:28<00:33,  4.07it/s]"
     ]
    },
    {
     "name": "stdout",
     "output_type": "stream",
     "text": [
      "Inferencing on instance 1289\n",
      "1/1 [==============================] - 0s 48ms/step\n",
      "Online training on instance 1289\n",
      "1/1 - 0s - loss: 0.3402 - binary_accuracy: 1.0000 - 16ms/epoch - 16ms/step\n"
     ]
    },
    {
     "name": "stderr",
     "output_type": "stream",
     "text": [
      " 91%|█████████ | 1290/1425 [04:28<00:32,  4.17it/s]"
     ]
    },
    {
     "name": "stdout",
     "output_type": "stream",
     "text": [
      "Inferencing on instance 1290\n",
      "1/1 [==============================] - 0s 39ms/step\n",
      "Online training on instance 1290\n",
      "1/1 - 0s - loss: 0.3493 - binary_accuracy: 1.0000 - 15ms/epoch - 15ms/step\n"
     ]
    },
    {
     "name": "stderr",
     "output_type": "stream",
     "text": [
      " 91%|█████████ | 1291/1425 [04:29<00:30,  4.32it/s]"
     ]
    },
    {
     "name": "stdout",
     "output_type": "stream",
     "text": [
      "Inferencing on instance 1291\n",
      "1/1 [==============================] - 0s 34ms/step\n",
      "Online training on instance 1291\n",
      "1/1 - 0s - loss: 0.3402 - binary_accuracy: 1.0000 - 15ms/epoch - 15ms/step\n"
     ]
    },
    {
     "name": "stderr",
     "output_type": "stream",
     "text": [
      " 91%|█████████ | 1292/1425 [04:29<00:29,  4.50it/s]"
     ]
    },
    {
     "name": "stdout",
     "output_type": "stream",
     "text": [
      "Inferencing on instance 1292\n",
      "1/1 [==============================] - 0s 38ms/step\n",
      "Online training on instance 1292\n",
      "1/1 - 0s - loss: 0.3503 - binary_accuracy: 1.0000 - 19ms/epoch - 19ms/step\n"
     ]
    },
    {
     "name": "stderr",
     "output_type": "stream",
     "text": [
      " 91%|█████████ | 1293/1425 [04:29<00:29,  4.45it/s]"
     ]
    },
    {
     "name": "stdout",
     "output_type": "stream",
     "text": [
      "Inferencing on instance 1293\n",
      "1/1 [==============================] - 0s 38ms/step\n",
      "Online training on instance 1293\n",
      "1/1 - 0s - loss: 0.3360 - binary_accuracy: 1.0000 - 16ms/epoch - 16ms/step\n"
     ]
    },
    {
     "name": "stderr",
     "output_type": "stream",
     "text": [
      " 91%|█████████ | 1294/1425 [04:29<00:28,  4.58it/s]"
     ]
    },
    {
     "name": "stdout",
     "output_type": "stream",
     "text": [
      "Inferencing on instance 1294\n",
      "1/1 [==============================] - 0s 34ms/step\n",
      "Online training on instance 1294\n",
      "1/1 - 0s - loss: 0.3244 - binary_accuracy: 1.0000 - 16ms/epoch - 16ms/step\n"
     ]
    },
    {
     "name": "stderr",
     "output_type": "stream",
     "text": [
      " 91%|█████████ | 1295/1425 [04:29<00:27,  4.69it/s]"
     ]
    },
    {
     "name": "stdout",
     "output_type": "stream",
     "text": [
      "Inferencing on instance 1295\n",
      "1/1 [==============================] - 0s 47ms/step\n",
      "Online training on instance 1295\n",
      "1/1 - 0s - loss: 0.3226 - binary_accuracy: 1.0000 - 14ms/epoch - 14ms/step\n"
     ]
    },
    {
     "name": "stderr",
     "output_type": "stream",
     "text": [
      " 91%|█████████ | 1296/1425 [04:30<00:28,  4.59it/s]"
     ]
    },
    {
     "name": "stdout",
     "output_type": "stream",
     "text": [
      "Inferencing on instance 1296\n",
      "1/1 [==============================] - 0s 30ms/step\n",
      "Online training on instance 1296\n",
      "1/1 - 0s - loss: 0.3102 - binary_accuracy: 1.0000 - 18ms/epoch - 18ms/step\n"
     ]
    },
    {
     "name": "stderr",
     "output_type": "stream",
     "text": [
      " 91%|█████████ | 1297/1425 [04:30<00:26,  4.81it/s]"
     ]
    },
    {
     "name": "stdout",
     "output_type": "stream",
     "text": [
      "Inferencing on instance 1297\n",
      "1/1 [==============================] - 0s 32ms/step\n",
      "Online training on instance 1297\n",
      "1/1 - 0s - loss: 0.3153 - binary_accuracy: 1.0000 - 16ms/epoch - 16ms/step\n"
     ]
    },
    {
     "name": "stderr",
     "output_type": "stream",
     "text": [
      " 91%|█████████ | 1298/1425 [04:30<00:25,  4.93it/s]"
     ]
    },
    {
     "name": "stdout",
     "output_type": "stream",
     "text": [
      "Inferencing on instance 1298\n",
      "1/1 [==============================] - 0s 34ms/step\n",
      "Online training on instance 1298\n",
      "1/1 - 0s - loss: 0.3964 - binary_accuracy: 0.9375 - 18ms/epoch - 18ms/step\n"
     ]
    },
    {
     "name": "stderr",
     "output_type": "stream",
     "text": [
      " 91%|█████████ | 1299/1425 [04:30<00:25,  4.98it/s]"
     ]
    },
    {
     "name": "stdout",
     "output_type": "stream",
     "text": [
      "Inferencing on instance 1299\n",
      "1/1 [==============================] - 0s 41ms/step\n",
      "Online training on instance 1299\n",
      "1/1 - 0s - loss: 0.4902 - binary_accuracy: 0.8750 - 18ms/epoch - 18ms/step\n"
     ]
    },
    {
     "name": "stderr",
     "output_type": "stream",
     "text": [
      " 91%|█████████ | 1300/1425 [04:31<00:27,  4.59it/s]"
     ]
    },
    {
     "name": "stdout",
     "output_type": "stream",
     "text": [
      "Inferencing on instance 1300\n",
      "1/1 [==============================] - 0s 39ms/step\n",
      "Online training on instance 1300\n",
      "1/1 - 0s - loss: 0.5880 - binary_accuracy: 0.8125 - 16ms/epoch - 16ms/step\n"
     ]
    },
    {
     "name": "stderr",
     "output_type": "stream",
     "text": [
      " 91%|█████████▏| 1301/1425 [04:31<00:26,  4.65it/s]"
     ]
    },
    {
     "name": "stdout",
     "output_type": "stream",
     "text": [
      "Inferencing on instance 1301\n",
      "1/1 [==============================] - 0s 36ms/step\n",
      "Online training on instance 1301\n",
      "1/1 - 0s - loss: 0.6372 - binary_accuracy: 0.7500 - 15ms/epoch - 15ms/step\n"
     ]
    },
    {
     "name": "stderr",
     "output_type": "stream",
     "text": [
      " 91%|█████████▏| 1302/1425 [04:31<00:25,  4.83it/s]"
     ]
    },
    {
     "name": "stdout",
     "output_type": "stream",
     "text": [
      "Inferencing on instance 1302\n",
      "1/1 [==============================] - 0s 42ms/step\n",
      "Online training on instance 1302\n",
      "1/1 - 0s - loss: 0.6374 - binary_accuracy: 0.7500 - 19ms/epoch - 19ms/step\n"
     ]
    },
    {
     "name": "stderr",
     "output_type": "stream",
     "text": [
      " 91%|█████████▏| 1303/1425 [04:31<00:26,  4.64it/s]"
     ]
    },
    {
     "name": "stdout",
     "output_type": "stream",
     "text": [
      "Inferencing on instance 1303\n",
      "1/1 [==============================] - 0s 38ms/step\n",
      "Online training on instance 1303\n",
      "1/1 - 0s - loss: 0.6297 - binary_accuracy: 0.7500 - 18ms/epoch - 18ms/step\n"
     ]
    },
    {
     "name": "stderr",
     "output_type": "stream",
     "text": [
      " 92%|█████████▏| 1304/1425 [04:31<00:25,  4.68it/s]"
     ]
    },
    {
     "name": "stdout",
     "output_type": "stream",
     "text": [
      "Inferencing on instance 1304\n",
      "1/1 [==============================] - 0s 39ms/step\n",
      "Online training on instance 1304\n",
      "1/1 - 0s - loss: 0.6409 - binary_accuracy: 0.7500 - 20ms/epoch - 20ms/step\n"
     ]
    },
    {
     "name": "stderr",
     "output_type": "stream",
     "text": [
      " 92%|█████████▏| 1305/1425 [04:32<00:25,  4.67it/s]"
     ]
    },
    {
     "name": "stdout",
     "output_type": "stream",
     "text": [
      "Inferencing on instance 1305\n",
      "1/1 [==============================] - 0s 39ms/step\n",
      "Online training on instance 1305\n",
      "1/1 - 0s - loss: 0.6222 - binary_accuracy: 0.7500 - 24ms/epoch - 24ms/step\n"
     ]
    },
    {
     "name": "stderr",
     "output_type": "stream",
     "text": [
      " 92%|█████████▏| 1306/1425 [04:32<00:26,  4.45it/s]"
     ]
    },
    {
     "name": "stdout",
     "output_type": "stream",
     "text": [
      "Inferencing on instance 1306\n",
      "1/1 [==============================] - 0s 43ms/step\n",
      "Online training on instance 1306\n",
      "1/1 - 0s - loss: 0.6289 - binary_accuracy: 0.7500 - 14ms/epoch - 14ms/step\n"
     ]
    },
    {
     "name": "stderr",
     "output_type": "stream",
     "text": [
      " 92%|█████████▏| 1307/1425 [04:32<00:26,  4.40it/s]"
     ]
    },
    {
     "name": "stdout",
     "output_type": "stream",
     "text": [
      "Inferencing on instance 1307\n",
      "1/1 [==============================] - 0s 36ms/step\n",
      "Online training on instance 1307\n",
      "1/1 - 0s - loss: 0.6530 - binary_accuracy: 0.7500 - 16ms/epoch - 16ms/step\n"
     ]
    },
    {
     "name": "stderr",
     "output_type": "stream",
     "text": [
      " 92%|█████████▏| 1308/1425 [04:32<00:25,  4.50it/s]"
     ]
    },
    {
     "name": "stdout",
     "output_type": "stream",
     "text": [
      "Inferencing on instance 1308\n",
      "1/1 [==============================] - 0s 33ms/step\n",
      "Online training on instance 1308\n",
      "1/1 - 0s - loss: 0.6350 - binary_accuracy: 0.7500 - 22ms/epoch - 22ms/step\n"
     ]
    },
    {
     "name": "stderr",
     "output_type": "stream",
     "text": [
      " 92%|█████████▏| 1309/1425 [04:32<00:25,  4.57it/s]"
     ]
    },
    {
     "name": "stdout",
     "output_type": "stream",
     "text": [
      "Inferencing on instance 1309\n",
      "1/1 [==============================] - 0s 37ms/step\n",
      "Online training on instance 1309\n",
      "1/1 - 0s - loss: 0.6328 - binary_accuracy: 0.7500 - 18ms/epoch - 18ms/step\n"
     ]
    },
    {
     "name": "stderr",
     "output_type": "stream",
     "text": [
      " 92%|█████████▏| 1310/1425 [04:33<00:24,  4.63it/s]"
     ]
    },
    {
     "name": "stdout",
     "output_type": "stream",
     "text": [
      "Inferencing on instance 1310\n",
      "1/1 [==============================] - 0s 34ms/step\n",
      "Online training on instance 1310\n",
      "1/1 - 0s - loss: 0.6031 - binary_accuracy: 0.7500 - 15ms/epoch - 15ms/step\n"
     ]
    },
    {
     "name": "stderr",
     "output_type": "stream",
     "text": [
      " 92%|█████████▏| 1311/1425 [04:33<00:23,  4.80it/s]"
     ]
    },
    {
     "name": "stdout",
     "output_type": "stream",
     "text": [
      "Inferencing on instance 1311\n",
      "1/1 [==============================] - 0s 37ms/step\n",
      "Online training on instance 1311\n",
      "1/1 - 0s - loss: 0.5615 - binary_accuracy: 0.7500 - 14ms/epoch - 14ms/step\n"
     ]
    },
    {
     "name": "stderr",
     "output_type": "stream",
     "text": [
      " 92%|█████████▏| 1312/1425 [04:33<00:22,  4.92it/s]"
     ]
    },
    {
     "name": "stdout",
     "output_type": "stream",
     "text": [
      "Inferencing on instance 1312\n",
      "1/1 [==============================] - 0s 53ms/step\n",
      "Online training on instance 1312\n",
      "1/1 - 0s - loss: 0.4868 - binary_accuracy: 0.7500 - 17ms/epoch - 17ms/step\n"
     ]
    },
    {
     "name": "stderr",
     "output_type": "stream",
     "text": [
      " 92%|█████████▏| 1313/1425 [04:33<00:24,  4.63it/s]"
     ]
    },
    {
     "name": "stdout",
     "output_type": "stream",
     "text": [
      "Inferencing on instance 1313\n",
      "1/1 [==============================] - 0s 37ms/step\n",
      "Online training on instance 1313\n",
      "1/1 - 0s - loss: 0.5030 - binary_accuracy: 0.7500 - 15ms/epoch - 15ms/step\n"
     ]
    },
    {
     "name": "stderr",
     "output_type": "stream",
     "text": [
      " 92%|█████████▏| 1314/1425 [04:34<00:23,  4.71it/s]"
     ]
    },
    {
     "name": "stdout",
     "output_type": "stream",
     "text": [
      "Inferencing on instance 1314\n",
      "1/1 [==============================] - 0s 42ms/step\n",
      "Online training on instance 1314\n",
      "1/1 - 0s - loss: 0.4539 - binary_accuracy: 0.8125 - 17ms/epoch - 17ms/step\n"
     ]
    },
    {
     "name": "stderr",
     "output_type": "stream",
     "text": [
      " 92%|█████████▏| 1315/1425 [04:34<00:23,  4.77it/s]"
     ]
    },
    {
     "name": "stdout",
     "output_type": "stream",
     "text": [
      "Inferencing on instance 1315\n",
      "1/1 [==============================] - 0s 33ms/step\n",
      "Online training on instance 1315\n",
      "1/1 - 0s - loss: 0.3729 - binary_accuracy: 0.8750 - 25ms/epoch - 25ms/step\n"
     ]
    },
    {
     "name": "stderr",
     "output_type": "stream",
     "text": [
      " 92%|█████████▏| 1316/1425 [04:34<00:22,  4.84it/s]"
     ]
    },
    {
     "name": "stdout",
     "output_type": "stream",
     "text": [
      "Inferencing on instance 1316\n",
      "1/1 [==============================] - 0s 35ms/step\n",
      "Online training on instance 1316\n",
      "1/1 - 0s - loss: 0.3299 - binary_accuracy: 0.9375 - 17ms/epoch - 17ms/step\n"
     ]
    },
    {
     "name": "stderr",
     "output_type": "stream",
     "text": [
      " 92%|█████████▏| 1317/1425 [04:34<00:22,  4.79it/s]"
     ]
    },
    {
     "name": "stdout",
     "output_type": "stream",
     "text": [
      "Inferencing on instance 1317\n",
      "1/1 [==============================] - 0s 31ms/step\n",
      "Online training on instance 1317\n",
      "1/1 - 0s - loss: 0.3181 - binary_accuracy: 1.0000 - 19ms/epoch - 19ms/step\n"
     ]
    },
    {
     "name": "stderr",
     "output_type": "stream",
     "text": [
      " 92%|█████████▏| 1318/1425 [04:34<00:22,  4.81it/s]"
     ]
    },
    {
     "name": "stdout",
     "output_type": "stream",
     "text": [
      "Inferencing on instance 1318\n",
      "1/1 [==============================] - 0s 43ms/step\n",
      "Online training on instance 1318\n",
      "1/1 - 0s - loss: 0.2806 - binary_accuracy: 1.0000 - 20ms/epoch - 20ms/step\n"
     ]
    },
    {
     "name": "stderr",
     "output_type": "stream",
     "text": [
      " 93%|█████████▎| 1319/1425 [04:35<00:22,  4.61it/s]"
     ]
    },
    {
     "name": "stdout",
     "output_type": "stream",
     "text": [
      "Inferencing on instance 1319\n",
      "1/1 [==============================] - 0s 51ms/step\n",
      "Online training on instance 1319\n",
      "1/1 - 0s - loss: 0.2722 - binary_accuracy: 1.0000 - 18ms/epoch - 18ms/step\n"
     ]
    },
    {
     "name": "stderr",
     "output_type": "stream",
     "text": [
      " 93%|█████████▎| 1320/1425 [04:35<00:24,  4.27it/s]"
     ]
    },
    {
     "name": "stdout",
     "output_type": "stream",
     "text": [
      "Inferencing on instance 1320\n",
      "1/1 [==============================] - 0s 45ms/step\n",
      "Online training on instance 1320\n",
      "1/1 - 0s - loss: 0.2793 - binary_accuracy: 1.0000 - 15ms/epoch - 15ms/step\n"
     ]
    },
    {
     "name": "stderr",
     "output_type": "stream",
     "text": [
      " 93%|█████████▎| 1321/1425 [04:35<00:23,  4.39it/s]"
     ]
    },
    {
     "name": "stdout",
     "output_type": "stream",
     "text": [
      "Inferencing on instance 1321\n",
      "1/1 [==============================] - 0s 46ms/step\n",
      "Online training on instance 1321\n",
      "1/1 - 0s - loss: 0.2928 - binary_accuracy: 1.0000 - 18ms/epoch - 18ms/step\n"
     ]
    },
    {
     "name": "stderr",
     "output_type": "stream",
     "text": [
      " 93%|█████████▎| 1322/1425 [04:35<00:23,  4.44it/s]"
     ]
    },
    {
     "name": "stdout",
     "output_type": "stream",
     "text": [
      "Inferencing on instance 1322\n",
      "1/1 [==============================] - 0s 46ms/step\n",
      "Online training on instance 1322\n",
      "1/1 - 0s - loss: 0.2857 - binary_accuracy: 1.0000 - 19ms/epoch - 19ms/step\n"
     ]
    },
    {
     "name": "stderr",
     "output_type": "stream",
     "text": [
      " 93%|█████████▎| 1323/1425 [04:36<00:23,  4.39it/s]"
     ]
    },
    {
     "name": "stdout",
     "output_type": "stream",
     "text": [
      "Inferencing on instance 1323\n",
      "1/1 [==============================] - 0s 43ms/step\n",
      "Online training on instance 1323\n",
      "1/1 - 0s - loss: 0.2901 - binary_accuracy: 1.0000 - 16ms/epoch - 16ms/step\n"
     ]
    },
    {
     "name": "stderr",
     "output_type": "stream",
     "text": [
      " 93%|█████████▎| 1324/1425 [04:36<00:22,  4.43it/s]"
     ]
    },
    {
     "name": "stdout",
     "output_type": "stream",
     "text": [
      "Inferencing on instance 1324\n",
      "1/1 [==============================] - 0s 40ms/step\n",
      "Online training on instance 1324\n",
      "1/1 - 0s - loss: 0.2738 - binary_accuracy: 1.0000 - 18ms/epoch - 18ms/step\n"
     ]
    },
    {
     "name": "stderr",
     "output_type": "stream",
     "text": [
      " 93%|█████████▎| 1325/1425 [04:36<00:22,  4.46it/s]"
     ]
    },
    {
     "name": "stdout",
     "output_type": "stream",
     "text": [
      "Inferencing on instance 1325\n",
      "1/1 [==============================] - 0s 41ms/step\n",
      "Online training on instance 1325\n",
      "1/1 - 0s - loss: 0.2786 - binary_accuracy: 1.0000 - 19ms/epoch - 19ms/step\n"
     ]
    },
    {
     "name": "stderr",
     "output_type": "stream",
     "text": [
      " 93%|█████████▎| 1326/1425 [04:36<00:23,  4.23it/s]"
     ]
    },
    {
     "name": "stdout",
     "output_type": "stream",
     "text": [
      "Inferencing on instance 1326\n",
      "1/1 [==============================] - 0s 45ms/step\n",
      "Online training on instance 1326\n",
      "1/1 - 0s - loss: 0.2830 - binary_accuracy: 1.0000 - 20ms/epoch - 20ms/step\n"
     ]
    },
    {
     "name": "stderr",
     "output_type": "stream",
     "text": [
      " 93%|█████████▎| 1327/1425 [04:37<00:25,  3.89it/s]"
     ]
    },
    {
     "name": "stdout",
     "output_type": "stream",
     "text": [
      "Inferencing on instance 1327\n",
      "1/1 [==============================] - 0s 37ms/step\n",
      "Online training on instance 1327\n",
      "1/1 - 0s - loss: 0.2716 - binary_accuracy: 1.0000 - 17ms/epoch - 17ms/step\n"
     ]
    },
    {
     "name": "stderr",
     "output_type": "stream",
     "text": [
      " 93%|█████████▎| 1328/1425 [04:37<00:23,  4.05it/s]"
     ]
    },
    {
     "name": "stdout",
     "output_type": "stream",
     "text": [
      "Inferencing on instance 1328\n",
      "1/1 [==============================] - 0s 45ms/step\n",
      "Online training on instance 1328\n",
      "1/1 - 0s - loss: 0.2651 - binary_accuracy: 1.0000 - 22ms/epoch - 22ms/step\n"
     ]
    },
    {
     "name": "stderr",
     "output_type": "stream",
     "text": [
      " 93%|█████████▎| 1329/1425 [04:37<00:24,  3.97it/s]"
     ]
    },
    {
     "name": "stdout",
     "output_type": "stream",
     "text": [
      "Inferencing on instance 1329\n",
      "1/1 [==============================] - 0s 39ms/step\n",
      "Online training on instance 1329\n",
      "1/1 - 0s - loss: 0.2694 - binary_accuracy: 1.0000 - 22ms/epoch - 22ms/step\n"
     ]
    },
    {
     "name": "stderr",
     "output_type": "stream",
     "text": [
      " 93%|█████████▎| 1330/1425 [04:37<00:23,  4.05it/s]"
     ]
    },
    {
     "name": "stdout",
     "output_type": "stream",
     "text": [
      "Inferencing on instance 1330\n",
      "1/1 [==============================] - 0s 45ms/step\n",
      "Online training on instance 1330\n",
      "1/1 - 0s - loss: 0.2916 - binary_accuracy: 1.0000 - 17ms/epoch - 17ms/step\n"
     ]
    },
    {
     "name": "stderr",
     "output_type": "stream",
     "text": [
      " 93%|█████████▎| 1331/1425 [04:38<00:23,  4.01it/s]"
     ]
    },
    {
     "name": "stdout",
     "output_type": "stream",
     "text": [
      "Inferencing on instance 1331\n",
      "1/1 [==============================] - 0s 59ms/step\n",
      "Online training on instance 1331\n",
      "1/1 - 0s - loss: 0.2599 - binary_accuracy: 1.0000 - 17ms/epoch - 17ms/step\n"
     ]
    },
    {
     "name": "stderr",
     "output_type": "stream",
     "text": [
      " 93%|█████████▎| 1332/1425 [04:38<00:25,  3.70it/s]"
     ]
    },
    {
     "name": "stdout",
     "output_type": "stream",
     "text": [
      "Inferencing on instance 1332\n",
      "1/1 [==============================] - 0s 39ms/step\n",
      "Online training on instance 1332\n",
      "1/1 - 0s - loss: 0.2584 - binary_accuracy: 1.0000 - 16ms/epoch - 16ms/step\n"
     ]
    },
    {
     "name": "stderr",
     "output_type": "stream",
     "text": [
      " 94%|█████████▎| 1333/1425 [04:38<00:24,  3.80it/s]"
     ]
    },
    {
     "name": "stdout",
     "output_type": "stream",
     "text": [
      "Inferencing on instance 1333\n",
      "1/1 [==============================] - 0s 44ms/step\n",
      "Online training on instance 1333\n",
      "1/1 - 0s - loss: 0.2639 - binary_accuracy: 1.0000 - 18ms/epoch - 18ms/step\n"
     ]
    },
    {
     "name": "stderr",
     "output_type": "stream",
     "text": [
      " 94%|█████████▎| 1334/1425 [04:38<00:23,  3.88it/s]"
     ]
    },
    {
     "name": "stdout",
     "output_type": "stream",
     "text": [
      "Inferencing on instance 1334\n",
      "1/1 [==============================] - 0s 64ms/step\n",
      "Online training on instance 1334\n",
      "1/1 - 0s - loss: 0.2551 - binary_accuracy: 1.0000 - 16ms/epoch - 16ms/step\n"
     ]
    },
    {
     "name": "stderr",
     "output_type": "stream",
     "text": [
      " 94%|█████████▎| 1335/1425 [04:39<00:24,  3.67it/s]"
     ]
    },
    {
     "name": "stdout",
     "output_type": "stream",
     "text": [
      "Inferencing on instance 1335\n",
      "1/1 [==============================] - 0s 38ms/step\n",
      "Online training on instance 1335\n",
      "1/1 - 0s - loss: 0.2467 - binary_accuracy: 1.0000 - 17ms/epoch - 17ms/step\n"
     ]
    },
    {
     "name": "stderr",
     "output_type": "stream",
     "text": [
      " 94%|█████████▍| 1336/1425 [04:39<00:23,  3.81it/s]"
     ]
    },
    {
     "name": "stdout",
     "output_type": "stream",
     "text": [
      "Inferencing on instance 1336\n",
      "1/1 [==============================] - 0s 37ms/step\n",
      "Online training on instance 1336\n",
      "1/1 - 0s - loss: 0.2398 - binary_accuracy: 1.0000 - 20ms/epoch - 20ms/step\n"
     ]
    },
    {
     "name": "stderr",
     "output_type": "stream",
     "text": [
      " 94%|█████████▍| 1337/1425 [04:39<00:21,  4.02it/s]"
     ]
    },
    {
     "name": "stdout",
     "output_type": "stream",
     "text": [
      "Inferencing on instance 1337\n",
      "1/1 [==============================] - 0s 41ms/step\n",
      "Online training on instance 1337\n",
      "1/1 - 0s - loss: 0.2567 - binary_accuracy: 1.0000 - 28ms/epoch - 28ms/step\n"
     ]
    },
    {
     "name": "stderr",
     "output_type": "stream",
     "text": [
      " 94%|█████████▍| 1338/1425 [04:39<00:21,  4.03it/s]"
     ]
    },
    {
     "name": "stdout",
     "output_type": "stream",
     "text": [
      "Inferencing on instance 1338\n",
      "1/1 [==============================] - 0s 36ms/step\n",
      "Online training on instance 1338\n",
      "1/1 - 0s - loss: 0.2617 - binary_accuracy: 1.0000 - 19ms/epoch - 19ms/step\n"
     ]
    },
    {
     "name": "stderr",
     "output_type": "stream",
     "text": [
      " 94%|█████████▍| 1339/1425 [04:40<00:20,  4.10it/s]"
     ]
    },
    {
     "name": "stdout",
     "output_type": "stream",
     "text": [
      "Inferencing on instance 1339\n",
      "1/1 [==============================] - 0s 35ms/step\n",
      "Online training on instance 1339\n",
      "1/1 - 0s - loss: 0.2553 - binary_accuracy: 1.0000 - 17ms/epoch - 17ms/step\n"
     ]
    },
    {
     "name": "stderr",
     "output_type": "stream",
     "text": [
      " 94%|█████████▍| 1340/1425 [04:40<00:19,  4.25it/s]"
     ]
    },
    {
     "name": "stdout",
     "output_type": "stream",
     "text": [
      "Inferencing on instance 1340\n",
      "1/1 [==============================] - 0s 38ms/step\n",
      "Online training on instance 1340\n",
      "1/1 - 0s - loss: 0.2556 - binary_accuracy: 1.0000 - 24ms/epoch - 24ms/step\n"
     ]
    },
    {
     "name": "stderr",
     "output_type": "stream",
     "text": [
      " 94%|█████████▍| 1341/1425 [04:40<00:19,  4.24it/s]"
     ]
    },
    {
     "name": "stdout",
     "output_type": "stream",
     "text": [
      "Inferencing on instance 1341\n",
      "1/1 [==============================] - 0s 32ms/step\n",
      "Online training on instance 1341\n",
      "1/1 - 0s - loss: 0.2416 - binary_accuracy: 1.0000 - 16ms/epoch - 16ms/step\n"
     ]
    },
    {
     "name": "stderr",
     "output_type": "stream",
     "text": [
      " 94%|█████████▍| 1342/1425 [04:40<00:18,  4.43it/s]"
     ]
    },
    {
     "name": "stdout",
     "output_type": "stream",
     "text": [
      "Inferencing on instance 1342\n",
      "1/1 [==============================] - 0s 42ms/step\n",
      "Online training on instance 1342\n",
      "1/1 - 0s - loss: 0.2322 - binary_accuracy: 1.0000 - 19ms/epoch - 19ms/step\n"
     ]
    },
    {
     "name": "stderr",
     "output_type": "stream",
     "text": [
      " 94%|█████████▍| 1343/1425 [04:40<00:18,  4.38it/s]"
     ]
    },
    {
     "name": "stdout",
     "output_type": "stream",
     "text": [
      "Inferencing on instance 1343\n",
      "1/1 [==============================] - 0s 56ms/step\n",
      "Online training on instance 1343\n",
      "1/1 - 0s - loss: 0.2397 - binary_accuracy: 1.0000 - 17ms/epoch - 17ms/step\n"
     ]
    },
    {
     "name": "stderr",
     "output_type": "stream",
     "text": [
      " 94%|█████████▍| 1344/1425 [04:41<00:19,  4.11it/s]"
     ]
    },
    {
     "name": "stdout",
     "output_type": "stream",
     "text": [
      "Inferencing on instance 1344\n",
      "1/1 [==============================] - 0s 35ms/step\n",
      "Online training on instance 1344\n",
      "1/1 - 0s - loss: 0.2387 - binary_accuracy: 1.0000 - 18ms/epoch - 18ms/step\n"
     ]
    },
    {
     "name": "stderr",
     "output_type": "stream",
     "text": [
      " 94%|█████████▍| 1345/1425 [04:41<00:18,  4.29it/s]"
     ]
    },
    {
     "name": "stdout",
     "output_type": "stream",
     "text": [
      "Inferencing on instance 1345\n",
      "1/1 [==============================] - 0s 35ms/step\n",
      "Online training on instance 1345\n",
      "1/1 - 0s - loss: 0.2404 - binary_accuracy: 1.0000 - 16ms/epoch - 16ms/step\n"
     ]
    },
    {
     "name": "stderr",
     "output_type": "stream",
     "text": [
      " 94%|█████████▍| 1346/1425 [04:41<00:17,  4.40it/s]"
     ]
    },
    {
     "name": "stdout",
     "output_type": "stream",
     "text": [
      "Inferencing on instance 1346\n",
      "1/1 [==============================] - 0s 35ms/step\n",
      "Online training on instance 1346\n",
      "1/1 - 0s - loss: 0.2404 - binary_accuracy: 1.0000 - 26ms/epoch - 26ms/step\n"
     ]
    },
    {
     "name": "stderr",
     "output_type": "stream",
     "text": [
      " 95%|█████████▍| 1347/1425 [04:41<00:17,  4.39it/s]"
     ]
    },
    {
     "name": "stdout",
     "output_type": "stream",
     "text": [
      "Inferencing on instance 1347\n",
      "1/1 [==============================] - 0s 41ms/step\n",
      "Online training on instance 1347\n",
      "1/1 - 0s - loss: 0.2294 - binary_accuracy: 1.0000 - 16ms/epoch - 16ms/step\n"
     ]
    },
    {
     "name": "stderr",
     "output_type": "stream",
     "text": [
      " 95%|█████████▍| 1348/1425 [04:42<00:17,  4.48it/s]"
     ]
    },
    {
     "name": "stdout",
     "output_type": "stream",
     "text": [
      "Inferencing on instance 1348\n",
      "1/1 [==============================] - 0s 41ms/step\n",
      "Online training on instance 1348\n",
      "1/1 - 0s - loss: 0.2302 - binary_accuracy: 1.0000 - 17ms/epoch - 17ms/step\n"
     ]
    },
    {
     "name": "stderr",
     "output_type": "stream",
     "text": [
      " 95%|█████████▍| 1349/1425 [04:42<00:16,  4.52it/s]"
     ]
    },
    {
     "name": "stdout",
     "output_type": "stream",
     "text": [
      "Inferencing on instance 1349\n",
      "1/1 [==============================] - 0s 36ms/step\n",
      "Online training on instance 1349\n",
      "1/1 - 0s - loss: 0.3095 - binary_accuracy: 0.9375 - 18ms/epoch - 18ms/step\n"
     ]
    },
    {
     "name": "stderr",
     "output_type": "stream",
     "text": [
      " 95%|█████████▍| 1350/1425 [04:42<00:17,  4.38it/s]"
     ]
    },
    {
     "name": "stdout",
     "output_type": "stream",
     "text": [
      "Inferencing on instance 1350\n",
      "1/1 [==============================] - 0s 42ms/step\n",
      "Online training on instance 1350\n",
      "1/1 - 0s - loss: 0.4702 - binary_accuracy: 0.8750 - 16ms/epoch - 16ms/step\n"
     ]
    },
    {
     "name": "stderr",
     "output_type": "stream",
     "text": [
      " 95%|█████████▍| 1351/1425 [04:42<00:16,  4.53it/s]"
     ]
    },
    {
     "name": "stdout",
     "output_type": "stream",
     "text": [
      "Inferencing on instance 1351\n",
      "1/1 [==============================] - 0s 41ms/step\n",
      "Online training on instance 1351\n",
      "1/1 - 0s - loss: 0.5914 - binary_accuracy: 0.8125 - 20ms/epoch - 20ms/step\n"
     ]
    },
    {
     "name": "stderr",
     "output_type": "stream",
     "text": [
      " 95%|█████████▍| 1352/1425 [04:42<00:16,  4.43it/s]"
     ]
    },
    {
     "name": "stdout",
     "output_type": "stream",
     "text": [
      "Inferencing on instance 1352\n",
      "1/1 [==============================] - 0s 43ms/step\n",
      "Online training on instance 1352\n",
      "1/1 - 0s - loss: 0.7066 - binary_accuracy: 0.7500 - 19ms/epoch - 19ms/step\n"
     ]
    },
    {
     "name": "stderr",
     "output_type": "stream",
     "text": [
      " 95%|█████████▍| 1353/1425 [04:43<00:15,  4.52it/s]"
     ]
    },
    {
     "name": "stdout",
     "output_type": "stream",
     "text": [
      "Inferencing on instance 1353\n",
      "1/1 [==============================] - 0s 49ms/step\n",
      "Online training on instance 1353\n",
      "1/1 - 0s - loss: 0.8392 - binary_accuracy: 0.6875 - 15ms/epoch - 15ms/step\n"
     ]
    },
    {
     "name": "stderr",
     "output_type": "stream",
     "text": [
      " 95%|█████████▌| 1354/1425 [04:43<00:16,  4.34it/s]"
     ]
    },
    {
     "name": "stdout",
     "output_type": "stream",
     "text": [
      "Inferencing on instance 1354\n",
      "1/1 [==============================] - 0s 41ms/step\n",
      "Online training on instance 1354\n",
      "1/1 - 0s - loss: 0.8539 - binary_accuracy: 0.6250 - 16ms/epoch - 16ms/step\n"
     ]
    },
    {
     "name": "stderr",
     "output_type": "stream",
     "text": [
      " 95%|█████████▌| 1355/1425 [04:43<00:15,  4.52it/s]"
     ]
    },
    {
     "name": "stdout",
     "output_type": "stream",
     "text": [
      "Inferencing on instance 1355\n",
      "1/1 [==============================] - 0s 33ms/step\n",
      "Online training on instance 1355\n",
      "1/1 - 0s - loss: 1.0031 - binary_accuracy: 0.5625 - 18ms/epoch - 18ms/step\n"
     ]
    },
    {
     "name": "stderr",
     "output_type": "stream",
     "text": [
      " 95%|█████████▌| 1356/1425 [04:43<00:14,  4.61it/s]"
     ]
    },
    {
     "name": "stdout",
     "output_type": "stream",
     "text": [
      "Inferencing on instance 1356\n",
      "1/1 [==============================] - 0s 48ms/step\n",
      "Online training on instance 1356\n",
      "1/1 - 0s - loss: 1.0970 - binary_accuracy: 0.5000 - 17ms/epoch - 17ms/step\n"
     ]
    },
    {
     "name": "stderr",
     "output_type": "stream",
     "text": [
      " 95%|█████████▌| 1357/1425 [04:44<00:15,  4.52it/s]"
     ]
    },
    {
     "name": "stdout",
     "output_type": "stream",
     "text": [
      "Inferencing on instance 1357\n",
      "1/1 [==============================] - 0s 35ms/step\n",
      "Online training on instance 1357\n",
      "1/1 - 0s - loss: 1.2273 - binary_accuracy: 0.4375 - 17ms/epoch - 17ms/step\n"
     ]
    },
    {
     "name": "stderr",
     "output_type": "stream",
     "text": [
      " 95%|█████████▌| 1358/1425 [04:44<00:14,  4.57it/s]"
     ]
    },
    {
     "name": "stdout",
     "output_type": "stream",
     "text": [
      "Inferencing on instance 1358\n",
      "1/1 [==============================] - 0s 36ms/step\n",
      "Online training on instance 1358\n",
      "1/1 - 0s - loss: 1.3744 - binary_accuracy: 0.3750 - 19ms/epoch - 19ms/step\n"
     ]
    },
    {
     "name": "stderr",
     "output_type": "stream",
     "text": [
      " 95%|█████████▌| 1359/1425 [04:44<00:14,  4.70it/s]"
     ]
    },
    {
     "name": "stdout",
     "output_type": "stream",
     "text": [
      "Inferencing on instance 1359\n",
      "1/1 [==============================] - 0s 36ms/step\n",
      "Online training on instance 1359\n",
      "1/1 - 0s - loss: 1.3795 - binary_accuracy: 0.3125 - 23ms/epoch - 23ms/step\n"
     ]
    },
    {
     "name": "stderr",
     "output_type": "stream",
     "text": [
      " 95%|█████████▌| 1360/1425 [04:44<00:14,  4.59it/s]"
     ]
    },
    {
     "name": "stdout",
     "output_type": "stream",
     "text": [
      "Inferencing on instance 1360\n",
      "1/1 [==============================] - 0s 37ms/step\n",
      "Online training on instance 1360\n",
      "1/1 - 0s - loss: 1.4702 - binary_accuracy: 0.2500 - 16ms/epoch - 16ms/step\n"
     ]
    },
    {
     "name": "stderr",
     "output_type": "stream",
     "text": [
      " 96%|█████████▌| 1361/1425 [04:44<00:13,  4.60it/s]"
     ]
    },
    {
     "name": "stdout",
     "output_type": "stream",
     "text": [
      "Inferencing on instance 1361\n",
      "1/1 [==============================] - 0s 45ms/step\n",
      "Online training on instance 1361\n",
      "1/1 - 0s - loss: 1.4951 - binary_accuracy: 0.1875 - 15ms/epoch - 15ms/step\n"
     ]
    },
    {
     "name": "stderr",
     "output_type": "stream",
     "text": [
      " 96%|█████████▌| 1362/1425 [04:45<00:13,  4.66it/s]"
     ]
    },
    {
     "name": "stdout",
     "output_type": "stream",
     "text": [
      "Inferencing on instance 1362\n",
      "1/1 [==============================] - 0s 36ms/step\n",
      "Online training on instance 1362\n",
      "1/1 - 0s - loss: 1.5899 - binary_accuracy: 0.1250 - 20ms/epoch - 20ms/step\n"
     ]
    },
    {
     "name": "stderr",
     "output_type": "stream",
     "text": [
      " 96%|█████████▌| 1363/1425 [04:45<00:13,  4.72it/s]"
     ]
    },
    {
     "name": "stdout",
     "output_type": "stream",
     "text": [
      "Inferencing on instance 1363\n",
      "1/1 [==============================] - 0s 65ms/step\n",
      "Online training on instance 1363\n",
      "1/1 - 0s - loss: 1.5558 - binary_accuracy: 0.1250 - 15ms/epoch - 15ms/step\n"
     ]
    },
    {
     "name": "stderr",
     "output_type": "stream",
     "text": [
      " 96%|█████████▌| 1364/1425 [04:45<00:13,  4.53it/s]"
     ]
    },
    {
     "name": "stdout",
     "output_type": "stream",
     "text": [
      "Inferencing on instance 1364\n",
      "1/1 [==============================] - 0s 40ms/step\n",
      "Online training on instance 1364\n",
      "1/1 - 0s - loss: 1.5169 - binary_accuracy: 0.1250 - 18ms/epoch - 18ms/step\n"
     ]
    },
    {
     "name": "stderr",
     "output_type": "stream",
     "text": [
      " 96%|█████████▌| 1365/1425 [04:45<00:13,  4.54it/s]"
     ]
    },
    {
     "name": "stdout",
     "output_type": "stream",
     "text": [
      "Inferencing on instance 1365\n",
      "1/1 [==============================] - 0s 39ms/step\n",
      "Online training on instance 1365\n",
      "1/1 - 0s - loss: 1.4195 - binary_accuracy: 0.1875 - 19ms/epoch - 19ms/step\n"
     ]
    },
    {
     "name": "stderr",
     "output_type": "stream",
     "text": [
      " 96%|█████████▌| 1366/1425 [04:46<00:12,  4.66it/s]"
     ]
    },
    {
     "name": "stdout",
     "output_type": "stream",
     "text": [
      "Inferencing on instance 1366\n",
      "1/1 [==============================] - 0s 69ms/step\n",
      "Online training on instance 1366\n",
      "1/1 - 0s - loss: 1.3373 - binary_accuracy: 0.2500 - 17ms/epoch - 17ms/step\n"
     ]
    },
    {
     "name": "stderr",
     "output_type": "stream",
     "text": [
      " 96%|█████████▌| 1367/1425 [04:46<00:14,  4.13it/s]"
     ]
    },
    {
     "name": "stdout",
     "output_type": "stream",
     "text": [
      "Inferencing on instance 1367\n",
      "1/1 [==============================] - 0s 41ms/step\n",
      "Online training on instance 1367\n",
      "1/1 - 0s - loss: 1.2220 - binary_accuracy: 0.3125 - 21ms/epoch - 21ms/step\n"
     ]
    },
    {
     "name": "stderr",
     "output_type": "stream",
     "text": [
      " 96%|█████████▌| 1368/1425 [04:46<00:13,  4.08it/s]"
     ]
    },
    {
     "name": "stdout",
     "output_type": "stream",
     "text": [
      "Inferencing on instance 1368\n",
      "1/1 [==============================] - 0s 40ms/step\n",
      "Online training on instance 1368\n",
      "1/1 - 0s - loss: 1.1574 - binary_accuracy: 0.3750 - 17ms/epoch - 17ms/step\n"
     ]
    },
    {
     "name": "stderr",
     "output_type": "stream",
     "text": [
      " 96%|█████████▌| 1369/1425 [04:46<00:13,  4.07it/s]"
     ]
    },
    {
     "name": "stdout",
     "output_type": "stream",
     "text": [
      "Inferencing on instance 1369\n",
      "1/1 [==============================] - 0s 44ms/step\n",
      "Online training on instance 1369\n",
      "1/1 - 0s - loss: 1.0395 - binary_accuracy: 0.4375 - 18ms/epoch - 18ms/step\n"
     ]
    },
    {
     "name": "stderr",
     "output_type": "stream",
     "text": [
      " 96%|█████████▌| 1370/1425 [04:47<00:14,  3.74it/s]"
     ]
    },
    {
     "name": "stdout",
     "output_type": "stream",
     "text": [
      "Inferencing on instance 1370\n",
      "1/1 [==============================] - 0s 48ms/step\n",
      "Online training on instance 1370\n",
      "1/1 - 0s - loss: 0.9270 - binary_accuracy: 0.5000 - 17ms/epoch - 17ms/step\n"
     ]
    },
    {
     "name": "stderr",
     "output_type": "stream",
     "text": [
      " 96%|█████████▌| 1371/1425 [04:47<00:14,  3.83it/s]"
     ]
    },
    {
     "name": "stdout",
     "output_type": "stream",
     "text": [
      "Inferencing on instance 1371\n",
      "1/1 [==============================] - 0s 44ms/step\n",
      "Online training on instance 1371\n",
      "1/1 - 0s - loss: 0.8900 - binary_accuracy: 0.5625 - 16ms/epoch - 16ms/step\n"
     ]
    },
    {
     "name": "stderr",
     "output_type": "stream",
     "text": [
      " 96%|█████████▋| 1372/1425 [04:47<00:13,  3.97it/s]"
     ]
    },
    {
     "name": "stdout",
     "output_type": "stream",
     "text": [
      "Inferencing on instance 1372\n",
      "1/1 [==============================] - 0s 40ms/step\n",
      "Online training on instance 1372\n",
      "1/1 - 0s - loss: 0.7220 - binary_accuracy: 0.6250 - 20ms/epoch - 20ms/step\n"
     ]
    },
    {
     "name": "stderr",
     "output_type": "stream",
     "text": [
      " 96%|█████████▋| 1373/1425 [04:47<00:13,  3.87it/s]"
     ]
    },
    {
     "name": "stdout",
     "output_type": "stream",
     "text": [
      "Inferencing on instance 1373\n",
      "1/1 [==============================] - 0s 36ms/step\n",
      "Online training on instance 1373\n",
      "1/1 - 0s - loss: 0.6185 - binary_accuracy: 0.6875 - 16ms/epoch - 16ms/step\n"
     ]
    },
    {
     "name": "stderr",
     "output_type": "stream",
     "text": [
      " 96%|█████████▋| 1374/1425 [04:48<00:12,  4.05it/s]"
     ]
    },
    {
     "name": "stdout",
     "output_type": "stream",
     "text": [
      "Inferencing on instance 1374\n",
      "1/1 [==============================] - 0s 41ms/step\n",
      "Online training on instance 1374\n",
      "1/1 - 0s - loss: 0.6164 - binary_accuracy: 0.7500 - 16ms/epoch - 16ms/step\n"
     ]
    },
    {
     "name": "stderr",
     "output_type": "stream",
     "text": [
      " 96%|█████████▋| 1375/1425 [04:48<00:11,  4.17it/s]"
     ]
    },
    {
     "name": "stdout",
     "output_type": "stream",
     "text": [
      "Inferencing on instance 1375\n",
      "1/1 [==============================] - 0s 39ms/step\n",
      "Online training on instance 1375\n",
      "1/1 - 0s - loss: 0.5418 - binary_accuracy: 0.8125 - 20ms/epoch - 20ms/step\n"
     ]
    },
    {
     "name": "stderr",
     "output_type": "stream",
     "text": [
      " 97%|█████████▋| 1376/1425 [04:48<00:11,  4.21it/s]"
     ]
    },
    {
     "name": "stdout",
     "output_type": "stream",
     "text": [
      "Inferencing on instance 1376\n",
      "1/1 [==============================] - 0s 34ms/step\n",
      "Online training on instance 1376\n",
      "1/1 - 0s - loss: 0.4754 - binary_accuracy: 0.8750 - 17ms/epoch - 17ms/step\n"
     ]
    },
    {
     "name": "stderr",
     "output_type": "stream",
     "text": [
      " 97%|█████████▋| 1377/1425 [04:48<00:10,  4.38it/s]"
     ]
    },
    {
     "name": "stdout",
     "output_type": "stream",
     "text": [
      "Inferencing on instance 1377\n",
      "1/1 [==============================] - 0s 37ms/step\n",
      "Online training on instance 1377\n",
      "1/1 - 0s - loss: 0.3773 - binary_accuracy: 0.9375 - 15ms/epoch - 15ms/step\n"
     ]
    },
    {
     "name": "stderr",
     "output_type": "stream",
     "text": [
      " 97%|█████████▋| 1378/1425 [04:48<00:10,  4.51it/s]"
     ]
    },
    {
     "name": "stdout",
     "output_type": "stream",
     "text": [
      "Inferencing on instance 1378\n",
      "1/1 [==============================] - 0s 35ms/step\n",
      "Online training on instance 1378\n",
      "1/1 - 0s - loss: 0.2990 - binary_accuracy: 1.0000 - 23ms/epoch - 23ms/step\n"
     ]
    },
    {
     "name": "stderr",
     "output_type": "stream",
     "text": [
      " 97%|█████████▋| 1379/1425 [04:49<00:10,  4.31it/s]"
     ]
    },
    {
     "name": "stdout",
     "output_type": "stream",
     "text": [
      "Inferencing on instance 1379\n",
      "1/1 [==============================] - 0s 41ms/step\n",
      "Online training on instance 1379\n",
      "1/1 - 0s - loss: 0.3580 - binary_accuracy: 0.9375 - 17ms/epoch - 17ms/step\n"
     ]
    },
    {
     "name": "stderr",
     "output_type": "stream",
     "text": [
      " 97%|█████████▋| 1380/1425 [04:49<00:10,  4.39it/s]"
     ]
    },
    {
     "name": "stdout",
     "output_type": "stream",
     "text": [
      "Inferencing on instance 1380\n",
      "1/1 [==============================] - 0s 35ms/step\n",
      "Online training on instance 1380\n",
      "1/1 - 0s - loss: 0.4425 - binary_accuracy: 0.8750 - 17ms/epoch - 17ms/step\n"
     ]
    },
    {
     "name": "stderr",
     "output_type": "stream",
     "text": [
      " 97%|█████████▋| 1381/1425 [04:49<00:09,  4.52it/s]"
     ]
    },
    {
     "name": "stdout",
     "output_type": "stream",
     "text": [
      "Inferencing on instance 1381\n",
      "1/1 [==============================] - 0s 56ms/step\n",
      "Online training on instance 1381\n",
      "1/1 - 0s - loss: 0.5119 - binary_accuracy: 0.8125 - 16ms/epoch - 16ms/step\n"
     ]
    },
    {
     "name": "stderr",
     "output_type": "stream",
     "text": [
      " 97%|█████████▋| 1382/1425 [04:49<00:09,  4.37it/s]"
     ]
    },
    {
     "name": "stdout",
     "output_type": "stream",
     "text": [
      "Inferencing on instance 1382\n",
      "1/1 [==============================] - 0s 42ms/step\n",
      "Online training on instance 1382\n",
      "1/1 - 0s - loss: 0.5480 - binary_accuracy: 0.7500 - 17ms/epoch - 17ms/step\n"
     ]
    },
    {
     "name": "stderr",
     "output_type": "stream",
     "text": [
      " 97%|█████████▋| 1383/1425 [04:50<00:09,  4.51it/s]"
     ]
    },
    {
     "name": "stdout",
     "output_type": "stream",
     "text": [
      "Inferencing on instance 1383\n",
      "1/1 [==============================] - 0s 40ms/step\n",
      "Online training on instance 1383\n",
      "1/1 - 0s - loss: 0.5938 - binary_accuracy: 0.7500 - 15ms/epoch - 15ms/step\n"
     ]
    },
    {
     "name": "stderr",
     "output_type": "stream",
     "text": [
      " 97%|█████████▋| 1384/1425 [04:50<00:08,  4.59it/s]"
     ]
    },
    {
     "name": "stdout",
     "output_type": "stream",
     "text": [
      "Inferencing on instance 1384\n",
      "1/1 [==============================] - 0s 45ms/step\n",
      "Online training on instance 1384\n",
      "1/1 - 0s - loss: 0.5941 - binary_accuracy: 0.7500 - 18ms/epoch - 18ms/step\n"
     ]
    },
    {
     "name": "stderr",
     "output_type": "stream",
     "text": [
      " 97%|█████████▋| 1385/1425 [04:50<00:09,  4.44it/s]"
     ]
    },
    {
     "name": "stdout",
     "output_type": "stream",
     "text": [
      "Inferencing on instance 1385\n",
      "1/1 [==============================] - 0s 34ms/step\n",
      "Online training on instance 1385\n",
      "1/1 - 0s - loss: 0.6364 - binary_accuracy: 0.7500 - 18ms/epoch - 18ms/step\n"
     ]
    },
    {
     "name": "stderr",
     "output_type": "stream",
     "text": [
      " 97%|█████████▋| 1386/1425 [04:50<00:08,  4.58it/s]"
     ]
    },
    {
     "name": "stdout",
     "output_type": "stream",
     "text": [
      "Inferencing on instance 1386\n",
      "1/1 [==============================] - 0s 40ms/step\n",
      "Online training on instance 1386\n",
      "1/1 - 0s - loss: 0.5921 - binary_accuracy: 0.7500 - 19ms/epoch - 19ms/step\n"
     ]
    },
    {
     "name": "stderr",
     "output_type": "stream",
     "text": [
      " 97%|█████████▋| 1387/1425 [04:50<00:08,  4.66it/s]"
     ]
    },
    {
     "name": "stdout",
     "output_type": "stream",
     "text": [
      "Inferencing on instance 1387\n",
      "1/1 [==============================] - 0s 31ms/step\n",
      "Online training on instance 1387\n",
      "1/1 - 0s - loss: 0.6318 - binary_accuracy: 0.7500 - 25ms/epoch - 25ms/step\n"
     ]
    },
    {
     "name": "stderr",
     "output_type": "stream",
     "text": [
      " 97%|█████████▋| 1388/1425 [04:51<00:08,  4.58it/s]"
     ]
    },
    {
     "name": "stdout",
     "output_type": "stream",
     "text": [
      "Inferencing on instance 1388\n",
      "1/1 [==============================] - 0s 37ms/step\n",
      "Online training on instance 1388\n",
      "1/1 - 0s - loss: 0.6083 - binary_accuracy: 0.7500 - 20ms/epoch - 20ms/step\n"
     ]
    },
    {
     "name": "stderr",
     "output_type": "stream",
     "text": [
      " 97%|█████████▋| 1389/1425 [04:51<00:08,  4.45it/s]"
     ]
    },
    {
     "name": "stdout",
     "output_type": "stream",
     "text": [
      "Inferencing on instance 1389\n",
      "1/1 [==============================] - 0s 39ms/step\n",
      "Online training on instance 1389\n",
      "1/1 - 0s - loss: 0.5897 - binary_accuracy: 0.7500 - 16ms/epoch - 16ms/step\n"
     ]
    },
    {
     "name": "stderr",
     "output_type": "stream",
     "text": [
      " 98%|█████████▊| 1390/1425 [04:51<00:07,  4.46it/s]"
     ]
    },
    {
     "name": "stdout",
     "output_type": "stream",
     "text": [
      "Inferencing on instance 1390\n",
      "1/1 [==============================] - 0s 39ms/step\n",
      "Online training on instance 1390\n",
      "1/1 - 0s - loss: 0.6026 - binary_accuracy: 0.7500 - 31ms/epoch - 31ms/step\n"
     ]
    },
    {
     "name": "stderr",
     "output_type": "stream",
     "text": [
      " 98%|█████████▊| 1391/1425 [04:51<00:07,  4.43it/s]"
     ]
    },
    {
     "name": "stdout",
     "output_type": "stream",
     "text": [
      "Inferencing on instance 1391\n",
      "1/1 [==============================] - 0s 38ms/step\n",
      "Online training on instance 1391\n",
      "1/1 - 0s - loss: 0.5462 - binary_accuracy: 0.7500 - 16ms/epoch - 16ms/step\n"
     ]
    },
    {
     "name": "stderr",
     "output_type": "stream",
     "text": [
      " 98%|█████████▊| 1392/1425 [04:52<00:07,  4.39it/s]"
     ]
    },
    {
     "name": "stdout",
     "output_type": "stream",
     "text": [
      "Inferencing on instance 1392\n",
      "1/1 [==============================] - 0s 34ms/step\n",
      "Online training on instance 1392\n",
      "1/1 - 0s - loss: 0.5544 - binary_accuracy: 0.7500 - 20ms/epoch - 20ms/step\n"
     ]
    },
    {
     "name": "stderr",
     "output_type": "stream",
     "text": [
      " 98%|█████████▊| 1393/1425 [04:52<00:06,  4.59it/s]"
     ]
    },
    {
     "name": "stdout",
     "output_type": "stream",
     "text": [
      "Inferencing on instance 1393\n",
      "1/1 [==============================] - 0s 34ms/step\n",
      "Online training on instance 1393\n",
      "1/1 - 0s - loss: 0.5800 - binary_accuracy: 0.7500 - 14ms/epoch - 14ms/step\n"
     ]
    },
    {
     "name": "stderr",
     "output_type": "stream",
     "text": [
      " 98%|█████████▊| 1394/1425 [04:52<00:06,  4.67it/s]"
     ]
    },
    {
     "name": "stdout",
     "output_type": "stream",
     "text": [
      "Inferencing on instance 1394\n",
      "1/1 [==============================] - 0s 40ms/step\n",
      "Online training on instance 1394\n",
      "1/1 - 0s - loss: 0.5768 - binary_accuracy: 0.7500 - 22ms/epoch - 22ms/step\n"
     ]
    },
    {
     "name": "stderr",
     "output_type": "stream",
     "text": [
      " 98%|█████████▊| 1395/1425 [04:52<00:06,  4.53it/s]"
     ]
    },
    {
     "name": "stdout",
     "output_type": "stream",
     "text": [
      "Inferencing on instance 1395\n",
      "1/1 [==============================] - 0s 35ms/step\n",
      "Online training on instance 1395\n",
      "1/1 - 0s - loss: 0.5650 - binary_accuracy: 0.8125 - 16ms/epoch - 16ms/step\n"
     ]
    },
    {
     "name": "stderr",
     "output_type": "stream",
     "text": [
      " 98%|█████████▊| 1396/1425 [04:52<00:06,  4.61it/s]"
     ]
    },
    {
     "name": "stdout",
     "output_type": "stream",
     "text": [
      "Inferencing on instance 1396\n",
      "1/1 [==============================] - 0s 36ms/step\n",
      "Online training on instance 1396\n",
      "1/1 - 0s - loss: 0.4766 - binary_accuracy: 0.8750 - 16ms/epoch - 16ms/step\n"
     ]
    },
    {
     "name": "stderr",
     "output_type": "stream",
     "text": [
      " 98%|█████████▊| 1397/1425 [04:53<00:05,  4.71it/s]"
     ]
    },
    {
     "name": "stdout",
     "output_type": "stream",
     "text": [
      "Inferencing on instance 1397\n",
      "1/1 [==============================] - 0s 41ms/step\n",
      "Online training on instance 1397\n",
      "1/1 - 0s - loss: 0.3963 - binary_accuracy: 0.9375 - 23ms/epoch - 23ms/step\n"
     ]
    },
    {
     "name": "stderr",
     "output_type": "stream",
     "text": [
      " 98%|█████████▊| 1398/1425 [04:53<00:06,  4.48it/s]"
     ]
    },
    {
     "name": "stdout",
     "output_type": "stream",
     "text": [
      "Inferencing on instance 1398\n",
      "1/1 [==============================] - 0s 44ms/step\n",
      "Online training on instance 1398\n",
      "1/1 - 0s - loss: 0.3240 - binary_accuracy: 1.0000 - 17ms/epoch - 17ms/step\n"
     ]
    },
    {
     "name": "stderr",
     "output_type": "stream",
     "text": [
      " 98%|█████████▊| 1399/1425 [04:53<00:06,  4.27it/s]"
     ]
    },
    {
     "name": "stdout",
     "output_type": "stream",
     "text": [
      "Inferencing on instance 1399\n",
      "1/1 [==============================] - 0s 36ms/step\n",
      "Online training on instance 1399\n",
      "1/1 - 0s - loss: 0.3096 - binary_accuracy: 1.0000 - 16ms/epoch - 16ms/step\n"
     ]
    },
    {
     "name": "stderr",
     "output_type": "stream",
     "text": [
      " 98%|█████████▊| 1400/1425 [04:53<00:05,  4.39it/s]"
     ]
    },
    {
     "name": "stdout",
     "output_type": "stream",
     "text": [
      "Inferencing on instance 1400\n",
      "1/1 [==============================] - 0s 43ms/step\n",
      "Online training on instance 1400\n",
      "1/1 - 0s - loss: 0.3151 - binary_accuracy: 1.0000 - 21ms/epoch - 21ms/step\n"
     ]
    },
    {
     "name": "stderr",
     "output_type": "stream",
     "text": [
      " 98%|█████████▊| 1401/1425 [04:54<00:05,  4.34it/s]"
     ]
    },
    {
     "name": "stdout",
     "output_type": "stream",
     "text": [
      "Inferencing on instance 1401\n",
      "1/1 [==============================] - 0s 40ms/step\n",
      "Online training on instance 1401\n",
      "1/1 - 0s - loss: 0.3125 - binary_accuracy: 1.0000 - 18ms/epoch - 18ms/step\n"
     ]
    },
    {
     "name": "stderr",
     "output_type": "stream",
     "text": [
      " 98%|█████████▊| 1402/1425 [04:54<00:05,  4.44it/s]"
     ]
    },
    {
     "name": "stdout",
     "output_type": "stream",
     "text": [
      "Inferencing on instance 1402\n",
      "1/1 [==============================] - 0s 37ms/step\n",
      "Online training on instance 1402\n",
      "1/1 - 0s - loss: 0.3125 - binary_accuracy: 1.0000 - 15ms/epoch - 15ms/step\n"
     ]
    },
    {
     "name": "stderr",
     "output_type": "stream",
     "text": [
      " 98%|█████████▊| 1403/1425 [04:54<00:04,  4.51it/s]"
     ]
    },
    {
     "name": "stdout",
     "output_type": "stream",
     "text": [
      "Inferencing on instance 1403\n",
      "1/1 [==============================] - 0s 36ms/step\n",
      "Online training on instance 1403\n",
      "1/1 - 0s - loss: 0.3187 - binary_accuracy: 1.0000 - 25ms/epoch - 25ms/step\n"
     ]
    },
    {
     "name": "stderr",
     "output_type": "stream",
     "text": [
      " 99%|█████████▊| 1404/1425 [04:54<00:04,  4.45it/s]"
     ]
    },
    {
     "name": "stdout",
     "output_type": "stream",
     "text": [
      "Inferencing on instance 1404\n",
      "1/1 [==============================] - 0s 41ms/step\n",
      "Online training on instance 1404\n",
      "1/1 - 0s - loss: 0.2963 - binary_accuracy: 1.0000 - 16ms/epoch - 16ms/step\n"
     ]
    },
    {
     "name": "stderr",
     "output_type": "stream",
     "text": [
      " 99%|█████████▊| 1405/1425 [04:55<00:04,  4.51it/s]"
     ]
    },
    {
     "name": "stdout",
     "output_type": "stream",
     "text": [
      "Inferencing on instance 1405\n",
      "1/1 [==============================] - 0s 44ms/step\n",
      "Online training on instance 1405\n",
      "1/1 - 0s - loss: 0.3001 - binary_accuracy: 1.0000 - 16ms/epoch - 16ms/step\n"
     ]
    },
    {
     "name": "stderr",
     "output_type": "stream",
     "text": [
      " 99%|█████████▊| 1406/1425 [04:55<00:04,  4.60it/s]"
     ]
    },
    {
     "name": "stdout",
     "output_type": "stream",
     "text": [
      "Inferencing on instance 1406\n",
      "1/1 [==============================] - 0s 35ms/step\n",
      "Online training on instance 1406\n",
      "1/1 - 0s - loss: 0.3026 - binary_accuracy: 1.0000 - 23ms/epoch - 23ms/step\n"
     ]
    },
    {
     "name": "stderr",
     "output_type": "stream",
     "text": [
      " 99%|█████████▊| 1407/1425 [04:55<00:03,  4.67it/s]"
     ]
    },
    {
     "name": "stdout",
     "output_type": "stream",
     "text": [
      "Inferencing on instance 1407\n",
      "1/1 [==============================] - 0s 43ms/step\n",
      "Online training on instance 1407\n",
      "1/1 - 0s - loss: 0.3012 - binary_accuracy: 1.0000 - 17ms/epoch - 17ms/step\n"
     ]
    },
    {
     "name": "stderr",
     "output_type": "stream",
     "text": [
      " 99%|█████████▉| 1408/1425 [04:55<00:03,  4.59it/s]"
     ]
    },
    {
     "name": "stdout",
     "output_type": "stream",
     "text": [
      "Inferencing on instance 1408\n",
      "1/1 [==============================] - 0s 36ms/step\n",
      "Online training on instance 1408\n",
      "1/1 - 0s - loss: 0.2919 - binary_accuracy: 1.0000 - 20ms/epoch - 20ms/step\n"
     ]
    },
    {
     "name": "stderr",
     "output_type": "stream",
     "text": [
      " 99%|█████████▉| 1409/1425 [04:55<00:03,  4.46it/s]"
     ]
    },
    {
     "name": "stdout",
     "output_type": "stream",
     "text": [
      "Inferencing on instance 1409\n",
      "1/1 [==============================] - 0s 36ms/step\n",
      "Online training on instance 1409\n",
      "1/1 - 0s - loss: 0.3001 - binary_accuracy: 1.0000 - 21ms/epoch - 21ms/step\n"
     ]
    },
    {
     "name": "stderr",
     "output_type": "stream",
     "text": [
      " 99%|█████████▉| 1410/1425 [04:56<00:03,  4.45it/s]"
     ]
    },
    {
     "name": "stdout",
     "output_type": "stream",
     "text": [
      "Inferencing on instance 1410\n",
      "1/1 [==============================] - 0s 40ms/step\n",
      "Online training on instance 1410\n",
      "1/1 - 0s - loss: 0.2760 - binary_accuracy: 1.0000 - 20ms/epoch - 20ms/step\n"
     ]
    },
    {
     "name": "stderr",
     "output_type": "stream",
     "text": [
      " 99%|█████████▉| 1411/1425 [04:56<00:03,  4.16it/s]"
     ]
    },
    {
     "name": "stdout",
     "output_type": "stream",
     "text": [
      "Inferencing on instance 1411\n",
      "1/1 [==============================] - 0s 50ms/step\n",
      "Online training on instance 1411\n",
      "1/1 - 0s - loss: 0.2777 - binary_accuracy: 1.0000 - 15ms/epoch - 15ms/step\n"
     ]
    },
    {
     "name": "stderr",
     "output_type": "stream",
     "text": [
      " 99%|█████████▉| 1412/1425 [04:56<00:03,  4.14it/s]"
     ]
    },
    {
     "name": "stdout",
     "output_type": "stream",
     "text": [
      "Inferencing on instance 1412\n",
      "1/1 [==============================] - 0s 37ms/step\n",
      "Online training on instance 1412\n",
      "1/1 - 0s - loss: 0.2826 - binary_accuracy: 1.0000 - 20ms/epoch - 20ms/step\n"
     ]
    },
    {
     "name": "stderr",
     "output_type": "stream",
     "text": [
      " 99%|█████████▉| 1413/1425 [04:56<00:02,  4.18it/s]"
     ]
    },
    {
     "name": "stdout",
     "output_type": "stream",
     "text": [
      "Inferencing on instance 1413\n",
      "1/1 [==============================] - 0s 71ms/step\n",
      "Online training on instance 1413\n",
      "1/1 - 0s - loss: 0.2904 - binary_accuracy: 1.0000 - 19ms/epoch - 19ms/step\n"
     ]
    },
    {
     "name": "stderr",
     "output_type": "stream",
     "text": [
      " 99%|█████████▉| 1414/1425 [04:57<00:02,  3.83it/s]"
     ]
    },
    {
     "name": "stdout",
     "output_type": "stream",
     "text": [
      "Inferencing on instance 1414\n",
      "1/1 [==============================] - 0s 42ms/step\n",
      "Online training on instance 1414\n",
      "1/1 - 0s - loss: 0.2774 - binary_accuracy: 1.0000 - 17ms/epoch - 17ms/step\n"
     ]
    },
    {
     "name": "stderr",
     "output_type": "stream",
     "text": [
      " 99%|█████████▉| 1415/1425 [04:57<00:02,  3.99it/s]"
     ]
    },
    {
     "name": "stdout",
     "output_type": "stream",
     "text": [
      "Inferencing on instance 1415\n",
      "1/1 [==============================] - 0s 52ms/step\n",
      "Online training on instance 1415\n",
      "1/1 - 0s - loss: 0.2776 - binary_accuracy: 1.0000 - 15ms/epoch - 15ms/step\n"
     ]
    },
    {
     "name": "stderr",
     "output_type": "stream",
     "text": [
      " 99%|█████████▉| 1416/1425 [04:57<00:02,  4.01it/s]"
     ]
    },
    {
     "name": "stdout",
     "output_type": "stream",
     "text": [
      "Inferencing on instance 1416\n",
      "1/1 [==============================] - 0s 38ms/step\n",
      "Online training on instance 1416\n",
      "1/1 - 0s - loss: 0.2794 - binary_accuracy: 1.0000 - 22ms/epoch - 22ms/step\n"
     ]
    },
    {
     "name": "stderr",
     "output_type": "stream",
     "text": [
      " 99%|█████████▉| 1417/1425 [04:57<00:01,  4.02it/s]"
     ]
    },
    {
     "name": "stdout",
     "output_type": "stream",
     "text": [
      "Inferencing on instance 1417\n",
      "1/1 [==============================] - 0s 37ms/step\n",
      "Online training on instance 1417\n",
      "1/1 - 0s - loss: 0.2699 - binary_accuracy: 1.0000 - 17ms/epoch - 17ms/step\n"
     ]
    },
    {
     "name": "stderr",
     "output_type": "stream",
     "text": [
      "100%|█████████▉| 1418/1425 [04:58<00:01,  4.14it/s]"
     ]
    },
    {
     "name": "stdout",
     "output_type": "stream",
     "text": [
      "Inferencing on instance 1418\n",
      "1/1 [==============================] - 0s 36ms/step\n",
      "Online training on instance 1418\n",
      "1/1 - 0s - loss: 0.2621 - binary_accuracy: 1.0000 - 15ms/epoch - 15ms/step\n"
     ]
    },
    {
     "name": "stderr",
     "output_type": "stream",
     "text": [
      "100%|█████████▉| 1419/1425 [04:58<00:01,  4.40it/s]"
     ]
    },
    {
     "name": "stdout",
     "output_type": "stream",
     "text": [
      "Inferencing on instance 1419\n",
      "1/1 [==============================] - 0s 35ms/step\n",
      "Online training on instance 1419\n",
      "1/1 - 0s - loss: 0.2480 - binary_accuracy: 1.0000 - 25ms/epoch - 25ms/step\n"
     ]
    },
    {
     "name": "stderr",
     "output_type": "stream",
     "text": [
      "100%|█████████▉| 1420/1425 [04:58<00:01,  4.40it/s]"
     ]
    },
    {
     "name": "stdout",
     "output_type": "stream",
     "text": [
      "Inferencing on instance 1420\n",
      "1/1 [==============================] - 0s 40ms/step\n",
      "Online training on instance 1420\n",
      "1/1 - 0s - loss: 0.2818 - binary_accuracy: 1.0000 - 18ms/epoch - 18ms/step\n"
     ]
    },
    {
     "name": "stderr",
     "output_type": "stream",
     "text": [
      "100%|█████████▉| 1421/1425 [04:58<00:00,  4.47it/s]"
     ]
    },
    {
     "name": "stdout",
     "output_type": "stream",
     "text": [
      "Inferencing on instance 1421\n",
      "1/1 [==============================] - 0s 34ms/step\n",
      "Online training on instance 1421\n",
      "1/1 - 0s - loss: 0.2498 - binary_accuracy: 1.0000 - 19ms/epoch - 19ms/step\n"
     ]
    },
    {
     "name": "stderr",
     "output_type": "stream",
     "text": [
      "100%|█████████▉| 1422/1425 [04:58<00:00,  4.65it/s]"
     ]
    },
    {
     "name": "stdout",
     "output_type": "stream",
     "text": [
      "Inferencing on instance 1422\n",
      "1/1 [==============================] - 0s 40ms/step\n",
      "Online training on instance 1422\n",
      "1/1 - 0s - loss: 0.2560 - binary_accuracy: 1.0000 - 23ms/epoch - 23ms/step\n"
     ]
    },
    {
     "name": "stderr",
     "output_type": "stream",
     "text": [
      "100%|█████████▉| 1423/1425 [04:59<00:00,  4.53it/s]"
     ]
    },
    {
     "name": "stdout",
     "output_type": "stream",
     "text": [
      "Inferencing on instance 1423\n",
      "1/1 [==============================] - 0s 38ms/step\n",
      "Online training on instance 1423\n",
      "1/1 - 0s - loss: 0.2525 - binary_accuracy: 1.0000 - 19ms/epoch - 19ms/step\n"
     ]
    },
    {
     "name": "stderr",
     "output_type": "stream",
     "text": [
      "100%|█████████▉| 1424/1425 [04:59<00:00,  4.47it/s]"
     ]
    },
    {
     "name": "stdout",
     "output_type": "stream",
     "text": [
      "Inferencing on instance 1424\n",
      "1/1 [==============================] - 0s 47ms/step\n",
      "Online training on instance 1424\n",
      "1/1 - 0s - loss: 0.2397 - binary_accuracy: 1.0000 - 16ms/epoch - 16ms/step\n"
     ]
    },
    {
     "name": "stderr",
     "output_type": "stream",
     "text": [
      "100%|██████████| 1425/1425 [04:59<00:00,  4.76it/s]"
     ]
    },
    {
     "name": "stdout",
     "output_type": "stream",
     "text": [
      "Model saved as model_20231125_015548.h5\n"
     ]
    },
    {
     "name": "stderr",
     "output_type": "stream",
     "text": [
      "\n"
     ]
    }
   ],
   "source": [
    "model_wrapper = Model()\n",
    "model, history, y_preds, online_training_losses, online_training_acc = \\\n",
    "    model_wrapper.run(params['model_type'], params['look_back'], params['model_params'],\n",
    "                        X_train, y_train, X_test, y_test)\n"
   ]
  },
  {
   "cell_type": "code",
   "execution_count": 4,
   "metadata": {},
   "outputs": [],
   "source": [
    "postprocessor = Postprocesser()\n",
    "test_trade_signals = postprocessor.process_signals(y_test, test_dates)\n",
    "pred_trade_signals = postprocessor.process_signals(y_preds, test_dates)\n"
   ]
  },
  {
   "cell_type": "code",
   "execution_count": 7,
   "metadata": {},
   "outputs": [
    {
     "data": {
      "text/html": [
       "<div>\n",
       "<style scoped>\n",
       "    .dataframe tbody tr th:only-of-type {\n",
       "        vertical-align: middle;\n",
       "    }\n",
       "\n",
       "    .dataframe tbody tr th {\n",
       "        vertical-align: top;\n",
       "    }\n",
       "\n",
       "    .dataframe thead th {\n",
       "        text-align: right;\n",
       "    }\n",
       "</style>\n",
       "<table border=\"1\" class=\"dataframe\">\n",
       "  <thead>\n",
       "    <tr style=\"text-align: right;\">\n",
       "      <th></th>\n",
       "      <th>Date</th>\n",
       "      <th>Signal</th>\n",
       "    </tr>\n",
       "  </thead>\n",
       "  <tbody>\n",
       "    <tr>\n",
       "      <th>0</th>\n",
       "      <td>2015-04-16</td>\n",
       "      <td></td>\n",
       "    </tr>\n",
       "    <tr>\n",
       "      <th>1</th>\n",
       "      <td>2015-04-17</td>\n",
       "      <td></td>\n",
       "    </tr>\n",
       "    <tr>\n",
       "      <th>2</th>\n",
       "      <td>2015-04-20</td>\n",
       "      <td></td>\n",
       "    </tr>\n",
       "    <tr>\n",
       "      <th>3</th>\n",
       "      <td>2015-04-21</td>\n",
       "      <td></td>\n",
       "    </tr>\n",
       "    <tr>\n",
       "      <th>4</th>\n",
       "      <td>2015-04-22</td>\n",
       "      <td></td>\n",
       "    </tr>\n",
       "    <tr>\n",
       "      <th>...</th>\n",
       "      <td>...</td>\n",
       "      <td>...</td>\n",
       "    </tr>\n",
       "    <tr>\n",
       "      <th>22795</th>\n",
       "      <td>2020-12-24</td>\n",
       "      <td></td>\n",
       "    </tr>\n",
       "    <tr>\n",
       "      <th>22796</th>\n",
       "      <td>2020-12-28</td>\n",
       "      <td></td>\n",
       "    </tr>\n",
       "    <tr>\n",
       "      <th>22797</th>\n",
       "      <td>2020-12-29</td>\n",
       "      <td></td>\n",
       "    </tr>\n",
       "    <tr>\n",
       "      <th>22798</th>\n",
       "      <td>2020-12-30</td>\n",
       "      <td></td>\n",
       "    </tr>\n",
       "    <tr>\n",
       "      <th>22799</th>\n",
       "      <td>2020-12-31</td>\n",
       "      <td></td>\n",
       "    </tr>\n",
       "  </tbody>\n",
       "</table>\n",
       "<p>22800 rows × 2 columns</p>\n",
       "</div>"
      ],
      "text/plain": [
       "            Date Signal\n",
       "0     2015-04-16       \n",
       "1     2015-04-17       \n",
       "2     2015-04-20       \n",
       "3     2015-04-21       \n",
       "4     2015-04-22       \n",
       "...          ...    ...\n",
       "22795 2020-12-24       \n",
       "22796 2020-12-28       \n",
       "22797 2020-12-29       \n",
       "22798 2020-12-30       \n",
       "22799 2020-12-31       \n",
       "\n",
       "[22800 rows x 2 columns]"
      ]
     },
     "execution_count": 7,
     "metadata": {},
     "output_type": "execute_result"
    }
   ],
   "source": [
    "test_trade_signals"
   ]
  },
  {
   "cell_type": "code",
   "execution_count": 8,
   "metadata": {},
   "outputs": [
    {
     "data": {
      "text/html": [
       "<div>\n",
       "<style scoped>\n",
       "    .dataframe tbody tr th:only-of-type {\n",
       "        vertical-align: middle;\n",
       "    }\n",
       "\n",
       "    .dataframe tbody tr th {\n",
       "        vertical-align: top;\n",
       "    }\n",
       "\n",
       "    .dataframe thead th {\n",
       "        text-align: right;\n",
       "    }\n",
       "</style>\n",
       "<table border=\"1\" class=\"dataframe\">\n",
       "  <thead>\n",
       "    <tr style=\"text-align: right;\">\n",
       "      <th></th>\n",
       "      <th>Date</th>\n",
       "      <th>Signal</th>\n",
       "    </tr>\n",
       "  </thead>\n",
       "  <tbody>\n",
       "    <tr>\n",
       "      <th>0</th>\n",
       "      <td>2015-04-16</td>\n",
       "      <td></td>\n",
       "    </tr>\n",
       "    <tr>\n",
       "      <th>1</th>\n",
       "      <td>2015-04-17</td>\n",
       "      <td></td>\n",
       "    </tr>\n",
       "    <tr>\n",
       "      <th>2</th>\n",
       "      <td>2015-04-20</td>\n",
       "      <td></td>\n",
       "    </tr>\n",
       "    <tr>\n",
       "      <th>3</th>\n",
       "      <td>2015-04-21</td>\n",
       "      <td></td>\n",
       "    </tr>\n",
       "    <tr>\n",
       "      <th>4</th>\n",
       "      <td>2015-04-22</td>\n",
       "      <td></td>\n",
       "    </tr>\n",
       "    <tr>\n",
       "      <th>...</th>\n",
       "      <td>...</td>\n",
       "      <td>...</td>\n",
       "    </tr>\n",
       "    <tr>\n",
       "      <th>22795</th>\n",
       "      <td>2020-12-24</td>\n",
       "      <td></td>\n",
       "    </tr>\n",
       "    <tr>\n",
       "      <th>22796</th>\n",
       "      <td>2020-12-28</td>\n",
       "      <td></td>\n",
       "    </tr>\n",
       "    <tr>\n",
       "      <th>22797</th>\n",
       "      <td>2020-12-29</td>\n",
       "      <td></td>\n",
       "    </tr>\n",
       "    <tr>\n",
       "      <th>22798</th>\n",
       "      <td>2020-12-30</td>\n",
       "      <td></td>\n",
       "    </tr>\n",
       "    <tr>\n",
       "      <th>22799</th>\n",
       "      <td>2020-12-31</td>\n",
       "      <td></td>\n",
       "    </tr>\n",
       "  </tbody>\n",
       "</table>\n",
       "<p>22800 rows × 2 columns</p>\n",
       "</div>"
      ],
      "text/plain": [
       "            Date Signal\n",
       "0     2015-04-16       \n",
       "1     2015-04-17       \n",
       "2     2015-04-20       \n",
       "3     2015-04-21       \n",
       "4     2015-04-22       \n",
       "...          ...    ...\n",
       "22795 2020-12-24       \n",
       "22796 2020-12-28       \n",
       "22797 2020-12-29       \n",
       "22798 2020-12-30       \n",
       "22799 2020-12-31       \n",
       "\n",
       "[22800 rows x 2 columns]"
      ]
     },
     "execution_count": 8,
     "metadata": {},
     "output_type": "execute_result"
    }
   ],
   "source": [
    "pred_trade_signals"
   ]
  },
  {
   "cell_type": "code",
   "execution_count": 5,
   "metadata": {},
   "outputs": [
    {
     "name": "stdout",
     "output_type": "stream",
     "text": [
      "Average Precision: 0.7287148132575697\n",
      "Average Recall: 0.5798829654805864\n",
      "Average Accuracy: 0.7327631578947369\n",
      "Average F1 Score: 0.568817271446863\n"
     ]
    },
    {
     "data": {
      "image/png": "[encoded data removed]",
      "text/plain": [
       "<Figure size 640x480 with 2 Axes>"
      ]
     },
     "metadata": {},
     "output_type": "display_data"
    },
    {
     "data": {
      "image/png": "[encoded data removed]",
      "text/plain": [
       "<Figure size 1200x400 with 2 Axes>"
      ]
     },
     "metadata": {},
     "output_type": "display_data"
    },
    {
     "data": {
      "image/png": "[encoded data removed]",
      "text/plain": [
       "<Figure size 1200x400 with 2 Axes>"
      ]
     },
     "metadata": {},
     "output_type": "display_data"
    },
    {
     "name": "stdout",
     "output_type": "stream",
     "text": [
      "Final Portfolio Value:  -13006.897318969694\n",
      "Sharpe Ratio:  OrderedDict([('sharperatio', 0.1978793990540935)])\n",
      "Drawdown Info:  AutoOrderedDict([('len', 1325), ('drawdown', 223.63318684601268), ('moneydown', 23527.45223693845), ('max', AutoOrderedDict([('len', 1325), ('drawdown', 227.3770738770036), ('moneydown', 23921.32992810056)]))])\n",
      "Trade Analysis:  AutoOrderedDict([('total', AutoOrderedDict([('total', 5), ('open', 1), ('closed', 4)])), ('streak', AutoOrderedDict([('won', AutoOrderedDict([('current', 0), ('longest', 0)])), ('lost', AutoOrderedDict([('current', 4), ('longest', 4)]))])), ('pnl', AutoOrderedDict([('gross', AutoOrderedDict([('total', -3502.8499755859466), ('average', -875.7124938964866)])), ('net', AutoOrderedDict([('total', -3669.5860255127045), ('average', -917.3965063781761)]))])), ('won', AutoOrderedDict([('total', 0), ('pnl', AutoOrderedDict([('total', 0.0), ('average', 0.0), ('max', 0.0)]))])), ('lost', AutoOrderedDict([('total', 4), ('pnl', AutoOrderedDict([('total', -3669.5860255127045), ('average', -917.3965063781761), ('max', -2851.8457935791052)]))])), ('long', AutoOrderedDict([('total', 2), ('pnl', AutoOrderedDict([('total', -733.4277138671875), ('average', -366.7138569335938), ('won', AutoOrderedDict([('total', 0.0), ('average', 0.0), ('max', 0.0)])), ('lost', AutoOrderedDict([('total', -733.4277138671875), ('average', -366.7138569335938), ('max', -608.7054782714844)]))])), ('won', 0), ('lost', 2)])), ('short', AutoOrderedDict([('total', 2), ('pnl', AutoOrderedDict([('total', -2936.1583116455167), ('average', -1468.0791558227584), ('won', AutoOrderedDict([('total', 0.0), ('average', 0.0), ('max', 0.0)])), ('lost', AutoOrderedDict([('total', -2936.1583116455167), ('average', -1468.0791558227584), ('max', -2851.8457935791052)]))])), ('won', 0), ('lost', 2)])), ('len', AutoOrderedDict([('total', 140), ('average', 35.0), ('max', 81), ('min', 5), ('won', AutoOrderedDict([('total', 0), ('average', 0.0), ('max', 0)])), ('lost', AutoOrderedDict([('total', 140), ('average', 35.0), ('max', 81), ('min', 5)])), ('long', AutoOrderedDict([('total', 17), ('average', 8.5), ('max', 12), ('min', 5), ('won', AutoOrderedDict([('total', 0), ('average', 0.0), ('max', 0), ('min', 9223372036854775807)])), ('lost', AutoOrderedDict([('total', 17), ('average', 8.5), ('max', 12), ('min', 5)]))])), ('short', AutoOrderedDict([('total', 123), ('average', 61.5), ('max', 81), ('min', 42), ('won', AutoOrderedDict([('total', 0), ('average', 0.0), ('max', 0), ('min', 9223372036854775807)])), ('lost', AutoOrderedDict([('total', 123), ('average', 61.5), ('max', 81), ('min', 42)]))]))]))])\n"
     ]
    }
   ],
   "source": [
    "evaluator = Evaluator()\n",
    "evaluator.analyze_results(y_test, y_preds, history,\n",
    "                            online_training_acc, online_training_losses)\n",
    "backtest_results = evaluator.perform_backtesting(\n",
    "    data, pred_trade_signals)\n"
   ]
  }
 ],
 "metadata": {
  "kernelspec": {
   "display_name": "myenv",
   "language": "python",
   "name": "python3"
  },
  "language_info": {
   "codemirror_mode": {
    "name": "ipython",
    "version": 3
   },
   "file_extension": ".py",
   "mimetype": "text/x-python",
   "name": "python",
   "nbconvert_exporter": "python",
   "pygments_lexer": "ipython3",
   "version": "3.10.7"
  }
 },
 "nbformat": 4,
 "nbformat_minor": 2
}
